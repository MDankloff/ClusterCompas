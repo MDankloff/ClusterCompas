{
  "nbformat": 4,
  "nbformat_minor": 0,
  "metadata": {
    "colab": {
      "provenance": [],
      "mount_file_id": "1uQbJjO1V-LDh0ub5OxexCJqHCr8Wg85B",
      "authorship_tag": "ABX9TyOxSjAawM3Lrw6Vu7PRVI/4",
      "include_colab_link": true
    },
    "kernelspec": {
      "name": "python3",
      "display_name": "Python 3"
    },
    "language_info": {
      "name": "python"
    }
  },
  "cells": [
    {
      "cell_type": "markdown",
      "metadata": {
        "id": "view-in-github",
        "colab_type": "text"
      },
      "source": [
        "<a href=\"https://colab.research.google.com/github/MDankloff/ClusterCompas/blob/main/COMPAS_data_inspection.ipynb\" target=\"_parent\"><img src=\"https://colab.research.google.com/assets/colab-badge.svg\" alt=\"Open In Colab\"/></a>"
      ]
    },
    {
      "cell_type": "code",
      "execution_count": 1,
      "source": [
        "import numpy as np\n",
        "import pandas as pd\n",
        "import matplotlib.pyplot as plt\n",
        "import seaborn as sns\n",
        "from sklearn.metrics import accuracy_score, confusion_matrix, roc_auc_score, roc_curve\n",
        "from sklearn.model_selection import train_test_split\n",
        "from sklearn.ensemble import RandomForestClassifier\n",
        "import warnings\n",
        "warnings.filterwarnings(\"ignore\")\n",
        "import os\n",
        "\n",
        "# Specify the directory path\n",
        "directory_path = '//Users/mirthedankloff/Documents/XAI_Bias_Error/COMPAS'\n",
        "\n",
        "# Traverse the directory and print the names of all files\n",
        "for dirname, _, filenames in os.walk(directory_path):\n",
        "    for filename in filenames:\n",
        "        print(os.path.join(dirname, filename))\n"
      ],
      "outputs": [],
      "metadata": {
        "id": "38DKEHMzpE5N"
      }
    },
    {
      "cell_type": "markdown",
      "source": [
        "LOAD COMPAS data"
      ],
      "metadata": {
        "id": "UzPRoaiBYtI5"
      }
    },
    {
      "cell_type": "code",
      "source": [
        "compas_s = pd.read_csv(\"/content/final_preprocessed_compas(2).csv\")\n",
        "ofercompas = pd.read_csv(\"/content/propublica_data_for_fairml.csv\")\n",
        "originalcompas = pd.read_csv(\"/content/compas-scores-two-years-violent.csv\")\n",
        "cox_violent_filt = pd.read_csv('/content/cox-violent-parsed_filt.csv')"
      ],
      "metadata": {
        "id": "31swZk8rY49a"
      },
      "execution_count": 2,
      "outputs": []
    },
    {
      "cell_type": "code",
      "source": [
        "target = \"Two_yr_Recidivism\"\n",
        "X = ofercompas.drop([target],axis=1)\n",
        "Y = ofercompas[target]\n",
        "age = originalcompas['age']"
      ],
      "metadata": {
        "id": "lvcGzd45bCok"
      },
      "execution_count": 3,
      "outputs": []
    },
    {
      "cell_type": "markdown",
      "source": [
        "TRAIN  Model"
      ],
      "metadata": {
        "id": "LtLNwji9c59E"
      }
    },
    {
      "cell_type": "code",
      "source": [
        "X_train, X_test, Y_train, Y_test = train_test_split(X, Y, test_size = 0.3, shuffle = True, stratify = Y)\n",
        "\n",
        "model = RandomForestClassifier()\n",
        "model.fit(X_train, Y_train)\n",
        "\n",
        "#predictions\n",
        "Yhat = model.predict(X_test)\n",
        "len(Yhat)\n"
      ],
      "metadata": {
        "colab": {
          "base_uri": "https://localhost:8080/"
        },
        "id": "5XNgT6Hcc5dL",
        "outputId": "27d76b40-9924-4b73-bc95-dcff763ca4a3"
      },
      "execution_count": 4,
      "outputs": [
        {
          "output_type": "execute_result",
          "data": {
            "text/plain": [
              "1852"
            ]
          },
          "metadata": {},
          "execution_count": 4
        }
      ]
    },
    {
      "cell_type": "markdown",
      "source": [
        "COLLECT the errors"
      ],
      "metadata": {
        "id": "yfpE0rTSd96H"
      }
    },
    {
      "cell_type": "code",
      "source": [
        "predictions = pd.DataFrame()\n",
        "predictions['predicted_class'] = Yhat.tolist()\n",
        "predictions = predictions.set_index(X_test.index)\n",
        "predictions['true_class'] = Y_test\n",
        "\n",
        "#accuracy\n",
        "accuracy = accuracy_score(predictions['true_class'], predictions['predicted_class'])\n",
        "print(f\"Accuracy: {accuracy:.4f}\")\n",
        "\n",
        "#confusion matrix\n",
        "cm = confusion_matrix(predictions['true_class'], predictions['predicted_class'])\n",
        "print(cm)\n",
        "\n"
      ],
      "metadata": {
        "colab": {
          "base_uri": "https://localhost:8080/"
        },
        "id": "r5ex544tgsZm",
        "outputId": "9982b305-44b3-4289-87d0-8658ed680497"
      },
      "execution_count": 5,
      "outputs": [
        {
          "output_type": "stream",
          "name": "stdout",
          "text": [
            "Accuracy: 0.6469\n",
            "[[726 283]\n",
            " [371 472]]\n"
          ]
        }
      ]
    },
    {
      "cell_type": "code",
      "source": [
        "predictions['errors'] = abs(predictions['predicted_class'] - predictions['true_class'])\n",
        "predictions['errors'] = predictions['errors'].replace(2.0, 1.0)\n",
        "\n",
        "\n",
        "data_pred = X_test.merge(predictions, how= 'outer', left_index = True, right_index = True)\n",
        "\n",
        "errors = data_pred['errors']\n",
        "ofercompas_out = data_pred.drop(['predicted_class', 'true_class', 'errors'], axis=1)\n",
        "\n",
        "display(data_pred.columns)\n",
        "print(len(data_pred))\n",
        "data_pred[data_pred['errors']==1]"
      ],
      "metadata": {
        "colab": {
          "base_uri": "https://localhost:8080/",
          "height": 534
        },
        "id": "nWCB4bUmDaZm",
        "outputId": "4621b4ee-88f4-4c99-bab6-52fa2cd49a07"
      },
      "execution_count": 6,
      "outputs": [
        {
          "output_type": "display_data",
          "data": {
            "text/plain": [
              "Index(['Number_of_Priors', 'score_factor', 'Age_Above_FourtyFive',\n",
              "       'Age_Below_TwentyFive', 'African_American', 'Asian', 'Hispanic',\n",
              "       'Native_American', 'Other', 'Female', 'Misdemeanor', 'predicted_class',\n",
              "       'true_class', 'errors'],\n",
              "      dtype='object')"
            ]
          },
          "metadata": {}
        },
        {
          "output_type": "stream",
          "name": "stdout",
          "text": [
            "1852\n"
          ]
        },
        {
          "output_type": "execute_result",
          "data": {
            "text/plain": [
              "      Number_of_Priors  score_factor  Age_Above_FourtyFive  \\\n",
              "3327                 1             1                     0   \n",
              "4771                 3             1                     0   \n",
              "6122                 5             1                     1   \n",
              "4614                 0             0                     0   \n",
              "4107                 3             0                     0   \n",
              "...                ...           ...                   ...   \n",
              "3938                 5             0                     0   \n",
              "1580                 1             0                     0   \n",
              "2058                 8             1                     1   \n",
              "4025                 1             0                     0   \n",
              "4028                 0             1                     0   \n",
              "\n",
              "      Age_Below_TwentyFive  African_American  Asian  Hispanic  \\\n",
              "3327                     0                 0      0         0   \n",
              "4771                     0                 0      0         0   \n",
              "6122                     0                 1      0         0   \n",
              "4614                     0                 0      0         0   \n",
              "4107                     0                 1      0         0   \n",
              "...                    ...               ...    ...       ...   \n",
              "3938                     0                 0      0         0   \n",
              "1580                     1                 0      0         0   \n",
              "2058                     0                 1      0         0   \n",
              "4025                     0                 0      0         1   \n",
              "4028                     0                 0      0         0   \n",
              "\n",
              "      Native_American  Other  Female  Misdemeanor  predicted_class  \\\n",
              "3327                0      0       0            0                0   \n",
              "4771                0      0       0            0                1   \n",
              "6122                0      0       0            1                1   \n",
              "4614                0      0       0            0                0   \n",
              "4107                0      0       1            0                0   \n",
              "...               ...    ...     ...          ...              ...   \n",
              "3938                0      0       0            0                0   \n",
              "1580                0      0       0            0                0   \n",
              "2058                0      0       1            0                1   \n",
              "4025                0      0       1            0                0   \n",
              "4028                0      0       0            0                1   \n",
              "\n",
              "      true_class  errors  \n",
              "3327           1       1  \n",
              "4771           0       1  \n",
              "6122           0       1  \n",
              "4614           1       1  \n",
              "4107           1       1  \n",
              "...          ...     ...  \n",
              "3938           1       1  \n",
              "1580           1       1  \n",
              "2058           0       1  \n",
              "4025           1       1  \n",
              "4028           0       1  \n",
              "\n",
              "[654 rows x 14 columns]"
            ],
            "text/html": [
              "\n",
              "  <div id=\"df-4fd4a1bf-39a6-42c4-ba3b-1c34fb0f81a7\" class=\"colab-df-container\">\n",
              "    <div>\n",
              "<style scoped>\n",
              "    .dataframe tbody tr th:only-of-type {\n",
              "        vertical-align: middle;\n",
              "    }\n",
              "\n",
              "    .dataframe tbody tr th {\n",
              "        vertical-align: top;\n",
              "    }\n",
              "\n",
              "    .dataframe thead th {\n",
              "        text-align: right;\n",
              "    }\n",
              "</style>\n",
              "<table border=\"1\" class=\"dataframe\">\n",
              "  <thead>\n",
              "    <tr style=\"text-align: right;\">\n",
              "      <th></th>\n",
              "      <th>Number_of_Priors</th>\n",
              "      <th>score_factor</th>\n",
              "      <th>Age_Above_FourtyFive</th>\n",
              "      <th>Age_Below_TwentyFive</th>\n",
              "      <th>African_American</th>\n",
              "      <th>Asian</th>\n",
              "      <th>Hispanic</th>\n",
              "      <th>Native_American</th>\n",
              "      <th>Other</th>\n",
              "      <th>Female</th>\n",
              "      <th>Misdemeanor</th>\n",
              "      <th>predicted_class</th>\n",
              "      <th>true_class</th>\n",
              "      <th>errors</th>\n",
              "    </tr>\n",
              "  </thead>\n",
              "  <tbody>\n",
              "    <tr>\n",
              "      <th>3327</th>\n",
              "      <td>1</td>\n",
              "      <td>1</td>\n",
              "      <td>0</td>\n",
              "      <td>0</td>\n",
              "      <td>0</td>\n",
              "      <td>0</td>\n",
              "      <td>0</td>\n",
              "      <td>0</td>\n",
              "      <td>0</td>\n",
              "      <td>0</td>\n",
              "      <td>0</td>\n",
              "      <td>0</td>\n",
              "      <td>1</td>\n",
              "      <td>1</td>\n",
              "    </tr>\n",
              "    <tr>\n",
              "      <th>4771</th>\n",
              "      <td>3</td>\n",
              "      <td>1</td>\n",
              "      <td>0</td>\n",
              "      <td>0</td>\n",
              "      <td>0</td>\n",
              "      <td>0</td>\n",
              "      <td>0</td>\n",
              "      <td>0</td>\n",
              "      <td>0</td>\n",
              "      <td>0</td>\n",
              "      <td>0</td>\n",
              "      <td>1</td>\n",
              "      <td>0</td>\n",
              "      <td>1</td>\n",
              "    </tr>\n",
              "    <tr>\n",
              "      <th>6122</th>\n",
              "      <td>5</td>\n",
              "      <td>1</td>\n",
              "      <td>1</td>\n",
              "      <td>0</td>\n",
              "      <td>1</td>\n",
              "      <td>0</td>\n",
              "      <td>0</td>\n",
              "      <td>0</td>\n",
              "      <td>0</td>\n",
              "      <td>0</td>\n",
              "      <td>1</td>\n",
              "      <td>1</td>\n",
              "      <td>0</td>\n",
              "      <td>1</td>\n",
              "    </tr>\n",
              "    <tr>\n",
              "      <th>4614</th>\n",
              "      <td>0</td>\n",
              "      <td>0</td>\n",
              "      <td>0</td>\n",
              "      <td>0</td>\n",
              "      <td>0</td>\n",
              "      <td>0</td>\n",
              "      <td>0</td>\n",
              "      <td>0</td>\n",
              "      <td>0</td>\n",
              "      <td>0</td>\n",
              "      <td>0</td>\n",
              "      <td>0</td>\n",
              "      <td>1</td>\n",
              "      <td>1</td>\n",
              "    </tr>\n",
              "    <tr>\n",
              "      <th>4107</th>\n",
              "      <td>3</td>\n",
              "      <td>0</td>\n",
              "      <td>0</td>\n",
              "      <td>0</td>\n",
              "      <td>1</td>\n",
              "      <td>0</td>\n",
              "      <td>0</td>\n",
              "      <td>0</td>\n",
              "      <td>0</td>\n",
              "      <td>1</td>\n",
              "      <td>0</td>\n",
              "      <td>0</td>\n",
              "      <td>1</td>\n",
              "      <td>1</td>\n",
              "    </tr>\n",
              "    <tr>\n",
              "      <th>...</th>\n",
              "      <td>...</td>\n",
              "      <td>...</td>\n",
              "      <td>...</td>\n",
              "      <td>...</td>\n",
              "      <td>...</td>\n",
              "      <td>...</td>\n",
              "      <td>...</td>\n",
              "      <td>...</td>\n",
              "      <td>...</td>\n",
              "      <td>...</td>\n",
              "      <td>...</td>\n",
              "      <td>...</td>\n",
              "      <td>...</td>\n",
              "      <td>...</td>\n",
              "    </tr>\n",
              "    <tr>\n",
              "      <th>3938</th>\n",
              "      <td>5</td>\n",
              "      <td>0</td>\n",
              "      <td>0</td>\n",
              "      <td>0</td>\n",
              "      <td>0</td>\n",
              "      <td>0</td>\n",
              "      <td>0</td>\n",
              "      <td>0</td>\n",
              "      <td>0</td>\n",
              "      <td>0</td>\n",
              "      <td>0</td>\n",
              "      <td>0</td>\n",
              "      <td>1</td>\n",
              "      <td>1</td>\n",
              "    </tr>\n",
              "    <tr>\n",
              "      <th>1580</th>\n",
              "      <td>1</td>\n",
              "      <td>0</td>\n",
              "      <td>0</td>\n",
              "      <td>1</td>\n",
              "      <td>0</td>\n",
              "      <td>0</td>\n",
              "      <td>0</td>\n",
              "      <td>0</td>\n",
              "      <td>0</td>\n",
              "      <td>0</td>\n",
              "      <td>0</td>\n",
              "      <td>0</td>\n",
              "      <td>1</td>\n",
              "      <td>1</td>\n",
              "    </tr>\n",
              "    <tr>\n",
              "      <th>2058</th>\n",
              "      <td>8</td>\n",
              "      <td>1</td>\n",
              "      <td>1</td>\n",
              "      <td>0</td>\n",
              "      <td>1</td>\n",
              "      <td>0</td>\n",
              "      <td>0</td>\n",
              "      <td>0</td>\n",
              "      <td>0</td>\n",
              "      <td>1</td>\n",
              "      <td>0</td>\n",
              "      <td>1</td>\n",
              "      <td>0</td>\n",
              "      <td>1</td>\n",
              "    </tr>\n",
              "    <tr>\n",
              "      <th>4025</th>\n",
              "      <td>1</td>\n",
              "      <td>0</td>\n",
              "      <td>0</td>\n",
              "      <td>0</td>\n",
              "      <td>0</td>\n",
              "      <td>0</td>\n",
              "      <td>1</td>\n",
              "      <td>0</td>\n",
              "      <td>0</td>\n",
              "      <td>1</td>\n",
              "      <td>0</td>\n",
              "      <td>0</td>\n",
              "      <td>1</td>\n",
              "      <td>1</td>\n",
              "    </tr>\n",
              "    <tr>\n",
              "      <th>4028</th>\n",
              "      <td>0</td>\n",
              "      <td>1</td>\n",
              "      <td>0</td>\n",
              "      <td>0</td>\n",
              "      <td>0</td>\n",
              "      <td>0</td>\n",
              "      <td>0</td>\n",
              "      <td>0</td>\n",
              "      <td>0</td>\n",
              "      <td>0</td>\n",
              "      <td>0</td>\n",
              "      <td>1</td>\n",
              "      <td>0</td>\n",
              "      <td>1</td>\n",
              "    </tr>\n",
              "  </tbody>\n",
              "</table>\n",
              "<p>654 rows × 14 columns</p>\n",
              "</div>\n",
              "    <div class=\"colab-df-buttons\">\n",
              "\n",
              "  <div class=\"colab-df-container\">\n",
              "    <button class=\"colab-df-convert\" onclick=\"convertToInteractive('df-4fd4a1bf-39a6-42c4-ba3b-1c34fb0f81a7')\"\n",
              "            title=\"Convert this dataframe to an interactive table.\"\n",
              "            style=\"display:none;\">\n",
              "\n",
              "  <svg xmlns=\"http://www.w3.org/2000/svg\" height=\"24px\" viewBox=\"0 -960 960 960\">\n",
              "    <path d=\"M120-120v-720h720v720H120Zm60-500h600v-160H180v160Zm220 220h160v-160H400v160Zm0 220h160v-160H400v160ZM180-400h160v-160H180v160Zm440 0h160v-160H620v160ZM180-180h160v-160H180v160Zm440 0h160v-160H620v160Z\"/>\n",
              "  </svg>\n",
              "    </button>\n",
              "\n",
              "  <style>\n",
              "    .colab-df-container {\n",
              "      display:flex;\n",
              "      gap: 12px;\n",
              "    }\n",
              "\n",
              "    .colab-df-convert {\n",
              "      background-color: #E8F0FE;\n",
              "      border: none;\n",
              "      border-radius: 50%;\n",
              "      cursor: pointer;\n",
              "      display: none;\n",
              "      fill: #1967D2;\n",
              "      height: 32px;\n",
              "      padding: 0 0 0 0;\n",
              "      width: 32px;\n",
              "    }\n",
              "\n",
              "    .colab-df-convert:hover {\n",
              "      background-color: #E2EBFA;\n",
              "      box-shadow: 0px 1px 2px rgba(60, 64, 67, 0.3), 0px 1px 3px 1px rgba(60, 64, 67, 0.15);\n",
              "      fill: #174EA6;\n",
              "    }\n",
              "\n",
              "    .colab-df-buttons div {\n",
              "      margin-bottom: 4px;\n",
              "    }\n",
              "\n",
              "    [theme=dark] .colab-df-convert {\n",
              "      background-color: #3B4455;\n",
              "      fill: #D2E3FC;\n",
              "    }\n",
              "\n",
              "    [theme=dark] .colab-df-convert:hover {\n",
              "      background-color: #434B5C;\n",
              "      box-shadow: 0px 1px 3px 1px rgba(0, 0, 0, 0.15);\n",
              "      filter: drop-shadow(0px 1px 2px rgba(0, 0, 0, 0.3));\n",
              "      fill: #FFFFFF;\n",
              "    }\n",
              "  </style>\n",
              "\n",
              "    <script>\n",
              "      const buttonEl =\n",
              "        document.querySelector('#df-4fd4a1bf-39a6-42c4-ba3b-1c34fb0f81a7 button.colab-df-convert');\n",
              "      buttonEl.style.display =\n",
              "        google.colab.kernel.accessAllowed ? 'block' : 'none';\n",
              "\n",
              "      async function convertToInteractive(key) {\n",
              "        const element = document.querySelector('#df-4fd4a1bf-39a6-42c4-ba3b-1c34fb0f81a7');\n",
              "        const dataTable =\n",
              "          await google.colab.kernel.invokeFunction('convertToInteractive',\n",
              "                                                    [key], {});\n",
              "        if (!dataTable) return;\n",
              "\n",
              "        const docLinkHtml = 'Like what you see? Visit the ' +\n",
              "          '<a target=\"_blank\" href=https://colab.research.google.com/notebooks/data_table.ipynb>data table notebook</a>'\n",
              "          + ' to learn more about interactive tables.';\n",
              "        element.innerHTML = '';\n",
              "        dataTable['output_type'] = 'display_data';\n",
              "        await google.colab.output.renderOutput(dataTable, element);\n",
              "        const docLink = document.createElement('div');\n",
              "        docLink.innerHTML = docLinkHtml;\n",
              "        element.appendChild(docLink);\n",
              "      }\n",
              "    </script>\n",
              "  </div>\n",
              "\n",
              "\n",
              "<div id=\"df-56c06e57-fd03-4c00-ae57-ead202326869\">\n",
              "  <button class=\"colab-df-quickchart\" onclick=\"quickchart('df-56c06e57-fd03-4c00-ae57-ead202326869')\"\n",
              "            title=\"Suggest charts\"\n",
              "            style=\"display:none;\">\n",
              "\n",
              "<svg xmlns=\"http://www.w3.org/2000/svg\" height=\"24px\"viewBox=\"0 0 24 24\"\n",
              "     width=\"24px\">\n",
              "    <g>\n",
              "        <path d=\"M19 3H5c-1.1 0-2 .9-2 2v14c0 1.1.9 2 2 2h14c1.1 0 2-.9 2-2V5c0-1.1-.9-2-2-2zM9 17H7v-7h2v7zm4 0h-2V7h2v10zm4 0h-2v-4h2v4z\"/>\n",
              "    </g>\n",
              "</svg>\n",
              "  </button>\n",
              "\n",
              "<style>\n",
              "  .colab-df-quickchart {\n",
              "      --bg-color: #E8F0FE;\n",
              "      --fill-color: #1967D2;\n",
              "      --hover-bg-color: #E2EBFA;\n",
              "      --hover-fill-color: #174EA6;\n",
              "      --disabled-fill-color: #AAA;\n",
              "      --disabled-bg-color: #DDD;\n",
              "  }\n",
              "\n",
              "  [theme=dark] .colab-df-quickchart {\n",
              "      --bg-color: #3B4455;\n",
              "      --fill-color: #D2E3FC;\n",
              "      --hover-bg-color: #434B5C;\n",
              "      --hover-fill-color: #FFFFFF;\n",
              "      --disabled-bg-color: #3B4455;\n",
              "      --disabled-fill-color: #666;\n",
              "  }\n",
              "\n",
              "  .colab-df-quickchart {\n",
              "    background-color: var(--bg-color);\n",
              "    border: none;\n",
              "    border-radius: 50%;\n",
              "    cursor: pointer;\n",
              "    display: none;\n",
              "    fill: var(--fill-color);\n",
              "    height: 32px;\n",
              "    padding: 0;\n",
              "    width: 32px;\n",
              "  }\n",
              "\n",
              "  .colab-df-quickchart:hover {\n",
              "    background-color: var(--hover-bg-color);\n",
              "    box-shadow: 0 1px 2px rgba(60, 64, 67, 0.3), 0 1px 3px 1px rgba(60, 64, 67, 0.15);\n",
              "    fill: var(--button-hover-fill-color);\n",
              "  }\n",
              "\n",
              "  .colab-df-quickchart-complete:disabled,\n",
              "  .colab-df-quickchart-complete:disabled:hover {\n",
              "    background-color: var(--disabled-bg-color);\n",
              "    fill: var(--disabled-fill-color);\n",
              "    box-shadow: none;\n",
              "  }\n",
              "\n",
              "  .colab-df-spinner {\n",
              "    border: 2px solid var(--fill-color);\n",
              "    border-color: transparent;\n",
              "    border-bottom-color: var(--fill-color);\n",
              "    animation:\n",
              "      spin 1s steps(1) infinite;\n",
              "  }\n",
              "\n",
              "  @keyframes spin {\n",
              "    0% {\n",
              "      border-color: transparent;\n",
              "      border-bottom-color: var(--fill-color);\n",
              "      border-left-color: var(--fill-color);\n",
              "    }\n",
              "    20% {\n",
              "      border-color: transparent;\n",
              "      border-left-color: var(--fill-color);\n",
              "      border-top-color: var(--fill-color);\n",
              "    }\n",
              "    30% {\n",
              "      border-color: transparent;\n",
              "      border-left-color: var(--fill-color);\n",
              "      border-top-color: var(--fill-color);\n",
              "      border-right-color: var(--fill-color);\n",
              "    }\n",
              "    40% {\n",
              "      border-color: transparent;\n",
              "      border-right-color: var(--fill-color);\n",
              "      border-top-color: var(--fill-color);\n",
              "    }\n",
              "    60% {\n",
              "      border-color: transparent;\n",
              "      border-right-color: var(--fill-color);\n",
              "    }\n",
              "    80% {\n",
              "      border-color: transparent;\n",
              "      border-right-color: var(--fill-color);\n",
              "      border-bottom-color: var(--fill-color);\n",
              "    }\n",
              "    90% {\n",
              "      border-color: transparent;\n",
              "      border-bottom-color: var(--fill-color);\n",
              "    }\n",
              "  }\n",
              "</style>\n",
              "\n",
              "  <script>\n",
              "    async function quickchart(key) {\n",
              "      const quickchartButtonEl =\n",
              "        document.querySelector('#' + key + ' button');\n",
              "      quickchartButtonEl.disabled = true;  // To prevent multiple clicks.\n",
              "      quickchartButtonEl.classList.add('colab-df-spinner');\n",
              "      try {\n",
              "        const charts = await google.colab.kernel.invokeFunction(\n",
              "            'suggestCharts', [key], {});\n",
              "      } catch (error) {\n",
              "        console.error('Error during call to suggestCharts:', error);\n",
              "      }\n",
              "      quickchartButtonEl.classList.remove('colab-df-spinner');\n",
              "      quickchartButtonEl.classList.add('colab-df-quickchart-complete');\n",
              "    }\n",
              "    (() => {\n",
              "      let quickchartButtonEl =\n",
              "        document.querySelector('#df-56c06e57-fd03-4c00-ae57-ead202326869 button');\n",
              "      quickchartButtonEl.style.display =\n",
              "        google.colab.kernel.accessAllowed ? 'block' : 'none';\n",
              "    })();\n",
              "  </script>\n",
              "</div>\n",
              "    </div>\n",
              "  </div>\n"
            ]
          },
          "metadata": {},
          "execution_count": 6
        }
      ]
    },
    {
      "cell_type": "markdown",
      "source": [
        "Selecting 4 labels (FP, FN, TP, TN)"
      ],
      "metadata": {
        "id": "0VD7Jrf5ahLK"
      }
    },
    {
      "cell_type": "code",
      "source": [
        "def get_error_type(row):\n",
        "    true_class = row['true_class']\n",
        "    predicted_class = row['predicted_class']\n",
        "\n",
        "    if true_class == predicted_class and true_class == 1:\n",
        "        row['TP'] = 1\n",
        "        row['TN'] = 0\n",
        "        row['FN'] = 0\n",
        "        row['FP'] = 0\n",
        "    elif true_class == predicted_class and true_class == 0:\n",
        "        row['TP'] = 0\n",
        "        row['TN'] = 1\n",
        "        row['FN'] = 0\n",
        "        row['FP'] = 0\n",
        "    elif true_class != predicted_class and true_class == 1:\n",
        "        row['TP'] = 0\n",
        "        row['TN'] = 0\n",
        "        row['FN'] = 1\n",
        "        row['FP'] = 0\n",
        "    elif true_class != predicted_class and true_class == 0:\n",
        "        row['TP'] = 0\n",
        "        row['TN'] = 0\n",
        "        row['FN'] = 0\n",
        "        row['FP'] = 1\n",
        "\n",
        "    return row\n",
        "\n",
        "#apply function to rows in data\n",
        "data_pred = data_pred.apply(get_error_type, axis=1)\n",
        "\n",
        "#print(data_pred.columns)\n",
        "print(data_pred)"
      ],
      "metadata": {
        "colab": {
          "base_uri": "https://localhost:8080/"
        },
        "id": "dej_TSFCaoc9",
        "outputId": "9c3b53d8-4367-4209-dfc7-87cd87c36518"
      },
      "execution_count": 7,
      "outputs": [
        {
          "output_type": "stream",
          "name": "stdout",
          "text": [
            "      Number_of_Priors  score_factor  Age_Above_FourtyFive  \\\n",
            "2801                 0             0                     0   \n",
            "3327                 1             1                     0   \n",
            "1035                 1             0                     0   \n",
            "4771                 3             1                     0   \n",
            "1000                11             1                     0   \n",
            "...                ...           ...                   ...   \n",
            "4266                 0             0                     0   \n",
            "4025                 1             0                     0   \n",
            "2022                 0             1                     1   \n",
            "3451                 8             1                     0   \n",
            "4028                 0             1                     0   \n",
            "\n",
            "      Age_Below_TwentyFive  African_American  Asian  Hispanic  \\\n",
            "2801                     0                 1      0         0   \n",
            "3327                     0                 0      0         0   \n",
            "1035                     0                 0      0         0   \n",
            "4771                     0                 0      0         0   \n",
            "1000                     0                 0      0         0   \n",
            "...                    ...               ...    ...       ...   \n",
            "4266                     0                 0      0         0   \n",
            "4025                     0                 0      0         1   \n",
            "2022                     0                 0      0         0   \n",
            "3451                     0                 1      0         0   \n",
            "4028                     0                 0      0         0   \n",
            "\n",
            "      Native_American  Other  Female  Misdemeanor  predicted_class  \\\n",
            "2801                0      0       0            0                0   \n",
            "3327                0      0       0            0                0   \n",
            "1035                0      0       1            1                0   \n",
            "4771                0      0       0            0                1   \n",
            "1000                0      0       1            0                1   \n",
            "...               ...    ...     ...          ...              ...   \n",
            "4266                0      1       0            1                0   \n",
            "4025                0      0       1            0                0   \n",
            "2022                0      0       0            0                0   \n",
            "3451                0      0       0            1                1   \n",
            "4028                0      0       0            0                1   \n",
            "\n",
            "      true_class  errors  TP  TN  FN  FP  \n",
            "2801           0       0   0   1   0   0  \n",
            "3327           1       1   0   0   1   0  \n",
            "1035           0       0   0   1   0   0  \n",
            "4771           0       1   0   0   0   1  \n",
            "1000           1       0   1   0   0   0  \n",
            "...          ...     ...  ..  ..  ..  ..  \n",
            "4266           0       0   0   1   0   0  \n",
            "4025           1       1   0   0   1   0  \n",
            "2022           0       0   0   1   0   0  \n",
            "3451           1       0   1   0   0   0  \n",
            "4028           0       1   0   0   0   1  \n",
            "\n",
            "[1852 rows x 18 columns]\n"
          ]
        }
      ]
    },
    {
      "cell_type": "markdown",
      "source": [
        "Scatterplot 4 labels (TP, FP, FN, TN) --> discrete variable problem. Scatterplotted on cox_violent_parsed_filt dataset"
      ],
      "metadata": {
        "id": "O0W-m_Rsao6u"
      }
    },
    {
      "cell_type": "code",
      "source": [
        "display(cox_violent_filt.columns)\n",
        "d = cox_violent_filt.groupby('age').agg({'is_recid':'mean'})\n",
        "#d = cox_violent_filt.groupby('age').agg({'FP'})\n",
        "\n",
        "sns.scatterplot(data=d);\n",
        "plt.ylim(0,1);\n",
        "plt.ylabel('Recidivism rate')\n",
        "plt.xlabel('age')\n"
      ],
      "metadata": {
        "colab": {
          "base_uri": "https://localhost:8080/",
          "height": 675
        },
        "id": "WXPpDuEAv-Xx",
        "outputId": "a1a005fc-4275-4e18-c25d-465de6356cd7"
      },
      "execution_count": 8,
      "outputs": [
        {
          "output_type": "display_data",
          "data": {
            "text/plain": [
              "Index(['id', 'name', 'first', 'last', 'sex', 'dob', 'age', 'age_cat', 'race',\n",
              "       'juv_fel_count', 'decile_score', 'juv_misd_count', 'juv_other_count',\n",
              "       'priors_count', 'days_b_screening_arrest', 'c_jail_in', 'c_jail_out',\n",
              "       'c_days_from_compas', 'c_charge_degree', 'c_charge_desc', 'is_recid',\n",
              "       'r_charge_degree', 'r_days_from_arrest', 'r_offense_date',\n",
              "       'r_charge_desc', 'r_jail_in', 'violent_recid', 'is_violent_recid',\n",
              "       'vr_charge_degree', 'vr_offense_date', 'vr_charge_desc',\n",
              "       'type_of_assessment', 'decile_score.1', 'score_text', 'screening_date',\n",
              "       'v_type_of_assessment', 'v_decile_score', 'v_score_text',\n",
              "       'priors_count.1', 'event'],\n",
              "      dtype='object')"
            ]
          },
          "metadata": {}
        },
        {
          "output_type": "execute_result",
          "data": {
            "text/plain": [
              "Text(0.5, 0, 'age')"
            ]
          },
          "metadata": {},
          "execution_count": 8
        },
        {
          "output_type": "display_data",
          "data": {
            "text/plain": [
              "<Figure size 640x480 with 1 Axes>"
            ],
            "image/png": "[encoded data removed]"
          },
          "metadata": {}
        }
      ]
    },
    {
      "cell_type": "markdown",
      "source": [
        "\n",
        "Barchart 4 labels (FP, FN, TP, TN)"
      ],
      "metadata": {
        "id": "qfRDaRpfausR"
      }
    },
    {
      "cell_type": "code",
      "source": [
        "errors_df = data_pred[['TP', 'FP', 'FN', 'TN']]\n",
        "\n",
        "# Melt the DataFrame for easy plotting\n",
        "melted_df = pd.melt(errors_df, var_name='Error label', value_name='Count')\n",
        "\n",
        "# Pivot the DataFrame for stacked bar chart\n",
        "pivot_df = melted_df.pivot_table(index='Error label', columns='Error label', values='Count', aggfunc='sum', fill_value=0)\n",
        "\n",
        "# Plot the stacked bar chart\n",
        "pivot_df.plot(kind='bar', stacked=True, figsize=(10, 6))\n",
        "\n",
        "# Add labels and title\n",
        "plt.xlabel('Error label')\n",
        "plt.ylabel('Count')\n",
        "plt.title('Stacked Bar Chart')\n",
        "\n",
        "# Show the plot\n",
        "plt.show()\n",
        "\n",
        "\n"
      ],
      "metadata": {
        "colab": {
          "base_uri": "https://localhost:8080/",
          "height": 569
        },
        "id": "66v-RoHaEvse",
        "outputId": "732f1731-4f8f-419a-f949-29e8759760d6"
      },
      "execution_count": 9,
      "outputs": [
        {
          "output_type": "display_data",
          "data": {
            "text/plain": [
              "<Figure size 1000x600 with 1 Axes>"
            ],
            "image/png": "[encoded data removed]"
          },
          "metadata": {}
        }
      ]
    },
    {
      "cell_type": "markdown",
      "source": [
        "Change dummy's to categorical for boxplots etc."
      ],
      "metadata": {
        "id": "oWUQG2jfqXDT"
      }
    },
    {
      "cell_type": "code",
      "source": [
        "#Chaning and adding the demographics as a categorical\n",
        "# df for demographics\n",
        "demo = data_pred[['African_American', 'Asian', 'Hispanic', 'Native_American', 'Other']]\n",
        "\n",
        "# convert dummy demo to categorical\n",
        "demo['Demographic_Group'] = demo.idxmax(axis=1)\n",
        "\n",
        "# add to dataset\n",
        "data_all = data_pred.merge(demo, how=\"inner\")\n",
        "\n",
        "# drop original dummy columns\n",
        "data_all.drop(['African_American', 'Asian', 'Hispanic', 'Native_American', 'Other'], axis=1, inplace=True)\n",
        "\n",
        "print(data_all)"
      ],
      "metadata": {
        "colab": {
          "base_uri": "https://localhost:8080/"
        },
        "id": "SAjE7FBjo9QU",
        "outputId": "7dc88bf6-76a5-4475-fe15-f9556a610547"
      },
      "execution_count": 10,
      "outputs": [
        {
          "output_type": "stream",
          "name": "stdout",
          "text": [
            "         Number_of_Priors  score_factor  Age_Above_FourtyFive  \\\n",
            "0                       0             0                     0   \n",
            "1                       0             0                     0   \n",
            "2                       0             0                     0   \n",
            "3                       0             0                     0   \n",
            "4                       0             0                     0   \n",
            "...                   ...           ...                   ...   \n",
            "1328425                15             1                     1   \n",
            "1328426                15             1                     1   \n",
            "1328427                15             1                     1   \n",
            "1328428                15             1                     1   \n",
            "1328429                15             1                     1   \n",
            "\n",
            "         Age_Below_TwentyFive  Female  Misdemeanor  predicted_class  \\\n",
            "0                           0       0            0                0   \n",
            "1                           0       0            0                0   \n",
            "2                           0       0            0                0   \n",
            "3                           0       0            0                0   \n",
            "4                           0       0            0                0   \n",
            "...                       ...     ...          ...              ...   \n",
            "1328425                     0       1            0                0   \n",
            "1328426                     0       1            0                0   \n",
            "1328427                     0       1            0                0   \n",
            "1328428                     0       1            0                0   \n",
            "1328429                     0       1            0                0   \n",
            "\n",
            "         true_class  errors  TP  TN  FN  FP Demographic_Group  \n",
            "0                 0       0   0   1   0   0  African_American  \n",
            "1                 0       0   0   1   0   0  African_American  \n",
            "2                 0       0   0   1   0   0  African_American  \n",
            "3                 0       0   0   1   0   0  African_American  \n",
            "4                 0       0   0   1   0   0  African_American  \n",
            "...             ...     ...  ..  ..  ..  ..               ...  \n",
            "1328425           1       1   0   0   1   0   Native_American  \n",
            "1328426           1       1   0   0   1   0   Native_American  \n",
            "1328427           1       1   0   0   1   0   Native_American  \n",
            "1328428           1       1   0   0   1   0   Native_American  \n",
            "1328429           1       1   0   0   1   0   Native_American  \n",
            "\n",
            "[1328430 rows x 14 columns]\n"
          ]
        }
      ]
    },
    {
      "cell_type": "code",
      "source": [
        "# Extract dummy variables for error labels\n",
        "error_type = data_all[['TP', 'FP', 'FN', 'TN']]\n",
        "\n",
        "# Convert 'Error_type' column to categorical\n",
        "data_all['Error_Type'] = error_type.idxmax(axis=1).astype('category')\n",
        "\n",
        "# Drop the original 'TP', 'FP', 'FN', 'TN' columns if needed\n",
        "# data_all.drop(['TP', 'FP', 'FN', 'TN'], axis=1, inplace=True)\n",
        "\n",
        "print(data_all)\n"
      ],
      "metadata": {
        "colab": {
          "base_uri": "https://localhost:8080/"
        },
        "id": "TF8WZpgDql_V",
        "outputId": "f0befcfd-86f3-44a5-ff00-d27674296e77"
      },
      "execution_count": 11,
      "outputs": [
        {
          "output_type": "stream",
          "name": "stdout",
          "text": [
            "         Number_of_Priors  score_factor  Age_Above_FourtyFive  \\\n",
            "0                       0             0                     0   \n",
            "1                       0             0                     0   \n",
            "2                       0             0                     0   \n",
            "3                       0             0                     0   \n",
            "4                       0             0                     0   \n",
            "...                   ...           ...                   ...   \n",
            "1328425                15             1                     1   \n",
            "1328426                15             1                     1   \n",
            "1328427                15             1                     1   \n",
            "1328428                15             1                     1   \n",
            "1328429                15             1                     1   \n",
            "\n",
            "         Age_Below_TwentyFive  Female  Misdemeanor  predicted_class  \\\n",
            "0                           0       0            0                0   \n",
            "1                           0       0            0                0   \n",
            "2                           0       0            0                0   \n",
            "3                           0       0            0                0   \n",
            "4                           0       0            0                0   \n",
            "...                       ...     ...          ...              ...   \n",
            "1328425                     0       1            0                0   \n",
            "1328426                     0       1            0                0   \n",
            "1328427                     0       1            0                0   \n",
            "1328428                     0       1            0                0   \n",
            "1328429                     0       1            0                0   \n",
            "\n",
            "         true_class  errors  TP  TN  FN  FP Demographic_Group Error_Type  \n",
            "0                 0       0   0   1   0   0  African_American         TN  \n",
            "1                 0       0   0   1   0   0  African_American         TN  \n",
            "2                 0       0   0   1   0   0  African_American         TN  \n",
            "3                 0       0   0   1   0   0  African_American         TN  \n",
            "4                 0       0   0   1   0   0  African_American         TN  \n",
            "...             ...     ...  ..  ..  ..  ..               ...        ...  \n",
            "1328425           1       1   0   0   1   0   Native_American         FN  \n",
            "1328426           1       1   0   0   1   0   Native_American         FN  \n",
            "1328427           1       1   0   0   1   0   Native_American         FN  \n",
            "1328428           1       1   0   0   1   0   Native_American         FN  \n",
            "1328429           1       1   0   0   1   0   Native_American         FN  \n",
            "\n",
            "[1328430 rows x 15 columns]\n"
          ]
        }
      ]
    },
    {
      "cell_type": "markdown",
      "source": [
        "Barchart 4 labels per demographic group"
      ],
      "metadata": {
        "id": "R0wGMuHv5Flg"
      }
    },
    {
      "cell_type": "code",
      "source": [
        "# Stacking barchart for 'Demographic_Group' and 'Error_Type'\n",
        "\n",
        "# Melt the DataFrame for easy plotting\n",
        "melted_df = pd.melt(data_all, id_vars=['Demographic_Group', 'Error_Type'], value_vars=['TP', 'TN', 'FN', 'FP'], var_name='Error_label', value_name='Count')\n",
        "\n",
        "# Pivot the DataFrame for stacked bar chart\n",
        "pivot_df = melted_df.pivot_table(index=['Demographic_Group', 'Error_Type'], columns='Error_label', values='Count', aggfunc='sum', fill_value=0)\n",
        "\n",
        "# Plot the stacked bar chart\n",
        "plt.figure(figsize=(12, 8))\n",
        "pivot_df.plot(kind='bar', stacked=True)\n",
        "\n",
        "# Add labels and title\n",
        "plt.xlabel('Demographic Group and Error Type')\n",
        "plt.ylabel('Count')\n",
        "plt.title('Stacked Bar Chart for Demographics per Error Type')\n",
        "\n",
        "# Show the plot\n",
        "plt.show()\n",
        "\n",
        "\n",
        "\n",
        "\n",
        "\n"
      ],
      "metadata": {
        "colab": {
          "base_uri": "https://localhost:8080/",
          "height": 636
        },
        "id": "bA3driIauPoq",
        "outputId": "c798d23c-7ec2-4f8e-8583-77e6318ac17b"
      },
      "execution_count": 20,
      "outputs": [
        {
          "output_type": "display_data",
          "data": {
            "text/plain": [
              "<Figure size 1200x800 with 0 Axes>"
            ]
          },
          "metadata": {}
        },
        {
          "output_type": "display_data",
          "data": {
            "text/plain": [
              "<Figure size 640x480 with 1 Axes>"
            ],
            "image/png": "[encoded data removed]"
          },
          "metadata": {}
        }
      ]
    },
    {
      "cell_type": "code",
      "source": [
        "\n",
        "\n",
        "# Group by Demographic_Group, Error_Type, and Error_label and sum the Count\n",
        "grouped_data = data_all.groupby(['Demographic_Group', 'Error_Type'], as_index=False).sum()\n",
        "\n",
        "# Pivot the DataFrame for stacked bar chart\n",
        "pivot_df = grouped_data.pivot_table(index=['Demographic_Group', 'Error_label'], columns='Error_Type', values='Count', fill_value=0)\n",
        "\n",
        "# Plot the stacked bar chart\n",
        "plt.figure(figsize=(12, 8))\n",
        "pivot_df.plot(kind='bar', stacked=True, colormap='viridis')\n",
        "plt.xlabel('Demographic Group')\n",
        "plt.ylabel('Count')\n",
        "plt.title('Stacked Bar Chart for Demographics per Error Type')\n",
        "plt.show()\n",
        "\n",
        "\n"
      ],
      "metadata": {
        "colab": {
          "base_uri": "https://localhost:8080/",
          "height": 407
        },
        "id": "tj4ug0QAvnzk",
        "outputId": "ba38b067-d9aa-40eb-91c1-2efc068d18db"
      },
      "execution_count": 33,
      "outputs": [
        {
          "output_type": "error",
          "ename": "KeyError",
          "evalue": "'Count'",
          "traceback": [
            "\u001b[0;31m---------------------------------------------------------------------------\u001b[0m",
            "\u001b[0;31mKeyError\u001b[0m                                  Traceback (most recent call last)",
            "\u001b[0;32m<ipython-input-33-eed347c13a82>\u001b[0m in \u001b[0;36m<cell line: 5>\u001b[0;34m()\u001b[0m\n\u001b[1;32m      3\u001b[0m \u001b[0;34m\u001b[0m\u001b[0m\n\u001b[1;32m      4\u001b[0m \u001b[0;31m# Pivot the DataFrame for stacked bar chart\u001b[0m\u001b[0;34m\u001b[0m\u001b[0;34m\u001b[0m\u001b[0m\n\u001b[0;32m----> 5\u001b[0;31m \u001b[0mpivot_df\u001b[0m \u001b[0;34m=\u001b[0m \u001b[0mgrouped_data\u001b[0m\u001b[0;34m.\u001b[0m\u001b[0mpivot_table\u001b[0m\u001b[0;34m(\u001b[0m\u001b[0mindex\u001b[0m\u001b[0;34m=\u001b[0m\u001b[0;34m[\u001b[0m\u001b[0;34m'Demographic_Group'\u001b[0m\u001b[0;34m,\u001b[0m \u001b[0;34m'Error_label'\u001b[0m\u001b[0;34m]\u001b[0m\u001b[0;34m,\u001b[0m \u001b[0mcolumns\u001b[0m\u001b[0;34m=\u001b[0m\u001b[0;34m'Error_Type'\u001b[0m\u001b[0;34m,\u001b[0m \u001b[0mvalues\u001b[0m\u001b[0;34m=\u001b[0m\u001b[0;34m'Count'\u001b[0m\u001b[0;34m,\u001b[0m \u001b[0mfill_value\u001b[0m\u001b[0;34m=\u001b[0m\u001b[0;36m0\u001b[0m\u001b[0;34m)\u001b[0m\u001b[0;34m\u001b[0m\u001b[0;34m\u001b[0m\u001b[0m\n\u001b[0m\u001b[1;32m      6\u001b[0m \u001b[0;34m\u001b[0m\u001b[0m\n\u001b[1;32m      7\u001b[0m \u001b[0;31m# Plot the stacked bar chart\u001b[0m\u001b[0;34m\u001b[0m\u001b[0;34m\u001b[0m\u001b[0m\n",
            "\u001b[0;32m/usr/local/lib/python3.10/dist-packages/pandas/core/frame.py\u001b[0m in \u001b[0;36mpivot_table\u001b[0;34m(self, values, index, columns, aggfunc, fill_value, margins, dropna, margins_name, observed, sort)\u001b[0m\n\u001b[1;32m   8729\u001b[0m         \u001b[0;32mfrom\u001b[0m \u001b[0mpandas\u001b[0m\u001b[0;34m.\u001b[0m\u001b[0mcore\u001b[0m\u001b[0;34m.\u001b[0m\u001b[0mreshape\u001b[0m\u001b[0;34m.\u001b[0m\u001b[0mpivot\u001b[0m \u001b[0;32mimport\u001b[0m \u001b[0mpivot_table\u001b[0m\u001b[0;34m\u001b[0m\u001b[0;34m\u001b[0m\u001b[0m\n\u001b[1;32m   8730\u001b[0m \u001b[0;34m\u001b[0m\u001b[0m\n\u001b[0;32m-> 8731\u001b[0;31m         return pivot_table(\n\u001b[0m\u001b[1;32m   8732\u001b[0m             \u001b[0mself\u001b[0m\u001b[0;34m,\u001b[0m\u001b[0;34m\u001b[0m\u001b[0;34m\u001b[0m\u001b[0m\n\u001b[1;32m   8733\u001b[0m             \u001b[0mvalues\u001b[0m\u001b[0;34m=\u001b[0m\u001b[0mvalues\u001b[0m\u001b[0;34m,\u001b[0m\u001b[0;34m\u001b[0m\u001b[0;34m\u001b[0m\u001b[0m\n",
            "\u001b[0;32m/usr/local/lib/python3.10/dist-packages/pandas/core/reshape/pivot.py\u001b[0m in \u001b[0;36mpivot_table\u001b[0;34m(data, values, index, columns, aggfunc, fill_value, margins, dropna, margins_name, observed, sort)\u001b[0m\n\u001b[1;32m     95\u001b[0m         \u001b[0;32mreturn\u001b[0m \u001b[0mtable\u001b[0m\u001b[0;34m.\u001b[0m\u001b[0m__finalize__\u001b[0m\u001b[0;34m(\u001b[0m\u001b[0mdata\u001b[0m\u001b[0;34m,\u001b[0m \u001b[0mmethod\u001b[0m\u001b[0;34m=\u001b[0m\u001b[0;34m\"pivot_table\"\u001b[0m\u001b[0;34m)\u001b[0m\u001b[0;34m\u001b[0m\u001b[0;34m\u001b[0m\u001b[0m\n\u001b[1;32m     96\u001b[0m \u001b[0;34m\u001b[0m\u001b[0m\n\u001b[0;32m---> 97\u001b[0;31m     table = __internal_pivot_table(\n\u001b[0m\u001b[1;32m     98\u001b[0m         \u001b[0mdata\u001b[0m\u001b[0;34m,\u001b[0m\u001b[0;34m\u001b[0m\u001b[0;34m\u001b[0m\u001b[0m\n\u001b[1;32m     99\u001b[0m         \u001b[0mvalues\u001b[0m\u001b[0;34m,\u001b[0m\u001b[0;34m\u001b[0m\u001b[0;34m\u001b[0m\u001b[0m\n",
            "\u001b[0;32m/usr/local/lib/python3.10/dist-packages/pandas/core/reshape/pivot.py\u001b[0m in \u001b[0;36m__internal_pivot_table\u001b[0;34m(data, values, index, columns, aggfunc, fill_value, margins, dropna, margins_name, observed, sort)\u001b[0m\n\u001b[1;32m    141\u001b[0m         \u001b[0;32mfor\u001b[0m \u001b[0mi\u001b[0m \u001b[0;32min\u001b[0m \u001b[0mvalues\u001b[0m\u001b[0;34m:\u001b[0m\u001b[0;34m\u001b[0m\u001b[0;34m\u001b[0m\u001b[0m\n\u001b[1;32m    142\u001b[0m             \u001b[0;32mif\u001b[0m \u001b[0mi\u001b[0m \u001b[0;32mnot\u001b[0m \u001b[0;32min\u001b[0m \u001b[0mdata\u001b[0m\u001b[0;34m:\u001b[0m\u001b[0;34m\u001b[0m\u001b[0;34m\u001b[0m\u001b[0m\n\u001b[0;32m--> 143\u001b[0;31m                 \u001b[0;32mraise\u001b[0m \u001b[0mKeyError\u001b[0m\u001b[0;34m(\u001b[0m\u001b[0mi\u001b[0m\u001b[0;34m)\u001b[0m\u001b[0;34m\u001b[0m\u001b[0;34m\u001b[0m\u001b[0m\n\u001b[0m\u001b[1;32m    144\u001b[0m \u001b[0;34m\u001b[0m\u001b[0m\n\u001b[1;32m    145\u001b[0m         \u001b[0mto_filter\u001b[0m \u001b[0;34m=\u001b[0m \u001b[0;34m[\u001b[0m\u001b[0;34m]\u001b[0m\u001b[0;34m\u001b[0m\u001b[0;34m\u001b[0m\u001b[0m\n",
            "\u001b[0;31mKeyError\u001b[0m: 'Count'"
          ]
        }
      ]
    }
  ]
}