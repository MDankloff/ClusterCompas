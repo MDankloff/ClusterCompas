{
  "nbformat": 4,
  "nbformat_minor": 0,
  "metadata": {
    "colab": {
      "provenance": [],
      "mount_file_id": "1uQbJjO1V-LDh0ub5OxexCJqHCr8Wg85B",
      "authorship_tag": "ABX9TyPLdrJ1dI1LnixOpVzx87Ly",
      "include_colab_link": true
    },
    "kernelspec": {
      "name": "python3",
      "display_name": "Python 3"
    },
    "language_info": {
      "name": "python"
    }
  },
  "cells": [
    {
      "cell_type": "markdown",
      "metadata": {
        "id": "view-in-github",
        "colab_type": "text"
      },
      "source": [
        "<a href=\"https://colab.research.google.com/github/MDankloff/ClusterCompas/blob/main/COMPAS_data_inspection.ipynb\" target=\"_parent\"><img src=\"https://colab.research.google.com/assets/colab-badge.svg\" alt=\"Open In Colab\"/></a>"
      ]
    },
    {
      "cell_type": "code",
      "execution_count": 2,
      "source": [
        "import numpy as np\n",
        "import pandas as pd\n",
        "import matplotlib.pyplot as plt\n",
        "import seaborn as sns\n",
        "from sklearn.metrics import accuracy_score, confusion_matrix, roc_auc_score, roc_curve\n",
        "from sklearn.model_selection import train_test_split\n",
        "from sklearn.ensemble import RandomForestClassifier\n",
        "import warnings\n",
        "warnings.filterwarnings(\"ignore\")\n",
        "import os\n",
        "\n",
        "# Specify the directory path\n",
        "directory_path = '//Users/mirthedankloff/Documents/XAI_Bias_Error/COMPAS'\n",
        "\n",
        "# Traverse the directory and print the names of all files\n",
        "for dirname, _, filenames in os.walk(directory_path):\n",
        "    for filename in filenames:\n",
        "        print(os.path.join(dirname, filename))\n"
      ],
      "outputs": [],
      "metadata": {
        "id": "38DKEHMzpE5N"
      }
    },
    {
      "cell_type": "markdown",
      "source": [
        "LOAD COMPAS data"
      ],
      "metadata": {
        "id": "UzPRoaiBYtI5"
      }
    },
    {
      "cell_type": "code",
      "source": [
        "compas_s = pd.read_csv(\"/content/final_preprocessed_compas(2).csv\")\n",
        "ofercompas = pd.read_csv(\"/content/propublica_data_for_fairml.csv\")\n",
        "originalcompas = pd.read_csv(\"/content/compas-scores-two-years-violent.csv\")\n",
        "cox_violent_filt = pd.read_csv('/content/cox-violent-parsed_filt.csv')"
      ],
      "metadata": {
        "id": "31swZk8rY49a"
      },
      "execution_count": 3,
      "outputs": []
    },
    {
      "cell_type": "code",
      "source": [
        "target = \"Two_yr_Recidivism\"\n",
        "X = ofercompas.drop([target],axis=1)\n",
        "Y = ofercompas[target]\n",
        "age = originalcompas['age']"
      ],
      "metadata": {
        "id": "lvcGzd45bCok"
      },
      "execution_count": 4,
      "outputs": []
    },
    {
      "cell_type": "markdown",
      "source": [
        "TRAIN  Model"
      ],
      "metadata": {
        "id": "LtLNwji9c59E"
      }
    },
    {
      "cell_type": "code",
      "source": [
        "X_train, X_test, Y_train, Y_test = train_test_split(X, Y, test_size = 0.3, shuffle = True, stratify = Y)\n",
        "\n",
        "model = RandomForestClassifier()\n",
        "model.fit(X_train, Y_train)\n",
        "\n",
        "#predictions\n",
        "Yhat = model.predict(X_test)\n",
        "len(Yhat)\n"
      ],
      "metadata": {
        "colab": {
          "base_uri": "https://localhost:8080/"
        },
        "id": "5XNgT6Hcc5dL",
        "outputId": "9b2745b6-effe-49f2-f6d1-6013f6bfd193"
      },
      "execution_count": 5,
      "outputs": [
        {
          "output_type": "execute_result",
          "data": {
            "text/plain": [
              "1852"
            ]
          },
          "metadata": {},
          "execution_count": 5
        }
      ]
    },
    {
      "cell_type": "markdown",
      "source": [
        "COLLECT the errors"
      ],
      "metadata": {
        "id": "yfpE0rTSd96H"
      }
    },
    {
      "cell_type": "code",
      "source": [
        "predictions = pd.DataFrame()\n",
        "predictions['predicted_class'] = Yhat.tolist()\n",
        "predictions = predictions.set_index(X_test.index)\n",
        "predictions['true_class'] = Y_test\n",
        "\n",
        "#accuracy\n",
        "accuracy = accuracy_score(predictions['true_class'], predictions['predicted_class'])\n",
        "print(f\"Accuracy: {accuracy:.4f}\")\n",
        "\n",
        "#confusion matrix\n",
        "cm = confusion_matrix(predictions['true_class'], predictions['predicted_class'])\n",
        "print(cm)\n",
        "\n"
      ],
      "metadata": {
        "colab": {
          "base_uri": "https://localhost:8080/"
        },
        "id": "r5ex544tgsZm",
        "outputId": "74f9fef6-98cc-407e-fbb4-cca7abf98816"
      },
      "execution_count": 6,
      "outputs": [
        {
          "output_type": "stream",
          "name": "stdout",
          "text": [
            "Accuracy: 0.6598\n",
            "[[737 272]\n",
            " [358 485]]\n"
          ]
        }
      ]
    },
    {
      "cell_type": "code",
      "source": [
        "predictions['errors'] = abs(predictions['predicted_class'] - predictions['true_class'])\n",
        "predictions['errors'] = predictions['errors'].replace(2.0, 1.0)\n",
        "\n",
        "\n",
        "data_pred = X_test.merge(predictions, how= 'outer', left_index = True, right_index = True)\n",
        "\n",
        "errors = data_pred['errors']\n",
        "ofercompas_out = data_pred.drop(['predicted_class', 'true_class', 'errors'], axis=1)\n",
        "\n",
        "display(data_pred.columns)\n",
        "print(len(data_pred))\n",
        "data_pred[data_pred['errors']==1]"
      ],
      "metadata": {
        "colab": {
          "base_uri": "https://localhost:8080/",
          "height": 534
        },
        "id": "nWCB4bUmDaZm",
        "outputId": "45d44368-3c8d-4f59-f92c-3dc0fb476e04"
      },
      "execution_count": 9,
      "outputs": [
        {
          "output_type": "display_data",
          "data": {
            "text/plain": [
              "Index(['Number_of_Priors', 'score_factor', 'Age_Above_FourtyFive',\n",
              "       'Age_Below_TwentyFive', 'African_American', 'Asian', 'Hispanic',\n",
              "       'Native_American', 'Other', 'Female', 'Misdemeanor', 'predicted_class',\n",
              "       'true_class', 'errors'],\n",
              "      dtype='object')"
            ]
          },
          "metadata": {}
        },
        {
          "output_type": "stream",
          "name": "stdout",
          "text": [
            "1852\n"
          ]
        },
        {
          "output_type": "execute_result",
          "data": {
            "text/plain": [
              "      Number_of_Priors  score_factor  Age_Above_FourtyFive  \\\n",
              "3825                 0             0                     1   \n",
              "5489                11             1                     0   \n",
              "2700                 3             0                     1   \n",
              "1326                 3             0                     0   \n",
              "5175                 2             0                     0   \n",
              "...                ...           ...                   ...   \n",
              "2811                 0             0                     0   \n",
              "3846                 5             0                     0   \n",
              "5144                 1             1                     0   \n",
              "3621                 4             1                     1   \n",
              "1981                 4             0                     0   \n",
              "\n",
              "      Age_Below_TwentyFive  African_American  Asian  Hispanic  \\\n",
              "3825                     0                 0      0         0   \n",
              "5489                     0                 1      0         0   \n",
              "2700                     0                 0      0         0   \n",
              "1326                     0                 1      0         0   \n",
              "5175                     0                 0      0         0   \n",
              "...                    ...               ...    ...       ...   \n",
              "2811                     1                 1      0         0   \n",
              "3846                     0                 1      0         0   \n",
              "5144                     1                 0      0         0   \n",
              "3621                     0                 0      0         0   \n",
              "1981                     0                 0      0         0   \n",
              "\n",
              "      Native_American  Other  Female  Misdemeanor  predicted_class  \\\n",
              "3825                0      0       1            1                0   \n",
              "5489                0      0       0            1                1   \n",
              "2700                0      0       0            1                0   \n",
              "1326                0      0       0            1                1   \n",
              "5175                0      0       0            0                0   \n",
              "...               ...    ...     ...          ...              ...   \n",
              "2811                0      0       0            1                1   \n",
              "3846                0      0       0            0                1   \n",
              "5144                0      0       0            0                1   \n",
              "3621                0      0       0            0                0   \n",
              "1981                0      0       1            0                0   \n",
              "\n",
              "      true_class  errors  \n",
              "3825           1       1  \n",
              "5489           0       1  \n",
              "2700           1       1  \n",
              "1326           0       1  \n",
              "5175           1       1  \n",
              "...          ...     ...  \n",
              "2811           0       1  \n",
              "3846           0       1  \n",
              "5144           0       1  \n",
              "3621           1       1  \n",
              "1981           1       1  \n",
              "\n",
              "[630 rows x 14 columns]"
            ],
            "text/html": [
              "\n",
              "  <div id=\"df-5fa53905-06e6-4bc1-beb0-bd2f193226e1\" class=\"colab-df-container\">\n",
              "    <div>\n",
              "<style scoped>\n",
              "    .dataframe tbody tr th:only-of-type {\n",
              "        vertical-align: middle;\n",
              "    }\n",
              "\n",
              "    .dataframe tbody tr th {\n",
              "        vertical-align: top;\n",
              "    }\n",
              "\n",
              "    .dataframe thead th {\n",
              "        text-align: right;\n",
              "    }\n",
              "</style>\n",
              "<table border=\"1\" class=\"dataframe\">\n",
              "  <thead>\n",
              "    <tr style=\"text-align: right;\">\n",
              "      <th></th>\n",
              "      <th>Number_of_Priors</th>\n",
              "      <th>score_factor</th>\n",
              "      <th>Age_Above_FourtyFive</th>\n",
              "      <th>Age_Below_TwentyFive</th>\n",
              "      <th>African_American</th>\n",
              "      <th>Asian</th>\n",
              "      <th>Hispanic</th>\n",
              "      <th>Native_American</th>\n",
              "      <th>Other</th>\n",
              "      <th>Female</th>\n",
              "      <th>Misdemeanor</th>\n",
              "      <th>predicted_class</th>\n",
              "      <th>true_class</th>\n",
              "      <th>errors</th>\n",
              "    </tr>\n",
              "  </thead>\n",
              "  <tbody>\n",
              "    <tr>\n",
              "      <th>3825</th>\n",
              "      <td>0</td>\n",
              "      <td>0</td>\n",
              "      <td>1</td>\n",
              "      <td>0</td>\n",
              "      <td>0</td>\n",
              "      <td>0</td>\n",
              "      <td>0</td>\n",
              "      <td>0</td>\n",
              "      <td>0</td>\n",
              "      <td>1</td>\n",
              "      <td>1</td>\n",
              "      <td>0</td>\n",
              "      <td>1</td>\n",
              "      <td>1</td>\n",
              "    </tr>\n",
              "    <tr>\n",
              "      <th>5489</th>\n",
              "      <td>11</td>\n",
              "      <td>1</td>\n",
              "      <td>0</td>\n",
              "      <td>0</td>\n",
              "      <td>1</td>\n",
              "      <td>0</td>\n",
              "      <td>0</td>\n",
              "      <td>0</td>\n",
              "      <td>0</td>\n",
              "      <td>0</td>\n",
              "      <td>1</td>\n",
              "      <td>1</td>\n",
              "      <td>0</td>\n",
              "      <td>1</td>\n",
              "    </tr>\n",
              "    <tr>\n",
              "      <th>2700</th>\n",
              "      <td>3</td>\n",
              "      <td>0</td>\n",
              "      <td>1</td>\n",
              "      <td>0</td>\n",
              "      <td>0</td>\n",
              "      <td>0</td>\n",
              "      <td>0</td>\n",
              "      <td>0</td>\n",
              "      <td>0</td>\n",
              "      <td>0</td>\n",
              "      <td>1</td>\n",
              "      <td>0</td>\n",
              "      <td>1</td>\n",
              "      <td>1</td>\n",
              "    </tr>\n",
              "    <tr>\n",
              "      <th>1326</th>\n",
              "      <td>3</td>\n",
              "      <td>0</td>\n",
              "      <td>0</td>\n",
              "      <td>0</td>\n",
              "      <td>1</td>\n",
              "      <td>0</td>\n",
              "      <td>0</td>\n",
              "      <td>0</td>\n",
              "      <td>0</td>\n",
              "      <td>0</td>\n",
              "      <td>1</td>\n",
              "      <td>1</td>\n",
              "      <td>0</td>\n",
              "      <td>1</td>\n",
              "    </tr>\n",
              "    <tr>\n",
              "      <th>5175</th>\n",
              "      <td>2</td>\n",
              "      <td>0</td>\n",
              "      <td>0</td>\n",
              "      <td>0</td>\n",
              "      <td>0</td>\n",
              "      <td>0</td>\n",
              "      <td>0</td>\n",
              "      <td>0</td>\n",
              "      <td>0</td>\n",
              "      <td>0</td>\n",
              "      <td>0</td>\n",
              "      <td>0</td>\n",
              "      <td>1</td>\n",
              "      <td>1</td>\n",
              "    </tr>\n",
              "    <tr>\n",
              "      <th>...</th>\n",
              "      <td>...</td>\n",
              "      <td>...</td>\n",
              "      <td>...</td>\n",
              "      <td>...</td>\n",
              "      <td>...</td>\n",
              "      <td>...</td>\n",
              "      <td>...</td>\n",
              "      <td>...</td>\n",
              "      <td>...</td>\n",
              "      <td>...</td>\n",
              "      <td>...</td>\n",
              "      <td>...</td>\n",
              "      <td>...</td>\n",
              "      <td>...</td>\n",
              "    </tr>\n",
              "    <tr>\n",
              "      <th>2811</th>\n",
              "      <td>0</td>\n",
              "      <td>0</td>\n",
              "      <td>0</td>\n",
              "      <td>1</td>\n",
              "      <td>1</td>\n",
              "      <td>0</td>\n",
              "      <td>0</td>\n",
              "      <td>0</td>\n",
              "      <td>0</td>\n",
              "      <td>0</td>\n",
              "      <td>1</td>\n",
              "      <td>1</td>\n",
              "      <td>0</td>\n",
              "      <td>1</td>\n",
              "    </tr>\n",
              "    <tr>\n",
              "      <th>3846</th>\n",
              "      <td>5</td>\n",
              "      <td>0</td>\n",
              "      <td>0</td>\n",
              "      <td>0</td>\n",
              "      <td>1</td>\n",
              "      <td>0</td>\n",
              "      <td>0</td>\n",
              "      <td>0</td>\n",
              "      <td>0</td>\n",
              "      <td>0</td>\n",
              "      <td>0</td>\n",
              "      <td>1</td>\n",
              "      <td>0</td>\n",
              "      <td>1</td>\n",
              "    </tr>\n",
              "    <tr>\n",
              "      <th>5144</th>\n",
              "      <td>1</td>\n",
              "      <td>1</td>\n",
              "      <td>0</td>\n",
              "      <td>1</td>\n",
              "      <td>0</td>\n",
              "      <td>0</td>\n",
              "      <td>0</td>\n",
              "      <td>0</td>\n",
              "      <td>0</td>\n",
              "      <td>0</td>\n",
              "      <td>0</td>\n",
              "      <td>1</td>\n",
              "      <td>0</td>\n",
              "      <td>1</td>\n",
              "    </tr>\n",
              "    <tr>\n",
              "      <th>3621</th>\n",
              "      <td>4</td>\n",
              "      <td>1</td>\n",
              "      <td>1</td>\n",
              "      <td>0</td>\n",
              "      <td>0</td>\n",
              "      <td>0</td>\n",
              "      <td>0</td>\n",
              "      <td>0</td>\n",
              "      <td>0</td>\n",
              "      <td>0</td>\n",
              "      <td>0</td>\n",
              "      <td>0</td>\n",
              "      <td>1</td>\n",
              "      <td>1</td>\n",
              "    </tr>\n",
              "    <tr>\n",
              "      <th>1981</th>\n",
              "      <td>4</td>\n",
              "      <td>0</td>\n",
              "      <td>0</td>\n",
              "      <td>0</td>\n",
              "      <td>0</td>\n",
              "      <td>0</td>\n",
              "      <td>0</td>\n",
              "      <td>0</td>\n",
              "      <td>0</td>\n",
              "      <td>1</td>\n",
              "      <td>0</td>\n",
              "      <td>0</td>\n",
              "      <td>1</td>\n",
              "      <td>1</td>\n",
              "    </tr>\n",
              "  </tbody>\n",
              "</table>\n",
              "<p>630 rows × 14 columns</p>\n",
              "</div>\n",
              "    <div class=\"colab-df-buttons\">\n",
              "\n",
              "  <div class=\"colab-df-container\">\n",
              "    <button class=\"colab-df-convert\" onclick=\"convertToInteractive('df-5fa53905-06e6-4bc1-beb0-bd2f193226e1')\"\n",
              "            title=\"Convert this dataframe to an interactive table.\"\n",
              "            style=\"display:none;\">\n",
              "\n",
              "  <svg xmlns=\"http://www.w3.org/2000/svg\" height=\"24px\" viewBox=\"0 -960 960 960\">\n",
              "    <path d=\"M120-120v-720h720v720H120Zm60-500h600v-160H180v160Zm220 220h160v-160H400v160Zm0 220h160v-160H400v160ZM180-400h160v-160H180v160Zm440 0h160v-160H620v160ZM180-180h160v-160H180v160Zm440 0h160v-160H620v160Z\"/>\n",
              "  </svg>\n",
              "    </button>\n",
              "\n",
              "  <style>\n",
              "    .colab-df-container {\n",
              "      display:flex;\n",
              "      gap: 12px;\n",
              "    }\n",
              "\n",
              "    .colab-df-convert {\n",
              "      background-color: #E8F0FE;\n",
              "      border: none;\n",
              "      border-radius: 50%;\n",
              "      cursor: pointer;\n",
              "      display: none;\n",
              "      fill: #1967D2;\n",
              "      height: 32px;\n",
              "      padding: 0 0 0 0;\n",
              "      width: 32px;\n",
              "    }\n",
              "\n",
              "    .colab-df-convert:hover {\n",
              "      background-color: #E2EBFA;\n",
              "      box-shadow: 0px 1px 2px rgba(60, 64, 67, 0.3), 0px 1px 3px 1px rgba(60, 64, 67, 0.15);\n",
              "      fill: #174EA6;\n",
              "    }\n",
              "\n",
              "    .colab-df-buttons div {\n",
              "      margin-bottom: 4px;\n",
              "    }\n",
              "\n",
              "    [theme=dark] .colab-df-convert {\n",
              "      background-color: #3B4455;\n",
              "      fill: #D2E3FC;\n",
              "    }\n",
              "\n",
              "    [theme=dark] .colab-df-convert:hover {\n",
              "      background-color: #434B5C;\n",
              "      box-shadow: 0px 1px 3px 1px rgba(0, 0, 0, 0.15);\n",
              "      filter: drop-shadow(0px 1px 2px rgba(0, 0, 0, 0.3));\n",
              "      fill: #FFFFFF;\n",
              "    }\n",
              "  </style>\n",
              "\n",
              "    <script>\n",
              "      const buttonEl =\n",
              "        document.querySelector('#df-5fa53905-06e6-4bc1-beb0-bd2f193226e1 button.colab-df-convert');\n",
              "      buttonEl.style.display =\n",
              "        google.colab.kernel.accessAllowed ? 'block' : 'none';\n",
              "\n",
              "      async function convertToInteractive(key) {\n",
              "        const element = document.querySelector('#df-5fa53905-06e6-4bc1-beb0-bd2f193226e1');\n",
              "        const dataTable =\n",
              "          await google.colab.kernel.invokeFunction('convertToInteractive',\n",
              "                                                    [key], {});\n",
              "        if (!dataTable) return;\n",
              "\n",
              "        const docLinkHtml = 'Like what you see? Visit the ' +\n",
              "          '<a target=\"_blank\" href=https://colab.research.google.com/notebooks/data_table.ipynb>data table notebook</a>'\n",
              "          + ' to learn more about interactive tables.';\n",
              "        element.innerHTML = '';\n",
              "        dataTable['output_type'] = 'display_data';\n",
              "        await google.colab.output.renderOutput(dataTable, element);\n",
              "        const docLink = document.createElement('div');\n",
              "        docLink.innerHTML = docLinkHtml;\n",
              "        element.appendChild(docLink);\n",
              "      }\n",
              "    </script>\n",
              "  </div>\n",
              "\n",
              "\n",
              "<div id=\"df-b549b744-ff2f-4e8c-bec1-f1ca6062a4f7\">\n",
              "  <button class=\"colab-df-quickchart\" onclick=\"quickchart('df-b549b744-ff2f-4e8c-bec1-f1ca6062a4f7')\"\n",
              "            title=\"Suggest charts\"\n",
              "            style=\"display:none;\">\n",
              "\n",
              "<svg xmlns=\"http://www.w3.org/2000/svg\" height=\"24px\"viewBox=\"0 0 24 24\"\n",
              "     width=\"24px\">\n",
              "    <g>\n",
              "        <path d=\"M19 3H5c-1.1 0-2 .9-2 2v14c0 1.1.9 2 2 2h14c1.1 0 2-.9 2-2V5c0-1.1-.9-2-2-2zM9 17H7v-7h2v7zm4 0h-2V7h2v10zm4 0h-2v-4h2v4z\"/>\n",
              "    </g>\n",
              "</svg>\n",
              "  </button>\n",
              "\n",
              "<style>\n",
              "  .colab-df-quickchart {\n",
              "      --bg-color: #E8F0FE;\n",
              "      --fill-color: #1967D2;\n",
              "      --hover-bg-color: #E2EBFA;\n",
              "      --hover-fill-color: #174EA6;\n",
              "      --disabled-fill-color: #AAA;\n",
              "      --disabled-bg-color: #DDD;\n",
              "  }\n",
              "\n",
              "  [theme=dark] .colab-df-quickchart {\n",
              "      --bg-color: #3B4455;\n",
              "      --fill-color: #D2E3FC;\n",
              "      --hover-bg-color: #434B5C;\n",
              "      --hover-fill-color: #FFFFFF;\n",
              "      --disabled-bg-color: #3B4455;\n",
              "      --disabled-fill-color: #666;\n",
              "  }\n",
              "\n",
              "  .colab-df-quickchart {\n",
              "    background-color: var(--bg-color);\n",
              "    border: none;\n",
              "    border-radius: 50%;\n",
              "    cursor: pointer;\n",
              "    display: none;\n",
              "    fill: var(--fill-color);\n",
              "    height: 32px;\n",
              "    padding: 0;\n",
              "    width: 32px;\n",
              "  }\n",
              "\n",
              "  .colab-df-quickchart:hover {\n",
              "    background-color: var(--hover-bg-color);\n",
              "    box-shadow: 0 1px 2px rgba(60, 64, 67, 0.3), 0 1px 3px 1px rgba(60, 64, 67, 0.15);\n",
              "    fill: var(--button-hover-fill-color);\n",
              "  }\n",
              "\n",
              "  .colab-df-quickchart-complete:disabled,\n",
              "  .colab-df-quickchart-complete:disabled:hover {\n",
              "    background-color: var(--disabled-bg-color);\n",
              "    fill: var(--disabled-fill-color);\n",
              "    box-shadow: none;\n",
              "  }\n",
              "\n",
              "  .colab-df-spinner {\n",
              "    border: 2px solid var(--fill-color);\n",
              "    border-color: transparent;\n",
              "    border-bottom-color: var(--fill-color);\n",
              "    animation:\n",
              "      spin 1s steps(1) infinite;\n",
              "  }\n",
              "\n",
              "  @keyframes spin {\n",
              "    0% {\n",
              "      border-color: transparent;\n",
              "      border-bottom-color: var(--fill-color);\n",
              "      border-left-color: var(--fill-color);\n",
              "    }\n",
              "    20% {\n",
              "      border-color: transparent;\n",
              "      border-left-color: var(--fill-color);\n",
              "      border-top-color: var(--fill-color);\n",
              "    }\n",
              "    30% {\n",
              "      border-color: transparent;\n",
              "      border-left-color: var(--fill-color);\n",
              "      border-top-color: var(--fill-color);\n",
              "      border-right-color: var(--fill-color);\n",
              "    }\n",
              "    40% {\n",
              "      border-color: transparent;\n",
              "      border-right-color: var(--fill-color);\n",
              "      border-top-color: var(--fill-color);\n",
              "    }\n",
              "    60% {\n",
              "      border-color: transparent;\n",
              "      border-right-color: var(--fill-color);\n",
              "    }\n",
              "    80% {\n",
              "      border-color: transparent;\n",
              "      border-right-color: var(--fill-color);\n",
              "      border-bottom-color: var(--fill-color);\n",
              "    }\n",
              "    90% {\n",
              "      border-color: transparent;\n",
              "      border-bottom-color: var(--fill-color);\n",
              "    }\n",
              "  }\n",
              "</style>\n",
              "\n",
              "  <script>\n",
              "    async function quickchart(key) {\n",
              "      const quickchartButtonEl =\n",
              "        document.querySelector('#' + key + ' button');\n",
              "      quickchartButtonEl.disabled = true;  // To prevent multiple clicks.\n",
              "      quickchartButtonEl.classList.add('colab-df-spinner');\n",
              "      try {\n",
              "        const charts = await google.colab.kernel.invokeFunction(\n",
              "            'suggestCharts', [key], {});\n",
              "      } catch (error) {\n",
              "        console.error('Error during call to suggestCharts:', error);\n",
              "      }\n",
              "      quickchartButtonEl.classList.remove('colab-df-spinner');\n",
              "      quickchartButtonEl.classList.add('colab-df-quickchart-complete');\n",
              "    }\n",
              "    (() => {\n",
              "      let quickchartButtonEl =\n",
              "        document.querySelector('#df-b549b744-ff2f-4e8c-bec1-f1ca6062a4f7 button');\n",
              "      quickchartButtonEl.style.display =\n",
              "        google.colab.kernel.accessAllowed ? 'block' : 'none';\n",
              "    })();\n",
              "  </script>\n",
              "</div>\n",
              "    </div>\n",
              "  </div>\n"
            ]
          },
          "metadata": {},
          "execution_count": 9
        }
      ]
    },
    {
      "cell_type": "markdown",
      "source": [
        "Selecting 4 labels (FP, FN, TP, TN)"
      ],
      "metadata": {
        "id": "0VD7Jrf5ahLK"
      }
    },
    {
      "cell_type": "code",
      "source": [
        "def get_error_type(row):\n",
        "    true_class = row['true_class']\n",
        "    predicted_class = row['predicted_class']\n",
        "\n",
        "    if true_class == predicted_class and true_class == 1:\n",
        "        row['TP'] = 1\n",
        "        row['TN'] = 0\n",
        "        row['FN'] = 0\n",
        "        row['FP'] = 0\n",
        "    elif true_class == predicted_class and true_class == 0:\n",
        "        row['TP'] = 0\n",
        "        row['TN'] = 1\n",
        "        row['FN'] = 0\n",
        "        row['FP'] = 0\n",
        "    elif true_class != predicted_class and true_class == 1:\n",
        "        row['TP'] = 0\n",
        "        row['TN'] = 0\n",
        "        row['FN'] = 1\n",
        "        row['FP'] = 0\n",
        "    elif true_class != predicted_class and true_class == 0:\n",
        "        row['TP'] = 0\n",
        "        row['TN'] = 0\n",
        "        row['FN'] = 0\n",
        "        row['FP'] = 1\n",
        "\n",
        "    return row\n",
        "\n",
        "#apply function to rows in data\n",
        "data_pred = data_pred.apply(get_error_type, axis=1)\n",
        "\n",
        "#print(data_pred.columns)\n",
        "print(data_pred)"
      ],
      "metadata": {
        "colab": {
          "base_uri": "https://localhost:8080/"
        },
        "id": "dej_TSFCaoc9",
        "outputId": "38afc032-6310-4793-cfbc-63f120eaa2ec"
      },
      "execution_count": 12,
      "outputs": [
        {
          "output_type": "stream",
          "name": "stdout",
          "text": [
            "      Number_of_Priors  score_factor  Age_Above_FourtyFive  \\\n",
            "3899                 2             1                     0   \n",
            "3510                 0             1                     0   \n",
            "3825                 0             0                     1   \n",
            "946                  1             0                     0   \n",
            "4663                 3             1                     0   \n",
            "...                ...           ...                   ...   \n",
            "4425                 1             0                     0   \n",
            "5342                 2             1                     0   \n",
            "3621                 4             1                     1   \n",
            "1981                 4             0                     0   \n",
            "5218                 0             0                     0   \n",
            "\n",
            "      Age_Below_TwentyFive  African_American  Asian  Hispanic  \\\n",
            "3899                     1                 1      0         0   \n",
            "3510                     0                 1      0         0   \n",
            "3825                     0                 0      0         0   \n",
            "946                      0                 0      0         0   \n",
            "4663                     1                 0      0         0   \n",
            "...                    ...               ...    ...       ...   \n",
            "4425                     1                 1      0         0   \n",
            "5342                     0                 1      0         0   \n",
            "3621                     0                 0      0         0   \n",
            "1981                     0                 0      0         0   \n",
            "5218                     0                 0      0         0   \n",
            "\n",
            "      Native_American  Other  Female  Misdemeanor  predicted_class  \\\n",
            "3899                0      0       0            0                1   \n",
            "3510                0      0       0            1                0   \n",
            "3825                0      0       1            1                0   \n",
            "946                 0      0       1            0                0   \n",
            "4663                0      0       1            1                1   \n",
            "...               ...    ...     ...          ...              ...   \n",
            "4425                0      0       0            0                1   \n",
            "5342                0      0       0            0                1   \n",
            "3621                0      0       0            0                0   \n",
            "1981                0      0       1            0                0   \n",
            "5218                0      0       0            0                0   \n",
            "\n",
            "      true_class  errors  TP  TN  FN  FP  \n",
            "3899           1       0   1   0   0   0  \n",
            "3510           0       0   0   1   0   0  \n",
            "3825           1       1   0   0   1   0  \n",
            "946            0       0   0   1   0   0  \n",
            "4663           1       0   1   0   0   0  \n",
            "...          ...     ...  ..  ..  ..  ..  \n",
            "4425           1       0   1   0   0   0  \n",
            "5342           1       0   1   0   0   0  \n",
            "3621           1       1   0   0   1   0  \n",
            "1981           1       1   0   0   1   0  \n",
            "5218           0       0   0   1   0   0  \n",
            "\n",
            "[1852 rows x 18 columns]\n"
          ]
        }
      ]
    },
    {
      "cell_type": "markdown",
      "source": [
        "Scatterplot 4 labels (TP, FP, FN, TN) --> discrete variable problem. Scatterplotted on cox_violent_parsed_filt dataset"
      ],
      "metadata": {
        "id": "O0W-m_Rsao6u"
      }
    },
    {
      "cell_type": "code",
      "source": [
        "display(cox_violent_filt.columns)\n",
        "d = cox_violent_filt.groupby('age').agg({'is_recid':'mean'})\n",
        "#d = cox_violent_filt.groupby('age').agg({'FP'})\n",
        "\n",
        "sns.scatterplot(data=d);\n",
        "plt.ylim(0,1);\n",
        "plt.ylabel('Recidivism rate')\n",
        "plt.xlabel('age')\n"
      ],
      "metadata": {
        "colab": {
          "base_uri": "https://localhost:8080/",
          "height": 684
        },
        "id": "WXPpDuEAv-Xx",
        "outputId": "789d4a76-d65f-42a8-eade-10acb068cda4"
      },
      "execution_count": null,
      "outputs": [
        {
          "output_type": "display_data",
          "data": {
            "text/plain": [
              "Index(['id', 'name', 'first', 'last', 'sex', 'dob', 'age', 'age_cat', 'race',\n",
              "       'juv_fel_count', 'decile_score', 'juv_misd_count', 'juv_other_count',\n",
              "       'priors_count', 'days_b_screening_arrest', 'c_jail_in', 'c_jail_out',\n",
              "       'c_days_from_compas', 'c_charge_degree', 'c_charge_desc', 'is_recid',\n",
              "       'r_charge_degree', 'r_days_from_arrest', 'r_offense_date',\n",
              "       'r_charge_desc', 'r_jail_in', 'violent_recid', 'is_violent_recid',\n",
              "       'vr_charge_degree', 'vr_offense_date', 'vr_charge_desc',\n",
              "       'type_of_assessment', 'decile_score.1', 'score_text', 'screening_date',\n",
              "       'v_type_of_assessment', 'v_decile_score', 'v_score_text',\n",
              "       'priors_count.1', 'event'],\n",
              "      dtype='object')"
            ]
          },
          "metadata": {}
        },
        {
          "output_type": "execute_result",
          "data": {
            "text/plain": [
              "Text(0.5, 0, 'age')"
            ]
          },
          "metadata": {},
          "execution_count": 33
        },
        {
          "output_type": "display_data",
          "data": {
            "text/plain": [
              "<Figure size 640x480 with 1 Axes>"
            ],
            "image/png": "[encoded data removed]"
          },
          "metadata": {}
        }
      ]
    },
    {
      "cell_type": "markdown",
      "source": [
        "PCA 4 labels (FP, FN, TP, TN)"
      ],
      "metadata": {
        "id": "qfRDaRpfausR"
      }
    },
    {
      "cell_type": "code",
      "source": [
        "errors_df = data_pred[['TP', 'FP', 'FN', 'TN']]\n",
        "\n",
        "sns.set(style=\"whitegrid\")\n",
        "plt.figure(figsize=(10, 6))\n",
        "\n",
        "# Specify the DataFrame and columns for the bar chart\n",
        "sns.barplot(x=\"variable\", y=\"value\", data=pd.melt(errors_df), ci=None)\n",
        "\n",
        "# Add labels and title\n",
        "plt.xlabel('Feature')\n",
        "plt.ylabel('Count')\n",
        "plt.title('Bar Chart')\n",
        "\n",
        "# Show the plot\n",
        "plt.show()"
      ],
      "metadata": {
        "colab": {
          "base_uri": "https://localhost:8080/",
          "height": 830
        },
        "id": "66v-RoHaEvse",
        "outputId": "6c037f4e-7362-4508-cb96-d8b3594662d2"
      },
      "execution_count": 13,
      "outputs": [
        {
          "output_type": "stream",
          "name": "stdout",
          "text": [
            "      TP  FP  FN  TN\n",
            "3899   1   0   0   0\n",
            "3510   0   0   0   1\n",
            "3825   0   0   1   0\n",
            "946    0   0   0   1\n",
            "4663   1   0   0   0\n",
            "...   ..  ..  ..  ..\n",
            "4425   1   0   0   0\n",
            "5342   1   0   0   0\n",
            "3621   0   0   1   0\n",
            "1981   0   0   1   0\n",
            "5218   0   0   0   1\n",
            "\n",
            "[1852 rows x 4 columns]\n"
          ]
        },
        {
          "output_type": "display_data",
          "data": {
            "text/plain": [
              "<Figure size 1000x600 with 1 Axes>"
            ],
            "image/png": "[encoded data removed]"
          },
          "metadata": {}
        }
      ]
    },
    {
      "cell_type": "code",
      "source": [
        "errors_df.plot(kind='bar', stacked = True)\n",
        "\n",
        "errors_df.plot(kind='bar', stacked=True, figsize=(10, 6))\n",
        "\n",
        "plt.xlabel('Index')\n",
        "plt.ylabel('Count')\n",
        "plt.title('Confusion Matrix Values')\n",
        "plt.show()"
      ],
      "metadata": {
        "colab": {
          "base_uri": "https://localhost:8080/",
          "height": 1000
        },
        "id": "0EgfNpOfGP-q",
        "outputId": "c08933c7-c66f-4999-9395-66a8e707fce5"
      },
      "execution_count": 14,
      "outputs": [
        {
          "output_type": "display_data",
          "data": {
            "text/plain": [
              "<Figure size 640x480 with 1 Axes>"
            ],
            "image/png": "[encoded data removed]"
          },
          "metadata": {}
        },
        {
          "output_type": "display_data",
          "data": {
            "text/plain": [
              "<Figure size 1000x600 with 1 Axes>"
            ],
            "image/png": "[encoded data removed]"
          },
          "metadata": {}
        }
      ]
    }
  ]
}