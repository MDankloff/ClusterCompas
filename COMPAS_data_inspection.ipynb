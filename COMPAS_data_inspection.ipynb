{
  "nbformat": 4,
  "nbformat_minor": 0,
  "metadata": {
    "colab": {
      "provenance": [],
      "mount_file_id": "1uQbJjO1V-LDh0ub5OxexCJqHCr8Wg85B",
      "authorship_tag": "ABX9TyNOvGXEmMqkRIEYevMFAPcL",
      "include_colab_link": true
    },
    "kernelspec": {
      "name": "python3",
      "display_name": "Python 3"
    },
    "language_info": {
      "name": "python"
    }
  },
  "cells": [
    {
      "cell_type": "markdown",
      "metadata": {
        "id": "view-in-github",
        "colab_type": "text"
      },
      "source": [
        "<a href=\"https://colab.research.google.com/github/MDankloff/ClusterCompas/blob/main/COMPAS_data_inspection.ipynb\" target=\"_parent\"><img src=\"https://colab.research.google.com/assets/colab-badge.svg\" alt=\"Open In Colab\"/></a>"
      ]
    },
    {
      "cell_type": "code",
      "execution_count": 33,
      "source": [
        "import numpy as np\n",
        "import pandas as pd\n",
        "import matplotlib.pyplot as plt\n",
        "import seaborn as sns\n",
        "from sklearn.metrics import accuracy_score, confusion_matrix, roc_auc_score, roc_curve\n",
        "from sklearn.model_selection import train_test_split\n",
        "from sklearn.ensemble import RandomForestClassifier\n",
        "import warnings\n",
        "warnings.filterwarnings(\"ignore\")\n",
        "import os\n",
        "\n",
        "# Specify the directory path\n",
        "directory_path = '//Users/mirthedankloff/Documents/XAI_Bias_Error/COMPAS'\n",
        "\n",
        "# Traverse the directory and print the names of all files\n",
        "for dirname, _, filenames in os.walk(directory_path):\n",
        "    for filename in filenames:\n",
        "        print(os.path.join(dirname, filename))\n"
      ],
      "outputs": [],
      "metadata": {
        "id": "38DKEHMzpE5N"
      }
    },
    {
      "cell_type": "markdown",
      "source": [
        "# Load cleaned Compas data"
      ],
      "metadata": {
        "id": "UzPRoaiBYtI5"
      }
    },
    {
      "cell_type": "code",
      "source": [
        "#compas_s = pd.read_csv(\"/content/final_preprocessed_compas(2).csv\")\n",
        "#ofercompas = pd.read_csv(\"/content/propublica_data_for_fairml.csv\")\n",
        "#originalcompas = pd.read_csv(\"/content/compas-scores-two-years-violent.csv\")\n",
        "#cox_violent_filt = pd.read_csv('/content/cox-violent-parsed_filt.csv')\n",
        "compas_2 = pd.read_csv('/content/cleaned_compas_data.csv')"
      ],
      "metadata": {
        "id": "31swZk8rY49a"
      },
      "execution_count": 34,
      "outputs": []
    },
    {
      "cell_type": "code",
      "source": [
        "compas_2.info()"
      ],
      "metadata": {
        "colab": {
          "base_uri": "https://localhost:8080/"
        },
        "id": "bs6AejZM64ka",
        "outputId": "f81d18e2-f9ed-4d45-8b7b-2d2c32581a72"
      },
      "execution_count": 35,
      "outputs": [
        {
          "output_type": "stream",
          "name": "stdout",
          "text": [
            "<class 'pandas.core.frame.DataFrame'>\n",
            "RangeIndex: 7214 entries, 0 to 7213\n",
            "Data columns (total 25 columns):\n",
            " #   Column                   Non-Null Count  Dtype \n",
            "---  ------                   --------------  ----- \n",
            " 0   id                       7214 non-null   int64 \n",
            " 1   sex                      7214 non-null   object\n",
            " 2   age                      7214 non-null   int64 \n",
            " 3   age_cat                  7214 non-null   object\n",
            " 4   race                     7214 non-null   object\n",
            " 5   decile_score             7214 non-null   int64 \n",
            " 6   priors_count             7214 non-null   int64 \n",
            " 7   is_recid                 7214 non-null   int64 \n",
            " 8   is_violent_recid         7214 non-null   int64 \n",
            " 9   score_text               7214 non-null   object\n",
            " 10  v_decile_score           7214 non-null   int64 \n",
            " 11  priors_count.1           7214 non-null   int64 \n",
            " 12  event                    7214 non-null   int64 \n",
            " 13  two_year_recid           7214 non-null   int64 \n",
            " 14  sex_Female               7214 non-null   int64 \n",
            " 15  sex_Male                 7214 non-null   int64 \n",
            " 16  age_cat_25 - 45          7214 non-null   int64 \n",
            " 17  age_cat_Greater than 45  7214 non-null   int64 \n",
            " 18  age_cat_Less than 25     7214 non-null   int64 \n",
            " 19  race_African-American    7214 non-null   int64 \n",
            " 20  race_Asian               7214 non-null   int64 \n",
            " 21  race_Caucasian           7214 non-null   int64 \n",
            " 22  race_Hispanic            7214 non-null   int64 \n",
            " 23  race_Native American     7214 non-null   int64 \n",
            " 24  race_Other               7214 non-null   int64 \n",
            "dtypes: int64(21), object(4)\n",
            "memory usage: 1.4+ MB\n"
          ]
        }
      ]
    },
    {
      "cell_type": "code",
      "source": [
        "#Two targets possible: target 1 = two_year_recid and target 2 = is_recid\n",
        "\n",
        "#target1 = 'two_year_recid'\n",
        "X1 = compas_2.drop(['two_year_recid', 'id', 'score_text', 'is_recid', 'is_violent_recid', 'sex', 'age_cat', 'race'],axis=1)\n",
        "Y1 = compas_2['two_year_recid']\n",
        "\n",
        "#target2 = \"is_recid\"\n",
        "#X2 = compas_2.drop([target2, 'id', 'score_text', 'two_year_recid', 'is_violent_recid],axis=1)\n",
        "#Y2 = compas_2[target2]\n"
      ],
      "metadata": {
        "id": "lvcGzd45bCok"
      },
      "execution_count": 36,
      "outputs": []
    },
    {
      "cell_type": "markdown",
      "source": [
        "# Train Random Forest Classifier"
      ],
      "metadata": {
        "id": "LtLNwji9c59E"
      }
    },
    {
      "cell_type": "code",
      "source": [
        "#--------------Model with target 1: two_year recid----------------\n",
        "\n",
        "X1_train, X1_test, Y1_train, Y1_test = train_test_split(X1, Y1, test_size = 0.3, shuffle = True, stratify = Y1)\n",
        "\n",
        "model = RandomForestClassifier()\n",
        "model.fit(X1_train, Y1_train)\n",
        "\n",
        "#predictions\n",
        "Y1hat = model.predict(X1_test)\n",
        "len(Y1hat)\n",
        "\n",
        "#---------------Model with target 2: is_recid--------------------\n",
        "\n",
        "#X2_train, X2_test, Y2_train, Y2_test = train_test_split(X2, Y2, test_size = 0.3, shuffle = True, stratify = Y2)\n",
        "\n",
        "#model = RandomForestClassifier()\n",
        "#model.fit(X2_train, Y2_train)\n",
        "\n",
        "#predictions\n",
        "#Y2hat = model.predict(X2_test)\n",
        "#len(Y2hat)\n"
      ],
      "metadata": {
        "colab": {
          "base_uri": "https://localhost:8080/"
        },
        "id": "5XNgT6Hcc5dL",
        "outputId": "748aef2d-127b-4dab-f9f1-49d84a1ef70e"
      },
      "execution_count": 37,
      "outputs": [
        {
          "output_type": "execute_result",
          "data": {
            "text/plain": [
              "2165"
            ]
          },
          "metadata": {},
          "execution_count": 37
        }
      ]
    },
    {
      "cell_type": "markdown",
      "source": [
        "# Collect the errors"
      ],
      "metadata": {
        "id": "yfpE0rTSd96H"
      }
    },
    {
      "cell_type": "code",
      "source": [
        "#Create data frame to contain the predicted and true classes - converting y_hat np to df\n",
        "predictions = pd.DataFrame()\n",
        "predictions['predicted_class'] = Y1hat.tolist()\n",
        "predictions = predictions.set_index(X1_test.index)\n",
        "predictions['true_class'] = Y1_test\n",
        "\n",
        "#calculating the errors with the absolute value\n",
        "predictions['errors'] = abs(predictions['predicted_class'] - predictions['true_class'])\n",
        "\n",
        "#adding predictions to the test data\n",
        "entire_dataset = X1_test.merge(predictions, how= 'outer', left_index = True, right_index = True)\n",
        "\n",
        "errors = entire_dataset['errors']\n",
        "df_out = entire_dataset.drop(['predicted_class', 'true_class', 'errors'], axis=1)\n",
        "entire_dataset[entire_dataset['errors']==1]\n",
        "\n",
        "#accuracy\n",
        "accuracy = accuracy_score(predictions['true_class'], predictions['predicted_class'])\n",
        "print(f\"Accuracy: {accuracy:.4f}\")\n",
        "\n",
        "#confusion matrix\n",
        "cm = confusion_matrix(predictions['true_class'], predictions['predicted_class'])\n",
        "print(cm)\n"
      ],
      "metadata": {
        "colab": {
          "base_uri": "https://localhost:8080/"
        },
        "id": "r5ex544tgsZm",
        "outputId": "fe740675-a219-4ff2-e1c9-9336243eb3cc"
      },
      "execution_count": 38,
      "outputs": [
        {
          "output_type": "stream",
          "name": "stdout",
          "text": [
            "Accuracy: 0.8711\n",
            "[[1077  112]\n",
            " [ 167  809]]\n"
          ]
        }
      ]
    },
    {
      "cell_type": "markdown",
      "source": [
        "Selecting 4 labels (FP, FN, TP, TN)"
      ],
      "metadata": {
        "id": "0VD7Jrf5ahLK"
      }
    },
    {
      "cell_type": "code",
      "source": [
        "def get_error_type(row):\n",
        "    true_class = row['true_class']\n",
        "    predicted_class = row['predicted_class']\n",
        "\n",
        "    if true_class == predicted_class and true_class == 1:\n",
        "        row['TP'] = 1\n",
        "        row['TN'] = 0\n",
        "        row['FN'] = 0\n",
        "        row['FP'] = 0\n",
        "    elif true_class == predicted_class and true_class == 0:\n",
        "        row['TP'] = 0\n",
        "        row['TN'] = 1\n",
        "        row['FN'] = 0\n",
        "        row['FP'] = 0\n",
        "    elif true_class != predicted_class and true_class == 1:\n",
        "        row['TP'] = 0\n",
        "        row['TN'] = 0\n",
        "        row['FN'] = 1\n",
        "        row['FP'] = 0\n",
        "    elif true_class != predicted_class and true_class == 0:\n",
        "        row['TP'] = 0\n",
        "        row['TN'] = 0\n",
        "        row['FN'] = 0\n",
        "        row['FP'] = 1\n",
        "\n",
        "    return row\n",
        "\n",
        "#apply function to rows in data\n",
        "entire_dataset = entire_dataset.apply(get_error_type, axis=1)\n",
        "\n",
        "#print(data_pred.columns)\n",
        "print(entire_dataset)"
      ],
      "metadata": {
        "colab": {
          "base_uri": "https://localhost:8080/"
        },
        "id": "dej_TSFCaoc9",
        "outputId": "c55c5b21-bb5f-406e-d7e8-2715d4579268"
      },
      "execution_count": 39,
      "outputs": [
        {
          "output_type": "stream",
          "name": "stdout",
          "text": [
            "      age  decile_score  priors_count  v_decile_score  priors_count.1  event  \\\n",
            "6449   53             2             3               1               3      0   \n",
            "2712   35             8            14               5              14      1   \n",
            "6113   59             1             1               1               1      0   \n",
            "4523   20             4             0               6               0      1   \n",
            "6233   26             4             1               3               1      0   \n",
            "...   ...           ...           ...             ...             ...    ...   \n",
            "3794   36             3             1               2               1      0   \n",
            "546    44             3             1               1               1      0   \n",
            "3290   23             9             0               9               0      1   \n",
            "3972   57             2             6               2               6      0   \n",
            "3235   46             4             4               1               4      0   \n",
            "\n",
            "      sex_Female  sex_Male  age_cat_25 - 45  age_cat_Greater than 45  ...  \\\n",
            "6449           1         0                0                        1  ...   \n",
            "2712           0         1                1                        0  ...   \n",
            "6113           0         1                0                        1  ...   \n",
            "4523           0         1                0                        0  ...   \n",
            "6233           0         1                1                        0  ...   \n",
            "...          ...       ...              ...                      ...  ...   \n",
            "3794           1         0                1                        0  ...   \n",
            "546            0         1                1                        0  ...   \n",
            "3290           0         1                0                        0  ...   \n",
            "3972           0         1                0                        1  ...   \n",
            "3235           0         1                0                        1  ...   \n",
            "\n",
            "      race_Hispanic  race_Native American  race_Other  predicted_class  \\\n",
            "6449              0                     0           0                0   \n",
            "2712              0                     0           0                1   \n",
            "6113              0                     0           0                0   \n",
            "4523              1                     0           0                1   \n",
            "6233              0                     0           0                0   \n",
            "...             ...                   ...         ...              ...   \n",
            "3794              0                     0           0                0   \n",
            "546               0                     0           0                0   \n",
            "3290              0                     0           0                1   \n",
            "3972              0                     0           0                0   \n",
            "3235              0                     0           0                0   \n",
            "\n",
            "      true_class  errors  TP  TN  FN  FP  \n",
            "6449           0       0   0   1   0   0  \n",
            "2712           1       0   1   0   0   0  \n",
            "6113           0       0   0   1   0   0  \n",
            "4523           1       0   1   0   0   0  \n",
            "6233           0       0   0   1   0   0  \n",
            "...          ...     ...  ..  ..  ..  ..  \n",
            "3794           1       1   0   0   1   0  \n",
            "546            0       0   0   1   0   0  \n",
            "3290           1       0   1   0   0   0  \n",
            "3972           0       0   0   1   0   0  \n",
            "3235           0       0   0   1   0   0  \n",
            "\n",
            "[2165 rows x 24 columns]\n"
          ]
        }
      ]
    },
    {
      "cell_type": "code",
      "source": [
        "if (entire_dataset['FP'] == 1).any():\n",
        "    print(\"There's at least one occurrence of 1 in the column.\")\n",
        "else:\n",
        "    print(\"There's no occurrence of 1 in the column.\")"
      ],
      "metadata": {
        "colab": {
          "base_uri": "https://localhost:8080/"
        },
        "id": "AucH2SA74QFS",
        "outputId": "a5954dbf-8ab6-4d87-9dd3-325d15b77de2"
      },
      "execution_count": 40,
      "outputs": [
        {
          "output_type": "stream",
          "name": "stdout",
          "text": [
            "There's at least one occurrence of 1 in the column.\n"
          ]
        }
      ]
    },
    {
      "cell_type": "markdown",
      "source": [
        "add categorical for error type"
      ],
      "metadata": {
        "id": "O0W-m_Rsao6u"
      }
    },
    {
      "cell_type": "code",
      "source": [
        "# Extract dummy variables for error labels\n",
        "error_type = entire_dataset[['TP', 'FP', 'FN', 'TN']]\n",
        "\n",
        "# Convert 'Error_type' column to categorical\n",
        "entire_dataset['Error_Type'] = error_type.idxmax(axis=1).astype('category')\n",
        "\n",
        "# Drop the original 'TP', 'FP', 'FN', 'TN' columns if needed\n",
        "# data_all.drop(['TP', 'FP', 'FN', 'TN'], axis=1, inplace=True)\n",
        "\n",
        "entire_dataset = pd.merge(entire_dataset, compas_2[['sex', 'age_cat', 'race']], left_index=True, right_index=True)\n",
        "\n",
        "\n",
        "print(entire_dataset)"
      ],
      "metadata": {
        "colab": {
          "base_uri": "https://localhost:8080/"
        },
        "id": "RU3amSu-EBgK",
        "outputId": "ee7dc63c-092d-4642-b783-ddfd838907ff"
      },
      "execution_count": 41,
      "outputs": [
        {
          "output_type": "stream",
          "name": "stdout",
          "text": [
            "      age  decile_score  priors_count  v_decile_score  priors_count.1  event  \\\n",
            "6449   53             2             3               1               3      0   \n",
            "2712   35             8            14               5              14      1   \n",
            "6113   59             1             1               1               1      0   \n",
            "4523   20             4             0               6               0      1   \n",
            "6233   26             4             1               3               1      0   \n",
            "...   ...           ...           ...             ...             ...    ...   \n",
            "3794   36             3             1               2               1      0   \n",
            "546    44             3             1               1               1      0   \n",
            "3290   23             9             0               9               0      1   \n",
            "3972   57             2             6               2               6      0   \n",
            "3235   46             4             4               1               4      0   \n",
            "\n",
            "      sex_Female  sex_Male  age_cat_25 - 45  age_cat_Greater than 45  ...  \\\n",
            "6449           1         0                0                        1  ...   \n",
            "2712           0         1                1                        0  ...   \n",
            "6113           0         1                0                        1  ...   \n",
            "4523           0         1                0                        0  ...   \n",
            "6233           0         1                1                        0  ...   \n",
            "...          ...       ...              ...                      ...  ...   \n",
            "3794           1         0                1                        0  ...   \n",
            "546            0         1                1                        0  ...   \n",
            "3290           0         1                0                        0  ...   \n",
            "3972           0         1                0                        1  ...   \n",
            "3235           0         1                0                        1  ...   \n",
            "\n",
            "      true_class  errors  TP  TN  FN  FP  Error_Type     sex          age_cat  \\\n",
            "6449           0       0   0   1   0   0          TN  Female  Greater than 45   \n",
            "2712           1       0   1   0   0   0          TP    Male          25 - 45   \n",
            "6113           0       0   0   1   0   0          TN    Male  Greater than 45   \n",
            "4523           1       0   1   0   0   0          TP    Male     Less than 25   \n",
            "6233           0       0   0   1   0   0          TN    Male          25 - 45   \n",
            "...          ...     ...  ..  ..  ..  ..         ...     ...              ...   \n",
            "3794           1       1   0   0   1   0          FN  Female          25 - 45   \n",
            "546            0       0   0   1   0   0          TN    Male          25 - 45   \n",
            "3290           1       0   1   0   0   0          TP    Male     Less than 25   \n",
            "3972           0       0   0   1   0   0          TN    Male  Greater than 45   \n",
            "3235           0       0   0   1   0   0          TN    Male  Greater than 45   \n",
            "\n",
            "                  race  \n",
            "6449  African-American  \n",
            "2712  African-American  \n",
            "6113  African-American  \n",
            "4523          Hispanic  \n",
            "6233  African-American  \n",
            "...                ...  \n",
            "3794  African-American  \n",
            "546   African-American  \n",
            "3290         Caucasian  \n",
            "3972         Caucasian  \n",
            "3235         Caucasian  \n",
            "\n",
            "[2165 rows x 28 columns]\n"
          ]
        }
      ]
    },
    {
      "cell_type": "markdown",
      "source": [
        "\n",
        "Barchart 4 labels (FP, FN, TP, TN)"
      ],
      "metadata": {
        "id": "qfRDaRpfausR"
      }
    },
    {
      "cell_type": "code",
      "source": [
        "errors_df = entire_dataset[['TP', 'FP', 'FN', 'TN']]\n",
        "\n",
        "# Melt the DataFrame for easy plotting\n",
        "melted_df = pd.melt(errors_df, var_name='Error_Type', value_name='Count')\n",
        "\n",
        "# Pivot the DataFrame for stacked bar chart\n",
        "pivot_df = melted_df.pivot_table(index='Error_Type', columns='Error_Type', values='Count', aggfunc='sum', fill_value=0)\n",
        "\n",
        "# Plot the stacked bar chart\n",
        "pivot_df.plot(kind='bar', stacked=True, figsize=(10, 6))\n",
        "\n",
        "# Add labels and title\n",
        "plt.xlabel('Error Type')\n",
        "plt.ylabel('Count')\n",
        "plt.title('Stacked Bar Chart')\n",
        "\n",
        "# Show the plot\n",
        "plt.show()\n"
      ],
      "metadata": {
        "colab": {
          "base_uri": "https://localhost:8080/",
          "height": 569
        },
        "id": "66v-RoHaEvse",
        "outputId": "d7adff60-2cd4-4e51-ae5a-dddc524979ba"
      },
      "execution_count": 44,
      "outputs": [
        {
          "output_type": "display_data",
          "data": {
            "text/plain": [
              "<Figure size 1000x600 with 1 Axes>"
            ],
            "image/png": "[encoded data removed]"
          },
          "metadata": {}
        }
      ]
    },
    {
      "cell_type": "markdown",
      "source": [
        "# Barchart 4 labels per demographic group"
      ],
      "metadata": {
        "id": "R0wGMuHv5Flg"
      }
    },
    {
      "cell_type": "code",
      "source": [
        "# Melt the DataFrame for easy plotting\n",
        "melted_df = pd.melt(entire_dataset, id_vars=['race', 'Error_Type'], value_vars=['TP', 'TN', 'FN', 'FP'], var_name='Type', value_name='Count')\n",
        "\n",
        "# Get unique races and error types\n",
        "races = melted_df['race'].unique()\n",
        "error_labels = melted_df['Error_Type'].unique()\n",
        "\n",
        "# Set up the figure and axis\n",
        "fig, ax = plt.subplots(figsize=(12, 8))\n",
        "\n",
        "# Loop through error labels and plot stacked bars for each race\n",
        "bottom = np.zeros(len(races))\n",
        "for error_label in error_labels:\n",
        "    error_label_df = melted_df[melted_df['Error_Type'] == error_label]\n",
        "    counts = error_label_df.groupby('race')['Count'].sum()\n",
        "\n",
        "    # Make sure counts cover all races\n",
        "    counts = counts.reindex(races, fill_value=0)\n",
        "\n",
        "    ax.bar(races, counts, label=error_label, bottom=bottom)\n",
        "    bottom += counts\n",
        "\n",
        "# Add labels and title\n",
        "ax.set_xlabel('Race')\n",
        "ax.set_ylabel('Count')\n",
        "ax.set_title('Stacked Bar Chart for Error Type per Race Group')\n",
        "ax.legend(title='Error', loc='upper right')\n",
        "\n",
        "# Show the plot\n",
        "plt.show()\n",
        "\n",
        "\n"
      ],
      "metadata": {
        "colab": {
          "base_uri": "https://localhost:8080/",
          "height": 718
        },
        "id": "tj4ug0QAvnzk",
        "outputId": "1a059245-8469-4cd6-abaf-6e062f4eea61"
      },
      "execution_count": 52,
      "outputs": [
        {
          "output_type": "display_data",
          "data": {
            "text/plain": [
              "<Figure size 1200x800 with 1 Axes>"
            ],
            "image/png": "[encoded data removed]"
          },
          "metadata": {}
        }
      ]
    },
    {
      "cell_type": "markdown",
      "source": [
        "# Barchart error labels per sex"
      ],
      "metadata": {
        "id": "xJ2tun6oDpvy"
      }
    },
    {
      "cell_type": "code",
      "source": [
        "# Melt the DataFrame for easy plotting\n",
        "melted_df_sex = pd.melt(entire_dataset, id_vars=['sex', 'Error_Type'], value_vars=['TP', 'TN', 'FN', 'FP'], var_name='Type', value_name='Count')\n",
        "\n",
        "# Get unique sexes and error types\n",
        "sexes = melted_df_sex['sex'].unique()\n",
        "error_labels = melted_df_sex['Error_Type'].unique()\n",
        "\n",
        "# Set up the figure and axis\n",
        "fig, ax = plt.subplots(figsize=(12, 8))\n",
        "\n",
        "# Loop through error labels and plot stacked bars for each sex\n",
        "bottom = np.zeros(len(sexes))\n",
        "for error_label in error_labels:\n",
        "    error_label_df = melted_df_sex[melted_df_sex['Error_Type'] == error_label]\n",
        "    counts = error_label_df.groupby('sex')['Count'].sum()\n",
        "\n",
        "    # Make sure counts cover all sexes\n",
        "    counts = counts.reindex(sexes, fill_value=0)\n",
        "\n",
        "    ax.bar(sexes, counts, label=error_label, bottom=bottom)\n",
        "    bottom += counts\n",
        "\n",
        "# Add labels and title\n",
        "ax.set_xlabel('Sex')\n",
        "ax.set_ylabel('Count')\n",
        "ax.set_title('Stacked Bar Chart for Error Type per Sex Group')\n",
        "ax.legend(title='Error', loc='upper right')\n",
        "\n",
        "# Show the plot\n",
        "plt.show()\n"
      ],
      "metadata": {
        "colab": {
          "base_uri": "https://localhost:8080/",
          "height": 718
        },
        "id": "ZnsQy4dLGGFL",
        "outputId": "63083131-606a-445d-b322-ba206958f7b7"
      },
      "execution_count": 53,
      "outputs": [
        {
          "output_type": "display_data",
          "data": {
            "text/plain": [
              "<Figure size 1200x800 with 1 Axes>"
            ],
            "image/png": "[encoded data removed]"
          },
          "metadata": {}
        }
      ]
    },
    {
      "cell_type": "markdown",
      "source": [
        "# Scatterplot"
      ],
      "metadata": {
        "id": "5R_HPlpWGPvq"
      }
    }
  ]
}