{
  "nbformat": 4,
  "nbformat_minor": 0,
  "metadata": {
    "colab": {
      "provenance": [],
      "collapsed_sections": [
        "l3ZumSo56l9L",
        "VRr-JGmoSNyO",
        "mw7ZAR6tyVy0",
        "noGzMCHLZCFg"
      ],
      "authorship_tag": "ABX9TyPxjzvpYXtnnjxyy/tplBO2",
      "include_colab_link": true
    },
    "kernelspec": {
      "name": "python3",
      "display_name": "Python 3"
    },
    "language_info": {
      "name": "python"
    }
  },
  "cells": [
    {
      "cell_type": "markdown",
      "metadata": {
        "id": "view-in-github",
        "colab_type": "text"
      },
      "source": [
        "<a href=\"https://colab.research.google.com/github/MDankloff/ClusterCompas/blob/main/V3_COMPAS_Clustering_K_Means.ipynb\" target=\"_parent\"><img src=\"https://colab.research.google.com/assets/colab-badge.svg\" alt=\"Open In Colab\"/></a>"
      ]
    },
    {
      "cell_type": "markdown",
      "source": [
        "# Libraries"
      ],
      "metadata": {
        "id": "amdTO-ejctkD"
      }
    },
    {
      "cell_type": "code",
      "execution_count": 57,
      "metadata": {
        "id": "6p03LXU_cl1D"
      },
      "outputs": [],
      "source": [
        "import numpy as np\n",
        "import matplotlib.pyplot as plt\n",
        "import pandas as pd\n",
        "import seaborn as sns\n",
        "import random\n",
        "import os\n",
        "from sklearn.cluster import KMeans, DBSCAN\n",
        "from sklearn.neighbors import NearestNeighbors\n",
        "from sklearn.cluster import MeanShift, estimate_bandwidth\n",
        "from sklearn.preprocessing import StandardScaler, MinMaxScaler\n",
        "from sklearn.decomposition import PCA\n",
        "from sklearn.manifold import TSNE\n",
        "from scipy import stats\n",
        "from scipy.stats import ttest_ind\n",
        "from scipy.stats import f_oneway\n",
        "\n",
        "import warnings\n",
        "warnings.filterwarnings('ignore')"
      ]
    },
    {
      "cell_type": "markdown",
      "source": [
        "# LOAD (META) DATA"
      ],
      "metadata": {
        "id": "WoAA5JWHc_qW"
      }
    },
    {
      "cell_type": "code",
      "source": [
        "data_shaper = pd.read_csv('/content/Compas_error_shap.csv')\n",
        "#data_shaperr.head()\n",
        "#data_shaperr.info()\n",
        "#data_shaper.iloc[3]"
      ],
      "metadata": {
        "id": "lncfm9EwEifF"
      },
      "execution_count": 58,
      "outputs": []
    },
    {
      "cell_type": "code",
      "source": [
        "#Master Dataset\n",
        "META_COL = ['clusters', 'new_clusters']\n",
        "META_COL_VIZ = ['Error_Type']\n",
        "\n",
        "ERROR_COL = ['errors', 'TP', 'TN', 'FN', 'FP']\n",
        "BASIC_COL = ['age', 'decile_score', 'priors_count']\n",
        "DUMMY_COL = ['sex_Female', 'sex_Male','race_African-American', 'race_Asian', 'race_Caucasian', 'race_Hispanic',\n",
        "                      'race_Native American', 'race_Other']\n",
        "\n",
        "ERROR_COL_scaled = ['errors_scaled', 'TP_scaled', 'TN_scaled', 'FN_scaled', 'FP_scaled']\n",
        "BASIC_COL_scaled = ['age_scaled', 'decile_score_scaled', 'priors_count_scaled']\n",
        "DUMMY_COL_scaled = ['sex_Female_scaled', 'sex_Male_scaled', 'race_Native American_scaled','race_Other_scaled',\n",
        "                'race_African-American_scaled', 'race_Asian_scaled', 'race_Caucasian_scaled', 'race_Hispanic_scaled']\n",
        "\n",
        "#SHAP is created on BASIC_COL_scaled and DUMMY_COL_scaled\n",
        "SHAP_BASIC = ['Shap_age', 'Shap_decile_score', 'Shap_priors_count']\n",
        "SHAP_DUMMY = ['Shap_sex_Female', 'Shap_sex_Male','Shap_race_African-American', 'Shap_race_Asian', 'Shap_race_Caucasian',\n",
        "                         'Shap_race_Hispanic', 'Shap_race_Native American', 'Shap_race_Other']\n",
        "\n",
        "SHAP_BASIC_scaled = ['Shap_age_scaled', 'Shap_decile_score_scaled', 'Shap_priors_count_scaled']\n",
        "SHAP_DUMMY_scaled = ['Shap_sex_Female_scaled', 'Shap_sex_Male_scaled','Shap_race_African-American_scaled',\n",
        "                     'Shap_race_Asian_scaled', 'Shap_race_Caucasian_scaled','Shap_race_Hispanic_scaled',\n",
        "                     'Shap_race_Native American_scaled', 'Shap_race_Other_scaled']"
      ],
      "metadata": {
        "id": "Ot8djK6adHLL"
      },
      "execution_count": 59,
      "outputs": []
    },
    {
      "cell_type": "markdown",
      "source": [
        "# DATA PREP UTILS"
      ],
      "metadata": {
        "id": "3_mds7crD9Te"
      }
    },
    {
      "cell_type": "code",
      "source": [
        "#Seperate TPFN & TNFP dataset\n",
        "'''Drop rows where both TP and FN are 0 '''\n",
        "def drop_zero_TP_FN(data):\n",
        "    return data.loc[(data['TP'] == 1) | (data['FN'] == 1)]\n",
        "\n",
        "'''Drop rows where both TN and FP are 0'''\n",
        "def drop_zero_TN_FP(data):\n",
        "    return data.loc[(data['TN'] == 1) | (data['FP'] == 1)]\n",
        "\n",
        "TPFN_all = drop_zero_TP_FN(data_shaper)\n",
        "TNFP_all = drop_zero_TN_FP(data_shaper)\n"
      ],
      "metadata": {
        "id": "8A9b1ah7dR22"
      },
      "execution_count": 60,
      "outputs": []
    },
    {
      "cell_type": "code",
      "source": [
        "#convert Error_Type to numeric labels\n",
        "#TPFN_all['Error_Type'] = TPFN_all['Error_Type'].map({'FN': 0, 'FP': 1, 'TP': 2, 'TN': 3})\n",
        "#TNFP_all['Error_Type'] = TNFP_all['Error_Type'].map({'FN': 0, 'FP': 1, 'TP': 2, 'TN': 3})"
      ],
      "metadata": {
        "id": "uHAORq2LPZMJ"
      },
      "execution_count": 61,
      "outputs": []
    },
    {
      "cell_type": "code",
      "source": [
        "#drop Na's\n",
        "TPFN_all = TPFN_all.dropna()\n",
        "TNFP_all = TNFP_all.dropna()"
      ],
      "metadata": {
        "id": "-BLx4V_hwx0F"
      },
      "execution_count": 62,
      "outputs": []
    },
    {
      "cell_type": "code",
      "source": [
        "#create scaled and unscaled versions of TPFN - TNFP\n",
        "TPFN_scaled = TPFN_all.drop(BASIC_COL + DUMMY_COL + ERROR_COL + SHAP_BASIC + SHAP_DUMMY, axis=1)\n",
        "TPFN_unscaled = TPFN_all.drop(BASIC_COL_scaled + DUMMY_COL_scaled + ERROR_COL_scaled + SHAP_BASIC_scaled + SHAP_DUMMY_scaled, axis=1)\n",
        "TNFP_scaled = TNFP_all.drop(BASIC_COL + DUMMY_COL + ERROR_COL + SHAP_BASIC + SHAP_DUMMY, axis=1)\n",
        "TNFP_unscaled = TNFP_all.drop(BASIC_COL_scaled + DUMMY_COL_scaled + ERROR_COL_scaled + SHAP_BASIC_scaled + SHAP_DUMMY_scaled, axis=1)\n",
        "\n",
        "TPFN_scaled.iloc[3]\n",
        "#TNFP_unscaled.iloc[3]"
      ],
      "metadata": {
        "colab": {
          "base_uri": "https://localhost:8080/"
        },
        "id": "85dBJFflPRoJ",
        "outputId": "cbc608d0-7206-4a9a-8dfa-e85b5a33f361"
      },
      "execution_count": 63,
      "outputs": [
        {
          "output_type": "execute_result",
          "data": {
            "text/plain": [
              "age_scaled                          -0.237043\n",
              "decile_score_scaled                  1.572172\n",
              "priors_count_scaled                  0.927366\n",
              "sex_Female_scaled                   -0.489624\n",
              "sex_Male_scaled                      0.489624\n",
              "race_African-American_scaled        -1.024986\n",
              "race_Asian_scaled                    -0.06675\n",
              "race_Caucasian_scaled                1.392728\n",
              "race_Hispanic_scaled                -0.311212\n",
              "race_Native American_scaled         -0.050014\n",
              "race_Other_scaled                   -0.234822\n",
              "Error_Type                                 TP\n",
              "Shap_age_scaled                      0.023265\n",
              "Shap_decile_score_scaled             0.078974\n",
              "Shap_priors_count_scaled            -0.234463\n",
              "Shap_sex_Female_scaled               0.568482\n",
              "Shap_sex_Male_scaled                 0.492711\n",
              "Shap_race_African-American_scaled    1.873989\n",
              "Shap_race_Asian_scaled               0.048762\n",
              "Shap_race_Caucasian_scaled           0.857553\n",
              "Shap_race_Hispanic_scaled            7.964147\n",
              "Shap_race_Native American_scaled     0.043454\n",
              "Shap_race_Other_scaled               0.477967\n",
              "errors_scaled                          1.3017\n",
              "TP_scaled                            -0.59143\n",
              "TN_scaled                           -0.765895\n",
              "FN_scaled                           -0.482925\n",
              "FP_scaled                            2.119851\n",
              "Name: 5, dtype: object"
            ]
          },
          "metadata": {},
          "execution_count": 63
        }
      ]
    },
    {
      "cell_type": "code",
      "source": [
        "def initialize_dataset(data, meta_col=True, with_error_col =True, with_classes=True):\n",
        "    \"\"\"\n",
        "    Prepare the dataset by scaling the features and adding new columns for clusters = 0 and new_clusters = -1 which is required for HBAC.\n",
        "\n",
        "    PARAM:\n",
        "    - data: input dataset.\n",
        "    - meta_col (bool): If True, keeps META_COL in the final dataset\n",
        "    - with_error_col (bool): If True, includes ERROR_COL in the features to scale\n",
        "    - with_classes (bool): If True, retains class columns from META_COL in the new dataset\n",
        "\n",
        "    Returns:\n",
        "    - pd.DataFrame: dataset with scaled features and cluster columns.\n",
        "    \"\"\"\n",
        "\n",
        "    # 1. Make deep copy of the dataset\n",
        "    new_data = data.copy(deep=True)\n",
        "\n",
        "    # 2. Ignore META_COL and META_COL_viz for scaling and add them back in step 4\n",
        "    if meta_col:\n",
        "      columns_to_drop = META_COL + META_COL_VIZ\n",
        "      columns_to_drop = [col for col in columns_to_drop if col in new_data.columns]\n",
        "      new_data = new_data.drop(columns=columns_to_drop, errors='ignore')\n",
        "\n",
        "    # 3. Scale features\n",
        "    features_to_scale = new_data.columns.tolist()\n",
        "    if not with_error_col:\n",
        "        features_to_scale = [col for col in features_to_scale if col not in ERROR_COL + ERROR_COL_scaled]\n",
        "\n",
        "    scaler = StandardScaler()\n",
        "    new_data[features_to_scale] = scaler.fit_transform(new_data[features_to_scale])\n",
        "\n",
        "    # 5. Add back META_COL_VIZ and META_COL_VIZ if required\n",
        "    if meta_col:\n",
        "        for col in META_COL:\n",
        "            if col in data.columns:\n",
        "                new_data[col] = data[col]\n",
        "    for col in META_COL_VIZ:\n",
        "        if col in data.columns:\n",
        "            new_data[col] = data[col]\n",
        "\n",
        "    # Initialize clusters and new_clusters columns\n",
        "    new_data['clusters'] = 0\n",
        "    new_data['new_clusters'] = -1\n",
        "\n",
        "    return new_data"
      ],
      "metadata": {
        "id": "hv-wMxciCkAV"
      },
      "execution_count": 64,
      "outputs": []
    },
    {
      "cell_type": "code",
      "source": [
        "# Example usage\n",
        "#TPFN_init = initialize_dataset(TPFN_unscaled, meta_col=True, with_error_col=True, with_classes=True)\n",
        "#TNFP_init = initialize_dataset(TNFP_unscaled, meta_col=True, with_error_col=True, with_classes=True)\n",
        "TPFN_init = initialize_dataset(TPFN_scaled, meta_col=True, with_error_col=True, with_classes=True) # Check (it will give the same dataset)\n",
        "TNFP_init = initialize_dataset(TNFP_scaled, meta_col=True, with_error_col=True, with_classes=True)\n",
        "#TPFN_init.iloc[3]\n",
        "TNFP_init.iloc[3]\n",
        "#TNFP_init2.iloc[3]\n"
      ],
      "metadata": {
        "colab": {
          "base_uri": "https://localhost:8080/"
        },
        "id": "8bDAPOW54Mh4",
        "outputId": "d4ba87a9-1e56-415a-927a-b025eb5c8aaa"
      },
      "execution_count": 65,
      "outputs": [
        {
          "output_type": "execute_result",
          "data": {
            "text/plain": [
              "age_scaled                          -0.480655\n",
              "decile_score_scaled                 -0.240149\n",
              "priors_count_scaled                  0.168178\n",
              "sex_Female_scaled                    -0.52862\n",
              "sex_Male_scaled                       0.52862\n",
              "race_African-American_scaled        -0.895162\n",
              "race_Asian_scaled                    -0.07169\n",
              "race_Caucasian_scaled               -0.792353\n",
              "race_Hispanic_scaled                 3.100388\n",
              "race_Native American_scaled         -0.054133\n",
              "race_Other_scaled                    -0.26841\n",
              "Shap_age_scaled                     -1.239822\n",
              "Shap_decile_score_scaled            -1.460343\n",
              "Shap_priors_count_scaled            -1.022759\n",
              "Shap_sex_Female_scaled               0.247435\n",
              "Shap_sex_Male_scaled                 0.283493\n",
              "Shap_race_African-American_scaled   -0.174953\n",
              "Shap_race_Asian_scaled               0.010215\n",
              "Shap_race_Caucasian_scaled          -0.439667\n",
              "Shap_race_Hispanic_scaled            0.123179\n",
              "Shap_race_Native American_scaled     0.041392\n",
              "Shap_race_Other_scaled               0.138731\n",
              "errors_scaled                        1.330885\n",
              "TP_scaled                           -0.595067\n",
              "TN_scaled                           -0.778979\n",
              "FN_scaled                            2.131317\n",
              "FP_scaled                           -0.469194\n",
              "Error_Type                                 TN\n",
              "clusters                                    0\n",
              "new_clusters                               -1\n",
              "Name: 7, dtype: object"
            ]
          },
          "metadata": {},
          "execution_count": 65
        }
      ]
    },
    {
      "cell_type": "markdown",
      "source": [],
      "metadata": {
        "id": "rDMkTbI-EOc9"
      }
    },
    {
      "cell_type": "code",
      "source": [
        "'''undo Dummy for DUMMY_RACE or DUMMY_GENDER'''\n",
        "def undo_dummy(data, with_Dummy, col_label, numeric_values=True, short_label=None):\n",
        "  data[col_label] = ''\n",
        "  for i, c in enumerate(with_Dummy):\n",
        "    values = np.sort(data[c].unique())\n",
        "    if numeric_values:\n",
        "      data.loc[data[c] == values[1], col_label] = i\n",
        "    else:\n",
        "      if short_label is None:\n",
        "        raise ValueError(\"short label must be provided if numeric_values is False\")\n",
        "        data.loc[data[c] == values[1], col_label] = short_label[i]\n",
        "    data = data.drop(c, axis=1)\n",
        "  return(data)\n",
        "\n",
        "#data = undo_dummy(data, DUMMY_RACE, col_label='race', numeric_values=False, short_label=SHORT_LABEL_RACE)\n",
        "#data = undo_dummy(data, DUMMY_GENDER, col_label='gender', numeric_values=False, short_label=SHORT_LABEL_GENDER)"
      ],
      "metadata": {
        "id": "bYnrCZPlw8Of"
      },
      "execution_count": 66,
      "outputs": []
    },
    {
      "cell_type": "markdown",
      "source": [
        "# UTILS for BIAS in ERROR DIFFERENCE"
      ],
      "metadata": {
        "id": "l3ZumSo56l9L"
      }
    },
    {
      "cell_type": "code",
      "source": [
        "#Calculate average Error rate based on unscaled error rate by counting the amount of max values (1) and dividing them by the total nr of rows - replacing old accuracy_error() from V1\n",
        "def get_error_rate(data, column = 'errors'):\n",
        "  if len(data) == 0:\n",
        "    print ('calculating error rate on an empty cluster')\n",
        "    return\n",
        "  max_value = data[column].max()\n",
        "  count_max_value = (data[column] == max_value).sum()\n",
        "  average_error_rate = count_max_value / len(data)\n",
        "  return average_error_rate\n",
        "\n",
        "'''Calculate BIAS in terms of Error Difference\n",
        "bias_type can be 'negative', 'positive' or 'absolute'\n",
        "baseline can be 'all' which is the overall error rate, or 'other' or 'best' '''\n",
        "\n",
        "def get_error_diff(data, cluster_id, cluster_col, bias_type = 'negative', baseline= 'all'):\n",
        "  cluster_x= data.loc[data[cluster_col] == cluster_id]\n",
        "  remaining_clusters = data.loc[data[cluster_col] != cluster_id]\n",
        "\n",
        "  if len(cluster_x) == 0:\n",
        "    print ('calculating error difference on an empty cluster')\n",
        "    return\n",
        "\n",
        "  if baseline == 'all':\n",
        "    error_diff = get_error_rate(cluster_x) - get_error_rate(data)\n",
        "\n",
        "  elif baseline == 'other':\n",
        "    if len(remaining_clusters) == 0:\n",
        "      print (\"This cluster is the entire dataset. Cluster:\", cluster_id)\n",
        "      return\n",
        "    error_diff = get_error_rate(cluster_x) - get_error_rate(remaining_clusters)\n",
        "\n",
        "  elif baseline == 'best':\n",
        "    best_cluster = get_min_bias_cluster(data, cluster_col, bias_type, baseline)\n",
        "    error_diff = get_error_rate(cluster_x) - best_cluster[1]\n",
        "\n",
        "  else:\n",
        "    print ('unknown baseline')\n",
        "    return\n",
        "\n",
        "  #if full_info:\n",
        "    #return [error_diff, function(cluster_x), function(remaining_clusters)]\n",
        "\n",
        "  if bias_type == 'negative':\n",
        "    pass #no change needed\n",
        "  elif bias_type == 'positive':\n",
        "    error_diff = -error_diff\n",
        "  elif bias_type == 'absolute':\n",
        "    error_diff = np.absolute(error_diff)\n",
        "  else:\n",
        "    print(\"unknown bias type\")\n",
        "    return\n",
        "\n",
        "  return error_diff"
      ],
      "metadata": {
        "id": "PhGil8f663vU"
      },
      "execution_count": 67,
      "outputs": []
    },
    {
      "cell_type": "markdown",
      "source": [
        "# UTILS for VISUALS"
      ],
      "metadata": {
        "id": "w1MYjWK6bkSL"
      }
    },
    {
      "cell_type": "markdown",
      "source": [
        "PCA"
      ],
      "metadata": {
        "id": "9woyQpSZmBre"
      }
    },
    {
      "cell_type": "code",
      "source": [
        "def pca_plot(data, title, alpha, pca_columns, other_columns, error):\n",
        "\n",
        "  if title is None:\n",
        "        title = f'K-means for {error}\\n'\n",
        "\n",
        "  if not isinstance(pca_columns, list):\n",
        "      raise ValueError (\"pca columns should be a list of column names\")\n",
        "\n",
        "  # Check if the selected columns are in the dataframe\n",
        "  for col in pca_columns:\n",
        "    if col not in data.columns:\n",
        "      raise ValueError(f\"{col} not in dataframe\")\n",
        "\n",
        "  # Initialize other_columns to empty list if not provided\n",
        "  if other_columns is None:\n",
        "        other_columns = []\n",
        "\n",
        "    # Ensure other_columns is a list and contains valid columns\n",
        "  if not isinstance(other_columns, list):\n",
        "      raise ValueError(\"other_columns should be a list of column names.\")\n",
        "\n",
        "    # Exclude pca_columns from other_columns\n",
        "  exclude_columns = pca_columns\n",
        "  other_columns = [col for col in data.columns if col not in exclude_columns]\n",
        "\n",
        "    # Extract features for PCA and drop Meta_colums\n",
        "  pca_features = data[pca_columns]\n",
        "  other_features = data[pca_columns]\n",
        "\n",
        "    # Apply PCA with 2 components to scaled features and create a df for the resulting principal components\n",
        "  pca = PCA(n_components=2)\n",
        "  pca_result = pca.fit_transform(pca_features)\n",
        "  pca_df = pd.DataFrame(pca_result, index=pca_features.index, columns=['PC1', 'PC2'])\n",
        "\n",
        "    # Ensure Error_Type is in the other_features\n",
        "  if 'Error_Type' in data.columns:\n",
        "        pca_df['Error_Type'] = data['Error_Type']\n",
        "\n",
        "    # Create temporary dataset that contains both principal components and other features\n",
        "  temp_dataset = pca_df.join(other_features, how='left')\n",
        "\n",
        "  if 'Error_Type' not in temp_dataset.columns:\n",
        "        raise ValueError(\"Column 'Error_Type' not found in the DataFrame. Ensure it is present for hue mapping.\")\n",
        "\n",
        "  scatterplot = sns.scatterplot(data=temp_dataset, x='PC1', y='PC2', alpha=alpha, hue=\"Error_Type\", palette='tab10', style='Error_Type')\n",
        "  scatterplot.set_title(title)\n",
        "  scatterplot.legend(loc='center left', bbox_to_anchor=(1.0, 0.5), ncol=1)\n",
        "\n",
        "  explained_variance_ratio = pca.explained_variance_ratio_\n",
        "  print(f\"Explained Variance Ratio: PC1 = {explained_variance_ratio[0]:.2f}, PC2 = {explained_variance_ratio[1]:.2f}\")\n",
        "\n",
        "  plt.show()"
      ],
      "metadata": {
        "id": "LIJzCOJemBBe"
      },
      "execution_count": 106,
      "outputs": []
    },
    {
      "cell_type": "markdown",
      "source": [
        "TSNE"
      ],
      "metadata": {
        "id": "VDJTr4pPmIMe"
      }
    },
    {
      "cell_type": "code",
      "source": [
        "'''PARAMS:\n",
        "    - alpha: float, transparency level for plot points\n",
        "    - tsne_columns: list of str, columns used for t-SNE\n",
        "    - error: str type for title\n",
        "    - perplexity: float, perplexity parameter for t-SNE\n",
        "    - learning_rate: float,learning rate parameter for t-SNE\n",
        "    - other_columns: list of str, other columns to include in the plot\n",
        "\n",
        "'''\n",
        "def tsne_plot(data, title, perplexity, learning_rate, n_iter, alpha, tsne_columns, other_columns = None, error= 'FN'):\n",
        "\n",
        "    if title is None:\n",
        "        title = f'K-means for {error}\\n'\n",
        "\n",
        "    # Ensure tsne_columns is a list and contains valid columns\n",
        "    if not isinstance(tsne_columns, list):\n",
        "        raise ValueError(\"tsne_columns should be a list of column names.\")\n",
        "\n",
        "    # Check if the selected columns are in the dataframe\n",
        "    for col in tsne_columns:\n",
        "        if col not in data.columns:\n",
        "            raise ValueError(f\"Column '{col}' is not in the dataframe.\")\n",
        "\n",
        "    # Initialize other_columns to empty list if not provided\n",
        "    if other_columns is None:\n",
        "        other_columns = []\n",
        "\n",
        "    # Ensure other_columns is a list and contains valid columns\n",
        "    if not isinstance(other_columns, list):\n",
        "        raise ValueError(\"other_columns should be a list of column names.\")\n",
        "\n",
        "    # Exclude tsne_columns from other_columns\n",
        "    exclude_columns = tsne_columns\n",
        "    other_columns = [col for col in data.columns if col not in exclude_columns]\n",
        "\n",
        "    # Extract features for t-SNE\n",
        "    tsne_features = data[tsne_columns]\n",
        "    other_features = data[other_columns]\n",
        "\n",
        "    tsne = TSNE(n_components=2, perplexity= 30, learning_rate= 200, n_iter= 1000)\n",
        "    tsne_result = tsne.fit_transform(tsne_features)\n",
        "    tsne_df = pd.DataFrame(tsne_result, index = tsne_features.index, columns=['t-SNE Component 1', 't-SNE Component 2'])\n",
        "\n",
        "    temp_dataset = tsne_df.join(other_features, how='left')\n",
        "\n",
        "    # Create scatterplot using seaborn\n",
        "    scatterplot = sns.scatterplot(data=temp_dataset, x='t-SNE Component 1', y='t-SNE Component 2', alpha=alpha, hue=\"Error_Type\", palette='tab10', style='Error_Type')\n",
        "    scatterplot.set_title(title)\n",
        "    scatterplot.legend(loc='center left', bbox_to_anchor=(1.0, 0.5), ncol=1)\n",
        "\n",
        "    plt.show()"
      ],
      "metadata": {
        "id": "HoSLp22kbykA"
      },
      "execution_count": 96,
      "outputs": []
    },
    {
      "cell_type": "markdown",
      "source": [],
      "metadata": {
        "id": "Bj-kyT-ldUwa"
      }
    },
    {
      "cell_type": "code",
      "source": [
        "#TPFN_init.info()"
      ],
      "metadata": {
        "id": "zi5uoq1qMC0F"
      },
      "execution_count": 70,
      "outputs": []
    },
    {
      "cell_type": "code",
      "source": [
        "#pca_plot(TPFN_init, title=None, alpha = 0.5, pca_columns = BASIC_COL_scaled + DUMMY_COL_scaled + ERROR_COL_scaled + SHAP_BASIC_scaled + SHAP_DUMMY_scaled, other_columns=None, error='FN')\n",
        "\n",
        "tsne_plot(TPFN_init, title='t-SNE for True Positives and False Negatives', alpha = 0.5, tsne_columns = BASIC_COL_scaled + DUMMY_COL_scaled + ERROR_COL_scaled + SHAP_BASIC_scaled + SHAP_DUMMY_scaled, other_columns=None, error='FN', perplexity=30, learning_rate =200, n_iter= 1000)"
      ],
      "metadata": {
        "colab": {
          "base_uri": "https://localhost:8080/",
          "height": 472
        },
        "id": "BhU6II4-2mWM",
        "outputId": "a0e5369e-d703-47a8-ea12-88599a7788c7"
      },
      "execution_count": 108,
      "outputs": [
        {
          "output_type": "display_data",
          "data": {
            "text/plain": [
              "<Figure size 640x480 with 1 Axes>"
            ],
            "image/png": "[encoded data removed]"
          },
          "metadata": {}
        }
      ]
    },
    {
      "cell_type": "code",
      "source": [
        "#pca_plot(TNFP_init, error = 'FP', title=None, alpha = 0.5, pca_columns = BASIC_COL_scaled + DUMMY_COL_scaled + ERROR_COL_scaled + SHAP_BASIC_scaled + SHAP_DUMMY_scaled, other_columns=None)\n",
        "tsne_plot(TNFP_init, error= 'FP', title='t-SNE for True Negatives and False Positives', alpha=0.5, tsne_columns = BASIC_COL_scaled + DUMMY_COL_scaled + ERROR_COL_scaled + SHAP_BASIC_scaled + SHAP_DUMMY_scaled, other_columns=None, perplexity=30, learning_rate =200, n_iter= 1000)"
      ],
      "metadata": {
        "id": "JngeycNY2rrU",
        "colab": {
          "base_uri": "https://localhost:8080/",
          "height": 472
        },
        "outputId": "1e3d209b-50a2-4ecb-b53f-dfa0da0bc787"
      },
      "execution_count": 109,
      "outputs": [
        {
          "output_type": "display_data",
          "data": {
            "text/plain": [
              "<Figure size 640x480 with 1 Axes>"
            ],
            "image/png": "[encoded data removed]"
          },
          "metadata": {}
        }
      ]
    },
    {
      "cell_type": "markdown",
      "source": [
        "# UTILS FOR CLUSTERING"
      ],
      "metadata": {
        "id": "URIWoUpSfBLC"
      }
    },
    {
      "cell_type": "code",
      "source": [
        "#get cluster with max error difference\n",
        "def get_max_bias_cluster(data, cluster_col= 'clusters', bias_type = 'negative', baseline = 'all', function = get_error_diff):\n",
        "  max_bias = 0 #min possible bias\n",
        "  max_bias_cluster = -2\n",
        "\n",
        "  for cluster_id in data[cluster_col].unique():\n",
        "    if cluster_id == -1: #outliers in dbscan\n",
        "      continue\n",
        "\n",
        "    current_bias = function(data, cluster_id, cluster_col, bias_type, baseline) #pos function to find highest bias\n",
        "\n",
        "    if current_bias > max_bias:\n",
        "      max_bias = current_bias\n",
        "      max_bias_cluster = cluster_id\n",
        "\n",
        "    return(max_bias_cluster, max_bias)\n",
        "\n",
        "#get cluster with min error difference\n",
        "def get_min_bias_cluster(data, cluster_col= 'clusters', bias_type = 'negative', baseline = 'all', function = get_error_diff):\n",
        "  min_bias = 1 #max possible bias and look for smt smaller\n",
        "  min_bias_cluster = -2\n",
        "\n",
        "  for cluster_id in data[cluster_col].unique():\n",
        "    if cluster_id == -1: #outliers in dbscan\n",
        "      continue\n",
        "    current_bias = function(data, cluster_id, cluster_col, bias_type, baseline)\n",
        "    if current_bias < min_bias:\n",
        "      min_bias = current_bias\n",
        "      min_bias_cluster = cluster_id\n",
        "  return(min_bias_cluster, min_bias)\n",
        "\n",
        "#get size of the smallest cluster\n",
        "def get_min_cluster_size(data, cluster_col = 'new_clusters'):\n",
        "  min_cluster_size = len(data)\n",
        "  for i in data['new_clusters'].unique():\n",
        "    if i == -1: #exclude the -1 clusters as they may present outliers (in dbscan?)\n",
        "      continue\n",
        "      size = len(data.loc[data['new_clusters'] == i])\n",
        "      if size < min_cluster_size: #update if new cluster size is smaller\n",
        "        min_cluster_size = size\n",
        "  return(min_cluster_size)\n",
        "\n",
        "def get_random_cluster(data, cluster_col, min_splittable_cluster_size, previous_cluster, all_cluster_ids):\n",
        "  for candidate_cluster_id in all_cluster_ids:\n",
        "    if candidate_cluster_id == -1 or candidate_cluster_id == previous_cluster:\n",
        "      continue\n",
        "      print ('This is the random cluster we picked:', candidate_cluster_id)\n",
        "\n",
        "      candidate_cluster = data.loc[data[cluster_col] == candidate_cluster_id]\n",
        "      if len(candidate_cluster) >= min_splittable_cluster_size:\n",
        "        print('it is too small:', len(candidate_cluster))\n",
        "        continue\n",
        "      else:\n",
        "        return candidate_cluster_id\n",
        "\n",
        "def select_new_cluster(data, cluster_col='clusters', error_column='errors', overall_error_rate=0.5, bias_type='negative', baseline='all'):\n",
        "    smallest_diff = float('inf')\n",
        "    selected_cluster = None\n",
        "\n",
        "    for cluster_id in data[cluster_col].unique():\n",
        "        if cluster_id == -1: #skip outlier\n",
        "            continue\n",
        "\n",
        "        error_diff = get_error_diff(data, cluster_id, cluster_col, bias_type, baseline) #calculate the error_diff for each cluster\n",
        "\n",
        "        if error_diff is None:\n",
        "            continue\n",
        "\n",
        "        abs_diff = abs(overall_error_rate - (get_error_rate(data[data[cluster_col] == cluster_id]))) #get cluster with the smallest absolute difference with the overall error rate (0.5)\n",
        "\n",
        "        if abs_diff < smallest_diff:\n",
        "            smallest_diff = abs_diff\n",
        "            selected_cluster = cluster_id\n",
        "    return selected_cluster\n",
        "\n",
        "def exit_clustering(data, msg='', bias_type='', iter=''):\n",
        "  print('Iteration ', iter, ': ', msg)\n",
        "  print('Overall error rate: ', get_error_rate(data))\n",
        "  for c in np.sort(data['clusters'].unique()):\n",
        "    print('Cluster: ', c, '\\tSize: ', len(data.loc[data['clusters'] == c]), '\\tError rate: ', get_error_rate(data.loc[data['clusters'] == c]))\n",
        "  pca_plot(data,'HBAC-DBSCAN on COMPAS - ' + bias_type + ' bias', hue='clusters', s=15, alpha=0.8)\n",
        "  return data\n"
      ],
      "metadata": {
        "id": "zApFFYGVfERC"
      },
      "execution_count": null,
      "outputs": []
    },
    {
      "cell_type": "markdown",
      "source": [
        "# K-MEANS CLUSTERING"
      ],
      "metadata": {
        "id": "NAD_kfGCfFN5"
      }
    },
    {
      "cell_type": "code",
      "source": [
        "def hbac_kmeans(data, columns_to_drop = [], error='FN', max_iter=300, show_plot=True):\n",
        "    clus_model_kwargs = {\n",
        "        \"n_clusters\": 2,  # Nr of clusters to form\n",
        "        \"init\": \"k-means++\",  # Centroids initialization method\n",
        "        \"n_init\": 10,  # Number of initializations\n",
        "        \"max_iter\": max_iter,  # Maximum iterations for a single run\n",
        "    }\n",
        "\n",
        "    if not isinstance(data, pd.DataFrame):\n",
        "        raise TypeError(f\"Expected data to be a DataFrame, but got {type(data)} instead.\")\n",
        "\n",
        "    x = 0  # Initial cluster nr & bias value\n",
        "    initial_bias = 0\n",
        "\n",
        "    error_list = []\n",
        "    error_rate = get_error_rate(data, column=error)  # Calculating mean error rate on the specified error column\n",
        "\n",
        "    min_splittable_cluster_size = round(0.05 * len(data))  # Min size of cluster to be split\n",
        "    min_acceptable_cluster_size = round(0.03 * len(data))  # Min acceptable size of cluster after split\n",
        "    print(\"error rate:\", error_rate)\n",
        "\n",
        "    # Iterative clustering loop\n",
        "    for i in range(1, max_iter):\n",
        "        if len(data['clusters'].unique()) != 1:  # Check for multiple clusters\n",
        "            error_list.append(get_error_rate(data, column=error))  # Calculate and store error rate\n",
        "            data['new_clusters'] = -1  # Reset new clusters\n",
        "\n",
        "        candidate_cluster = data.loc[data['clusters'] == x]  # Select subset data for the current cluster\n",
        "\n",
        "        if len(candidate_cluster) < min_splittable_cluster_size:  # Check for size\n",
        "            x = get_random_cluster(data, 'clusters', min_splittable_cluster_size, x, data['clusters'].unique())\n",
        "            continue\n",
        "\n",
        "        # Select only numeric columns for K-means\n",
        "        numeric_columns = candidate_cluster.select_dtypes(include=[np.number]).columns\n",
        "\n",
        "        # Ensure only existing columns are being dropped\n",
        "        columns_to_drop_valid = [col for col in columns_to_drop if col in numeric_columns]\n",
        "\n",
        "        if not isinstance(candidate_cluster, pd.DataFrame):\n",
        "          raise TypeError(f\"Expected candidate_cluster to be a DataFrame, but got {type(candidate_cluster)} instead.\")\n",
        "\n",
        "        kmeans = KMeans(**clus_model_kwargs).fit(candidate_cluster[numeric_columns].drop(columns=columns_to_drop, errors='ignore'))\n",
        "\n",
        "        candidate_cluster['new_clusters'] = pd.DataFrame(kmeans.predict(candidate_cluster[numeric_columns].drop(columns=columns_to_drop, errors='ignore')), index=candidate_cluster.index)\n",
        "\n",
        "        print(f\"Type of data before combining: {type(data)}\")\n",
        "        print(f\"Type of candidate_cluster['new_clusters']: {type(candidate_cluster['new_clusters'])}\")\n",
        "\n",
        "        data['new_clusters'] = candidate_cluster['new_clusters'].combine_first(data['new_clusters']) # Combine new clusters with existing ones\n",
        "\n",
        "        print(f\"Type of data after combining: {type(data)}\")\n",
        "\n",
        "        discr_bias = get_error_diff(data, x, 'clusters', bias_type='negative', baseline='all')  # Determine discriminative bias\n",
        "        print('discriminative bias:', discr_bias)\n",
        "\n",
        "        min_cluster_size = get_min_cluster_size(data)\n",
        "        print('Smallest cluster size:', min_cluster_size)\n",
        "\n",
        "        if (discr_bias >= initial_bias) & (min_cluster_size > min_acceptable_cluster_size):\n",
        "            print(\"adding a new cluster\")\n",
        "\n",
        "            if not isinstance(data, pd.DataFrame):\n",
        "              raise TypeError(f\"Expected data to be a DataFrame, but got {type(data)} instead.\")\n",
        "\n",
        "            n_cluster = max(data['clusters'])\n",
        "            data.loc[data['new_clusters'] == 1, 'clusters'] = n_cluster + 1\n",
        "\n",
        "\n",
        "            if show_plot:\n",
        "                tsne_plot(data, columns_to_drop, error, perplexity=30, learning_rate=200, n_iter=1000, alpha=0.5)\n",
        "                plt.show()\n",
        "\n",
        "            x = select_new_cluster(data, error_column=error) #if error_rate is not None else None)\n",
        "            initial_bias = discr_bias\n",
        "\n",
        "        else:\n",
        "            x = get_random_cluster(data, 'clusters', min_splittable_cluster_size, x, data['clusters'].unique())\n",
        "\n",
        "    print('max_iter')\n",
        "    print(error_list)\n",
        "    return data\n",
        "\n",
        "'''\n",
        "\n",
        "# OLD VERSION\n",
        "def hbac_kmeans(data, columns_to_drop = [], error='FN', max_iter=300, show_plot=True):\n",
        "    clus_model_kwargs = {\n",
        "        \"n_clusters\": 2,  # Nr of clusters to form\n",
        "        \"init\": \"k-means++\",  # Centroids initialization method\n",
        "        \"n_init\": 10,  # Nr of times k-means is run with different centroid seeds\n",
        "        \"max_iter\": max_iter,  # Maximum iterations for a single run\n",
        "    }\n",
        "\n",
        "    x = 0  # Initial cluster number\n",
        "    initial_bias = 0  # Initial bias value\n",
        "\n",
        "    error_list = []\n",
        "\n",
        "    if error in data.columns:\n",
        "        error_rate = get_error_rate(data, column=error)  # Calculating mean error rate on the specified error column\n",
        "        print(\"error rate:\", error_rate)\n",
        "    else:\n",
        "        print(f\"Error column '{error}' not found in the dataset. Skipping error-based calculations.\")\n",
        "        error_rate = None\n",
        "\n",
        "    min_splittable_cluster_size = round(0.05 * len(data))  # Min size of cluster to be split\n",
        "    min_acceptable_cluster_size = round(0.03 * len(data))  # Min acceptable size of cluster after split\n",
        "\n",
        "    # Iterative clustering loop\n",
        "    for i in range(1, max_iter):\n",
        "        if len(data['clusters'].unique()) != 1:  # Check if there are multiple clusters\n",
        "            if error_rate is not None: #check if there is an error column\n",
        "                error_list.append(get_error_rate(data, column=error))  # Calculate and store error rate in error_list\n",
        "            data['new_clusters'] = -1  # update or resets a new column in new clusters with -1\n",
        "\n",
        "        candidate_cluster = data.loc[data['clusters'] == x]  # Select subset data for the current cluster\n",
        "\n",
        "        if len(candidate_cluster) < min_splittable_cluster_size:  # Check for size\n",
        "            x = get_random_cluster(data, 'clusters', min_splittable_cluster_size, x, data['clusters'].unique())\n",
        "            continue\n",
        "\n",
        "        # Select only numeric columns for K-means\n",
        "        numeric_columns = candidate_cluster.select_dtypes(include=[np.number]).columns\n",
        "\n",
        "        # Drop META_COL and optionally ERROR_COL based on the provided dataset\n",
        "        columns_to_drop = META_COL\n",
        "        if any(col in data.columns for col in ERROR_COL):  # Check if any of the ERROR_COL are present in the dataset\n",
        "            columns_to_drop += ERROR_COL\n",
        "\n",
        "        # Ensure that only existing columns are being dropped\n",
        "        columns_to_drop = [col for col in columns_to_drop if col in numeric_columns]\n",
        "\n",
        "        kmeans = KMeans(**clus_model_kwargs).fit(candidate_cluster[numeric_columns].drop(columns=columns_to_drop, errors='ignore'))\n",
        "\n",
        "        candidate_cluster['new_clusters'] = pd.DataFrame(\n",
        "            kmeans.predict(candidate_cluster[numeric_columns].drop(columns=columns_to_drop, errors='ignore')),\n",
        "            index=candidate_cluster.index)\n",
        "        data['new_clusters'] = candidate_cluster['new_clusters'].combine_first(data['new_clusters'])  # Combine new clusters with existing ones\n",
        "\n",
        "        if error_rate is not None:\n",
        "            discr_bias = get_error_diff(data, x, 'clusters', bias_type='negative', baseline='all')  # Determine discriminative bias\n",
        "            print('discriminative bias:', discr_bias)\n",
        "        else:\n",
        "            discr_bias = 0\n",
        "\n",
        "        min_cluster_size = get_min_cluster_size(data)\n",
        "        print('Smallest cluster size:', min_cluster_size)\n",
        "\n",
        "        if (discr_bias >= initial_bias) & (min_cluster_size > min_acceptable_cluster_size):\n",
        "            print(\"adding a new cluster\")\n",
        "            n_cluster = max(data['clusters'])\n",
        "            data['clusters'][data['new_clusters'] == 1] = n_cluster + 1\n",
        "\n",
        "            if show_plot:\n",
        "                plot_title = f'K-means for {error} Errors' if error_rate is not None else 'K-means Clustering'\n",
        "                tsne_plot(data, plot_title, perplexity=30, learning_rate=200, n_iter=1000, alpha=0.5)\n",
        "                plt.show()\n",
        "\n",
        "            x = select_new_cluster(data, error_column=error if error_rate is not None else None)\n",
        "            initial_bias = discr_bias\n",
        "\n",
        "        else:\n",
        "            x = get_random_cluster(data, 'clusters', min_splittable_cluster_size, x, data['clusters'].unique())\n",
        "\n",
        "    print('MAX_ITER')\n",
        "    if error_rate is not None:\n",
        "        print(error_list)\n",
        "    return data\n",
        "'''"
      ],
      "metadata": {
        "id": "uZpJmkcq1u2f",
        "colab": {
          "base_uri": "https://localhost:8080/",
          "height": 110
        },
        "outputId": "b1b6c7bc-102d-4ea8-d3d6-d2a9ced4ff53"
      },
      "execution_count": null,
      "outputs": [
        {
          "output_type": "execute_result",
          "data": {
            "text/plain": [
              "'\\n\\n# OLD VERSION\\ndef hbac_kmeans(data, columns_to_drop = [], error=\\'FN\\', max_iter=300, show_plot=True):\\n    clus_model_kwargs = {\\n        \"n_clusters\": 2,  # Nr of clusters to form\\n        \"init\": \"k-means++\",  # Centroids initialization method\\n        \"n_init\": 10,  # Nr of times k-means is run with different centroid seeds\\n        \"max_iter\": max_iter,  # Maximum iterations for a single run\\n    }\\n\\n    x = 0  # Initial cluster number\\n    initial_bias = 0  # Initial bias value\\n\\n    error_list = []\\n\\n    if error in data.columns:\\n        error_rate = get_error_rate(data, column=error)  # Calculating mean error rate on the specified error column\\n        print(\"error rate:\", error_rate)\\n    else:\\n        print(f\"Error column \\'{error}\\' not found in the dataset. Skipping error-based calculations.\")\\n        error_rate = None\\n\\n    min_splittable_cluster_size = round(0.05 * len(data))  # Min size of cluster to be split\\n    min_acceptable_cluster_size = round(0.03 * len(data))  # Min acceptable size of cluster after split\\n\\n    # Iterative clustering loop\\n    for i in range(1, max_iter):\\n        if len(data[\\'clusters\\'].unique()) != 1:  # Check if there are multiple clusters\\n            if error_rate is not None: #check if there is an error column\\n                error_list.append(get_error_rate(data, column=error))  # Calculate and store error rate in error_list\\n            data[\\'new_clusters\\'] = -1  # update or resets a new column in new clusters with -1\\n\\n        candidate_cluster = data.loc[data[\\'clusters\\'] == x]  # Select subset data for the current cluster\\n\\n        if len(candidate_cluster) < min_splittable_cluster_size:  # Check for size\\n            x = get_random_cluster(data, \\'clusters\\', min_splittable_cluster_size, x, data[\\'clusters\\'].unique())\\n            continue\\n\\n        # Select only numeric columns for K-means\\n        numeric_columns = candidate_cluster.select_dtypes(include=[np.number]).columns\\n\\n        # Drop META_COL and optionally ERROR_COL based on the provided dataset\\n        columns_to_drop = META_COL\\n        if any(col in data.columns for col in ERROR_COL):  # Check if any of the ERROR_COL are present in the dataset\\n            columns_to_drop += ERROR_COL\\n\\n        # Ensure that only existing columns are being dropped\\n        columns_to_drop = [col for col in columns_to_drop if col in numeric_columns]\\n\\n        kmeans = KMeans(**clus_model_kwargs).fit(candidate_cluster[numeric_columns].drop(columns=columns_to_drop, errors=\\'ignore\\'))\\n\\n        candidate_cluster[\\'new_clusters\\'] = pd.DataFrame(\\n            kmeans.predict(candidate_cluster[numeric_columns].drop(columns=columns_to_drop, errors=\\'ignore\\')),\\n            index=candidate_cluster.index)\\n        data[\\'new_clusters\\'] = candidate_cluster[\\'new_clusters\\'].combine_first(data[\\'new_clusters\\'])  # Combine new clusters with existing ones\\n\\n        if error_rate is not None:\\n            discr_bias = get_error_diff(data, x, \\'clusters\\', bias_type=\\'negative\\', baseline=\\'all\\')  # Determine discriminative bias\\n            print(\\'discriminative bias:\\', discr_bias)\\n        else:\\n            discr_bias = 0\\n\\n        min_cluster_size = get_min_cluster_size(data)\\n        print(\\'Smallest cluster size:\\', min_cluster_size)\\n\\n        if (discr_bias >= initial_bias) & (min_cluster_size > min_acceptable_cluster_size):\\n            print(\"adding a new cluster\")\\n            n_cluster = max(data[\\'clusters\\'])\\n            data[\\'clusters\\'][data[\\'new_clusters\\'] == 1] = n_cluster + 1\\n\\n            if show_plot:\\n                plot_title = f\\'K-means for {error} Errors\\' if error_rate is not None else \\'K-means Clustering\\'\\n                tsne_plot(data, plot_title, perplexity=30, learning_rate=200, n_iter=1000, alpha=0.5)\\n                plt.show()\\n\\n            x = select_new_cluster(data, error_column=error if error_rate is not None else None)\\n            initial_bias = discr_bias\\n\\n        else:\\n            x = get_random_cluster(data, \\'clusters\\', min_splittable_cluster_size, x, data[\\'clusters\\'].unique())\\n\\n    print(\\'MAX_ITER\\')\\n    if error_rate is not None:\\n        print(error_list)\\n    return data\\n'"
            ],
            "application/vnd.google.colaboratory.intrinsic+json": {
              "type": "string"
            }
          },
          "metadata": {},
          "execution_count": 108
        }
      ]
    },
    {
      "cell_type": "code",
      "source": [
        "print(type(TNFP_init['clusters']))"
      ],
      "metadata": {
        "colab": {
          "base_uri": "https://localhost:8080/"
        },
        "id": "usJuL-dWgujn",
        "outputId": "126eb4ae-6748-4091-8017-2a5b8f7860f1"
      },
      "execution_count": null,
      "outputs": [
        {
          "output_type": "stream",
          "name": "stdout",
          "text": [
            "<class 'pandas.core.series.Series'>\n"
          ]
        }
      ]
    },
    {
      "cell_type": "markdown",
      "source": [
        "# RQ'S"
      ],
      "metadata": {
        "id": "bfwAmks0cb0Z"
      }
    },
    {
      "cell_type": "markdown",
      "source": [
        "\n",
        "**RQ1: is there a relationshop between shap & risk of error?**\n",
        "\n",
        "TPFN_init & TNFP_init = *all columns*\n",
        "\n",
        "SE = shap and error columns\n",
        "\n",
        "FE = all columns except shap (selma)\n",
        "\n",
        "\n",
        "--------------------------------------------------\n",
        "**RQ2: does shap help in finding disc clusters?**\n",
        "\n",
        "FS = all columns except error\n",
        "\n",
        "S = only SHAP_COL\n",
        "\n",
        "F = only BASIC_COL\n"
      ],
      "metadata": {
        "id": "YxxgBsfJ69iT"
      }
    },
    {
      "cell_type": "markdown",
      "source": [
        "# SHAP & ERROR & BASIC COL"
      ],
      "metadata": {
        "id": "mh3mtFiXSQGE"
      }
    },
    {
      "cell_type": "markdown",
      "source": [
        "***Clustering all columns TP FN DATA***"
      ],
      "metadata": {
        "id": "4bYXg1id6kTr"
      }
    },
    {
      "cell_type": "code",
      "source": [
        "TPFN_init = initialize_dataset(TPFN_unscaled, unscaled=True, meta_col=True, with_error_col=True, with_classes=True)\n",
        "hbac_kmeans(data = TPFN_init, columns_to_drop = [], error= 'FN', max_iter = 300, show_plot= True)\n",
        "plt.show()"
      ],
      "metadata": {
        "id": "R4L496pDztCH",
        "colab": {
          "base_uri": "https://localhost:8080/",
          "height": 441
        },
        "outputId": "33e0926e-10c6-4053-9694-d6cfd06953f0"
      },
      "execution_count": null,
      "outputs": [
        {
          "output_type": "stream",
          "name": "stdout",
          "text": [
            "error rate: 0.42290748898678415\n",
            "Type of data before combining: <class 'pandas.core.frame.DataFrame'>\n",
            "Type of candidate_cluster['new_clusters']: <class 'pandas.core.series.Series'>\n",
            "Type of data after combining: <class 'pandas.core.frame.DataFrame'>\n",
            "discriminative bias: 0.0\n",
            "Smallest cluster size: 1589\n",
            "adding a new cluster\n"
          ]
        },
        {
          "output_type": "error",
          "ename": "TypeError",
          "evalue": "'tuple' object is not callable",
          "traceback": [
            "\u001b[0;31m---------------------------------------------------------------------------\u001b[0m",
            "\u001b[0;31mTypeError\u001b[0m                                 Traceback (most recent call last)",
            "\u001b[0;32m<ipython-input-109-4eebf31e5ee9>\u001b[0m in \u001b[0;36m<cell line: 2>\u001b[0;34m()\u001b[0m\n\u001b[1;32m      1\u001b[0m \u001b[0mTPFN_init\u001b[0m \u001b[0;34m=\u001b[0m \u001b[0minitialize_dataset\u001b[0m\u001b[0;34m(\u001b[0m\u001b[0mTPFN_unscaled\u001b[0m\u001b[0;34m,\u001b[0m \u001b[0munscaled\u001b[0m\u001b[0;34m=\u001b[0m\u001b[0;32mTrue\u001b[0m\u001b[0;34m,\u001b[0m \u001b[0mmeta_col\u001b[0m\u001b[0;34m=\u001b[0m\u001b[0;32mTrue\u001b[0m\u001b[0;34m,\u001b[0m \u001b[0mwith_error_col\u001b[0m\u001b[0;34m=\u001b[0m\u001b[0;32mTrue\u001b[0m\u001b[0;34m,\u001b[0m \u001b[0mwith_classes\u001b[0m\u001b[0;34m=\u001b[0m\u001b[0;32mTrue\u001b[0m\u001b[0;34m)\u001b[0m\u001b[0;34m\u001b[0m\u001b[0;34m\u001b[0m\u001b[0m\n\u001b[0;32m----> 2\u001b[0;31m \u001b[0mhbac_kmeans\u001b[0m\u001b[0;34m(\u001b[0m\u001b[0mdata\u001b[0m \u001b[0;34m=\u001b[0m \u001b[0mTPFN_init\u001b[0m\u001b[0;34m,\u001b[0m \u001b[0mcolumns_to_drop\u001b[0m \u001b[0;34m=\u001b[0m \u001b[0;34m[\u001b[0m\u001b[0;34m]\u001b[0m\u001b[0;34m,\u001b[0m \u001b[0merror\u001b[0m\u001b[0;34m=\u001b[0m \u001b[0;34m'FN'\u001b[0m\u001b[0;34m,\u001b[0m \u001b[0mmax_iter\u001b[0m \u001b[0;34m=\u001b[0m \u001b[0;36m300\u001b[0m\u001b[0;34m,\u001b[0m \u001b[0mshow_plot\u001b[0m\u001b[0;34m=\u001b[0m \u001b[0;32mTrue\u001b[0m\u001b[0;34m)\u001b[0m\u001b[0;34m\u001b[0m\u001b[0;34m\u001b[0m\u001b[0m\n\u001b[0m\u001b[1;32m      3\u001b[0m \u001b[0mplt\u001b[0m\u001b[0;34m.\u001b[0m\u001b[0mshow\u001b[0m\u001b[0;34m(\u001b[0m\u001b[0;34m)\u001b[0m\u001b[0;34m\u001b[0m\u001b[0;34m\u001b[0m\u001b[0m\n",
            "\u001b[0;32m<ipython-input-108-fbb6edd5009c>\u001b[0m in \u001b[0;36mhbac_kmeans\u001b[0;34m(data, columns_to_drop, error, max_iter, show_plot)\u001b[0m\n\u001b[1;32m     64\u001b[0m               \u001b[0;32mraise\u001b[0m \u001b[0mTypeError\u001b[0m\u001b[0;34m(\u001b[0m\u001b[0;34mf\"Expected data to be a DataFrame, but got {type(data)} instead.\"\u001b[0m\u001b[0;34m)\u001b[0m\u001b[0;34m\u001b[0m\u001b[0;34m\u001b[0m\u001b[0m\n\u001b[1;32m     65\u001b[0m \u001b[0;34m\u001b[0m\u001b[0m\n\u001b[0;32m---> 66\u001b[0;31m             \u001b[0mn_cluster\u001b[0m \u001b[0;34m=\u001b[0m \u001b[0mmax\u001b[0m\u001b[0;34m(\u001b[0m\u001b[0mdata\u001b[0m\u001b[0;34m[\u001b[0m\u001b[0;34m'clusters'\u001b[0m\u001b[0;34m]\u001b[0m\u001b[0;34m)\u001b[0m\u001b[0;34m\u001b[0m\u001b[0;34m\u001b[0m\u001b[0m\n\u001b[0m\u001b[1;32m     67\u001b[0m             \u001b[0mdata\u001b[0m\u001b[0;34m.\u001b[0m\u001b[0mloc\u001b[0m\u001b[0;34m[\u001b[0m\u001b[0mdata\u001b[0m\u001b[0;34m[\u001b[0m\u001b[0;34m'new_clusters'\u001b[0m\u001b[0;34m]\u001b[0m \u001b[0;34m==\u001b[0m \u001b[0;36m1\u001b[0m\u001b[0;34m,\u001b[0m \u001b[0;34m'clusters'\u001b[0m\u001b[0;34m]\u001b[0m \u001b[0;34m=\u001b[0m \u001b[0mn_cluster\u001b[0m \u001b[0;34m+\u001b[0m \u001b[0;36m1\u001b[0m\u001b[0;34m\u001b[0m\u001b[0;34m\u001b[0m\u001b[0m\n\u001b[1;32m     68\u001b[0m \u001b[0;34m\u001b[0m\u001b[0m\n",
            "\u001b[0;31mTypeError\u001b[0m: 'tuple' object is not callable"
          ]
        }
      ]
    },
    {
      "cell_type": "code",
      "source": [
        "c= get_max_bias_cluster(TPFN_init)\n",
        "\n",
        "Mean_error_rate_TPFN = get_error_rate(TPFN_init)\n",
        "\n",
        "print ('Mean error rate of full TPFN data set:', Mean_error_rate_TPFN)\n",
        "\n",
        "print (f\" cluster {c} has the highest discrimination bias for TPFN data\")\n"
      ],
      "metadata": {
        "id": "WyZlLl7Ku6iW"
      },
      "execution_count": null,
      "outputs": []
    },
    {
      "cell_type": "markdown",
      "source": [
        "***TPFN ALL COLUMNS ANOVA***"
      ],
      "metadata": {
        "id": "FK_n1GA3fKgm"
      }
    },
    {
      "cell_type": "code",
      "source": [
        "'''SHAP, ERROR & BASIC COLUMNS FOR TPFN ANOVA'''\n",
        "groupstpfn = TPFN_init.groupby('clusters')['FN'].apply(list)\n",
        "anovatpfn = [np.array(groupstpfn) for groupstpfn in groupstpfn]\n",
        "\n",
        "f_stat, p_val = f_oneway(*anovatpfn)\n",
        "\n",
        "print('F-statistic:', f_stat)\n",
        "print('p-value:', p_val)\n",
        "\n",
        "alpha = 0.05\n",
        "if p_val < alpha:\n",
        "  print(\"there are statistically significant differences between the clusters.\")\n",
        "else:\n",
        "  print(\"there are no statistically significant differences between the clusters\")"
      ],
      "metadata": {
        "id": "H5eq8K21umRb"
      },
      "execution_count": null,
      "outputs": []
    },
    {
      "cell_type": "markdown",
      "source": [
        "***Clustering all columns TN FP DATA***"
      ],
      "metadata": {
        "id": "gR-UqBi_6g-e"
      }
    },
    {
      "cell_type": "code",
      "source": [
        "TNFP_init = initialize_dataset(TNFP_unscaled, unscaled=True, meta_col=True, with_error_col=True, with_classes=True)\n",
        "hbac_kmeans(data =TNFP_init, columns_to_drop = [], error= 'FP', max_iter = 300, show_plot= True)\n",
        "plt.show()"
      ],
      "metadata": {
        "id": "H8aEiMm87QRG"
      },
      "execution_count": null,
      "outputs": []
    },
    {
      "cell_type": "code",
      "source": [
        "c= get_max_bias_cluster(TNFP_init)\n",
        "\n",
        "Mean_error_rate_TNFP = get_error_rate(TNFP_init)\n",
        "\n",
        "print ('Mean error rate of full TNFP data set:', Mean_error_rate_TNFP)\n",
        "\n",
        "print (f\" cluster {c} has the highest discrimination bias for TNFP data\")\n"
      ],
      "metadata": {
        "id": "niZ4E-xj8JS9"
      },
      "execution_count": null,
      "outputs": []
    },
    {
      "cell_type": "markdown",
      "source": [
        "***TNFP ALL COLUMNS ANOVA***"
      ],
      "metadata": {
        "id": "k5bOGAT5RcWb"
      }
    },
    {
      "cell_type": "code",
      "source": [
        "'''SHAP, ERROR & BASIC COLUMNS FOR TNFP ANOVA'''\n",
        "groupstnfp = TNFP_init.groupby('clusters')['FP'].apply(list)\n",
        "anovatnfp = [np.array(groupstnfp) for groupstnfp in groupstnfp]\n",
        "\n",
        "f_stat, p_val = f_oneway(*anovatnfp)\n",
        "\n",
        "print('F-statistic:', f_stat)\n",
        "print('p-value:', p_val)\n",
        "\n",
        "alpha = 0.05\n",
        "if p_val < alpha:\n",
        "  print(\"there are statistically significant differences between the clusters.\")\n",
        "else:\n",
        "  print(\"there are no statistically significant differences between the clusters\")"
      ],
      "metadata": {
        "id": "KPAFNlzT_v8-"
      },
      "execution_count": null,
      "outputs": []
    },
    {
      "cell_type": "markdown",
      "source": [
        "# SHAP & ERROR COLUMNS NO BASIC FEATURES"
      ],
      "metadata": {
        "id": "VRr-JGmoSNyO"
      }
    },
    {
      "cell_type": "code",
      "source": [
        "'''SE: SHAP_COL and ERROR_COL no BASIC_COL '''\n",
        "columns_to_drop = BASIC_COL_unscaled + DUMMY_unscaled\n",
        "SE_TPFN = TPFN_init.drop(columns_to_drop, axis=1) #scaled\n",
        "SE_TNFP = TNFP_init.drop(columns_to_drop, axis=1) #scaled\n",
        "\n",
        "#SE_TPFN.iloc[3]\n",
        "SE_TNFP.iloc[3]"
      ],
      "metadata": {
        "id": "USVopU1opVUW"
      },
      "execution_count": null,
      "outputs": []
    },
    {
      "cell_type": "markdown",
      "source": [
        "***SHAP AND ERROR KMEANS ON TPFN***"
      ],
      "metadata": {
        "id": "JHoG0P2eU4tk"
      }
    },
    {
      "cell_type": "code",
      "source": [
        "'''KMEANS SHAP & ERROR COLUMNS FOR TPFN'''\n",
        "TPFN_init = initialize_dataset(TNFP_unscaled, unscaled=True, meta_col=True, with_error_col=True, with_classes=True)\n",
        "hbac_kmeans(data = TPFN_init, columns_to_drop = ['BASIC_COL_unscaled' , 'DUMMY_unscaled'], error= 'FN', max_iter = 300, show_plot= True)\n",
        "plt.show()"
      ],
      "metadata": {
        "id": "OeIa2jdkqu52"
      },
      "execution_count": null,
      "outputs": []
    },
    {
      "cell_type": "code",
      "source": [
        "c= get_max_bias_cluster(SE_TPFN)\n",
        "\n",
        "Mean_error_rate_SE_TPFN = get_error_rate(SE_TPFN)\n",
        "\n",
        "print ('Mean error rate of SE_TPFN data set:', Mean_error_rate_SE_TPFN)\n",
        "\n",
        "print (f\" cluster {c} has the highest discrimination bias for TPFN data\")"
      ],
      "metadata": {
        "id": "fkNmRgu-UB2E"
      },
      "execution_count": null,
      "outputs": []
    },
    {
      "cell_type": "markdown",
      "source": [
        "***SHAP AND ERROR ANOVA ON TPFN***"
      ],
      "metadata": {
        "id": "P5kLuitzU9rr"
      }
    },
    {
      "cell_type": "code",
      "source": [
        "'''SHAP & ERROR COLUMNS FOR TPFN ANOVA'''\n",
        "groupsSE_tpfn = SE_TPFN.groupby('clusters')['FN'].apply(list)\n",
        "anovaSE_tpfn = [np.array(groupsSE_tpfn) for groupsSE_tpfn in groupsSE_tpfn]\n",
        "\n",
        "f_stat, p_val = f_oneway(*anovaSE_tpfn)\n",
        "\n",
        "print('F-statistic:', f_stat)\n",
        "print('p-value:', p_val)\n",
        "\n",
        "alpha = 0.05\n",
        "if p_val < alpha:\n",
        "  print(\"there are statistically significant differences between the clusters.\")\n",
        "else:\n",
        "  print(\"there are no statistically significant differences between the clusters\")"
      ],
      "metadata": {
        "id": "iYwsB8NFSqeL"
      },
      "execution_count": null,
      "outputs": []
    },
    {
      "cell_type": "markdown",
      "source": [
        "***SHAP AND ERROR KMEANS ON TNFP***"
      ],
      "metadata": {
        "id": "BhlBJ9yFUo_P"
      }
    },
    {
      "cell_type": "code",
      "source": [
        "'''KMEANS SHAP & ERROR COLUMNS FOR TNFP'''\n",
        "TNFP_init = initialize_dataset(TNFP_unscaled, unscaled=True, meta_col=True, with_error_col=True, with_classes=True)\n",
        "hbac_kmeans(data = TNFP_init, columns_to_drop = ['BASIC_COL_unscaled', 'DUMMY_unscaled'], error= 'FP', max_iter = 300, show_plot= True)\n",
        "plt.show()"
      ],
      "metadata": {
        "id": "Yg4qpU9JSbYL"
      },
      "execution_count": null,
      "outputs": []
    },
    {
      "cell_type": "code",
      "source": [
        "c= get_max_bias_cluster(SE_TNFP)\n",
        "\n",
        "Mean_error_rate_SE_TNFP = get_error_rate(SE_TNFP)\n",
        "\n",
        "print ('Mean error rate of TNFP data set:', Mean_error_rate_TNFP)\n",
        "\n",
        "print (f\" cluster {c} has the highest discrimination bias for TPFN data\")"
      ],
      "metadata": {
        "id": "kCsvihg7Vfsa"
      },
      "execution_count": null,
      "outputs": []
    },
    {
      "cell_type": "markdown",
      "source": [
        "***SHAP AND ERROR ANOVA ON TNFP***"
      ],
      "metadata": {
        "id": "Gmb77gegVELS"
      }
    },
    {
      "cell_type": "code",
      "source": [
        "'''SHAP & ERROR COLUMNS FOR TNFP ANOVA'''\n",
        "groupsSE_tnfp = SE_TNFP.groupby('clusters')['FP'].apply(list)\n",
        "anovaSE_tnfp = [np.array(groupsSE_tpfn) for groupsSE_tnfp in groupsSE_tnfp]\n",
        "\n",
        "f_stat, p_val = f_oneway(*anovaSE_tpfn)\n",
        "\n",
        "print('F-statistic:', f_stat)\n",
        "print('p-value:', p_val)\n",
        "\n",
        "alpha = 0.05\n",
        "if p_val < alpha:\n",
        "  print(\"there are statistically significant differences between the clusters.\")\n",
        "else:\n",
        "  print(\"there are no statistically significant differences between the clusters\")"
      ],
      "metadata": {
        "id": "1MO0-G5LTl74"
      },
      "execution_count": null,
      "outputs": []
    },
    {
      "cell_type": "code",
      "source": [
        "SE_TNFP.iloc[3]"
      ],
      "metadata": {
        "id": "RWe2NirFaX-S"
      },
      "execution_count": null,
      "outputs": []
    },
    {
      "cell_type": "markdown",
      "source": [
        "# ERROR AND BASIC COLUMNS NO SHAP (SELMA)"
      ],
      "metadata": {
        "id": "mw7ZAR6tyVy0"
      }
    },
    {
      "cell_type": "code",
      "source": [
        "TPFN_init.iloc[3]"
      ],
      "metadata": {
        "id": "XXvWmKYGTEmh"
      },
      "execution_count": null,
      "outputs": []
    },
    {
      "cell_type": "code",
      "source": [
        "'''FE: FEATURES AND ERROR NO SHAP (Selma) '''\n",
        "columns_to_drop = SHAP_COL_Basic_scaled + SHAP_COL_Dummy_scaled\n",
        "\n",
        "FE_TPFN = TPFN_init.drop(columns_to_drop, axis=1) #scaled\n",
        "FE_TNFP = TNFP_init.drop(columns_to_drop, axis=1) #scaled\n",
        "\n",
        "FE_TPFN.iloc[3]\n",
        "#FE_TNFP.iloc[3]"
      ],
      "metadata": {
        "id": "AsgNawceyLEE"
      },
      "execution_count": null,
      "outputs": []
    },
    {
      "cell_type": "markdown",
      "source": [
        "***BASIC & ERROR K-MEANS ON TPFN***"
      ],
      "metadata": {
        "id": "EkE6JjyqWkda"
      }
    },
    {
      "cell_type": "code",
      "source": [
        "'''BASIC & ERROR K-MEANS ON TPFN'''\n",
        "TPFN_init = initialize_dataset(TPFN_unscaled, unscaled=True, meta_col=True, with_error_col=True, with_classes=True)\n",
        "hbac_kmeans(data = TPFN_init, columns_to_drop = ['SHAP_COL_Basic_scaled', 'SHAP_COL_Dummy_scaled'], error= 'FN', max_iter = 300, show_plot= True)\n",
        "plt.show()"
      ],
      "metadata": {
        "id": "dLI9A4oQUuBz"
      },
      "execution_count": null,
      "outputs": []
    },
    {
      "cell_type": "code",
      "source": [
        "c= get_max_bias_cluster(FE_TPFN)\n",
        "\n",
        "Mean_error_rate_FE_TPFN = get_error_rate(FE_TPFN)\n",
        "\n",
        "print ('Mean error rate of FE_TPFN data set:', Mean_error_rate_TPFN)\n",
        "\n",
        "print (f\" cluster {c} has the highest discrimination bias for FE_TPFN data\")"
      ],
      "metadata": {
        "id": "XTVkcvW0W-Ly"
      },
      "execution_count": null,
      "outputs": []
    },
    {
      "cell_type": "code",
      "source": [
        "FE_TPFN.iloc[3]"
      ],
      "metadata": {
        "id": "4tbusHs5Z4ot"
      },
      "execution_count": null,
      "outputs": []
    },
    {
      "cell_type": "markdown",
      "source": [
        "***BASIC & ERROR ANOVA ON TPFN***"
      ],
      "metadata": {
        "id": "rX0ccxkKW-du"
      }
    },
    {
      "cell_type": "code",
      "source": [
        "'''BASIC & ERROR COLUMNS FOR TPFN ANOVA'''\n",
        "groupsFE_tpfn = FE_TPFN.groupby('clusters')['FN'].apply(list)\n",
        "anovaFE_tpfn = [np.array(groupsFE_tpfn) for groupsFE_tpfn in groupsFE_tpfn]\n",
        "\n",
        "f_stat, p_val = f_oneway(*anovaFE_tpfn)\n",
        "\n",
        "print('F-statistic:', f_stat)\n",
        "print('p-value:', p_val)\n",
        "\n",
        "alpha = 0.05\n",
        "if p_val < alpha:\n",
        "  print(\"there are statistically significant differences between the clusters.\")\n",
        "else:\n",
        "  print(\"there are no statistically significant differences between the clusters\")"
      ],
      "metadata": {
        "id": "f01rws70U2pW"
      },
      "execution_count": null,
      "outputs": []
    },
    {
      "cell_type": "markdown",
      "source": [
        "***BASIC & ERROR K-MEANS ON TNFP***"
      ],
      "metadata": {
        "id": "MAgsRKChWtoY"
      }
    },
    {
      "cell_type": "code",
      "source": [
        "'''BASIC & ERROR COLUMNS FOR TNFP'''\n",
        "TNFP_init = initialize_dataset(TNFP_unscaled, unscaled=True, meta_col=True, with_error_col=True, with_classes=True)\n",
        "hbac_kmeans(data = TNFP_init, columns_to_drop= ['SHAP_COL_Basic_scaled', 'SHAP_COL_Dummy_scaled'], error= 'FP', max_iter = 300, show_plot= True)\n",
        "plt.show()"
      ],
      "metadata": {
        "id": "YCoY7c1iWOTn"
      },
      "execution_count": null,
      "outputs": []
    },
    {
      "cell_type": "code",
      "source": [
        "c= get_max_bias_cluster(FE_TNFP)\n",
        "\n",
        "Mean_error_rate_FE_TNFP = get_error_rate(FE_TNFP)\n",
        "\n",
        "print ('Mean error rate of FE_TNFP data set:', Mean_error_rate_TNFP)\n",
        "\n",
        "print (f\" cluster {c} has the highest discrimination bias for FE_TNFP data\")"
      ],
      "metadata": {
        "id": "TaYwVpvvbGp-"
      },
      "execution_count": null,
      "outputs": []
    },
    {
      "cell_type": "markdown",
      "source": [
        "***BASIC & ERROR ANOVA ON TNFP***"
      ],
      "metadata": {
        "id": "WzgRubwDXDzC"
      }
    },
    {
      "cell_type": "code",
      "source": [
        "'''BASIC & ERROR COLUMNS FOR TNFP ANOVA'''\n",
        "groupsFE_tnfp = FE_TNFP.groupby('clusters')['FP'].apply(list)\n",
        "anovaFE_tnfp = [np.array(groupsFE_tnfp) for groupsFE_tnfp in groupsFE_tnfp]\n",
        "\n",
        "f_stat, p_val = f_oneway(*anovaFE_tnfp)\n",
        "\n",
        "print('F-statistic:', f_stat)\n",
        "print('p-value:', p_val)\n",
        "\n",
        "alpha = 0.05\n",
        "if p_val < alpha:\n",
        "  print(\"there are statistically significant differences between the clusters.\")\n",
        "else:\n",
        "  print(\"there are no statistically significant differences between the clusters\")"
      ],
      "metadata": {
        "id": "B7VgDF_hXTag"
      },
      "execution_count": null,
      "outputs": []
    },
    {
      "cell_type": "markdown",
      "source": [
        "# SHAP & BASIC COLUMNS NO ERROR"
      ],
      "metadata": {
        "id": "noGzMCHLZCFg"
      }
    },
    {
      "cell_type": "code",
      "source": [
        "#TPFN_init.iloc[3]"
      ],
      "metadata": {
        "id": "hV_IWl5oM1J5"
      },
      "execution_count": null,
      "outputs": []
    },
    {
      "cell_type": "code",
      "source": [
        "'''FS: FEATURES AND SHAP NO ERROR '''\n",
        "columns_to_drop = ERROR_COL\n",
        "\n",
        "FS_TPFN = TPFN_init.drop(columns_to_drop, axis=1) #scaled\n",
        "FS_TNFP = TNFP_init.drop(columns_to_drop, axis=1) #scaled\n",
        "\n",
        "FS_TPFN = initialize_dataset(FS_TPFN, unscaled=True, meta_col=True, with_error_col= False, with_classes=True)\n",
        "FS_TNFP = initialize_dataset(FS_TNFP, unscaled=True, meta_col=True, with_error_col= False, with_classes=True)\n",
        "\n",
        "FS_TPFN.iloc[3]\n",
        "#FE_TNFP.iloc[3]"
      ],
      "metadata": {
        "id": "8a2F39IwZL0H"
      },
      "execution_count": null,
      "outputs": []
    },
    {
      "cell_type": "markdown",
      "source": [
        "***BASIC & SHAP KMEANS ON TPFN***"
      ],
      "metadata": {
        "id": "yAC7_HXkZ4Ma"
      }
    },
    {
      "cell_type": "code",
      "source": [
        "#Run it on TPFN_init and drop columns ERROR as you go through loop in clustering otherwise it doesn't work\n",
        "TPFN_init = initialize_dataset(TPFN_unscaled, unscaled=True, meta_col=True, with_error_col=False, with_classes=True)\n",
        "hbac_kmeans(data=TPFN_init, columns_to_drop= ['ERROR_COL'], error='FN', max_iter=300, show_plot=True)"
      ],
      "metadata": {
        "id": "fvyg_WyjBvOk"
      },
      "execution_count": null,
      "outputs": []
    },
    {
      "cell_type": "markdown",
      "source": [
        "***BASIC & SHAP ANOVA ON TPFN***"
      ],
      "metadata": {
        "id": "90ZKttYzaHBS"
      }
    },
    {
      "cell_type": "code",
      "source": [
        "#kept error_type in otherwise anova doesnt work\n",
        "groupsFS_tpfn = FS_TPFN.groupby('clusters')['Error_Type'].apply(list)\n",
        "anovaFS_tpfn = [np.array(groupsFS_tpfn) for groupsFS_tpfn in groupsSE_tpfn]\n",
        "\n",
        "f_stat, p_val = f_oneway(*anovaFS_tpfn)\n",
        "\n",
        "print('F-statistic:', f_stat)\n",
        "print('p-value:', p_val)\n",
        "\n",
        "alpha = 0.05\n",
        "if p_val < alpha:\n",
        "  print(\"there are statistically significant differences between the clusters.\")\n",
        "else:\n",
        "  print(\"there are no statistically significant differences between the clusters\")"
      ],
      "metadata": {
        "id": "SNKfBPv4LgPK"
      },
      "execution_count": null,
      "outputs": []
    },
    {
      "cell_type": "markdown",
      "source": [
        "***BASIC & SHAP KMEANS ON TNFP***"
      ],
      "metadata": {
        "id": "VOiqSQuEaJhS"
      }
    },
    {
      "cell_type": "code",
      "source": [
        "TNFP_init = initialize_dataset(TNFP_unscaled, unscaled=True, meta_col=True, with_error_col=False, with_classes=True)\n",
        "hbac_kmeans(data=TNFP_init, columns_to_drop=['ERROR_COL', 'META_COL'], error='FP', max_iter=300, show_plot=True)"
      ],
      "metadata": {
        "id": "9ZLm5zIFB8xw"
      },
      "execution_count": null,
      "outputs": []
    },
    {
      "cell_type": "markdown",
      "source": [
        "***BASIC & SHAP ANOVA ON TNFP***"
      ],
      "metadata": {
        "id": "ss9-OK4DaOBC"
      }
    },
    {
      "cell_type": "code",
      "source": [
        "#kept error_type in otherwise anova doesnt work\n",
        "groupsFS_tnfp = FS_TNFP.groupby('clusters')['FP'].apply(list)\n",
        "anovaFS_tnfp = [np.array(groupsFS_tnfp) for groupsFS_tnfp in groupsSE_tnfp]\n",
        "\n",
        "f_stat, p_val = f_oneway(*anovaFS_tnfp)\n",
        "\n",
        "print('F-statistic:', f_stat)\n",
        "print('p-value:', p_val)\n",
        "\n",
        "alpha = 0.05\n",
        "if p_val < alpha:\n",
        "  print(\"there are statistically significant differences between the clusters.\")\n",
        "else:\n",
        "  print(\"there are no statistically significant differences between the clusters\")"
      ],
      "metadata": {
        "id": "mWIfYLBlRxma"
      },
      "execution_count": null,
      "outputs": []
    },
    {
      "cell_type": "markdown",
      "source": [],
      "metadata": {
        "id": "Tt_6MrP6aQxN"
      }
    },
    {
      "cell_type": "markdown",
      "source": [
        "# ONLY SHAP COL"
      ],
      "metadata": {
        "id": "F0JbFgcaaeLj"
      }
    },
    {
      "cell_type": "code",
      "source": [
        "columns_to_drop = BASIC_COL_unscaled + DUMMY_unscaled + ERROR_COL\n",
        "S_TPFN = TPFN_init.drop(columns_to_drop, axis=1) #scaled\n",
        "S_TNFP = TNFP_init.drop(columns_to_drop, axis=1)\n",
        "\n",
        "S_TPFN.iloc[23]"
      ],
      "metadata": {
        "id": "DgGUQa87b3wH"
      },
      "execution_count": null,
      "outputs": []
    },
    {
      "cell_type": "markdown",
      "source": [
        "***SHAP KMEANS ON TPFN***"
      ],
      "metadata": {
        "id": "iOVUoxSna1vZ"
      }
    },
    {
      "cell_type": "code",
      "source": [
        "TPFN_init_S = initialize_dataset(TPFN_unscaled, unscaled=True, meta_col=True, with_error_col=False, with_classes=True)\n",
        "#pass original dataset and not SE_TPFN otherwise the clustering doesn't work\n",
        "hbac_kmeans(data = TPFN_init_S, columns_to_drop = ['BASIC_COL_unscaled', 'DUMMY_unscaled', 'ERROR_COL'], error= 'FN', max_iter = 300, show_plot= True)\n",
        "plt.show()"
      ],
      "metadata": {
        "id": "U8w5HmzrYtew"
      },
      "execution_count": null,
      "outputs": []
    },
    {
      "cell_type": "code",
      "source": [
        "MAXnegbias = get_max_bias_cluster(TPFN_init_S, bias_type='negative', baseline='all')\n",
        "#highest_biased_cluster = TPFN_init_S[TPFN_init_S['clusters'] == c]\n",
        "\n",
        "print ('cluster ID with the max negative bias is (1st score) against a minimum possible bias of (2nd score)', (max_neg_bias))\n",
        "\n",
        "MINnegbias = get_min_bias_cluster(TPFN_init_S, bias_type = 'negative', baseline = 'all')\n",
        "print ('cluster ID with the min negative bias is (1st score) against a maximum possible  ', (min_neg_bias))\n",
        "\n",
        "MAXposbias = get_max_bias_cluster(TPFN_init_S, bias_type='positive', baseline='all')\n",
        "print ('cluster ID with the max positive bias is (1st score) against a minimum possible bias of (2nd score)', (max_pos_bias))\n",
        "\n",
        "MINposbias = get_min_bias_cluster(TPFN_init_S, bias_type = 'positive', baseline = 'all')\n",
        "print ('cluster ID with the min positive bias is (1st score) against a maximum possible  ', (min_pos_bias))\n",
        "\n"
      ],
      "metadata": {
        "id": "Mi78iy49Uygd"
      },
      "execution_count": null,
      "outputs": []
    },
    {
      "cell_type": "markdown",
      "source": [
        "***SHAP ANOVA ON TPFN***"
      ],
      "metadata": {
        "id": "jLVxPgNUa5fd"
      }
    },
    {
      "cell_type": "code",
      "source": [
        "#kept error_type in otherwise anova doesnt work\n",
        "groupsS_tpfn = TPFN_init_S.groupby('clusters')['FN'].apply(list)\n",
        "\n",
        "# Check the number of groups\n",
        "print(\"Number of groups:\", len(groupsS_tpfn))\n",
        "\n",
        "anovaS_tpfn = [np.array(groupsS_tpfn) for groupsS_tpfn in groupsS_tpfn]\n",
        "\n",
        "# Proceed with ANOVA only if there are at least two groups\n",
        "if len(anovaS_tpfn) >= 2:\n",
        "    f_stat, p_val = f_oneway(*anovaS_tpfn)\n",
        "\n",
        "    print('F-statistic:', f_stat)\n",
        "    print('p-value:', p_val)\n",
        "\n",
        "    alpha = 0.05\n",
        "    if p_val < alpha:\n",
        "        print(\"there are statistically significant differences between the clusters.\")\n",
        "    else:\n",
        "        print(\"there are no statistically significant differences between the clusters\")\n",
        "else:\n",
        "    print(\"ANOVA cannot be performed with less than two groups.\")"
      ],
      "metadata": {
        "id": "EhjucG-7OMQJ"
      },
      "execution_count": null,
      "outputs": []
    },
    {
      "cell_type": "markdown",
      "source": [
        "***SHAP KMEANS ON TNFP***"
      ],
      "metadata": {
        "id": "ea1UDmdEa-wt"
      }
    },
    {
      "cell_type": "code",
      "source": [
        "TNFP_init = initialize_dataset(TNFP_unscaled, unscaled=True, meta_col=True, with_error_col=False, with_classes=True)\n",
        "hbac_kmeans(data = TNFP_init, columns_to_drop = ['BASIC_COL_unscaled', 'DUMMY_unscaled', 'ERROR_COL'], error= 'FP', max_iter = 300, show_plot= True)\n",
        "plt.show()"
      ],
      "metadata": {
        "id": "I_jRNKq9cDCT"
      },
      "execution_count": null,
      "outputs": []
    },
    {
      "cell_type": "code",
      "source": [
        "max_neg_bias = get_max_bias_cluster(TPFN_init_S, bias_type='negative', baseline='all')\n",
        "#highest_biased_cluster = TPFN_init_S[TPFN_init_S['clusters'] == c]\n",
        "\n",
        "print ('cluster ID with the max negative bias is (1st score) against a minimum possible bias of (2nd score)', (max_neg_bias))\n",
        "\n",
        "min_neg_bias = get_min_bias_cluster(TPFN_init_S, bias_type = 'negative', baseline = 'all')\n",
        "print ('cluster ID with the min negative bias is (1st score) against a maximum possible  ', (min_neg_bias))\n",
        "\n",
        "max_pos_bias = get_max_bias_cluster(TPFN_init_S, bias_type='positive', baseline='all')\n",
        "print ('cluster ID with the max positive bias is (1st score) against a minimum possible bias of (2nd score)', (max_pos_bias))\n",
        "\n",
        "min_pos_bias = get_min_bias_cluster(TPFN_init_S, bias_type = 'positive', baseline = 'all')\n",
        "print ('cluster ID with the min positive bias is (1st score) against a maximum possible  ', (min_pos_bias))\n",
        "\n"
      ],
      "metadata": {
        "id": "swNoy_gBZpC5"
      },
      "execution_count": null,
      "outputs": []
    },
    {
      "cell_type": "markdown",
      "source": [
        "***SHAP ANOVA ON TNFP***"
      ],
      "metadata": {
        "id": "F2VMD_1obCFf"
      }
    },
    {
      "cell_type": "markdown",
      "source": [
        "# ONLY BASIC COL"
      ],
      "metadata": {
        "id": "8leexXWfax1X"
      }
    },
    {
      "cell_type": "markdown",
      "source": [
        "***BASIC KMEANS ON TPFN***"
      ],
      "metadata": {
        "id": "vTVYFxxBbN8Z"
      }
    },
    {
      "cell_type": "markdown",
      "source": [
        "***BASIC ANOVA ON TPFN***"
      ],
      "metadata": {
        "id": "CAEpgQZMbRVr"
      }
    },
    {
      "cell_type": "markdown",
      "source": [
        "***BASIC KMEANS ON TNFP***"
      ],
      "metadata": {
        "id": "c2wsECfJbUs7"
      }
    },
    {
      "cell_type": "markdown",
      "source": [
        "***BASIC ANOVA ON TNFP***"
      ],
      "metadata": {
        "id": "bPkq8Ky7bYmw"
      }
    }
  ]
}