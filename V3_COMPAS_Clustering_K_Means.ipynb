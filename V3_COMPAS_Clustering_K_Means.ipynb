{
  "nbformat": 4,
  "nbformat_minor": 0,
  "metadata": {
    "colab": {
      "provenance": [],
      "collapsed_sections": [
        "amdTO-ejctkD",
        "3_mds7crD9Te",
        "URIWoUpSfBLC",
        "mw7ZAR6tyVy0",
        "noGzMCHLZCFg"
      ],
      "authorship_tag": "ABX9TyMzv5KrKk9OlKn34ZYT9drf",
      "include_colab_link": true
    },
    "kernelspec": {
      "name": "python3",
      "display_name": "Python 3"
    },
    "language_info": {
      "name": "python"
    }
  },
  "cells": [
    {
      "cell_type": "markdown",
      "metadata": {
        "id": "view-in-github",
        "colab_type": "text"
      },
      "source": [
        "<a href=\"https://colab.research.google.com/github/MDankloff/ClusterCompas/blob/main/V3_COMPAS_Clustering_K_Means.ipynb\" target=\"_parent\"><img src=\"https://colab.research.google.com/assets/colab-badge.svg\" alt=\"Open In Colab\"/></a>"
      ]
    },
    {
      "cell_type": "markdown",
      "source": [
        "# Libraries"
      ],
      "metadata": {
        "id": "amdTO-ejctkD"
      }
    },
    {
      "cell_type": "code",
      "execution_count": 65,
      "metadata": {
        "id": "6p03LXU_cl1D"
      },
      "outputs": [],
      "source": [
        "import numpy as np\n",
        "import matplotlib.pyplot as plt\n",
        "import pandas as pd\n",
        "import seaborn as sns\n",
        "import random\n",
        "import os\n",
        "from sklearn.cluster import KMeans, DBSCAN\n",
        "from sklearn.neighbors import NearestNeighbors\n",
        "from sklearn.cluster import MeanShift, estimate_bandwidth\n",
        "from sklearn.preprocessing import StandardScaler, MinMaxScaler\n",
        "from sklearn.decomposition import PCA\n",
        "from sklearn.manifold import TSNE\n",
        "from scipy import stats\n",
        "from scipy.stats import ttest_ind\n",
        "from scipy.stats import f_oneway\n",
        "\n",
        "import warnings\n",
        "warnings.filterwarnings('ignore')"
      ]
    },
    {
      "cell_type": "markdown",
      "source": [
        "# LOAD (META) DATA"
      ],
      "metadata": {
        "id": "WoAA5JWHc_qW"
      }
    },
    {
      "cell_type": "code",
      "source": [
        "data_shaper = pd.read_csv('/content/Compas_error_shap.csv')\n",
        "#data_shaperr.head()\n",
        "#data_shaperr.info()\n",
        "#data_shaper.iloc[3]"
      ],
      "metadata": {
        "id": "lncfm9EwEifF"
      },
      "execution_count": 76,
      "outputs": []
    },
    {
      "cell_type": "code",
      "source": [
        "data_shaper.iloc[3]"
      ],
      "metadata": {
        "colab": {
          "base_uri": "https://localhost:8080/"
        },
        "id": "A2YQ7H5Y8Sl8",
        "outputId": "7c73c783-f097-4b6a-b2da-d7aaa4dc1bb3"
      },
      "execution_count": 77,
      "outputs": [
        {
          "output_type": "execute_result",
          "data": {
            "text/plain": [
              "age                                      31.0\n",
              "decile_score                             10.0\n",
              "priors_count                              5.0\n",
              "sex_Female                                0.0\n",
              "race_African-American                     1.0\n",
              "race_Asian                                0.0\n",
              "race_Caucasian                            0.0\n",
              "race_Hispanic                             0.0\n",
              "race_Native American                      0.0\n",
              "race_Other                                0.0\n",
              "age_scaled                          -0.321161\n",
              "decile_score_scaled                  1.922288\n",
              "priors_count_scaled                  0.312889\n",
              "sex_Female_scaled                   -0.489624\n",
              "race_African-American_scaled         0.975623\n",
              "race_Asian_scaled                    -0.06675\n",
              "race_Caucasian_scaled               -0.718015\n",
              "race_Hispanic_scaled                -0.311212\n",
              "race_Native American_scaled         -0.050014\n",
              "race_Other_scaled                   -0.234822\n",
              "errors                                    1.0\n",
              "TP                                        0.0\n",
              "TN                                        0.0\n",
              "FN                                        0.0\n",
              "FP                                        1.0\n",
              "Error_Type                                 FP\n",
              "Shap_age                             0.048565\n",
              "Shap_decile_score                    0.040734\n",
              "Shap_priors_count                    0.361598\n",
              "Shap_sex_Female                      0.014102\n",
              "Shap_race_African-American           0.021855\n",
              "Shap_race_Asian                      0.000344\n",
              "Shap_race_Caucasian                  0.001543\n",
              "Shap_race_Hispanic                   -0.00024\n",
              "Shap_race_Native American                 0.0\n",
              "Shap_race_Other                      0.001984\n",
              "Shap_age_scaled                      0.436613\n",
              "Shap_decile_score_scaled             0.475281\n",
              "Shap_priors_count_scaled             2.289403\n",
              "Shap_sex_Female_scaled               0.298511\n",
              "Shap_race_African-American_scaled     0.63689\n",
              "Shap_race_Asian_scaled               0.067103\n",
              "Shap_race_Caucasian_scaled           0.123069\n",
              "Shap_race_Hispanic_scaled            0.007584\n",
              "Shap_race_Native American_scaled     0.049157\n",
              "Shap_race_Other_scaled                0.17019\n",
              "errors_scaled                       -0.767102\n",
              "TP_scaled                           -0.575723\n",
              "TN_scaled                            1.275699\n",
              "FN_scaled                           -0.496297\n",
              "FP_scaled                           -0.457088\n",
              "Name: 3, dtype: object"
            ]
          },
          "metadata": {},
          "execution_count": 77
        }
      ]
    },
    {
      "cell_type": "code",
      "source": [
        "#Master Dataset\n",
        "META_COL = ['clusters', 'new_clusters']\n",
        "META_COL_VIZ = ['Error_Type']\n",
        "\n",
        "ERROR_COL = ['errors', 'TP', 'TN', 'FN', 'FP']\n",
        "BASIC_COL = ['age', 'decile_score', 'priors_count']\n",
        "DUMMY_COL = ['sex_Female','race_African-American', 'race_Asian', 'race_Caucasian', 'race_Hispanic',\n",
        "                      'race_Native American', 'race_Other']\n",
        "\n",
        "ERROR_COL_scaled = ['errors_scaled', 'TP_scaled', 'TN_scaled', 'FN_scaled', 'FP_scaled']\n",
        "BASIC_COL_scaled = ['age_scaled', 'decile_score_scaled', 'priors_count_scaled']\n",
        "DUMMY_COL_scaled = ['sex_Female_scaled', 'race_Native American_scaled','race_Other_scaled',\n",
        "                'race_African-American_scaled', 'race_Asian_scaled', 'race_Caucasian_scaled', 'race_Hispanic_scaled']\n",
        "\n",
        "#SHAP is created on BASIC_COL_scaled and DUMMY_COL_scaled\n",
        "SHAP_BASIC = ['Shap_age', 'Shap_decile_score', 'Shap_priors_count']\n",
        "SHAP_DUMMY = ['Shap_sex_Female','Shap_race_African-American', 'Shap_race_Asian', 'Shap_race_Caucasian',\n",
        "                         'Shap_race_Hispanic', 'Shap_race_Native American', 'Shap_race_Other']\n",
        "\n",
        "SHAP_BASIC_scaled = ['Shap_age_scaled', 'Shap_decile_score_scaled', 'Shap_priors_count_scaled']\n",
        "SHAP_DUMMY_scaled = ['Shap_sex_Female_scaled','Shap_race_African-American_scaled',\n",
        "                     'Shap_race_Asian_scaled', 'Shap_race_Caucasian_scaled','Shap_race_Hispanic_scaled',\n",
        "                     'Shap_race_Native American_scaled', 'Shap_race_Other_scaled']"
      ],
      "metadata": {
        "id": "Ot8djK6adHLL"
      },
      "execution_count": 78,
      "outputs": []
    },
    {
      "cell_type": "markdown",
      "source": [
        "# DATA PREP UTILS"
      ],
      "metadata": {
        "id": "3_mds7crD9Te"
      }
    },
    {
      "cell_type": "code",
      "source": [
        "#Seperate TPFN & TNFP dataset\n",
        "'''Drop rows where both TP and FN are 0 '''\n",
        "def drop_zero_TP_FN(data):\n",
        "    return data.loc[(data['TP'] == 1) | (data['FN'] == 1)]\n",
        "\n",
        "'''Drop rows where both TN and FP are 0'''\n",
        "def drop_zero_TN_FP(data):\n",
        "    return data.loc[(data['TN'] == 1) | (data['FP'] == 1)]\n",
        "\n",
        "TPFN_all = drop_zero_TP_FN(data_shaper)\n",
        "TNFP_all = drop_zero_TN_FP(data_shaper)"
      ],
      "metadata": {
        "id": "8A9b1ah7dR22"
      },
      "execution_count": 79,
      "outputs": []
    },
    {
      "cell_type": "code",
      "source": [
        "#convert Error_Type to numeric labels Not yet for visuals\n",
        "#TPFN_all['Error_Type'] = TPFN_all['Error_Type'].map({'FN': 0, 'FP': 1, 'TP': 2, 'TN': 3})\n",
        "#TNFP_all['Error_Type'] = TNFP_all['Error_Type'].map({'FN': 0, 'FP': 1, 'TP': 2, 'TN': 3})"
      ],
      "metadata": {
        "id": "uHAORq2LPZMJ"
      },
      "execution_count": 5,
      "outputs": []
    },
    {
      "cell_type": "code",
      "source": [
        "#drop Na's\n",
        "TPFN_all = TPFN_all.dropna()\n",
        "TNFP_all = TNFP_all.dropna()"
      ],
      "metadata": {
        "id": "-BLx4V_hwx0F"
      },
      "execution_count": 80,
      "outputs": []
    },
    {
      "cell_type": "code",
      "source": [
        "scaler = StandardScaler()\n",
        "features_to_scale = ERROR_COL_scaled + BASIC_COL_scaled + DUMMY_COL_scaled + SHAP_BASIC_scaled + SHAP_DUMMY_scaled\n",
        "TPFN_all[features_to_scale] = scaler.fit_transform(TPFN_all[features_to_scale])\n",
        "\n",
        "TNFP_all[features_to_scale] = scaler.fit_transform(TNFP_all[features_to_scale])\n",
        "TPFN_all.iloc[3]"
      ],
      "metadata": {
        "colab": {
          "base_uri": "https://localhost:8080/"
        },
        "id": "WMpQdFoo4epU",
        "outputId": "ef7b3f00-f8d3-4b7e-bc5d-39c7fa52543b"
      },
      "execution_count": 81,
      "outputs": [
        {
          "output_type": "execute_result",
          "data": {
            "text/plain": [
              "age                                      23.0\n",
              "decile_score                              8.0\n",
              "priors_count                              0.0\n",
              "sex_Female                                0.0\n",
              "race_African-American                     1.0\n",
              "race_Asian                                0.0\n",
              "race_Caucasian                            0.0\n",
              "race_Hispanic                             0.0\n",
              "race_Native American                      0.0\n",
              "race_Other                                0.0\n",
              "age_scaled                          -0.844992\n",
              "decile_score_scaled                  0.818913\n",
              "priors_count_scaled                 -0.821032\n",
              "sex_Female_scaled                   -0.401057\n",
              "race_African-American_scaled         0.838699\n",
              "race_Asian_scaled                   -0.042737\n",
              "race_Caucasian_scaled               -0.640332\n",
              "race_Hispanic_scaled                -0.274755\n",
              "race_Native American_scaled         -0.060495\n",
              "race_Other_scaled                    -0.22081\n",
              "errors                                    1.0\n",
              "TP                                        0.0\n",
              "TN                                        0.0\n",
              "FN                                        1.0\n",
              "FP                                        0.0\n",
              "Error_Type                                 FN\n",
              "Shap_age                             0.011116\n",
              "Shap_decile_score                    0.013273\n",
              "Shap_priors_count                   -0.098559\n",
              "Shap_sex_Female                     -0.016765\n",
              "Shap_race_African-American          -0.015816\n",
              "Shap_race_Asian                     -0.000112\n",
              "Shap_race_Caucasian                 -0.000301\n",
              "Shap_race_Hispanic                  -0.022314\n",
              "Shap_race_Native American                 0.0\n",
              "Shap_race_Other                     -0.003369\n",
              "Shap_age_scaled                      0.085002\n",
              "Shap_decile_score_scaled             0.150109\n",
              "Shap_priors_count_scaled            -0.676086\n",
              "Shap_sex_Female_scaled              -0.507192\n",
              "Shap_race_African-American_scaled   -0.601696\n",
              "Shap_race_Asian_scaled              -0.084166\n",
              "Shap_race_Caucasian_scaled           0.073842\n",
              "Shap_race_Hispanic_scaled           -1.649112\n",
              "Shap_race_Native American_scaled     0.051168\n",
              "Shap_race_Other_scaled              -0.354066\n",
              "errors_scaled                       -0.793735\n",
              "TP_scaled                            1.785223\n",
              "TN_scaled                           -0.774032\n",
              "FN_scaled                           -0.503701\n",
              "FP_scaled                           -0.475077\n",
              "Name: 8, dtype: object"
            ]
          },
          "metadata": {},
          "execution_count": 81
        }
      ]
    },
    {
      "cell_type": "code",
      "source": [
        "'''\n",
        "#create scaled and unscaled versions of TPFN - TNFP\n",
        "TPFN_scaled = TPFN_all.drop(BASIC_COL + DUMMY_COL + ERROR_COL + SHAP_BASIC + SHAP_DUMMY, axis=1)\n",
        "TPFN_unscaled = TPFN_all.drop(BASIC_COL_scaled + DUMMY_COL_scaled + ERROR_COL_scaled + SHAP_BASIC_scaled + SHAP_DUMMY_scaled, axis=1)\n",
        "TNFP_scaled = TNFP_all.drop(BASIC_COL + DUMMY_COL + ERROR_COL + SHAP_BASIC + SHAP_DUMMY, axis=1)\n",
        "TNFP_unscaled = TNFP_all.drop(BASIC_COL_scaled + DUMMY_COL_scaled + ERROR_COL_scaled + SHAP_BASIC_scaled + SHAP_DUMMY_scaled, axis=1)\n",
        "\n",
        "TPFN_scaled.iloc[3]\n",
        "#TNFP_unscaled.iloc[3]\n",
        "'''"
      ],
      "metadata": {
        "colab": {
          "base_uri": "https://localhost:8080/"
        },
        "id": "85dBJFflPRoJ",
        "outputId": "10138355-f558-45da-f5ea-ced9e6a6e301"
      },
      "execution_count": 72,
      "outputs": [
        {
          "output_type": "execute_result",
          "data": {
            "text/plain": [
              "age_scaled                          -0.994103\n",
              "decile_score_scaled                  1.222057\n",
              "priors_count_scaled                  -0.71124\n",
              "sex_Female_scaled                   -0.489624\n",
              "race_African-American_scaled         0.975623\n",
              "race_Asian_scaled                    -0.06675\n",
              "race_Caucasian_scaled               -0.718015\n",
              "race_Hispanic_scaled                -0.311212\n",
              "race_Native American_scaled         -0.050014\n",
              "race_Other_scaled                   -0.234822\n",
              "Error_Type                                 FN\n",
              "Shap_age_scaled                      0.074998\n",
              "Shap_decile_score_scaled             0.161216\n",
              "Shap_priors_count_scaled              -0.6528\n",
              "Shap_sex_Female_scaled              -0.524567\n",
              "Shap_race_African-American_scaled   -0.608427\n",
              "Shap_race_Asian_scaled              -0.110901\n",
              "Shap_race_Caucasian_scaled           0.050368\n",
              "Shap_race_Hispanic_scaled           -1.436977\n",
              "Shap_race_Native American_scaled     0.049157\n",
              "Shap_race_Other_scaled              -0.313978\n",
              "errors_scaled                       -0.767102\n",
              "TP_scaled                            1.736948\n",
              "TN_scaled                           -0.783884\n",
              "FN_scaled                           -0.496297\n",
              "FP_scaled                           -0.457088\n",
              "Name: 8, dtype: object"
            ]
          },
          "metadata": {},
          "execution_count": 72
        }
      ]
    },
    {
      "cell_type": "code",
      "source": [
        "def initialize_dataset(data, meta_col=True, with_error_col =True, with_classes=True):\n",
        "    \"\"\"\n",
        "    Prepare the dataset by scaling the features and adding new columns for clusters = 0 and new_clusters = -1 which is required for HBAC.\n",
        "\n",
        "    PARAM:\n",
        "    - data: input dataset.\n",
        "    - meta_col (bool): If True, keeps META_COL in the final dataset\n",
        "    - with_error_col (bool): If True, includes ERROR_COL in the features to scale\n",
        "    - with_classes (bool): If True, retains class columns from META_COL in the new dataset\n",
        "\n",
        "    Returns:\n",
        "    - pd.DataFrame: dataset with scaled features and cluster columns.\n",
        "    \"\"\"\n",
        "\n",
        "    # 1. Make deep copy of the dataset\n",
        "    new_data = data.copy(deep=True)\n",
        "\n",
        "\n",
        "    \"\"\"\n",
        "    # 2. Ignore META_COL and META_COL_viz for scaling and add them back in step 4\n",
        "    if meta_col:\n",
        "      columns_to_drop = META_COL + META_COL_VIZ #+ ERROR_COL\n",
        "      columns_to_drop = [col for col in columns_to_drop if col in new_data.columns]\n",
        "      new_data = new_data.drop(columns=columns_to_drop, errors='ignore')\n",
        "\n",
        "    # 3. Scale features\n",
        "    features_to_scale = new_data.columns.tolist()\n",
        "    if not with_error_col:\n",
        "        features_to_scale = [col for col in features_to_scale if col not in ERROR_COL + ERROR_COL_scaled]\n",
        "\n",
        "    scaler = StandardScaler()\n",
        "    new_data[features_to_scale] = scaler.fit_transform(new_data[features_to_scale])\n",
        "\n",
        "    # 5. Add back META_COL_VIZ and META_COL_VIZ if required\n",
        "    if meta_col:\n",
        "        for col in META_COL:\n",
        "            if col in data.columns:\n",
        "                new_data[col] = data[col]\n",
        "    for col in META_COL_VIZ:\n",
        "        if col in data.columns:\n",
        "            new_data[col] = data[col]\n",
        "    \"\"\"\n",
        "    # Initialize clusters and new_clusters columns\n",
        "    new_data['clusters'] = 0\n",
        "    new_data['new_clusters'] = -1\n",
        "\n",
        "    return new_data"
      ],
      "metadata": {
        "id": "hv-wMxciCkAV"
      },
      "execution_count": 83,
      "outputs": []
    },
    {
      "cell_type": "code",
      "source": [
        "# Example usage\n",
        "\n",
        "TPFN_init = initialize_dataset(TPFN_all, meta_col=True, with_error_col=True, with_classes=True) # Check (it will give the same dataset)\n",
        "TNFP_init = initialize_dataset(TNFP_all, meta_col=True, with_error_col=True, with_classes=True)\n",
        "#TPFN_init.iloc[3]\n",
        "TNFP_init.iloc[3]\n",
        "#TNFP_init2.iloc[3]\n"
      ],
      "metadata": {
        "colab": {
          "base_uri": "https://localhost:8080/"
        },
        "id": "8bDAPOW54Mh4",
        "outputId": "a0966945-ce75-4ce8-eb48-2a96b9055758"
      },
      "execution_count": 84,
      "outputs": [
        {
          "output_type": "execute_result",
          "data": {
            "text/plain": [
              "age                                      40.0\n",
              "decile_score                              1.0\n",
              "priors_count                              0.0\n",
              "sex_Female                                0.0\n",
              "race_African-American                     1.0\n",
              "race_Asian                                0.0\n",
              "race_Caucasian                            0.0\n",
              "race_Hispanic                             0.0\n",
              "race_Native American                      0.0\n",
              "race_Other                                0.0\n",
              "age_scaled                           0.224279\n",
              "decile_score_scaled                 -0.994168\n",
              "priors_count_scaled                 -0.640735\n",
              "sex_Female_scaled                   -0.532679\n",
              "race_African-American_scaled         1.085159\n",
              "race_Asian_scaled                   -0.053567\n",
              "race_Caucasian_scaled               -0.762527\n",
              "race_Hispanic_scaled                 -0.34018\n",
              "race_Native American_scaled         -0.065653\n",
              "race_Other_scaled                   -0.257607\n",
              "errors                                    0.0\n",
              "TP                                        0.0\n",
              "TN                                        1.0\n",
              "FN                                        0.0\n",
              "FP                                        0.0\n",
              "Error_Type                                 TN\n",
              "Shap_age                            -0.027134\n",
              "Shap_decile_score                   -0.070421\n",
              "Shap_priors_count                   -0.078453\n",
              "Shap_sex_Female                       0.01347\n",
              "Shap_race_African-American           0.018587\n",
              "Shap_race_Asian                      0.000124\n",
              "Shap_race_Caucasian                  0.046593\n",
              "Shap_race_Hispanic                   0.000247\n",
              "Shap_race_Native American                 0.0\n",
              "Shap_race_Other                      0.002307\n",
              "Shap_age_scaled                     -0.279174\n",
              "Shap_decile_score_scaled            -0.800271\n",
              "Shap_priors_count_scaled            -0.531185\n",
              "Shap_sex_Female_scaled               0.273211\n",
              "Shap_race_African-American_scaled    0.543617\n",
              "Shap_race_Asian_scaled              -0.054634\n",
              "Shap_race_Caucasian_scaled           1.949653\n",
              "Shap_race_Hispanic_scaled            0.065513\n",
              "Shap_race_Native American_scaled     0.042717\n",
              "Shap_race_Other_scaled               0.178203\n",
              "errors_scaled                        1.327722\n",
              "TP_scaled                           -0.573496\n",
              "TN_scaled                           -0.800528\n",
              "FN_scaled                           -0.492612\n",
              "FP_scaled                            2.236068\n",
              "clusters                                    0\n",
              "new_clusters                               -1\n",
              "Name: 5, dtype: object"
            ]
          },
          "metadata": {},
          "execution_count": 84
        }
      ]
    },
    {
      "cell_type": "markdown",
      "source": [],
      "metadata": {
        "id": "rDMkTbI-EOc9"
      }
    },
    {
      "cell_type": "code",
      "source": [
        "'''undo Dummy for DUMMY_RACE or DUMMY_GENDER'''\n",
        "def undo_dummy(data, with_Dummy, col_label, numeric_values=True, short_label=None):\n",
        "  data[col_label] = ''\n",
        "  for i, c in enumerate(with_Dummy):\n",
        "    values = np.sort(data[c].unique())\n",
        "    if numeric_values:\n",
        "      data.loc[data[c] == values[1], col_label] = i\n",
        "    else:\n",
        "      if short_label is None:\n",
        "        raise ValueError(\"short label must be provided if numeric_values is False\")\n",
        "        data.loc[data[c] == values[1], col_label] = short_label[i]\n",
        "    data = data.drop(c, axis=1)\n",
        "  return(data)\n",
        "\n",
        "#data = undo_dummy(data, DUMMY_RACE, col_label='race', numeric_values=False, short_label=SHORT_LABEL_RACE)\n",
        "#data = undo_dummy(data, DUMMY_GENDER, col_label='gender', numeric_values=False, short_label=SHORT_LABEL_GENDER)"
      ],
      "metadata": {
        "id": "bYnrCZPlw8Of"
      },
      "execution_count": 85,
      "outputs": []
    },
    {
      "cell_type": "markdown",
      "source": [
        "# UTILS for BIAS in ERROR DIFFERENCE"
      ],
      "metadata": {
        "id": "l3ZumSo56l9L"
      }
    },
    {
      "cell_type": "code",
      "source": [
        "#Calculate average Error rate based on unscaled error rate by counting the amount of max values (1) and dividing them by the total nr of rows - replacing old accuracy_error() from V1\n",
        "def get_error_rate(data, column='errors'):\n",
        "  if len(data) == 0:\n",
        "    print ('calculating error rate on an empty cluster')\n",
        "    return\n",
        "  max_value = data[column].max()\n",
        "  count_max_value = (data[column] == max_value).sum()\n",
        "  average_error_rate = count_max_value / len(data)\n",
        "  return average_error_rate\n",
        "\n",
        "'''Calculate BIAS in terms of Error Difference\n",
        "bias_type can be 'negative', 'positive' or 'absolute'\n",
        "baseline can be 'all' which is the overall error rate, or 'other' or 'best' '''\n",
        "\n",
        "def get_error_diff(data, cluster_id, cluster_col, bias_type = 'negative', baseline= 'all'):\n",
        "  cluster_x= data.loc[data[cluster_col] == cluster_id]\n",
        "  remaining_clusters = data.loc[data[cluster_col] != cluster_id]\n",
        "\n",
        "  if len(cluster_x) == 0:\n",
        "    print ('calculating error difference on an empty cluster')\n",
        "    return\n",
        "\n",
        "  if baseline == 'all':\n",
        "    error_diff = get_error_rate(cluster_x) - get_error_rate(data)\n",
        "\n",
        "  elif baseline == 'other':\n",
        "    if len(remaining_clusters) == 0:\n",
        "      print (\"This cluster is the entire dataset. Cluster:\", cluster_id)\n",
        "      return\n",
        "    error_diff = get_error_rate(cluster_x) - get_error_rate(remaining_clusters)\n",
        "\n",
        "  elif baseline == 'best':\n",
        "    best_cluster = get_min_bias_cluster(data, cluster_col, bias_type, baseline)\n",
        "    error_diff = get_error_rate(cluster_x) - best_cluster[1]\n",
        "\n",
        "  else:\n",
        "    print ('unknown baseline')\n",
        "    return\n",
        "\n",
        "  #if full_info:\n",
        "    #return [error_diff, function(cluster_x), function(remaining_clusters)]\n",
        "\n",
        "  if bias_type == 'negative':\n",
        "    pass #no change needed\n",
        "  elif bias_type == 'positive':\n",
        "    error_diff = -error_diff\n",
        "  elif bias_type == 'absolute':\n",
        "    error_diff = np.absolute(error_diff)\n",
        "  else:\n",
        "    print(\"unknown bias type\")\n",
        "    return\n",
        "\n",
        "  return error_diff"
      ],
      "metadata": {
        "id": "PhGil8f663vU"
      },
      "execution_count": 106,
      "outputs": []
    },
    {
      "cell_type": "markdown",
      "source": [
        "# UTILS for VISUALS"
      ],
      "metadata": {
        "id": "w1MYjWK6bkSL"
      }
    },
    {
      "cell_type": "markdown",
      "source": [
        "PCA"
      ],
      "metadata": {
        "id": "9woyQpSZmBre"
      }
    },
    {
      "cell_type": "code",
      "source": [
        "def pca_plot(data, title, perplexity, learning_rate, n_iter, alpha, pca_columns= [], other_columns=[], error='error'):\n",
        "\n",
        "    if title is None:\n",
        "        title = f'K-means for {error}\\n'\n",
        "\n",
        "    # Extract features for t-SNE and drop other_columns\n",
        "    pca_features = data[pca_columns]\n",
        "    other_columns = [col for col in data.columns if col not in pca_features]\n",
        "    other_features = data[other_columns]\n",
        "\n",
        "    tsne = TSNE(n_components=2, perplexity= 30, learning_rate= 200, n_iter= 1000)\n",
        "    tsne_result = tsne.fit_transform(tsne_features)\n",
        "    tsne_df = pd.DataFrame(tsne_result, index = tsne_features.index, columns=['t-SNE Component 1', 't-SNE Component 2'])\n",
        "\n",
        "    # Apply PCA with 2 components to scaled features and create a df for the resulting principal components\n",
        "    pca = PCA(n_components=2)\n",
        "    pca_result = pca.fit_transform(pca_features)\n",
        "    pca_df = pd.DataFrame(pca_result, index=pca_features.index, columns=['PC1', 'PC2'])\n",
        "\n",
        "    # Create temporary dataset that contains both principal components and other features\n",
        "    temp_dataset = pca_df.join(other_features, how='left')\n",
        "\n",
        "    scatterplot = sns.scatterplot(data=temp_dataset, x='PC1', y='PC2', alpha=alpha, hue=\"Error_Type\", palette='tab10', style='Error_Type')\n",
        "    scatterplot.set_title(title)\n",
        "    scatterplot.legend(loc='center left', bbox_to_anchor=(1.0, 0.5), ncol=1)\n",
        "\n",
        "    explained_variance_ratio = pca.explained_variance_ratio_\n",
        "    print(f\"Explained Variance Ratio: PC1 = {explained_variance_ratio[0]:.2f}, PC2 = {explained_variance_ratio[1]:.2f}\")\n",
        "\n",
        "    plt.show()"
      ],
      "metadata": {
        "id": "LIJzCOJemBBe"
      },
      "execution_count": 93,
      "outputs": []
    },
    {
      "cell_type": "markdown",
      "source": [
        "TSNE"
      ],
      "metadata": {
        "id": "VDJTr4pPmIMe"
      }
    },
    {
      "cell_type": "code",
      "source": [
        "'''\n",
        "PARAMS:\n",
        "    - alpha: float, transparency level for plot points\n",
        "    - tsne_columns: list of str, columns used for t-SNE\n",
        "    - error: str type for title\n",
        "    - perplexity: float, perplexity parameter for t-SNE\n",
        "    - learning_rate: float,learning rate parameter for t-SNE\n",
        "    - other_columns: list of str, other columns to include in the plot\n",
        "'''\n",
        "\n",
        "def tsne_plot(data, title, perplexity, learning_rate, n_iter, alpha, tsne_columns= [], other_columns=[], error='error'):\n",
        "\n",
        "    if title is None:\n",
        "        title = f'K-means for {error}\\n'\n",
        "\n",
        "    # Extract features for t-SNE and drop other_columns\n",
        "    tsne_features = data[tsne_columns]\n",
        "    other_columns = [col for col in data.columns if col not in tsne_features]\n",
        "    other_features = data[other_columns]\n",
        "\n",
        "    tsne = TSNE(n_components=2, perplexity= 30, learning_rate= 200, n_iter= 1000)\n",
        "    tsne_result = tsne.fit_transform(tsne_features)\n",
        "    tsne_df = pd.DataFrame(tsne_result, index = tsne_features.index, columns=['t-SNE Component 1', 't-SNE Component 2'])\n",
        "\n",
        "    temp_dataset = tsne_df.join(other_features, how='left')\n",
        "\n",
        "    # Create scatterplot using seaborn\n",
        "    scatterplot = sns.scatterplot(data=temp_dataset, x='t-SNE Component 1', y='t-SNE Component 2', alpha=alpha, hue=\"Error_Type\", palette='tab10', style='Error_Type')\n",
        "    scatterplot.set_title(title)\n",
        "    scatterplot.legend(loc='center left', bbox_to_anchor=(1.0, 0.5), ncol=1)\n",
        "\n",
        "    plt.show()"
      ],
      "metadata": {
        "id": "HoSLp22kbykA"
      },
      "execution_count": 90,
      "outputs": []
    },
    {
      "cell_type": "markdown",
      "source": [],
      "metadata": {
        "id": "Bj-kyT-ldUwa"
      }
    },
    {
      "cell_type": "code",
      "source": [
        "#pca_plot(TPFN_init, title=None, alpha = 0.5, pca_columns = BASIC_COL_scaled + DUMMY_COL_scaled + ERROR_COL_scaled + SHAP_BASIC_scaled + SHAP_DUMMY_scaled, other_columns=None, error='error')\n",
        "tsne_plot(TPFN_init, title='t-SNE for True Positives (2) and False Negatives (0)', alpha = 0.5, tsne_columns =BASIC_COL_scaled + DUMMY_COL_scaled + ERROR_COL_scaled + SHAP_BASIC_scaled + SHAP_DUMMY_scaled, other_columns=None, error='error', perplexity=30, learning_rate =200, n_iter= 1000)"
      ],
      "metadata": {
        "colab": {
          "base_uri": "https://localhost:8080/",
          "height": 472
        },
        "id": "BhU6II4-2mWM",
        "outputId": "7d7fecdb-4787-4889-a308-e189bc4a6d67"
      },
      "execution_count": 91,
      "outputs": [
        {
          "output_type": "display_data",
          "data": {
            "text/plain": [
              "<Figure size 640x480 with 1 Axes>"
            ],
            "image/png": "[encoded data removed]"
          },
          "metadata": {}
        }
      ]
    },
    {
      "cell_type": "code",
      "source": [
        "#pca_plot(TNFP_init, error = 'error', title=None, alpha = 0.5, pca_columns = BASIC_COL_scaled + DUMMY_COL_scaled + ERROR_COL_scaled + SHAP_BASIC_scaled + SHAP_DUMMY_scaled, other_columns=None)\n",
        "tsne_plot(TNFP_init, error= 'error', title='t-SNE for True Negatives (3) and False Positives (1)', alpha=0.5, tsne_columns = BASIC_COL_scaled + DUMMY_COL_scaled + ERROR_COL_scaled + SHAP_BASIC_scaled + SHAP_DUMMY_scaled, other_columns=None, perplexity=30, learning_rate =200, n_iter= 1000)"
      ],
      "metadata": {
        "id": "JngeycNY2rrU",
        "colab": {
          "base_uri": "https://localhost:8080/",
          "height": 472
        },
        "outputId": "8911d0fc-ebce-4eed-c22d-9cd02dc38338"
      },
      "execution_count": 94,
      "outputs": [
        {
          "output_type": "display_data",
          "data": {
            "text/plain": [
              "<Figure size 640x480 with 1 Axes>"
            ],
            "image/png": "[encoded data removed]"
          },
          "metadata": {}
        }
      ]
    },
    {
      "cell_type": "markdown",
      "source": [
        "# UTILS FOR CLUSTERING"
      ],
      "metadata": {
        "id": "URIWoUpSfBLC"
      }
    },
    {
      "cell_type": "code",
      "source": [
        "#get cluster with max error difference\n",
        "def get_max_bias_cluster(data, cluster_col= 'clusters', bias_type = 'negative', baseline = 'all', function = get_error_diff):\n",
        "  max_bias = 0 #min possible bias\n",
        "  max_bias_cluster = -2\n",
        "\n",
        "  for cluster_id in data[cluster_col].unique():\n",
        "    if cluster_id == -1: #outliers in dbscan\n",
        "      continue\n",
        "\n",
        "    current_bias = function(data, cluster_id, cluster_col, bias_type, baseline) #pos function to find highest bias\n",
        "\n",
        "    if current_bias > max_bias:\n",
        "      max_bias = current_bias\n",
        "      max_bias_cluster = cluster_id\n",
        "\n",
        "    return(max_bias_cluster, max_bias)\n",
        "\n",
        "#get cluster with min error difference\n",
        "def get_min_bias_cluster(data, cluster_col= 'clusters', bias_type = 'negative', baseline = 'all', function = get_error_diff):\n",
        "  min_bias = 1 #max possible bias and look for smt smaller\n",
        "  min_bias_cluster = -2\n",
        "\n",
        "  for cluster_id in data[cluster_col].unique():\n",
        "    if cluster_id == -1: #outliers in dbscan\n",
        "      continue\n",
        "    current_bias = function(data, cluster_id, cluster_col, bias_type, baseline)\n",
        "    if current_bias < min_bias:\n",
        "      min_bias = current_bias\n",
        "      min_bias_cluster = cluster_id\n",
        "  return(min_bias_cluster, min_bias)\n",
        "\n",
        "#get size of the smallest cluster\n",
        "def get_min_cluster_size(data, cluster_col = 'new_clusters'):\n",
        "  min_cluster_size = len(data)\n",
        "  for i in data['new_clusters'].unique():\n",
        "    if i == -1: #exclude the -1 clusters as they may present outliers (in dbscan?)\n",
        "      continue\n",
        "      size = len(data.loc[data['new_clusters'] == i])\n",
        "      if size < min_cluster_size: #update if new cluster size is smaller\n",
        "        min_cluster_size = size\n",
        "  return(min_cluster_size)\n",
        "\n",
        "def get_random_cluster(data, cluster_col, min_splittable_cluster_size, previous_cluster, all_cluster_ids):\n",
        "  for candidate_cluster_id in all_cluster_ids:\n",
        "    if candidate_cluster_id == -1 or candidate_cluster_id == previous_cluster:\n",
        "      continue\n",
        "      print ('This is the random cluster we picked:', candidate_cluster_id)\n",
        "\n",
        "      candidate_cluster = data.loc[data[cluster_col] == candidate_cluster_id]\n",
        "      if len(candidate_cluster) >= min_splittable_cluster_size:\n",
        "        print('it is too small:', len(candidate_cluster))\n",
        "        continue\n",
        "      else:\n",
        "        return candidate_cluster_id\n",
        "\n",
        "def select_new_cluster(data, cluster_col='clusters', error_column='errors', overall_error_rate=0.5, bias_type='negative', baseline='all'):\n",
        "    smallest_diff = float('inf')\n",
        "    selected_cluster = None\n",
        "\n",
        "    for cluster_id in data[cluster_col].unique():\n",
        "        if cluster_id == -1: #skip outlier\n",
        "            continue\n",
        "\n",
        "        error_diff = get_error_diff(data, cluster_id, cluster_col, bias_type, baseline) #calculate the error_diff for each cluster\n",
        "\n",
        "        if error_diff is None:\n",
        "            continue\n",
        "\n",
        "        abs_diff = abs(overall_error_rate - (get_error_rate(data[data[cluster_col] == cluster_id]))) #get cluster with the smallest absolute difference with the overall error rate (0.5)\n",
        "\n",
        "        if abs_diff < smallest_diff:\n",
        "            smallest_diff = abs_diff\n",
        "            selected_cluster = cluster_id\n",
        "    return selected_cluster\n",
        "\n",
        "def exit_clustering(data, msg='', bias_type='', iter=''):\n",
        "  print('Iteration ', iter, ': ', msg)\n",
        "  print('Overall error rate: ', get_error_rate(data))\n",
        "  for c in np.sort(data['clusters'].unique()):\n",
        "    print('Cluster: ', c, '\\tSize: ', len(data.loc[data['clusters'] == c]), '\\tError rate: ', get_error_rate(data.loc[data['clusters'] == c]))\n",
        "  pca_plot(data,'HBAC-DBSCAN on COMPAS - ' + bias_type + ' bias', hue='clusters', s=15, alpha=0.8)\n",
        "  return data\n"
      ],
      "metadata": {
        "id": "zApFFYGVfERC"
      },
      "execution_count": 95,
      "outputs": []
    },
    {
      "cell_type": "markdown",
      "source": [
        "# K-MEANS CLUSTERING"
      ],
      "metadata": {
        "id": "NAD_kfGCfFN5"
      }
    },
    {
      "cell_type": "code",
      "source": [
        "''''\n",
        "def hbac_kmeans(data, columns_to_use=[], error='errors', max_iter=300, show_plot=True):\n",
        "    clus_model_kwargs = {\n",
        "        \"n_clusters\": 2,  # Number of clusters to form\n",
        "        \"init\": \"k-means++\",  # Centroids initialization method\n",
        "        \"n_init\": 10,  # Number of initializations\n",
        "        \"max_iter\": max_iter,  # Maximum iterations for a single run\n",
        "    }\n",
        "\n",
        "    if not isinstance(data, pd.DataFrame):\n",
        "        raise TypeError(f\"Expected data to be a DataFrame, but got {type(data)} instead.\")\n",
        "\n",
        "    error_list = []\n",
        "    initial_bias = 0\n",
        "    x = 0  # Initialize cluster index\n",
        "\n",
        "    # Check for error column\n",
        "    if error in data.columns:\n",
        "        error_rate = get_error_rate(data, column=error)\n",
        "        print(\"Error rate:\", error_rate)\n",
        "    else:\n",
        "        print(f\"Error column '{error}' not found in the dataset. Skipping error-based calculations.\")\n",
        "        error_rate = None\n",
        "\n",
        "    # Set columns_to_use to all columns if not provided, excluding Error_Type\n",
        "    if columns_to_use is None:\n",
        "        columns_to_use = [col for col in data.columns if col != error and col != 'Error_Type']  # All columns except error and Error_Type\n",
        "    else:\n",
        "        columns_to_use = [col for col in columns_to_use if col in data.columns]\n",
        "\n",
        "    # Ensure columns_to_use contains only numeric columns - CHECK if TP is in the data -\n",
        "    numeric_columns = data[columns_to_use].select_dtypes(include=[np.number]).columns.tolist()\n",
        "    columns_to_use = numeric_columns  # Update to use only numeric columns\n",
        "\n",
        "    # Exclude META_COL_VIZ from clustering\n",
        "    other_columns = [col for col in data.columns if col not in columns_to_use + META_COL_VIZ]\n",
        "\n",
        "    min_splittable_cluster_size = round(0.05 * len(data))  # Minimum size of cluster to be split\n",
        "    min_acceptable_cluster_size = round(0.03 * len(data))  # Minimum acceptable size of cluster after split\n",
        "\n",
        "    # Iterative clustering loop\n",
        "    for i in range(1, max_iter):\n",
        "        if len(data['clusters'].unique()) != 1:  # Check for multiple clusters\n",
        "            error_list.append(get_error_rate(data, column=error))  # Calculate and store error rate\n",
        "            data['new_clusters'] = -1  # Reset new clusters\n",
        "\n",
        "        candidate_cluster = data.loc[data['clusters'] == x]  # Select subset data for the current cluster\n",
        "\n",
        "        if len(candidate_cluster) < min_splittable_cluster_size:  # Check for size\n",
        "            x = get_random_cluster(data, 'clusters', min_splittable_cluster_size, x, data['clusters'].unique())\n",
        "            continue\n",
        "\n",
        "        # Select only numeric columns for K-means\n",
        "        columns_to_drop_valid = [col for col in columns_to_use if col in candidate_cluster.columns]\n",
        "\n",
        "        kmeans = KMeans(**clus_model_kwargs).fit(candidate_cluster[columns_to_drop_valid])\n",
        "\n",
        "        candidate_cluster['new_clusters'] = kmeans.predict(candidate_cluster[columns_to_drop_valid])\n",
        "\n",
        "        data['new_clusters'] = candidate_cluster['new_clusters'].combine_first(data['new_clusters'])  # Combine new clusters with existing ones\n",
        "\n",
        "        discr_bias = get_error_diff(data, x, 'clusters', bias_type='negative', baseline='all')  # Determine discriminative bias\n",
        "        print('Discriminative bias:', discr_bias)\n",
        "\n",
        "        min_cluster_size = get_min_cluster_size(data)\n",
        "        print('Smallest cluster size:', min_cluster_size)\n",
        "\n",
        "        if (discr_bias >= initial_bias) & (min_cluster_size > min_acceptable_cluster_size):\n",
        "            print(\"Adding a new cluster\")\n",
        "\n",
        "            n_cluster = max(data['clusters'])\n",
        "            data.loc[data['new_clusters'] == 1, 'clusters'] = n_cluster + 1\n",
        "\n",
        "            if show_plot:\n",
        "              tsne_plot_new(data, title=None, error=error, perplexity=30, learning_rate=200, n_iter=1000, alpha=0.5)\n",
        "                #tsne_plot(data, title=None, perplexity=30, learning_rate=200, n_iter=1000, alpha=0.5,\n",
        "                          #tsne_columns=columns_to_use, other_columns=other_columns, error=error)\n",
        "              plt.show()\n",
        "\n",
        "            x = select_new_cluster(data, error_column=error)\n",
        "            initial_bias = discr_bias\n",
        "        else:\n",
        "            x = get_random_cluster(data, 'clusters', min_splittable_cluster_size, x, data['clusters'].unique())\n",
        "\n",
        "    print('Max iterations reached')\n",
        "    print(error_list)\n",
        "    return data\n",
        "'''"
      ],
      "metadata": {
        "id": "XPQBu9tAe3EX"
      },
      "execution_count": 87,
      "outputs": []
    },
    {
      "cell_type": "markdown",
      "source": [],
      "metadata": {
        "id": "Bc6i_ysD2mgH"
      }
    },
    {
      "cell_type": "code",
      "source": [
        "def hbac_kmeans(data, columns_to_use=[], error='errors', max_iter=300, show_plot=True):\n",
        "    clus_model_kwargs = {\n",
        "        \"n_clusters\": 2,  # Number of clusters to form\n",
        "        \"init\": \"k-means++\",  # Centroids initialization method\n",
        "        \"n_init\": 10,  # Number of initializations\n",
        "        \"max_iter\": max_iter,  # Maximum iterations for a single run\n",
        "    }\n",
        "\n",
        "    initial_bias = 0\n",
        "    x = 0\n",
        "    error_list = []\n",
        "\n",
        "    if error in data.columns:\n",
        "        error_rate = get_error_rate(data, column=error)\n",
        "        print(\"Error rate:\", error_rate)\n",
        "\n",
        "    data_to_cluster = data[columns_to_use]\n",
        "\n",
        "    min_splittable_cluster_size = round(0.05 * len(data))  # Minimum size of cluster to be split\n",
        "    min_acceptable_cluster_size = round(0.03 * len(data))  # Minimum acceptable size of cluster after split\n",
        "\n",
        "    # Iterative clustering loop\n",
        "    for i in range(1, max_iter):\n",
        "        if len(data['clusters'].unique()) != 1:  # Check for multiple clusters\n",
        "            error_list.append(get_error_rate(data, column=error))  # Calculate and store error rate\n",
        "            data['new_clusters'] = -1  # Reset new clusters\n",
        "\n",
        "        candidate_cluster = data.loc[data['clusters'] == x]  # Select subset data for the current cluster\n",
        "\n",
        "        if len(candidate_cluster) < min_splittable_cluster_size:  # Check for size\n",
        "            x = get_random_cluster(data, 'clusters', min_splittable_cluster_size, x, data['clusters'].unique())\n",
        "            continue\n",
        "\n",
        "    kmeans = KMeans(**clus_model_kwargs).fit(candidate_cluster[columns_to_use])\n",
        "    candidate_cluster['new_clusters'] = kmeans.predict(candidate_cluster[columns_to_use])\n",
        "\n",
        "    data['new_clusters'] = candidate_cluster['new_clusters'].combine_first(data['new_clusters'])  # Combine new clusters with existing ones\n",
        "\n",
        "    discr_bias = get_error_diff(data, x, 'clusters', bias_type='negative', baseline='all')  # Determine discriminative bias\n",
        "    print('Discriminative bias:', discr_bias)\n",
        "\n",
        "    min_cluster_size = get_min_cluster_size(data)\n",
        "    print('Smallest cluster size:', min_cluster_size)\n",
        "\n",
        "    if (discr_bias >= initial_bias) & (min_cluster_size > min_acceptable_cluster_size):\n",
        "      print(\"Adding a new cluster\")\n",
        "\n",
        "      n_cluster = max(data['clusters'])\n",
        "      data.loc[data['new_clusters'] == 1, 'clusters'] = n_cluster + 1\n",
        "\n",
        "      if show_plot:\n",
        "        tsne_plot(data, title=None, error='error', tsne_columns=columns_to_use,\n",
        "                  other_columns=None, perplexity=30, learning_rate=200, n_iter=1000, alpha=0.5)\n",
        "        plt.show()\n",
        "\n",
        "        x = select_new_cluster(data, error_column=error)\n",
        "        initial_bias = discr_bias\n",
        "    else:\n",
        "        x = get_random_cluster(data, 'clusters', min_splittable_cluster_size, x, data['clusters'].unique())\n",
        "\n",
        "    print('Max iterations reached')\n",
        "    print(error_list)\n",
        "    return data"
      ],
      "metadata": {
        "id": "PYw4Qp099EF5"
      },
      "execution_count": 105,
      "outputs": []
    },
    {
      "cell_type": "code",
      "source": [
        "'''\n",
        "# OLD VERSION\n",
        "def hbac_kmeans(data, columns_to_drop = [], error='FN', max_iter=300, show_plot=True):\n",
        "    clus_model_kwargs = {\n",
        "        \"n_clusters\": 2,  # Nr of clusters to form\n",
        "        \"init\": \"k-means++\",  # Centroids initialization method\n",
        "        \"n_init\": 10,  # Nr of times k-means is run with different centroid seeds\n",
        "        \"max_iter\": max_iter,  # Maximum iterations for a single run\n",
        "    }\n",
        "\n",
        "    x = 0  # Initial cluster number\n",
        "    initial_bias = 0  # Initial bias value\n",
        "\n",
        "    error_list = []\n",
        "\n",
        "    if error in data.columns:\n",
        "        error_rate = get_error_rate(data, column=error)  # Calculating mean error rate on the specified error column\n",
        "        print(\"error rate:\", error_rate)\n",
        "    else:\n",
        "        print(f\"Error column '{error}' not found in the dataset. Skipping error-based calculations.\")\n",
        "        error_rate = None\n",
        "\n",
        "    min_splittable_cluster_size = round(0.05 * len(data))  # Min size of cluster to be split\n",
        "    min_acceptable_cluster_size = round(0.03 * len(data))  # Min acceptable size of cluster after split\n",
        "\n",
        "    # Iterative clustering loop\n",
        "    for i in range(1, max_iter):\n",
        "        if len(data['clusters'].unique()) != 1:  # Check if there are multiple clusters\n",
        "            if error_rate is not None: #check if there is an error column\n",
        "                error_list.append(get_error_rate(data, column=error))  # Calculate and store error rate in error_list\n",
        "            data['new_clusters'] = -1  # update or resets a new column in new clusters with -1\n",
        "\n",
        "        candidate_cluster = data.loc[data['clusters'] == x]  # Select subset data for the current cluster\n",
        "\n",
        "        if len(candidate_cluster) < min_splittable_cluster_size:  # Check for size\n",
        "            x = get_random_cluster(data, 'clusters', min_splittable_cluster_size, x, data['clusters'].unique())\n",
        "            continue\n",
        "\n",
        "        # Select only numeric columns for K-means\n",
        "        numeric_columns = candidate_cluster.select_dtypes(include=[np.number]).columns\n",
        "\n",
        "        # Drop META_COL and optionally ERROR_COL based on the provided dataset\n",
        "        columns_to_drop = META_COL\n",
        "        if any(col in data.columns for col in ERROR_COL):  # Check if any of the ERROR_COL are present in the dataset\n",
        "            columns_to_drop += ERROR_COL\n",
        "\n",
        "        # Ensure that only existing columns are being dropped\n",
        "        columns_to_drop = [col for col in columns_to_drop if col in numeric_columns]\n",
        "\n",
        "        kmeans = KMeans(**clus_model_kwargs).fit(candidate_cluster[numeric_columns].drop(columns=columns_to_drop, errors='ignore'))\n",
        "\n",
        "        candidate_cluster['new_clusters'] = pd.DataFrame(\n",
        "            kmeans.predict(candidate_cluster[numeric_columns].drop(columns=columns_to_drop, errors='ignore')),\n",
        "            index=candidate_cluster.index)\n",
        "        data['new_clusters'] = candidate_cluster['new_clusters'].combine_first(data['new_clusters'])  # Combine new clusters with existing ones\n",
        "\n",
        "        if error_rate is not None:\n",
        "            discr_bias = get_error_diff(data, x, 'clusters', bias_type='negative', baseline='all')  # Determine discriminative bias\n",
        "            print('discriminative bias:', discr_bias)\n",
        "        else:\n",
        "            discr_bias = 0\n",
        "\n",
        "        min_cluster_size = get_min_cluster_size(data)\n",
        "        print('Smallest cluster size:', min_cluster_size)\n",
        "\n",
        "        if (discr_bias >= initial_bias) & (min_cluster_size > min_acceptable_cluster_size):\n",
        "            print(\"adding a new cluster\")\n",
        "            n_cluster = max(data['clusters'])\n",
        "            data['clusters'][data['new_clusters'] == 1] = n_cluster + 1\n",
        "\n",
        "            if show_plot:\n",
        "                plot_title = f'K-means for {error} Errors' if error_rate is not None else 'K-means Clustering'\n",
        "                tsne_plot(data, plot_title, perplexity=30, learning_rate=200, n_iter=1000, alpha=0.5)\n",
        "                plt.show()\n",
        "\n",
        "            x = select_new_cluster(data, error_column=error if error_rate is not None else None)\n",
        "            initial_bias = discr_bias\n",
        "\n",
        "        else:\n",
        "            x = get_random_cluster(data, 'clusters', min_splittable_cluster_size, x, data['clusters'].unique())\n",
        "\n",
        "    print('MAX_ITER')\n",
        "    if error_rate is not None:\n",
        "        print(error_list)\n",
        "    return data\n",
        "'''"
      ],
      "metadata": {
        "id": "uZpJmkcq1u2f",
        "colab": {
          "base_uri": "https://localhost:8080/",
          "height": 128
        },
        "outputId": "b750d85c-c814-4491-89e2-8e0be76584c0"
      },
      "execution_count": 51,
      "outputs": [
        {
          "output_type": "execute_result",
          "data": {
            "text/plain": [
              "'\\n\\n# OLD VERSION\\ndef hbac_kmeans(data, columns_to_drop = [], error=\\'FN\\', max_iter=300, show_plot=True):\\n    clus_model_kwargs = {\\n        \"n_clusters\": 2,  # Nr of clusters to form\\n        \"init\": \"k-means++\",  # Centroids initialization method\\n        \"n_init\": 10,  # Nr of times k-means is run with different centroid seeds\\n        \"max_iter\": max_iter,  # Maximum iterations for a single run\\n    }\\n\\n    x = 0  # Initial cluster number\\n    initial_bias = 0  # Initial bias value\\n\\n    error_list = []\\n\\n    if error in data.columns:\\n        error_rate = get_error_rate(data, column=error)  # Calculating mean error rate on the specified error column\\n        print(\"error rate:\", error_rate)\\n    else:\\n        print(f\"Error column \\'{error}\\' not found in the dataset. Skipping error-based calculations.\")\\n        error_rate = None\\n\\n    min_splittable_cluster_size = round(0.05 * len(data))  # Min size of cluster to be split\\n    min_acceptable_cluster_size = round(0.03 * len(data))  # Min acceptable size of cluster after split\\n\\n    # Iterative clustering loop\\n    for i in range(1, max_iter):\\n        if len(data[\\'clusters\\'].unique()) != 1:  # Check if there are multiple clusters\\n            if error_rate is not None: #check if there is an error column\\n                error_list.append(get_error_rate(data, column=error))  # Calculate and store error rate in error_list\\n            data[\\'new_clusters\\'] = -1  # update or resets a new column in new clusters with -1\\n\\n        candidate_cluster = data.loc[data[\\'clusters\\'] == x]  # Select subset data for the current cluster\\n\\n        if len(candidate_cluster) < min_splittable_cluster_size:  # Check for size\\n            x = get_random_cluster(data, \\'clusters\\', min_splittable_cluster_size, x, data[\\'clusters\\'].unique())\\n            continue\\n\\n        # Select only numeric columns for K-means\\n        numeric_columns = candidate_cluster.select_dtypes(include=[np.number]).columns\\n\\n        # Drop META_COL and optionally ERROR_COL based on the provided dataset\\n        columns_to_drop = META_COL\\n        if any(col in data.columns for col in ERROR_COL):  # Check if any of the ERROR_COL are present in the dataset\\n            columns_to_drop += ERROR_COL\\n\\n        # Ensure that only existing columns are being dropped\\n        columns_to_drop = [col for col in columns_to_drop if col in numeric_columns]\\n\\n        kmeans = KMeans(**clus_model_kwargs).fit(candidate_cluster[numeric_columns].drop(columns=columns_to_drop, errors=\\'ignore\\'))\\n\\n        candidate_cluster[\\'new_clusters\\'] = pd.DataFrame(\\n            kmeans.predict(candidate_cluster[numeric_columns].drop(columns=columns_to_drop, errors=\\'ignore\\')),\\n            index=candidate_cluster.index)\\n        data[\\'new_clusters\\'] = candidate_cluster[\\'new_clusters\\'].combine_first(data[\\'new_clusters\\'])  # Combine new clusters with existing ones\\n\\n        if error_rate is not None:\\n            discr_bias = get_error_diff(data, x, \\'clusters\\', bias_type=\\'negative\\', baseline=\\'all\\')  # Determine discriminative bias\\n            print(\\'discriminative bias:\\', discr_bias)\\n        else:\\n            discr_bias = 0\\n\\n        min_cluster_size = get_min_cluster_size(data)\\n        print(\\'Smallest cluster size:\\', min_cluster_size)\\n\\n        if (discr_bias >= initial_bias) & (min_cluster_size > min_acceptable_cluster_size):\\n            print(\"adding a new cluster\")\\n            n_cluster = max(data[\\'clusters\\'])\\n            data[\\'clusters\\'][data[\\'new_clusters\\'] == 1] = n_cluster + 1\\n\\n            if show_plot:\\n                plot_title = f\\'K-means for {error} Errors\\' if error_rate is not None else \\'K-means Clustering\\'\\n                tsne_plot(data, plot_title, perplexity=30, learning_rate=200, n_iter=1000, alpha=0.5)\\n                plt.show()\\n\\n            x = select_new_cluster(data, error_column=error if error_rate is not None else None)\\n            initial_bias = discr_bias\\n\\n        else:\\n            x = get_random_cluster(data, \\'clusters\\', min_splittable_cluster_size, x, data[\\'clusters\\'].unique())\\n\\n    print(\\'MAX_ITER\\')\\n    if error_rate is not None:\\n        print(error_list)\\n    return data\\n'"
            ],
            "application/vnd.google.colaboratory.intrinsic+json": {
              "type": "string"
            }
          },
          "metadata": {},
          "execution_count": 51
        }
      ]
    },
    {
      "cell_type": "code",
      "source": [
        "#TPFN_init.info()"
      ],
      "metadata": {
        "id": "usJuL-dWgujn"
      },
      "execution_count": 97,
      "outputs": []
    },
    {
      "cell_type": "markdown",
      "source": [
        "# RQ'S"
      ],
      "metadata": {
        "id": "bfwAmks0cb0Z"
      }
    },
    {
      "cell_type": "markdown",
      "source": [
        "\n",
        "**RQ1: is there a relationshop between shap & risk of error?**\n",
        "\n",
        "TPFN_init & TNFP_init = *all columns*\n",
        "\n",
        "SE = shap and error columns\n",
        "\n",
        "FE = all columns except shap (selma)\n",
        "\n",
        "\n",
        "--------------------------------------------------\n",
        "**RQ2: does shap help in finding disc clusters?**\n",
        "\n",
        "FS = all columns except error\n",
        "\n",
        "S = only SHAP_COL\n",
        "\n",
        "F = only BASIC_COL\n"
      ],
      "metadata": {
        "id": "YxxgBsfJ69iT"
      }
    },
    {
      "cell_type": "markdown",
      "source": [
        "# SHAP & ERROR & BASIC COL"
      ],
      "metadata": {
        "id": "mh3mtFiXSQGE"
      }
    },
    {
      "cell_type": "code",
      "source": [
        "#TPFN_init.iloc[3]"
      ],
      "metadata": {
        "id": "MMw88nsRFM9v"
      },
      "execution_count": 126,
      "outputs": []
    },
    {
      "cell_type": "markdown",
      "source": [
        "***Clustering all columns TP FN DATA***"
      ],
      "metadata": {
        "id": "4bYXg1id6kTr"
      }
    },
    {
      "cell_type": "code",
      "source": [
        "hbac_kmeans(data=TPFN_init, columns_to_use=BASIC_COL_scaled + DUMMY_COL_scaled + ERROR_COL_scaled + SHAP_BASIC_scaled + SHAP_DUMMY_scaled, error='errors', max_iter=1000, show_plot=True)\n",
        "plt.show()"
      ],
      "metadata": {
        "id": "R4L496pDztCH",
        "colab": {
          "base_uri": "https://localhost:8080/"
        },
        "outputId": "bb7a4ec1-7ddf-4d52-9882-4d6686315de5"
      },
      "execution_count": 125,
      "outputs": [
        {
          "output_type": "stream",
          "name": "stdout",
          "text": [
            "Error rate: 0.4421148587055606\n",
            "Discriminative bias: -0.34596101255171446\n",
            "Smallest cluster size: 1097\n",
            "Max iterations reached\n",
            "[0.4421148587055606, 0.4421148587055606, 0.4421148587055606, 0.4421148587055606, 0.4421148587055606, 0.4421148587055606, 0.4421148587055606, 0.4421148587055606, 0.4421148587055606, 0.4421148587055606, 0.4421148587055606, 0.4421148587055606, 0.4421148587055606, 0.4421148587055606, 0.4421148587055606, 0.4421148587055606, 0.4421148587055606, 0.4421148587055606, 0.4421148587055606, 0.4421148587055606, 0.4421148587055606, 0.4421148587055606, 0.4421148587055606, 0.4421148587055606, 0.4421148587055606, 0.4421148587055606, 0.4421148587055606, 0.4421148587055606, 0.4421148587055606, 0.4421148587055606, 0.4421148587055606, 0.4421148587055606, 0.4421148587055606, 0.4421148587055606, 0.4421148587055606, 0.4421148587055606, 0.4421148587055606, 0.4421148587055606, 0.4421148587055606, 0.4421148587055606, 0.4421148587055606, 0.4421148587055606, 0.4421148587055606, 0.4421148587055606, 0.4421148587055606, 0.4421148587055606, 0.4421148587055606, 0.4421148587055606, 0.4421148587055606, 0.4421148587055606, 0.4421148587055606, 0.4421148587055606, 0.4421148587055606, 0.4421148587055606, 0.4421148587055606, 0.4421148587055606, 0.4421148587055606, 0.4421148587055606, 0.4421148587055606, 0.4421148587055606, 0.4421148587055606, 0.4421148587055606, 0.4421148587055606, 0.4421148587055606, 0.4421148587055606, 0.4421148587055606, 0.4421148587055606, 0.4421148587055606, 0.4421148587055606, 0.4421148587055606, 0.4421148587055606, 0.4421148587055606, 0.4421148587055606, 0.4421148587055606, 0.4421148587055606, 0.4421148587055606, 0.4421148587055606, 0.4421148587055606, 0.4421148587055606, 0.4421148587055606, 0.4421148587055606, 0.4421148587055606, 0.4421148587055606, 0.4421148587055606, 0.4421148587055606, 0.4421148587055606, 0.4421148587055606, 0.4421148587055606, 0.4421148587055606, 0.4421148587055606, 0.4421148587055606, 0.4421148587055606, 0.4421148587055606, 0.4421148587055606, 0.4421148587055606, 0.4421148587055606, 0.4421148587055606, 0.4421148587055606, 0.4421148587055606, 0.4421148587055606, 0.4421148587055606, 0.4421148587055606, 0.4421148587055606, 0.4421148587055606, 0.4421148587055606, 0.4421148587055606, 0.4421148587055606, 0.4421148587055606, 0.4421148587055606, 0.4421148587055606, 0.4421148587055606, 0.4421148587055606, 0.4421148587055606, 0.4421148587055606, 0.4421148587055606, 0.4421148587055606, 0.4421148587055606, 0.4421148587055606, 0.4421148587055606, 0.4421148587055606, 0.4421148587055606, 0.4421148587055606, 0.4421148587055606, 0.4421148587055606, 0.4421148587055606, 0.4421148587055606, 0.4421148587055606, 0.4421148587055606, 0.4421148587055606, 0.4421148587055606, 0.4421148587055606, 0.4421148587055606, 0.4421148587055606, 0.4421148587055606, 0.4421148587055606, 0.4421148587055606, 0.4421148587055606, 0.4421148587055606, 0.4421148587055606, 0.4421148587055606, 0.4421148587055606, 0.4421148587055606, 0.4421148587055606, 0.4421148587055606, 0.4421148587055606, 0.4421148587055606, 0.4421148587055606, 0.4421148587055606, 0.4421148587055606, 0.4421148587055606, 0.4421148587055606, 0.4421148587055606, 0.4421148587055606, 0.4421148587055606, 0.4421148587055606, 0.4421148587055606, 0.4421148587055606, 0.4421148587055606, 0.4421148587055606, 0.4421148587055606, 0.4421148587055606, 0.4421148587055606, 0.4421148587055606, 0.4421148587055606, 0.4421148587055606, 0.4421148587055606, 0.4421148587055606, 0.4421148587055606, 0.4421148587055606, 0.4421148587055606, 0.4421148587055606, 0.4421148587055606, 0.4421148587055606, 0.4421148587055606, 0.4421148587055606, 0.4421148587055606, 0.4421148587055606, 0.4421148587055606, 0.4421148587055606, 0.4421148587055606, 0.4421148587055606, 0.4421148587055606, 0.4421148587055606, 0.4421148587055606, 0.4421148587055606, 0.4421148587055606, 0.4421148587055606, 0.4421148587055606, 0.4421148587055606, 0.4421148587055606, 0.4421148587055606, 0.4421148587055606, 0.4421148587055606, 0.4421148587055606, 0.4421148587055606, 0.4421148587055606, 0.4421148587055606, 0.4421148587055606, 0.4421148587055606, 0.4421148587055606, 0.4421148587055606, 0.4421148587055606, 0.4421148587055606, 0.4421148587055606, 0.4421148587055606, 0.4421148587055606, 0.4421148587055606, 0.4421148587055606, 0.4421148587055606, 0.4421148587055606, 0.4421148587055606, 0.4421148587055606, 0.4421148587055606, 0.4421148587055606, 0.4421148587055606, 0.4421148587055606, 0.4421148587055606, 0.4421148587055606, 0.4421148587055606, 0.4421148587055606, 0.4421148587055606, 0.4421148587055606, 0.4421148587055606, 0.4421148587055606, 0.4421148587055606, 0.4421148587055606, 0.4421148587055606, 0.4421148587055606, 0.4421148587055606, 0.4421148587055606, 0.4421148587055606, 0.4421148587055606, 0.4421148587055606, 0.4421148587055606, 0.4421148587055606, 0.4421148587055606, 0.4421148587055606, 0.4421148587055606, 0.4421148587055606, 0.4421148587055606, 0.4421148587055606, 0.4421148587055606, 0.4421148587055606, 0.4421148587055606, 0.4421148587055606, 0.4421148587055606, 0.4421148587055606, 0.4421148587055606, 0.4421148587055606, 0.4421148587055606, 0.4421148587055606, 0.4421148587055606, 0.4421148587055606, 0.4421148587055606, 0.4421148587055606, 0.4421148587055606, 0.4421148587055606, 0.4421148587055606, 0.4421148587055606, 0.4421148587055606, 0.4421148587055606, 0.4421148587055606, 0.4421148587055606, 0.4421148587055606, 0.4421148587055606, 0.4421148587055606, 0.4421148587055606, 0.4421148587055606, 0.4421148587055606, 0.4421148587055606, 0.4421148587055606, 0.4421148587055606, 0.4421148587055606, 0.4421148587055606, 0.4421148587055606, 0.4421148587055606, 0.4421148587055606, 0.4421148587055606, 0.4421148587055606, 0.4421148587055606, 0.4421148587055606, 0.4421148587055606, 0.4421148587055606, 0.4421148587055606, 0.4421148587055606, 0.4421148587055606, 0.4421148587055606, 0.4421148587055606, 0.4421148587055606, 0.4421148587055606, 0.4421148587055606, 0.4421148587055606, 0.4421148587055606, 0.4421148587055606, 0.4421148587055606, 0.4421148587055606, 0.4421148587055606, 0.4421148587055606, 0.4421148587055606, 0.4421148587055606, 0.4421148587055606, 0.4421148587055606, 0.4421148587055606, 0.4421148587055606, 0.4421148587055606, 0.4421148587055606, 0.4421148587055606, 0.4421148587055606, 0.4421148587055606, 0.4421148587055606, 0.4421148587055606, 0.4421148587055606, 0.4421148587055606, 0.4421148587055606, 0.4421148587055606, 0.4421148587055606, 0.4421148587055606, 0.4421148587055606, 0.4421148587055606, 0.4421148587055606, 0.4421148587055606, 0.4421148587055606, 0.4421148587055606, 0.4421148587055606, 0.4421148587055606, 0.4421148587055606, 0.4421148587055606, 0.4421148587055606, 0.4421148587055606, 0.4421148587055606, 0.4421148587055606, 0.4421148587055606, 0.4421148587055606, 0.4421148587055606, 0.4421148587055606, 0.4421148587055606, 0.4421148587055606, 0.4421148587055606, 0.4421148587055606, 0.4421148587055606, 0.4421148587055606, 0.4421148587055606, 0.4421148587055606, 0.4421148587055606, 0.4421148587055606, 0.4421148587055606, 0.4421148587055606, 0.4421148587055606, 0.4421148587055606, 0.4421148587055606, 0.4421148587055606, 0.4421148587055606, 0.4421148587055606, 0.4421148587055606, 0.4421148587055606, 0.4421148587055606, 0.4421148587055606, 0.4421148587055606, 0.4421148587055606, 0.4421148587055606, 0.4421148587055606, 0.4421148587055606, 0.4421148587055606, 0.4421148587055606, 0.4421148587055606, 0.4421148587055606, 0.4421148587055606, 0.4421148587055606, 0.4421148587055606, 0.4421148587055606, 0.4421148587055606, 0.4421148587055606, 0.4421148587055606, 0.4421148587055606, 0.4421148587055606, 0.4421148587055606, 0.4421148587055606, 0.4421148587055606, 0.4421148587055606, 0.4421148587055606, 0.4421148587055606, 0.4421148587055606, 0.4421148587055606, 0.4421148587055606, 0.4421148587055606, 0.4421148587055606, 0.4421148587055606, 0.4421148587055606, 0.4421148587055606, 0.4421148587055606, 0.4421148587055606, 0.4421148587055606, 0.4421148587055606, 0.4421148587055606, 0.4421148587055606, 0.4421148587055606, 0.4421148587055606, 0.4421148587055606, 0.4421148587055606, 0.4421148587055606, 0.4421148587055606, 0.4421148587055606, 0.4421148587055606, 0.4421148587055606, 0.4421148587055606, 0.4421148587055606, 0.4421148587055606, 0.4421148587055606, 0.4421148587055606, 0.4421148587055606, 0.4421148587055606, 0.4421148587055606, 0.4421148587055606, 0.4421148587055606, 0.4421148587055606, 0.4421148587055606, 0.4421148587055606, 0.4421148587055606, 0.4421148587055606, 0.4421148587055606, 0.4421148587055606, 0.4421148587055606, 0.4421148587055606, 0.4421148587055606, 0.4421148587055606, 0.4421148587055606, 0.4421148587055606, 0.4421148587055606, 0.4421148587055606, 0.4421148587055606, 0.4421148587055606, 0.4421148587055606, 0.4421148587055606, 0.4421148587055606, 0.4421148587055606, 0.4421148587055606, 0.4421148587055606, 0.4421148587055606, 0.4421148587055606, 0.4421148587055606, 0.4421148587055606, 0.4421148587055606, 0.4421148587055606, 0.4421148587055606, 0.4421148587055606, 0.4421148587055606, 0.4421148587055606, 0.4421148587055606, 0.4421148587055606, 0.4421148587055606, 0.4421148587055606, 0.4421148587055606, 0.4421148587055606, 0.4421148587055606, 0.4421148587055606, 0.4421148587055606, 0.4421148587055606, 0.4421148587055606, 0.4421148587055606, 0.4421148587055606, 0.4421148587055606, 0.4421148587055606, 0.4421148587055606, 0.4421148587055606, 0.4421148587055606, 0.4421148587055606, 0.4421148587055606, 0.4421148587055606, 0.4421148587055606, 0.4421148587055606, 0.4421148587055606, 0.4421148587055606, 0.4421148587055606, 0.4421148587055606, 0.4421148587055606, 0.4421148587055606, 0.4421148587055606, 0.4421148587055606, 0.4421148587055606, 0.4421148587055606, 0.4421148587055606, 0.4421148587055606, 0.4421148587055606, 0.4421148587055606, 0.4421148587055606, 0.4421148587055606, 0.4421148587055606, 0.4421148587055606, 0.4421148587055606, 0.4421148587055606, 0.4421148587055606, 0.4421148587055606, 0.4421148587055606, 0.4421148587055606, 0.4421148587055606, 0.4421148587055606, 0.4421148587055606, 0.4421148587055606, 0.4421148587055606, 0.4421148587055606, 0.4421148587055606, 0.4421148587055606, 0.4421148587055606, 0.4421148587055606, 0.4421148587055606, 0.4421148587055606, 0.4421148587055606, 0.4421148587055606, 0.4421148587055606, 0.4421148587055606, 0.4421148587055606, 0.4421148587055606, 0.4421148587055606, 0.4421148587055606, 0.4421148587055606, 0.4421148587055606, 0.4421148587055606, 0.4421148587055606, 0.4421148587055606, 0.4421148587055606, 0.4421148587055606, 0.4421148587055606, 0.4421148587055606, 0.4421148587055606, 0.4421148587055606, 0.4421148587055606, 0.4421148587055606, 0.4421148587055606, 0.4421148587055606, 0.4421148587055606, 0.4421148587055606, 0.4421148587055606, 0.4421148587055606, 0.4421148587055606, 0.4421148587055606, 0.4421148587055606, 0.4421148587055606, 0.4421148587055606, 0.4421148587055606, 0.4421148587055606, 0.4421148587055606, 0.4421148587055606, 0.4421148587055606, 0.4421148587055606, 0.4421148587055606, 0.4421148587055606, 0.4421148587055606, 0.4421148587055606, 0.4421148587055606, 0.4421148587055606, 0.4421148587055606, 0.4421148587055606, 0.4421148587055606, 0.4421148587055606, 0.4421148587055606, 0.4421148587055606, 0.4421148587055606, 0.4421148587055606, 0.4421148587055606, 0.4421148587055606, 0.4421148587055606, 0.4421148587055606, 0.4421148587055606, 0.4421148587055606, 0.4421148587055606, 0.4421148587055606, 0.4421148587055606, 0.4421148587055606, 0.4421148587055606, 0.4421148587055606, 0.4421148587055606, 0.4421148587055606, 0.4421148587055606, 0.4421148587055606, 0.4421148587055606, 0.4421148587055606, 0.4421148587055606, 0.4421148587055606, 0.4421148587055606, 0.4421148587055606, 0.4421148587055606, 0.4421148587055606, 0.4421148587055606, 0.4421148587055606, 0.4421148587055606, 0.4421148587055606, 0.4421148587055606, 0.4421148587055606, 0.4421148587055606, 0.4421148587055606, 0.4421148587055606, 0.4421148587055606, 0.4421148587055606, 0.4421148587055606, 0.4421148587055606, 0.4421148587055606, 0.4421148587055606, 0.4421148587055606, 0.4421148587055606, 0.4421148587055606, 0.4421148587055606, 0.4421148587055606, 0.4421148587055606, 0.4421148587055606, 0.4421148587055606, 0.4421148587055606, 0.4421148587055606, 0.4421148587055606, 0.4421148587055606, 0.4421148587055606, 0.4421148587055606, 0.4421148587055606, 0.4421148587055606, 0.4421148587055606, 0.4421148587055606, 0.4421148587055606, 0.4421148587055606, 0.4421148587055606, 0.4421148587055606, 0.4421148587055606, 0.4421148587055606, 0.4421148587055606, 0.4421148587055606, 0.4421148587055606, 0.4421148587055606, 0.4421148587055606, 0.4421148587055606, 0.4421148587055606, 0.4421148587055606, 0.4421148587055606, 0.4421148587055606, 0.4421148587055606, 0.4421148587055606, 0.4421148587055606, 0.4421148587055606, 0.4421148587055606, 0.4421148587055606, 0.4421148587055606, 0.4421148587055606, 0.4421148587055606, 0.4421148587055606, 0.4421148587055606, 0.4421148587055606, 0.4421148587055606, 0.4421148587055606, 0.4421148587055606, 0.4421148587055606, 0.4421148587055606, 0.4421148587055606, 0.4421148587055606, 0.4421148587055606, 0.4421148587055606, 0.4421148587055606, 0.4421148587055606, 0.4421148587055606, 0.4421148587055606, 0.4421148587055606, 0.4421148587055606, 0.4421148587055606, 0.4421148587055606, 0.4421148587055606, 0.4421148587055606, 0.4421148587055606, 0.4421148587055606, 0.4421148587055606, 0.4421148587055606, 0.4421148587055606, 0.4421148587055606, 0.4421148587055606, 0.4421148587055606, 0.4421148587055606, 0.4421148587055606, 0.4421148587055606, 0.4421148587055606, 0.4421148587055606, 0.4421148587055606, 0.4421148587055606, 0.4421148587055606, 0.4421148587055606, 0.4421148587055606, 0.4421148587055606, 0.4421148587055606, 0.4421148587055606, 0.4421148587055606, 0.4421148587055606, 0.4421148587055606, 0.4421148587055606, 0.4421148587055606, 0.4421148587055606, 0.4421148587055606, 0.4421148587055606, 0.4421148587055606, 0.4421148587055606, 0.4421148587055606, 0.4421148587055606, 0.4421148587055606, 0.4421148587055606, 0.4421148587055606, 0.4421148587055606, 0.4421148587055606, 0.4421148587055606, 0.4421148587055606, 0.4421148587055606, 0.4421148587055606, 0.4421148587055606, 0.4421148587055606, 0.4421148587055606, 0.4421148587055606, 0.4421148587055606, 0.4421148587055606, 0.4421148587055606, 0.4421148587055606, 0.4421148587055606, 0.4421148587055606, 0.4421148587055606, 0.4421148587055606, 0.4421148587055606, 0.4421148587055606, 0.4421148587055606, 0.4421148587055606, 0.4421148587055606, 0.4421148587055606, 0.4421148587055606, 0.4421148587055606, 0.4421148587055606, 0.4421148587055606, 0.4421148587055606, 0.4421148587055606, 0.4421148587055606, 0.4421148587055606, 0.4421148587055606, 0.4421148587055606, 0.4421148587055606, 0.4421148587055606, 0.4421148587055606, 0.4421148587055606, 0.4421148587055606, 0.4421148587055606, 0.4421148587055606, 0.4421148587055606, 0.4421148587055606, 0.4421148587055606, 0.4421148587055606, 0.4421148587055606, 0.4421148587055606, 0.4421148587055606, 0.4421148587055606, 0.4421148587055606, 0.4421148587055606, 0.4421148587055606, 0.4421148587055606, 0.4421148587055606, 0.4421148587055606, 0.4421148587055606, 0.4421148587055606, 0.4421148587055606, 0.4421148587055606, 0.4421148587055606, 0.4421148587055606, 0.4421148587055606, 0.4421148587055606, 0.4421148587055606, 0.4421148587055606, 0.4421148587055606, 0.4421148587055606, 0.4421148587055606, 0.4421148587055606, 0.4421148587055606, 0.4421148587055606, 0.4421148587055606, 0.4421148587055606, 0.4421148587055606, 0.4421148587055606, 0.4421148587055606, 0.4421148587055606, 0.4421148587055606, 0.4421148587055606, 0.4421148587055606, 0.4421148587055606, 0.4421148587055606, 0.4421148587055606, 0.4421148587055606, 0.4421148587055606, 0.4421148587055606, 0.4421148587055606, 0.4421148587055606, 0.4421148587055606, 0.4421148587055606, 0.4421148587055606, 0.4421148587055606, 0.4421148587055606, 0.4421148587055606, 0.4421148587055606, 0.4421148587055606, 0.4421148587055606, 0.4421148587055606, 0.4421148587055606, 0.4421148587055606, 0.4421148587055606, 0.4421148587055606, 0.4421148587055606, 0.4421148587055606, 0.4421148587055606, 0.4421148587055606, 0.4421148587055606, 0.4421148587055606, 0.4421148587055606, 0.4421148587055606, 0.4421148587055606, 0.4421148587055606, 0.4421148587055606, 0.4421148587055606, 0.4421148587055606, 0.4421148587055606, 0.4421148587055606, 0.4421148587055606, 0.4421148587055606, 0.4421148587055606, 0.4421148587055606, 0.4421148587055606, 0.4421148587055606, 0.4421148587055606, 0.4421148587055606, 0.4421148587055606, 0.4421148587055606, 0.4421148587055606, 0.4421148587055606, 0.4421148587055606, 0.4421148587055606, 0.4421148587055606, 0.4421148587055606, 0.4421148587055606, 0.4421148587055606, 0.4421148587055606, 0.4421148587055606, 0.4421148587055606, 0.4421148587055606, 0.4421148587055606, 0.4421148587055606, 0.4421148587055606, 0.4421148587055606, 0.4421148587055606, 0.4421148587055606, 0.4421148587055606, 0.4421148587055606, 0.4421148587055606, 0.4421148587055606, 0.4421148587055606, 0.4421148587055606, 0.4421148587055606, 0.4421148587055606, 0.4421148587055606, 0.4421148587055606, 0.4421148587055606, 0.4421148587055606, 0.4421148587055606, 0.4421148587055606, 0.4421148587055606, 0.4421148587055606, 0.4421148587055606, 0.4421148587055606, 0.4421148587055606, 0.4421148587055606, 0.4421148587055606, 0.4421148587055606, 0.4421148587055606, 0.4421148587055606, 0.4421148587055606, 0.4421148587055606, 0.4421148587055606, 0.4421148587055606, 0.4421148587055606, 0.4421148587055606, 0.4421148587055606, 0.4421148587055606, 0.4421148587055606, 0.4421148587055606, 0.4421148587055606, 0.4421148587055606, 0.4421148587055606, 0.4421148587055606, 0.4421148587055606, 0.4421148587055606, 0.4421148587055606, 0.4421148587055606, 0.4421148587055606, 0.4421148587055606, 0.4421148587055606, 0.4421148587055606, 0.4421148587055606, 0.4421148587055606, 0.4421148587055606, 0.4421148587055606, 0.4421148587055606, 0.4421148587055606, 0.4421148587055606, 0.4421148587055606, 0.4421148587055606, 0.4421148587055606, 0.4421148587055606, 0.4421148587055606, 0.4421148587055606, 0.4421148587055606, 0.4421148587055606, 0.4421148587055606, 0.4421148587055606, 0.4421148587055606, 0.4421148587055606, 0.4421148587055606, 0.4421148587055606, 0.4421148587055606, 0.4421148587055606, 0.4421148587055606, 0.4421148587055606, 0.4421148587055606, 0.4421148587055606, 0.4421148587055606, 0.4421148587055606, 0.4421148587055606, 0.4421148587055606, 0.4421148587055606, 0.4421148587055606, 0.4421148587055606, 0.4421148587055606, 0.4421148587055606, 0.4421148587055606, 0.4421148587055606, 0.4421148587055606, 0.4421148587055606, 0.4421148587055606, 0.4421148587055606, 0.4421148587055606, 0.4421148587055606, 0.4421148587055606, 0.4421148587055606, 0.4421148587055606, 0.4421148587055606, 0.4421148587055606, 0.4421148587055606, 0.4421148587055606, 0.4421148587055606, 0.4421148587055606, 0.4421148587055606, 0.4421148587055606, 0.4421148587055606, 0.4421148587055606, 0.4421148587055606, 0.4421148587055606, 0.4421148587055606, 0.4421148587055606, 0.4421148587055606, 0.4421148587055606, 0.4421148587055606, 0.4421148587055606, 0.4421148587055606, 0.4421148587055606, 0.4421148587055606, 0.4421148587055606, 0.4421148587055606, 0.4421148587055606, 0.4421148587055606, 0.4421148587055606, 0.4421148587055606, 0.4421148587055606, 0.4421148587055606, 0.4421148587055606, 0.4421148587055606, 0.4421148587055606, 0.4421148587055606, 0.4421148587055606, 0.4421148587055606, 0.4421148587055606, 0.4421148587055606, 0.4421148587055606, 0.4421148587055606, 0.4421148587055606, 0.4421148587055606, 0.4421148587055606, 0.4421148587055606, 0.4421148587055606, 0.4421148587055606, 0.4421148587055606, 0.4421148587055606, 0.4421148587055606, 0.4421148587055606, 0.4421148587055606, 0.4421148587055606, 0.4421148587055606, 0.4421148587055606, 0.4421148587055606, 0.4421148587055606, 0.4421148587055606, 0.4421148587055606, 0.4421148587055606, 0.4421148587055606, 0.4421148587055606, 0.4421148587055606, 0.4421148587055606, 0.4421148587055606]\n"
          ]
        }
      ]
    },
    {
      "cell_type": "code",
      "source": [
        "c= get_max_bias_cluster(TPFN_init)\n",
        "\n",
        "Mean_error_rate_TPFN = get_error_rate(TPFN_init)\n",
        "\n",
        "print ('Mean error rate of full TPFN data set:', Mean_error_rate_TPFN)\n",
        "\n",
        "print (f\" cluster {c} has the highest discrimination bias for TPFN data\")\n"
      ],
      "metadata": {
        "id": "WyZlLl7Ku6iW",
        "colab": {
          "base_uri": "https://localhost:8080/"
        },
        "outputId": "6604c490-dbbd-4c35-a8d6-34885e1383fa"
      },
      "execution_count": 111,
      "outputs": [
        {
          "output_type": "stream",
          "name": "stdout",
          "text": [
            "Mean error rate of full TPFN data set: 0.4421148587055606\n",
            " cluster (-2, 0) has the highest discrimination bias for TPFN data\n"
          ]
        }
      ]
    },
    {
      "cell_type": "markdown",
      "source": [
        "***TPFN ALL COLUMNS ANOVA***"
      ],
      "metadata": {
        "id": "FK_n1GA3fKgm"
      }
    },
    {
      "cell_type": "code",
      "source": [
        "'''SHAP, ERROR & BASIC COLUMNS FOR TPFN ANOVA'''\n",
        "groupstpfn = TPFN_init.groupby('clusters')['FN'].apply(list)\n",
        "anovatpfn = [np.array(groupstpfn) for groupstpfn in groupstpfn]\n",
        "\n",
        "f_stat, p_val = f_oneway(*anovatpfn)\n",
        "\n",
        "print('F-statistic:', f_stat)\n",
        "print('p-value:', p_val)\n",
        "\n",
        "alpha = 0.05\n",
        "if p_val < alpha:\n",
        "  print(\"there are statistically significant differences between the clusters.\")\n",
        "else:\n",
        "  print(\"there are no statistically significant differences between the clusters\")"
      ],
      "metadata": {
        "id": "H5eq8K21umRb",
        "colab": {
          "base_uri": "https://localhost:8080/"
        },
        "outputId": "e9df5950-ce39-4b80-a30a-9399185ba4b1"
      },
      "execution_count": 112,
      "outputs": [
        {
          "output_type": "stream",
          "name": "stdout",
          "text": [
            "F-statistic: 74.08156927253457\n",
            "p-value: 6.7105871156633825e-31\n",
            "there are statistically significant differences between the clusters.\n"
          ]
        }
      ]
    },
    {
      "cell_type": "markdown",
      "source": [
        "***Clustering all columns TN FP DATA***"
      ],
      "metadata": {
        "id": "gR-UqBi_6g-e"
      }
    },
    {
      "cell_type": "code",
      "source": [
        "hbac_kmeans(data=TNFP_init, columns_to_use=BASIC_COL_scaled + DUMMY_COL_scaled + ERROR_COL_scaled + SHAP_BASIC_scaled + SHAP_DUMMY_scaled, error='errors', max_iter=300, show_plot=True)\n",
        "plt.show()"
      ],
      "metadata": {
        "id": "H8aEiMm87QRG",
        "colab": {
          "base_uri": "https://localhost:8080/"
        },
        "outputId": "54b3d0b2-7674-4224-b372-eed36e503f6f"
      },
      "execution_count": 118,
      "outputs": [
        {
          "output_type": "stream",
          "name": "stdout",
          "text": [
            "Error rate: 0.3104434907010014\n",
            "Discriminative bias: -0.004119380029064645\n",
            "Smallest cluster size: 1398\n",
            "Max iterations reached\n",
            "[0.3104434907010014, 0.3104434907010014, 0.3104434907010014, 0.3104434907010014, 0.3104434907010014, 0.3104434907010014, 0.3104434907010014, 0.3104434907010014, 0.3104434907010014, 0.3104434907010014, 0.3104434907010014, 0.3104434907010014, 0.3104434907010014, 0.3104434907010014, 0.3104434907010014, 0.3104434907010014, 0.3104434907010014, 0.3104434907010014, 0.3104434907010014, 0.3104434907010014, 0.3104434907010014, 0.3104434907010014, 0.3104434907010014, 0.3104434907010014, 0.3104434907010014, 0.3104434907010014, 0.3104434907010014, 0.3104434907010014, 0.3104434907010014, 0.3104434907010014, 0.3104434907010014, 0.3104434907010014, 0.3104434907010014, 0.3104434907010014, 0.3104434907010014, 0.3104434907010014, 0.3104434907010014, 0.3104434907010014, 0.3104434907010014, 0.3104434907010014, 0.3104434907010014, 0.3104434907010014, 0.3104434907010014, 0.3104434907010014, 0.3104434907010014, 0.3104434907010014, 0.3104434907010014, 0.3104434907010014, 0.3104434907010014, 0.3104434907010014, 0.3104434907010014, 0.3104434907010014, 0.3104434907010014, 0.3104434907010014, 0.3104434907010014, 0.3104434907010014, 0.3104434907010014, 0.3104434907010014, 0.3104434907010014, 0.3104434907010014, 0.3104434907010014, 0.3104434907010014, 0.3104434907010014, 0.3104434907010014, 0.3104434907010014, 0.3104434907010014, 0.3104434907010014, 0.3104434907010014, 0.3104434907010014, 0.3104434907010014, 0.3104434907010014, 0.3104434907010014, 0.3104434907010014, 0.3104434907010014, 0.3104434907010014, 0.3104434907010014, 0.3104434907010014, 0.3104434907010014, 0.3104434907010014, 0.3104434907010014, 0.3104434907010014, 0.3104434907010014, 0.3104434907010014, 0.3104434907010014, 0.3104434907010014, 0.3104434907010014, 0.3104434907010014, 0.3104434907010014, 0.3104434907010014, 0.3104434907010014, 0.3104434907010014, 0.3104434907010014, 0.3104434907010014, 0.3104434907010014, 0.3104434907010014, 0.3104434907010014, 0.3104434907010014, 0.3104434907010014, 0.3104434907010014, 0.3104434907010014, 0.3104434907010014, 0.3104434907010014, 0.3104434907010014, 0.3104434907010014, 0.3104434907010014, 0.3104434907010014, 0.3104434907010014, 0.3104434907010014, 0.3104434907010014, 0.3104434907010014, 0.3104434907010014, 0.3104434907010014, 0.3104434907010014, 0.3104434907010014, 0.3104434907010014, 0.3104434907010014, 0.3104434907010014, 0.3104434907010014, 0.3104434907010014, 0.3104434907010014, 0.3104434907010014, 0.3104434907010014, 0.3104434907010014, 0.3104434907010014, 0.3104434907010014, 0.3104434907010014, 0.3104434907010014, 0.3104434907010014, 0.3104434907010014, 0.3104434907010014, 0.3104434907010014, 0.3104434907010014, 0.3104434907010014, 0.3104434907010014, 0.3104434907010014, 0.3104434907010014, 0.3104434907010014, 0.3104434907010014, 0.3104434907010014, 0.3104434907010014, 0.3104434907010014, 0.3104434907010014, 0.3104434907010014, 0.3104434907010014, 0.3104434907010014, 0.3104434907010014, 0.3104434907010014, 0.3104434907010014, 0.3104434907010014, 0.3104434907010014, 0.3104434907010014, 0.3104434907010014, 0.3104434907010014, 0.3104434907010014, 0.3104434907010014, 0.3104434907010014, 0.3104434907010014, 0.3104434907010014, 0.3104434907010014, 0.3104434907010014, 0.3104434907010014, 0.3104434907010014, 0.3104434907010014, 0.3104434907010014, 0.3104434907010014, 0.3104434907010014, 0.3104434907010014, 0.3104434907010014, 0.3104434907010014, 0.3104434907010014, 0.3104434907010014, 0.3104434907010014, 0.3104434907010014, 0.3104434907010014, 0.3104434907010014, 0.3104434907010014, 0.3104434907010014, 0.3104434907010014, 0.3104434907010014, 0.3104434907010014, 0.3104434907010014, 0.3104434907010014, 0.3104434907010014, 0.3104434907010014, 0.3104434907010014, 0.3104434907010014, 0.3104434907010014, 0.3104434907010014, 0.3104434907010014, 0.3104434907010014, 0.3104434907010014, 0.3104434907010014, 0.3104434907010014, 0.3104434907010014, 0.3104434907010014, 0.3104434907010014, 0.3104434907010014, 0.3104434907010014, 0.3104434907010014, 0.3104434907010014, 0.3104434907010014, 0.3104434907010014, 0.3104434907010014, 0.3104434907010014, 0.3104434907010014, 0.3104434907010014, 0.3104434907010014, 0.3104434907010014, 0.3104434907010014, 0.3104434907010014, 0.3104434907010014, 0.3104434907010014, 0.3104434907010014, 0.3104434907010014, 0.3104434907010014, 0.3104434907010014, 0.3104434907010014, 0.3104434907010014, 0.3104434907010014, 0.3104434907010014, 0.3104434907010014, 0.3104434907010014, 0.3104434907010014, 0.3104434907010014, 0.3104434907010014, 0.3104434907010014, 0.3104434907010014, 0.3104434907010014, 0.3104434907010014, 0.3104434907010014, 0.3104434907010014, 0.3104434907010014, 0.3104434907010014, 0.3104434907010014, 0.3104434907010014, 0.3104434907010014, 0.3104434907010014, 0.3104434907010014, 0.3104434907010014, 0.3104434907010014, 0.3104434907010014, 0.3104434907010014, 0.3104434907010014, 0.3104434907010014, 0.3104434907010014, 0.3104434907010014, 0.3104434907010014, 0.3104434907010014, 0.3104434907010014, 0.3104434907010014, 0.3104434907010014, 0.3104434907010014, 0.3104434907010014, 0.3104434907010014, 0.3104434907010014, 0.3104434907010014, 0.3104434907010014, 0.3104434907010014, 0.3104434907010014, 0.3104434907010014, 0.3104434907010014, 0.3104434907010014, 0.3104434907010014, 0.3104434907010014, 0.3104434907010014, 0.3104434907010014, 0.3104434907010014, 0.3104434907010014, 0.3104434907010014, 0.3104434907010014, 0.3104434907010014, 0.3104434907010014, 0.3104434907010014, 0.3104434907010014, 0.3104434907010014, 0.3104434907010014, 0.3104434907010014, 0.3104434907010014, 0.3104434907010014, 0.3104434907010014, 0.3104434907010014, 0.3104434907010014, 0.3104434907010014, 0.3104434907010014, 0.3104434907010014, 0.3104434907010014, 0.3104434907010014, 0.3104434907010014, 0.3104434907010014, 0.3104434907010014, 0.3104434907010014, 0.3104434907010014, 0.3104434907010014, 0.3104434907010014, 0.3104434907010014, 0.3104434907010014, 0.3104434907010014, 0.3104434907010014, 0.3104434907010014]\n"
          ]
        }
      ]
    },
    {
      "cell_type": "code",
      "source": [
        "c= get_max_bias_cluster(TNFP_init)\n",
        "\n",
        "Mean_error_rate_TNFP = get_error_rate(TNFP_init)\n",
        "\n",
        "print ('Mean error rate of full TNFP data set:', Mean_error_rate_TNFP)\n",
        "\n",
        "print (f\" cluster {c} has the highest discrimination bias for TNFP data\")\n"
      ],
      "metadata": {
        "id": "niZ4E-xj8JS9",
        "colab": {
          "base_uri": "https://localhost:8080/"
        },
        "outputId": "da3d9f48-f457-41d2-ec1b-60ab92ba6ee9"
      },
      "execution_count": 116,
      "outputs": [
        {
          "output_type": "stream",
          "name": "stdout",
          "text": [
            "Mean error rate of full TNFP data set: 0.3104434907010014\n",
            " cluster (-2, 0) has the highest discrimination bias for TNFP data\n"
          ]
        }
      ]
    },
    {
      "cell_type": "markdown",
      "source": [
        "***TNFP ALL COLUMNS ANOVA***"
      ],
      "metadata": {
        "id": "k5bOGAT5RcWb"
      }
    },
    {
      "cell_type": "code",
      "source": [
        "'''SHAP, ERROR & BASIC COLUMNS FOR TNFP ANOVA'''\n",
        "groupstnfp = TNFP_init.groupby('clusters')['FP'].apply(list)\n",
        "anovatnfp = [np.array(groupstnfp) for groupstnfp in groupstnfp]\n",
        "\n",
        "f_stat, p_val = f_oneway(*anovatnfp)\n",
        "\n",
        "print('F-statistic:', f_stat)\n",
        "print('p-value:', p_val)\n",
        "\n",
        "alpha = 0.05\n",
        "if p_val < alpha:\n",
        "  print(\"there are statistically significant differences between the clusters.\")\n",
        "else:\n",
        "  print(\"there are no statistically significant differences between the clusters\")"
      ],
      "metadata": {
        "id": "KPAFNlzT_v8-",
        "colab": {
          "base_uri": "https://localhost:8080/"
        },
        "outputId": "93546c78-1e7e-4992-9aae-cdf0a5ae01fe"
      },
      "execution_count": 117,
      "outputs": [
        {
          "output_type": "stream",
          "name": "stdout",
          "text": [
            "F-statistic: 0.0627771951871686\n",
            "p-value: 0.8021959917743023\n",
            "there are no statistically significant differences between the clusters\n"
          ]
        }
      ]
    },
    {
      "cell_type": "markdown",
      "source": [
        "# SHAP & ERROR COLUMNS NO BASIC FEATURES"
      ],
      "metadata": {
        "id": "VRr-JGmoSNyO"
      }
    },
    {
      "cell_type": "code",
      "source": [
        "'''SE: SHAP_COL and ERROR_COL no BASIC_COL '''\n",
        "columns = ERROR_COL_scaled + SHAP_BASIC_scaled + SHAP_DUMMY_scaled\n",
        "SE_TPFN = TPFN_init[columns]\n",
        "SE_TNFP = TNFP_init[columns] #scaled\n",
        "\n",
        "#SE_TPFN.iloc[3]\n",
        "SE_TNFP.iloc[3]"
      ],
      "metadata": {
        "id": "USVopU1opVUW",
        "colab": {
          "base_uri": "https://localhost:8080/"
        },
        "outputId": "837e095b-a336-49a9-a26e-97405b1a197b"
      },
      "execution_count": 122,
      "outputs": [
        {
          "output_type": "execute_result",
          "data": {
            "text/plain": [
              "errors_scaled                        1.327722\n",
              "TP_scaled                           -0.573496\n",
              "TN_scaled                           -0.800528\n",
              "FN_scaled                           -0.492612\n",
              "FP_scaled                            2.236068\n",
              "Shap_age_scaled                     -0.279174\n",
              "Shap_decile_score_scaled            -0.800271\n",
              "Shap_priors_count_scaled            -0.531185\n",
              "Shap_sex_Female_scaled               0.273211\n",
              "Shap_race_African-American_scaled    0.543617\n",
              "Shap_race_Asian_scaled              -0.054634\n",
              "Shap_race_Caucasian_scaled           1.949653\n",
              "Shap_race_Hispanic_scaled            0.065513\n",
              "Shap_race_Native American_scaled     0.042717\n",
              "Shap_race_Other_scaled               0.178203\n",
              "Name: 5, dtype: float64"
            ]
          },
          "metadata": {},
          "execution_count": 122
        }
      ]
    },
    {
      "cell_type": "markdown",
      "source": [
        "***SHAP AND ERROR KMEANS ON TPFN***"
      ],
      "metadata": {
        "id": "JHoG0P2eU4tk"
      }
    },
    {
      "cell_type": "code",
      "source": [
        "'''KMEANS SHAP & ERROR COLUMNS FOR TPFN '''\n",
        "hbac_kmeans(data=TPFN_init, columns_to_use=ERROR_COL_scaled + SHAP_BASIC_scaled + SHAP_DUMMY_scaled, error='errors', max_iter=300, show_plot=True)\n",
        "plt.show()"
      ],
      "metadata": {
        "id": "OeIa2jdkqu52",
        "colab": {
          "base_uri": "https://localhost:8080/"
        },
        "outputId": "9e65f748-1c0c-4300-daa6-cd0a7696bfd4"
      },
      "execution_count": 129,
      "outputs": [
        {
          "output_type": "stream",
          "name": "stdout",
          "text": [
            "Error rate: 0.4421148587055606\n",
            "Discriminative bias: -0.34596101255171446\n",
            "Smallest cluster size: 1097\n",
            "Max iterations reached\n",
            "[0.4421148587055606, 0.4421148587055606, 0.4421148587055606, 0.4421148587055606, 0.4421148587055606, 0.4421148587055606, 0.4421148587055606, 0.4421148587055606, 0.4421148587055606, 0.4421148587055606, 0.4421148587055606, 0.4421148587055606, 0.4421148587055606, 0.4421148587055606, 0.4421148587055606, 0.4421148587055606, 0.4421148587055606, 0.4421148587055606, 0.4421148587055606, 0.4421148587055606, 0.4421148587055606, 0.4421148587055606, 0.4421148587055606, 0.4421148587055606, 0.4421148587055606, 0.4421148587055606, 0.4421148587055606, 0.4421148587055606, 0.4421148587055606, 0.4421148587055606, 0.4421148587055606, 0.4421148587055606, 0.4421148587055606, 0.4421148587055606, 0.4421148587055606, 0.4421148587055606, 0.4421148587055606, 0.4421148587055606, 0.4421148587055606, 0.4421148587055606, 0.4421148587055606, 0.4421148587055606, 0.4421148587055606, 0.4421148587055606, 0.4421148587055606, 0.4421148587055606, 0.4421148587055606, 0.4421148587055606, 0.4421148587055606, 0.4421148587055606, 0.4421148587055606, 0.4421148587055606, 0.4421148587055606, 0.4421148587055606, 0.4421148587055606, 0.4421148587055606, 0.4421148587055606, 0.4421148587055606, 0.4421148587055606, 0.4421148587055606, 0.4421148587055606, 0.4421148587055606, 0.4421148587055606, 0.4421148587055606, 0.4421148587055606, 0.4421148587055606, 0.4421148587055606, 0.4421148587055606, 0.4421148587055606, 0.4421148587055606, 0.4421148587055606, 0.4421148587055606, 0.4421148587055606, 0.4421148587055606, 0.4421148587055606, 0.4421148587055606, 0.4421148587055606, 0.4421148587055606, 0.4421148587055606, 0.4421148587055606, 0.4421148587055606, 0.4421148587055606, 0.4421148587055606, 0.4421148587055606, 0.4421148587055606, 0.4421148587055606, 0.4421148587055606, 0.4421148587055606, 0.4421148587055606, 0.4421148587055606, 0.4421148587055606, 0.4421148587055606, 0.4421148587055606, 0.4421148587055606, 0.4421148587055606, 0.4421148587055606, 0.4421148587055606, 0.4421148587055606, 0.4421148587055606, 0.4421148587055606, 0.4421148587055606, 0.4421148587055606, 0.4421148587055606, 0.4421148587055606, 0.4421148587055606, 0.4421148587055606, 0.4421148587055606, 0.4421148587055606, 0.4421148587055606, 0.4421148587055606, 0.4421148587055606, 0.4421148587055606, 0.4421148587055606, 0.4421148587055606, 0.4421148587055606, 0.4421148587055606, 0.4421148587055606, 0.4421148587055606, 0.4421148587055606, 0.4421148587055606, 0.4421148587055606, 0.4421148587055606, 0.4421148587055606, 0.4421148587055606, 0.4421148587055606, 0.4421148587055606, 0.4421148587055606, 0.4421148587055606, 0.4421148587055606, 0.4421148587055606, 0.4421148587055606, 0.4421148587055606, 0.4421148587055606, 0.4421148587055606, 0.4421148587055606, 0.4421148587055606, 0.4421148587055606, 0.4421148587055606, 0.4421148587055606, 0.4421148587055606, 0.4421148587055606, 0.4421148587055606, 0.4421148587055606, 0.4421148587055606, 0.4421148587055606, 0.4421148587055606, 0.4421148587055606, 0.4421148587055606, 0.4421148587055606, 0.4421148587055606, 0.4421148587055606, 0.4421148587055606, 0.4421148587055606, 0.4421148587055606, 0.4421148587055606, 0.4421148587055606, 0.4421148587055606, 0.4421148587055606, 0.4421148587055606, 0.4421148587055606, 0.4421148587055606, 0.4421148587055606, 0.4421148587055606, 0.4421148587055606, 0.4421148587055606, 0.4421148587055606, 0.4421148587055606, 0.4421148587055606, 0.4421148587055606, 0.4421148587055606, 0.4421148587055606, 0.4421148587055606, 0.4421148587055606, 0.4421148587055606, 0.4421148587055606, 0.4421148587055606, 0.4421148587055606, 0.4421148587055606, 0.4421148587055606, 0.4421148587055606, 0.4421148587055606, 0.4421148587055606, 0.4421148587055606, 0.4421148587055606, 0.4421148587055606, 0.4421148587055606, 0.4421148587055606, 0.4421148587055606, 0.4421148587055606, 0.4421148587055606, 0.4421148587055606, 0.4421148587055606, 0.4421148587055606, 0.4421148587055606, 0.4421148587055606, 0.4421148587055606, 0.4421148587055606, 0.4421148587055606, 0.4421148587055606, 0.4421148587055606, 0.4421148587055606, 0.4421148587055606, 0.4421148587055606, 0.4421148587055606, 0.4421148587055606, 0.4421148587055606, 0.4421148587055606, 0.4421148587055606, 0.4421148587055606, 0.4421148587055606, 0.4421148587055606, 0.4421148587055606, 0.4421148587055606, 0.4421148587055606, 0.4421148587055606, 0.4421148587055606, 0.4421148587055606, 0.4421148587055606, 0.4421148587055606, 0.4421148587055606, 0.4421148587055606, 0.4421148587055606, 0.4421148587055606, 0.4421148587055606, 0.4421148587055606, 0.4421148587055606, 0.4421148587055606, 0.4421148587055606, 0.4421148587055606, 0.4421148587055606, 0.4421148587055606, 0.4421148587055606, 0.4421148587055606, 0.4421148587055606, 0.4421148587055606, 0.4421148587055606, 0.4421148587055606, 0.4421148587055606, 0.4421148587055606, 0.4421148587055606, 0.4421148587055606, 0.4421148587055606, 0.4421148587055606, 0.4421148587055606, 0.4421148587055606, 0.4421148587055606, 0.4421148587055606, 0.4421148587055606, 0.4421148587055606, 0.4421148587055606, 0.4421148587055606, 0.4421148587055606, 0.4421148587055606, 0.4421148587055606, 0.4421148587055606, 0.4421148587055606, 0.4421148587055606, 0.4421148587055606, 0.4421148587055606, 0.4421148587055606, 0.4421148587055606, 0.4421148587055606, 0.4421148587055606, 0.4421148587055606, 0.4421148587055606, 0.4421148587055606, 0.4421148587055606, 0.4421148587055606, 0.4421148587055606, 0.4421148587055606, 0.4421148587055606, 0.4421148587055606, 0.4421148587055606, 0.4421148587055606, 0.4421148587055606, 0.4421148587055606, 0.4421148587055606, 0.4421148587055606, 0.4421148587055606, 0.4421148587055606, 0.4421148587055606, 0.4421148587055606, 0.4421148587055606, 0.4421148587055606, 0.4421148587055606, 0.4421148587055606, 0.4421148587055606, 0.4421148587055606, 0.4421148587055606, 0.4421148587055606, 0.4421148587055606, 0.4421148587055606, 0.4421148587055606, 0.4421148587055606, 0.4421148587055606, 0.4421148587055606, 0.4421148587055606, 0.4421148587055606, 0.4421148587055606]\n"
          ]
        }
      ]
    },
    {
      "cell_type": "code",
      "source": [
        "c= get_max_bias_cluster(SE_TPFN)\n",
        "\n",
        "Mean_error_rate_SE_TPFN = get_error_rate(c)\n",
        "\n",
        "print ('Mean error rate of SE_TPFN data set:', Mean_error_rate_SE_TPFN)\n",
        "\n",
        "print (f\" cluster {c} has the highest discrimination bias for TPFN data\")"
      ],
      "metadata": {
        "id": "fkNmRgu-UB2E",
        "colab": {
          "base_uri": "https://localhost:8080/",
          "height": 502
        },
        "outputId": "7233349b-aece-4eec-ad3a-f79157ce7c05"
      },
      "execution_count": 130,
      "outputs": [
        {
          "output_type": "error",
          "ename": "KeyError",
          "evalue": "'clusters'",
          "traceback": [
            "\u001b[0;31m---------------------------------------------------------------------------\u001b[0m",
            "\u001b[0;31mKeyError\u001b[0m                                  Traceback (most recent call last)",
            "\u001b[0;32m/usr/local/lib/python3.10/dist-packages/pandas/core/indexes/base.py\u001b[0m in \u001b[0;36mget_loc\u001b[0;34m(self, key)\u001b[0m\n\u001b[1;32m   3652\u001b[0m         \u001b[0;32mtry\u001b[0m\u001b[0;34m:\u001b[0m\u001b[0;34m\u001b[0m\u001b[0;34m\u001b[0m\u001b[0m\n\u001b[0;32m-> 3653\u001b[0;31m             \u001b[0;32mreturn\u001b[0m \u001b[0mself\u001b[0m\u001b[0;34m.\u001b[0m\u001b[0m_engine\u001b[0m\u001b[0;34m.\u001b[0m\u001b[0mget_loc\u001b[0m\u001b[0;34m(\u001b[0m\u001b[0mcasted_key\u001b[0m\u001b[0;34m)\u001b[0m\u001b[0;34m\u001b[0m\u001b[0;34m\u001b[0m\u001b[0m\n\u001b[0m\u001b[1;32m   3654\u001b[0m         \u001b[0;32mexcept\u001b[0m \u001b[0mKeyError\u001b[0m \u001b[0;32mas\u001b[0m \u001b[0merr\u001b[0m\u001b[0;34m:\u001b[0m\u001b[0;34m\u001b[0m\u001b[0;34m\u001b[0m\u001b[0m\n",
            "\u001b[0;32m/usr/local/lib/python3.10/dist-packages/pandas/_libs/index.pyx\u001b[0m in \u001b[0;36mpandas._libs.index.IndexEngine.get_loc\u001b[0;34m()\u001b[0m\n",
            "\u001b[0;32m/usr/local/lib/python3.10/dist-packages/pandas/_libs/index.pyx\u001b[0m in \u001b[0;36mpandas._libs.index.IndexEngine.get_loc\u001b[0;34m()\u001b[0m\n",
            "\u001b[0;32mpandas/_libs/hashtable_class_helper.pxi\u001b[0m in \u001b[0;36mpandas._libs.hashtable.PyObjectHashTable.get_item\u001b[0;34m()\u001b[0m\n",
            "\u001b[0;32mpandas/_libs/hashtable_class_helper.pxi\u001b[0m in \u001b[0;36mpandas._libs.hashtable.PyObjectHashTable.get_item\u001b[0;34m()\u001b[0m\n",
            "\u001b[0;31mKeyError\u001b[0m: 'clusters'",
            "\nThe above exception was the direct cause of the following exception:\n",
            "\u001b[0;31mKeyError\u001b[0m                                  Traceback (most recent call last)",
            "\u001b[0;32m<ipython-input-130-56af8d6b889a>\u001b[0m in \u001b[0;36m<cell line: 1>\u001b[0;34m()\u001b[0m\n\u001b[0;32m----> 1\u001b[0;31m \u001b[0mc\u001b[0m\u001b[0;34m=\u001b[0m \u001b[0mget_max_bias_cluster\u001b[0m\u001b[0;34m(\u001b[0m\u001b[0mSE_TPFN\u001b[0m\u001b[0;34m)\u001b[0m\u001b[0;34m\u001b[0m\u001b[0;34m\u001b[0m\u001b[0m\n\u001b[0m\u001b[1;32m      2\u001b[0m \u001b[0;34m\u001b[0m\u001b[0m\n\u001b[1;32m      3\u001b[0m \u001b[0mMean_error_rate_SE_TPFN\u001b[0m \u001b[0;34m=\u001b[0m \u001b[0mget_error_rate\u001b[0m\u001b[0;34m(\u001b[0m\u001b[0mc\u001b[0m\u001b[0;34m)\u001b[0m\u001b[0;34m\u001b[0m\u001b[0;34m\u001b[0m\u001b[0m\n\u001b[1;32m      4\u001b[0m \u001b[0;34m\u001b[0m\u001b[0m\n\u001b[1;32m      5\u001b[0m \u001b[0mprint\u001b[0m \u001b[0;34m(\u001b[0m\u001b[0;34m'Mean error rate of SE_TPFN data set:'\u001b[0m\u001b[0;34m,\u001b[0m \u001b[0mMean_error_rate_SE_TPFN\u001b[0m\u001b[0;34m)\u001b[0m\u001b[0;34m\u001b[0m\u001b[0;34m\u001b[0m\u001b[0m\n",
            "\u001b[0;32m<ipython-input-95-57d4e9f8a94b>\u001b[0m in \u001b[0;36mget_max_bias_cluster\u001b[0;34m(data, cluster_col, bias_type, baseline, function)\u001b[0m\n\u001b[1;32m      4\u001b[0m   \u001b[0mmax_bias_cluster\u001b[0m \u001b[0;34m=\u001b[0m \u001b[0;34m-\u001b[0m\u001b[0;36m2\u001b[0m\u001b[0;34m\u001b[0m\u001b[0;34m\u001b[0m\u001b[0m\n\u001b[1;32m      5\u001b[0m \u001b[0;34m\u001b[0m\u001b[0m\n\u001b[0;32m----> 6\u001b[0;31m   \u001b[0;32mfor\u001b[0m \u001b[0mcluster_id\u001b[0m \u001b[0;32min\u001b[0m \u001b[0mdata\u001b[0m\u001b[0;34m[\u001b[0m\u001b[0mcluster_col\u001b[0m\u001b[0;34m]\u001b[0m\u001b[0;34m.\u001b[0m\u001b[0munique\u001b[0m\u001b[0;34m(\u001b[0m\u001b[0;34m)\u001b[0m\u001b[0;34m:\u001b[0m\u001b[0;34m\u001b[0m\u001b[0;34m\u001b[0m\u001b[0m\n\u001b[0m\u001b[1;32m      7\u001b[0m     \u001b[0;32mif\u001b[0m \u001b[0mcluster_id\u001b[0m \u001b[0;34m==\u001b[0m \u001b[0;34m-\u001b[0m\u001b[0;36m1\u001b[0m\u001b[0;34m:\u001b[0m \u001b[0;31m#outliers in dbscan\u001b[0m\u001b[0;34m\u001b[0m\u001b[0;34m\u001b[0m\u001b[0m\n\u001b[1;32m      8\u001b[0m       \u001b[0;32mcontinue\u001b[0m\u001b[0;34m\u001b[0m\u001b[0;34m\u001b[0m\u001b[0m\n",
            "\u001b[0;32m/usr/local/lib/python3.10/dist-packages/pandas/core/frame.py\u001b[0m in \u001b[0;36m__getitem__\u001b[0;34m(self, key)\u001b[0m\n\u001b[1;32m   3759\u001b[0m             \u001b[0;32mif\u001b[0m \u001b[0mself\u001b[0m\u001b[0;34m.\u001b[0m\u001b[0mcolumns\u001b[0m\u001b[0;34m.\u001b[0m\u001b[0mnlevels\u001b[0m \u001b[0;34m>\u001b[0m \u001b[0;36m1\u001b[0m\u001b[0;34m:\u001b[0m\u001b[0;34m\u001b[0m\u001b[0;34m\u001b[0m\u001b[0m\n\u001b[1;32m   3760\u001b[0m                 \u001b[0;32mreturn\u001b[0m \u001b[0mself\u001b[0m\u001b[0;34m.\u001b[0m\u001b[0m_getitem_multilevel\u001b[0m\u001b[0;34m(\u001b[0m\u001b[0mkey\u001b[0m\u001b[0;34m)\u001b[0m\u001b[0;34m\u001b[0m\u001b[0;34m\u001b[0m\u001b[0m\n\u001b[0;32m-> 3761\u001b[0;31m             \u001b[0mindexer\u001b[0m \u001b[0;34m=\u001b[0m \u001b[0mself\u001b[0m\u001b[0;34m.\u001b[0m\u001b[0mcolumns\u001b[0m\u001b[0;34m.\u001b[0m\u001b[0mget_loc\u001b[0m\u001b[0;34m(\u001b[0m\u001b[0mkey\u001b[0m\u001b[0;34m)\u001b[0m\u001b[0;34m\u001b[0m\u001b[0;34m\u001b[0m\u001b[0m\n\u001b[0m\u001b[1;32m   3762\u001b[0m             \u001b[0;32mif\u001b[0m \u001b[0mis_integer\u001b[0m\u001b[0;34m(\u001b[0m\u001b[0mindexer\u001b[0m\u001b[0;34m)\u001b[0m\u001b[0;34m:\u001b[0m\u001b[0;34m\u001b[0m\u001b[0;34m\u001b[0m\u001b[0m\n\u001b[1;32m   3763\u001b[0m                 \u001b[0mindexer\u001b[0m \u001b[0;34m=\u001b[0m \u001b[0;34m[\u001b[0m\u001b[0mindexer\u001b[0m\u001b[0;34m]\u001b[0m\u001b[0;34m\u001b[0m\u001b[0;34m\u001b[0m\u001b[0m\n",
            "\u001b[0;32m/usr/local/lib/python3.10/dist-packages/pandas/core/indexes/base.py\u001b[0m in \u001b[0;36mget_loc\u001b[0;34m(self, key)\u001b[0m\n\u001b[1;32m   3653\u001b[0m             \u001b[0;32mreturn\u001b[0m \u001b[0mself\u001b[0m\u001b[0;34m.\u001b[0m\u001b[0m_engine\u001b[0m\u001b[0;34m.\u001b[0m\u001b[0mget_loc\u001b[0m\u001b[0;34m(\u001b[0m\u001b[0mcasted_key\u001b[0m\u001b[0;34m)\u001b[0m\u001b[0;34m\u001b[0m\u001b[0;34m\u001b[0m\u001b[0m\n\u001b[1;32m   3654\u001b[0m         \u001b[0;32mexcept\u001b[0m \u001b[0mKeyError\u001b[0m \u001b[0;32mas\u001b[0m \u001b[0merr\u001b[0m\u001b[0;34m:\u001b[0m\u001b[0;34m\u001b[0m\u001b[0;34m\u001b[0m\u001b[0m\n\u001b[0;32m-> 3655\u001b[0;31m             \u001b[0;32mraise\u001b[0m \u001b[0mKeyError\u001b[0m\u001b[0;34m(\u001b[0m\u001b[0mkey\u001b[0m\u001b[0;34m)\u001b[0m \u001b[0;32mfrom\u001b[0m \u001b[0merr\u001b[0m\u001b[0;34m\u001b[0m\u001b[0;34m\u001b[0m\u001b[0m\n\u001b[0m\u001b[1;32m   3656\u001b[0m         \u001b[0;32mexcept\u001b[0m \u001b[0mTypeError\u001b[0m\u001b[0;34m:\u001b[0m\u001b[0;34m\u001b[0m\u001b[0;34m\u001b[0m\u001b[0m\n\u001b[1;32m   3657\u001b[0m             \u001b[0;31m# If we have a listlike key, _check_indexing_error will raise\u001b[0m\u001b[0;34m\u001b[0m\u001b[0;34m\u001b[0m\u001b[0m\n",
            "\u001b[0;31mKeyError\u001b[0m: 'clusters'"
          ]
        }
      ]
    },
    {
      "cell_type": "markdown",
      "source": [
        "***SHAP AND ERROR ANOVA ON TPFN***"
      ],
      "metadata": {
        "id": "P5kLuitzU9rr"
      }
    },
    {
      "cell_type": "code",
      "source": [
        "'''SHAP & ERROR COLUMNS FOR TPFN ANOVA'''\n",
        "groupsSE_tpfn = SE_TPFN.groupby('clusters')['FN'].apply(list)\n",
        "anovaSE_tpfn = [np.array(groupsSE_tpfn) for groupsSE_tpfn in groupsSE_tpfn]\n",
        "\n",
        "f_stat, p_val = f_oneway(*anovaSE_tpfn)\n",
        "\n",
        "print('F-statistic:', f_stat)\n",
        "print('p-value:', p_val)\n",
        "\n",
        "alpha = 0.05\n",
        "if p_val < alpha:\n",
        "  print(\"there are statistically significant differences between the clusters.\")\n",
        "else:\n",
        "  print(\"there are no statistically significant differences between the clusters\")"
      ],
      "metadata": {
        "id": "iYwsB8NFSqeL"
      },
      "execution_count": null,
      "outputs": []
    },
    {
      "cell_type": "markdown",
      "source": [
        "***SHAP AND ERROR KMEANS ON TNFP***"
      ],
      "metadata": {
        "id": "BhlBJ9yFUo_P"
      }
    },
    {
      "cell_type": "code",
      "source": [
        "'''KMEANS SHAP & ERROR COLUMNS FOR TNFP'''\n",
        "TNFP_init = initialize_dataset(TNFP_unscaled, unscaled=True, meta_col=True, with_error_col=True, with_classes=True)\n",
        "hbac_kmeans(data = TNFP_init, columns_to_drop = ['BASIC_COL_unscaled', 'DUMMY_unscaled'], error= 'FP', max_iter = 300, show_plot= True)\n",
        "plt.show()"
      ],
      "metadata": {
        "id": "Yg4qpU9JSbYL"
      },
      "execution_count": null,
      "outputs": []
    },
    {
      "cell_type": "code",
      "source": [
        "c= get_max_bias_cluster(SE_TNFP)\n",
        "\n",
        "Mean_error_rate_SE_TNFP = get_error_rate(SE_TNFP)\n",
        "\n",
        "print ('Mean error rate of TNFP data set:', Mean_error_rate_TNFP)\n",
        "\n",
        "print (f\" cluster {c} has the highest discrimination bias for TPFN data\")"
      ],
      "metadata": {
        "id": "kCsvihg7Vfsa"
      },
      "execution_count": null,
      "outputs": []
    },
    {
      "cell_type": "markdown",
      "source": [
        "***SHAP AND ERROR ANOVA ON TNFP***"
      ],
      "metadata": {
        "id": "Gmb77gegVELS"
      }
    },
    {
      "cell_type": "code",
      "source": [
        "'''SHAP & ERROR COLUMNS FOR TNFP ANOVA'''\n",
        "groupsSE_tnfp = SE_TNFP.groupby('clusters')['FP'].apply(list)\n",
        "anovaSE_tnfp = [np.array(groupsSE_tpfn) for groupsSE_tnfp in groupsSE_tnfp]\n",
        "\n",
        "f_stat, p_val = f_oneway(*anovaSE_tpfn)\n",
        "\n",
        "print('F-statistic:', f_stat)\n",
        "print('p-value:', p_val)\n",
        "\n",
        "alpha = 0.05\n",
        "if p_val < alpha:\n",
        "  print(\"there are statistically significant differences between the clusters.\")\n",
        "else:\n",
        "  print(\"there are no statistically significant differences between the clusters\")"
      ],
      "metadata": {
        "id": "1MO0-G5LTl74"
      },
      "execution_count": null,
      "outputs": []
    },
    {
      "cell_type": "code",
      "source": [
        "SE_TNFP.iloc[3]"
      ],
      "metadata": {
        "id": "RWe2NirFaX-S"
      },
      "execution_count": null,
      "outputs": []
    },
    {
      "cell_type": "markdown",
      "source": [
        "# ERROR AND BASIC COLUMNS NO SHAP (SELMA)"
      ],
      "metadata": {
        "id": "mw7ZAR6tyVy0"
      }
    },
    {
      "cell_type": "code",
      "source": [
        "TPFN_init.iloc[3]"
      ],
      "metadata": {
        "id": "XXvWmKYGTEmh"
      },
      "execution_count": null,
      "outputs": []
    },
    {
      "cell_type": "code",
      "source": [
        "'''FE: FEATURES AND ERROR NO SHAP (Selma) '''\n",
        "columns_to_drop = SHAP_COL_Basic_scaled + SHAP_COL_Dummy_scaled\n",
        "\n",
        "FE_TPFN = TPFN_init.drop(columns_to_drop, axis=1) #scaled\n",
        "FE_TNFP = TNFP_init.drop(columns_to_drop, axis=1) #scaled\n",
        "\n",
        "FE_TPFN.iloc[3]\n",
        "#FE_TNFP.iloc[3]"
      ],
      "metadata": {
        "id": "AsgNawceyLEE"
      },
      "execution_count": null,
      "outputs": []
    },
    {
      "cell_type": "markdown",
      "source": [
        "***BASIC & ERROR K-MEANS ON TPFN***"
      ],
      "metadata": {
        "id": "EkE6JjyqWkda"
      }
    },
    {
      "cell_type": "code",
      "source": [
        "'''BASIC & ERROR K-MEANS ON TPFN'''\n",
        "TPFN_init = initialize_dataset(TPFN_unscaled, unscaled=True, meta_col=True, with_error_col=True, with_classes=True)\n",
        "hbac_kmeans(data = TPFN_init, columns_to_drop = ['SHAP_COL_Basic_scaled', 'SHAP_COL_Dummy_scaled'], error= 'FN', max_iter = 300, show_plot= True)\n",
        "plt.show()"
      ],
      "metadata": {
        "id": "dLI9A4oQUuBz"
      },
      "execution_count": null,
      "outputs": []
    },
    {
      "cell_type": "code",
      "source": [
        "c= get_max_bias_cluster(FE_TPFN)\n",
        "\n",
        "Mean_error_rate_FE_TPFN = get_error_rate(FE_TPFN)\n",
        "\n",
        "print ('Mean error rate of FE_TPFN data set:', Mean_error_rate_TPFN)\n",
        "\n",
        "print (f\" cluster {c} has the highest discrimination bias for FE_TPFN data\")"
      ],
      "metadata": {
        "id": "XTVkcvW0W-Ly"
      },
      "execution_count": null,
      "outputs": []
    },
    {
      "cell_type": "code",
      "source": [
        "FE_TPFN.iloc[3]"
      ],
      "metadata": {
        "id": "4tbusHs5Z4ot"
      },
      "execution_count": null,
      "outputs": []
    },
    {
      "cell_type": "markdown",
      "source": [
        "***BASIC & ERROR ANOVA ON TPFN***"
      ],
      "metadata": {
        "id": "rX0ccxkKW-du"
      }
    },
    {
      "cell_type": "code",
      "source": [
        "'''BASIC & ERROR COLUMNS FOR TPFN ANOVA'''\n",
        "groupsFE_tpfn = FE_TPFN.groupby('clusters')['FN'].apply(list)\n",
        "anovaFE_tpfn = [np.array(groupsFE_tpfn) for groupsFE_tpfn in groupsFE_tpfn]\n",
        "\n",
        "f_stat, p_val = f_oneway(*anovaFE_tpfn)\n",
        "\n",
        "print('F-statistic:', f_stat)\n",
        "print('p-value:', p_val)\n",
        "\n",
        "alpha = 0.05\n",
        "if p_val < alpha:\n",
        "  print(\"there are statistically significant differences between the clusters.\")\n",
        "else:\n",
        "  print(\"there are no statistically significant differences between the clusters\")"
      ],
      "metadata": {
        "id": "f01rws70U2pW"
      },
      "execution_count": null,
      "outputs": []
    },
    {
      "cell_type": "markdown",
      "source": [
        "***BASIC & ERROR K-MEANS ON TNFP***"
      ],
      "metadata": {
        "id": "MAgsRKChWtoY"
      }
    },
    {
      "cell_type": "code",
      "source": [
        "'''BASIC & ERROR COLUMNS FOR TNFP'''\n",
        "TNFP_init = initialize_dataset(TNFP_unscaled, unscaled=True, meta_col=True, with_error_col=True, with_classes=True)\n",
        "hbac_kmeans(data = TNFP_init, columns_to_drop= ['SHAP_COL_Basic_scaled', 'SHAP_COL_Dummy_scaled'], error= 'FP', max_iter = 300, show_plot= True)\n",
        "plt.show()"
      ],
      "metadata": {
        "id": "YCoY7c1iWOTn"
      },
      "execution_count": null,
      "outputs": []
    },
    {
      "cell_type": "code",
      "source": [
        "c= get_max_bias_cluster(FE_TNFP)\n",
        "\n",
        "Mean_error_rate_FE_TNFP = get_error_rate(FE_TNFP)\n",
        "\n",
        "print ('Mean error rate of FE_TNFP data set:', Mean_error_rate_TNFP)\n",
        "\n",
        "print (f\" cluster {c} has the highest discrimination bias for FE_TNFP data\")"
      ],
      "metadata": {
        "id": "TaYwVpvvbGp-"
      },
      "execution_count": null,
      "outputs": []
    },
    {
      "cell_type": "markdown",
      "source": [
        "***BASIC & ERROR ANOVA ON TNFP***"
      ],
      "metadata": {
        "id": "WzgRubwDXDzC"
      }
    },
    {
      "cell_type": "code",
      "source": [
        "'''BASIC & ERROR COLUMNS FOR TNFP ANOVA'''\n",
        "groupsFE_tnfp = FE_TNFP.groupby('clusters')['FP'].apply(list)\n",
        "anovaFE_tnfp = [np.array(groupsFE_tnfp) for groupsFE_tnfp in groupsFE_tnfp]\n",
        "\n",
        "f_stat, p_val = f_oneway(*anovaFE_tnfp)\n",
        "\n",
        "print('F-statistic:', f_stat)\n",
        "print('p-value:', p_val)\n",
        "\n",
        "alpha = 0.05\n",
        "if p_val < alpha:\n",
        "  print(\"there are statistically significant differences between the clusters.\")\n",
        "else:\n",
        "  print(\"there are no statistically significant differences between the clusters\")"
      ],
      "metadata": {
        "id": "B7VgDF_hXTag"
      },
      "execution_count": null,
      "outputs": []
    },
    {
      "cell_type": "markdown",
      "source": [
        "# SHAP & BASIC COLUMNS NO ERROR"
      ],
      "metadata": {
        "id": "noGzMCHLZCFg"
      }
    },
    {
      "cell_type": "code",
      "source": [
        "#TPFN_init.iloc[3]"
      ],
      "metadata": {
        "id": "hV_IWl5oM1J5"
      },
      "execution_count": null,
      "outputs": []
    },
    {
      "cell_type": "code",
      "source": [
        "'''FS: FEATURES AND SHAP NO ERROR '''\n",
        "columns_to_drop = ERROR_COL\n",
        "\n",
        "FS_TPFN = TPFN_init.drop(columns_to_drop, axis=1) #scaled\n",
        "FS_TNFP = TNFP_init.drop(columns_to_drop, axis=1) #scaled\n",
        "\n",
        "FS_TPFN = initialize_dataset(FS_TPFN, unscaled=True, meta_col=True, with_error_col= False, with_classes=True)\n",
        "FS_TNFP = initialize_dataset(FS_TNFP, unscaled=True, meta_col=True, with_error_col= False, with_classes=True)\n",
        "\n",
        "FS_TPFN.iloc[3]\n",
        "#FE_TNFP.iloc[3]"
      ],
      "metadata": {
        "id": "8a2F39IwZL0H"
      },
      "execution_count": null,
      "outputs": []
    },
    {
      "cell_type": "markdown",
      "source": [
        "***BASIC & SHAP KMEANS ON TPFN***"
      ],
      "metadata": {
        "id": "yAC7_HXkZ4Ma"
      }
    },
    {
      "cell_type": "code",
      "source": [
        "#Run it on TPFN_init and drop columns ERROR as you go through loop in clustering otherwise it doesn't work\n",
        "TPFN_init = initialize_dataset(TPFN_unscaled, unscaled=True, meta_col=True, with_error_col=False, with_classes=True)\n",
        "hbac_kmeans(data=TPFN_init, columns_to_drop= ['ERROR_COL'], error='FN', max_iter=300, show_plot=True)"
      ],
      "metadata": {
        "id": "fvyg_WyjBvOk"
      },
      "execution_count": null,
      "outputs": []
    },
    {
      "cell_type": "markdown",
      "source": [
        "***BASIC & SHAP ANOVA ON TPFN***"
      ],
      "metadata": {
        "id": "90ZKttYzaHBS"
      }
    },
    {
      "cell_type": "code",
      "source": [
        "#kept error_type in otherwise anova doesnt work\n",
        "groupsFS_tpfn = FS_TPFN.groupby('clusters')['Error_Type'].apply(list)\n",
        "anovaFS_tpfn = [np.array(groupsFS_tpfn) for groupsFS_tpfn in groupsSE_tpfn]\n",
        "\n",
        "f_stat, p_val = f_oneway(*anovaFS_tpfn)\n",
        "\n",
        "print('F-statistic:', f_stat)\n",
        "print('p-value:', p_val)\n",
        "\n",
        "alpha = 0.05\n",
        "if p_val < alpha:\n",
        "  print(\"there are statistically significant differences between the clusters.\")\n",
        "else:\n",
        "  print(\"there are no statistically significant differences between the clusters\")"
      ],
      "metadata": {
        "id": "SNKfBPv4LgPK"
      },
      "execution_count": null,
      "outputs": []
    },
    {
      "cell_type": "markdown",
      "source": [
        "***BASIC & SHAP KMEANS ON TNFP***"
      ],
      "metadata": {
        "id": "VOiqSQuEaJhS"
      }
    },
    {
      "cell_type": "code",
      "source": [
        "TNFP_init = initialize_dataset(TNFP_unscaled, unscaled=True, meta_col=True, with_error_col=False, with_classes=True)\n",
        "hbac_kmeans(data=TNFP_init, columns_to_drop=['ERROR_COL', 'META_COL'], error='FP', max_iter=300, show_plot=True)"
      ],
      "metadata": {
        "id": "9ZLm5zIFB8xw"
      },
      "execution_count": null,
      "outputs": []
    },
    {
      "cell_type": "markdown",
      "source": [
        "***BASIC & SHAP ANOVA ON TNFP***"
      ],
      "metadata": {
        "id": "ss9-OK4DaOBC"
      }
    },
    {
      "cell_type": "code",
      "source": [
        "#kept error_type in otherwise anova doesnt work\n",
        "groupsFS_tnfp = FS_TNFP.groupby('clusters')['FP'].apply(list)\n",
        "anovaFS_tnfp = [np.array(groupsFS_tnfp) for groupsFS_tnfp in groupsSE_tnfp]\n",
        "\n",
        "f_stat, p_val = f_oneway(*anovaFS_tnfp)\n",
        "\n",
        "print('F-statistic:', f_stat)\n",
        "print('p-value:', p_val)\n",
        "\n",
        "alpha = 0.05\n",
        "if p_val < alpha:\n",
        "  print(\"there are statistically significant differences between the clusters.\")\n",
        "else:\n",
        "  print(\"there are no statistically significant differences between the clusters\")"
      ],
      "metadata": {
        "id": "mWIfYLBlRxma"
      },
      "execution_count": null,
      "outputs": []
    },
    {
      "cell_type": "markdown",
      "source": [],
      "metadata": {
        "id": "Tt_6MrP6aQxN"
      }
    },
    {
      "cell_type": "markdown",
      "source": [
        "# ONLY SHAP COL"
      ],
      "metadata": {
        "id": "F0JbFgcaaeLj"
      }
    },
    {
      "cell_type": "code",
      "source": [
        "columns_to_drop = BASIC_COL_unscaled + DUMMY_unscaled + ERROR_COL\n",
        "S_TPFN = TPFN_init.drop(columns_to_drop, axis=1) #scaled\n",
        "S_TNFP = TNFP_init.drop(columns_to_drop, axis=1)\n",
        "\n",
        "S_TPFN.iloc[23]"
      ],
      "metadata": {
        "id": "DgGUQa87b3wH"
      },
      "execution_count": null,
      "outputs": []
    },
    {
      "cell_type": "markdown",
      "source": [
        "***SHAP KMEANS ON TPFN***"
      ],
      "metadata": {
        "id": "iOVUoxSna1vZ"
      }
    },
    {
      "cell_type": "code",
      "source": [
        "TPFN_init_S = initialize_dataset(TPFN_unscaled, unscaled=True, meta_col=True, with_error_col=False, with_classes=True)\n",
        "#pass original dataset and not SE_TPFN otherwise the clustering doesn't work\n",
        "hbac_kmeans(data = TPFN_init_S, columns_to_drop = ['BASIC_COL_unscaled', 'DUMMY_unscaled', 'ERROR_COL'], error= 'FN', max_iter = 300, show_plot= True)\n",
        "plt.show()"
      ],
      "metadata": {
        "id": "U8w5HmzrYtew"
      },
      "execution_count": null,
      "outputs": []
    },
    {
      "cell_type": "code",
      "source": [
        "MAXnegbias = get_max_bias_cluster(TPFN_init_S, bias_type='negative', baseline='all')\n",
        "#highest_biased_cluster = TPFN_init_S[TPFN_init_S['clusters'] == c]\n",
        "\n",
        "print ('cluster ID with the max negative bias is (1st score) against a minimum possible bias of (2nd score)', (max_neg_bias))\n",
        "\n",
        "MINnegbias = get_min_bias_cluster(TPFN_init_S, bias_type = 'negative', baseline = 'all')\n",
        "print ('cluster ID with the min negative bias is (1st score) against a maximum possible  ', (min_neg_bias))\n",
        "\n",
        "MAXposbias = get_max_bias_cluster(TPFN_init_S, bias_type='positive', baseline='all')\n",
        "print ('cluster ID with the max positive bias is (1st score) against a minimum possible bias of (2nd score)', (max_pos_bias))\n",
        "\n",
        "MINposbias = get_min_bias_cluster(TPFN_init_S, bias_type = 'positive', baseline = 'all')\n",
        "print ('cluster ID with the min positive bias is (1st score) against a maximum possible  ', (min_pos_bias))\n",
        "\n"
      ],
      "metadata": {
        "id": "Mi78iy49Uygd"
      },
      "execution_count": null,
      "outputs": []
    },
    {
      "cell_type": "markdown",
      "source": [
        "***SHAP ANOVA ON TPFN***"
      ],
      "metadata": {
        "id": "jLVxPgNUa5fd"
      }
    },
    {
      "cell_type": "code",
      "source": [
        "#kept error_type in otherwise anova doesnt work\n",
        "groupsS_tpfn = TPFN_init_S.groupby('clusters')['FN'].apply(list)\n",
        "\n",
        "# Check the number of groups\n",
        "print(\"Number of groups:\", len(groupsS_tpfn))\n",
        "\n",
        "anovaS_tpfn = [np.array(groupsS_tpfn) for groupsS_tpfn in groupsS_tpfn]\n",
        "\n",
        "# Proceed with ANOVA only if there are at least two groups\n",
        "if len(anovaS_tpfn) >= 2:\n",
        "    f_stat, p_val = f_oneway(*anovaS_tpfn)\n",
        "\n",
        "    print('F-statistic:', f_stat)\n",
        "    print('p-value:', p_val)\n",
        "\n",
        "    alpha = 0.05\n",
        "    if p_val < alpha:\n",
        "        print(\"there are statistically significant differences between the clusters.\")\n",
        "    else:\n",
        "        print(\"there are no statistically significant differences between the clusters\")\n",
        "else:\n",
        "    print(\"ANOVA cannot be performed with less than two groups.\")"
      ],
      "metadata": {
        "id": "EhjucG-7OMQJ"
      },
      "execution_count": null,
      "outputs": []
    },
    {
      "cell_type": "markdown",
      "source": [
        "***SHAP KMEANS ON TNFP***"
      ],
      "metadata": {
        "id": "ea1UDmdEa-wt"
      }
    },
    {
      "cell_type": "code",
      "source": [
        "TNFP_init = initialize_dataset(TNFP_unscaled, unscaled=True, meta_col=True, with_error_col=False, with_classes=True)\n",
        "hbac_kmeans(data = TNFP_init, columns_to_drop = ['BASIC_COL_unscaled', 'DUMMY_unscaled', 'ERROR_COL'], error= 'FP', max_iter = 300, show_plot= True)\n",
        "plt.show()"
      ],
      "metadata": {
        "id": "I_jRNKq9cDCT"
      },
      "execution_count": null,
      "outputs": []
    },
    {
      "cell_type": "code",
      "source": [
        "max_neg_bias = get_max_bias_cluster(TPFN_init_S, bias_type='negative', baseline='all')\n",
        "#highest_biased_cluster = TPFN_init_S[TPFN_init_S['clusters'] == c]\n",
        "\n",
        "print ('cluster ID with the max negative bias is (1st score) against a minimum possible bias of (2nd score)', (max_neg_bias))\n",
        "\n",
        "min_neg_bias = get_min_bias_cluster(TPFN_init_S, bias_type = 'negative', baseline = 'all')\n",
        "print ('cluster ID with the min negative bias is (1st score) against a maximum possible  ', (min_neg_bias))\n",
        "\n",
        "max_pos_bias = get_max_bias_cluster(TPFN_init_S, bias_type='positive', baseline='all')\n",
        "print ('cluster ID with the max positive bias is (1st score) against a minimum possible bias of (2nd score)', (max_pos_bias))\n",
        "\n",
        "min_pos_bias = get_min_bias_cluster(TPFN_init_S, bias_type = 'positive', baseline = 'all')\n",
        "print ('cluster ID with the min positive bias is (1st score) against a maximum possible  ', (min_pos_bias))\n",
        "\n"
      ],
      "metadata": {
        "id": "swNoy_gBZpC5"
      },
      "execution_count": null,
      "outputs": []
    },
    {
      "cell_type": "markdown",
      "source": [
        "***SHAP ANOVA ON TNFP***"
      ],
      "metadata": {
        "id": "F2VMD_1obCFf"
      }
    },
    {
      "cell_type": "markdown",
      "source": [
        "# ONLY BASIC COL"
      ],
      "metadata": {
        "id": "8leexXWfax1X"
      }
    },
    {
      "cell_type": "markdown",
      "source": [
        "***BASIC KMEANS ON TPFN***"
      ],
      "metadata": {
        "id": "vTVYFxxBbN8Z"
      }
    },
    {
      "cell_type": "markdown",
      "source": [
        "***BASIC ANOVA ON TPFN***"
      ],
      "metadata": {
        "id": "CAEpgQZMbRVr"
      }
    },
    {
      "cell_type": "markdown",
      "source": [
        "***BASIC KMEANS ON TNFP***"
      ],
      "metadata": {
        "id": "c2wsECfJbUs7"
      }
    },
    {
      "cell_type": "markdown",
      "source": [
        "***BASIC ANOVA ON TNFP***"
      ],
      "metadata": {
        "id": "bPkq8Ky7bYmw"
      }
    }
  ]
}