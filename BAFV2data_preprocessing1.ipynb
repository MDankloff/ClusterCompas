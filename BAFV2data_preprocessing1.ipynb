{
  "nbformat": 4,
  "nbformat_minor": 0,
  "metadata": {
    "colab": {
      "provenance": [],
      "collapsed_sections": [
        "7-kBpl4bJH9b"
      ],
      "toc_visible": true,
      "authorship_tag": "ABX9TyNBtCTPTTHDGHsLhju2W7Ac",
      "include_colab_link": true
    },
    "kernelspec": {
      "name": "python3",
      "display_name": "Python 3"
    },
    "language_info": {
      "name": "python"
    }
  },
  "cells": [
    {
      "cell_type": "markdown",
      "metadata": {
        "id": "view-in-github",
        "colab_type": "text"
      },
      "source": [
        "<a href=\"https://colab.research.google.com/github/MDankloff/ClusterCompas/blob/main/BAFV2data_preprocessing1.ipynb\" target=\"_parent\"><img src=\"https://colab.research.google.com/assets/colab-badge.svg\" alt=\"Open In Colab\"/></a>"
      ]
    },
    {
      "cell_type": "markdown",
      "source": [
        "# Libraries"
      ],
      "metadata": {
        "id": "7-kBpl4bJH9b"
      }
    },
    {
      "cell_type": "code",
      "execution_count": 1,
      "metadata": {
        "id": "d17HlBJaIX6e",
        "colab": {
          "base_uri": "https://localhost:8080/"
        },
        "outputId": "f9ffd1e7-6132-460f-c730-9bbdad1a137a"
      },
      "outputs": [
        {
          "output_type": "stream",
          "name": "stderr",
          "text": [
            "/usr/local/lib/python3.10/dist-packages/dask/dataframe/__init__.py:42: FutureWarning: \n",
            "Dask dataframe query planning is disabled because dask-expr is not installed.\n",
            "\n",
            "You can install it with `pip install dask[dataframe]` or `conda install dask`.\n",
            "This will raise in a future version.\n",
            "\n",
            "  warnings.warn(msg, FutureWarning)\n"
          ]
        }
      ],
      "source": [
        "import pickle\n",
        "import lightgbm as lgbm\n",
        "import pandas as pd\n",
        "import numpy as np\n",
        "import matplotlib.pyplot as plt\n",
        "import seaborn as sns\n",
        "import yaml\n",
        "import glob\n",
        "import random\n",
        "import os\n",
        "import joblib\n",
        "from sklearn.preprocessing import StandardScaler, LabelEncoder\n",
        "from sklearn.model_selection import train_test_split\n",
        "from sklearn.ensemble import RandomForestClassifier\n",
        "from sklearn.metrics import accuracy_score, precision_recall_fscore_support, confusion_matrix, roc_auc_score\n",
        "from sklearn.utils import resample"
      ]
    },
    {
      "cell_type": "code",
      "source": [
        "!pip install dask[dataframe]"
      ],
      "metadata": {
        "colab": {
          "base_uri": "https://localhost:8080/"
        },
        "id": "Cr6GvrPBJrHd",
        "outputId": "e65dbf43-05f2-4317-b817-f20e1dad077e"
      },
      "execution_count": 2,
      "outputs": [
        {
          "output_type": "stream",
          "name": "stdout",
          "text": [
            "Requirement already satisfied: dask[dataframe] in /usr/local/lib/python3.10/dist-packages (2024.10.0)\n",
            "Requirement already satisfied: click>=8.1 in /usr/local/lib/python3.10/dist-packages (from dask[dataframe]) (8.1.8)\n",
            "Requirement already satisfied: cloudpickle>=3.0.0 in /usr/local/lib/python3.10/dist-packages (from dask[dataframe]) (3.1.0)\n",
            "Requirement already satisfied: fsspec>=2021.09.0 in /usr/local/lib/python3.10/dist-packages (from dask[dataframe]) (2024.10.0)\n",
            "Requirement already satisfied: packaging>=20.0 in /usr/local/lib/python3.10/dist-packages (from dask[dataframe]) (24.2)\n",
            "Requirement already satisfied: partd>=1.4.0 in /usr/local/lib/python3.10/dist-packages (from dask[dataframe]) (1.4.2)\n",
            "Requirement already satisfied: pyyaml>=5.3.1 in /usr/local/lib/python3.10/dist-packages (from dask[dataframe]) (6.0.2)\n",
            "Requirement already satisfied: toolz>=0.10.0 in /usr/local/lib/python3.10/dist-packages (from dask[dataframe]) (0.12.1)\n",
            "Requirement already satisfied: importlib-metadata>=4.13.0 in /usr/local/lib/python3.10/dist-packages (from dask[dataframe]) (8.5.0)\n",
            "Requirement already satisfied: pandas>=2.0 in /usr/local/lib/python3.10/dist-packages (from dask[dataframe]) (2.2.2)\n",
            "Collecting dask-expr<1.2,>=1.1 (from dask[dataframe])\n",
            "  Downloading dask_expr-1.1.21-py3-none-any.whl.metadata (2.6 kB)\n",
            "INFO: pip is looking at multiple versions of dask-expr to determine which version is compatible with other requirements. This could take a while.\n",
            "  Downloading dask_expr-1.1.20-py3-none-any.whl.metadata (2.6 kB)\n",
            "  Downloading dask_expr-1.1.19-py3-none-any.whl.metadata (2.6 kB)\n",
            "  Downloading dask_expr-1.1.18-py3-none-any.whl.metadata (2.6 kB)\n",
            "  Downloading dask_expr-1.1.16-py3-none-any.whl.metadata (2.5 kB)\n",
            "Requirement already satisfied: pyarrow>=14.0.1 in /usr/local/lib/python3.10/dist-packages (from dask-expr<1.2,>=1.1->dask[dataframe]) (17.0.0)\n",
            "Requirement already satisfied: zipp>=3.20 in /usr/local/lib/python3.10/dist-packages (from importlib-metadata>=4.13.0->dask[dataframe]) (3.21.0)\n",
            "Requirement already satisfied: numpy>=1.22.4 in /usr/local/lib/python3.10/dist-packages (from pandas>=2.0->dask[dataframe]) (1.26.4)\n",
            "Requirement already satisfied: python-dateutil>=2.8.2 in /usr/local/lib/python3.10/dist-packages (from pandas>=2.0->dask[dataframe]) (2.8.2)\n",
            "Requirement already satisfied: pytz>=2020.1 in /usr/local/lib/python3.10/dist-packages (from pandas>=2.0->dask[dataframe]) (2024.2)\n",
            "Requirement already satisfied: tzdata>=2022.7 in /usr/local/lib/python3.10/dist-packages (from pandas>=2.0->dask[dataframe]) (2024.2)\n",
            "Requirement already satisfied: locket in /usr/local/lib/python3.10/dist-packages (from partd>=1.4.0->dask[dataframe]) (1.0.0)\n",
            "Requirement already satisfied: six>=1.5 in /usr/local/lib/python3.10/dist-packages (from python-dateutil>=2.8.2->pandas>=2.0->dask[dataframe]) (1.17.0)\n",
            "Downloading dask_expr-1.1.16-py3-none-any.whl (243 kB)\n",
            "\u001b[2K   \u001b[90m━━━━━━━━━━━━━━━━━━━━━━━━━━━━━━━━━━━━━━━━\u001b[0m \u001b[32m243.2/243.2 kB\u001b[0m \u001b[31m3.8 MB/s\u001b[0m eta \u001b[36m0:00:00\u001b[0m\n",
            "\u001b[?25hInstalling collected packages: dask-expr\n",
            "Successfully installed dask-expr-1.1.16\n"
          ]
        }
      ]
    },
    {
      "cell_type": "code",
      "source": [
        "from google.colab import drive\n",
        "drive.mount('/content/drive')\n",
        "! cd '/content/drive/MyDrive/Mirthe_Supervision /Paper#3/BAF'\n"
      ],
      "metadata": {
        "colab": {
          "base_uri": "https://localhost:8080/"
        },
        "id": "L4pLQWb0JbOa",
        "outputId": "91b04d98-3036-47bc-c9e1-150a9b93d7a2"
      },
      "execution_count": 3,
      "outputs": [
        {
          "output_type": "stream",
          "name": "stdout",
          "text": [
            "Mounted at /content/drive\n"
          ]
        }
      ]
    },
    {
      "cell_type": "markdown",
      "source": [
        "# LOAD DATA & MODEL"
      ],
      "metadata": {
        "id": "XJMqPwdAKX1j"
      }
    },
    {
      "cell_type": "code",
      "source": [
        "base_path = '/content/drive/MyDrive/Mirthe_Supervision /Paper#3/BAF/parquet data'\n",
        "\n",
        "extension = \"parquet\" #for smaller \"parquet\" depending on the downloaded file\n",
        "data_paths = glob.glob(f\"{base_path}/*.{extension}\")\n",
        "\n",
        "def read_dataset(path, ext = extension):\n",
        "    if ext == \"csv\":\n",
        "      return pd.read_csv(path)\n",
        "    elif ext == \"parquet\":\n",
        "      return pd.read_parquet(path)\n",
        "    else:\n",
        "      raise ValueError(f\"Unsupported file extension: {ext}\")\n",
        "\n",
        "# Extract variant name from the file path (without the extension)\n",
        "def get_variant(path):\n",
        "    return os.path.basename(path).split(\".\")[0]\n",
        "\n",
        "# Dictionary comprehension to read all CSV files into a dictionary of DataFrames\n",
        "dataframes = {\n",
        "    get_variant(path): read_dataset(path) for path in data_paths\n",
        "}\n",
        "print(f\"Loaded datasets: {list(dataframes.keys())}\")\n",
        "\n",
        "datasets_paths = {\n",
        "    \"Base\": base_path + \"/Base.parquet\", # sampled to best represent original dataset\n",
        "    \"Variant I\": base_path + \"/Variant I.parquet\", # higher group size disparity than base - reducing the size of the minority group from approx 20 - 10% of the dataset\n",
        "    \"Variant II\": base_path + \"/Variant II.parquet\", # higher prevalence disparity than base - one group has 5 x the fraud detection rate of the other while group sizes are equal\n",
        "    \"Variant III\": base_path + \"/Variant III.parquet\", # better separability for one of the groups -\n",
        "    \"Variant IV\": base_path + \"/Variant IV.parquet\", # higher prevalence disparity in train\n",
        "    \"Variant V\": base_path + \"/Variant V.parquet\", # better separability in train for one of the groups\n",
        "}\n"
      ],
      "metadata": {
        "colab": {
          "base_uri": "https://localhost:8080/"
        },
        "id": "neIazZ_YKW4U",
        "outputId": "e649c8be-745d-4aa4-97ed-80e0aaa0b9fb"
      },
      "execution_count": 4,
      "outputs": [
        {
          "output_type": "stream",
          "name": "stdout",
          "text": [
            "Loaded datasets: ['Base', 'Variant I', 'Variant II', 'Variant III', 'Variant IV', 'Variant V']\n"
          ]
        }
      ]
    },
    {
      "cell_type": "markdown",
      "source": [
        "load best light gbm model from variant 2"
      ],
      "metadata": {
        "id": "X1FRyv0BMCa5"
      }
    },
    {
      "cell_type": "code",
      "source": [
        "# directory containing the model files\n",
        "model_dir = '/content/drive/MyDrive/Mirthe_Supervision /Paper#3/BAF/Best Model per Variant/Accuracy'\n",
        "\n",
        "# Get list of all model files in the directory\n",
        "model_files = glob.glob(os.path.join(model_dir, '*.pkl'))\n",
        "\n",
        "# Dictionary to store loaded models\n",
        "models = {}\n",
        "\n",
        "# Load all models from the directory and save them to the dictionary\n",
        "for model_file in model_files:\n",
        "    # Load the model\n",
        "    with open(model_file, 'rb') as f:\n",
        "        model = joblib.load(f)\n",
        "\n",
        "    # Extract the model name from the file path (without extension)\n",
        "    model_name = os.path.basename(model_file).split('.')[0]\n",
        "\n",
        "    # Add the model to the dictionary\n",
        "    models[model_name] = model\n",
        "\n",
        "    # Optional: Save the model back (though it seems redundant here)\n",
        "    save_path = os.path.join(model_dir, f'{model_name}.pkl')\n",
        "    joblib.dump(model, save_path)\n",
        "\n",
        "    print(f\"Model '{model_name}' loaded and saved to: {save_path}\")\n",
        "\n",
        "# Accessing the best model for variant 2\n",
        "modelv2 = models.get(\"model_Variant II_top_4\")\n",
        "\n",
        "print(modelv2)"
      ],
      "metadata": {
        "colab": {
          "base_uri": "https://localhost:8080/"
        },
        "id": "7TPNV8ABKsLt",
        "outputId": "1b958669-3879-4961-d006-d03294c4762b"
      },
      "execution_count": 5,
      "outputs": [
        {
          "output_type": "stream",
          "name": "stdout",
          "text": [
            "Model 'model_Variant II_top_4' loaded and saved to: /content/drive/MyDrive/Mirthe_Supervision /Paper#3/BAF/Best Model per Variant/Accuracy/model_Variant II_top_4.pkl\n",
            "Model 'model_Base_top_4' loaded and saved to: /content/drive/MyDrive/Mirthe_Supervision /Paper#3/BAF/Best Model per Variant/Accuracy/model_Base_top_4.pkl\n",
            "Model 'model_Variant I_top_4' loaded and saved to: /content/drive/MyDrive/Mirthe_Supervision /Paper#3/BAF/Best Model per Variant/Accuracy/model_Variant I_top_4.pkl\n",
            "Model 'model_Variant V_top_0' loaded and saved to: /content/drive/MyDrive/Mirthe_Supervision /Paper#3/BAF/Best Model per Variant/Accuracy/model_Variant V_top_0.pkl\n",
            "Model 'model_Variant III_top_0' loaded and saved to: /content/drive/MyDrive/Mirthe_Supervision /Paper#3/BAF/Best Model per Variant/Accuracy/model_Variant III_top_0.pkl\n",
            "Model 'model_Variant IV_top_6' loaded and saved to: /content/drive/MyDrive/Mirthe_Supervision /Paper#3/BAF/Best Model per Variant/Accuracy/model_Variant IV_top_6.pkl\n",
            "LGBMClassifier(boosting_type='goss', enable_bundle=True,\n",
            "               learning_rate=0.06070433398329268, max_bin=496, max_depth=30,\n",
            "               min_data_in_leaf=48, n_estimators=227, n_jobs=10, num_leaves=43)\n"
          ]
        }
      ]
    },
    {
      "cell_type": "markdown",
      "source": [
        "# Explore data"
      ],
      "metadata": {
        "id": "WX2IA38aMY6l"
      }
    },
    {
      "cell_type": "code",
      "source": [
        "#rename dataset variant 2 and create a copy\n",
        "v2 = dataframes[\"Variant II\"]\n",
        "v2_old = v2.copy()"
      ],
      "metadata": {
        "id": "_bSoNyKtMd1-"
      },
      "execution_count": 6,
      "outputs": []
    },
    {
      "cell_type": "code",
      "source": [
        "pd.set_option('display.max_columns', 50) # Increase the maximum number of columns displayed in Pandas to 50\n",
        "pd.set_option('display.max_rows', 50)\n",
        "v2.info()"
      ],
      "metadata": {
        "colab": {
          "base_uri": "https://localhost:8080/"
        },
        "id": "wUpuRlBjMebe",
        "outputId": "9a39845b-545f-4283-933f-96eb07bee207"
      },
      "execution_count": 7,
      "outputs": [
        {
          "output_type": "stream",
          "name": "stdout",
          "text": [
            "<class 'pandas.core.frame.DataFrame'>\n",
            "RangeIndex: 1000000 entries, 0 to 999999\n",
            "Data columns (total 32 columns):\n",
            " #   Column                            Non-Null Count    Dtype  \n",
            "---  ------                            --------------    -----  \n",
            " 0   fraud_bool                        1000000 non-null  int64  \n",
            " 1   income                            1000000 non-null  float64\n",
            " 2   name_email_similarity             1000000 non-null  float64\n",
            " 3   prev_address_months_count         1000000 non-null  int64  \n",
            " 4   current_address_months_count      1000000 non-null  int64  \n",
            " 5   customer_age                      1000000 non-null  int64  \n",
            " 6   days_since_request                1000000 non-null  float64\n",
            " 7   intended_balcon_amount            1000000 non-null  float64\n",
            " 8   payment_type                      1000000 non-null  object \n",
            " 9   zip_count_4w                      1000000 non-null  int64  \n",
            " 10  velocity_6h                       1000000 non-null  float64\n",
            " 11  velocity_24h                      1000000 non-null  float64\n",
            " 12  velocity_4w                       1000000 non-null  float64\n",
            " 13  bank_branch_count_8w              1000000 non-null  int64  \n",
            " 14  date_of_birth_distinct_emails_4w  1000000 non-null  int64  \n",
            " 15  employment_status                 1000000 non-null  object \n",
            " 16  credit_risk_score                 1000000 non-null  int64  \n",
            " 17  email_is_free                     1000000 non-null  int64  \n",
            " 18  housing_status                    1000000 non-null  object \n",
            " 19  phone_home_valid                  1000000 non-null  int64  \n",
            " 20  phone_mobile_valid                1000000 non-null  int64  \n",
            " 21  bank_months_count                 1000000 non-null  int64  \n",
            " 22  has_other_cards                   1000000 non-null  int64  \n",
            " 23  proposed_credit_limit             1000000 non-null  float64\n",
            " 24  foreign_request                   1000000 non-null  int64  \n",
            " 25  source                            1000000 non-null  object \n",
            " 26  session_length_in_minutes         1000000 non-null  float64\n",
            " 27  device_os                         1000000 non-null  object \n",
            " 28  keep_alive_session                1000000 non-null  int64  \n",
            " 29  device_distinct_emails_8w         1000000 non-null  int64  \n",
            " 30  device_fraud_count                1000000 non-null  int64  \n",
            " 31  month                             1000000 non-null  int64  \n",
            "dtypes: float64(9), int64(18), object(5)\n",
            "memory usage: 244.1+ MB\n"
          ]
        }
      ]
    },
    {
      "cell_type": "code",
      "source": [
        "v2['payment_type'].unique() #remove because anonymized\n",
        "v2['days_since_request'].unique() #remove because unclear values"
      ],
      "metadata": {
        "colab": {
          "base_uri": "https://localhost:8080/"
        },
        "id": "vsqk1Jm3Qly0",
        "outputId": "4522e130-94f5-4125-a094-7fcff54fb0e4"
      },
      "execution_count": 8,
      "outputs": [
        {
          "output_type": "execute_result",
          "data": {
            "text/plain": [
              "array([0.01673985, 0.01900183, 0.04706417, ..., 0.03555377, 0.02066269,\n",
              "       0.0074784 ])"
            ]
          },
          "metadata": {},
          "execution_count": 8
        }
      ]
    },
    {
      "cell_type": "code",
      "source": [
        "print(v2['days_since_request'])"
      ],
      "metadata": {
        "colab": {
          "base_uri": "https://localhost:8080/"
        },
        "id": "jsTgORz1RPpN",
        "outputId": "d5a7c031-6848-4fec-b8af-d56eca52ec4f"
      },
      "execution_count": 9,
      "outputs": [
        {
          "output_type": "stream",
          "name": "stdout",
          "text": [
            "0         0.016740\n",
            "1         0.019002\n",
            "2         0.047064\n",
            "3         0.008007\n",
            "4         2.513544\n",
            "            ...   \n",
            "999995    0.001835\n",
            "999996    0.023952\n",
            "999997    0.035554\n",
            "999998    0.020663\n",
            "999999    0.007478\n",
            "Name: days_since_request, Length: 1000000, dtype: float64\n"
          ]
        }
      ]
    },
    {
      "cell_type": "code",
      "source": [
        "v2_old['source'].unique()\n",
        "v2_old['device_os'].unique()\n",
        "v2_old['keep_alive_session'].unique()\n",
        "#v2_old['device_fraud_count'].unique()"
      ],
      "metadata": {
        "colab": {
          "base_uri": "https://localhost:8080/"
        },
        "id": "vlhNYX2fRyMQ",
        "outputId": "5f34bd3e-2c80-4cbf-f501-3a4e33ce862e"
      },
      "execution_count": 10,
      "outputs": [
        {
          "output_type": "execute_result",
          "data": {
            "text/plain": [
              "array([0, 1])"
            ]
          },
          "metadata": {},
          "execution_count": 10
        }
      ]
    },
    {
      "cell_type": "code",
      "source": [
        "1 in v2_old['device_fraud_count'].unique()"
      ],
      "metadata": {
        "colab": {
          "base_uri": "https://localhost:8080/"
        },
        "id": "TMJk5viqdtGL",
        "outputId": "64e9dcf2-5b80-4e12-b33a-fcd142cfb131"
      },
      "execution_count": 11,
      "outputs": [
        {
          "output_type": "execute_result",
          "data": {
            "text/plain": [
              "False"
            ]
          },
          "metadata": {},
          "execution_count": 11
        }
      ]
    },
    {
      "cell_type": "code",
      "source": [
        "v2_old['device_os'].unique()"
      ],
      "metadata": {
        "colab": {
          "base_uri": "https://localhost:8080/"
        },
        "id": "L4WkRQ-HNf_B",
        "outputId": "a92e6ad2-ff48-4e38-dbad-9a135b4a8585"
      },
      "execution_count": 12,
      "outputs": [
        {
          "output_type": "execute_result",
          "data": {
            "text/plain": [
              "array(['other', 'macintosh', 'linux', 'windows', 'x11'], dtype=object)"
            ]
          },
          "metadata": {},
          "execution_count": 12
        }
      ]
    },
    {
      "cell_type": "markdown",
      "source": [
        "Master dataset"
      ],
      "metadata": {
        "id": "3FWW5CM7Mba0"
      }
    },
    {
      "cell_type": "code",
      "source": [
        "#Master dataset\n",
        "#FEATURES\n",
        "META = ['clusters', 'new_clusters']\n",
        "ERROR = ['errors', 'TP', 'TN', 'FN', 'FP']\n",
        "REG = ['bank_branch_count_8w',\n",
        "       #'credit_risk_score',\n",
        "       'device_os','month', 'session_length_in_minutes', 'email_is_free',\n",
        "       'proposed_credit_limit',\n",
        "       'name_email_similarity',\n",
        "      'zip_count_4w', 'date_of_birth_distinct_emails_4w', 'phone_mobile_valid', 'has_other_cards', 'foreign_request']\n",
        "SEN = ['customer_age', 'income'] #protected attributes in BAF paper also employment_status\n",
        "DUMMY = ['source_INTERNET', 'source_TELEAPP', 'device_os_other', 'device_os_macintosh','device_os_linux','device_os_windows', 'device_os_x11']\n",
        "\n",
        "#FEATURES SCALED\n",
        "ERROR_scaled = ['errors_scaled']\n",
        "REG_scaled = ['bank_branch_count_8w_scaled',\n",
        "              #'credit_risk_score_scaled',\n",
        "              #'device_os_scaled', dummied\n",
        "              'month_scaled', 'session_length_in_minutes_scaled',\n",
        "              'email_is_free_scaled',\n",
        "              'proposed_credit_limit_scaled',\n",
        "              'name_email_similarity_scaled',\n",
        "              'zip_count_4w_scaled',\n",
        "              'date_of_birth_distinct_emails_4w_scaled','has_other_cards_scaled', 'foreign_request_scaled']\n",
        "SEN_scaled = ['customer_age_scaled', 'income_scaled']\n",
        "DUMMY_scaled = ['source_INTERNET_scaled', 'source_TELEAPP_scaled', 'device_os_other_scaled', 'device_os_macintosh_scaled', 'device_os_linux_scaled', 'device_os_windows_scaled', 'device_os_x11_scaled']\n",
        "\n",
        "\n",
        "#SHAP FEATURES\n",
        "SHAP_REG = [\n",
        "    'Shap_bank_branch_count_8w',\n",
        "    #'Shap_credit_risk_score',\n",
        "    #'Shap_device_os',\n",
        "    'Shap_month',\n",
        "    'Shap_session_length_in_minutes', 'Shap_email_is_free',\n",
        "    'Shap_proposed_credit_limit', 'Shap_name_email_similarity',\n",
        "    'Shap_zip_count_4w', 'Shap_date_of_birth_distinct_emails_4w',\n",
        "    'Shap_phone_mobile_valid', 'Shap_has_other_cards', 'Shap_foreign_request'\n",
        "]\n",
        "\n",
        "SHAP_SEN = ['Shap_customer_age', 'Shap_income']\n",
        "\n",
        "SHAP_DUMMY = [\n",
        "    'Shap_source_INTERNET', 'Shap_source_TELEAPP',\n",
        "    'Shap_device_os_other', 'Shap_device_os_macintosh',\n",
        "    'Shap_device_os_linux', 'Shap_device_os_windows', 'Shap_device_os_x11'\n",
        "]\n",
        "\n",
        "#SHAP FEATURES SCALED\n",
        "SHAP_REG_scaled = [\n",
        "    'Shap_bank_branch_count_8w_scaled',\n",
        "    #'Shap_credit_risk_score_scaled',\n",
        "    #'Shap_device_os_scaled',\n",
        "    'Shap_month_scaled', 'Shap_session_length_in_minutes_scaled',\n",
        "    'Shap_email_is_free_scaled', 'Shap_proposed_credit_limit_scaled',\n",
        "    'Shap_name_email_similarity_scaled', 'Shap_zip_count_4w_scaled',\n",
        "    'Shap_date_of_birth_distinct_emails_4w_scaled',\n",
        "    'Shap_phone_mobile_valid_scaled', 'Shap_has_other_cards_scaled',\n",
        "    'Shap_foreign_request_scaled'\n",
        "]\n",
        "\n",
        "SHAP_SEN_scaled = ['Shap_customer_age_scaled', 'Shap_income_scaled']\n",
        "\n",
        "SHAP_DUMMY_scaled = [\n",
        "    'Shap_source_INTERNET_scaled', 'Shap_source_TELEAPP_scaled',\n",
        "    'Shap_device_os_other_scaled', 'Shap_device_os_macintosh_scaled',\n",
        "    'Shap_device_os_linux_scaled', 'Shap_device_os_windows_scaled',\n",
        "    'Shap_device_os_x11_scaled'\n",
        "]\n",
        "\n",
        "'''removed features = 'device_fraud_count', 'intended_balcon_amount', 'payment_type', 'days_since_request',\n",
        "'velocity_6h', 'velocity_24h', 'velocity_4w', 'keep_alive_session', 'prev_address_months_count"
      ],
      "metadata": {
        "colab": {
          "base_uri": "https://localhost:8080/",
          "height": 73
        },
        "id": "VMmJHJ07MqTu",
        "outputId": "a4ec855a-a42c-4cec-eab8-41df323c9853"
      },
      "execution_count": 13,
      "outputs": [
        {
          "output_type": "execute_result",
          "data": {
            "text/plain": [
              "\"removed features = 'device_fraud_count', 'intended_balcon_amount', 'payment_type', 'days_since_request',\\n'velocity_6h', 'velocity_24h', 'velocity_4w', 'keep_alive_session', 'prev_address_months_count', 'current_address_months_count', 'phone_home_valid',\\n'bank_months_count', 'device_distinct_emails_8w', 'housing_status', 'employment_status' \""
            ],
            "application/vnd.google.colaboratory.intrinsic+json": {
              "type": "string"
            }
          },
          "metadata": {},
          "execution_count": 13
        }
      ]
    },
    {
      "cell_type": "code",
      "source": [
        "#v2_old['housing_status'].unique()\n",
        "#v2_old['employment_status'].unique()\n",
        "#v2_old['source'].unique()\n",
        "v2_old['device_os'].unique()"
      ],
      "metadata": {
        "colab": {
          "base_uri": "https://localhost:8080/"
        },
        "id": "JrFheRIP3X8l",
        "outputId": "c3b4b5b1-4efb-4307-cc11-f7083d702fc2"
      },
      "execution_count": 14,
      "outputs": [
        {
          "output_type": "execute_result",
          "data": {
            "text/plain": [
              "array(['other', 'macintosh', 'linux', 'windows', 'x11'], dtype=object)"
            ]
          },
          "metadata": {},
          "execution_count": 14
        }
      ]
    },
    {
      "cell_type": "markdown",
      "source": [
        "Remove features"
      ],
      "metadata": {
        "id": "MnrVb8tyMKQl"
      }
    },
    {
      "cell_type": "code",
      "source": [
        "features_to_remove = ['credit_risk_score', 'device_fraud_count', 'intended_balcon_amount', 'payment_type', 'days_since_request',\n",
        "'velocity_6h', 'velocity_24h', 'velocity_4w', 'keep_alive_session', 'prev_address_months_count', 'current_address_months_count',\n",
        "                      'phone_home_valid', 'bank_months_count', 'device_distinct_emails_8w', 'housing_status', 'employment_status']\n",
        "\n",
        "v2 = v2.drop(columns = features_to_remove)"
      ],
      "metadata": {
        "id": "4jbrTmtZVva0"
      },
      "execution_count": 15,
      "outputs": []
    },
    {
      "cell_type": "code",
      "source": [
        "v2.info()"
      ],
      "metadata": {
        "colab": {
          "base_uri": "https://localhost:8080/"
        },
        "id": "OpjxnptjWT6Q",
        "outputId": "c4124be6-93bc-41a4-f903-d86f6de7e719"
      },
      "execution_count": 16,
      "outputs": [
        {
          "output_type": "stream",
          "name": "stdout",
          "text": [
            "<class 'pandas.core.frame.DataFrame'>\n",
            "RangeIndex: 1000000 entries, 0 to 999999\n",
            "Data columns (total 16 columns):\n",
            " #   Column                            Non-Null Count    Dtype  \n",
            "---  ------                            --------------    -----  \n",
            " 0   fraud_bool                        1000000 non-null  int64  \n",
            " 1   income                            1000000 non-null  float64\n",
            " 2   name_email_similarity             1000000 non-null  float64\n",
            " 3   customer_age                      1000000 non-null  int64  \n",
            " 4   zip_count_4w                      1000000 non-null  int64  \n",
            " 5   bank_branch_count_8w              1000000 non-null  int64  \n",
            " 6   date_of_birth_distinct_emails_4w  1000000 non-null  int64  \n",
            " 7   email_is_free                     1000000 non-null  int64  \n",
            " 8   phone_mobile_valid                1000000 non-null  int64  \n",
            " 9   has_other_cards                   1000000 non-null  int64  \n",
            " 10  proposed_credit_limit             1000000 non-null  float64\n",
            " 11  foreign_request                   1000000 non-null  int64  \n",
            " 12  source                            1000000 non-null  object \n",
            " 13  session_length_in_minutes         1000000 non-null  float64\n",
            " 14  device_os                         1000000 non-null  object \n",
            " 15  month                             1000000 non-null  int64  \n",
            "dtypes: float64(4), int64(10), object(2)\n",
            "memory usage: 122.1+ MB\n"
          ]
        }
      ]
    },
    {
      "cell_type": "code",
      "source": [
        "#get a smaller sample approx like compas\n",
        "v2_sample = v2.sample(n= 8000, random_state = 42)"
      ],
      "metadata": {
        "id": "RC5wJD3ggjWH"
      },
      "execution_count": 17,
      "outputs": []
    },
    {
      "cell_type": "code",
      "source": [
        "v2_sample.info()"
      ],
      "metadata": {
        "colab": {
          "base_uri": "https://localhost:8080/"
        },
        "id": "2ENg1TLLgy-C",
        "outputId": "bee95707-917c-40e5-924c-ecbea3debeb6"
      },
      "execution_count": 18,
      "outputs": [
        {
          "output_type": "stream",
          "name": "stdout",
          "text": [
            "<class 'pandas.core.frame.DataFrame'>\n",
            "Index: 8000 entries, 987231 to 534950\n",
            "Data columns (total 16 columns):\n",
            " #   Column                            Non-Null Count  Dtype  \n",
            "---  ------                            --------------  -----  \n",
            " 0   fraud_bool                        8000 non-null   int64  \n",
            " 1   income                            8000 non-null   float64\n",
            " 2   name_email_similarity             8000 non-null   float64\n",
            " 3   customer_age                      8000 non-null   int64  \n",
            " 4   zip_count_4w                      8000 non-null   int64  \n",
            " 5   bank_branch_count_8w              8000 non-null   int64  \n",
            " 6   date_of_birth_distinct_emails_4w  8000 non-null   int64  \n",
            " 7   email_is_free                     8000 non-null   int64  \n",
            " 8   phone_mobile_valid                8000 non-null   int64  \n",
            " 9   has_other_cards                   8000 non-null   int64  \n",
            " 10  proposed_credit_limit             8000 non-null   float64\n",
            " 11  foreign_request                   8000 non-null   int64  \n",
            " 12  source                            8000 non-null   object \n",
            " 13  session_length_in_minutes         8000 non-null   float64\n",
            " 14  device_os                         8000 non-null   object \n",
            " 15  month                             8000 non-null   int64  \n",
            "dtypes: float64(4), int64(10), object(2)\n",
            "memory usage: 1.0+ MB\n"
          ]
        }
      ]
    },
    {
      "cell_type": "code",
      "source": [
        "'''missing_values = v2_sample.isna()\n",
        "print(missing_values)'''"
      ],
      "metadata": {
        "colab": {
          "base_uri": "https://localhost:8080/",
          "height": 36
        },
        "id": "MeQj0gG90WmU",
        "outputId": "31f6c4b0-bc32-4039-d230-b12e140c5908"
      },
      "execution_count": 19,
      "outputs": [
        {
          "output_type": "execute_result",
          "data": {
            "text/plain": [
              "'missing_values = v2_sample.isna()\\nprint(missing_values)'"
            ],
            "application/vnd.google.colaboratory.intrinsic+json": {
              "type": "string"
            }
          },
          "metadata": {},
          "execution_count": 19
        }
      ]
    },
    {
      "cell_type": "code",
      "source": [
        "#print(v2_sample.loc[534950])"
      ],
      "metadata": {
        "id": "8EhvJvf_04fk"
      },
      "execution_count": 20,
      "outputs": []
    },
    {
      "cell_type": "markdown",
      "source": [
        "Get dummies for objects"
      ],
      "metadata": {
        "id": "QNpgB08vMfUN"
      }
    },
    {
      "cell_type": "code",
      "source": [
        "dummy_cols = ['source', 'device_os']\n",
        "v2_sample = pd.get_dummies(v2_sample, columns = dummy_cols)\n",
        "v2_sample.info()"
      ],
      "metadata": {
        "colab": {
          "base_uri": "https://localhost:8080/"
        },
        "id": "8CDVUOW2MeZJ",
        "outputId": "1ddc1d52-4169-4518-d214-d88bbff5a75c"
      },
      "execution_count": 21,
      "outputs": [
        {
          "output_type": "stream",
          "name": "stdout",
          "text": [
            "<class 'pandas.core.frame.DataFrame'>\n",
            "Index: 8000 entries, 987231 to 534950\n",
            "Data columns (total 21 columns):\n",
            " #   Column                            Non-Null Count  Dtype  \n",
            "---  ------                            --------------  -----  \n",
            " 0   fraud_bool                        8000 non-null   int64  \n",
            " 1   income                            8000 non-null   float64\n",
            " 2   name_email_similarity             8000 non-null   float64\n",
            " 3   customer_age                      8000 non-null   int64  \n",
            " 4   zip_count_4w                      8000 non-null   int64  \n",
            " 5   bank_branch_count_8w              8000 non-null   int64  \n",
            " 6   date_of_birth_distinct_emails_4w  8000 non-null   int64  \n",
            " 7   email_is_free                     8000 non-null   int64  \n",
            " 8   phone_mobile_valid                8000 non-null   int64  \n",
            " 9   has_other_cards                   8000 non-null   int64  \n",
            " 10  proposed_credit_limit             8000 non-null   float64\n",
            " 11  foreign_request                   8000 non-null   int64  \n",
            " 12  session_length_in_minutes         8000 non-null   float64\n",
            " 13  month                             8000 non-null   int64  \n",
            " 14  source_INTERNET                   8000 non-null   bool   \n",
            " 15  source_TELEAPP                    8000 non-null   bool   \n",
            " 16  device_os_linux                   8000 non-null   bool   \n",
            " 17  device_os_macintosh               8000 non-null   bool   \n",
            " 18  device_os_other                   8000 non-null   bool   \n",
            " 19  device_os_windows                 8000 non-null   bool   \n",
            " 20  device_os_x11                     8000 non-null   bool   \n",
            "dtypes: bool(7), float64(4), int64(10)\n",
            "memory usage: 992.2 KB\n"
          ]
        }
      ]
    },
    {
      "cell_type": "markdown",
      "source": [
        "# Train RF"
      ],
      "metadata": {
        "id": "kdXyVF9hM5Du"
      }
    },
    {
      "cell_type": "code",
      "source": [
        "#separate features and target\n",
        "X = v2_sample.drop(columns = ['fraud_bool'], axis = 1)\n",
        "Y = v2_sample['fraud_bool']\n",
        "Y.value_counts()"
      ],
      "metadata": {
        "colab": {
          "base_uri": "https://localhost:8080/",
          "height": 178
        },
        "id": "_wMqv5NeM7N_",
        "outputId": "d4f3bbc8-0d49-409e-c725-1aa06abbe59d"
      },
      "execution_count": 22,
      "outputs": [
        {
          "output_type": "execute_result",
          "data": {
            "text/plain": [
              "fraud_bool\n",
              "0    7918\n",
              "1      82\n",
              "Name: count, dtype: int64"
            ],
            "text/html": [
              "<div>\n",
              "<style scoped>\n",
              "    .dataframe tbody tr th:only-of-type {\n",
              "        vertical-align: middle;\n",
              "    }\n",
              "\n",
              "    .dataframe tbody tr th {\n",
              "        vertical-align: top;\n",
              "    }\n",
              "\n",
              "    .dataframe thead th {\n",
              "        text-align: right;\n",
              "    }\n",
              "</style>\n",
              "<table border=\"1\" class=\"dataframe\">\n",
              "  <thead>\n",
              "    <tr style=\"text-align: right;\">\n",
              "      <th></th>\n",
              "      <th>count</th>\n",
              "    </tr>\n",
              "    <tr>\n",
              "      <th>fraud_bool</th>\n",
              "      <th></th>\n",
              "    </tr>\n",
              "  </thead>\n",
              "  <tbody>\n",
              "    <tr>\n",
              "      <th>0</th>\n",
              "      <td>7918</td>\n",
              "    </tr>\n",
              "    <tr>\n",
              "      <th>1</th>\n",
              "      <td>82</td>\n",
              "    </tr>\n",
              "  </tbody>\n",
              "</table>\n",
              "</div><br><label><b>dtype:</b> int64</label>"
            ]
          },
          "metadata": {},
          "execution_count": 22
        }
      ]
    },
    {
      "cell_type": "code",
      "source": [
        "#Change booleans to numeric for SHAP compatability\n",
        "X = X.astype(int)\n",
        "Y = Y.astype(int)\n",
        "X.iloc[7]"
      ],
      "metadata": {
        "colab": {
          "base_uri": "https://localhost:8080/",
          "height": 711
        },
        "id": "ZLhjFKW7RH18",
        "outputId": "a5290893-28f3-4d03-e535-76ba1a93a31b"
      },
      "execution_count": 23,
      "outputs": [
        {
          "output_type": "execute_result",
          "data": {
            "text/plain": [
              "income                                0\n",
              "name_email_similarity                 0\n",
              "customer_age                         20\n",
              "zip_count_4w                        990\n",
              "bank_branch_count_8w                  9\n",
              "date_of_birth_distinct_emails_4w      6\n",
              "email_is_free                         1\n",
              "phone_mobile_valid                    1\n",
              "has_other_cards                       1\n",
              "proposed_credit_limit               500\n",
              "foreign_request                       0\n",
              "session_length_in_minutes             2\n",
              "month                                 5\n",
              "source_INTERNET                       1\n",
              "source_TELEAPP                        0\n",
              "device_os_linux                       0\n",
              "device_os_macintosh                   0\n",
              "device_os_other                       1\n",
              "device_os_windows                     0\n",
              "device_os_x11                         0\n",
              "Name: 732057, dtype: int64"
            ],
            "text/html": [
              "<div>\n",
              "<style scoped>\n",
              "    .dataframe tbody tr th:only-of-type {\n",
              "        vertical-align: middle;\n",
              "    }\n",
              "\n",
              "    .dataframe tbody tr th {\n",
              "        vertical-align: top;\n",
              "    }\n",
              "\n",
              "    .dataframe thead th {\n",
              "        text-align: right;\n",
              "    }\n",
              "</style>\n",
              "<table border=\"1\" class=\"dataframe\">\n",
              "  <thead>\n",
              "    <tr style=\"text-align: right;\">\n",
              "      <th></th>\n",
              "      <th>732057</th>\n",
              "    </tr>\n",
              "  </thead>\n",
              "  <tbody>\n",
              "    <tr>\n",
              "      <th>income</th>\n",
              "      <td>0</td>\n",
              "    </tr>\n",
              "    <tr>\n",
              "      <th>name_email_similarity</th>\n",
              "      <td>0</td>\n",
              "    </tr>\n",
              "    <tr>\n",
              "      <th>customer_age</th>\n",
              "      <td>20</td>\n",
              "    </tr>\n",
              "    <tr>\n",
              "      <th>zip_count_4w</th>\n",
              "      <td>990</td>\n",
              "    </tr>\n",
              "    <tr>\n",
              "      <th>bank_branch_count_8w</th>\n",
              "      <td>9</td>\n",
              "    </tr>\n",
              "    <tr>\n",
              "      <th>date_of_birth_distinct_emails_4w</th>\n",
              "      <td>6</td>\n",
              "    </tr>\n",
              "    <tr>\n",
              "      <th>email_is_free</th>\n",
              "      <td>1</td>\n",
              "    </tr>\n",
              "    <tr>\n",
              "      <th>phone_mobile_valid</th>\n",
              "      <td>1</td>\n",
              "    </tr>\n",
              "    <tr>\n",
              "      <th>has_other_cards</th>\n",
              "      <td>1</td>\n",
              "    </tr>\n",
              "    <tr>\n",
              "      <th>proposed_credit_limit</th>\n",
              "      <td>500</td>\n",
              "    </tr>\n",
              "    <tr>\n",
              "      <th>foreign_request</th>\n",
              "      <td>0</td>\n",
              "    </tr>\n",
              "    <tr>\n",
              "      <th>session_length_in_minutes</th>\n",
              "      <td>2</td>\n",
              "    </tr>\n",
              "    <tr>\n",
              "      <th>month</th>\n",
              "      <td>5</td>\n",
              "    </tr>\n",
              "    <tr>\n",
              "      <th>source_INTERNET</th>\n",
              "      <td>1</td>\n",
              "    </tr>\n",
              "    <tr>\n",
              "      <th>source_TELEAPP</th>\n",
              "      <td>0</td>\n",
              "    </tr>\n",
              "    <tr>\n",
              "      <th>device_os_linux</th>\n",
              "      <td>0</td>\n",
              "    </tr>\n",
              "    <tr>\n",
              "      <th>device_os_macintosh</th>\n",
              "      <td>0</td>\n",
              "    </tr>\n",
              "    <tr>\n",
              "      <th>device_os_other</th>\n",
              "      <td>1</td>\n",
              "    </tr>\n",
              "    <tr>\n",
              "      <th>device_os_windows</th>\n",
              "      <td>0</td>\n",
              "    </tr>\n",
              "    <tr>\n",
              "      <th>device_os_x11</th>\n",
              "      <td>0</td>\n",
              "    </tr>\n",
              "  </tbody>\n",
              "</table>\n",
              "</div><br><label><b>dtype:</b> int64</label>"
            ]
          },
          "metadata": {},
          "execution_count": 23
        }
      ]
    },
    {
      "cell_type": "markdown",
      "source": [
        "Upsample for more frauds"
      ],
      "metadata": {
        "id": "bJkECGTsP08X"
      }
    },
    {
      "cell_type": "code",
      "source": [
        "# Separate majority and minority classes\n",
        "df_majority = v2_sample[v2_sample['fraud_bool'] == 0]\n",
        "df_minority = v2_sample[v2_sample['fraud_bool'] == 1]\n",
        "\n",
        "# Define the desired ratio\n",
        "minority_ratio = 0.5  # Aim for equal classes\n",
        "n_samples = int(minority_ratio * len(df_majority) / (1 - minority_ratio))\n",
        "\n",
        "# Perform upsampling\n",
        "df_minority_upsampled = resample(df_minority, replace=True, n_samples=n_samples, random_state=42)\n",
        "\n",
        "# Combine the datasets\n",
        "v2_upsampled = pd.concat([df_majority, df_minority_upsampled])\n",
        "\n",
        "# Check new class distribution\n",
        "print(\"New class distribution:\")\n",
        "print(v2_upsampled['fraud_bool'].value_counts())"
      ],
      "metadata": {
        "colab": {
          "base_uri": "https://localhost:8080/"
        },
        "id": "akPPT0KUPb-C",
        "outputId": "bf1fc8cf-9d6c-45cd-8d64-8925cb679255"
      },
      "execution_count": 24,
      "outputs": [
        {
          "output_type": "stream",
          "name": "stdout",
          "text": [
            "New class distribution:\n",
            "fraud_bool\n",
            "0    7918\n",
            "1    7918\n",
            "Name: count, dtype: int64\n"
          ]
        }
      ]
    },
    {
      "cell_type": "code",
      "source": [
        "df_upsampled = v2_upsampled.astype(int)\n",
        "df_upsampled.iloc[3]"
      ],
      "metadata": {
        "colab": {
          "base_uri": "https://localhost:8080/",
          "height": 743
        },
        "collapsed": true,
        "id": "Hu3O1m0blJgh",
        "outputId": "81952be7-bb66-40ad-8f74-f5d65f1569bd"
      },
      "execution_count": 25,
      "outputs": [
        {
          "output_type": "execute_result",
          "data": {
            "text/plain": [
              "fraud_bool                            0\n",
              "income                                0\n",
              "name_email_similarity                 0\n",
              "customer_age                         50\n",
              "zip_count_4w                        916\n",
              "bank_branch_count_8w                  8\n",
              "date_of_birth_distinct_emails_4w      2\n",
              "email_is_free                         1\n",
              "phone_mobile_valid                    1\n",
              "has_other_cards                       0\n",
              "proposed_credit_limit               200\n",
              "foreign_request                       0\n",
              "session_length_in_minutes            10\n",
              "month                                 3\n",
              "source_INTERNET                       1\n",
              "source_TELEAPP                        0\n",
              "device_os_linux                       1\n",
              "device_os_macintosh                   0\n",
              "device_os_other                       0\n",
              "device_os_windows                     0\n",
              "device_os_x11                         0\n",
              "Name: 500891, dtype: int64"
            ],
            "text/html": [
              "<div>\n",
              "<style scoped>\n",
              "    .dataframe tbody tr th:only-of-type {\n",
              "        vertical-align: middle;\n",
              "    }\n",
              "\n",
              "    .dataframe tbody tr th {\n",
              "        vertical-align: top;\n",
              "    }\n",
              "\n",
              "    .dataframe thead th {\n",
              "        text-align: right;\n",
              "    }\n",
              "</style>\n",
              "<table border=\"1\" class=\"dataframe\">\n",
              "  <thead>\n",
              "    <tr style=\"text-align: right;\">\n",
              "      <th></th>\n",
              "      <th>500891</th>\n",
              "    </tr>\n",
              "  </thead>\n",
              "  <tbody>\n",
              "    <tr>\n",
              "      <th>fraud_bool</th>\n",
              "      <td>0</td>\n",
              "    </tr>\n",
              "    <tr>\n",
              "      <th>income</th>\n",
              "      <td>0</td>\n",
              "    </tr>\n",
              "    <tr>\n",
              "      <th>name_email_similarity</th>\n",
              "      <td>0</td>\n",
              "    </tr>\n",
              "    <tr>\n",
              "      <th>customer_age</th>\n",
              "      <td>50</td>\n",
              "    </tr>\n",
              "    <tr>\n",
              "      <th>zip_count_4w</th>\n",
              "      <td>916</td>\n",
              "    </tr>\n",
              "    <tr>\n",
              "      <th>bank_branch_count_8w</th>\n",
              "      <td>8</td>\n",
              "    </tr>\n",
              "    <tr>\n",
              "      <th>date_of_birth_distinct_emails_4w</th>\n",
              "      <td>2</td>\n",
              "    </tr>\n",
              "    <tr>\n",
              "      <th>email_is_free</th>\n",
              "      <td>1</td>\n",
              "    </tr>\n",
              "    <tr>\n",
              "      <th>phone_mobile_valid</th>\n",
              "      <td>1</td>\n",
              "    </tr>\n",
              "    <tr>\n",
              "      <th>has_other_cards</th>\n",
              "      <td>0</td>\n",
              "    </tr>\n",
              "    <tr>\n",
              "      <th>proposed_credit_limit</th>\n",
              "      <td>200</td>\n",
              "    </tr>\n",
              "    <tr>\n",
              "      <th>foreign_request</th>\n",
              "      <td>0</td>\n",
              "    </tr>\n",
              "    <tr>\n",
              "      <th>session_length_in_minutes</th>\n",
              "      <td>10</td>\n",
              "    </tr>\n",
              "    <tr>\n",
              "      <th>month</th>\n",
              "      <td>3</td>\n",
              "    </tr>\n",
              "    <tr>\n",
              "      <th>source_INTERNET</th>\n",
              "      <td>1</td>\n",
              "    </tr>\n",
              "    <tr>\n",
              "      <th>source_TELEAPP</th>\n",
              "      <td>0</td>\n",
              "    </tr>\n",
              "    <tr>\n",
              "      <th>device_os_linux</th>\n",
              "      <td>1</td>\n",
              "    </tr>\n",
              "    <tr>\n",
              "      <th>device_os_macintosh</th>\n",
              "      <td>0</td>\n",
              "    </tr>\n",
              "    <tr>\n",
              "      <th>device_os_other</th>\n",
              "      <td>0</td>\n",
              "    </tr>\n",
              "    <tr>\n",
              "      <th>device_os_windows</th>\n",
              "      <td>0</td>\n",
              "    </tr>\n",
              "    <tr>\n",
              "      <th>device_os_x11</th>\n",
              "      <td>0</td>\n",
              "    </tr>\n",
              "  </tbody>\n",
              "</table>\n",
              "</div><br><label><b>dtype:</b> int64</label>"
            ]
          },
          "metadata": {},
          "execution_count": 25
        }
      ]
    },
    {
      "cell_type": "code",
      "source": [
        "#prepare upsampled train-test split\n",
        "X_upsampled = v2_upsampled.drop(columns=['fraud_bool'])\n",
        "Y_upsampled = v2_upsampled['fraud_bool']\n",
        "\n",
        "Y_upsampled.value_counts()"
      ],
      "metadata": {
        "colab": {
          "base_uri": "https://localhost:8080/",
          "height": 178
        },
        "id": "MdrUG2AXRhMq",
        "outputId": "49f1f8b0-a981-4b91-9e41-a82fada461a0"
      },
      "execution_count": 26,
      "outputs": [
        {
          "output_type": "execute_result",
          "data": {
            "text/plain": [
              "fraud_bool\n",
              "0    7918\n",
              "1    7918\n",
              "Name: count, dtype: int64"
            ],
            "text/html": [
              "<div>\n",
              "<style scoped>\n",
              "    .dataframe tbody tr th:only-of-type {\n",
              "        vertical-align: middle;\n",
              "    }\n",
              "\n",
              "    .dataframe tbody tr th {\n",
              "        vertical-align: top;\n",
              "    }\n",
              "\n",
              "    .dataframe thead th {\n",
              "        text-align: right;\n",
              "    }\n",
              "</style>\n",
              "<table border=\"1\" class=\"dataframe\">\n",
              "  <thead>\n",
              "    <tr style=\"text-align: right;\">\n",
              "      <th></th>\n",
              "      <th>count</th>\n",
              "    </tr>\n",
              "    <tr>\n",
              "      <th>fraud_bool</th>\n",
              "      <th></th>\n",
              "    </tr>\n",
              "  </thead>\n",
              "  <tbody>\n",
              "    <tr>\n",
              "      <th>0</th>\n",
              "      <td>7918</td>\n",
              "    </tr>\n",
              "    <tr>\n",
              "      <th>1</th>\n",
              "      <td>7918</td>\n",
              "    </tr>\n",
              "  </tbody>\n",
              "</table>\n",
              "</div><br><label><b>dtype:</b> int64</label>"
            ]
          },
          "metadata": {},
          "execution_count": 26
        }
      ]
    },
    {
      "cell_type": "code",
      "source": [
        "# Create train and test sets based on 'month'\n",
        "X_train = X_upsampled[X_upsampled['month'] < 6]\n",
        "Y_train = Y_upsampled[X_upsampled['month'] < 6]\n",
        "X_test = X_upsampled[X_upsampled['month'] >= 6]\n",
        "Y_test = Y_upsampled[X_upsampled['month'] >= 6]\n",
        "\n",
        "print(\"Class distribution in Y_train after upsampling:\")\n",
        "print(Y_train.value_counts())"
      ],
      "metadata": {
        "colab": {
          "base_uri": "https://localhost:8080/"
        },
        "id": "NN9KK3_tk5tc",
        "outputId": "e63ce8fb-e17c-4557-fe7d-660ae7a9ff6f"
      },
      "execution_count": 27,
      "outputs": [
        {
          "output_type": "stream",
          "name": "stdout",
          "text": [
            "Class distribution in Y_train after upsampling:\n",
            "fraud_bool\n",
            "0    6276\n",
            "1    6074\n",
            "Name: count, dtype: int64\n"
          ]
        }
      ]
    },
    {
      "cell_type": "code",
      "source": [
        "X_df = pd.concat([X_train, X_test])\n",
        "X_df.info()"
      ],
      "metadata": {
        "colab": {
          "base_uri": "https://localhost:8080/"
        },
        "id": "anADoF6crGJr",
        "outputId": "b4e7b193-6749-4e94-f47a-59b4ef0f26e2"
      },
      "execution_count": 28,
      "outputs": [
        {
          "output_type": "stream",
          "name": "stdout",
          "text": [
            "<class 'pandas.core.frame.DataFrame'>\n",
            "Index: 15836 entries, 79954 to 900541\n",
            "Data columns (total 20 columns):\n",
            " #   Column                            Non-Null Count  Dtype  \n",
            "---  ------                            --------------  -----  \n",
            " 0   income                            15836 non-null  float64\n",
            " 1   name_email_similarity             15836 non-null  float64\n",
            " 2   customer_age                      15836 non-null  int64  \n",
            " 3   zip_count_4w                      15836 non-null  int64  \n",
            " 4   bank_branch_count_8w              15836 non-null  int64  \n",
            " 5   date_of_birth_distinct_emails_4w  15836 non-null  int64  \n",
            " 6   email_is_free                     15836 non-null  int64  \n",
            " 7   phone_mobile_valid                15836 non-null  int64  \n",
            " 8   has_other_cards                   15836 non-null  int64  \n",
            " 9   proposed_credit_limit             15836 non-null  float64\n",
            " 10  foreign_request                   15836 non-null  int64  \n",
            " 11  session_length_in_minutes         15836 non-null  float64\n",
            " 12  month                             15836 non-null  int64  \n",
            " 13  source_INTERNET                   15836 non-null  bool   \n",
            " 14  source_TELEAPP                    15836 non-null  bool   \n",
            " 15  device_os_linux                   15836 non-null  bool   \n",
            " 16  device_os_macintosh               15836 non-null  bool   \n",
            " 17  device_os_other                   15836 non-null  bool   \n",
            " 18  device_os_windows                 15836 non-null  bool   \n",
            " 19  device_os_x11                     15836 non-null  bool   \n",
            "dtypes: bool(7), float64(4), int64(9)\n",
            "memory usage: 1.8 MB\n"
          ]
        }
      ]
    },
    {
      "cell_type": "markdown",
      "source": [
        "Create scaled versions of the features"
      ],
      "metadata": {
        "id": "UrYxzsJWRWIn"
      }
    },
    {
      "cell_type": "code",
      "source": [
        "scaler = StandardScaler()\n",
        "X_scaled_train = scaler.fit_transform(X_train)\n",
        "X_scaled_test = scaler.transform(X_test)\n",
        "X_scaled_df = pd.concat([pd.DataFrame(X_scaled_train, columns=[col + '_scaled' for col in X_upsampled.columns]),\n",
        "                         pd.DataFrame(X_scaled_test, columns=[col + '_scaled' for col in X_upsampled.columns])])"
      ],
      "metadata": {
        "id": "Ru8Ez_ffRat7"
      },
      "execution_count": 29,
      "outputs": []
    },
    {
      "cell_type": "code",
      "source": [
        "#X_scaled_df.info()"
      ],
      "metadata": {
        "id": "7p68z2MkkCDq"
      },
      "execution_count": 30,
      "outputs": []
    },
    {
      "cell_type": "markdown",
      "source": [
        "Train on scaled X (unnecessary for RF but good for SHAP later on)"
      ],
      "metadata": {
        "id": "4odDKvjsS_J0"
      }
    },
    {
      "cell_type": "code",
      "source": [
        "#model = modelv2 #original 'best' light gbm model\n",
        "model = RandomForestClassifier(\n",
        "    n_estimators=100,\n",
        "    max_depth=10,\n",
        "    class_weight= 'balanced', #penalize either fp or fn\n",
        "    random_state=42\n",
        ")\n",
        "model.fit(X_scaled_train, Y_train)\n",
        "\n",
        "\n",
        "#predictions\n",
        "Yhat = model.predict(X_scaled_test)\n",
        "len(Yhat)"
      ],
      "metadata": {
        "colab": {
          "base_uri": "https://localhost:8080/"
        },
        "id": "A4fmY1qZStJ9",
        "outputId": "f3d9d1f2-8c6a-4334-b339-8c76791f2f3d"
      },
      "execution_count": 31,
      "outputs": [
        {
          "output_type": "execute_result",
          "data": {
            "text/plain": [
              "3486"
            ]
          },
          "metadata": {},
          "execution_count": 31
        }
      ]
    },
    {
      "cell_type": "markdown",
      "source": [
        "# Add Errors"
      ],
      "metadata": {
        "id": "KjDRRh5Ablwr"
      }
    },
    {
      "cell_type": "code",
      "source": [
        "X_scaled_test"
      ],
      "metadata": {
        "colab": {
          "base_uri": "https://localhost:8080/"
        },
        "id": "X8lSDHrasOKU",
        "outputId": "735eafea-fdc7-4033-9d4b-b22540b26730"
      },
      "execution_count": 32,
      "outputs": [
        {
          "output_type": "execute_result",
          "data": {
            "text/plain": [
              "array([[ 1.00953952, -0.97470121,  0.26150335, ..., -0.47877203,\n",
              "         1.0082935 , -0.10473405],\n",
              "       [ 1.00953952,  0.82943894,  1.76153418, ...,  2.08867675,\n",
              "        -0.99177472, -0.10473405],\n",
              "       [ 0.6715943 , -0.75387802,  1.01151877, ..., -0.47877203,\n",
              "         1.0082935 , -0.10473405],\n",
              "       ...,\n",
              "       [-0.00429615,  1.23940818,  0.26150335, ..., -0.47877203,\n",
              "         1.0082935 , -0.10473405],\n",
              "       [ 1.00953952,  1.35178287,  1.76153418, ..., -0.47877203,\n",
              "         1.0082935 , -0.10473405],\n",
              "       [-1.35607704, -0.08614188,  1.01151877, ..., -0.47877203,\n",
              "        -0.99177472, -0.10473405]])"
            ]
          },
          "metadata": {},
          "execution_count": 32
        }
      ]
    },
    {
      "cell_type": "code",
      "source": [
        "#Create df for predicted, true classes and errors\n",
        "predictions = pd.DataFrame({\n",
        "    'predicted_class': Yhat.tolist(),\n",
        "    'true_class': Y_test.values,\n",
        "    'errors': abs(Yhat - Y_test.values)\n",
        "}, index=X_test.index)\n",
        "\n",
        "#make df from X_scaled_test\n",
        "X_scaled_test_df = pd.DataFrame(X_scaled_test, index=X_test.index) # Convert to DataFrame and keep the original index\n",
        "\n",
        "#adding predictions to test data\n",
        "V2_error = X_scaled_test_df.merge(predictions, how= 'outer', left_index = True, right_index = True)\n",
        "\n",
        "errors = V2_error['errors']\n",
        "df_out = V2_error.drop(['predicted_class', 'true_class', 'errors'], axis=1)\n",
        "V2_error[V2_error['errors']==1]\n",
        "\n",
        "#accuracy & confusion matrix\n",
        "accuracy = accuracy_score(predictions['true_class'], predictions['predicted_class'])\n",
        "print(f\"Accuracy: {accuracy:.4f}\")\n",
        "cm = confusion_matrix(predictions['true_class'], predictions['predicted_class'])\n",
        "print(cm)"
      ],
      "metadata": {
        "colab": {
          "base_uri": "https://localhost:8080/"
        },
        "id": "kihE8JNobor3",
        "outputId": "9f1ac32b-415f-4fed-994e-66bf122da5b1"
      },
      "execution_count": 33,
      "outputs": [
        {
          "output_type": "stream",
          "name": "stdout",
          "text": [
            "Accuracy: 0.4963\n",
            "[[1630   12]\n",
            " [1744  100]]\n"
          ]
        }
      ]
    },
    {
      "source": [
        "#Create df for predicted, true classes and errors\n",
        "predictions = pd.DataFrame({\n",
        "    'predicted_class': Yhat.tolist(),\n",
        "    'true_class': Y_test.values,\n",
        "    'errors': abs(Yhat - Y_test.values)\n",
        "}, index=X_test.index)\n",
        "\n",
        "# Convert X_scaled_test to a DataFrame with column names\n",
        "# Get the original column names from X_train (or X_upsampled before scaling)\n",
        "original_columns = X_train.columns\n",
        "X_scaled_test_df = pd.DataFrame(X_scaled_test, columns=original_columns, index=X_test.index)\n",
        "\n",
        "# Reset indices before merging\n",
        "X_scaled_test_df = X_scaled_test_df.reset_index(drop=True)\n",
        "predictions = predictions.reset_index(drop=True)\n",
        "\n",
        "#adding predictions to test data\n",
        "V2_error = X_scaled_test_df.merge(predictions, how= 'outer', left_index = True, right_index = True)\n",
        "\n",
        "errors = V2_error['errors']\n",
        "df_out = V2_error.drop(['predicted_class', 'true_class', 'errors'], axis=1)\n",
        "V2_error[V2_error['errors']==1]\n",
        "\n",
        "#accuracy & confusion matrix\n",
        "accuracy = accuracy_score(predictions['true_class'], predictions['predicted_class'])\n",
        "print(f\"Accuracy: {accuracy:.4f}\")\n",
        "cm = confusion_matrix(predictions['true_class'], predictions['predicted_class'])\n",
        "print(cm)"
      ],
      "cell_type": "code",
      "metadata": {
        "colab": {
          "base_uri": "https://localhost:8080/"
        },
        "id": "nxbeqLovsxiY",
        "outputId": "0a4191b0-d13d-417f-febb-b904a91c2ef6"
      },
      "execution_count": 34,
      "outputs": [
        {
          "output_type": "stream",
          "name": "stdout",
          "text": [
            "Accuracy: 0.4963\n",
            "[[1630   12]\n",
            " [1744  100]]\n"
          ]
        }
      ]
    },
    {
      "cell_type": "code",
      "source": [
        "V2_error.info()"
      ],
      "metadata": {
        "colab": {
          "base_uri": "https://localhost:8080/"
        },
        "id": "bcP1rEVVkqkL",
        "outputId": "db7bce2e-53dc-4029-e3a6-adf1af086486"
      },
      "execution_count": 35,
      "outputs": [
        {
          "output_type": "stream",
          "name": "stdout",
          "text": [
            "<class 'pandas.core.frame.DataFrame'>\n",
            "RangeIndex: 3486 entries, 0 to 3485\n",
            "Data columns (total 23 columns):\n",
            " #   Column                            Non-Null Count  Dtype  \n",
            "---  ------                            --------------  -----  \n",
            " 0   income                            3486 non-null   float64\n",
            " 1   name_email_similarity             3486 non-null   float64\n",
            " 2   customer_age                      3486 non-null   float64\n",
            " 3   zip_count_4w                      3486 non-null   float64\n",
            " 4   bank_branch_count_8w              3486 non-null   float64\n",
            " 5   date_of_birth_distinct_emails_4w  3486 non-null   float64\n",
            " 6   email_is_free                     3486 non-null   float64\n",
            " 7   phone_mobile_valid                3486 non-null   float64\n",
            " 8   has_other_cards                   3486 non-null   float64\n",
            " 9   proposed_credit_limit             3486 non-null   float64\n",
            " 10  foreign_request                   3486 non-null   float64\n",
            " 11  session_length_in_minutes         3486 non-null   float64\n",
            " 12  month                             3486 non-null   float64\n",
            " 13  source_INTERNET                   3486 non-null   float64\n",
            " 14  source_TELEAPP                    3486 non-null   float64\n",
            " 15  device_os_linux                   3486 non-null   float64\n",
            " 16  device_os_macintosh               3486 non-null   float64\n",
            " 17  device_os_other                   3486 non-null   float64\n",
            " 18  device_os_windows                 3486 non-null   float64\n",
            " 19  device_os_x11                     3486 non-null   float64\n",
            " 20  predicted_class                   3486 non-null   int64  \n",
            " 21  true_class                        3486 non-null   int64  \n",
            " 22  errors                            3486 non-null   int64  \n",
            "dtypes: float64(20), int64(3)\n",
            "memory usage: 626.5 KB\n"
          ]
        }
      ]
    },
    {
      "cell_type": "code",
      "source": [
        "v2_sample.info()"
      ],
      "metadata": {
        "colab": {
          "base_uri": "https://localhost:8080/"
        },
        "id": "H2wXU97_tdjM",
        "outputId": "dfdfd6c2-a226-4ebd-98de-8d905a94f37a"
      },
      "execution_count": 36,
      "outputs": [
        {
          "output_type": "stream",
          "name": "stdout",
          "text": [
            "<class 'pandas.core.frame.DataFrame'>\n",
            "Index: 8000 entries, 987231 to 534950\n",
            "Data columns (total 21 columns):\n",
            " #   Column                            Non-Null Count  Dtype  \n",
            "---  ------                            --------------  -----  \n",
            " 0   fraud_bool                        8000 non-null   int64  \n",
            " 1   income                            8000 non-null   float64\n",
            " 2   name_email_similarity             8000 non-null   float64\n",
            " 3   customer_age                      8000 non-null   int64  \n",
            " 4   zip_count_4w                      8000 non-null   int64  \n",
            " 5   bank_branch_count_8w              8000 non-null   int64  \n",
            " 6   date_of_birth_distinct_emails_4w  8000 non-null   int64  \n",
            " 7   email_is_free                     8000 non-null   int64  \n",
            " 8   phone_mobile_valid                8000 non-null   int64  \n",
            " 9   has_other_cards                   8000 non-null   int64  \n",
            " 10  proposed_credit_limit             8000 non-null   float64\n",
            " 11  foreign_request                   8000 non-null   int64  \n",
            " 12  session_length_in_minutes         8000 non-null   float64\n",
            " 13  month                             8000 non-null   int64  \n",
            " 14  source_INTERNET                   8000 non-null   bool   \n",
            " 15  source_TELEAPP                    8000 non-null   bool   \n",
            " 16  device_os_linux                   8000 non-null   bool   \n",
            " 17  device_os_macintosh               8000 non-null   bool   \n",
            " 18  device_os_other                   8000 non-null   bool   \n",
            " 19  device_os_windows                 8000 non-null   bool   \n",
            " 20  device_os_x11                     8000 non-null   bool   \n",
            "dtypes: bool(7), float64(4), int64(10)\n",
            "memory usage: 992.2 KB\n"
          ]
        }
      ]
    },
    {
      "cell_type": "code",
      "source": [
        "V2_error.iloc[5]"
      ],
      "metadata": {
        "colab": {
          "base_uri": "https://localhost:8080/",
          "height": 806
        },
        "id": "dNUBcpZfpuH5",
        "outputId": "94869ceb-b069-4c8c-aeb7-f869c17d38fb"
      },
      "execution_count": 37,
      "outputs": [
        {
          "output_type": "execute_result",
          "data": {
            "text/plain": [
              "income                             -1.694022\n",
              "name_email_similarity              -0.842862\n",
              "customer_age                        1.761534\n",
              "zip_count_4w                       -0.592481\n",
              "bank_branch_count_8w               -0.374001\n",
              "date_of_birth_distinct_emails_4w   -1.132088\n",
              "email_is_free                      -1.093058\n",
              "phone_mobile_valid                  0.479411\n",
              "has_other_cards                    -0.474295\n",
              "proposed_credit_limit              -0.866519\n",
              "foreign_request                    -0.231656\n",
              "session_length_in_minutes          -0.572620\n",
              "month                               2.098824\n",
              "source_INTERNET                     0.058416\n",
              "source_TELEAPP                     -0.058416\n",
              "device_os_linux                     1.851087\n",
              "device_os_macintosh                -0.296665\n",
              "device_os_other                    -0.478772\n",
              "device_os_windows                  -0.991775\n",
              "device_os_x11                      -0.104734\n",
              "predicted_class                     0.000000\n",
              "true_class                          0.000000\n",
              "errors                              0.000000\n",
              "Name: 5, dtype: float64"
            ],
            "text/html": [
              "<div>\n",
              "<style scoped>\n",
              "    .dataframe tbody tr th:only-of-type {\n",
              "        vertical-align: middle;\n",
              "    }\n",
              "\n",
              "    .dataframe tbody tr th {\n",
              "        vertical-align: top;\n",
              "    }\n",
              "\n",
              "    .dataframe thead th {\n",
              "        text-align: right;\n",
              "    }\n",
              "</style>\n",
              "<table border=\"1\" class=\"dataframe\">\n",
              "  <thead>\n",
              "    <tr style=\"text-align: right;\">\n",
              "      <th></th>\n",
              "      <th>5</th>\n",
              "    </tr>\n",
              "  </thead>\n",
              "  <tbody>\n",
              "    <tr>\n",
              "      <th>income</th>\n",
              "      <td>-1.694022</td>\n",
              "    </tr>\n",
              "    <tr>\n",
              "      <th>name_email_similarity</th>\n",
              "      <td>-0.842862</td>\n",
              "    </tr>\n",
              "    <tr>\n",
              "      <th>customer_age</th>\n",
              "      <td>1.761534</td>\n",
              "    </tr>\n",
              "    <tr>\n",
              "      <th>zip_count_4w</th>\n",
              "      <td>-0.592481</td>\n",
              "    </tr>\n",
              "    <tr>\n",
              "      <th>bank_branch_count_8w</th>\n",
              "      <td>-0.374001</td>\n",
              "    </tr>\n",
              "    <tr>\n",
              "      <th>date_of_birth_distinct_emails_4w</th>\n",
              "      <td>-1.132088</td>\n",
              "    </tr>\n",
              "    <tr>\n",
              "      <th>email_is_free</th>\n",
              "      <td>-1.093058</td>\n",
              "    </tr>\n",
              "    <tr>\n",
              "      <th>phone_mobile_valid</th>\n",
              "      <td>0.479411</td>\n",
              "    </tr>\n",
              "    <tr>\n",
              "      <th>has_other_cards</th>\n",
              "      <td>-0.474295</td>\n",
              "    </tr>\n",
              "    <tr>\n",
              "      <th>proposed_credit_limit</th>\n",
              "      <td>-0.866519</td>\n",
              "    </tr>\n",
              "    <tr>\n",
              "      <th>foreign_request</th>\n",
              "      <td>-0.231656</td>\n",
              "    </tr>\n",
              "    <tr>\n",
              "      <th>session_length_in_minutes</th>\n",
              "      <td>-0.572620</td>\n",
              "    </tr>\n",
              "    <tr>\n",
              "      <th>month</th>\n",
              "      <td>2.098824</td>\n",
              "    </tr>\n",
              "    <tr>\n",
              "      <th>source_INTERNET</th>\n",
              "      <td>0.058416</td>\n",
              "    </tr>\n",
              "    <tr>\n",
              "      <th>source_TELEAPP</th>\n",
              "      <td>-0.058416</td>\n",
              "    </tr>\n",
              "    <tr>\n",
              "      <th>device_os_linux</th>\n",
              "      <td>1.851087</td>\n",
              "    </tr>\n",
              "    <tr>\n",
              "      <th>device_os_macintosh</th>\n",
              "      <td>-0.296665</td>\n",
              "    </tr>\n",
              "    <tr>\n",
              "      <th>device_os_other</th>\n",
              "      <td>-0.478772</td>\n",
              "    </tr>\n",
              "    <tr>\n",
              "      <th>device_os_windows</th>\n",
              "      <td>-0.991775</td>\n",
              "    </tr>\n",
              "    <tr>\n",
              "      <th>device_os_x11</th>\n",
              "      <td>-0.104734</td>\n",
              "    </tr>\n",
              "    <tr>\n",
              "      <th>predicted_class</th>\n",
              "      <td>0.000000</td>\n",
              "    </tr>\n",
              "    <tr>\n",
              "      <th>true_class</th>\n",
              "      <td>0.000000</td>\n",
              "    </tr>\n",
              "    <tr>\n",
              "      <th>errors</th>\n",
              "      <td>0.000000</td>\n",
              "    </tr>\n",
              "  </tbody>\n",
              "</table>\n",
              "</div><br><label><b>dtype:</b> float64</label>"
            ]
          },
          "metadata": {},
          "execution_count": 37
        }
      ]
    },
    {
      "cell_type": "code",
      "source": [
        "V2_error.info()"
      ],
      "metadata": {
        "colab": {
          "base_uri": "https://localhost:8080/"
        },
        "id": "ho_WK0-VJQHu",
        "outputId": "335c4524-1de0-4bff-afb4-47caa502a07e"
      },
      "execution_count": 55,
      "outputs": [
        {
          "output_type": "stream",
          "name": "stdout",
          "text": [
            "<class 'pandas.core.frame.DataFrame'>\n",
            "RangeIndex: 3486 entries, 0 to 3485\n",
            "Data columns (total 23 columns):\n",
            " #   Column                            Non-Null Count  Dtype  \n",
            "---  ------                            --------------  -----  \n",
            " 0   income                            3486 non-null   float64\n",
            " 1   name_email_similarity             3486 non-null   float64\n",
            " 2   customer_age                      3486 non-null   float64\n",
            " 3   zip_count_4w                      3486 non-null   float64\n",
            " 4   bank_branch_count_8w              3486 non-null   float64\n",
            " 5   date_of_birth_distinct_emails_4w  3486 non-null   float64\n",
            " 6   email_is_free                     3486 non-null   float64\n",
            " 7   phone_mobile_valid                3486 non-null   float64\n",
            " 8   has_other_cards                   3486 non-null   float64\n",
            " 9   proposed_credit_limit             3486 non-null   float64\n",
            " 10  foreign_request                   3486 non-null   float64\n",
            " 11  session_length_in_minutes         3486 non-null   float64\n",
            " 12  month                             3486 non-null   float64\n",
            " 13  source_INTERNET                   3486 non-null   float64\n",
            " 14  source_TELEAPP                    3486 non-null   float64\n",
            " 15  device_os_linux                   3486 non-null   float64\n",
            " 16  device_os_macintosh               3486 non-null   float64\n",
            " 17  device_os_other                   3486 non-null   float64\n",
            " 18  device_os_windows                 3486 non-null   float64\n",
            " 19  device_os_x11                     3486 non-null   float64\n",
            " 20  predicted_class                   3486 non-null   int64  \n",
            " 21  true_class                        3486 non-null   int64  \n",
            " 22  errors                            3486 non-null   int64  \n",
            "dtypes: float64(20), int64(3)\n",
            "memory usage: 626.5 KB\n"
          ]
        }
      ]
    },
    {
      "cell_type": "code",
      "source": [
        "#selecting the 4 error labels\n",
        "def get_error_type(row):\n",
        "    true_class = row['true_class']\n",
        "    predicted_class = row['predicted_class']\n",
        "\n",
        "    if true_class == predicted_class and true_class == 1:\n",
        "        row['TP'] = 1\n",
        "        row['TN'] = 0\n",
        "        row['FN'] = 0\n",
        "        row['FP'] = 0\n",
        "    elif true_class == predicted_class and true_class == 0:\n",
        "        row['TP'] = 0\n",
        "        row['TN'] = 1\n",
        "        row['FN'] = 0\n",
        "        row['FP'] = 0\n",
        "    elif true_class != predicted_class and true_class == 1:\n",
        "        row['TP'] = 0\n",
        "        row['TN'] = 0\n",
        "        row['FN'] = 1\n",
        "        row['FP'] = 0\n",
        "    elif true_class != predicted_class and true_class == 0:\n",
        "        row['TP'] = 0\n",
        "        row['TN'] = 0\n",
        "        row['FN'] = 0\n",
        "        row['FP'] = 1\n",
        "\n",
        "    return row\n",
        "\n",
        "#apply function to rows in data\n",
        "v2_err = V2_error.apply(get_error_type, axis=1)\n",
        "\n",
        "#v2_err.info()\n",
        "v2_err.iloc[3]"
      ],
      "metadata": {
        "colab": {
          "base_uri": "https://localhost:8080/",
          "height": 931
        },
        "id": "ypxpyInpgVbU",
        "outputId": "c926e859-a04b-4ecb-9cfb-8cc8f3201fa0"
      },
      "execution_count": 38,
      "outputs": [
        {
          "output_type": "execute_result",
          "data": {
            "text/plain": [
              "income                             -0.342241\n",
              "name_email_similarity              -0.713974\n",
              "customer_age                        1.761534\n",
              "zip_count_4w                       -0.507300\n",
              "bank_branch_count_8w               -0.358623\n",
              "date_of_birth_distinct_emails_4w   -0.754944\n",
              "email_is_free                      -1.093058\n",
              "phone_mobile_valid                  0.479411\n",
              "has_other_cards                    -0.474295\n",
              "proposed_credit_limit              -0.866519\n",
              "foreign_request                    -0.231656\n",
              "session_length_in_minutes          -0.473907\n",
              "month                               2.098824\n",
              "source_INTERNET                     0.058416\n",
              "source_TELEAPP                     -0.058416\n",
              "device_os_linux                    -0.540223\n",
              "device_os_macintosh                -0.296665\n",
              "device_os_other                     2.088677\n",
              "device_os_windows                  -0.991775\n",
              "device_os_x11                      -0.104734\n",
              "predicted_class                     0.000000\n",
              "true_class                          0.000000\n",
              "errors                              0.000000\n",
              "TP                                  0.000000\n",
              "TN                                  1.000000\n",
              "FN                                  0.000000\n",
              "FP                                  0.000000\n",
              "Name: 3, dtype: float64"
            ],
            "text/html": [
              "<div>\n",
              "<style scoped>\n",
              "    .dataframe tbody tr th:only-of-type {\n",
              "        vertical-align: middle;\n",
              "    }\n",
              "\n",
              "    .dataframe tbody tr th {\n",
              "        vertical-align: top;\n",
              "    }\n",
              "\n",
              "    .dataframe thead th {\n",
              "        text-align: right;\n",
              "    }\n",
              "</style>\n",
              "<table border=\"1\" class=\"dataframe\">\n",
              "  <thead>\n",
              "    <tr style=\"text-align: right;\">\n",
              "      <th></th>\n",
              "      <th>3</th>\n",
              "    </tr>\n",
              "  </thead>\n",
              "  <tbody>\n",
              "    <tr>\n",
              "      <th>income</th>\n",
              "      <td>-0.342241</td>\n",
              "    </tr>\n",
              "    <tr>\n",
              "      <th>name_email_similarity</th>\n",
              "      <td>-0.713974</td>\n",
              "    </tr>\n",
              "    <tr>\n",
              "      <th>customer_age</th>\n",
              "      <td>1.761534</td>\n",
              "    </tr>\n",
              "    <tr>\n",
              "      <th>zip_count_4w</th>\n",
              "      <td>-0.507300</td>\n",
              "    </tr>\n",
              "    <tr>\n",
              "      <th>bank_branch_count_8w</th>\n",
              "      <td>-0.358623</td>\n",
              "    </tr>\n",
              "    <tr>\n",
              "      <th>date_of_birth_distinct_emails_4w</th>\n",
              "      <td>-0.754944</td>\n",
              "    </tr>\n",
              "    <tr>\n",
              "      <th>email_is_free</th>\n",
              "      <td>-1.093058</td>\n",
              "    </tr>\n",
              "    <tr>\n",
              "      <th>phone_mobile_valid</th>\n",
              "      <td>0.479411</td>\n",
              "    </tr>\n",
              "    <tr>\n",
              "      <th>has_other_cards</th>\n",
              "      <td>-0.474295</td>\n",
              "    </tr>\n",
              "    <tr>\n",
              "      <th>proposed_credit_limit</th>\n",
              "      <td>-0.866519</td>\n",
              "    </tr>\n",
              "    <tr>\n",
              "      <th>foreign_request</th>\n",
              "      <td>-0.231656</td>\n",
              "    </tr>\n",
              "    <tr>\n",
              "      <th>session_length_in_minutes</th>\n",
              "      <td>-0.473907</td>\n",
              "    </tr>\n",
              "    <tr>\n",
              "      <th>month</th>\n",
              "      <td>2.098824</td>\n",
              "    </tr>\n",
              "    <tr>\n",
              "      <th>source_INTERNET</th>\n",
              "      <td>0.058416</td>\n",
              "    </tr>\n",
              "    <tr>\n",
              "      <th>source_TELEAPP</th>\n",
              "      <td>-0.058416</td>\n",
              "    </tr>\n",
              "    <tr>\n",
              "      <th>device_os_linux</th>\n",
              "      <td>-0.540223</td>\n",
              "    </tr>\n",
              "    <tr>\n",
              "      <th>device_os_macintosh</th>\n",
              "      <td>-0.296665</td>\n",
              "    </tr>\n",
              "    <tr>\n",
              "      <th>device_os_other</th>\n",
              "      <td>2.088677</td>\n",
              "    </tr>\n",
              "    <tr>\n",
              "      <th>device_os_windows</th>\n",
              "      <td>-0.991775</td>\n",
              "    </tr>\n",
              "    <tr>\n",
              "      <th>device_os_x11</th>\n",
              "      <td>-0.104734</td>\n",
              "    </tr>\n",
              "    <tr>\n",
              "      <th>predicted_class</th>\n",
              "      <td>0.000000</td>\n",
              "    </tr>\n",
              "    <tr>\n",
              "      <th>true_class</th>\n",
              "      <td>0.000000</td>\n",
              "    </tr>\n",
              "    <tr>\n",
              "      <th>errors</th>\n",
              "      <td>0.000000</td>\n",
              "    </tr>\n",
              "    <tr>\n",
              "      <th>TP</th>\n",
              "      <td>0.000000</td>\n",
              "    </tr>\n",
              "    <tr>\n",
              "      <th>TN</th>\n",
              "      <td>1.000000</td>\n",
              "    </tr>\n",
              "    <tr>\n",
              "      <th>FN</th>\n",
              "      <td>0.000000</td>\n",
              "    </tr>\n",
              "    <tr>\n",
              "      <th>FP</th>\n",
              "      <td>0.000000</td>\n",
              "    </tr>\n",
              "  </tbody>\n",
              "</table>\n",
              "</div><br><label><b>dtype:</b> float64</label>"
            ]
          },
          "metadata": {},
          "execution_count": 38
        }
      ]
    },
    {
      "cell_type": "code",
      "source": [
        "#check if there are any fp/fn at all\n",
        "if (v2_err['FP'] ==1).any():\n",
        "  print(\"there is at least one FP\")\n",
        "else: print(\"there is no FP\")"
      ],
      "metadata": {
        "colab": {
          "base_uri": "https://localhost:8080/"
        },
        "id": "Z_DxSMowgpfb",
        "outputId": "ca3aadc4-3b8d-4c76-d809-0910bf2f966b"
      },
      "execution_count": 39,
      "outputs": [
        {
          "output_type": "stream",
          "name": "stdout",
          "text": [
            "there is at least one FP\n"
          ]
        }
      ]
    },
    {
      "cell_type": "code",
      "source": [
        "v2_err.iloc[3]"
      ],
      "metadata": {
        "colab": {
          "base_uri": "https://localhost:8080/",
          "height": 931
        },
        "id": "Hm2rmMQJvZMg",
        "outputId": "8b8c815d-3a24-44df-c098-f1c5d7439ac5"
      },
      "execution_count": 40,
      "outputs": [
        {
          "output_type": "execute_result",
          "data": {
            "text/plain": [
              "income                             -0.342241\n",
              "name_email_similarity              -0.713974\n",
              "customer_age                        1.761534\n",
              "zip_count_4w                       -0.507300\n",
              "bank_branch_count_8w               -0.358623\n",
              "date_of_birth_distinct_emails_4w   -0.754944\n",
              "email_is_free                      -1.093058\n",
              "phone_mobile_valid                  0.479411\n",
              "has_other_cards                    -0.474295\n",
              "proposed_credit_limit              -0.866519\n",
              "foreign_request                    -0.231656\n",
              "session_length_in_minutes          -0.473907\n",
              "month                               2.098824\n",
              "source_INTERNET                     0.058416\n",
              "source_TELEAPP                     -0.058416\n",
              "device_os_linux                    -0.540223\n",
              "device_os_macintosh                -0.296665\n",
              "device_os_other                     2.088677\n",
              "device_os_windows                  -0.991775\n",
              "device_os_x11                      -0.104734\n",
              "predicted_class                     0.000000\n",
              "true_class                          0.000000\n",
              "errors                              0.000000\n",
              "TP                                  0.000000\n",
              "TN                                  1.000000\n",
              "FN                                  0.000000\n",
              "FP                                  0.000000\n",
              "Name: 3, dtype: float64"
            ],
            "text/html": [
              "<div>\n",
              "<style scoped>\n",
              "    .dataframe tbody tr th:only-of-type {\n",
              "        vertical-align: middle;\n",
              "    }\n",
              "\n",
              "    .dataframe tbody tr th {\n",
              "        vertical-align: top;\n",
              "    }\n",
              "\n",
              "    .dataframe thead th {\n",
              "        text-align: right;\n",
              "    }\n",
              "</style>\n",
              "<table border=\"1\" class=\"dataframe\">\n",
              "  <thead>\n",
              "    <tr style=\"text-align: right;\">\n",
              "      <th></th>\n",
              "      <th>3</th>\n",
              "    </tr>\n",
              "  </thead>\n",
              "  <tbody>\n",
              "    <tr>\n",
              "      <th>income</th>\n",
              "      <td>-0.342241</td>\n",
              "    </tr>\n",
              "    <tr>\n",
              "      <th>name_email_similarity</th>\n",
              "      <td>-0.713974</td>\n",
              "    </tr>\n",
              "    <tr>\n",
              "      <th>customer_age</th>\n",
              "      <td>1.761534</td>\n",
              "    </tr>\n",
              "    <tr>\n",
              "      <th>zip_count_4w</th>\n",
              "      <td>-0.507300</td>\n",
              "    </tr>\n",
              "    <tr>\n",
              "      <th>bank_branch_count_8w</th>\n",
              "      <td>-0.358623</td>\n",
              "    </tr>\n",
              "    <tr>\n",
              "      <th>date_of_birth_distinct_emails_4w</th>\n",
              "      <td>-0.754944</td>\n",
              "    </tr>\n",
              "    <tr>\n",
              "      <th>email_is_free</th>\n",
              "      <td>-1.093058</td>\n",
              "    </tr>\n",
              "    <tr>\n",
              "      <th>phone_mobile_valid</th>\n",
              "      <td>0.479411</td>\n",
              "    </tr>\n",
              "    <tr>\n",
              "      <th>has_other_cards</th>\n",
              "      <td>-0.474295</td>\n",
              "    </tr>\n",
              "    <tr>\n",
              "      <th>proposed_credit_limit</th>\n",
              "      <td>-0.866519</td>\n",
              "    </tr>\n",
              "    <tr>\n",
              "      <th>foreign_request</th>\n",
              "      <td>-0.231656</td>\n",
              "    </tr>\n",
              "    <tr>\n",
              "      <th>session_length_in_minutes</th>\n",
              "      <td>-0.473907</td>\n",
              "    </tr>\n",
              "    <tr>\n",
              "      <th>month</th>\n",
              "      <td>2.098824</td>\n",
              "    </tr>\n",
              "    <tr>\n",
              "      <th>source_INTERNET</th>\n",
              "      <td>0.058416</td>\n",
              "    </tr>\n",
              "    <tr>\n",
              "      <th>source_TELEAPP</th>\n",
              "      <td>-0.058416</td>\n",
              "    </tr>\n",
              "    <tr>\n",
              "      <th>device_os_linux</th>\n",
              "      <td>-0.540223</td>\n",
              "    </tr>\n",
              "    <tr>\n",
              "      <th>device_os_macintosh</th>\n",
              "      <td>-0.296665</td>\n",
              "    </tr>\n",
              "    <tr>\n",
              "      <th>device_os_other</th>\n",
              "      <td>2.088677</td>\n",
              "    </tr>\n",
              "    <tr>\n",
              "      <th>device_os_windows</th>\n",
              "      <td>-0.991775</td>\n",
              "    </tr>\n",
              "    <tr>\n",
              "      <th>device_os_x11</th>\n",
              "      <td>-0.104734</td>\n",
              "    </tr>\n",
              "    <tr>\n",
              "      <th>predicted_class</th>\n",
              "      <td>0.000000</td>\n",
              "    </tr>\n",
              "    <tr>\n",
              "      <th>true_class</th>\n",
              "      <td>0.000000</td>\n",
              "    </tr>\n",
              "    <tr>\n",
              "      <th>errors</th>\n",
              "      <td>0.000000</td>\n",
              "    </tr>\n",
              "    <tr>\n",
              "      <th>TP</th>\n",
              "      <td>0.000000</td>\n",
              "    </tr>\n",
              "    <tr>\n",
              "      <th>TN</th>\n",
              "      <td>1.000000</td>\n",
              "    </tr>\n",
              "    <tr>\n",
              "      <th>FN</th>\n",
              "      <td>0.000000</td>\n",
              "    </tr>\n",
              "    <tr>\n",
              "      <th>FP</th>\n",
              "      <td>0.000000</td>\n",
              "    </tr>\n",
              "  </tbody>\n",
              "</table>\n",
              "</div><br><label><b>dtype:</b> float64</label>"
            ]
          },
          "metadata": {},
          "execution_count": 40
        }
      ]
    },
    {
      "cell_type": "code",
      "source": [
        "X_scaled_test_df = X_scaled_test_df.add_suffix('_scaled')\n",
        "X_scaled_test_df.iloc[3]\n",
        "X_scaled_test_df.info()"
      ],
      "metadata": {
        "colab": {
          "base_uri": "https://localhost:8080/"
        },
        "id": "SYv90rmnwbxv",
        "outputId": "3bd5db9b-3812-4116-8c0f-bcac13fdb4fd"
      },
      "execution_count": 41,
      "outputs": [
        {
          "output_type": "stream",
          "name": "stdout",
          "text": [
            "<class 'pandas.core.frame.DataFrame'>\n",
            "RangeIndex: 3486 entries, 0 to 3485\n",
            "Data columns (total 20 columns):\n",
            " #   Column                                   Non-Null Count  Dtype  \n",
            "---  ------                                   --------------  -----  \n",
            " 0   income_scaled                            3486 non-null   float64\n",
            " 1   name_email_similarity_scaled             3486 non-null   float64\n",
            " 2   customer_age_scaled                      3486 non-null   float64\n",
            " 3   zip_count_4w_scaled                      3486 non-null   float64\n",
            " 4   bank_branch_count_8w_scaled              3486 non-null   float64\n",
            " 5   date_of_birth_distinct_emails_4w_scaled  3486 non-null   float64\n",
            " 6   email_is_free_scaled                     3486 non-null   float64\n",
            " 7   phone_mobile_valid_scaled                3486 non-null   float64\n",
            " 8   has_other_cards_scaled                   3486 non-null   float64\n",
            " 9   proposed_credit_limit_scaled             3486 non-null   float64\n",
            " 10  foreign_request_scaled                   3486 non-null   float64\n",
            " 11  session_length_in_minutes_scaled         3486 non-null   float64\n",
            " 12  month_scaled                             3486 non-null   float64\n",
            " 13  source_INTERNET_scaled                   3486 non-null   float64\n",
            " 14  source_TELEAPP_scaled                    3486 non-null   float64\n",
            " 15  device_os_linux_scaled                   3486 non-null   float64\n",
            " 16  device_os_macintosh_scaled               3486 non-null   float64\n",
            " 17  device_os_other_scaled                   3486 non-null   float64\n",
            " 18  device_os_windows_scaled                 3486 non-null   float64\n",
            " 19  device_os_x11_scaled                     3486 non-null   float64\n",
            "dtypes: float64(20)\n",
            "memory usage: 544.8 KB\n"
          ]
        }
      ]
    },
    {
      "cell_type": "code",
      "source": [
        "v2_err_scaled = pd.merge(v2_err, X_scaled_test_df, left_index=True, right_index=True, how='left')"
      ],
      "metadata": {
        "id": "7YDRQIhknJpP"
      },
      "execution_count": 42,
      "outputs": []
    },
    {
      "cell_type": "code",
      "source": [
        "v2_err_scaled.info()"
      ],
      "metadata": {
        "colab": {
          "base_uri": "https://localhost:8080/"
        },
        "collapsed": true,
        "id": "z6k4dIy9k2C1",
        "outputId": "254c5b11-fba8-4583-9314-67a621eeb354"
      },
      "execution_count": 43,
      "outputs": [
        {
          "output_type": "stream",
          "name": "stdout",
          "text": [
            "<class 'pandas.core.frame.DataFrame'>\n",
            "RangeIndex: 3486 entries, 0 to 3485\n",
            "Data columns (total 47 columns):\n",
            " #   Column                                   Non-Null Count  Dtype  \n",
            "---  ------                                   --------------  -----  \n",
            " 0   income                                   3486 non-null   float64\n",
            " 1   name_email_similarity                    3486 non-null   float64\n",
            " 2   customer_age                             3486 non-null   float64\n",
            " 3   zip_count_4w                             3486 non-null   float64\n",
            " 4   bank_branch_count_8w                     3486 non-null   float64\n",
            " 5   date_of_birth_distinct_emails_4w         3486 non-null   float64\n",
            " 6   email_is_free                            3486 non-null   float64\n",
            " 7   phone_mobile_valid                       3486 non-null   float64\n",
            " 8   has_other_cards                          3486 non-null   float64\n",
            " 9   proposed_credit_limit                    3486 non-null   float64\n",
            " 10  foreign_request                          3486 non-null   float64\n",
            " 11  session_length_in_minutes                3486 non-null   float64\n",
            " 12  month                                    3486 non-null   float64\n",
            " 13  source_INTERNET                          3486 non-null   float64\n",
            " 14  source_TELEAPP                           3486 non-null   float64\n",
            " 15  device_os_linux                          3486 non-null   float64\n",
            " 16  device_os_macintosh                      3486 non-null   float64\n",
            " 17  device_os_other                          3486 non-null   float64\n",
            " 18  device_os_windows                        3486 non-null   float64\n",
            " 19  device_os_x11                            3486 non-null   float64\n",
            " 20  predicted_class                          3486 non-null   float64\n",
            " 21  true_class                               3486 non-null   float64\n",
            " 22  errors                                   3486 non-null   float64\n",
            " 23  TP                                       3486 non-null   float64\n",
            " 24  TN                                       3486 non-null   float64\n",
            " 25  FN                                       3486 non-null   float64\n",
            " 26  FP                                       3486 non-null   float64\n",
            " 27  income_scaled                            3486 non-null   float64\n",
            " 28  name_email_similarity_scaled             3486 non-null   float64\n",
            " 29  customer_age_scaled                      3486 non-null   float64\n",
            " 30  zip_count_4w_scaled                      3486 non-null   float64\n",
            " 31  bank_branch_count_8w_scaled              3486 non-null   float64\n",
            " 32  date_of_birth_distinct_emails_4w_scaled  3486 non-null   float64\n",
            " 33  email_is_free_scaled                     3486 non-null   float64\n",
            " 34  phone_mobile_valid_scaled                3486 non-null   float64\n",
            " 35  has_other_cards_scaled                   3486 non-null   float64\n",
            " 36  proposed_credit_limit_scaled             3486 non-null   float64\n",
            " 37  foreign_request_scaled                   3486 non-null   float64\n",
            " 38  session_length_in_minutes_scaled         3486 non-null   float64\n",
            " 39  month_scaled                             3486 non-null   float64\n",
            " 40  source_INTERNET_scaled                   3486 non-null   float64\n",
            " 41  source_TELEAPP_scaled                    3486 non-null   float64\n",
            " 42  device_os_linux_scaled                   3486 non-null   float64\n",
            " 43  device_os_macintosh_scaled               3486 non-null   float64\n",
            " 44  device_os_other_scaled                   3486 non-null   float64\n",
            " 45  device_os_windows_scaled                 3486 non-null   float64\n",
            " 46  device_os_x11_scaled                     3486 non-null   float64\n",
            "dtypes: float64(47)\n",
            "memory usage: 1.3 MB\n"
          ]
        }
      ]
    },
    {
      "cell_type": "code",
      "source": [
        "#add scaled errors as well\n",
        "errors_col = ['errors', 'TP', 'TN', 'FN', 'FP', 'predicted_class', 'true_class']\n",
        "df_errors = v2_err_scaled[errors_col]\n",
        "df_errors.info()\n",
        "\n",
        "errors_scaled = scaler.fit_transform(df_errors)\n",
        "errors_scaled_df = pd.DataFrame(errors_scaled, columns=[col + '_scaled' for col in df_errors.columns])\n",
        "errors_scaled_df.info()"
      ],
      "metadata": {
        "colab": {
          "base_uri": "https://localhost:8080/"
        },
        "id": "QCVrxTFOyA1a",
        "outputId": "6c936d82-73d0-4474-b840-7975711eb897"
      },
      "execution_count": 44,
      "outputs": [
        {
          "output_type": "stream",
          "name": "stdout",
          "text": [
            "<class 'pandas.core.frame.DataFrame'>\n",
            "RangeIndex: 3486 entries, 0 to 3485\n",
            "Data columns (total 7 columns):\n",
            " #   Column           Non-Null Count  Dtype  \n",
            "---  ------           --------------  -----  \n",
            " 0   errors           3486 non-null   float64\n",
            " 1   TP               3486 non-null   float64\n",
            " 2   TN               3486 non-null   float64\n",
            " 3   FN               3486 non-null   float64\n",
            " 4   FP               3486 non-null   float64\n",
            " 5   predicted_class  3486 non-null   float64\n",
            " 6   true_class       3486 non-null   float64\n",
            "dtypes: float64(7)\n",
            "memory usage: 190.8 KB\n",
            "<class 'pandas.core.frame.DataFrame'>\n",
            "RangeIndex: 3486 entries, 0 to 3485\n",
            "Data columns (total 7 columns):\n",
            " #   Column                  Non-Null Count  Dtype  \n",
            "---  ------                  --------------  -----  \n",
            " 0   errors_scaled           3486 non-null   float64\n",
            " 1   TP_scaled               3486 non-null   float64\n",
            " 2   TN_scaled               3486 non-null   float64\n",
            " 3   FN_scaled               3486 non-null   float64\n",
            " 4   FP_scaled               3486 non-null   float64\n",
            " 5   predicted_class_scaled  3486 non-null   float64\n",
            " 6   true_class_scaled       3486 non-null   float64\n",
            "dtypes: float64(7)\n",
            "memory usage: 190.8 KB\n"
          ]
        }
      ]
    },
    {
      "cell_type": "code",
      "source": [
        "v2_err_sc = pd.merge(v2_err_scaled, errors_scaled_df, left_index=True, right_index=True)\n",
        "v2_err_sc.info()"
      ],
      "metadata": {
        "colab": {
          "base_uri": "https://localhost:8080/"
        },
        "id": "KGFVKyURyh_g",
        "outputId": "eed7a3d4-41dc-4a05-e5ee-73282f400aee"
      },
      "execution_count": 45,
      "outputs": [
        {
          "output_type": "stream",
          "name": "stdout",
          "text": [
            "<class 'pandas.core.frame.DataFrame'>\n",
            "RangeIndex: 3486 entries, 0 to 3485\n",
            "Data columns (total 54 columns):\n",
            " #   Column                                   Non-Null Count  Dtype  \n",
            "---  ------                                   --------------  -----  \n",
            " 0   income                                   3486 non-null   float64\n",
            " 1   name_email_similarity                    3486 non-null   float64\n",
            " 2   customer_age                             3486 non-null   float64\n",
            " 3   zip_count_4w                             3486 non-null   float64\n",
            " 4   bank_branch_count_8w                     3486 non-null   float64\n",
            " 5   date_of_birth_distinct_emails_4w         3486 non-null   float64\n",
            " 6   email_is_free                            3486 non-null   float64\n",
            " 7   phone_mobile_valid                       3486 non-null   float64\n",
            " 8   has_other_cards                          3486 non-null   float64\n",
            " 9   proposed_credit_limit                    3486 non-null   float64\n",
            " 10  foreign_request                          3486 non-null   float64\n",
            " 11  session_length_in_minutes                3486 non-null   float64\n",
            " 12  month                                    3486 non-null   float64\n",
            " 13  source_INTERNET                          3486 non-null   float64\n",
            " 14  source_TELEAPP                           3486 non-null   float64\n",
            " 15  device_os_linux                          3486 non-null   float64\n",
            " 16  device_os_macintosh                      3486 non-null   float64\n",
            " 17  device_os_other                          3486 non-null   float64\n",
            " 18  device_os_windows                        3486 non-null   float64\n",
            " 19  device_os_x11                            3486 non-null   float64\n",
            " 20  predicted_class                          3486 non-null   float64\n",
            " 21  true_class                               3486 non-null   float64\n",
            " 22  errors                                   3486 non-null   float64\n",
            " 23  TP                                       3486 non-null   float64\n",
            " 24  TN                                       3486 non-null   float64\n",
            " 25  FN                                       3486 non-null   float64\n",
            " 26  FP                                       3486 non-null   float64\n",
            " 27  income_scaled                            3486 non-null   float64\n",
            " 28  name_email_similarity_scaled             3486 non-null   float64\n",
            " 29  customer_age_scaled                      3486 non-null   float64\n",
            " 30  zip_count_4w_scaled                      3486 non-null   float64\n",
            " 31  bank_branch_count_8w_scaled              3486 non-null   float64\n",
            " 32  date_of_birth_distinct_emails_4w_scaled  3486 non-null   float64\n",
            " 33  email_is_free_scaled                     3486 non-null   float64\n",
            " 34  phone_mobile_valid_scaled                3486 non-null   float64\n",
            " 35  has_other_cards_scaled                   3486 non-null   float64\n",
            " 36  proposed_credit_limit_scaled             3486 non-null   float64\n",
            " 37  foreign_request_scaled                   3486 non-null   float64\n",
            " 38  session_length_in_minutes_scaled         3486 non-null   float64\n",
            " 39  month_scaled                             3486 non-null   float64\n",
            " 40  source_INTERNET_scaled                   3486 non-null   float64\n",
            " 41  source_TELEAPP_scaled                    3486 non-null   float64\n",
            " 42  device_os_linux_scaled                   3486 non-null   float64\n",
            " 43  device_os_macintosh_scaled               3486 non-null   float64\n",
            " 44  device_os_other_scaled                   3486 non-null   float64\n",
            " 45  device_os_windows_scaled                 3486 non-null   float64\n",
            " 46  device_os_x11_scaled                     3486 non-null   float64\n",
            " 47  errors_scaled                            3486 non-null   float64\n",
            " 48  TP_scaled                                3486 non-null   float64\n",
            " 49  TN_scaled                                3486 non-null   float64\n",
            " 50  FN_scaled                                3486 non-null   float64\n",
            " 51  FP_scaled                                3486 non-null   float64\n",
            " 52  predicted_class_scaled                   3486 non-null   float64\n",
            " 53  true_class_scaled                        3486 non-null   float64\n",
            "dtypes: float64(54)\n",
            "memory usage: 1.4 MB\n"
          ]
        }
      ]
    },
    {
      "cell_type": "markdown",
      "source": [
        "# Add SHAP values"
      ],
      "metadata": {
        "id": "dVk5voM9zvyn"
      }
    },
    {
      "cell_type": "code",
      "source": [
        "!pip install shap\n",
        "import shap"
      ],
      "metadata": {
        "colab": {
          "base_uri": "https://localhost:8080/"
        },
        "id": "24IPjUdxz0Qg",
        "outputId": "3c899933-d485-412f-b15e-e9f74b89b996"
      },
      "execution_count": 46,
      "outputs": [
        {
          "output_type": "stream",
          "name": "stdout",
          "text": [
            "Requirement already satisfied: shap in /usr/local/lib/python3.10/dist-packages (0.46.0)\n",
            "Requirement already satisfied: numpy in /usr/local/lib/python3.10/dist-packages (from shap) (1.26.4)\n",
            "Requirement already satisfied: scipy in /usr/local/lib/python3.10/dist-packages (from shap) (1.13.1)\n",
            "Requirement already satisfied: scikit-learn in /usr/local/lib/python3.10/dist-packages (from shap) (1.6.0)\n",
            "Requirement already satisfied: pandas in /usr/local/lib/python3.10/dist-packages (from shap) (2.2.2)\n",
            "Requirement already satisfied: tqdm>=4.27.0 in /usr/local/lib/python3.10/dist-packages (from shap) (4.67.1)\n",
            "Requirement already satisfied: packaging>20.9 in /usr/local/lib/python3.10/dist-packages (from shap) (24.2)\n",
            "Requirement already satisfied: slicer==0.0.8 in /usr/local/lib/python3.10/dist-packages (from shap) (0.0.8)\n",
            "Requirement already satisfied: numba in /usr/local/lib/python3.10/dist-packages (from shap) (0.60.0)\n",
            "Requirement already satisfied: cloudpickle in /usr/local/lib/python3.10/dist-packages (from shap) (3.1.0)\n",
            "Requirement already satisfied: llvmlite<0.44,>=0.43.0dev0 in /usr/local/lib/python3.10/dist-packages (from numba->shap) (0.43.0)\n",
            "Requirement already satisfied: python-dateutil>=2.8.2 in /usr/local/lib/python3.10/dist-packages (from pandas->shap) (2.8.2)\n",
            "Requirement already satisfied: pytz>=2020.1 in /usr/local/lib/python3.10/dist-packages (from pandas->shap) (2024.2)\n",
            "Requirement already satisfied: tzdata>=2022.7 in /usr/local/lib/python3.10/dist-packages (from pandas->shap) (2024.2)\n",
            "Requirement already satisfied: joblib>=1.2.0 in /usr/local/lib/python3.10/dist-packages (from scikit-learn->shap) (1.4.2)\n",
            "Requirement already satisfied: threadpoolctl>=3.1.0 in /usr/local/lib/python3.10/dist-packages (from scikit-learn->shap) (3.5.0)\n",
            "Requirement already satisfied: six>=1.5 in /usr/local/lib/python3.10/dist-packages (from python-dateutil>=2.8.2->pandas->shap) (1.17.0)\n"
          ]
        }
      ]
    },
    {
      "cell_type": "markdown",
      "source": [
        "3486 entries, 20 columns in X_scaled_test_df"
      ],
      "metadata": {
        "id": "rcOYzATK0lxM"
      }
    },
    {
      "cell_type": "code",
      "source": [
        "tree_explainer = shap.TreeExplainer(model)\n",
        "shap_values = tree_explainer.shap_values(X_test, check_additivity=False)"
      ],
      "metadata": {
        "id": "fSsGg5mTz_1u"
      },
      "execution_count": 47,
      "outputs": []
    },
    {
      "cell_type": "code",
      "source": [
        "shap_values_class1 = shap_values[:, :, 1] #all samples, all features, class = 1\n",
        "shap_values_class0 = shap_values[:, :, 0]"
      ],
      "metadata": {
        "id": "DlGSNHjY0Va9"
      },
      "execution_count": 48,
      "outputs": []
    },
    {
      "cell_type": "code",
      "source": [
        "df_shap_values = pd.DataFrame(shap_values_class1, columns=[f'Shap_{col}' for col in X_test.columns])\n",
        "df_shap_values.info()\n",
        "df_shap_values.iloc[3]"
      ],
      "metadata": {
        "id": "MfOd0c3V1MHj",
        "colab": {
          "base_uri": "https://localhost:8080/",
          "height": 1000
        },
        "outputId": "289803fb-778c-48d8-d036-b90056874bdd"
      },
      "execution_count": 49,
      "outputs": [
        {
          "output_type": "stream",
          "name": "stdout",
          "text": [
            "<class 'pandas.core.frame.DataFrame'>\n",
            "RangeIndex: 3486 entries, 0 to 3485\n",
            "Data columns (total 20 columns):\n",
            " #   Column                                 Non-Null Count  Dtype  \n",
            "---  ------                                 --------------  -----  \n",
            " 0   Shap_income                            3486 non-null   float64\n",
            " 1   Shap_name_email_similarity             3486 non-null   float64\n",
            " 2   Shap_customer_age                      3486 non-null   float64\n",
            " 3   Shap_zip_count_4w                      3486 non-null   float64\n",
            " 4   Shap_bank_branch_count_8w              3486 non-null   float64\n",
            " 5   Shap_date_of_birth_distinct_emails_4w  3486 non-null   float64\n",
            " 6   Shap_email_is_free                     3486 non-null   float64\n",
            " 7   Shap_phone_mobile_valid                3486 non-null   float64\n",
            " 8   Shap_has_other_cards                   3486 non-null   float64\n",
            " 9   Shap_proposed_credit_limit             3486 non-null   float64\n",
            " 10  Shap_foreign_request                   3486 non-null   float64\n",
            " 11  Shap_session_length_in_minutes         3486 non-null   float64\n",
            " 12  Shap_month                             3486 non-null   float64\n",
            " 13  Shap_source_INTERNET                   3486 non-null   float64\n",
            " 14  Shap_source_TELEAPP                    3486 non-null   float64\n",
            " 15  Shap_device_os_linux                   3486 non-null   float64\n",
            " 16  Shap_device_os_macintosh               3486 non-null   float64\n",
            " 17  Shap_device_os_other                   3486 non-null   float64\n",
            " 18  Shap_device_os_windows                 3486 non-null   float64\n",
            " 19  Shap_device_os_x11                     3486 non-null   float64\n",
            "dtypes: float64(20)\n",
            "memory usage: 544.8 KB\n"
          ]
        },
        {
          "output_type": "execute_result",
          "data": {
            "text/plain": [
              "Shap_income                             -0.016982\n",
              "Shap_name_email_similarity              -0.067676\n",
              "Shap_customer_age                        0.034599\n",
              "Shap_zip_count_4w                       -0.057405\n",
              "Shap_bank_branch_count_8w               -0.092540\n",
              "Shap_date_of_birth_distinct_emails_4w   -0.058397\n",
              "Shap_email_is_free                      -0.010450\n",
              "Shap_phone_mobile_valid                 -0.006202\n",
              "Shap_has_other_cards                     0.005722\n",
              "Shap_proposed_credit_limit               0.035405\n",
              "Shap_foreign_request                    -0.001373\n",
              "Shap_session_length_in_minutes          -0.040960\n",
              "Shap_month                              -0.052085\n",
              "Shap_source_INTERNET                     0.000033\n",
              "Shap_source_TELEAPP                      0.000032\n",
              "Shap_device_os_linux                     0.011628\n",
              "Shap_device_os_macintosh                -0.004058\n",
              "Shap_device_os_other                    -0.071621\n",
              "Shap_device_os_windows                  -0.049111\n",
              "Shap_device_os_x11                      -0.000289\n",
              "Name: 3, dtype: float64"
            ],
            "text/html": [
              "<div>\n",
              "<style scoped>\n",
              "    .dataframe tbody tr th:only-of-type {\n",
              "        vertical-align: middle;\n",
              "    }\n",
              "\n",
              "    .dataframe tbody tr th {\n",
              "        vertical-align: top;\n",
              "    }\n",
              "\n",
              "    .dataframe thead th {\n",
              "        text-align: right;\n",
              "    }\n",
              "</style>\n",
              "<table border=\"1\" class=\"dataframe\">\n",
              "  <thead>\n",
              "    <tr style=\"text-align: right;\">\n",
              "      <th></th>\n",
              "      <th>3</th>\n",
              "    </tr>\n",
              "  </thead>\n",
              "  <tbody>\n",
              "    <tr>\n",
              "      <th>Shap_income</th>\n",
              "      <td>-0.016982</td>\n",
              "    </tr>\n",
              "    <tr>\n",
              "      <th>Shap_name_email_similarity</th>\n",
              "      <td>-0.067676</td>\n",
              "    </tr>\n",
              "    <tr>\n",
              "      <th>Shap_customer_age</th>\n",
              "      <td>0.034599</td>\n",
              "    </tr>\n",
              "    <tr>\n",
              "      <th>Shap_zip_count_4w</th>\n",
              "      <td>-0.057405</td>\n",
              "    </tr>\n",
              "    <tr>\n",
              "      <th>Shap_bank_branch_count_8w</th>\n",
              "      <td>-0.092540</td>\n",
              "    </tr>\n",
              "    <tr>\n",
              "      <th>Shap_date_of_birth_distinct_emails_4w</th>\n",
              "      <td>-0.058397</td>\n",
              "    </tr>\n",
              "    <tr>\n",
              "      <th>Shap_email_is_free</th>\n",
              "      <td>-0.010450</td>\n",
              "    </tr>\n",
              "    <tr>\n",
              "      <th>Shap_phone_mobile_valid</th>\n",
              "      <td>-0.006202</td>\n",
              "    </tr>\n",
              "    <tr>\n",
              "      <th>Shap_has_other_cards</th>\n",
              "      <td>0.005722</td>\n",
              "    </tr>\n",
              "    <tr>\n",
              "      <th>Shap_proposed_credit_limit</th>\n",
              "      <td>0.035405</td>\n",
              "    </tr>\n",
              "    <tr>\n",
              "      <th>Shap_foreign_request</th>\n",
              "      <td>-0.001373</td>\n",
              "    </tr>\n",
              "    <tr>\n",
              "      <th>Shap_session_length_in_minutes</th>\n",
              "      <td>-0.040960</td>\n",
              "    </tr>\n",
              "    <tr>\n",
              "      <th>Shap_month</th>\n",
              "      <td>-0.052085</td>\n",
              "    </tr>\n",
              "    <tr>\n",
              "      <th>Shap_source_INTERNET</th>\n",
              "      <td>0.000033</td>\n",
              "    </tr>\n",
              "    <tr>\n",
              "      <th>Shap_source_TELEAPP</th>\n",
              "      <td>0.000032</td>\n",
              "    </tr>\n",
              "    <tr>\n",
              "      <th>Shap_device_os_linux</th>\n",
              "      <td>0.011628</td>\n",
              "    </tr>\n",
              "    <tr>\n",
              "      <th>Shap_device_os_macintosh</th>\n",
              "      <td>-0.004058</td>\n",
              "    </tr>\n",
              "    <tr>\n",
              "      <th>Shap_device_os_other</th>\n",
              "      <td>-0.071621</td>\n",
              "    </tr>\n",
              "    <tr>\n",
              "      <th>Shap_device_os_windows</th>\n",
              "      <td>-0.049111</td>\n",
              "    </tr>\n",
              "    <tr>\n",
              "      <th>Shap_device_os_x11</th>\n",
              "      <td>-0.000289</td>\n",
              "    </tr>\n",
              "  </tbody>\n",
              "</table>\n",
              "</div><br><label><b>dtype:</b> float64</label>"
            ]
          },
          "metadata": {},
          "execution_count": 49
        }
      ]
    },
    {
      "cell_type": "code",
      "source": [
        "df_shap_scaled = scaler.fit_transform(df_shap_values)\n",
        "df_all_shap = pd.merge(df_shap_values, pd.DataFrame(df_shap_scaled, columns=[col + '_scaled' for col in df_shap_values.columns]), left_index=True, right_index=True)\n",
        "df_all_shap.info()"
      ],
      "metadata": {
        "colab": {
          "base_uri": "https://localhost:8080/"
        },
        "id": "_Gqdi22C2jj1",
        "outputId": "903278a6-d125-4b24-8a9c-ed69432a1aee"
      },
      "execution_count": 50,
      "outputs": [
        {
          "output_type": "stream",
          "name": "stdout",
          "text": [
            "<class 'pandas.core.frame.DataFrame'>\n",
            "RangeIndex: 3486 entries, 0 to 3485\n",
            "Data columns (total 40 columns):\n",
            " #   Column                                        Non-Null Count  Dtype  \n",
            "---  ------                                        --------------  -----  \n",
            " 0   Shap_income                                   3486 non-null   float64\n",
            " 1   Shap_name_email_similarity                    3486 non-null   float64\n",
            " 2   Shap_customer_age                             3486 non-null   float64\n",
            " 3   Shap_zip_count_4w                             3486 non-null   float64\n",
            " 4   Shap_bank_branch_count_8w                     3486 non-null   float64\n",
            " 5   Shap_date_of_birth_distinct_emails_4w         3486 non-null   float64\n",
            " 6   Shap_email_is_free                            3486 non-null   float64\n",
            " 7   Shap_phone_mobile_valid                       3486 non-null   float64\n",
            " 8   Shap_has_other_cards                          3486 non-null   float64\n",
            " 9   Shap_proposed_credit_limit                    3486 non-null   float64\n",
            " 10  Shap_foreign_request                          3486 non-null   float64\n",
            " 11  Shap_session_length_in_minutes                3486 non-null   float64\n",
            " 12  Shap_month                                    3486 non-null   float64\n",
            " 13  Shap_source_INTERNET                          3486 non-null   float64\n",
            " 14  Shap_source_TELEAPP                           3486 non-null   float64\n",
            " 15  Shap_device_os_linux                          3486 non-null   float64\n",
            " 16  Shap_device_os_macintosh                      3486 non-null   float64\n",
            " 17  Shap_device_os_other                          3486 non-null   float64\n",
            " 18  Shap_device_os_windows                        3486 non-null   float64\n",
            " 19  Shap_device_os_x11                            3486 non-null   float64\n",
            " 20  Shap_income_scaled                            3486 non-null   float64\n",
            " 21  Shap_name_email_similarity_scaled             3486 non-null   float64\n",
            " 22  Shap_customer_age_scaled                      3486 non-null   float64\n",
            " 23  Shap_zip_count_4w_scaled                      3486 non-null   float64\n",
            " 24  Shap_bank_branch_count_8w_scaled              3486 non-null   float64\n",
            " 25  Shap_date_of_birth_distinct_emails_4w_scaled  3486 non-null   float64\n",
            " 26  Shap_email_is_free_scaled                     3486 non-null   float64\n",
            " 27  Shap_phone_mobile_valid_scaled                3486 non-null   float64\n",
            " 28  Shap_has_other_cards_scaled                   3486 non-null   float64\n",
            " 29  Shap_proposed_credit_limit_scaled             3486 non-null   float64\n",
            " 30  Shap_foreign_request_scaled                   3486 non-null   float64\n",
            " 31  Shap_session_length_in_minutes_scaled         3486 non-null   float64\n",
            " 32  Shap_month_scaled                             3486 non-null   float64\n",
            " 33  Shap_source_INTERNET_scaled                   3486 non-null   float64\n",
            " 34  Shap_source_TELEAPP_scaled                    3486 non-null   float64\n",
            " 35  Shap_device_os_linux_scaled                   3486 non-null   float64\n",
            " 36  Shap_device_os_macintosh_scaled               3486 non-null   float64\n",
            " 37  Shap_device_os_other_scaled                   3486 non-null   float64\n",
            " 38  Shap_device_os_windows_scaled                 3486 non-null   float64\n",
            " 39  Shap_device_os_x11_scaled                     3486 non-null   float64\n",
            "dtypes: float64(40)\n",
            "memory usage: 1.1 MB\n"
          ]
        }
      ]
    },
    {
      "cell_type": "markdown",
      "source": [
        "# Make Master dataset"
      ],
      "metadata": {
        "id": "7a6LDIY73JEb"
      }
    },
    {
      "cell_type": "code",
      "source": [
        "v2_all = pd.merge(v2_err_sc, df_all_shap, left_index=True, right_index=True)\n",
        "v2_all.info()"
      ],
      "metadata": {
        "colab": {
          "base_uri": "https://localhost:8080/"
        },
        "id": "ApKU35sy3MGE",
        "outputId": "c3062823-13a8-4850-fbdd-b845a0987206"
      },
      "execution_count": 51,
      "outputs": [
        {
          "output_type": "stream",
          "name": "stdout",
          "text": [
            "<class 'pandas.core.frame.DataFrame'>\n",
            "RangeIndex: 3486 entries, 0 to 3485\n",
            "Data columns (total 94 columns):\n",
            " #   Column                                        Non-Null Count  Dtype  \n",
            "---  ------                                        --------------  -----  \n",
            " 0   income                                        3486 non-null   float64\n",
            " 1   name_email_similarity                         3486 non-null   float64\n",
            " 2   customer_age                                  3486 non-null   float64\n",
            " 3   zip_count_4w                                  3486 non-null   float64\n",
            " 4   bank_branch_count_8w                          3486 non-null   float64\n",
            " 5   date_of_birth_distinct_emails_4w              3486 non-null   float64\n",
            " 6   email_is_free                                 3486 non-null   float64\n",
            " 7   phone_mobile_valid                            3486 non-null   float64\n",
            " 8   has_other_cards                               3486 non-null   float64\n",
            " 9   proposed_credit_limit                         3486 non-null   float64\n",
            " 10  foreign_request                               3486 non-null   float64\n",
            " 11  session_length_in_minutes                     3486 non-null   float64\n",
            " 12  month                                         3486 non-null   float64\n",
            " 13  source_INTERNET                               3486 non-null   float64\n",
            " 14  source_TELEAPP                                3486 non-null   float64\n",
            " 15  device_os_linux                               3486 non-null   float64\n",
            " 16  device_os_macintosh                           3486 non-null   float64\n",
            " 17  device_os_other                               3486 non-null   float64\n",
            " 18  device_os_windows                             3486 non-null   float64\n",
            " 19  device_os_x11                                 3486 non-null   float64\n",
            " 20  predicted_class                               3486 non-null   float64\n",
            " 21  true_class                                    3486 non-null   float64\n",
            " 22  errors                                        3486 non-null   float64\n",
            " 23  TP                                            3486 non-null   float64\n",
            " 24  TN                                            3486 non-null   float64\n",
            " 25  FN                                            3486 non-null   float64\n",
            " 26  FP                                            3486 non-null   float64\n",
            " 27  income_scaled                                 3486 non-null   float64\n",
            " 28  name_email_similarity_scaled                  3486 non-null   float64\n",
            " 29  customer_age_scaled                           3486 non-null   float64\n",
            " 30  zip_count_4w_scaled                           3486 non-null   float64\n",
            " 31  bank_branch_count_8w_scaled                   3486 non-null   float64\n",
            " 32  date_of_birth_distinct_emails_4w_scaled       3486 non-null   float64\n",
            " 33  email_is_free_scaled                          3486 non-null   float64\n",
            " 34  phone_mobile_valid_scaled                     3486 non-null   float64\n",
            " 35  has_other_cards_scaled                        3486 non-null   float64\n",
            " 36  proposed_credit_limit_scaled                  3486 non-null   float64\n",
            " 37  foreign_request_scaled                        3486 non-null   float64\n",
            " 38  session_length_in_minutes_scaled              3486 non-null   float64\n",
            " 39  month_scaled                                  3486 non-null   float64\n",
            " 40  source_INTERNET_scaled                        3486 non-null   float64\n",
            " 41  source_TELEAPP_scaled                         3486 non-null   float64\n",
            " 42  device_os_linux_scaled                        3486 non-null   float64\n",
            " 43  device_os_macintosh_scaled                    3486 non-null   float64\n",
            " 44  device_os_other_scaled                        3486 non-null   float64\n",
            " 45  device_os_windows_scaled                      3486 non-null   float64\n",
            " 46  device_os_x11_scaled                          3486 non-null   float64\n",
            " 47  errors_scaled                                 3486 non-null   float64\n",
            " 48  TP_scaled                                     3486 non-null   float64\n",
            " 49  TN_scaled                                     3486 non-null   float64\n",
            " 50  FN_scaled                                     3486 non-null   float64\n",
            " 51  FP_scaled                                     3486 non-null   float64\n",
            " 52  predicted_class_scaled                        3486 non-null   float64\n",
            " 53  true_class_scaled                             3486 non-null   float64\n",
            " 54  Shap_income                                   3486 non-null   float64\n",
            " 55  Shap_name_email_similarity                    3486 non-null   float64\n",
            " 56  Shap_customer_age                             3486 non-null   float64\n",
            " 57  Shap_zip_count_4w                             3486 non-null   float64\n",
            " 58  Shap_bank_branch_count_8w                     3486 non-null   float64\n",
            " 59  Shap_date_of_birth_distinct_emails_4w         3486 non-null   float64\n",
            " 60  Shap_email_is_free                            3486 non-null   float64\n",
            " 61  Shap_phone_mobile_valid                       3486 non-null   float64\n",
            " 62  Shap_has_other_cards                          3486 non-null   float64\n",
            " 63  Shap_proposed_credit_limit                    3486 non-null   float64\n",
            " 64  Shap_foreign_request                          3486 non-null   float64\n",
            " 65  Shap_session_length_in_minutes                3486 non-null   float64\n",
            " 66  Shap_month                                    3486 non-null   float64\n",
            " 67  Shap_source_INTERNET                          3486 non-null   float64\n",
            " 68  Shap_source_TELEAPP                           3486 non-null   float64\n",
            " 69  Shap_device_os_linux                          3486 non-null   float64\n",
            " 70  Shap_device_os_macintosh                      3486 non-null   float64\n",
            " 71  Shap_device_os_other                          3486 non-null   float64\n",
            " 72  Shap_device_os_windows                        3486 non-null   float64\n",
            " 73  Shap_device_os_x11                            3486 non-null   float64\n",
            " 74  Shap_income_scaled                            3486 non-null   float64\n",
            " 75  Shap_name_email_similarity_scaled             3486 non-null   float64\n",
            " 76  Shap_customer_age_scaled                      3486 non-null   float64\n",
            " 77  Shap_zip_count_4w_scaled                      3486 non-null   float64\n",
            " 78  Shap_bank_branch_count_8w_scaled              3486 non-null   float64\n",
            " 79  Shap_date_of_birth_distinct_emails_4w_scaled  3486 non-null   float64\n",
            " 80  Shap_email_is_free_scaled                     3486 non-null   float64\n",
            " 81  Shap_phone_mobile_valid_scaled                3486 non-null   float64\n",
            " 82  Shap_has_other_cards_scaled                   3486 non-null   float64\n",
            " 83  Shap_proposed_credit_limit_scaled             3486 non-null   float64\n",
            " 84  Shap_foreign_request_scaled                   3486 non-null   float64\n",
            " 85  Shap_session_length_in_minutes_scaled         3486 non-null   float64\n",
            " 86  Shap_month_scaled                             3486 non-null   float64\n",
            " 87  Shap_source_INTERNET_scaled                   3486 non-null   float64\n",
            " 88  Shap_source_TELEAPP_scaled                    3486 non-null   float64\n",
            " 89  Shap_device_os_linux_scaled                   3486 non-null   float64\n",
            " 90  Shap_device_os_macintosh_scaled               3486 non-null   float64\n",
            " 91  Shap_device_os_other_scaled                   3486 non-null   float64\n",
            " 92  Shap_device_os_windows_scaled                 3486 non-null   float64\n",
            " 93  Shap_device_os_x11_scaled                     3486 non-null   float64\n",
            "dtypes: float64(94)\n",
            "memory usage: 2.5 MB\n"
          ]
        }
      ]
    },
    {
      "cell_type": "code",
      "source": [
        "v2_all = v2_all.drop(['predicted_class', 'true_class', 'predicted_class_scaled', 'true_class_scaled'], axis=1)\n",
        "v2_all.info()"
      ],
      "metadata": {
        "colab": {
          "base_uri": "https://localhost:8080/"
        },
        "id": "vrlQT9Jk3g68",
        "outputId": "99a3f13c-0ace-412d-9703-7a5730411818"
      },
      "execution_count": 52,
      "outputs": [
        {
          "output_type": "stream",
          "name": "stdout",
          "text": [
            "<class 'pandas.core.frame.DataFrame'>\n",
            "RangeIndex: 3486 entries, 0 to 3485\n",
            "Data columns (total 90 columns):\n",
            " #   Column                                        Non-Null Count  Dtype  \n",
            "---  ------                                        --------------  -----  \n",
            " 0   income                                        3486 non-null   float64\n",
            " 1   name_email_similarity                         3486 non-null   float64\n",
            " 2   customer_age                                  3486 non-null   float64\n",
            " 3   zip_count_4w                                  3486 non-null   float64\n",
            " 4   bank_branch_count_8w                          3486 non-null   float64\n",
            " 5   date_of_birth_distinct_emails_4w              3486 non-null   float64\n",
            " 6   email_is_free                                 3486 non-null   float64\n",
            " 7   phone_mobile_valid                            3486 non-null   float64\n",
            " 8   has_other_cards                               3486 non-null   float64\n",
            " 9   proposed_credit_limit                         3486 non-null   float64\n",
            " 10  foreign_request                               3486 non-null   float64\n",
            " 11  session_length_in_minutes                     3486 non-null   float64\n",
            " 12  month                                         3486 non-null   float64\n",
            " 13  source_INTERNET                               3486 non-null   float64\n",
            " 14  source_TELEAPP                                3486 non-null   float64\n",
            " 15  device_os_linux                               3486 non-null   float64\n",
            " 16  device_os_macintosh                           3486 non-null   float64\n",
            " 17  device_os_other                               3486 non-null   float64\n",
            " 18  device_os_windows                             3486 non-null   float64\n",
            " 19  device_os_x11                                 3486 non-null   float64\n",
            " 20  errors                                        3486 non-null   float64\n",
            " 21  TP                                            3486 non-null   float64\n",
            " 22  TN                                            3486 non-null   float64\n",
            " 23  FN                                            3486 non-null   float64\n",
            " 24  FP                                            3486 non-null   float64\n",
            " 25  income_scaled                                 3486 non-null   float64\n",
            " 26  name_email_similarity_scaled                  3486 non-null   float64\n",
            " 27  customer_age_scaled                           3486 non-null   float64\n",
            " 28  zip_count_4w_scaled                           3486 non-null   float64\n",
            " 29  bank_branch_count_8w_scaled                   3486 non-null   float64\n",
            " 30  date_of_birth_distinct_emails_4w_scaled       3486 non-null   float64\n",
            " 31  email_is_free_scaled                          3486 non-null   float64\n",
            " 32  phone_mobile_valid_scaled                     3486 non-null   float64\n",
            " 33  has_other_cards_scaled                        3486 non-null   float64\n",
            " 34  proposed_credit_limit_scaled                  3486 non-null   float64\n",
            " 35  foreign_request_scaled                        3486 non-null   float64\n",
            " 36  session_length_in_minutes_scaled              3486 non-null   float64\n",
            " 37  month_scaled                                  3486 non-null   float64\n",
            " 38  source_INTERNET_scaled                        3486 non-null   float64\n",
            " 39  source_TELEAPP_scaled                         3486 non-null   float64\n",
            " 40  device_os_linux_scaled                        3486 non-null   float64\n",
            " 41  device_os_macintosh_scaled                    3486 non-null   float64\n",
            " 42  device_os_other_scaled                        3486 non-null   float64\n",
            " 43  device_os_windows_scaled                      3486 non-null   float64\n",
            " 44  device_os_x11_scaled                          3486 non-null   float64\n",
            " 45  errors_scaled                                 3486 non-null   float64\n",
            " 46  TP_scaled                                     3486 non-null   float64\n",
            " 47  TN_scaled                                     3486 non-null   float64\n",
            " 48  FN_scaled                                     3486 non-null   float64\n",
            " 49  FP_scaled                                     3486 non-null   float64\n",
            " 50  Shap_income                                   3486 non-null   float64\n",
            " 51  Shap_name_email_similarity                    3486 non-null   float64\n",
            " 52  Shap_customer_age                             3486 non-null   float64\n",
            " 53  Shap_zip_count_4w                             3486 non-null   float64\n",
            " 54  Shap_bank_branch_count_8w                     3486 non-null   float64\n",
            " 55  Shap_date_of_birth_distinct_emails_4w         3486 non-null   float64\n",
            " 56  Shap_email_is_free                            3486 non-null   float64\n",
            " 57  Shap_phone_mobile_valid                       3486 non-null   float64\n",
            " 58  Shap_has_other_cards                          3486 non-null   float64\n",
            " 59  Shap_proposed_credit_limit                    3486 non-null   float64\n",
            " 60  Shap_foreign_request                          3486 non-null   float64\n",
            " 61  Shap_session_length_in_minutes                3486 non-null   float64\n",
            " 62  Shap_month                                    3486 non-null   float64\n",
            " 63  Shap_source_INTERNET                          3486 non-null   float64\n",
            " 64  Shap_source_TELEAPP                           3486 non-null   float64\n",
            " 65  Shap_device_os_linux                          3486 non-null   float64\n",
            " 66  Shap_device_os_macintosh                      3486 non-null   float64\n",
            " 67  Shap_device_os_other                          3486 non-null   float64\n",
            " 68  Shap_device_os_windows                        3486 non-null   float64\n",
            " 69  Shap_device_os_x11                            3486 non-null   float64\n",
            " 70  Shap_income_scaled                            3486 non-null   float64\n",
            " 71  Shap_name_email_similarity_scaled             3486 non-null   float64\n",
            " 72  Shap_customer_age_scaled                      3486 non-null   float64\n",
            " 73  Shap_zip_count_4w_scaled                      3486 non-null   float64\n",
            " 74  Shap_bank_branch_count_8w_scaled              3486 non-null   float64\n",
            " 75  Shap_date_of_birth_distinct_emails_4w_scaled  3486 non-null   float64\n",
            " 76  Shap_email_is_free_scaled                     3486 non-null   float64\n",
            " 77  Shap_phone_mobile_valid_scaled                3486 non-null   float64\n",
            " 78  Shap_has_other_cards_scaled                   3486 non-null   float64\n",
            " 79  Shap_proposed_credit_limit_scaled             3486 non-null   float64\n",
            " 80  Shap_foreign_request_scaled                   3486 non-null   float64\n",
            " 81  Shap_session_length_in_minutes_scaled         3486 non-null   float64\n",
            " 82  Shap_month_scaled                             3486 non-null   float64\n",
            " 83  Shap_source_INTERNET_scaled                   3486 non-null   float64\n",
            " 84  Shap_source_TELEAPP_scaled                    3486 non-null   float64\n",
            " 85  Shap_device_os_linux_scaled                   3486 non-null   float64\n",
            " 86  Shap_device_os_macintosh_scaled               3486 non-null   float64\n",
            " 87  Shap_device_os_other_scaled                   3486 non-null   float64\n",
            " 88  Shap_device_os_windows_scaled                 3486 non-null   float64\n",
            " 89  Shap_device_os_x11_scaled                     3486 non-null   float64\n",
            "dtypes: float64(90)\n",
            "memory usage: 2.4 MB\n"
          ]
        }
      ]
    },
    {
      "cell_type": "code",
      "source": [
        "#save final dataset\n",
        "v2_all.to_csv('/content/drive/MyDrive/Mirthe_Supervision /Paper#3/BAF/v2_all.csv', index=False)"
      ],
      "metadata": {
        "id": "-RKE4LBW4BE3"
      },
      "execution_count": 53,
      "outputs": []
    },
    {
      "cell_type": "code",
      "source": [
        "v2_all."
      ],
      "metadata": {
        "id": "jjAeh-8NIm_n"
      },
      "execution_count": null,
      "outputs": []
    }
  ]
}