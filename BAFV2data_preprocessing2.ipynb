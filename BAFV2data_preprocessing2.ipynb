{
  "nbformat": 4,
  "nbformat_minor": 0,
  "metadata": {
    "colab": {
      "provenance": [],
      "collapsed_sections": [
        "7-kBpl4bJH9b",
        "XJMqPwdAKX1j",
        "dVk5voM9zvyn"
      ],
      "toc_visible": true,
      "authorship_tag": "ABX9TyPjT+J980CZlx+QrDyv2d3B",
      "include_colab_link": true
    },
    "kernelspec": {
      "name": "python3",
      "display_name": "Python 3"
    },
    "language_info": {
      "name": "python"
    }
  },
  "cells": [
    {
      "cell_type": "markdown",
      "metadata": {
        "id": "view-in-github",
        "colab_type": "text"
      },
      "source": [
        "<a href=\"https://colab.research.google.com/github/MDankloff/ClusterCompas/blob/main/BAFV2data_preprocessing2.ipynb\" target=\"_parent\"><img src=\"https://colab.research.google.com/assets/colab-badge.svg\" alt=\"Open In Colab\"/></a>"
      ]
    },
    {
      "cell_type": "markdown",
      "source": [
        "# Libraries"
      ],
      "metadata": {
        "id": "7-kBpl4bJH9b"
      }
    },
    {
      "cell_type": "code",
      "execution_count": 1,
      "metadata": {
        "id": "d17HlBJaIX6e",
        "colab": {
          "base_uri": "https://localhost:8080/"
        },
        "outputId": "907333a1-5e4a-425f-f127-ec62eb7cf2c9"
      },
      "outputs": [
        {
          "output_type": "stream",
          "name": "stderr",
          "text": [
            "/usr/local/lib/python3.11/dist-packages/dask/dataframe/__init__.py:42: FutureWarning: \n",
            "Dask dataframe query planning is disabled because dask-expr is not installed.\n",
            "\n",
            "You can install it with `pip install dask[dataframe]` or `conda install dask`.\n",
            "This will raise in a future version.\n",
            "\n",
            "  warnings.warn(msg, FutureWarning)\n"
          ]
        }
      ],
      "source": [
        "import pickle\n",
        "import lightgbm as lgbm\n",
        "import pandas as pd\n",
        "import numpy as np\n",
        "import matplotlib.pyplot as plt\n",
        "import seaborn as sns\n",
        "import yaml\n",
        "import glob\n",
        "import random\n",
        "import os\n",
        "import joblib\n",
        "from sklearn.preprocessing import StandardScaler, LabelEncoder\n",
        "from sklearn.model_selection import train_test_split\n",
        "from sklearn.ensemble import RandomForestClassifier\n",
        "from sklearn.metrics import accuracy_score, precision_recall_fscore_support, confusion_matrix, roc_auc_score\n",
        "from sklearn.utils import resample"
      ]
    },
    {
      "cell_type": "code",
      "source": [
        "!pip install dask[dataframe]"
      ],
      "metadata": {
        "colab": {
          "base_uri": "https://localhost:8080/"
        },
        "id": "Cr6GvrPBJrHd",
        "outputId": "b7e85115-c6b6-4cf6-b969-d86522b6665e"
      },
      "execution_count": 2,
      "outputs": [
        {
          "output_type": "stream",
          "name": "stdout",
          "text": [
            "Requirement already satisfied: dask[dataframe] in /usr/local/lib/python3.11/dist-packages (2024.10.0)\n",
            "Requirement already satisfied: click>=8.1 in /usr/local/lib/python3.11/dist-packages (from dask[dataframe]) (8.1.8)\n",
            "Requirement already satisfied: cloudpickle>=3.0.0 in /usr/local/lib/python3.11/dist-packages (from dask[dataframe]) (3.1.0)\n",
            "Requirement already satisfied: fsspec>=2021.09.0 in /usr/local/lib/python3.11/dist-packages (from dask[dataframe]) (2024.10.0)\n",
            "Requirement already satisfied: packaging>=20.0 in /usr/local/lib/python3.11/dist-packages (from dask[dataframe]) (24.2)\n",
            "Requirement already satisfied: partd>=1.4.0 in /usr/local/lib/python3.11/dist-packages (from dask[dataframe]) (1.4.2)\n",
            "Requirement already satisfied: pyyaml>=5.3.1 in /usr/local/lib/python3.11/dist-packages (from dask[dataframe]) (6.0.2)\n",
            "Requirement already satisfied: toolz>=0.10.0 in /usr/local/lib/python3.11/dist-packages (from dask[dataframe]) (0.12.1)\n",
            "Requirement already satisfied: importlib-metadata>=4.13.0 in /usr/local/lib/python3.11/dist-packages (from dask[dataframe]) (8.5.0)\n",
            "Requirement already satisfied: pandas>=2.0 in /usr/local/lib/python3.11/dist-packages (from dask[dataframe]) (2.2.2)\n",
            "Collecting dask-expr<1.2,>=1.1 (from dask[dataframe])\n",
            "  Downloading dask_expr-1.1.21-py3-none-any.whl.metadata (2.6 kB)\n",
            "INFO: pip is looking at multiple versions of dask-expr to determine which version is compatible with other requirements. This could take a while.\n",
            "  Downloading dask_expr-1.1.20-py3-none-any.whl.metadata (2.6 kB)\n",
            "  Downloading dask_expr-1.1.19-py3-none-any.whl.metadata (2.6 kB)\n",
            "  Downloading dask_expr-1.1.18-py3-none-any.whl.metadata (2.6 kB)\n",
            "  Downloading dask_expr-1.1.16-py3-none-any.whl.metadata (2.5 kB)\n",
            "Requirement already satisfied: pyarrow>=14.0.1 in /usr/local/lib/python3.11/dist-packages (from dask-expr<1.2,>=1.1->dask[dataframe]) (17.0.0)\n",
            "Requirement already satisfied: zipp>=3.20 in /usr/local/lib/python3.11/dist-packages (from importlib-metadata>=4.13.0->dask[dataframe]) (3.21.0)\n",
            "Requirement already satisfied: numpy>=1.23.2 in /usr/local/lib/python3.11/dist-packages (from pandas>=2.0->dask[dataframe]) (1.26.4)\n",
            "Requirement already satisfied: python-dateutil>=2.8.2 in /usr/local/lib/python3.11/dist-packages (from pandas>=2.0->dask[dataframe]) (2.8.2)\n",
            "Requirement already satisfied: pytz>=2020.1 in /usr/local/lib/python3.11/dist-packages (from pandas>=2.0->dask[dataframe]) (2024.2)\n",
            "Requirement already satisfied: tzdata>=2022.7 in /usr/local/lib/python3.11/dist-packages (from pandas>=2.0->dask[dataframe]) (2024.2)\n",
            "Requirement already satisfied: locket in /usr/local/lib/python3.11/dist-packages (from partd>=1.4.0->dask[dataframe]) (1.0.0)\n",
            "Requirement already satisfied: six>=1.5 in /usr/local/lib/python3.11/dist-packages (from python-dateutil>=2.8.2->pandas>=2.0->dask[dataframe]) (1.17.0)\n",
            "Downloading dask_expr-1.1.16-py3-none-any.whl (243 kB)\n",
            "\u001b[2K   \u001b[90m━━━━━━━━━━━━━━━━━━━━━━━━━━━━━━━━━━━━━━━━\u001b[0m \u001b[32m243.2/243.2 kB\u001b[0m \u001b[31m3.7 MB/s\u001b[0m eta \u001b[36m0:00:00\u001b[0m\n",
            "\u001b[?25hInstalling collected packages: dask-expr\n",
            "Successfully installed dask-expr-1.1.16\n"
          ]
        }
      ]
    },
    {
      "cell_type": "code",
      "source": [
        "from google.colab import drive\n",
        "drive.mount('/content/drive')\n",
        "! cd '/content/drive/MyDrive/Mirthe_Supervision /Paper#3/BAF'\n"
      ],
      "metadata": {
        "colab": {
          "base_uri": "https://localhost:8080/"
        },
        "id": "L4pLQWb0JbOa",
        "outputId": "ac2ee51c-c42f-4d73-8ac1-ffea24360baf"
      },
      "execution_count": 3,
      "outputs": [
        {
          "output_type": "stream",
          "name": "stdout",
          "text": [
            "Mounted at /content/drive\n"
          ]
        }
      ]
    },
    {
      "cell_type": "markdown",
      "source": [
        "# LOAD DATA & MODEL"
      ],
      "metadata": {
        "id": "XJMqPwdAKX1j"
      }
    },
    {
      "cell_type": "code",
      "source": [
        "base_path = '/content/drive/MyDrive/Mirthe_Supervision /Paper#3/BAF/parquet data'\n",
        "\n",
        "extension = \"parquet\" #for smaller \"parquet\" depending on the downloaded file\n",
        "data_paths = glob.glob(f\"{base_path}/*.{extension}\")\n",
        "\n",
        "def read_dataset(path, ext = extension):\n",
        "    if ext == \"csv\":\n",
        "      return pd.read_csv(path)\n",
        "    elif ext == \"parquet\":\n",
        "      return pd.read_parquet(path)\n",
        "    else:\n",
        "      raise ValueError(f\"Unsupported file extension: {ext}\")\n",
        "\n",
        "# Extract variant name from the file path (without the extension)\n",
        "def get_variant(path):\n",
        "    return os.path.basename(path).split(\".\")[0]\n",
        "\n",
        "# Dictionary comprehension to read all CSV files into a dictionary of DataFrames\n",
        "dataframes = {\n",
        "    get_variant(path): read_dataset(path) for path in data_paths\n",
        "}\n",
        "print(f\"Loaded datasets: {list(dataframes.keys())}\")\n",
        "\n",
        "datasets_paths = {\n",
        "    \"Base\": base_path + \"/Base.parquet\", # sampled to best represent original dataset\n",
        "    \"Variant I\": base_path + \"/Variant I.parquet\", # higher group size disparity than base - reducing the size of the minority group from approx 20 - 10% of the dataset\n",
        "    \"Variant II\": base_path + \"/Variant II.parquet\", # higher prevalence disparity than base - one group has 5 x the fraud detection rate of the other while group sizes are equal\n",
        "    \"Variant III\": base_path + \"/Variant III.parquet\", # better separability for one of the groups -\n",
        "    \"Variant IV\": base_path + \"/Variant IV.parquet\", # higher prevalence disparity in train\n",
        "    \"Variant V\": base_path + \"/Variant V.parquet\", # better separability in train for one of the groups\n",
        "}\n"
      ],
      "metadata": {
        "colab": {
          "base_uri": "https://localhost:8080/"
        },
        "id": "neIazZ_YKW4U",
        "outputId": "72caccb6-abff-4ed5-d990-f9d9fc295282"
      },
      "execution_count": 69,
      "outputs": [
        {
          "output_type": "stream",
          "name": "stdout",
          "text": [
            "Loaded datasets: ['Base', 'Variant I', 'Variant II', 'Variant III', 'Variant IV', 'Variant V']\n"
          ]
        }
      ]
    },
    {
      "cell_type": "markdown",
      "source": [
        "load best light gbm model from variant 2"
      ],
      "metadata": {
        "id": "X1FRyv0BMCa5"
      }
    },
    {
      "cell_type": "code",
      "source": [
        "# directory containing the model files\n",
        "model_dir = '/content/drive/MyDrive/Mirthe_Supervision /Paper#3/BAF/Best Model per Variant/Accuracy'\n",
        "\n",
        "# Get list of all model files in the directory\n",
        "model_files = glob.glob(os.path.join(model_dir, '*.pkl'))\n",
        "\n",
        "# Dictionary to store loaded models\n",
        "models = {}\n",
        "\n",
        "# Load all models from the directory and save them to the dictionary\n",
        "for model_file in model_files:\n",
        "    # Load the model\n",
        "    with open(model_file, 'rb') as f:\n",
        "        model = joblib.load(f)\n",
        "\n",
        "    # Extract the model name from the file path (without extension)\n",
        "    model_name = os.path.basename(model_file).split('.')[0]\n",
        "\n",
        "    # Add the model to the dictionary\n",
        "    models[model_name] = model\n",
        "\n",
        "    # Optional: Save the model back (though it seems redundant here)\n",
        "    save_path = os.path.join(model_dir, f'{model_name}.pkl')\n",
        "    joblib.dump(model, save_path)\n",
        "\n",
        "    print(f\"Model '{model_name}' loaded and saved to: {save_path}\")\n",
        "\n",
        "# Accessing the best model for variant 2\n",
        "modelv2 = models.get(\"model_Variant II_top_4\")\n",
        "\n",
        "print(modelv2)"
      ],
      "metadata": {
        "colab": {
          "base_uri": "https://localhost:8080/"
        },
        "id": "7TPNV8ABKsLt",
        "outputId": "ae35e605-01ad-4080-9264-f4d9a679e049"
      },
      "execution_count": 70,
      "outputs": [
        {
          "output_type": "stream",
          "name": "stdout",
          "text": [
            "Model 'model_Variant II_top_4' loaded and saved to: /content/drive/MyDrive/Mirthe_Supervision /Paper#3/BAF/Best Model per Variant/Accuracy/model_Variant II_top_4.pkl\n",
            "Model 'model_Variant V_top_0' loaded and saved to: /content/drive/MyDrive/Mirthe_Supervision /Paper#3/BAF/Best Model per Variant/Accuracy/model_Variant V_top_0.pkl\n",
            "Model 'model_Variant I_top_4' loaded and saved to: /content/drive/MyDrive/Mirthe_Supervision /Paper#3/BAF/Best Model per Variant/Accuracy/model_Variant I_top_4.pkl\n",
            "Model 'model_Variant IV_top_6' loaded and saved to: /content/drive/MyDrive/Mirthe_Supervision /Paper#3/BAF/Best Model per Variant/Accuracy/model_Variant IV_top_6.pkl\n",
            "Model 'model_Variant III_top_0' loaded and saved to: /content/drive/MyDrive/Mirthe_Supervision /Paper#3/BAF/Best Model per Variant/Accuracy/model_Variant III_top_0.pkl\n",
            "Model 'model_Base_top_4' loaded and saved to: /content/drive/MyDrive/Mirthe_Supervision /Paper#3/BAF/Best Model per Variant/Accuracy/model_Base_top_4.pkl\n",
            "LGBMClassifier(boosting_type='goss', enable_bundle=True,\n",
            "               learning_rate=0.06070433398329268, max_bin=496, max_depth=30,\n",
            "               min_data_in_leaf=48, n_estimators=227, n_jobs=10, num_leaves=43)\n"
          ]
        }
      ]
    },
    {
      "cell_type": "markdown",
      "source": [
        "# Explore data"
      ],
      "metadata": {
        "id": "WX2IA38aMY6l"
      }
    },
    {
      "cell_type": "code",
      "source": [
        "#rename dataset variant 2 and create a copy\n",
        "v2 = dataframes[\"Variant II\"]\n",
        "v2_old = v2.copy()"
      ],
      "metadata": {
        "id": "_bSoNyKtMd1-"
      },
      "execution_count": 71,
      "outputs": []
    },
    {
      "cell_type": "code",
      "source": [
        "pd.set_option('display.max_columns', 50) # Increase the maximum number of columns displayed in Pandas to 50\n",
        "pd.set_option('display.max_rows', 50)\n",
        "v2.iloc[3]"
      ],
      "metadata": {
        "colab": {
          "base_uri": "https://localhost:8080/",
          "height": 1000
        },
        "id": "wUpuRlBjMebe",
        "outputId": "0352e543-9d3b-4dcd-bac2-550d4cc8159f"
      },
      "execution_count": 72,
      "outputs": [
        {
          "output_type": "execute_result",
          "data": {
            "text/plain": [
              "fraud_bool                                     0\n",
              "income                                       0.3\n",
              "name_email_similarity                   0.059078\n",
              "prev_address_months_count                     10\n",
              "current_address_months_count                  40\n",
              "customer_age                                  60\n",
              "days_since_request                      0.008007\n",
              "intended_balcon_amount                 -0.075908\n",
              "payment_type                                  AA\n",
              "zip_count_4w                                1697\n",
              "velocity_6h                         13872.724739\n",
              "velocity_24h                         7594.433717\n",
              "velocity_4w                          5961.464143\n",
              "bank_branch_count_8w                          29\n",
              "date_of_birth_distinct_emails_4w              14\n",
              "employment_status                             CA\n",
              "credit_risk_score                            113\n",
              "email_is_free                                  1\n",
              "housing_status                                BC\n",
              "phone_home_valid                               0\n",
              "phone_mobile_valid                             1\n",
              "bank_months_count                              2\n",
              "has_other_cards                                1\n",
              "proposed_credit_limit                      200.0\n",
              "foreign_request                                0\n",
              "source                                  INTERNET\n",
              "session_length_in_minutes               6.152497\n",
              "device_os                                  linux\n",
              "keep_alive_session                             1\n",
              "device_distinct_emails_8w                      1\n",
              "device_fraud_count                             0\n",
              "month                                          0\n",
              "Name: 3, dtype: object"
            ],
            "text/html": [
              "<div>\n",
              "<style scoped>\n",
              "    .dataframe tbody tr th:only-of-type {\n",
              "        vertical-align: middle;\n",
              "    }\n",
              "\n",
              "    .dataframe tbody tr th {\n",
              "        vertical-align: top;\n",
              "    }\n",
              "\n",
              "    .dataframe thead th {\n",
              "        text-align: right;\n",
              "    }\n",
              "</style>\n",
              "<table border=\"1\" class=\"dataframe\">\n",
              "  <thead>\n",
              "    <tr style=\"text-align: right;\">\n",
              "      <th></th>\n",
              "      <th>3</th>\n",
              "    </tr>\n",
              "  </thead>\n",
              "  <tbody>\n",
              "    <tr>\n",
              "      <th>fraud_bool</th>\n",
              "      <td>0</td>\n",
              "    </tr>\n",
              "    <tr>\n",
              "      <th>income</th>\n",
              "      <td>0.3</td>\n",
              "    </tr>\n",
              "    <tr>\n",
              "      <th>name_email_similarity</th>\n",
              "      <td>0.059078</td>\n",
              "    </tr>\n",
              "    <tr>\n",
              "      <th>prev_address_months_count</th>\n",
              "      <td>10</td>\n",
              "    </tr>\n",
              "    <tr>\n",
              "      <th>current_address_months_count</th>\n",
              "      <td>40</td>\n",
              "    </tr>\n",
              "    <tr>\n",
              "      <th>customer_age</th>\n",
              "      <td>60</td>\n",
              "    </tr>\n",
              "    <tr>\n",
              "      <th>days_since_request</th>\n",
              "      <td>0.008007</td>\n",
              "    </tr>\n",
              "    <tr>\n",
              "      <th>intended_balcon_amount</th>\n",
              "      <td>-0.075908</td>\n",
              "    </tr>\n",
              "    <tr>\n",
              "      <th>payment_type</th>\n",
              "      <td>AA</td>\n",
              "    </tr>\n",
              "    <tr>\n",
              "      <th>zip_count_4w</th>\n",
              "      <td>1697</td>\n",
              "    </tr>\n",
              "    <tr>\n",
              "      <th>velocity_6h</th>\n",
              "      <td>13872.724739</td>\n",
              "    </tr>\n",
              "    <tr>\n",
              "      <th>velocity_24h</th>\n",
              "      <td>7594.433717</td>\n",
              "    </tr>\n",
              "    <tr>\n",
              "      <th>velocity_4w</th>\n",
              "      <td>5961.464143</td>\n",
              "    </tr>\n",
              "    <tr>\n",
              "      <th>bank_branch_count_8w</th>\n",
              "      <td>29</td>\n",
              "    </tr>\n",
              "    <tr>\n",
              "      <th>date_of_birth_distinct_emails_4w</th>\n",
              "      <td>14</td>\n",
              "    </tr>\n",
              "    <tr>\n",
              "      <th>employment_status</th>\n",
              "      <td>CA</td>\n",
              "    </tr>\n",
              "    <tr>\n",
              "      <th>credit_risk_score</th>\n",
              "      <td>113</td>\n",
              "    </tr>\n",
              "    <tr>\n",
              "      <th>email_is_free</th>\n",
              "      <td>1</td>\n",
              "    </tr>\n",
              "    <tr>\n",
              "      <th>housing_status</th>\n",
              "      <td>BC</td>\n",
              "    </tr>\n",
              "    <tr>\n",
              "      <th>phone_home_valid</th>\n",
              "      <td>0</td>\n",
              "    </tr>\n",
              "    <tr>\n",
              "      <th>phone_mobile_valid</th>\n",
              "      <td>1</td>\n",
              "    </tr>\n",
              "    <tr>\n",
              "      <th>bank_months_count</th>\n",
              "      <td>2</td>\n",
              "    </tr>\n",
              "    <tr>\n",
              "      <th>has_other_cards</th>\n",
              "      <td>1</td>\n",
              "    </tr>\n",
              "    <tr>\n",
              "      <th>proposed_credit_limit</th>\n",
              "      <td>200.0</td>\n",
              "    </tr>\n",
              "    <tr>\n",
              "      <th>foreign_request</th>\n",
              "      <td>0</td>\n",
              "    </tr>\n",
              "    <tr>\n",
              "      <th>source</th>\n",
              "      <td>INTERNET</td>\n",
              "    </tr>\n",
              "    <tr>\n",
              "      <th>session_length_in_minutes</th>\n",
              "      <td>6.152497</td>\n",
              "    </tr>\n",
              "    <tr>\n",
              "      <th>device_os</th>\n",
              "      <td>linux</td>\n",
              "    </tr>\n",
              "    <tr>\n",
              "      <th>keep_alive_session</th>\n",
              "      <td>1</td>\n",
              "    </tr>\n",
              "    <tr>\n",
              "      <th>device_distinct_emails_8w</th>\n",
              "      <td>1</td>\n",
              "    </tr>\n",
              "    <tr>\n",
              "      <th>device_fraud_count</th>\n",
              "      <td>0</td>\n",
              "    </tr>\n",
              "    <tr>\n",
              "      <th>month</th>\n",
              "      <td>0</td>\n",
              "    </tr>\n",
              "  </tbody>\n",
              "</table>\n",
              "</div><br><label><b>dtype:</b> object</label>"
            ]
          },
          "metadata": {},
          "execution_count": 72
        }
      ]
    },
    {
      "cell_type": "code",
      "source": [
        "v2['payment_type'].unique() #remove because obfuscated\n",
        "v2['days_since_request'].unique() #remove because unclear values"
      ],
      "metadata": {
        "colab": {
          "base_uri": "https://localhost:8080/"
        },
        "id": "vsqk1Jm3Qly0",
        "outputId": "89aa6cf0-a0a8-476f-adb5-90b44ad8fcd3"
      },
      "execution_count": 73,
      "outputs": [
        {
          "output_type": "execute_result",
          "data": {
            "text/plain": [
              "array([0.01673985, 0.01900183, 0.04706417, ..., 0.03555377, 0.02066269,\n",
              "       0.0074784 ])"
            ]
          },
          "metadata": {},
          "execution_count": 73
        }
      ]
    },
    {
      "cell_type": "code",
      "source": [
        "print(v2['days_since_request'])"
      ],
      "metadata": {
        "colab": {
          "base_uri": "https://localhost:8080/"
        },
        "id": "jsTgORz1RPpN",
        "outputId": "afe94f23-355c-4926-bb6e-75583c1b0d3b"
      },
      "execution_count": 74,
      "outputs": [
        {
          "output_type": "stream",
          "name": "stdout",
          "text": [
            "0         0.016740\n",
            "1         0.019002\n",
            "2         0.047064\n",
            "3         0.008007\n",
            "4         2.513544\n",
            "            ...   \n",
            "999995    0.001835\n",
            "999996    0.023952\n",
            "999997    0.035554\n",
            "999998    0.020663\n",
            "999999    0.007478\n",
            "Name: days_since_request, Length: 1000000, dtype: float64\n"
          ]
        }
      ]
    },
    {
      "cell_type": "code",
      "source": [
        "v2_old['source'].unique()\n",
        "v2_old['device_os'].unique()\n",
        "v2_old['keep_alive_session'].unique()\n",
        "#v2_old['device_fraud_count'].unique()"
      ],
      "metadata": {
        "colab": {
          "base_uri": "https://localhost:8080/"
        },
        "id": "vlhNYX2fRyMQ",
        "outputId": "bac985a1-3677-4102-e757-7d5935d9abf5"
      },
      "execution_count": 75,
      "outputs": [
        {
          "output_type": "execute_result",
          "data": {
            "text/plain": [
              "array([0, 1])"
            ]
          },
          "metadata": {},
          "execution_count": 75
        }
      ]
    },
    {
      "cell_type": "code",
      "source": [
        "1 in v2_old['device_fraud_count'].unique()"
      ],
      "metadata": {
        "colab": {
          "base_uri": "https://localhost:8080/"
        },
        "id": "TMJk5viqdtGL",
        "outputId": "7c6b8e8d-ef88-43e0-ce6b-e7a82dbbacc0"
      },
      "execution_count": 76,
      "outputs": [
        {
          "output_type": "execute_result",
          "data": {
            "text/plain": [
              "False"
            ]
          },
          "metadata": {},
          "execution_count": 76
        }
      ]
    },
    {
      "cell_type": "code",
      "source": [
        "v2_old['device_os'].unique()"
      ],
      "metadata": {
        "colab": {
          "base_uri": "https://localhost:8080/"
        },
        "id": "L4WkRQ-HNf_B",
        "outputId": "0778d0ee-e7dc-4142-8327-fb01f8f60ab8"
      },
      "execution_count": 77,
      "outputs": [
        {
          "output_type": "execute_result",
          "data": {
            "text/plain": [
              "array(['other', 'macintosh', 'linux', 'windows', 'x11'], dtype=object)"
            ]
          },
          "metadata": {},
          "execution_count": 77
        }
      ]
    },
    {
      "cell_type": "code",
      "source": [
        "v2_old['employment_status'].value_counts().plot(kind='bar')\n",
        "plt.title('Distribution of Employment Status')\n",
        "plt.xlabel('Employment Status')\n",
        "plt.ylabel('Count')\n",
        "plt.show()"
      ],
      "metadata": {
        "colab": {
          "base_uri": "https://localhost:8080/",
          "height": 478
        },
        "id": "H5N0vgX_dIZ8",
        "outputId": "fbde4b85-0b7c-431b-a559-724df08161d6"
      },
      "execution_count": 78,
      "outputs": [
        {
          "output_type": "display_data",
          "data": {
            "text/plain": [
              "<Figure size 640x480 with 1 Axes>"
            ],
            "image/png": "[encoded data removed]"
          },
          "metadata": {}
        }
      ]
    },
    {
      "cell_type": "code",
      "source": [
        "fraud_per_employment = v2_old.groupby(['employment_status', 'fraud_bool']).size().unstack()\n",
        "\n",
        "fraud_per_employment.plot(kind='bar', stacked=True)\n",
        "plt.title('Fraud Distribution per Employment Status')\n",
        "plt.xlabel('Employment Status')\n",
        "plt.ylabel('Count')\n",
        "plt.legend(title='Fraud')  # Add a legend to indicate fraud (0 or 1)\n",
        "plt.show()"
      ],
      "metadata": {
        "id": "wSSZJS1adfIl",
        "outputId": "430b33a4-2500-4d69-ae73-e98c20280a46",
        "colab": {
          "base_uri": "https://localhost:8080/",
          "height": 478
        }
      },
      "execution_count": 79,
      "outputs": [
        {
          "output_type": "display_data",
          "data": {
            "text/plain": [
              "<Figure size 640x480 with 1 Axes>"
            ],
            "image/png": "[encoded data removed]"
          },
          "metadata": {}
        }
      ]
    },
    {
      "cell_type": "markdown",
      "source": [
        "Master dataset"
      ],
      "metadata": {
        "id": "3FWW5CM7Mba0"
      }
    },
    {
      "cell_type": "code",
      "source": [
        "#Master dataset\n",
        "#FEATURES\n",
        "META = ['clusters', 'new_clusters']\n",
        "ERROR = ['errors', 'TP', 'TN', 'FN', 'FP']\n",
        "REG = [ 'session_length_in_minutes', 'email_is_free',\n",
        "       'proposed_credit_limit','name_email_similarity',\n",
        "      'zip_count_4w', 'date_of_birth_distinct_emails_4w',\n",
        "      'phone_mobile_valid', 'has_other_cards', 'foreign_request']\n",
        "SEN = ['customer_age', 'income'] #protected attributes in BAF paper also employment_status\n",
        "DUMMY = ['source_INTERNET', 'source_TELEAPP', 'device_os_other', 'device_os_macintosh','device_os_linux','device_os_windows', 'device_os_x11']\n",
        "\n",
        "#FEATURES SCALED\n",
        "ERROR_scaled = ['errors_scaled']\n",
        "REG_scaled = ['session_length_in_minutes_scaled',\n",
        "              'email_is_free_scaled',\n",
        "              'proposed_credit_limit_scaled',\n",
        "              'name_email_similarity_scaled',\n",
        "              'zip_count_4w_scaled',\n",
        "              'date_of_birth_distinct_emails_4w_scaled','has_other_cards_scaled', 'foreign_request_scaled']\n",
        "SEN_scaled = ['customer_age_scaled', 'income_scaled']\n",
        "DUMMY_scaled = ['source_INTERNET_scaled', 'source_TELEAPP_scaled', 'device_os_other_scaled', 'device_os_macintosh_scaled', 'device_os_linux_scaled', 'device_os_windows_scaled', 'device_os_x11_scaled']\n",
        "\n",
        "\n",
        "#SHAP FEATURES\n",
        "SHAP_REG = [\n",
        "    'Shap_session_length_in_minutes', 'Shap_email_is_free',\n",
        "    'Shap_proposed_credit_limit', 'Shap_name_email_similarity',\n",
        "    'Shap_zip_count_4w', 'Shap_date_of_birth_distinct_emails_4w',\n",
        "    'Shap_phone_mobile_valid', 'Shap_has_other_cards', 'Shap_foreign_request'\n",
        "]\n",
        "\n",
        "SHAP_SEN = ['Shap_customer_age', 'Shap_income']\n",
        "\n",
        "SHAP_DUMMY = [\n",
        "    'Shap_source_INTERNET', 'Shap_source_TELEAPP',\n",
        "    'Shap_device_os_other', 'Shap_device_os_macintosh',\n",
        "    'Shap_device_os_linux', 'Shap_device_os_windows', 'Shap_device_os_x11'\n",
        "]\n",
        "\n",
        "#SHAP FEATURES SCALED\n",
        "SHAP_REG_scaled = ['Shap_session_length_in_minutes_scaled',\n",
        "    'Shap_email_is_free_scaled', 'Shap_proposed_credit_limit_scaled',\n",
        "    'Shap_name_email_similarity_scaled', 'Shap_zip_count_4w_scaled',\n",
        "    'Shap_date_of_birth_distinct_emails_4w_scaled',\n",
        "    'Shap_phone_mobile_valid_scaled', 'Shap_has_other_cards_scaled',\n",
        "    'Shap_foreign_request_scaled'\n",
        "]\n",
        "\n",
        "SHAP_SEN_scaled = ['Shap_customer_age_scaled', 'Shap_income_scaled']\n",
        "\n",
        "SHAP_DUMMY_scaled = [\n",
        "    'Shap_source_INTERNET_scaled', 'Shap_source_TELEAPP_scaled',\n",
        "    'Shap_device_os_other_scaled', 'Shap_device_os_macintosh_scaled',\n",
        "    'Shap_device_os_linux_scaled', 'Shap_device_os_windows_scaled',\n",
        "    'Shap_device_os_x11_scaled'\n",
        "]\n",
        "\n",
        "'''removed features = 'device_fraud_count', 'intended_balcon_amount', 'payment_type', 'days_since_request',\n",
        "'velocity_6h', 'velocity_24h', 'velocity_4w', 'keep_alive_session', 'prev_address_months_count', 'current_address_months_count', 'phone_home_valid',\n",
        "'bank_months_count', 'device_distinct_emails_8w', 'housing_status', 'employment_status, 'bank_branch_count_8w', 'credit_risk_score', 'month', '''"
      ],
      "metadata": {
        "colab": {
          "base_uri": "https://localhost:8080/",
          "height": 73
        },
        "id": "VMmJHJ07MqTu",
        "outputId": "2c80a730-1104-4cf0-c5c1-a8ba88138c2e"
      },
      "execution_count": 80,
      "outputs": [
        {
          "output_type": "execute_result",
          "data": {
            "text/plain": [
              "\"removed features = 'device_fraud_count', 'intended_balcon_amount', 'payment_type', 'days_since_request',\\n'velocity_6h', 'velocity_24h', 'velocity_4w', 'keep_alive_session', 'prev_address_months_count', 'current_address_months_count', 'phone_home_valid',\\n'bank_months_count', 'device_distinct_emails_8w', 'housing_status', 'employment_status, 'bank_branch_count_8w', 'credit_risk_score', 'month', \""
            ],
            "application/vnd.google.colaboratory.intrinsic+json": {
              "type": "string"
            }
          },
          "metadata": {},
          "execution_count": 80
        }
      ]
    },
    {
      "cell_type": "code",
      "source": [
        "#v2_old['housing_status'].unique()\n",
        "#v2_old['employment_status'].unique()\n",
        "#v2_old['source'].unique()\n",
        "v2_old['device_os'].unique()"
      ],
      "metadata": {
        "colab": {
          "base_uri": "https://localhost:8080/"
        },
        "id": "JrFheRIP3X8l",
        "outputId": "e4052c8f-74f0-44f7-ca16-0c234a292e48"
      },
      "execution_count": 81,
      "outputs": [
        {
          "output_type": "execute_result",
          "data": {
            "text/plain": [
              "array(['other', 'macintosh', 'linux', 'windows', 'x11'], dtype=object)"
            ]
          },
          "metadata": {},
          "execution_count": 81
        }
      ]
    },
    {
      "cell_type": "markdown",
      "source": [
        "Remove features"
      ],
      "metadata": {
        "id": "MnrVb8tyMKQl"
      }
    },
    {
      "cell_type": "code",
      "source": [
        "features_to_remove = ['device_fraud_count', 'intended_balcon_amount', 'payment_type', 'days_since_request',\n",
        "'velocity_6h','velocity_24h', 'velocity_4w', 'keep_alive_session', 'prev_address_months_count', 'current_address_months_count', 'phone_home_valid',\n",
        "'bank_months_count', 'device_distinct_emails_8w', 'housing_status', 'employment_status', 'bank_branch_count_8w', 'credit_risk_score', 'month']\n",
        "v2 = v2.drop(columns = features_to_remove)"
      ],
      "metadata": {
        "id": "4jbrTmtZVva0"
      },
      "execution_count": 82,
      "outputs": []
    },
    {
      "cell_type": "code",
      "source": [
        "v2.iloc[3]"
      ],
      "metadata": {
        "colab": {
          "base_uri": "https://localhost:8080/",
          "height": 523
        },
        "id": "OpjxnptjWT6Q",
        "outputId": "c70a417f-6a4c-4836-93c6-2908ab9b9acf"
      },
      "execution_count": 83,
      "outputs": [
        {
          "output_type": "execute_result",
          "data": {
            "text/plain": [
              "fraud_bool                                 0\n",
              "income                                   0.3\n",
              "name_email_similarity               0.059078\n",
              "customer_age                              60\n",
              "zip_count_4w                            1697\n",
              "date_of_birth_distinct_emails_4w          14\n",
              "email_is_free                              1\n",
              "phone_mobile_valid                         1\n",
              "has_other_cards                            1\n",
              "proposed_credit_limit                  200.0\n",
              "foreign_request                            0\n",
              "source                              INTERNET\n",
              "session_length_in_minutes           6.152497\n",
              "device_os                              linux\n",
              "Name: 3, dtype: object"
            ],
            "text/html": [
              "<div>\n",
              "<style scoped>\n",
              "    .dataframe tbody tr th:only-of-type {\n",
              "        vertical-align: middle;\n",
              "    }\n",
              "\n",
              "    .dataframe tbody tr th {\n",
              "        vertical-align: top;\n",
              "    }\n",
              "\n",
              "    .dataframe thead th {\n",
              "        text-align: right;\n",
              "    }\n",
              "</style>\n",
              "<table border=\"1\" class=\"dataframe\">\n",
              "  <thead>\n",
              "    <tr style=\"text-align: right;\">\n",
              "      <th></th>\n",
              "      <th>3</th>\n",
              "    </tr>\n",
              "  </thead>\n",
              "  <tbody>\n",
              "    <tr>\n",
              "      <th>fraud_bool</th>\n",
              "      <td>0</td>\n",
              "    </tr>\n",
              "    <tr>\n",
              "      <th>income</th>\n",
              "      <td>0.3</td>\n",
              "    </tr>\n",
              "    <tr>\n",
              "      <th>name_email_similarity</th>\n",
              "      <td>0.059078</td>\n",
              "    </tr>\n",
              "    <tr>\n",
              "      <th>customer_age</th>\n",
              "      <td>60</td>\n",
              "    </tr>\n",
              "    <tr>\n",
              "      <th>zip_count_4w</th>\n",
              "      <td>1697</td>\n",
              "    </tr>\n",
              "    <tr>\n",
              "      <th>date_of_birth_distinct_emails_4w</th>\n",
              "      <td>14</td>\n",
              "    </tr>\n",
              "    <tr>\n",
              "      <th>email_is_free</th>\n",
              "      <td>1</td>\n",
              "    </tr>\n",
              "    <tr>\n",
              "      <th>phone_mobile_valid</th>\n",
              "      <td>1</td>\n",
              "    </tr>\n",
              "    <tr>\n",
              "      <th>has_other_cards</th>\n",
              "      <td>1</td>\n",
              "    </tr>\n",
              "    <tr>\n",
              "      <th>proposed_credit_limit</th>\n",
              "      <td>200.0</td>\n",
              "    </tr>\n",
              "    <tr>\n",
              "      <th>foreign_request</th>\n",
              "      <td>0</td>\n",
              "    </tr>\n",
              "    <tr>\n",
              "      <th>source</th>\n",
              "      <td>INTERNET</td>\n",
              "    </tr>\n",
              "    <tr>\n",
              "      <th>session_length_in_minutes</th>\n",
              "      <td>6.152497</td>\n",
              "    </tr>\n",
              "    <tr>\n",
              "      <th>device_os</th>\n",
              "      <td>linux</td>\n",
              "    </tr>\n",
              "  </tbody>\n",
              "</table>\n",
              "</div><br><label><b>dtype:</b> object</label>"
            ]
          },
          "metadata": {},
          "execution_count": 83
        }
      ]
    },
    {
      "cell_type": "code",
      "source": [
        "#get a smaller sample approx like compas\n",
        "v2_sample = v2.sample(n= 8000, random_state = 42)"
      ],
      "metadata": {
        "id": "RC5wJD3ggjWH"
      },
      "execution_count": 84,
      "outputs": []
    },
    {
      "cell_type": "code",
      "source": [
        "v2_sample.info()"
      ],
      "metadata": {
        "colab": {
          "base_uri": "https://localhost:8080/"
        },
        "id": "2ENg1TLLgy-C",
        "outputId": "f5e18d20-b627-492d-fd5e-1a40375e10ff"
      },
      "execution_count": 85,
      "outputs": [
        {
          "output_type": "stream",
          "name": "stdout",
          "text": [
            "<class 'pandas.core.frame.DataFrame'>\n",
            "Index: 8000 entries, 987231 to 534950\n",
            "Data columns (total 14 columns):\n",
            " #   Column                            Non-Null Count  Dtype  \n",
            "---  ------                            --------------  -----  \n",
            " 0   fraud_bool                        8000 non-null   int64  \n",
            " 1   income                            8000 non-null   float64\n",
            " 2   name_email_similarity             8000 non-null   float64\n",
            " 3   customer_age                      8000 non-null   int64  \n",
            " 4   zip_count_4w                      8000 non-null   int64  \n",
            " 5   date_of_birth_distinct_emails_4w  8000 non-null   int64  \n",
            " 6   email_is_free                     8000 non-null   int64  \n",
            " 7   phone_mobile_valid                8000 non-null   int64  \n",
            " 8   has_other_cards                   8000 non-null   int64  \n",
            " 9   proposed_credit_limit             8000 non-null   float64\n",
            " 10  foreign_request                   8000 non-null   int64  \n",
            " 11  source                            8000 non-null   object \n",
            " 12  session_length_in_minutes         8000 non-null   float64\n",
            " 13  device_os                         8000 non-null   object \n",
            "dtypes: float64(4), int64(8), object(2)\n",
            "memory usage: 937.5+ KB\n"
          ]
        }
      ]
    },
    {
      "cell_type": "code",
      "source": [
        "'''missing_values = v2_sample.isna()\n",
        "print(missing_values)'''"
      ],
      "metadata": {
        "colab": {
          "base_uri": "https://localhost:8080/",
          "height": 36
        },
        "id": "MeQj0gG90WmU",
        "outputId": "9c033b5d-36eb-4a5e-f45e-0872b3b2b45a"
      },
      "execution_count": 86,
      "outputs": [
        {
          "output_type": "execute_result",
          "data": {
            "text/plain": [
              "'missing_values = v2_sample.isna()\\nprint(missing_values)'"
            ],
            "application/vnd.google.colaboratory.intrinsic+json": {
              "type": "string"
            }
          },
          "metadata": {},
          "execution_count": 86
        }
      ]
    },
    {
      "cell_type": "markdown",
      "source": [
        "Get dummies for objects"
      ],
      "metadata": {
        "id": "QNpgB08vMfUN"
      }
    },
    {
      "cell_type": "code",
      "source": [
        "dummy_cols = ['source', 'device_os']\n",
        "v2_sample = pd.get_dummies(v2_sample, columns = dummy_cols)\n",
        "v2_sample.iloc()"
      ],
      "metadata": {
        "colab": {
          "base_uri": "https://localhost:8080/"
        },
        "id": "8CDVUOW2MeZJ",
        "outputId": "de704a4a-f73b-4cbc-88dc-ea82576fbfad"
      },
      "execution_count": 87,
      "outputs": [
        {
          "output_type": "execute_result",
          "data": {
            "text/plain": [
              "<pandas.core.indexing._iLocIndexer at 0x7e4a4cf49cc0>"
            ]
          },
          "metadata": {},
          "execution_count": 87
        }
      ]
    },
    {
      "cell_type": "code",
      "source": [
        "v2_sample.info()"
      ],
      "metadata": {
        "colab": {
          "base_uri": "https://localhost:8080/"
        },
        "id": "X5IOtRdHd7Nc",
        "outputId": "317cd28b-0fbe-46ae-bce4-e0dc8eeb5213"
      },
      "execution_count": 88,
      "outputs": [
        {
          "output_type": "stream",
          "name": "stdout",
          "text": [
            "<class 'pandas.core.frame.DataFrame'>\n",
            "Index: 8000 entries, 987231 to 534950\n",
            "Data columns (total 19 columns):\n",
            " #   Column                            Non-Null Count  Dtype  \n",
            "---  ------                            --------------  -----  \n",
            " 0   fraud_bool                        8000 non-null   int64  \n",
            " 1   income                            8000 non-null   float64\n",
            " 2   name_email_similarity             8000 non-null   float64\n",
            " 3   customer_age                      8000 non-null   int64  \n",
            " 4   zip_count_4w                      8000 non-null   int64  \n",
            " 5   date_of_birth_distinct_emails_4w  8000 non-null   int64  \n",
            " 6   email_is_free                     8000 non-null   int64  \n",
            " 7   phone_mobile_valid                8000 non-null   int64  \n",
            " 8   has_other_cards                   8000 non-null   int64  \n",
            " 9   proposed_credit_limit             8000 non-null   float64\n",
            " 10  foreign_request                   8000 non-null   int64  \n",
            " 11  session_length_in_minutes         8000 non-null   float64\n",
            " 12  source_INTERNET                   8000 non-null   bool   \n",
            " 13  source_TELEAPP                    8000 non-null   bool   \n",
            " 14  device_os_linux                   8000 non-null   bool   \n",
            " 15  device_os_macintosh               8000 non-null   bool   \n",
            " 16  device_os_other                   8000 non-null   bool   \n",
            " 17  device_os_windows                 8000 non-null   bool   \n",
            " 18  device_os_x11                     8000 non-null   bool   \n",
            "dtypes: bool(7), float64(4), int64(8)\n",
            "memory usage: 867.2 KB\n"
          ]
        }
      ]
    },
    {
      "cell_type": "markdown",
      "source": [
        "# Train RF"
      ],
      "metadata": {
        "id": "kdXyVF9hM5Du"
      }
    },
    {
      "cell_type": "code",
      "source": [
        "#separate features and target\n",
        "X = v2_sample.drop(columns = ['fraud_bool'], axis = 1)\n",
        "Y = v2_sample['fraud_bool']\n",
        "Y.value_counts()"
      ],
      "metadata": {
        "colab": {
          "base_uri": "https://localhost:8080/",
          "height": 178
        },
        "id": "_wMqv5NeM7N_",
        "outputId": "54ac8b82-b87c-411f-ce78-534263070f6e"
      },
      "execution_count": 89,
      "outputs": [
        {
          "output_type": "execute_result",
          "data": {
            "text/plain": [
              "fraud_bool\n",
              "0    7918\n",
              "1      82\n",
              "Name: count, dtype: int64"
            ],
            "text/html": [
              "<div>\n",
              "<style scoped>\n",
              "    .dataframe tbody tr th:only-of-type {\n",
              "        vertical-align: middle;\n",
              "    }\n",
              "\n",
              "    .dataframe tbody tr th {\n",
              "        vertical-align: top;\n",
              "    }\n",
              "\n",
              "    .dataframe thead th {\n",
              "        text-align: right;\n",
              "    }\n",
              "</style>\n",
              "<table border=\"1\" class=\"dataframe\">\n",
              "  <thead>\n",
              "    <tr style=\"text-align: right;\">\n",
              "      <th></th>\n",
              "      <th>count</th>\n",
              "    </tr>\n",
              "    <tr>\n",
              "      <th>fraud_bool</th>\n",
              "      <th></th>\n",
              "    </tr>\n",
              "  </thead>\n",
              "  <tbody>\n",
              "    <tr>\n",
              "      <th>0</th>\n",
              "      <td>7918</td>\n",
              "    </tr>\n",
              "    <tr>\n",
              "      <th>1</th>\n",
              "      <td>82</td>\n",
              "    </tr>\n",
              "  </tbody>\n",
              "</table>\n",
              "</div><br><label><b>dtype:</b> int64</label>"
            ]
          },
          "metadata": {},
          "execution_count": 89
        }
      ]
    },
    {
      "cell_type": "code",
      "source": [
        "#Change booleans to numeric for SHAP compatability\n",
        "X = X.astype(int)\n",
        "Y = Y.astype(int)\n",
        "X.iloc[7]"
      ],
      "metadata": {
        "colab": {
          "base_uri": "https://localhost:8080/",
          "height": 649
        },
        "id": "ZLhjFKW7RH18",
        "outputId": "a8b1450c-c5c2-4ee7-e7ee-7448a7b2ff00"
      },
      "execution_count": 90,
      "outputs": [
        {
          "output_type": "execute_result",
          "data": {
            "text/plain": [
              "income                                0\n",
              "name_email_similarity                 0\n",
              "customer_age                         20\n",
              "zip_count_4w                        990\n",
              "date_of_birth_distinct_emails_4w      6\n",
              "email_is_free                         1\n",
              "phone_mobile_valid                    1\n",
              "has_other_cards                       1\n",
              "proposed_credit_limit               500\n",
              "foreign_request                       0\n",
              "session_length_in_minutes             2\n",
              "source_INTERNET                       1\n",
              "source_TELEAPP                        0\n",
              "device_os_linux                       0\n",
              "device_os_macintosh                   0\n",
              "device_os_other                       1\n",
              "device_os_windows                     0\n",
              "device_os_x11                         0\n",
              "Name: 732057, dtype: int64"
            ],
            "text/html": [
              "<div>\n",
              "<style scoped>\n",
              "    .dataframe tbody tr th:only-of-type {\n",
              "        vertical-align: middle;\n",
              "    }\n",
              "\n",
              "    .dataframe tbody tr th {\n",
              "        vertical-align: top;\n",
              "    }\n",
              "\n",
              "    .dataframe thead th {\n",
              "        text-align: right;\n",
              "    }\n",
              "</style>\n",
              "<table border=\"1\" class=\"dataframe\">\n",
              "  <thead>\n",
              "    <tr style=\"text-align: right;\">\n",
              "      <th></th>\n",
              "      <th>732057</th>\n",
              "    </tr>\n",
              "  </thead>\n",
              "  <tbody>\n",
              "    <tr>\n",
              "      <th>income</th>\n",
              "      <td>0</td>\n",
              "    </tr>\n",
              "    <tr>\n",
              "      <th>name_email_similarity</th>\n",
              "      <td>0</td>\n",
              "    </tr>\n",
              "    <tr>\n",
              "      <th>customer_age</th>\n",
              "      <td>20</td>\n",
              "    </tr>\n",
              "    <tr>\n",
              "      <th>zip_count_4w</th>\n",
              "      <td>990</td>\n",
              "    </tr>\n",
              "    <tr>\n",
              "      <th>date_of_birth_distinct_emails_4w</th>\n",
              "      <td>6</td>\n",
              "    </tr>\n",
              "    <tr>\n",
              "      <th>email_is_free</th>\n",
              "      <td>1</td>\n",
              "    </tr>\n",
              "    <tr>\n",
              "      <th>phone_mobile_valid</th>\n",
              "      <td>1</td>\n",
              "    </tr>\n",
              "    <tr>\n",
              "      <th>has_other_cards</th>\n",
              "      <td>1</td>\n",
              "    </tr>\n",
              "    <tr>\n",
              "      <th>proposed_credit_limit</th>\n",
              "      <td>500</td>\n",
              "    </tr>\n",
              "    <tr>\n",
              "      <th>foreign_request</th>\n",
              "      <td>0</td>\n",
              "    </tr>\n",
              "    <tr>\n",
              "      <th>session_length_in_minutes</th>\n",
              "      <td>2</td>\n",
              "    </tr>\n",
              "    <tr>\n",
              "      <th>source_INTERNET</th>\n",
              "      <td>1</td>\n",
              "    </tr>\n",
              "    <tr>\n",
              "      <th>source_TELEAPP</th>\n",
              "      <td>0</td>\n",
              "    </tr>\n",
              "    <tr>\n",
              "      <th>device_os_linux</th>\n",
              "      <td>0</td>\n",
              "    </tr>\n",
              "    <tr>\n",
              "      <th>device_os_macintosh</th>\n",
              "      <td>0</td>\n",
              "    </tr>\n",
              "    <tr>\n",
              "      <th>device_os_other</th>\n",
              "      <td>1</td>\n",
              "    </tr>\n",
              "    <tr>\n",
              "      <th>device_os_windows</th>\n",
              "      <td>0</td>\n",
              "    </tr>\n",
              "    <tr>\n",
              "      <th>device_os_x11</th>\n",
              "      <td>0</td>\n",
              "    </tr>\n",
              "  </tbody>\n",
              "</table>\n",
              "</div><br><label><b>dtype:</b> int64</label>"
            ]
          },
          "metadata": {},
          "execution_count": 90
        }
      ]
    },
    {
      "cell_type": "markdown",
      "source": [
        "Upsample for more frauds"
      ],
      "metadata": {
        "id": "bJkECGTsP08X"
      }
    },
    {
      "cell_type": "code",
      "source": [
        "# Separate majority and minority classes\n",
        "df_majority = v2_sample[v2_sample['fraud_bool'] == 0]\n",
        "df_minority = v2_sample[v2_sample['fraud_bool'] == 1]\n",
        "\n",
        "# Define the desired ratio\n",
        "minority_ratio = 0.5  # Aim for equal classes\n",
        "n_samples = int(minority_ratio * len(df_majority) / (1 - minority_ratio))\n",
        "\n",
        "# Perform upsampling\n",
        "df_minority_upsampled = resample(df_minority, replace=True, n_samples=n_samples, random_state=42)\n",
        "\n",
        "# Combine the datasets\n",
        "v2_upsampled = pd.concat([df_majority, df_minority_upsampled])\n",
        "\n",
        "# Check new class distribution\n",
        "print(\"New class distribution:\")\n",
        "print(v2_upsampled['fraud_bool'].value_counts())"
      ],
      "metadata": {
        "colab": {
          "base_uri": "https://localhost:8080/"
        },
        "id": "akPPT0KUPb-C",
        "outputId": "4328d5d1-246a-46bb-d48c-2453594e9e66"
      },
      "execution_count": 91,
      "outputs": [
        {
          "output_type": "stream",
          "name": "stdout",
          "text": [
            "New class distribution:\n",
            "fraud_bool\n",
            "0    7918\n",
            "1    7918\n",
            "Name: count, dtype: int64\n"
          ]
        }
      ]
    },
    {
      "cell_type": "code",
      "source": [
        "v2_upsampled = v2_upsampled.astype(int)\n",
        "v2_upsampled.iloc[3]"
      ],
      "metadata": {
        "colab": {
          "base_uri": "https://localhost:8080/",
          "height": 680
        },
        "collapsed": true,
        "id": "Hu3O1m0blJgh",
        "outputId": "6e96b943-1ba1-4072-da3a-63f5dd6a7417"
      },
      "execution_count": 97,
      "outputs": [
        {
          "output_type": "execute_result",
          "data": {
            "text/plain": [
              "fraud_bool                            0\n",
              "income                                0\n",
              "name_email_similarity                 0\n",
              "customer_age                         50\n",
              "zip_count_4w                        916\n",
              "date_of_birth_distinct_emails_4w      2\n",
              "email_is_free                         1\n",
              "phone_mobile_valid                    1\n",
              "has_other_cards                       0\n",
              "proposed_credit_limit               200\n",
              "foreign_request                       0\n",
              "session_length_in_minutes            10\n",
              "source_INTERNET                       1\n",
              "source_TELEAPP                        0\n",
              "device_os_linux                       1\n",
              "device_os_macintosh                   0\n",
              "device_os_other                       0\n",
              "device_os_windows                     0\n",
              "device_os_x11                         0\n",
              "Name: 500891, dtype: int64"
            ],
            "text/html": [
              "<div>\n",
              "<style scoped>\n",
              "    .dataframe tbody tr th:only-of-type {\n",
              "        vertical-align: middle;\n",
              "    }\n",
              "\n",
              "    .dataframe tbody tr th {\n",
              "        vertical-align: top;\n",
              "    }\n",
              "\n",
              "    .dataframe thead th {\n",
              "        text-align: right;\n",
              "    }\n",
              "</style>\n",
              "<table border=\"1\" class=\"dataframe\">\n",
              "  <thead>\n",
              "    <tr style=\"text-align: right;\">\n",
              "      <th></th>\n",
              "      <th>500891</th>\n",
              "    </tr>\n",
              "  </thead>\n",
              "  <tbody>\n",
              "    <tr>\n",
              "      <th>fraud_bool</th>\n",
              "      <td>0</td>\n",
              "    </tr>\n",
              "    <tr>\n",
              "      <th>income</th>\n",
              "      <td>0</td>\n",
              "    </tr>\n",
              "    <tr>\n",
              "      <th>name_email_similarity</th>\n",
              "      <td>0</td>\n",
              "    </tr>\n",
              "    <tr>\n",
              "      <th>customer_age</th>\n",
              "      <td>50</td>\n",
              "    </tr>\n",
              "    <tr>\n",
              "      <th>zip_count_4w</th>\n",
              "      <td>916</td>\n",
              "    </tr>\n",
              "    <tr>\n",
              "      <th>date_of_birth_distinct_emails_4w</th>\n",
              "      <td>2</td>\n",
              "    </tr>\n",
              "    <tr>\n",
              "      <th>email_is_free</th>\n",
              "      <td>1</td>\n",
              "    </tr>\n",
              "    <tr>\n",
              "      <th>phone_mobile_valid</th>\n",
              "      <td>1</td>\n",
              "    </tr>\n",
              "    <tr>\n",
              "      <th>has_other_cards</th>\n",
              "      <td>0</td>\n",
              "    </tr>\n",
              "    <tr>\n",
              "      <th>proposed_credit_limit</th>\n",
              "      <td>200</td>\n",
              "    </tr>\n",
              "    <tr>\n",
              "      <th>foreign_request</th>\n",
              "      <td>0</td>\n",
              "    </tr>\n",
              "    <tr>\n",
              "      <th>session_length_in_minutes</th>\n",
              "      <td>10</td>\n",
              "    </tr>\n",
              "    <tr>\n",
              "      <th>source_INTERNET</th>\n",
              "      <td>1</td>\n",
              "    </tr>\n",
              "    <tr>\n",
              "      <th>source_TELEAPP</th>\n",
              "      <td>0</td>\n",
              "    </tr>\n",
              "    <tr>\n",
              "      <th>device_os_linux</th>\n",
              "      <td>1</td>\n",
              "    </tr>\n",
              "    <tr>\n",
              "      <th>device_os_macintosh</th>\n",
              "      <td>0</td>\n",
              "    </tr>\n",
              "    <tr>\n",
              "      <th>device_os_other</th>\n",
              "      <td>0</td>\n",
              "    </tr>\n",
              "    <tr>\n",
              "      <th>device_os_windows</th>\n",
              "      <td>0</td>\n",
              "    </tr>\n",
              "    <tr>\n",
              "      <th>device_os_x11</th>\n",
              "      <td>0</td>\n",
              "    </tr>\n",
              "  </tbody>\n",
              "</table>\n",
              "</div><br><label><b>dtype:</b> int64</label>"
            ]
          },
          "metadata": {},
          "execution_count": 97
        }
      ]
    },
    {
      "cell_type": "code",
      "source": [
        "#prepare upsampled train-test split\n",
        "X_upsampled = v2_upsampled.drop(columns=['fraud_bool'])\n",
        "Y_upsampled = v2_upsampled['fraud_bool']\n",
        "\n",
        "Y_upsampled.value_counts()"
      ],
      "metadata": {
        "colab": {
          "base_uri": "https://localhost:8080/",
          "height": 178
        },
        "id": "MdrUG2AXRhMq",
        "outputId": "1f6ddca9-a3b6-4263-9a38-b0b85de65786"
      },
      "execution_count": 98,
      "outputs": [
        {
          "output_type": "execute_result",
          "data": {
            "text/plain": [
              "fraud_bool\n",
              "0    7918\n",
              "1    7918\n",
              "Name: count, dtype: int64"
            ],
            "text/html": [
              "<div>\n",
              "<style scoped>\n",
              "    .dataframe tbody tr th:only-of-type {\n",
              "        vertical-align: middle;\n",
              "    }\n",
              "\n",
              "    .dataframe tbody tr th {\n",
              "        vertical-align: top;\n",
              "    }\n",
              "\n",
              "    .dataframe thead th {\n",
              "        text-align: right;\n",
              "    }\n",
              "</style>\n",
              "<table border=\"1\" class=\"dataframe\">\n",
              "  <thead>\n",
              "    <tr style=\"text-align: right;\">\n",
              "      <th></th>\n",
              "      <th>count</th>\n",
              "    </tr>\n",
              "    <tr>\n",
              "      <th>fraud_bool</th>\n",
              "      <th></th>\n",
              "    </tr>\n",
              "  </thead>\n",
              "  <tbody>\n",
              "    <tr>\n",
              "      <th>0</th>\n",
              "      <td>7918</td>\n",
              "    </tr>\n",
              "    <tr>\n",
              "      <th>1</th>\n",
              "      <td>7918</td>\n",
              "    </tr>\n",
              "  </tbody>\n",
              "</table>\n",
              "</div><br><label><b>dtype:</b> int64</label>"
            ]
          },
          "metadata": {},
          "execution_count": 98
        }
      ]
    },
    {
      "cell_type": "code",
      "source": [
        "X_upsampled.info()"
      ],
      "metadata": {
        "colab": {
          "base_uri": "https://localhost:8080/"
        },
        "id": "CexHte5FF8ro",
        "outputId": "0fcbbee4-097f-427c-fdd1-e41347e2a181"
      },
      "execution_count": 99,
      "outputs": [
        {
          "output_type": "stream",
          "name": "stdout",
          "text": [
            "<class 'pandas.core.frame.DataFrame'>\n",
            "Index: 15836 entries, 987231 to 496375\n",
            "Data columns (total 18 columns):\n",
            " #   Column                            Non-Null Count  Dtype\n",
            "---  ------                            --------------  -----\n",
            " 0   income                            15836 non-null  int64\n",
            " 1   name_email_similarity             15836 non-null  int64\n",
            " 2   customer_age                      15836 non-null  int64\n",
            " 3   zip_count_4w                      15836 non-null  int64\n",
            " 4   date_of_birth_distinct_emails_4w  15836 non-null  int64\n",
            " 5   email_is_free                     15836 non-null  int64\n",
            " 6   phone_mobile_valid                15836 non-null  int64\n",
            " 7   has_other_cards                   15836 non-null  int64\n",
            " 8   proposed_credit_limit             15836 non-null  int64\n",
            " 9   foreign_request                   15836 non-null  int64\n",
            " 10  session_length_in_minutes         15836 non-null  int64\n",
            " 11  source_INTERNET                   15836 non-null  int64\n",
            " 12  source_TELEAPP                    15836 non-null  int64\n",
            " 13  device_os_linux                   15836 non-null  int64\n",
            " 14  device_os_macintosh               15836 non-null  int64\n",
            " 15  device_os_other                   15836 non-null  int64\n",
            " 16  device_os_windows                 15836 non-null  int64\n",
            " 17  device_os_x11                     15836 non-null  int64\n",
            "dtypes: int64(18)\n",
            "memory usage: 2.3 MB\n"
          ]
        }
      ]
    },
    {
      "cell_type": "code",
      "source": [
        "# Create train and test sets based on 'month'\n",
        "'''X_train = X_upsampled[X_upsampled['month'] < 6]\n",
        "Y_train = Y_upsampled[Y_upsampled['month'] < 6]\n",
        "X_test = X_upsampled[X_upsampled['month'] >= 6]\n",
        "Y_test = Y_upsampled[Y_upsampled['month'] >= 6]'''\n",
        "\n",
        "X_train, X_test, Y_train, Y_test = train_test_split(X_upsampled, Y_upsampled, #test_size=0.2,\n",
        "                                                    test_size = 0.7, shuffle = True, stratify = Y_upsampled)\n",
        "\n",
        "print(\"Class distribution in Y_train after upsampling:\")\n",
        "print(Y_train.value_counts())"
      ],
      "metadata": {
        "colab": {
          "base_uri": "https://localhost:8080/"
        },
        "id": "NN9KK3_tk5tc",
        "outputId": "2dc2cfb0-b03a-41f4-ba03-17fa5164e54e"
      },
      "execution_count": 118,
      "outputs": [
        {
          "output_type": "stream",
          "name": "stdout",
          "text": [
            "Class distribution in Y_train after upsampling:\n",
            "fraud_bool\n",
            "0    2375\n",
            "1    2375\n",
            "Name: count, dtype: int64\n"
          ]
        }
      ]
    },
    {
      "cell_type": "code",
      "source": [
        "#X_test.info()"
      ],
      "metadata": {
        "id": "G-UAmJ-LG4z8"
      },
      "execution_count": 120,
      "outputs": []
    },
    {
      "cell_type": "code",
      "source": [
        "#X_train.info()"
      ],
      "metadata": {
        "id": "Yne6KqdKCXLv"
      },
      "execution_count": 121,
      "outputs": []
    },
    {
      "cell_type": "code",
      "source": [
        "X_df = pd.concat([X_train, X_test])\n",
        "X_df.info()"
      ],
      "metadata": {
        "colab": {
          "base_uri": "https://localhost:8080/"
        },
        "id": "anADoF6crGJr",
        "outputId": "eb413c82-0e70-4ee4-c981-e9b8b2a52b55"
      },
      "execution_count": 122,
      "outputs": [
        {
          "output_type": "stream",
          "name": "stdout",
          "text": [
            "<class 'pandas.core.frame.DataFrame'>\n",
            "Index: 15836 entries, 238749 to 900541\n",
            "Data columns (total 18 columns):\n",
            " #   Column                            Non-Null Count  Dtype\n",
            "---  ------                            --------------  -----\n",
            " 0   income                            15836 non-null  int64\n",
            " 1   name_email_similarity             15836 non-null  int64\n",
            " 2   customer_age                      15836 non-null  int64\n",
            " 3   zip_count_4w                      15836 non-null  int64\n",
            " 4   date_of_birth_distinct_emails_4w  15836 non-null  int64\n",
            " 5   email_is_free                     15836 non-null  int64\n",
            " 6   phone_mobile_valid                15836 non-null  int64\n",
            " 7   has_other_cards                   15836 non-null  int64\n",
            " 8   proposed_credit_limit             15836 non-null  int64\n",
            " 9   foreign_request                   15836 non-null  int64\n",
            " 10  session_length_in_minutes         15836 non-null  int64\n",
            " 11  source_INTERNET                   15836 non-null  int64\n",
            " 12  source_TELEAPP                    15836 non-null  int64\n",
            " 13  device_os_linux                   15836 non-null  int64\n",
            " 14  device_os_macintosh               15836 non-null  int64\n",
            " 15  device_os_other                   15836 non-null  int64\n",
            " 16  device_os_windows                 15836 non-null  int64\n",
            " 17  device_os_x11                     15836 non-null  int64\n",
            "dtypes: int64(18)\n",
            "memory usage: 2.3 MB\n"
          ]
        }
      ]
    },
    {
      "cell_type": "markdown",
      "source": [
        "Create scaled versions of the features"
      ],
      "metadata": {
        "id": "UrYxzsJWRWIn"
      }
    },
    {
      "cell_type": "code",
      "source": [
        "scaler = StandardScaler()\n",
        "X_scaled_train = scaler.fit_transform(X_train)\n",
        "X_scaled_test = scaler.transform(X_test)\n",
        "X_scaled_df = pd.concat([pd.DataFrame(X_scaled_train, columns=[col + '_scaled' for col in X_upsampled.columns]),\n",
        "                         pd.DataFrame(X_scaled_test, columns=[col + '_scaled' for col in X_upsampled.columns])])\n"
      ],
      "metadata": {
        "id": "Ru8Ez_ffRat7"
      },
      "execution_count": 123,
      "outputs": []
    },
    {
      "cell_type": "code",
      "source": [
        "#merge scaled and unscaled data\n",
        "v2_upsampled_scaled = pd.merge(v2_upsampled, X_scaled_df, left_index=True, right_index=True)\n",
        "v2_upsampled_scaled.info()\n",
        "v2_upsampled_scaled.iloc[3]"
      ],
      "metadata": {
        "id": "7p68z2MkkCDq",
        "colab": {
          "base_uri": "https://localhost:8080/",
          "height": 1000
        },
        "outputId": "d2695fc2-aa20-43da-e1fd-5284b6108cd5"
      },
      "execution_count": 124,
      "outputs": [
        {
          "output_type": "stream",
          "name": "stdout",
          "text": [
            "<class 'pandas.core.frame.DataFrame'>\n",
            "Index: 329 entries, 2085 to 9221\n",
            "Data columns (total 37 columns):\n",
            " #   Column                                   Non-Null Count  Dtype  \n",
            "---  ------                                   --------------  -----  \n",
            " 0   fraud_bool                               329 non-null    int64  \n",
            " 1   income                                   329 non-null    int64  \n",
            " 2   name_email_similarity                    329 non-null    int64  \n",
            " 3   customer_age                             329 non-null    int64  \n",
            " 4   zip_count_4w                             329 non-null    int64  \n",
            " 5   date_of_birth_distinct_emails_4w         329 non-null    int64  \n",
            " 6   email_is_free                            329 non-null    int64  \n",
            " 7   phone_mobile_valid                       329 non-null    int64  \n",
            " 8   has_other_cards                          329 non-null    int64  \n",
            " 9   proposed_credit_limit                    329 non-null    int64  \n",
            " 10  foreign_request                          329 non-null    int64  \n",
            " 11  session_length_in_minutes                329 non-null    int64  \n",
            " 12  source_INTERNET                          329 non-null    int64  \n",
            " 13  source_TELEAPP                           329 non-null    int64  \n",
            " 14  device_os_linux                          329 non-null    int64  \n",
            " 15  device_os_macintosh                      329 non-null    int64  \n",
            " 16  device_os_other                          329 non-null    int64  \n",
            " 17  device_os_windows                        329 non-null    int64  \n",
            " 18  device_os_x11                            329 non-null    int64  \n",
            " 19  income_scaled                            329 non-null    float64\n",
            " 20  name_email_similarity_scaled             329 non-null    float64\n",
            " 21  customer_age_scaled                      329 non-null    float64\n",
            " 22  zip_count_4w_scaled                      329 non-null    float64\n",
            " 23  date_of_birth_distinct_emails_4w_scaled  329 non-null    float64\n",
            " 24  email_is_free_scaled                     329 non-null    float64\n",
            " 25  phone_mobile_valid_scaled                329 non-null    float64\n",
            " 26  has_other_cards_scaled                   329 non-null    float64\n",
            " 27  proposed_credit_limit_scaled             329 non-null    float64\n",
            " 28  foreign_request_scaled                   329 non-null    float64\n",
            " 29  session_length_in_minutes_scaled         329 non-null    float64\n",
            " 30  source_INTERNET_scaled                   329 non-null    float64\n",
            " 31  source_TELEAPP_scaled                    329 non-null    float64\n",
            " 32  device_os_linux_scaled                   329 non-null    float64\n",
            " 33  device_os_macintosh_scaled               329 non-null    float64\n",
            " 34  device_os_other_scaled                   329 non-null    float64\n",
            " 35  device_os_windows_scaled                 329 non-null    float64\n",
            " 36  device_os_x11_scaled                     329 non-null    float64\n",
            "dtypes: float64(18), int64(19)\n",
            "memory usage: 97.7 KB\n"
          ]
        },
        {
          "output_type": "execute_result",
          "data": {
            "text/plain": [
              "fraud_bool                                    0.000000\n",
              "income                                        0.000000\n",
              "name_email_similarity                         0.000000\n",
              "customer_age                                 20.000000\n",
              "zip_count_4w                               1744.000000\n",
              "date_of_birth_distinct_emails_4w             22.000000\n",
              "email_is_free                                 1.000000\n",
              "phone_mobile_valid                            1.000000\n",
              "has_other_cards                               0.000000\n",
              "proposed_credit_limit                       200.000000\n",
              "foreign_request                               0.000000\n",
              "session_length_in_minutes                     6.000000\n",
              "source_INTERNET                               1.000000\n",
              "source_TELEAPP                                0.000000\n",
              "device_os_linux                               0.000000\n",
              "device_os_macintosh                           0.000000\n",
              "device_os_other                               1.000000\n",
              "device_os_windows                             0.000000\n",
              "device_os_x11                                 0.000000\n",
              "income_scaled                                 0.000000\n",
              "name_email_similarity_scaled                  0.000000\n",
              "customer_age_scaled                           1.019781\n",
              "zip_count_4w_scaled                          -1.131262\n",
              "date_of_birth_distinct_emails_4w_scaled      -0.565049\n",
              "email_is_free_scaled                          0.940702\n",
              "phone_mobile_valid_scaled                     0.516398\n",
              "has_other_cards_scaled                       -0.465846\n",
              "proposed_credit_limit_scaled                  1.279161\n",
              "foreign_request_scaled                       -0.229161\n",
              "session_length_in_minutes_scaled             -0.050173\n",
              "source_INTERNET_scaled                        0.058136\n",
              "source_TELEAPP_scaled                        -0.058136\n",
              "device_os_linux_scaled                       -0.572650\n",
              "device_os_macintosh_scaled                   -0.275016\n",
              "device_os_other_scaled                       -0.487797\n",
              "device_os_windows_scaled                      1.038641\n",
              "device_os_x11_scaled                         -0.097797\n",
              "Name: 6298, dtype: float64"
            ],
            "text/html": [
              "<div>\n",
              "<style scoped>\n",
              "    .dataframe tbody tr th:only-of-type {\n",
              "        vertical-align: middle;\n",
              "    }\n",
              "\n",
              "    .dataframe tbody tr th {\n",
              "        vertical-align: top;\n",
              "    }\n",
              "\n",
              "    .dataframe thead th {\n",
              "        text-align: right;\n",
              "    }\n",
              "</style>\n",
              "<table border=\"1\" class=\"dataframe\">\n",
              "  <thead>\n",
              "    <tr style=\"text-align: right;\">\n",
              "      <th></th>\n",
              "      <th>6298</th>\n",
              "    </tr>\n",
              "  </thead>\n",
              "  <tbody>\n",
              "    <tr>\n",
              "      <th>fraud_bool</th>\n",
              "      <td>0.000000</td>\n",
              "    </tr>\n",
              "    <tr>\n",
              "      <th>income</th>\n",
              "      <td>0.000000</td>\n",
              "    </tr>\n",
              "    <tr>\n",
              "      <th>name_email_similarity</th>\n",
              "      <td>0.000000</td>\n",
              "    </tr>\n",
              "    <tr>\n",
              "      <th>customer_age</th>\n",
              "      <td>20.000000</td>\n",
              "    </tr>\n",
              "    <tr>\n",
              "      <th>zip_count_4w</th>\n",
              "      <td>1744.000000</td>\n",
              "    </tr>\n",
              "    <tr>\n",
              "      <th>date_of_birth_distinct_emails_4w</th>\n",
              "      <td>22.000000</td>\n",
              "    </tr>\n",
              "    <tr>\n",
              "      <th>email_is_free</th>\n",
              "      <td>1.000000</td>\n",
              "    </tr>\n",
              "    <tr>\n",
              "      <th>phone_mobile_valid</th>\n",
              "      <td>1.000000</td>\n",
              "    </tr>\n",
              "    <tr>\n",
              "      <th>has_other_cards</th>\n",
              "      <td>0.000000</td>\n",
              "    </tr>\n",
              "    <tr>\n",
              "      <th>proposed_credit_limit</th>\n",
              "      <td>200.000000</td>\n",
              "    </tr>\n",
              "    <tr>\n",
              "      <th>foreign_request</th>\n",
              "      <td>0.000000</td>\n",
              "    </tr>\n",
              "    <tr>\n",
              "      <th>session_length_in_minutes</th>\n",
              "      <td>6.000000</td>\n",
              "    </tr>\n",
              "    <tr>\n",
              "      <th>source_INTERNET</th>\n",
              "      <td>1.000000</td>\n",
              "    </tr>\n",
              "    <tr>\n",
              "      <th>source_TELEAPP</th>\n",
              "      <td>0.000000</td>\n",
              "    </tr>\n",
              "    <tr>\n",
              "      <th>device_os_linux</th>\n",
              "      <td>0.000000</td>\n",
              "    </tr>\n",
              "    <tr>\n",
              "      <th>device_os_macintosh</th>\n",
              "      <td>0.000000</td>\n",
              "    </tr>\n",
              "    <tr>\n",
              "      <th>device_os_other</th>\n",
              "      <td>1.000000</td>\n",
              "    </tr>\n",
              "    <tr>\n",
              "      <th>device_os_windows</th>\n",
              "      <td>0.000000</td>\n",
              "    </tr>\n",
              "    <tr>\n",
              "      <th>device_os_x11</th>\n",
              "      <td>0.000000</td>\n",
              "    </tr>\n",
              "    <tr>\n",
              "      <th>income_scaled</th>\n",
              "      <td>0.000000</td>\n",
              "    </tr>\n",
              "    <tr>\n",
              "      <th>name_email_similarity_scaled</th>\n",
              "      <td>0.000000</td>\n",
              "    </tr>\n",
              "    <tr>\n",
              "      <th>customer_age_scaled</th>\n",
              "      <td>1.019781</td>\n",
              "    </tr>\n",
              "    <tr>\n",
              "      <th>zip_count_4w_scaled</th>\n",
              "      <td>-1.131262</td>\n",
              "    </tr>\n",
              "    <tr>\n",
              "      <th>date_of_birth_distinct_emails_4w_scaled</th>\n",
              "      <td>-0.565049</td>\n",
              "    </tr>\n",
              "    <tr>\n",
              "      <th>email_is_free_scaled</th>\n",
              "      <td>0.940702</td>\n",
              "    </tr>\n",
              "    <tr>\n",
              "      <th>phone_mobile_valid_scaled</th>\n",
              "      <td>0.516398</td>\n",
              "    </tr>\n",
              "    <tr>\n",
              "      <th>has_other_cards_scaled</th>\n",
              "      <td>-0.465846</td>\n",
              "    </tr>\n",
              "    <tr>\n",
              "      <th>proposed_credit_limit_scaled</th>\n",
              "      <td>1.279161</td>\n",
              "    </tr>\n",
              "    <tr>\n",
              "      <th>foreign_request_scaled</th>\n",
              "      <td>-0.229161</td>\n",
              "    </tr>\n",
              "    <tr>\n",
              "      <th>session_length_in_minutes_scaled</th>\n",
              "      <td>-0.050173</td>\n",
              "    </tr>\n",
              "    <tr>\n",
              "      <th>source_INTERNET_scaled</th>\n",
              "      <td>0.058136</td>\n",
              "    </tr>\n",
              "    <tr>\n",
              "      <th>source_TELEAPP_scaled</th>\n",
              "      <td>-0.058136</td>\n",
              "    </tr>\n",
              "    <tr>\n",
              "      <th>device_os_linux_scaled</th>\n",
              "      <td>-0.572650</td>\n",
              "    </tr>\n",
              "    <tr>\n",
              "      <th>device_os_macintosh_scaled</th>\n",
              "      <td>-0.275016</td>\n",
              "    </tr>\n",
              "    <tr>\n",
              "      <th>device_os_other_scaled</th>\n",
              "      <td>-0.487797</td>\n",
              "    </tr>\n",
              "    <tr>\n",
              "      <th>device_os_windows_scaled</th>\n",
              "      <td>1.038641</td>\n",
              "    </tr>\n",
              "    <tr>\n",
              "      <th>device_os_x11_scaled</th>\n",
              "      <td>-0.097797</td>\n",
              "    </tr>\n",
              "  </tbody>\n",
              "</table>\n",
              "</div><br><label><b>dtype:</b> float64</label>"
            ]
          },
          "metadata": {},
          "execution_count": 124
        }
      ]
    },
    {
      "cell_type": "markdown",
      "source": [
        "Train on scaled X (unnecessary for RF but good for SHAP later on)"
      ],
      "metadata": {
        "id": "4odDKvjsS_J0"
      }
    },
    {
      "cell_type": "code",
      "source": [
        "#model = modelv2 #original 'best' light gbm model\n",
        "model = RandomForestClassifier(\n",
        "    n_estimators=30, #reducing nr of trees for more errors\n",
        "    max_depth=3, #limiting the depth of trees\n",
        "    class_weight= None,\n",
        "    random_state=42\n",
        ")\n",
        "model.fit(X_scaled_train, Y_train)\n",
        "\n",
        "\n",
        "#predictions\n",
        "Yhat = model.predict(X_scaled_test)\n",
        "len(Yhat)"
      ],
      "metadata": {
        "colab": {
          "base_uri": "https://localhost:8080/"
        },
        "id": "A4fmY1qZStJ9",
        "outputId": "08551031-939e-488a-f6f8-a75d010f977d"
      },
      "execution_count": 125,
      "outputs": [
        {
          "output_type": "execute_result",
          "data": {
            "text/plain": [
              "11086"
            ]
          },
          "metadata": {},
          "execution_count": 125
        }
      ]
    },
    {
      "cell_type": "markdown",
      "source": [
        "# Add Errors"
      ],
      "metadata": {
        "id": "KjDRRh5Ablwr"
      }
    },
    {
      "cell_type": "code",
      "source": [
        "X_scaled_test"
      ],
      "metadata": {
        "colab": {
          "base_uri": "https://localhost:8080/"
        },
        "id": "X8lSDHrasOKU",
        "outputId": "465966eb-5279-4922-ba0e-22b02c7caf42"
      },
      "execution_count": 126,
      "outputs": [
        {
          "output_type": "execute_result",
          "data": {
            "text/plain": [
              "array([[ 0.        ,  0.        , -1.23147871, ...,  2.05003139,\n",
              "        -0.9627968 , -0.0977972 ],\n",
              "       [ 0.        ,  0.        , -1.9818987 , ..., -0.48779741,\n",
              "        -0.9627968 , -0.0977972 ],\n",
              "       [ 0.        ,  0.        ,  1.01978128, ..., -0.48779741,\n",
              "        -0.9627968 , -0.0977972 ],\n",
              "       ...,\n",
              "       [ 0.        ,  0.        ,  0.26936128, ..., -0.48779741,\n",
              "         1.03864075, -0.0977972 ],\n",
              "       [ 0.        ,  0.        , -1.9818987 , ...,  2.05003139,\n",
              "        -0.9627968 , -0.0977972 ],\n",
              "       [ 0.        ,  0.        ,  1.01978128, ..., -0.48779741,\n",
              "        -0.9627968 , -0.0977972 ]])"
            ]
          },
          "metadata": {},
          "execution_count": 126
        }
      ]
    },
    {
      "cell_type": "code",
      "source": [
        "#Create df for predicted, true classes and errors\n",
        "predictions = pd.DataFrame({\n",
        "    'predicted_class': Yhat.tolist(),\n",
        "    'true_class': Y_test.values,\n",
        "    'errors': abs(Yhat - Y_test.values)\n",
        "}, index=X_test.index)\n",
        "\n",
        "#adding predictions to test data\n",
        "X_scaled_test_df = pd.DataFrame(X_scaled_test, columns=[col + '_scaled' for col in X_test.columns], index=X_test.index)\n",
        "# Reset index and drop the old index column for all DataFrames\n",
        "X_scaled_test_df = X_scaled_test_df.reset_index(drop=True)\n",
        "X_test = X_test.reset_index(drop=True)\n",
        "predictions = predictions.reset_index(drop=True)\n",
        "\n",
        "# Concatenate the dataframes\n",
        "V2_error = pd.concat([X_test, X_scaled_test_df, predictions], axis=1)\n",
        "\n",
        "\n",
        "errors = V2_error['errors']\n",
        "df_out = V2_error.drop(['predicted_class', 'true_class', 'errors'], axis=1)\n",
        "V2_error[V2_error['errors']==1]\n",
        "\n",
        "#accuracy & confusion matrix\n",
        "accuracy = accuracy_score(predictions['true_class'], predictions['predicted_class'])\n",
        "print(f\"Accuracy: {accuracy:.4f}\")\n",
        "cm = confusion_matrix(predictions['true_class'], predictions['predicted_class'])\n",
        "print(cm)"
      ],
      "metadata": {
        "colab": {
          "base_uri": "https://localhost:8080/"
        },
        "id": "kihE8JNobor3",
        "outputId": "3b8f95c8-8220-492c-ca8a-4c9f9ed20593"
      },
      "execution_count": 127,
      "outputs": [
        {
          "output_type": "stream",
          "name": "stdout",
          "text": [
            "Accuracy: 0.7522\n",
            "[[4222 1321]\n",
            " [1426 4117]]\n"
          ]
        }
      ]
    },
    {
      "cell_type": "code",
      "source": [
        "predictions.info()"
      ],
      "metadata": {
        "colab": {
          "base_uri": "https://localhost:8080/"
        },
        "id": "DBqrK8aDgXLp",
        "outputId": "c11db9a4-6064-4b7c-a782-555c66a3ec78"
      },
      "execution_count": 128,
      "outputs": [
        {
          "output_type": "stream",
          "name": "stdout",
          "text": [
            "<class 'pandas.core.frame.DataFrame'>\n",
            "RangeIndex: 11086 entries, 0 to 11085\n",
            "Data columns (total 3 columns):\n",
            " #   Column           Non-Null Count  Dtype\n",
            "---  ------           --------------  -----\n",
            " 0   predicted_class  11086 non-null  int64\n",
            " 1   true_class       11086 non-null  int64\n",
            " 2   errors           11086 non-null  int64\n",
            "dtypes: int64(3)\n",
            "memory usage: 260.0 KB\n"
          ]
        }
      ]
    },
    {
      "cell_type": "code",
      "source": [
        "V2_error.info()"
      ],
      "metadata": {
        "colab": {
          "base_uri": "https://localhost:8080/"
        },
        "id": "bcP1rEVVkqkL",
        "outputId": "7032bd20-ea34-46da-e063-fb45c266e16b"
      },
      "execution_count": 129,
      "outputs": [
        {
          "output_type": "stream",
          "name": "stdout",
          "text": [
            "<class 'pandas.core.frame.DataFrame'>\n",
            "RangeIndex: 11086 entries, 0 to 11085\n",
            "Data columns (total 39 columns):\n",
            " #   Column                                   Non-Null Count  Dtype  \n",
            "---  ------                                   --------------  -----  \n",
            " 0   income                                   11086 non-null  int64  \n",
            " 1   name_email_similarity                    11086 non-null  int64  \n",
            " 2   customer_age                             11086 non-null  int64  \n",
            " 3   zip_count_4w                             11086 non-null  int64  \n",
            " 4   date_of_birth_distinct_emails_4w         11086 non-null  int64  \n",
            " 5   email_is_free                            11086 non-null  int64  \n",
            " 6   phone_mobile_valid                       11086 non-null  int64  \n",
            " 7   has_other_cards                          11086 non-null  int64  \n",
            " 8   proposed_credit_limit                    11086 non-null  int64  \n",
            " 9   foreign_request                          11086 non-null  int64  \n",
            " 10  session_length_in_minutes                11086 non-null  int64  \n",
            " 11  source_INTERNET                          11086 non-null  int64  \n",
            " 12  source_TELEAPP                           11086 non-null  int64  \n",
            " 13  device_os_linux                          11086 non-null  int64  \n",
            " 14  device_os_macintosh                      11086 non-null  int64  \n",
            " 15  device_os_other                          11086 non-null  int64  \n",
            " 16  device_os_windows                        11086 non-null  int64  \n",
            " 17  device_os_x11                            11086 non-null  int64  \n",
            " 18  income_scaled                            11086 non-null  float64\n",
            " 19  name_email_similarity_scaled             11086 non-null  float64\n",
            " 20  customer_age_scaled                      11086 non-null  float64\n",
            " 21  zip_count_4w_scaled                      11086 non-null  float64\n",
            " 22  date_of_birth_distinct_emails_4w_scaled  11086 non-null  float64\n",
            " 23  email_is_free_scaled                     11086 non-null  float64\n",
            " 24  phone_mobile_valid_scaled                11086 non-null  float64\n",
            " 25  has_other_cards_scaled                   11086 non-null  float64\n",
            " 26  proposed_credit_limit_scaled             11086 non-null  float64\n",
            " 27  foreign_request_scaled                   11086 non-null  float64\n",
            " 28  session_length_in_minutes_scaled         11086 non-null  float64\n",
            " 29  source_INTERNET_scaled                   11086 non-null  float64\n",
            " 30  source_TELEAPP_scaled                    11086 non-null  float64\n",
            " 31  device_os_linux_scaled                   11086 non-null  float64\n",
            " 32  device_os_macintosh_scaled               11086 non-null  float64\n",
            " 33  device_os_other_scaled                   11086 non-null  float64\n",
            " 34  device_os_windows_scaled                 11086 non-null  float64\n",
            " 35  device_os_x11_scaled                     11086 non-null  float64\n",
            " 36  predicted_class                          11086 non-null  int64  \n",
            " 37  true_class                               11086 non-null  int64  \n",
            " 38  errors                                   11086 non-null  int64  \n",
            "dtypes: float64(18), int64(21)\n",
            "memory usage: 3.3 MB\n"
          ]
        }
      ]
    },
    {
      "cell_type": "code",
      "source": [
        "V2_error.iloc[5]"
      ],
      "metadata": {
        "colab": {
          "base_uri": "https://localhost:8080/",
          "height": 1000
        },
        "id": "dNUBcpZfpuH5",
        "outputId": "522906d3-009a-4935-948e-904000ad3976"
      },
      "execution_count": 130,
      "outputs": [
        {
          "output_type": "execute_result",
          "data": {
            "text/plain": [
              "income                                       0.000000\n",
              "name_email_similarity                        0.000000\n",
              "customer_age                                60.000000\n",
              "zip_count_4w                               669.000000\n",
              "date_of_birth_distinct_emails_4w             3.000000\n",
              "email_is_free                                1.000000\n",
              "phone_mobile_valid                           1.000000\n",
              "has_other_cards                              0.000000\n",
              "proposed_credit_limit                      500.000000\n",
              "foreign_request                              0.000000\n",
              "session_length_in_minutes                    3.000000\n",
              "source_INTERNET                              1.000000\n",
              "source_TELEAPP                               0.000000\n",
              "device_os_linux                              1.000000\n",
              "device_os_macintosh                          0.000000\n",
              "device_os_other                              0.000000\n",
              "device_os_windows                            0.000000\n",
              "device_os_x11                                0.000000\n",
              "income_scaled                                0.000000\n",
              "name_email_similarity_scaled                 0.000000\n",
              "customer_age_scaled                          1.019781\n",
              "zip_count_4w_scaled                         -0.878879\n",
              "date_of_birth_distinct_emails_4w_scaled     -0.762706\n",
              "email_is_free_scaled                         0.940702\n",
              "phone_mobile_valid_scaled                    0.516398\n",
              "has_other_cards_scaled                      -0.465846\n",
              "proposed_credit_limit_scaled                -0.382914\n",
              "foreign_request_scaled                      -0.229161\n",
              "session_length_in_minutes_scaled            -0.507776\n",
              "source_INTERNET_scaled                       0.058136\n",
              "source_TELEAPP_scaled                       -0.058136\n",
              "device_os_linux_scaled                       1.746266\n",
              "device_os_macintosh_scaled                  -0.275016\n",
              "device_os_other_scaled                      -0.487797\n",
              "device_os_windows_scaled                    -0.962797\n",
              "device_os_x11_scaled                        -0.097797\n",
              "predicted_class                              0.000000\n",
              "true_class                                   1.000000\n",
              "errors                                       1.000000\n",
              "Name: 5, dtype: float64"
            ],
            "text/html": [
              "<div>\n",
              "<style scoped>\n",
              "    .dataframe tbody tr th:only-of-type {\n",
              "        vertical-align: middle;\n",
              "    }\n",
              "\n",
              "    .dataframe tbody tr th {\n",
              "        vertical-align: top;\n",
              "    }\n",
              "\n",
              "    .dataframe thead th {\n",
              "        text-align: right;\n",
              "    }\n",
              "</style>\n",
              "<table border=\"1\" class=\"dataframe\">\n",
              "  <thead>\n",
              "    <tr style=\"text-align: right;\">\n",
              "      <th></th>\n",
              "      <th>5</th>\n",
              "    </tr>\n",
              "  </thead>\n",
              "  <tbody>\n",
              "    <tr>\n",
              "      <th>income</th>\n",
              "      <td>0.000000</td>\n",
              "    </tr>\n",
              "    <tr>\n",
              "      <th>name_email_similarity</th>\n",
              "      <td>0.000000</td>\n",
              "    </tr>\n",
              "    <tr>\n",
              "      <th>customer_age</th>\n",
              "      <td>60.000000</td>\n",
              "    </tr>\n",
              "    <tr>\n",
              "      <th>zip_count_4w</th>\n",
              "      <td>669.000000</td>\n",
              "    </tr>\n",
              "    <tr>\n",
              "      <th>date_of_birth_distinct_emails_4w</th>\n",
              "      <td>3.000000</td>\n",
              "    </tr>\n",
              "    <tr>\n",
              "      <th>email_is_free</th>\n",
              "      <td>1.000000</td>\n",
              "    </tr>\n",
              "    <tr>\n",
              "      <th>phone_mobile_valid</th>\n",
              "      <td>1.000000</td>\n",
              "    </tr>\n",
              "    <tr>\n",
              "      <th>has_other_cards</th>\n",
              "      <td>0.000000</td>\n",
              "    </tr>\n",
              "    <tr>\n",
              "      <th>proposed_credit_limit</th>\n",
              "      <td>500.000000</td>\n",
              "    </tr>\n",
              "    <tr>\n",
              "      <th>foreign_request</th>\n",
              "      <td>0.000000</td>\n",
              "    </tr>\n",
              "    <tr>\n",
              "      <th>session_length_in_minutes</th>\n",
              "      <td>3.000000</td>\n",
              "    </tr>\n",
              "    <tr>\n",
              "      <th>source_INTERNET</th>\n",
              "      <td>1.000000</td>\n",
              "    </tr>\n",
              "    <tr>\n",
              "      <th>source_TELEAPP</th>\n",
              "      <td>0.000000</td>\n",
              "    </tr>\n",
              "    <tr>\n",
              "      <th>device_os_linux</th>\n",
              "      <td>1.000000</td>\n",
              "    </tr>\n",
              "    <tr>\n",
              "      <th>device_os_macintosh</th>\n",
              "      <td>0.000000</td>\n",
              "    </tr>\n",
              "    <tr>\n",
              "      <th>device_os_other</th>\n",
              "      <td>0.000000</td>\n",
              "    </tr>\n",
              "    <tr>\n",
              "      <th>device_os_windows</th>\n",
              "      <td>0.000000</td>\n",
              "    </tr>\n",
              "    <tr>\n",
              "      <th>device_os_x11</th>\n",
              "      <td>0.000000</td>\n",
              "    </tr>\n",
              "    <tr>\n",
              "      <th>income_scaled</th>\n",
              "      <td>0.000000</td>\n",
              "    </tr>\n",
              "    <tr>\n",
              "      <th>name_email_similarity_scaled</th>\n",
              "      <td>0.000000</td>\n",
              "    </tr>\n",
              "    <tr>\n",
              "      <th>customer_age_scaled</th>\n",
              "      <td>1.019781</td>\n",
              "    </tr>\n",
              "    <tr>\n",
              "      <th>zip_count_4w_scaled</th>\n",
              "      <td>-0.878879</td>\n",
              "    </tr>\n",
              "    <tr>\n",
              "      <th>date_of_birth_distinct_emails_4w_scaled</th>\n",
              "      <td>-0.762706</td>\n",
              "    </tr>\n",
              "    <tr>\n",
              "      <th>email_is_free_scaled</th>\n",
              "      <td>0.940702</td>\n",
              "    </tr>\n",
              "    <tr>\n",
              "      <th>phone_mobile_valid_scaled</th>\n",
              "      <td>0.516398</td>\n",
              "    </tr>\n",
              "    <tr>\n",
              "      <th>has_other_cards_scaled</th>\n",
              "      <td>-0.465846</td>\n",
              "    </tr>\n",
              "    <tr>\n",
              "      <th>proposed_credit_limit_scaled</th>\n",
              "      <td>-0.382914</td>\n",
              "    </tr>\n",
              "    <tr>\n",
              "      <th>foreign_request_scaled</th>\n",
              "      <td>-0.229161</td>\n",
              "    </tr>\n",
              "    <tr>\n",
              "      <th>session_length_in_minutes_scaled</th>\n",
              "      <td>-0.507776</td>\n",
              "    </tr>\n",
              "    <tr>\n",
              "      <th>source_INTERNET_scaled</th>\n",
              "      <td>0.058136</td>\n",
              "    </tr>\n",
              "    <tr>\n",
              "      <th>source_TELEAPP_scaled</th>\n",
              "      <td>-0.058136</td>\n",
              "    </tr>\n",
              "    <tr>\n",
              "      <th>device_os_linux_scaled</th>\n",
              "      <td>1.746266</td>\n",
              "    </tr>\n",
              "    <tr>\n",
              "      <th>device_os_macintosh_scaled</th>\n",
              "      <td>-0.275016</td>\n",
              "    </tr>\n",
              "    <tr>\n",
              "      <th>device_os_other_scaled</th>\n",
              "      <td>-0.487797</td>\n",
              "    </tr>\n",
              "    <tr>\n",
              "      <th>device_os_windows_scaled</th>\n",
              "      <td>-0.962797</td>\n",
              "    </tr>\n",
              "    <tr>\n",
              "      <th>device_os_x11_scaled</th>\n",
              "      <td>-0.097797</td>\n",
              "    </tr>\n",
              "    <tr>\n",
              "      <th>predicted_class</th>\n",
              "      <td>0.000000</td>\n",
              "    </tr>\n",
              "    <tr>\n",
              "      <th>true_class</th>\n",
              "      <td>1.000000</td>\n",
              "    </tr>\n",
              "    <tr>\n",
              "      <th>errors</th>\n",
              "      <td>1.000000</td>\n",
              "    </tr>\n",
              "  </tbody>\n",
              "</table>\n",
              "</div><br><label><b>dtype:</b> float64</label>"
            ]
          },
          "metadata": {},
          "execution_count": 130
        }
      ]
    },
    {
      "cell_type": "code",
      "source": [
        "#V2_error.info()"
      ],
      "metadata": {
        "id": "ho_WK0-VJQHu"
      },
      "execution_count": 131,
      "outputs": []
    },
    {
      "cell_type": "code",
      "source": [
        "#selecting the 4 error labels\n",
        "def get_error_type(row):\n",
        "    true_class = row['true_class']\n",
        "    predicted_class = row['predicted_class']\n",
        "\n",
        "    if true_class == predicted_class and true_class == 1:\n",
        "        row['TP'] = 1\n",
        "        row['TN'] = 0\n",
        "        row['FN'] = 0\n",
        "        row['FP'] = 0\n",
        "    elif true_class == predicted_class and true_class == 0:\n",
        "        row['TP'] = 0\n",
        "        row['TN'] = 1\n",
        "        row['FN'] = 0\n",
        "        row['FP'] = 0\n",
        "    elif true_class != predicted_class and true_class == 1:\n",
        "        row['TP'] = 0\n",
        "        row['TN'] = 0\n",
        "        row['FN'] = 1\n",
        "        row['FP'] = 0\n",
        "    elif true_class != predicted_class and true_class == 0:\n",
        "        row['TP'] = 0\n",
        "        row['TN'] = 0\n",
        "        row['FN'] = 0\n",
        "        row['FP'] = 1\n",
        "\n",
        "    return row\n",
        "\n",
        "#apply function to rows in data\n",
        "v2_err = V2_error.apply(get_error_type, axis=1)\n",
        "\n",
        "#v2_err.info()\n",
        "v2_err.iloc[3]"
      ],
      "metadata": {
        "colab": {
          "base_uri": "https://localhost:8080/",
          "height": 1000
        },
        "id": "ypxpyInpgVbU",
        "outputId": "c2373a48-5d93-485f-b978-16e25f8539b3"
      },
      "execution_count": 132,
      "outputs": [
        {
          "output_type": "execute_result",
          "data": {
            "text/plain": [
              "income                                        0.000000\n",
              "name_email_similarity                         0.000000\n",
              "customer_age                                 40.000000\n",
              "zip_count_4w                               1091.000000\n",
              "date_of_birth_distinct_emails_4w              6.000000\n",
              "email_is_free                                 0.000000\n",
              "phone_mobile_valid                            1.000000\n",
              "has_other_cards                               1.000000\n",
              "proposed_credit_limit                      1000.000000\n",
              "foreign_request                               0.000000\n",
              "session_length_in_minutes                     1.000000\n",
              "source_INTERNET                               1.000000\n",
              "source_TELEAPP                                0.000000\n",
              "device_os_linux                               0.000000\n",
              "device_os_macintosh                           0.000000\n",
              "device_os_other                               1.000000\n",
              "device_os_windows                             0.000000\n",
              "device_os_x11                                 0.000000\n",
              "income_scaled                                 0.000000\n",
              "name_email_similarity_scaled                  0.000000\n",
              "customer_age_scaled                          -0.481059\n",
              "zip_count_4w_scaled                          -0.445930\n",
              "date_of_birth_distinct_emails_4w_scaled      -0.169735\n",
              "email_is_free_scaled                         -1.063036\n",
              "phone_mobile_valid_scaled                     0.516398\n",
              "has_other_cards_scaled                        2.146632\n",
              "proposed_credit_limit_scaled                  0.448123\n",
              "foreign_request_scaled                       -0.229161\n",
              "session_length_in_minutes_scaled             -0.690817\n",
              "source_INTERNET_scaled                        0.058136\n",
              "source_TELEAPP_scaled                        -0.058136\n",
              "device_os_linux_scaled                       -0.572650\n",
              "device_os_macintosh_scaled                   -0.275016\n",
              "device_os_other_scaled                        2.050031\n",
              "device_os_windows_scaled                     -0.962797\n",
              "device_os_x11_scaled                         -0.097797\n",
              "predicted_class                               0.000000\n",
              "true_class                                    0.000000\n",
              "errors                                        0.000000\n",
              "TP                                            0.000000\n",
              "TN                                            1.000000\n",
              "FN                                            0.000000\n",
              "FP                                            0.000000\n",
              "Name: 3, dtype: float64"
            ],
            "text/html": [
              "<div>\n",
              "<style scoped>\n",
              "    .dataframe tbody tr th:only-of-type {\n",
              "        vertical-align: middle;\n",
              "    }\n",
              "\n",
              "    .dataframe tbody tr th {\n",
              "        vertical-align: top;\n",
              "    }\n",
              "\n",
              "    .dataframe thead th {\n",
              "        text-align: right;\n",
              "    }\n",
              "</style>\n",
              "<table border=\"1\" class=\"dataframe\">\n",
              "  <thead>\n",
              "    <tr style=\"text-align: right;\">\n",
              "      <th></th>\n",
              "      <th>3</th>\n",
              "    </tr>\n",
              "  </thead>\n",
              "  <tbody>\n",
              "    <tr>\n",
              "      <th>income</th>\n",
              "      <td>0.000000</td>\n",
              "    </tr>\n",
              "    <tr>\n",
              "      <th>name_email_similarity</th>\n",
              "      <td>0.000000</td>\n",
              "    </tr>\n",
              "    <tr>\n",
              "      <th>customer_age</th>\n",
              "      <td>40.000000</td>\n",
              "    </tr>\n",
              "    <tr>\n",
              "      <th>zip_count_4w</th>\n",
              "      <td>1091.000000</td>\n",
              "    </tr>\n",
              "    <tr>\n",
              "      <th>date_of_birth_distinct_emails_4w</th>\n",
              "      <td>6.000000</td>\n",
              "    </tr>\n",
              "    <tr>\n",
              "      <th>email_is_free</th>\n",
              "      <td>0.000000</td>\n",
              "    </tr>\n",
              "    <tr>\n",
              "      <th>phone_mobile_valid</th>\n",
              "      <td>1.000000</td>\n",
              "    </tr>\n",
              "    <tr>\n",
              "      <th>has_other_cards</th>\n",
              "      <td>1.000000</td>\n",
              "    </tr>\n",
              "    <tr>\n",
              "      <th>proposed_credit_limit</th>\n",
              "      <td>1000.000000</td>\n",
              "    </tr>\n",
              "    <tr>\n",
              "      <th>foreign_request</th>\n",
              "      <td>0.000000</td>\n",
              "    </tr>\n",
              "    <tr>\n",
              "      <th>session_length_in_minutes</th>\n",
              "      <td>1.000000</td>\n",
              "    </tr>\n",
              "    <tr>\n",
              "      <th>source_INTERNET</th>\n",
              "      <td>1.000000</td>\n",
              "    </tr>\n",
              "    <tr>\n",
              "      <th>source_TELEAPP</th>\n",
              "      <td>0.000000</td>\n",
              "    </tr>\n",
              "    <tr>\n",
              "      <th>device_os_linux</th>\n",
              "      <td>0.000000</td>\n",
              "    </tr>\n",
              "    <tr>\n",
              "      <th>device_os_macintosh</th>\n",
              "      <td>0.000000</td>\n",
              "    </tr>\n",
              "    <tr>\n",
              "      <th>device_os_other</th>\n",
              "      <td>1.000000</td>\n",
              "    </tr>\n",
              "    <tr>\n",
              "      <th>device_os_windows</th>\n",
              "      <td>0.000000</td>\n",
              "    </tr>\n",
              "    <tr>\n",
              "      <th>device_os_x11</th>\n",
              "      <td>0.000000</td>\n",
              "    </tr>\n",
              "    <tr>\n",
              "      <th>income_scaled</th>\n",
              "      <td>0.000000</td>\n",
              "    </tr>\n",
              "    <tr>\n",
              "      <th>name_email_similarity_scaled</th>\n",
              "      <td>0.000000</td>\n",
              "    </tr>\n",
              "    <tr>\n",
              "      <th>customer_age_scaled</th>\n",
              "      <td>-0.481059</td>\n",
              "    </tr>\n",
              "    <tr>\n",
              "      <th>zip_count_4w_scaled</th>\n",
              "      <td>-0.445930</td>\n",
              "    </tr>\n",
              "    <tr>\n",
              "      <th>date_of_birth_distinct_emails_4w_scaled</th>\n",
              "      <td>-0.169735</td>\n",
              "    </tr>\n",
              "    <tr>\n",
              "      <th>email_is_free_scaled</th>\n",
              "      <td>-1.063036</td>\n",
              "    </tr>\n",
              "    <tr>\n",
              "      <th>phone_mobile_valid_scaled</th>\n",
              "      <td>0.516398</td>\n",
              "    </tr>\n",
              "    <tr>\n",
              "      <th>has_other_cards_scaled</th>\n",
              "      <td>2.146632</td>\n",
              "    </tr>\n",
              "    <tr>\n",
              "      <th>proposed_credit_limit_scaled</th>\n",
              "      <td>0.448123</td>\n",
              "    </tr>\n",
              "    <tr>\n",
              "      <th>foreign_request_scaled</th>\n",
              "      <td>-0.229161</td>\n",
              "    </tr>\n",
              "    <tr>\n",
              "      <th>session_length_in_minutes_scaled</th>\n",
              "      <td>-0.690817</td>\n",
              "    </tr>\n",
              "    <tr>\n",
              "      <th>source_INTERNET_scaled</th>\n",
              "      <td>0.058136</td>\n",
              "    </tr>\n",
              "    <tr>\n",
              "      <th>source_TELEAPP_scaled</th>\n",
              "      <td>-0.058136</td>\n",
              "    </tr>\n",
              "    <tr>\n",
              "      <th>device_os_linux_scaled</th>\n",
              "      <td>-0.572650</td>\n",
              "    </tr>\n",
              "    <tr>\n",
              "      <th>device_os_macintosh_scaled</th>\n",
              "      <td>-0.275016</td>\n",
              "    </tr>\n",
              "    <tr>\n",
              "      <th>device_os_other_scaled</th>\n",
              "      <td>2.050031</td>\n",
              "    </tr>\n",
              "    <tr>\n",
              "      <th>device_os_windows_scaled</th>\n",
              "      <td>-0.962797</td>\n",
              "    </tr>\n",
              "    <tr>\n",
              "      <th>device_os_x11_scaled</th>\n",
              "      <td>-0.097797</td>\n",
              "    </tr>\n",
              "    <tr>\n",
              "      <th>predicted_class</th>\n",
              "      <td>0.000000</td>\n",
              "    </tr>\n",
              "    <tr>\n",
              "      <th>true_class</th>\n",
              "      <td>0.000000</td>\n",
              "    </tr>\n",
              "    <tr>\n",
              "      <th>errors</th>\n",
              "      <td>0.000000</td>\n",
              "    </tr>\n",
              "    <tr>\n",
              "      <th>TP</th>\n",
              "      <td>0.000000</td>\n",
              "    </tr>\n",
              "    <tr>\n",
              "      <th>TN</th>\n",
              "      <td>1.000000</td>\n",
              "    </tr>\n",
              "    <tr>\n",
              "      <th>FN</th>\n",
              "      <td>0.000000</td>\n",
              "    </tr>\n",
              "    <tr>\n",
              "      <th>FP</th>\n",
              "      <td>0.000000</td>\n",
              "    </tr>\n",
              "  </tbody>\n",
              "</table>\n",
              "</div><br><label><b>dtype:</b> float64</label>"
            ]
          },
          "metadata": {},
          "execution_count": 132
        }
      ]
    },
    {
      "cell_type": "code",
      "source": [
        "#check if there are any fp/fn at all\n",
        "if (v2_err['FP'] ==1).any():\n",
        "  print(\"there is at least one FP\")\n",
        "else: print(\"there is no FP\")"
      ],
      "metadata": {
        "colab": {
          "base_uri": "https://localhost:8080/"
        },
        "id": "Z_DxSMowgpfb",
        "outputId": "9cf49c55-4cbf-4894-a52e-4d6e85209153"
      },
      "execution_count": 133,
      "outputs": [
        {
          "output_type": "stream",
          "name": "stdout",
          "text": [
            "there is at least one FP\n"
          ]
        }
      ]
    },
    {
      "cell_type": "code",
      "source": [
        "v2_err.iloc[3]"
      ],
      "metadata": {
        "colab": {
          "base_uri": "https://localhost:8080/",
          "height": 1000
        },
        "id": "Hm2rmMQJvZMg",
        "outputId": "ff31ead3-c0db-4de6-9d60-01a102f84fe4"
      },
      "execution_count": 134,
      "outputs": [
        {
          "output_type": "execute_result",
          "data": {
            "text/plain": [
              "income                                        0.000000\n",
              "name_email_similarity                         0.000000\n",
              "customer_age                                 40.000000\n",
              "zip_count_4w                               1091.000000\n",
              "date_of_birth_distinct_emails_4w              6.000000\n",
              "email_is_free                                 0.000000\n",
              "phone_mobile_valid                            1.000000\n",
              "has_other_cards                               1.000000\n",
              "proposed_credit_limit                      1000.000000\n",
              "foreign_request                               0.000000\n",
              "session_length_in_minutes                     1.000000\n",
              "source_INTERNET                               1.000000\n",
              "source_TELEAPP                                0.000000\n",
              "device_os_linux                               0.000000\n",
              "device_os_macintosh                           0.000000\n",
              "device_os_other                               1.000000\n",
              "device_os_windows                             0.000000\n",
              "device_os_x11                                 0.000000\n",
              "income_scaled                                 0.000000\n",
              "name_email_similarity_scaled                  0.000000\n",
              "customer_age_scaled                          -0.481059\n",
              "zip_count_4w_scaled                          -0.445930\n",
              "date_of_birth_distinct_emails_4w_scaled      -0.169735\n",
              "email_is_free_scaled                         -1.063036\n",
              "phone_mobile_valid_scaled                     0.516398\n",
              "has_other_cards_scaled                        2.146632\n",
              "proposed_credit_limit_scaled                  0.448123\n",
              "foreign_request_scaled                       -0.229161\n",
              "session_length_in_minutes_scaled             -0.690817\n",
              "source_INTERNET_scaled                        0.058136\n",
              "source_TELEAPP_scaled                        -0.058136\n",
              "device_os_linux_scaled                       -0.572650\n",
              "device_os_macintosh_scaled                   -0.275016\n",
              "device_os_other_scaled                        2.050031\n",
              "device_os_windows_scaled                     -0.962797\n",
              "device_os_x11_scaled                         -0.097797\n",
              "predicted_class                               0.000000\n",
              "true_class                                    0.000000\n",
              "errors                                        0.000000\n",
              "TP                                            0.000000\n",
              "TN                                            1.000000\n",
              "FN                                            0.000000\n",
              "FP                                            0.000000\n",
              "Name: 3, dtype: float64"
            ],
            "text/html": [
              "<div>\n",
              "<style scoped>\n",
              "    .dataframe tbody tr th:only-of-type {\n",
              "        vertical-align: middle;\n",
              "    }\n",
              "\n",
              "    .dataframe tbody tr th {\n",
              "        vertical-align: top;\n",
              "    }\n",
              "\n",
              "    .dataframe thead th {\n",
              "        text-align: right;\n",
              "    }\n",
              "</style>\n",
              "<table border=\"1\" class=\"dataframe\">\n",
              "  <thead>\n",
              "    <tr style=\"text-align: right;\">\n",
              "      <th></th>\n",
              "      <th>3</th>\n",
              "    </tr>\n",
              "  </thead>\n",
              "  <tbody>\n",
              "    <tr>\n",
              "      <th>income</th>\n",
              "      <td>0.000000</td>\n",
              "    </tr>\n",
              "    <tr>\n",
              "      <th>name_email_similarity</th>\n",
              "      <td>0.000000</td>\n",
              "    </tr>\n",
              "    <tr>\n",
              "      <th>customer_age</th>\n",
              "      <td>40.000000</td>\n",
              "    </tr>\n",
              "    <tr>\n",
              "      <th>zip_count_4w</th>\n",
              "      <td>1091.000000</td>\n",
              "    </tr>\n",
              "    <tr>\n",
              "      <th>date_of_birth_distinct_emails_4w</th>\n",
              "      <td>6.000000</td>\n",
              "    </tr>\n",
              "    <tr>\n",
              "      <th>email_is_free</th>\n",
              "      <td>0.000000</td>\n",
              "    </tr>\n",
              "    <tr>\n",
              "      <th>phone_mobile_valid</th>\n",
              "      <td>1.000000</td>\n",
              "    </tr>\n",
              "    <tr>\n",
              "      <th>has_other_cards</th>\n",
              "      <td>1.000000</td>\n",
              "    </tr>\n",
              "    <tr>\n",
              "      <th>proposed_credit_limit</th>\n",
              "      <td>1000.000000</td>\n",
              "    </tr>\n",
              "    <tr>\n",
              "      <th>foreign_request</th>\n",
              "      <td>0.000000</td>\n",
              "    </tr>\n",
              "    <tr>\n",
              "      <th>session_length_in_minutes</th>\n",
              "      <td>1.000000</td>\n",
              "    </tr>\n",
              "    <tr>\n",
              "      <th>source_INTERNET</th>\n",
              "      <td>1.000000</td>\n",
              "    </tr>\n",
              "    <tr>\n",
              "      <th>source_TELEAPP</th>\n",
              "      <td>0.000000</td>\n",
              "    </tr>\n",
              "    <tr>\n",
              "      <th>device_os_linux</th>\n",
              "      <td>0.000000</td>\n",
              "    </tr>\n",
              "    <tr>\n",
              "      <th>device_os_macintosh</th>\n",
              "      <td>0.000000</td>\n",
              "    </tr>\n",
              "    <tr>\n",
              "      <th>device_os_other</th>\n",
              "      <td>1.000000</td>\n",
              "    </tr>\n",
              "    <tr>\n",
              "      <th>device_os_windows</th>\n",
              "      <td>0.000000</td>\n",
              "    </tr>\n",
              "    <tr>\n",
              "      <th>device_os_x11</th>\n",
              "      <td>0.000000</td>\n",
              "    </tr>\n",
              "    <tr>\n",
              "      <th>income_scaled</th>\n",
              "      <td>0.000000</td>\n",
              "    </tr>\n",
              "    <tr>\n",
              "      <th>name_email_similarity_scaled</th>\n",
              "      <td>0.000000</td>\n",
              "    </tr>\n",
              "    <tr>\n",
              "      <th>customer_age_scaled</th>\n",
              "      <td>-0.481059</td>\n",
              "    </tr>\n",
              "    <tr>\n",
              "      <th>zip_count_4w_scaled</th>\n",
              "      <td>-0.445930</td>\n",
              "    </tr>\n",
              "    <tr>\n",
              "      <th>date_of_birth_distinct_emails_4w_scaled</th>\n",
              "      <td>-0.169735</td>\n",
              "    </tr>\n",
              "    <tr>\n",
              "      <th>email_is_free_scaled</th>\n",
              "      <td>-1.063036</td>\n",
              "    </tr>\n",
              "    <tr>\n",
              "      <th>phone_mobile_valid_scaled</th>\n",
              "      <td>0.516398</td>\n",
              "    </tr>\n",
              "    <tr>\n",
              "      <th>has_other_cards_scaled</th>\n",
              "      <td>2.146632</td>\n",
              "    </tr>\n",
              "    <tr>\n",
              "      <th>proposed_credit_limit_scaled</th>\n",
              "      <td>0.448123</td>\n",
              "    </tr>\n",
              "    <tr>\n",
              "      <th>foreign_request_scaled</th>\n",
              "      <td>-0.229161</td>\n",
              "    </tr>\n",
              "    <tr>\n",
              "      <th>session_length_in_minutes_scaled</th>\n",
              "      <td>-0.690817</td>\n",
              "    </tr>\n",
              "    <tr>\n",
              "      <th>source_INTERNET_scaled</th>\n",
              "      <td>0.058136</td>\n",
              "    </tr>\n",
              "    <tr>\n",
              "      <th>source_TELEAPP_scaled</th>\n",
              "      <td>-0.058136</td>\n",
              "    </tr>\n",
              "    <tr>\n",
              "      <th>device_os_linux_scaled</th>\n",
              "      <td>-0.572650</td>\n",
              "    </tr>\n",
              "    <tr>\n",
              "      <th>device_os_macintosh_scaled</th>\n",
              "      <td>-0.275016</td>\n",
              "    </tr>\n",
              "    <tr>\n",
              "      <th>device_os_other_scaled</th>\n",
              "      <td>2.050031</td>\n",
              "    </tr>\n",
              "    <tr>\n",
              "      <th>device_os_windows_scaled</th>\n",
              "      <td>-0.962797</td>\n",
              "    </tr>\n",
              "    <tr>\n",
              "      <th>device_os_x11_scaled</th>\n",
              "      <td>-0.097797</td>\n",
              "    </tr>\n",
              "    <tr>\n",
              "      <th>predicted_class</th>\n",
              "      <td>0.000000</td>\n",
              "    </tr>\n",
              "    <tr>\n",
              "      <th>true_class</th>\n",
              "      <td>0.000000</td>\n",
              "    </tr>\n",
              "    <tr>\n",
              "      <th>errors</th>\n",
              "      <td>0.000000</td>\n",
              "    </tr>\n",
              "    <tr>\n",
              "      <th>TP</th>\n",
              "      <td>0.000000</td>\n",
              "    </tr>\n",
              "    <tr>\n",
              "      <th>TN</th>\n",
              "      <td>1.000000</td>\n",
              "    </tr>\n",
              "    <tr>\n",
              "      <th>FN</th>\n",
              "      <td>0.000000</td>\n",
              "    </tr>\n",
              "    <tr>\n",
              "      <th>FP</th>\n",
              "      <td>0.000000</td>\n",
              "    </tr>\n",
              "  </tbody>\n",
              "</table>\n",
              "</div><br><label><b>dtype:</b> float64</label>"
            ]
          },
          "metadata": {},
          "execution_count": 134
        }
      ]
    },
    {
      "cell_type": "code",
      "source": [
        "#add scaled errors as well\n",
        "errors_col = ['errors', 'TP', 'TN', 'FN', 'FP', 'predicted_class', 'true_class']\n",
        "df_errors = v2_err[errors_col]\n",
        "df_errors.info()\n",
        "\n",
        "errors_scaled = scaler.fit_transform(df_errors)\n",
        "errors_scaled_df = pd.DataFrame(errors_scaled, columns=[col + '_scaled' for col in df_errors.columns])\n",
        "errors_scaled_df.info()"
      ],
      "metadata": {
        "colab": {
          "base_uri": "https://localhost:8080/"
        },
        "id": "QCVrxTFOyA1a",
        "outputId": "dcfe090e-5759-4927-d380-726cd735ed90"
      },
      "execution_count": 135,
      "outputs": [
        {
          "output_type": "stream",
          "name": "stdout",
          "text": [
            "<class 'pandas.core.frame.DataFrame'>\n",
            "RangeIndex: 11086 entries, 0 to 11085\n",
            "Data columns (total 7 columns):\n",
            " #   Column           Non-Null Count  Dtype  \n",
            "---  ------           --------------  -----  \n",
            " 0   errors           11086 non-null  float64\n",
            " 1   TP               11086 non-null  float64\n",
            " 2   TN               11086 non-null  float64\n",
            " 3   FN               11086 non-null  float64\n",
            " 4   FP               11086 non-null  float64\n",
            " 5   predicted_class  11086 non-null  float64\n",
            " 6   true_class       11086 non-null  float64\n",
            "dtypes: float64(7)\n",
            "memory usage: 606.4 KB\n",
            "<class 'pandas.core.frame.DataFrame'>\n",
            "RangeIndex: 11086 entries, 0 to 11085\n",
            "Data columns (total 7 columns):\n",
            " #   Column                  Non-Null Count  Dtype  \n",
            "---  ------                  --------------  -----  \n",
            " 0   errors_scaled           11086 non-null  float64\n",
            " 1   TP_scaled               11086 non-null  float64\n",
            " 2   TN_scaled               11086 non-null  float64\n",
            " 3   FN_scaled               11086 non-null  float64\n",
            " 4   FP_scaled               11086 non-null  float64\n",
            " 5   predicted_class_scaled  11086 non-null  float64\n",
            " 6   true_class_scaled       11086 non-null  float64\n",
            "dtypes: float64(7)\n",
            "memory usage: 606.4 KB\n"
          ]
        }
      ]
    },
    {
      "cell_type": "code",
      "source": [
        "v2_err_sc = pd.merge(v2_err, errors_scaled_df, left_index=True, right_index=True)\n",
        "v2_err_sc.info()"
      ],
      "metadata": {
        "colab": {
          "base_uri": "https://localhost:8080/"
        },
        "id": "KGFVKyURyh_g",
        "outputId": "5656568a-516b-41ae-d710-0bdaf7297cdf"
      },
      "execution_count": 136,
      "outputs": [
        {
          "output_type": "stream",
          "name": "stdout",
          "text": [
            "<class 'pandas.core.frame.DataFrame'>\n",
            "RangeIndex: 11086 entries, 0 to 11085\n",
            "Data columns (total 50 columns):\n",
            " #   Column                                   Non-Null Count  Dtype  \n",
            "---  ------                                   --------------  -----  \n",
            " 0   income                                   11086 non-null  float64\n",
            " 1   name_email_similarity                    11086 non-null  float64\n",
            " 2   customer_age                             11086 non-null  float64\n",
            " 3   zip_count_4w                             11086 non-null  float64\n",
            " 4   date_of_birth_distinct_emails_4w         11086 non-null  float64\n",
            " 5   email_is_free                            11086 non-null  float64\n",
            " 6   phone_mobile_valid                       11086 non-null  float64\n",
            " 7   has_other_cards                          11086 non-null  float64\n",
            " 8   proposed_credit_limit                    11086 non-null  float64\n",
            " 9   foreign_request                          11086 non-null  float64\n",
            " 10  session_length_in_minutes                11086 non-null  float64\n",
            " 11  source_INTERNET                          11086 non-null  float64\n",
            " 12  source_TELEAPP                           11086 non-null  float64\n",
            " 13  device_os_linux                          11086 non-null  float64\n",
            " 14  device_os_macintosh                      11086 non-null  float64\n",
            " 15  device_os_other                          11086 non-null  float64\n",
            " 16  device_os_windows                        11086 non-null  float64\n",
            " 17  device_os_x11                            11086 non-null  float64\n",
            " 18  income_scaled                            11086 non-null  float64\n",
            " 19  name_email_similarity_scaled             11086 non-null  float64\n",
            " 20  customer_age_scaled                      11086 non-null  float64\n",
            " 21  zip_count_4w_scaled                      11086 non-null  float64\n",
            " 22  date_of_birth_distinct_emails_4w_scaled  11086 non-null  float64\n",
            " 23  email_is_free_scaled                     11086 non-null  float64\n",
            " 24  phone_mobile_valid_scaled                11086 non-null  float64\n",
            " 25  has_other_cards_scaled                   11086 non-null  float64\n",
            " 26  proposed_credit_limit_scaled             11086 non-null  float64\n",
            " 27  foreign_request_scaled                   11086 non-null  float64\n",
            " 28  session_length_in_minutes_scaled         11086 non-null  float64\n",
            " 29  source_INTERNET_scaled                   11086 non-null  float64\n",
            " 30  source_TELEAPP_scaled                    11086 non-null  float64\n",
            " 31  device_os_linux_scaled                   11086 non-null  float64\n",
            " 32  device_os_macintosh_scaled               11086 non-null  float64\n",
            " 33  device_os_other_scaled                   11086 non-null  float64\n",
            " 34  device_os_windows_scaled                 11086 non-null  float64\n",
            " 35  device_os_x11_scaled                     11086 non-null  float64\n",
            " 36  predicted_class                          11086 non-null  float64\n",
            " 37  true_class                               11086 non-null  float64\n",
            " 38  errors                                   11086 non-null  float64\n",
            " 39  TP                                       11086 non-null  float64\n",
            " 40  TN                                       11086 non-null  float64\n",
            " 41  FN                                       11086 non-null  float64\n",
            " 42  FP                                       11086 non-null  float64\n",
            " 43  errors_scaled                            11086 non-null  float64\n",
            " 44  TP_scaled                                11086 non-null  float64\n",
            " 45  TN_scaled                                11086 non-null  float64\n",
            " 46  FN_scaled                                11086 non-null  float64\n",
            " 47  FP_scaled                                11086 non-null  float64\n",
            " 48  predicted_class_scaled                   11086 non-null  float64\n",
            " 49  true_class_scaled                        11086 non-null  float64\n",
            "dtypes: float64(50)\n",
            "memory usage: 4.2 MB\n"
          ]
        }
      ]
    },
    {
      "cell_type": "markdown",
      "source": [
        "# Add SHAP values"
      ],
      "metadata": {
        "id": "dVk5voM9zvyn"
      }
    },
    {
      "cell_type": "code",
      "source": [
        "!pip install shap\n",
        "import shap"
      ],
      "metadata": {
        "colab": {
          "base_uri": "https://localhost:8080/"
        },
        "id": "24IPjUdxz0Qg",
        "outputId": "9966d326-d001-4029-d303-be3080cd2572"
      },
      "execution_count": 138,
      "outputs": [
        {
          "output_type": "stream",
          "name": "stdout",
          "text": [
            "Requirement already satisfied: shap in /usr/local/lib/python3.11/dist-packages (0.46.0)\n",
            "Requirement already satisfied: numpy in /usr/local/lib/python3.11/dist-packages (from shap) (1.26.4)\n",
            "Requirement already satisfied: scipy in /usr/local/lib/python3.11/dist-packages (from shap) (1.13.1)\n",
            "Requirement already satisfied: scikit-learn in /usr/local/lib/python3.11/dist-packages (from shap) (1.6.0)\n",
            "Requirement already satisfied: pandas in /usr/local/lib/python3.11/dist-packages (from shap) (2.2.2)\n",
            "Requirement already satisfied: tqdm>=4.27.0 in /usr/local/lib/python3.11/dist-packages (from shap) (4.67.1)\n",
            "Requirement already satisfied: packaging>20.9 in /usr/local/lib/python3.11/dist-packages (from shap) (24.2)\n",
            "Requirement already satisfied: slicer==0.0.8 in /usr/local/lib/python3.11/dist-packages (from shap) (0.0.8)\n",
            "Requirement already satisfied: numba in /usr/local/lib/python3.11/dist-packages (from shap) (0.60.0)\n",
            "Requirement already satisfied: cloudpickle in /usr/local/lib/python3.11/dist-packages (from shap) (3.1.0)\n",
            "Requirement already satisfied: llvmlite<0.44,>=0.43.0dev0 in /usr/local/lib/python3.11/dist-packages (from numba->shap) (0.43.0)\n",
            "Requirement already satisfied: python-dateutil>=2.8.2 in /usr/local/lib/python3.11/dist-packages (from pandas->shap) (2.8.2)\n",
            "Requirement already satisfied: pytz>=2020.1 in /usr/local/lib/python3.11/dist-packages (from pandas->shap) (2024.2)\n",
            "Requirement already satisfied: tzdata>=2022.7 in /usr/local/lib/python3.11/dist-packages (from pandas->shap) (2024.2)\n",
            "Requirement already satisfied: joblib>=1.2.0 in /usr/local/lib/python3.11/dist-packages (from scikit-learn->shap) (1.4.2)\n",
            "Requirement already satisfied: threadpoolctl>=3.1.0 in /usr/local/lib/python3.11/dist-packages (from scikit-learn->shap) (3.5.0)\n",
            "Requirement already satisfied: six>=1.5 in /usr/local/lib/python3.11/dist-packages (from python-dateutil>=2.8.2->pandas->shap) (1.17.0)\n"
          ]
        }
      ]
    },
    {
      "cell_type": "markdown",
      "source": [
        "3486 entries, 20 columns in X_scaled_test_df"
      ],
      "metadata": {
        "id": "rcOYzATK0lxM"
      }
    },
    {
      "cell_type": "code",
      "source": [
        "tree_explainer = shap.TreeExplainer(model)\n",
        "shap_values = tree_explainer.shap_values(X_test, check_additivity=False)"
      ],
      "metadata": {
        "id": "fSsGg5mTz_1u"
      },
      "execution_count": 139,
      "outputs": []
    },
    {
      "cell_type": "code",
      "source": [
        "shap_values_class1 = shap_values[:, :, 1] #all samples, all features, class = 1\n",
        "shap_values_class0 = shap_values[:, :, 0]"
      ],
      "metadata": {
        "id": "DlGSNHjY0Va9"
      },
      "execution_count": 140,
      "outputs": []
    },
    {
      "cell_type": "code",
      "source": [
        "df_shap_values = pd.DataFrame(shap_values_class1, columns=[f'Shap_{col}' for col in X_test.columns])\n",
        "df_shap_values.info()\n",
        "df_shap_values.iloc[3]"
      ],
      "metadata": {
        "id": "MfOd0c3V1MHj",
        "colab": {
          "base_uri": "https://localhost:8080/",
          "height": 1000
        },
        "outputId": "a2d73a84-12f2-4eb3-b6c4-bc2d06e51779"
      },
      "execution_count": 141,
      "outputs": [
        {
          "output_type": "stream",
          "name": "stdout",
          "text": [
            "<class 'pandas.core.frame.DataFrame'>\n",
            "RangeIndex: 11086 entries, 0 to 11085\n",
            "Data columns (total 18 columns):\n",
            " #   Column                                 Non-Null Count  Dtype  \n",
            "---  ------                                 --------------  -----  \n",
            " 0   Shap_income                            11086 non-null  float64\n",
            " 1   Shap_name_email_similarity             11086 non-null  float64\n",
            " 2   Shap_customer_age                      11086 non-null  float64\n",
            " 3   Shap_zip_count_4w                      11086 non-null  float64\n",
            " 4   Shap_date_of_birth_distinct_emails_4w  11086 non-null  float64\n",
            " 5   Shap_email_is_free                     11086 non-null  float64\n",
            " 6   Shap_phone_mobile_valid                11086 non-null  float64\n",
            " 7   Shap_has_other_cards                   11086 non-null  float64\n",
            " 8   Shap_proposed_credit_limit             11086 non-null  float64\n",
            " 9   Shap_foreign_request                   11086 non-null  float64\n",
            " 10  Shap_session_length_in_minutes         11086 non-null  float64\n",
            " 11  Shap_source_INTERNET                   11086 non-null  float64\n",
            " 12  Shap_source_TELEAPP                    11086 non-null  float64\n",
            " 13  Shap_device_os_linux                   11086 non-null  float64\n",
            " 14  Shap_device_os_macintosh               11086 non-null  float64\n",
            " 15  Shap_device_os_other                   11086 non-null  float64\n",
            " 16  Shap_device_os_windows                 11086 non-null  float64\n",
            " 17  Shap_device_os_x11                     11086 non-null  float64\n",
            "dtypes: float64(18)\n",
            "memory usage: 1.5 MB\n"
          ]
        },
        {
          "output_type": "execute_result",
          "data": {
            "text/plain": [
              "Shap_income                              0.000000\n",
              "Shap_name_email_similarity               0.000000\n",
              "Shap_customer_age                        0.045369\n",
              "Shap_zip_count_4w                       -0.001322\n",
              "Shap_date_of_birth_distinct_emails_4w    0.003194\n",
              "Shap_email_is_free                       0.000916\n",
              "Shap_phone_mobile_valid                 -0.004798\n",
              "Shap_has_other_cards                    -0.091952\n",
              "Shap_proposed_credit_limit               0.080766\n",
              "Shap_foreign_request                    -0.000918\n",
              "Shap_session_length_in_minutes           0.007141\n",
              "Shap_source_INTERNET                     0.000014\n",
              "Shap_source_TELEAPP                      0.000000\n",
              "Shap_device_os_linux                     0.006759\n",
              "Shap_device_os_macintosh                -0.002905\n",
              "Shap_device_os_other                    -0.064169\n",
              "Shap_device_os_windows                  -0.089380\n",
              "Shap_device_os_x11                       0.000008\n",
              "Name: 3, dtype: float64"
            ],
            "text/html": [
              "<div>\n",
              "<style scoped>\n",
              "    .dataframe tbody tr th:only-of-type {\n",
              "        vertical-align: middle;\n",
              "    }\n",
              "\n",
              "    .dataframe tbody tr th {\n",
              "        vertical-align: top;\n",
              "    }\n",
              "\n",
              "    .dataframe thead th {\n",
              "        text-align: right;\n",
              "    }\n",
              "</style>\n",
              "<table border=\"1\" class=\"dataframe\">\n",
              "  <thead>\n",
              "    <tr style=\"text-align: right;\">\n",
              "      <th></th>\n",
              "      <th>3</th>\n",
              "    </tr>\n",
              "  </thead>\n",
              "  <tbody>\n",
              "    <tr>\n",
              "      <th>Shap_income</th>\n",
              "      <td>0.000000</td>\n",
              "    </tr>\n",
              "    <tr>\n",
              "      <th>Shap_name_email_similarity</th>\n",
              "      <td>0.000000</td>\n",
              "    </tr>\n",
              "    <tr>\n",
              "      <th>Shap_customer_age</th>\n",
              "      <td>0.045369</td>\n",
              "    </tr>\n",
              "    <tr>\n",
              "      <th>Shap_zip_count_4w</th>\n",
              "      <td>-0.001322</td>\n",
              "    </tr>\n",
              "    <tr>\n",
              "      <th>Shap_date_of_birth_distinct_emails_4w</th>\n",
              "      <td>0.003194</td>\n",
              "    </tr>\n",
              "    <tr>\n",
              "      <th>Shap_email_is_free</th>\n",
              "      <td>0.000916</td>\n",
              "    </tr>\n",
              "    <tr>\n",
              "      <th>Shap_phone_mobile_valid</th>\n",
              "      <td>-0.004798</td>\n",
              "    </tr>\n",
              "    <tr>\n",
              "      <th>Shap_has_other_cards</th>\n",
              "      <td>-0.091952</td>\n",
              "    </tr>\n",
              "    <tr>\n",
              "      <th>Shap_proposed_credit_limit</th>\n",
              "      <td>0.080766</td>\n",
              "    </tr>\n",
              "    <tr>\n",
              "      <th>Shap_foreign_request</th>\n",
              "      <td>-0.000918</td>\n",
              "    </tr>\n",
              "    <tr>\n",
              "      <th>Shap_session_length_in_minutes</th>\n",
              "      <td>0.007141</td>\n",
              "    </tr>\n",
              "    <tr>\n",
              "      <th>Shap_source_INTERNET</th>\n",
              "      <td>0.000014</td>\n",
              "    </tr>\n",
              "    <tr>\n",
              "      <th>Shap_source_TELEAPP</th>\n",
              "      <td>0.000000</td>\n",
              "    </tr>\n",
              "    <tr>\n",
              "      <th>Shap_device_os_linux</th>\n",
              "      <td>0.006759</td>\n",
              "    </tr>\n",
              "    <tr>\n",
              "      <th>Shap_device_os_macintosh</th>\n",
              "      <td>-0.002905</td>\n",
              "    </tr>\n",
              "    <tr>\n",
              "      <th>Shap_device_os_other</th>\n",
              "      <td>-0.064169</td>\n",
              "    </tr>\n",
              "    <tr>\n",
              "      <th>Shap_device_os_windows</th>\n",
              "      <td>-0.089380</td>\n",
              "    </tr>\n",
              "    <tr>\n",
              "      <th>Shap_device_os_x11</th>\n",
              "      <td>0.000008</td>\n",
              "    </tr>\n",
              "  </tbody>\n",
              "</table>\n",
              "</div><br><label><b>dtype:</b> float64</label>"
            ]
          },
          "metadata": {},
          "execution_count": 141
        }
      ]
    },
    {
      "cell_type": "code",
      "source": [
        "df_shap_scaled = scaler.fit_transform(df_shap_values)\n",
        "df_all_shap = pd.merge(df_shap_values, pd.DataFrame(df_shap_scaled, columns=[col + '_scaled' for col in df_shap_values.columns]), left_index=True, right_index=True)\n",
        "df_all_shap.info()"
      ],
      "metadata": {
        "colab": {
          "base_uri": "https://localhost:8080/"
        },
        "id": "_Gqdi22C2jj1",
        "outputId": "a31b0381-ca1f-4aa9-f0fc-ffd27ad8a151"
      },
      "execution_count": 142,
      "outputs": [
        {
          "output_type": "stream",
          "name": "stdout",
          "text": [
            "<class 'pandas.core.frame.DataFrame'>\n",
            "RangeIndex: 11086 entries, 0 to 11085\n",
            "Data columns (total 36 columns):\n",
            " #   Column                                        Non-Null Count  Dtype  \n",
            "---  ------                                        --------------  -----  \n",
            " 0   Shap_income                                   11086 non-null  float64\n",
            " 1   Shap_name_email_similarity                    11086 non-null  float64\n",
            " 2   Shap_customer_age                             11086 non-null  float64\n",
            " 3   Shap_zip_count_4w                             11086 non-null  float64\n",
            " 4   Shap_date_of_birth_distinct_emails_4w         11086 non-null  float64\n",
            " 5   Shap_email_is_free                            11086 non-null  float64\n",
            " 6   Shap_phone_mobile_valid                       11086 non-null  float64\n",
            " 7   Shap_has_other_cards                          11086 non-null  float64\n",
            " 8   Shap_proposed_credit_limit                    11086 non-null  float64\n",
            " 9   Shap_foreign_request                          11086 non-null  float64\n",
            " 10  Shap_session_length_in_minutes                11086 non-null  float64\n",
            " 11  Shap_source_INTERNET                          11086 non-null  float64\n",
            " 12  Shap_source_TELEAPP                           11086 non-null  float64\n",
            " 13  Shap_device_os_linux                          11086 non-null  float64\n",
            " 14  Shap_device_os_macintosh                      11086 non-null  float64\n",
            " 15  Shap_device_os_other                          11086 non-null  float64\n",
            " 16  Shap_device_os_windows                        11086 non-null  float64\n",
            " 17  Shap_device_os_x11                            11086 non-null  float64\n",
            " 18  Shap_income_scaled                            11086 non-null  float64\n",
            " 19  Shap_name_email_similarity_scaled             11086 non-null  float64\n",
            " 20  Shap_customer_age_scaled                      11086 non-null  float64\n",
            " 21  Shap_zip_count_4w_scaled                      11086 non-null  float64\n",
            " 22  Shap_date_of_birth_distinct_emails_4w_scaled  11086 non-null  float64\n",
            " 23  Shap_email_is_free_scaled                     11086 non-null  float64\n",
            " 24  Shap_phone_mobile_valid_scaled                11086 non-null  float64\n",
            " 25  Shap_has_other_cards_scaled                   11086 non-null  float64\n",
            " 26  Shap_proposed_credit_limit_scaled             11086 non-null  float64\n",
            " 27  Shap_foreign_request_scaled                   11086 non-null  float64\n",
            " 28  Shap_session_length_in_minutes_scaled         11086 non-null  float64\n",
            " 29  Shap_source_INTERNET_scaled                   11086 non-null  float64\n",
            " 30  Shap_source_TELEAPP_scaled                    11086 non-null  float64\n",
            " 31  Shap_device_os_linux_scaled                   11086 non-null  float64\n",
            " 32  Shap_device_os_macintosh_scaled               11086 non-null  float64\n",
            " 33  Shap_device_os_other_scaled                   11086 non-null  float64\n",
            " 34  Shap_device_os_windows_scaled                 11086 non-null  float64\n",
            " 35  Shap_device_os_x11_scaled                     11086 non-null  float64\n",
            "dtypes: float64(36)\n",
            "memory usage: 3.0 MB\n"
          ]
        }
      ]
    },
    {
      "cell_type": "markdown",
      "source": [
        "# Make Master dataset"
      ],
      "metadata": {
        "id": "7a6LDIY73JEb"
      }
    },
    {
      "cell_type": "code",
      "source": [
        "v2_all = pd.merge(v2_err_sc, df_all_shap, left_index=True, right_index=True)\n",
        "v2_all.iloc[3]\n",
        "v2_all.info()"
      ],
      "metadata": {
        "colab": {
          "base_uri": "https://localhost:8080/"
        },
        "id": "ApKU35sy3MGE",
        "outputId": "22f40d6f-aa76-4e93-fa58-43080e47830f"
      },
      "execution_count": 144,
      "outputs": [
        {
          "output_type": "stream",
          "name": "stdout",
          "text": [
            "<class 'pandas.core.frame.DataFrame'>\n",
            "RangeIndex: 11086 entries, 0 to 11085\n",
            "Data columns (total 86 columns):\n",
            " #   Column                                        Non-Null Count  Dtype  \n",
            "---  ------                                        --------------  -----  \n",
            " 0   income                                        11086 non-null  float64\n",
            " 1   name_email_similarity                         11086 non-null  float64\n",
            " 2   customer_age                                  11086 non-null  float64\n",
            " 3   zip_count_4w                                  11086 non-null  float64\n",
            " 4   date_of_birth_distinct_emails_4w              11086 non-null  float64\n",
            " 5   email_is_free                                 11086 non-null  float64\n",
            " 6   phone_mobile_valid                            11086 non-null  float64\n",
            " 7   has_other_cards                               11086 non-null  float64\n",
            " 8   proposed_credit_limit                         11086 non-null  float64\n",
            " 9   foreign_request                               11086 non-null  float64\n",
            " 10  session_length_in_minutes                     11086 non-null  float64\n",
            " 11  source_INTERNET                               11086 non-null  float64\n",
            " 12  source_TELEAPP                                11086 non-null  float64\n",
            " 13  device_os_linux                               11086 non-null  float64\n",
            " 14  device_os_macintosh                           11086 non-null  float64\n",
            " 15  device_os_other                               11086 non-null  float64\n",
            " 16  device_os_windows                             11086 non-null  float64\n",
            " 17  device_os_x11                                 11086 non-null  float64\n",
            " 18  income_scaled                                 11086 non-null  float64\n",
            " 19  name_email_similarity_scaled                  11086 non-null  float64\n",
            " 20  customer_age_scaled                           11086 non-null  float64\n",
            " 21  zip_count_4w_scaled                           11086 non-null  float64\n",
            " 22  date_of_birth_distinct_emails_4w_scaled       11086 non-null  float64\n",
            " 23  email_is_free_scaled                          11086 non-null  float64\n",
            " 24  phone_mobile_valid_scaled                     11086 non-null  float64\n",
            " 25  has_other_cards_scaled                        11086 non-null  float64\n",
            " 26  proposed_credit_limit_scaled                  11086 non-null  float64\n",
            " 27  foreign_request_scaled                        11086 non-null  float64\n",
            " 28  session_length_in_minutes_scaled              11086 non-null  float64\n",
            " 29  source_INTERNET_scaled                        11086 non-null  float64\n",
            " 30  source_TELEAPP_scaled                         11086 non-null  float64\n",
            " 31  device_os_linux_scaled                        11086 non-null  float64\n",
            " 32  device_os_macintosh_scaled                    11086 non-null  float64\n",
            " 33  device_os_other_scaled                        11086 non-null  float64\n",
            " 34  device_os_windows_scaled                      11086 non-null  float64\n",
            " 35  device_os_x11_scaled                          11086 non-null  float64\n",
            " 36  predicted_class                               11086 non-null  float64\n",
            " 37  true_class                                    11086 non-null  float64\n",
            " 38  errors                                        11086 non-null  float64\n",
            " 39  TP                                            11086 non-null  float64\n",
            " 40  TN                                            11086 non-null  float64\n",
            " 41  FN                                            11086 non-null  float64\n",
            " 42  FP                                            11086 non-null  float64\n",
            " 43  errors_scaled                                 11086 non-null  float64\n",
            " 44  TP_scaled                                     11086 non-null  float64\n",
            " 45  TN_scaled                                     11086 non-null  float64\n",
            " 46  FN_scaled                                     11086 non-null  float64\n",
            " 47  FP_scaled                                     11086 non-null  float64\n",
            " 48  predicted_class_scaled                        11086 non-null  float64\n",
            " 49  true_class_scaled                             11086 non-null  float64\n",
            " 50  Shap_income                                   11086 non-null  float64\n",
            " 51  Shap_name_email_similarity                    11086 non-null  float64\n",
            " 52  Shap_customer_age                             11086 non-null  float64\n",
            " 53  Shap_zip_count_4w                             11086 non-null  float64\n",
            " 54  Shap_date_of_birth_distinct_emails_4w         11086 non-null  float64\n",
            " 55  Shap_email_is_free                            11086 non-null  float64\n",
            " 56  Shap_phone_mobile_valid                       11086 non-null  float64\n",
            " 57  Shap_has_other_cards                          11086 non-null  float64\n",
            " 58  Shap_proposed_credit_limit                    11086 non-null  float64\n",
            " 59  Shap_foreign_request                          11086 non-null  float64\n",
            " 60  Shap_session_length_in_minutes                11086 non-null  float64\n",
            " 61  Shap_source_INTERNET                          11086 non-null  float64\n",
            " 62  Shap_source_TELEAPP                           11086 non-null  float64\n",
            " 63  Shap_device_os_linux                          11086 non-null  float64\n",
            " 64  Shap_device_os_macintosh                      11086 non-null  float64\n",
            " 65  Shap_device_os_other                          11086 non-null  float64\n",
            " 66  Shap_device_os_windows                        11086 non-null  float64\n",
            " 67  Shap_device_os_x11                            11086 non-null  float64\n",
            " 68  Shap_income_scaled                            11086 non-null  float64\n",
            " 69  Shap_name_email_similarity_scaled             11086 non-null  float64\n",
            " 70  Shap_customer_age_scaled                      11086 non-null  float64\n",
            " 71  Shap_zip_count_4w_scaled                      11086 non-null  float64\n",
            " 72  Shap_date_of_birth_distinct_emails_4w_scaled  11086 non-null  float64\n",
            " 73  Shap_email_is_free_scaled                     11086 non-null  float64\n",
            " 74  Shap_phone_mobile_valid_scaled                11086 non-null  float64\n",
            " 75  Shap_has_other_cards_scaled                   11086 non-null  float64\n",
            " 76  Shap_proposed_credit_limit_scaled             11086 non-null  float64\n",
            " 77  Shap_foreign_request_scaled                   11086 non-null  float64\n",
            " 78  Shap_session_length_in_minutes_scaled         11086 non-null  float64\n",
            " 79  Shap_source_INTERNET_scaled                   11086 non-null  float64\n",
            " 80  Shap_source_TELEAPP_scaled                    11086 non-null  float64\n",
            " 81  Shap_device_os_linux_scaled                   11086 non-null  float64\n",
            " 82  Shap_device_os_macintosh_scaled               11086 non-null  float64\n",
            " 83  Shap_device_os_other_scaled                   11086 non-null  float64\n",
            " 84  Shap_device_os_windows_scaled                 11086 non-null  float64\n",
            " 85  Shap_device_os_x11_scaled                     11086 non-null  float64\n",
            "dtypes: float64(86)\n",
            "memory usage: 7.3 MB\n"
          ]
        }
      ]
    },
    {
      "cell_type": "code",
      "source": [
        "v2_all = v2_all.drop(['predicted_class', 'true_class', 'predicted_class_scaled', 'true_class_scaled'], axis=1)\n",
        "v2_all.info()"
      ],
      "metadata": {
        "colab": {
          "base_uri": "https://localhost:8080/"
        },
        "id": "vrlQT9Jk3g68",
        "outputId": "d81f426a-bf76-4683-b096-66b2a65fd145"
      },
      "execution_count": 145,
      "outputs": [
        {
          "output_type": "stream",
          "name": "stdout",
          "text": [
            "<class 'pandas.core.frame.DataFrame'>\n",
            "RangeIndex: 11086 entries, 0 to 11085\n",
            "Data columns (total 82 columns):\n",
            " #   Column                                        Non-Null Count  Dtype  \n",
            "---  ------                                        --------------  -----  \n",
            " 0   income                                        11086 non-null  float64\n",
            " 1   name_email_similarity                         11086 non-null  float64\n",
            " 2   customer_age                                  11086 non-null  float64\n",
            " 3   zip_count_4w                                  11086 non-null  float64\n",
            " 4   date_of_birth_distinct_emails_4w              11086 non-null  float64\n",
            " 5   email_is_free                                 11086 non-null  float64\n",
            " 6   phone_mobile_valid                            11086 non-null  float64\n",
            " 7   has_other_cards                               11086 non-null  float64\n",
            " 8   proposed_credit_limit                         11086 non-null  float64\n",
            " 9   foreign_request                               11086 non-null  float64\n",
            " 10  session_length_in_minutes                     11086 non-null  float64\n",
            " 11  source_INTERNET                               11086 non-null  float64\n",
            " 12  source_TELEAPP                                11086 non-null  float64\n",
            " 13  device_os_linux                               11086 non-null  float64\n",
            " 14  device_os_macintosh                           11086 non-null  float64\n",
            " 15  device_os_other                               11086 non-null  float64\n",
            " 16  device_os_windows                             11086 non-null  float64\n",
            " 17  device_os_x11                                 11086 non-null  float64\n",
            " 18  income_scaled                                 11086 non-null  float64\n",
            " 19  name_email_similarity_scaled                  11086 non-null  float64\n",
            " 20  customer_age_scaled                           11086 non-null  float64\n",
            " 21  zip_count_4w_scaled                           11086 non-null  float64\n",
            " 22  date_of_birth_distinct_emails_4w_scaled       11086 non-null  float64\n",
            " 23  email_is_free_scaled                          11086 non-null  float64\n",
            " 24  phone_mobile_valid_scaled                     11086 non-null  float64\n",
            " 25  has_other_cards_scaled                        11086 non-null  float64\n",
            " 26  proposed_credit_limit_scaled                  11086 non-null  float64\n",
            " 27  foreign_request_scaled                        11086 non-null  float64\n",
            " 28  session_length_in_minutes_scaled              11086 non-null  float64\n",
            " 29  source_INTERNET_scaled                        11086 non-null  float64\n",
            " 30  source_TELEAPP_scaled                         11086 non-null  float64\n",
            " 31  device_os_linux_scaled                        11086 non-null  float64\n",
            " 32  device_os_macintosh_scaled                    11086 non-null  float64\n",
            " 33  device_os_other_scaled                        11086 non-null  float64\n",
            " 34  device_os_windows_scaled                      11086 non-null  float64\n",
            " 35  device_os_x11_scaled                          11086 non-null  float64\n",
            " 36  errors                                        11086 non-null  float64\n",
            " 37  TP                                            11086 non-null  float64\n",
            " 38  TN                                            11086 non-null  float64\n",
            " 39  FN                                            11086 non-null  float64\n",
            " 40  FP                                            11086 non-null  float64\n",
            " 41  errors_scaled                                 11086 non-null  float64\n",
            " 42  TP_scaled                                     11086 non-null  float64\n",
            " 43  TN_scaled                                     11086 non-null  float64\n",
            " 44  FN_scaled                                     11086 non-null  float64\n",
            " 45  FP_scaled                                     11086 non-null  float64\n",
            " 46  Shap_income                                   11086 non-null  float64\n",
            " 47  Shap_name_email_similarity                    11086 non-null  float64\n",
            " 48  Shap_customer_age                             11086 non-null  float64\n",
            " 49  Shap_zip_count_4w                             11086 non-null  float64\n",
            " 50  Shap_date_of_birth_distinct_emails_4w         11086 non-null  float64\n",
            " 51  Shap_email_is_free                            11086 non-null  float64\n",
            " 52  Shap_phone_mobile_valid                       11086 non-null  float64\n",
            " 53  Shap_has_other_cards                          11086 non-null  float64\n",
            " 54  Shap_proposed_credit_limit                    11086 non-null  float64\n",
            " 55  Shap_foreign_request                          11086 non-null  float64\n",
            " 56  Shap_session_length_in_minutes                11086 non-null  float64\n",
            " 57  Shap_source_INTERNET                          11086 non-null  float64\n",
            " 58  Shap_source_TELEAPP                           11086 non-null  float64\n",
            " 59  Shap_device_os_linux                          11086 non-null  float64\n",
            " 60  Shap_device_os_macintosh                      11086 non-null  float64\n",
            " 61  Shap_device_os_other                          11086 non-null  float64\n",
            " 62  Shap_device_os_windows                        11086 non-null  float64\n",
            " 63  Shap_device_os_x11                            11086 non-null  float64\n",
            " 64  Shap_income_scaled                            11086 non-null  float64\n",
            " 65  Shap_name_email_similarity_scaled             11086 non-null  float64\n",
            " 66  Shap_customer_age_scaled                      11086 non-null  float64\n",
            " 67  Shap_zip_count_4w_scaled                      11086 non-null  float64\n",
            " 68  Shap_date_of_birth_distinct_emails_4w_scaled  11086 non-null  float64\n",
            " 69  Shap_email_is_free_scaled                     11086 non-null  float64\n",
            " 70  Shap_phone_mobile_valid_scaled                11086 non-null  float64\n",
            " 71  Shap_has_other_cards_scaled                   11086 non-null  float64\n",
            " 72  Shap_proposed_credit_limit_scaled             11086 non-null  float64\n",
            " 73  Shap_foreign_request_scaled                   11086 non-null  float64\n",
            " 74  Shap_session_length_in_minutes_scaled         11086 non-null  float64\n",
            " 75  Shap_source_INTERNET_scaled                   11086 non-null  float64\n",
            " 76  Shap_source_TELEAPP_scaled                    11086 non-null  float64\n",
            " 77  Shap_device_os_linux_scaled                   11086 non-null  float64\n",
            " 78  Shap_device_os_macintosh_scaled               11086 non-null  float64\n",
            " 79  Shap_device_os_other_scaled                   11086 non-null  float64\n",
            " 80  Shap_device_os_windows_scaled                 11086 non-null  float64\n",
            " 81  Shap_device_os_x11_scaled                     11086 non-null  float64\n",
            "dtypes: float64(82)\n",
            "memory usage: 6.9 MB\n"
          ]
        }
      ]
    },
    {
      "cell_type": "code",
      "source": [
        "#save final dataset\n",
        "v2_all.to_csv('/content/drive/MyDrive/Mirthe_Supervision /Paper#3/BAF/v2_all.csv', index=False)"
      ],
      "metadata": {
        "id": "-RKE4LBW4BE3"
      },
      "execution_count": 146,
      "outputs": []
    },
    {
      "cell_type": "code",
      "source": [
        "v2_all.iloc[3]"
      ],
      "metadata": {
        "colab": {
          "base_uri": "https://localhost:8080/",
          "height": 459
        },
        "id": "jjAeh-8NIm_n",
        "outputId": "2a50f373-05f1-4821-cc62-1e41ce3df496"
      },
      "execution_count": 147,
      "outputs": [
        {
          "output_type": "execute_result",
          "data": {
            "text/plain": [
              "income                                 0.000000\n",
              "name_email_similarity                  0.000000\n",
              "customer_age                          40.000000\n",
              "zip_count_4w                        1091.000000\n",
              "date_of_birth_distinct_emails_4w       6.000000\n",
              "                                       ...     \n",
              "Shap_device_os_linux_scaled            0.306960\n",
              "Shap_device_os_macintosh_scaled       -1.307383\n",
              "Shap_device_os_other_scaled           -2.205174\n",
              "Shap_device_os_windows_scaled         -1.184308\n",
              "Shap_device_os_x11_scaled             -0.954489\n",
              "Name: 3, Length: 82, dtype: float64"
            ],
            "text/html": [
              "<div>\n",
              "<style scoped>\n",
              "    .dataframe tbody tr th:only-of-type {\n",
              "        vertical-align: middle;\n",
              "    }\n",
              "\n",
              "    .dataframe tbody tr th {\n",
              "        vertical-align: top;\n",
              "    }\n",
              "\n",
              "    .dataframe thead th {\n",
              "        text-align: right;\n",
              "    }\n",
              "</style>\n",
              "<table border=\"1\" class=\"dataframe\">\n",
              "  <thead>\n",
              "    <tr style=\"text-align: right;\">\n",
              "      <th></th>\n",
              "      <th>3</th>\n",
              "    </tr>\n",
              "  </thead>\n",
              "  <tbody>\n",
              "    <tr>\n",
              "      <th>income</th>\n",
              "      <td>0.000000</td>\n",
              "    </tr>\n",
              "    <tr>\n",
              "      <th>name_email_similarity</th>\n",
              "      <td>0.000000</td>\n",
              "    </tr>\n",
              "    <tr>\n",
              "      <th>customer_age</th>\n",
              "      <td>40.000000</td>\n",
              "    </tr>\n",
              "    <tr>\n",
              "      <th>zip_count_4w</th>\n",
              "      <td>1091.000000</td>\n",
              "    </tr>\n",
              "    <tr>\n",
              "      <th>date_of_birth_distinct_emails_4w</th>\n",
              "      <td>6.000000</td>\n",
              "    </tr>\n",
              "    <tr>\n",
              "      <th>...</th>\n",
              "      <td>...</td>\n",
              "    </tr>\n",
              "    <tr>\n",
              "      <th>Shap_device_os_linux_scaled</th>\n",
              "      <td>0.306960</td>\n",
              "    </tr>\n",
              "    <tr>\n",
              "      <th>Shap_device_os_macintosh_scaled</th>\n",
              "      <td>-1.307383</td>\n",
              "    </tr>\n",
              "    <tr>\n",
              "      <th>Shap_device_os_other_scaled</th>\n",
              "      <td>-2.205174</td>\n",
              "    </tr>\n",
              "    <tr>\n",
              "      <th>Shap_device_os_windows_scaled</th>\n",
              "      <td>-1.184308</td>\n",
              "    </tr>\n",
              "    <tr>\n",
              "      <th>Shap_device_os_x11_scaled</th>\n",
              "      <td>-0.954489</td>\n",
              "    </tr>\n",
              "  </tbody>\n",
              "</table>\n",
              "<p>82 rows × 1 columns</p>\n",
              "</div><br><label><b>dtype:</b> float64</label>"
            ]
          },
          "metadata": {},
          "execution_count": 147
        }
      ]
    }
  ]
}