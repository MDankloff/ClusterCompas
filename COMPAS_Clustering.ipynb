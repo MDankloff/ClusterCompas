{
  "nbformat": 4,
  "nbformat_minor": 0,
  "metadata": {
    "colab": {
      "provenance": [],
      "collapsed_sections": [
        "95UadjU1VNpn",
        "idrXNeKQDvkY",
        "1_3QOzE2Cgw3",
        "KWNoIYnwRkW_"
      ],
      "include_colab_link": true
    },
    "kernelspec": {
      "name": "python3",
      "display_name": "Python 3"
    },
    "language_info": {
      "name": "python"
    }
  },
  "cells": [
    {
      "cell_type": "markdown",
      "metadata": {
        "id": "view-in-github",
        "colab_type": "text"
      },
      "source": [
        "<a href=\"https://colab.research.google.com/github/MDankloff/ClusterCompas/blob/main/COMPAS_Clustering.ipynb\" target=\"_parent\"><img src=\"https://colab.research.google.com/assets/colab-badge.svg\" alt=\"Open In Colab\"/></a>"
      ]
    },
    {
      "cell_type": "code",
      "execution_count": 15,
      "metadata": {
        "id": "rCLy0OtAU6-U"
      },
      "outputs": [],
      "source": [
        "import numpy as np\n",
        "import pandas as pd\n",
        "import matplotlib.pyplot as plt\n",
        "import seaborn as sns\n",
        "from sklearn.metrics import accuracy_score, confusion_matrix, roc_auc_score, roc_curve\n",
        "from sklearn.decomposition import PCA\n",
        "from sklearn.preprocessing import StandardScaler\n",
        "from sklearn.model_selection import train_test_split\n",
        "from sklearn.ensemble import RandomForestClassifier\n",
        "from sklearn import preprocessing\n",
        "#from sklearn import DBSCAN\n",
        "import warnings\n",
        "warnings.filterwarnings(\"ignore\")\n",
        "import os\n",
        "import random\n",
        "from sklearn.cluster import DBSCAN\n",
        "from sklearn.neighbors import NearestNeighbors\n",
        "from sklearn.cluster import KMeans\n",
        "from sklearn.metrics import silhouette_samples"
      ]
    },
    {
      "cell_type": "markdown",
      "source": [
        "# Load SHAP_ERROR_DATA"
      ],
      "metadata": {
        "id": "95UadjU1VNpn"
      }
    },
    {
      "cell_type": "code",
      "source": [
        "Shap_error_data = pd.read_csv('/content/Shap_error_data.csv')\n",
        "#Shap_error_data.info()\n",
        "features = Shap_error_data.drop(['predicted_class', 'true_class', 'errors', 'TP', 'TN', 'FN', 'FP'], axis=1)"
      ],
      "metadata": {
        "id": "pIwbBWIeVLEM"
      },
      "execution_count": 2,
      "outputs": []
    },
    {
      "cell_type": "markdown",
      "source": [],
      "metadata": {
        "id": "quwF7aK4n74L"
      }
    },
    {
      "cell_type": "code",
      "source": [
        "#print(Shap_error_data.loc[3])"
      ],
      "metadata": {
        "id": "qgwWGJUvOs8O"
      },
      "execution_count": 3,
      "outputs": []
    },
    {
      "cell_type": "code",
      "source": [
        "#print(Shap_error_data.isna().sum())\n",
        "len(Shap_error_data.index)"
      ],
      "metadata": {
        "id": "4kLbqu6yYSYW",
        "outputId": "09820d51-7ac6-4812-be8d-df1589f05383",
        "colab": {
          "base_uri": "https://localhost:8080/"
        }
      },
      "execution_count": 4,
      "outputs": [
        {
          "output_type": "execute_result",
          "data": {
            "text/plain": [
              "5050"
            ]
          },
          "metadata": {},
          "execution_count": 4
        }
      ]
    },
    {
      "cell_type": "markdown",
      "source": [
        "# Preprocessing: Initialize / scaling dataset"
      ],
      "metadata": {
        "id": "idrXNeKQDvkY"
      }
    },
    {
      "cell_type": "code",
      "source": [
        "def initialize_dataset (raw_data, with_errors = True, just_features = True, scale_features = True, with_classes = True):\n",
        "  #input is the original dataset, whether errors are included, only features should be used, to scale the features, class labels are included\n",
        "  #Initialisation of the dataset. Scales the features and errors, which can be included or exluded for clustering\n",
        "  #it returns a scaled dataset with new columns \"clusters\" = 0 and \"new_clusters\" = -1, which is required for HBAC\n",
        "\n",
        "  new_data = raw_data.copy(deep=True)\n",
        "\n",
        "  if with_errors:\n",
        "    scaling_factor = 0.8  # default scaling factor - there is a trade-off between scaling of weighing the errors to guide biased clusters while preventing too large and uninformative clusters\n",
        "    new_data['scaled_TP'] = new_data['TP'] * scaling_factor\n",
        "    new_data['scaled_TN'] = new_data['TN'] * scaling_factor\n",
        "    new_data['scaled_FN'] = new_data['FN'] * scaling_factor\n",
        "    new_data['scaled_FP'] = new_data['FP'] * scaling_factor\n",
        "\n",
        "  if just_features:\n",
        "    new_data = new_data.drop(['predicted_class', 'true_class', 'errors', 'TP', 'TN', 'FN', 'FP'], axis=1)\n",
        "\n",
        "  if scale_features:\n",
        "    to_scale = raw_data.drop(['predicted_class', 'true_class', 'errors', 'TP', 'TN', 'FN', 'FP'], axis=1).columns\n",
        "    new_data[to_scale] = StandardScaler().fit_transform(features[to_scale])\n",
        "\n",
        "  if with_classes:\n",
        "    for col in ['predicted_class', 'true_class', 'errors', 'TP', 'TN', 'FN', 'FP']:\n",
        "      new_data[col] = raw_data[col]\n",
        "\n",
        "\n",
        "    new_data['clusters'] = 0\n",
        "    new_data['new_clusters'] = -1\n",
        "  return new_data"
      ],
      "metadata": {
        "id": "dW-4moGZDy8P"
      },
      "execution_count": 5,
      "outputs": []
    },
    {
      "cell_type": "markdown",
      "source": [
        "## Clustering on either TP/FN or TN/FP --> drop 0,0 columns"
      ],
      "metadata": {
        "id": "NADVrTXqIG_d"
      }
    },
    {
      "cell_type": "code",
      "source": [
        "##Drop rows where both TP and FN are zero\n",
        "def drop_zero_TP_FN(data):\n",
        "  return data.loc[(data['TP'] == 1) | (data['FN'] == 1)]\n",
        "\n",
        "TP_FN_data = drop_zero_TP_FN(Shap_error_data)\n",
        "\n",
        "################################################\n",
        "\n",
        "#Drop rows where both TN and FP are zero\n",
        "def drop_zero_TN_FP(data):\n",
        "  return data.loc[(data['TN']  == 1 ) | (data['FP'] == 1)]\n",
        "\n",
        "TN_FP_data = drop_zero_TN_FP(Shap_error_data)\n",
        "\n",
        "################################################\n",
        "if ((TP_FN_data['TP'] == 0) & (TP_FN_data['FN'] == 0)).any():\n",
        "    print(\"There's at least one occurrence of TP 0 and FN 0 in the dataset.\")\n",
        "else:\n",
        "    print(\"There's no occurrence of 0,0 in both columns TP and FN.\")\n",
        "\n",
        "if ((TN_FP_data['TN'] == 0) & (TN_FP_data['FP'] == 0) ).any():\n",
        "    print(\"There's at least one occurrence of TP 0 and FN 0 in the dataset.\")\n",
        "else:\n",
        "    print(\"There's no occurrence of 0,0 in both columns TN and FP.\")"
      ],
      "metadata": {
        "colab": {
          "base_uri": "https://localhost:8080/"
        },
        "id": "Rll1BfIztumu",
        "outputId": "f80b1392-3df3-40c6-8128-154f403e910e"
      },
      "execution_count": 6,
      "outputs": [
        {
          "output_type": "stream",
          "name": "stdout",
          "text": [
            "There's no occurrence of 0,0 in both columns TP and FN.\n",
            "There's no occurrence of 0,0 in both columns TN and FP.\n"
          ]
        }
      ]
    },
    {
      "cell_type": "code",
      "source": [
        "len(TP_FN_data)\n",
        "#len(TN_FP_data)\n",
        "#len(Shap_error_data)"
      ],
      "metadata": {
        "colab": {
          "base_uri": "https://localhost:8080/"
        },
        "id": "hUuUKoIg6WYL",
        "outputId": "2e04252a-a9a1-48e0-bbed-3bee98eeaa46"
      },
      "execution_count": 7,
      "outputs": [
        {
          "output_type": "execute_result",
          "data": {
            "text/plain": [
              "1579"
            ]
          },
          "metadata": {},
          "execution_count": 7
        }
      ]
    },
    {
      "cell_type": "markdown",
      "source": [
        "# PCA\n",
        "needs to be separated still for TN/FP and TP/FN"
      ],
      "metadata": {
        "id": "lXLzp-j9Vtcs"
      }
    },
    {
      "cell_type": "code",
      "source": [
        "def pca_plot(data, title, alpha):\n",
        "\n",
        "    #extract features for PCA and drop the other columns in other_features df\n",
        "    pca_features = data.drop(['predicted_class', 'true_class', 'errors', 'TP', 'TN', 'FN', 'FP', 'Error_Type'], axis=1)\n",
        "    other_features = data[['predicted_class', 'true_class', 'errors', 'TP', 'TN', 'FN', 'FP', 'Error_Type']]\n",
        "\n",
        "    # Scale the PCA features before using PCA\n",
        "    scaler = StandardScaler()\n",
        "    scaled_features = scaler.fit_transform(pca_features)\n",
        "\n",
        "    # Apply PCA with 2 components to scaled features and create a df for the resulting principal components\n",
        "    pca_result = PCA(n_components=2).fit_transform(scaled_features)\n",
        "    pca_df = pd.DataFrame(pca_result, index=pca_features.index)\n",
        "\n",
        "    #create temporary dataset that contains both principal components and other features\n",
        "    temp_dataset = pca_df.join(other_features, how='left')\n",
        "    temp_dataset.rename(columns={0: 'Principal Component 1', 1: 'Principal Component 2'}, inplace=True)\n",
        "\n",
        "    scatterplot = sns.scatterplot(data=temp_dataset,x ='Principal Component 1', y='Principal Component 2', alpha=alpha, hue=\"Error_Type\", palette=\"tab10\", style=\"Error_Type\")\n",
        "\n",
        "    scatterplot.set_title(title)\n",
        "    scatterplot.legend(loc='center left', bbox_to_anchor=(1.0, 0.5), ncol=1)\n",
        "\n",
        "    explained_variance_ratio = PCA(n_components=2).fit(scaled_features).explained_variance_ratio_\n",
        "    print(f\"Explained Variance Ratio: PC1 = {explained_variance_ratio[0]:.2f}, PC2 = {explained_variance_ratio[1]:.2f}\")\n",
        "\n",
        "    plt.show()\n"
      ],
      "metadata": {
        "id": "RMvUUByXVtBp"
      },
      "execution_count": 8,
      "outputs": []
    },
    {
      "cell_type": "markdown",
      "source": [
        "#Clustering Functions"
      ],
      "metadata": {
        "id": "1_3QOzE2Cgw3"
      }
    },
    {
      "cell_type": "code",
      "source": [
        "#Calculate accuracy on error\n",
        "def accuracy_error (results):\n",
        "  if len(results) == 0:\n",
        "    print (\"you are calculating the accuracy on an empty cluster\")\n",
        "  correct = results.loc[results['error'] == 0]\n",
        "  acc = len(correct)/ len(results)\n",
        "  return acc\n",
        "\n",
        "#################################\n",
        "\n",
        "#Calculate bias based on accuracy_error function\n",
        "\n",
        "'''Calculate bias: negative bias as the accuracy of a selected cluster - accruacy of the remaining clusters\n",
        " Colster col: name of the DF column where the cluster assignments are'''\n",
        "\n",
        "def bias_w_error (data, cluster_id, cluster_col):\n",
        "  cluster_x = data.loc[data[cluster_col] == cluster_id]\n",
        "  if len(cluster_x) ==0:\n",
        "    print(\"this is an empty cluster\", cluster_id)\n",
        "  remaining_clusters = data.loc[data[cluster_col] != cluster_id]\n",
        "  if len(remaining_clusters) ==0:\n",
        "    print (\"This cluster is the entire dataset. Cluster:\", cluster_id)\n",
        "  return accuracy_error(cluster_x) - accuracy_error(remaining_clusters)\n",
        "\n",
        "#################################\n",
        "\n",
        "#Combined function for get_max_neg_bias and get_max_pos_bias\n",
        "\n",
        "def get_max_bias(fulldata, bias_type = 'negative', function = bias_w_error):\n",
        "  max_bias = float('inf') if bias_type == 'negative' else -float('inf') #initializes max_bias with either positive of negative infinity (special floating point value) based on bias_type param\n",
        "  for cluster_number in fulldata['new_clusters'].unique():\n",
        "    if cluster_number == -1:#outliers in dbscan\n",
        "      continue\n",
        "    current_bias = function(fulldata, cluster_number, 'new_clusters') #for each cluster the bias_w_error function is calculated\n",
        "    if (bias_type == 'negative' and current_bias < max_bias) or (bias_type == 'positive' and current_bias > max_bias):\n",
        "      max_bias = current_bias\n",
        "  print(f'Maximum {bias_type} bias is:', max_bias)\n",
        "  return max_bias\n",
        "\n",
        "\n",
        "###################################\n",
        "#get max bias cluster --> returns a cluster with neg bias (for newly added clusters)\n",
        "\n",
        "def get_cluster_max_bias(fulldata, function = bias_w_error):\n",
        "  max_pos_bias = 100 #max_abs bias selma code\n",
        "  max_bias_cluster = -2\n",
        "  for cluster_number in fulldata['clusters'].unique():\n",
        "    if cluster_number == -1:\n",
        "      continue\n",
        "    current_bias = (function(fulldata, cluster_number, 'clusters')) #pos function to find the highest bias\n",
        "    print(f\"{cluster_number} has bias {current_bias}\")\n",
        "    if current_bias < max_pos_bias:\n",
        "      max_pos_bias = current_bias\n",
        "      max_bias_cluster = cluster_number\n",
        "  print ('cluster with the highest discriminating bias:', max_bias_cluster)\n",
        "  return max_bias_cluster\n",
        "\n",
        "#################################\n",
        "\n",
        "#Select a new cluster to split on based on the smallest absolute difference from the overall error rate of 0.5\n",
        "#Function requires a df.columns named 'clusters' and 'FP'\n",
        "\n",
        "def select_new_cluster(data, error_column='FP', overall_error_rate=0.5):\n",
        "  smallest_diff = 1\n",
        "  cluster_number = 0\n",
        "\n",
        "  for cluster_number in data['clusters'].unique():\n",
        "    if cluster_number == -1:\n",
        "      continue\n",
        "    cluster_data = data[data['clusters'] == cluster_number]\n",
        "    cluster_error_rate = cluster_data([error_column]).mean()\n",
        "    abs_diff = abs(overall_error_rate - cluster_error_rate)\n",
        "\n",
        "    if abs_diff < smallest_diff:\n",
        "      smallest_diff = abs_diff\n",
        "      selected_cluster = cluster_number\n",
        "\n",
        "  return selected_cluster\n",
        "\n",
        "#############################################\n",
        "#Calculate variance\n",
        "\n",
        "def calculate_variance(data):\n",
        "  variance_list_local = []\n",
        "  for j in data['clusters'].unique():\n",
        "    average_acc = accuracy_error(data)\n",
        "    bias_clus = bias_w_error(data, j, 'clusters')\n",
        "    variance_list_local.append(bias_clus)\n",
        "  variance = np.variance(variance_list_local)\n",
        "  return variance\n",
        "\n",
        "#calculate bias_acc_global\n",
        "\n",
        "def calculate_bias_global_average(data, cluster_id, cluster_col, ave_acc):\n",
        "  cluster_x = data.loc[data[cluster_col] == cluster_id]\n",
        "  return accuracy_error(cluster_x) - ave_acc\n",
        "\n",
        "#############################################\n",
        "\n",
        "#Get min splittable cluster size - returns size of smallest new cluster\n",
        "def min_split_cluster_size(data):\n",
        "  min_cluster_size = len(data)\n",
        "  for i in data['new_clusters'].unique():\n",
        "    if i == -1:\n",
        "      continue\n",
        "    size = len(data.loc[data['new_clusters']==i])\n",
        "    if size < min_cluster_size:\n",
        "      min_cluster_size = size\n",
        "  return min_cluster_size\n",
        "\n",
        "#################################################\n",
        "\n",
        "\n",
        "#Select a random cluster from provided list of clusters that is not -1\n",
        "def get_random_cluster(clusters):\n",
        "  result = -1\n",
        "  while (result == -1):\n",
        "    result = random.randint(0, len(clusters.unique()))\n",
        "  print('This is the random cluster we picked:', result)\n",
        "  return result\n",
        "\n",
        "#############################################\n",
        "\n",
        "#Plot cluster\n",
        "def plot_clusters(data):\n",
        "  scatterplot = sns.scatterplot(data=data, x='1st', y='2nd', hue=\"clusters\", size = 'errors', sizes=(100, 20), palette = \"tab10\")\n",
        "  plt.show()\n"
      ],
      "metadata": {
        "id": "yKMXs1SpCgTk"
      },
      "execution_count": 9,
      "outputs": []
    },
    {
      "cell_type": "code",
      "source": [
        "round(0.02 * len(TN_FP_data)) #decide on min nr points for dbscan?"
      ],
      "metadata": {
        "colab": {
          "base_uri": "https://localhost:8080/"
        },
        "id": "FyA6MYCufMDg",
        "outputId": "3209b07c-5f1a-4eed-d7bf-79dbdfeb1318"
      },
      "execution_count": 10,
      "outputs": [
        {
          "output_type": "execute_result",
          "data": {
            "text/plain": [
              "39"
            ]
          },
          "metadata": {},
          "execution_count": 10
        }
      ]
    },
    {
      "cell_type": "code",
      "source": [
        "round(0.02 * len(TP_FN_data))"
      ],
      "metadata": {
        "colab": {
          "base_uri": "https://localhost:8080/"
        },
        "id": "uFCrmNcKfrHz",
        "outputId": "2ec34819-9d16-46a8-e38b-aa396bc40bb5"
      },
      "execution_count": 11,
      "outputs": [
        {
          "output_type": "execute_result",
          "data": {
            "text/plain": [
              "32"
            ]
          },
          "metadata": {},
          "execution_count": 11
        }
      ]
    },
    {
      "cell_type": "code",
      "source": [],
      "metadata": {
        "id": "1O1zUeB4gLfJ"
      },
      "execution_count": 12,
      "outputs": []
    },
    {
      "cell_type": "markdown",
      "source": [
        "# Determining the epsilon parameter using the K-Distance plot\n",
        "\n",
        "Using the k-distance plot to determine epsilon by identifying the knee point (where there is a significant increese"
      ],
      "metadata": {
        "id": "KWNoIYnwRkW_"
      }
    },
    {
      "cell_type": "code",
      "source": [
        "nn_features = TP_FN_data.iloc[:, : 11]\n",
        "\n",
        "neigh = NearestNeighbors(n_neighbors = 3) # compute distance to 2nd nearest neighbor (k=3) for each data point\n",
        "nbrs = neigh.fit(nn_features)\n",
        "distances, indices = nbrs.kneighbors(nn_features)\n",
        "\n",
        "distances = np.sort(distances, axis= 0)\n",
        "distances = distances [:,1]\n",
        "plt.plot(distances)\n",
        "plt.xlabel('Data point')mi\n",
        "plt.ylabel('K-distance')\n",
        "plt.title(\"Optimal Value of Epsilon for COMPAS\")"
      ],
      "metadata": {
        "colab": {
          "base_uri": "https://localhost:8080/",
          "height": 489
        },
        "id": "ifPwnQZpRikK",
        "outputId": "ea934823-feef-4533-df7b-6e6799d89339"
      },
      "execution_count": 13,
      "outputs": [
        {
          "output_type": "execute_result",
          "data": {
            "text/plain": [
              "Text(0.5, 1.0, 'Optimal Value of Epsilon for COMPAS')"
            ]
          },
          "metadata": {},
          "execution_count": 13
        },
        {
          "output_type": "display_data",
          "data": {
            "text/plain": [
              "<Figure size 640x480 with 1 Axes>"
            ],
            "image/png": "[encoded data removed]"
          },
          "metadata": {}
        }
      ]
    },
    {
      "cell_type": "markdown",
      "source": [
        "Determining the number of custers using Silhouette Score and Covariance of Variation: psuedo code from Nasiriani et al (algorithm 2: cluster number finder) is not needed for dbscan"
      ],
      "metadata": {
        "id": "53Aia15qGfvG"
      }
    },
    {
      "cell_type": "code",
      "source": [
        "'''\n",
        "M = 10  # Example value for M\n",
        "t = 0.1  # Example value for t\n",
        "\n",
        "def Cluster_number(data):\n",
        "    k = 2\n",
        "    num_clusters = 2\n",
        "    CoV_final = -np.inf\n",
        "\n",
        "    while k <= M:\n",
        "        # Perform k-means clustering\n",
        "        kmeans = KMeans(n_clusters=k)\n",
        "        clusters = kmeans.fit_predict(data)\n",
        "\n",
        "        # Compute Silhouette score for each cluster\n",
        "        silhouette_vals = silhouette_samples(data, clusters)\n",
        "\n",
        "        # Calculate Silhouette coverage for each cluster\n",
        "        silcov = np.zeros(k)\n",
        "        for i in range(k):\n",
        "            sili = silhouette_vals[clusters == i]\n",
        "            if np.std(sili) <= t:\n",
        "                silcov[i] = t / np.mean(sili)\n",
        "            else:\n",
        "                silcov[i] = np.std(sili) / np.mean(sili)\n",
        "\n",
        "        # Calculate Coefficient of Variation\n",
        "        CoV_n = np.std(silcov) / np.mean(silcov)\n",
        "\n",
        "        # Update number of clusters if CoVn is smaller or equal to CoVfinal\n",
        "        if CoV_n <= CoV_final:\n",
        "            num_clusters = k\n",
        "            CoV_final = CoV_n\n",
        "\n",
        "        k += 1\n",
        "\n",
        "    return num_clusters\n",
        "    '''"
      ],
      "metadata": {
        "id": "5WgXsgqRHDkp"
      },
      "execution_count": null,
      "outputs": []
    },
    {
      "cell_type": "markdown",
      "source": [
        "#DBSCAN clustering"
      ],
      "metadata": {
        "id": "6VN31LFxHESk"
      }
    },
    {
      "cell_type": "code",
      "source": [
        "eps = 0.5 #from K-distance plot?\n",
        "min_samples = 39 # minPts minimum neighbors to consider a point as core point - 2*dim - round(0.02 * len(TN_FP_data))\n",
        "variance_list = []\n",
        "x = 0 #cluster number\n",
        "initial_bias = 0\n",
        "pca_plot(TP_FN_data,'HBAC-DBSCAN on COMPAS', 0.6) #change this for TN FP data\n",
        "average_accuracy = accuracy(TP_FN_data)\n",
        "\n",
        "def bias_with_error_rate(data = TP_FN_data, input_columns = features, error_column = 'FP', max_iter=30, min_splittable_cluster_size = 5, min_acceptable_cluster_size = 5, dbscan_max_iter=100):\n",
        "  for i in range(1, max_iter):\n",
        "    print('This is the current cluster: ', x)\n",
        "    eps = eps + 0.001\n",
        "    if len(data['clusters'].unique()) != 1:\n",
        "      variance_list.append(calculate_variance(data))\n",
        "\n",
        "    data['new_clusters'] = -2\n",
        "    candidate_cluster = data.loc[data['clusters'] == x]\n",
        "\n",
        "    if len(candidate_cluster) < min_splittable_cluster_size:\n",
        "      x = get_random_cluster(data['clusters'])\n",
        "      continue\n",
        "\n",
        "  #apply DBSCAN\n",
        "  candidate_cluster['new_cluster'] = pd.DataFrame(DBSCAN(eps = eps, min_samples = min)\n",
        "\n",
        "\n",
        "\n"
      ],
      "metadata": {
        "id": "jdlKRBSXF5-K"
      },
      "execution_count": 14,
      "outputs": []
    }
  ]
}