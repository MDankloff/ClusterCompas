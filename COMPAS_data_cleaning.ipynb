{
  "nbformat": 4,
  "nbformat_minor": 0,
  "metadata": {
    "colab": {
      "provenance": [],
      "mount_file_id": "1hc4hCqs06FkJPYyS0YizEtuo6HuPe2Rh",
      "authorship_tag": "ABX9TyOgP35lwS3THYwbba8E+P5G",
      "include_colab_link": true
    },
    "kernelspec": {
      "name": "python3",
      "display_name": "Python 3"
    },
    "language_info": {
      "name": "python"
    }
  },
  "cells": [
    {
      "cell_type": "markdown",
      "metadata": {
        "id": "view-in-github",
        "colab_type": "text"
      },
      "source": [
        "<a href=\"https://colab.research.google.com/github/MDankloff/ClusterCompas/blob/main/COMPAS_data_cleaning.ipynb\" target=\"_parent\"><img src=\"https://colab.research.google.com/assets/colab-badge.svg\" alt=\"Open In Colab\"/></a>"
      ]
    },
    {
      "cell_type": "code",
      "execution_count": 1,
      "metadata": {
        "id": "qRLJpjWD-2br"
      },
      "outputs": [],
      "source": [
        "import numpy as np\n",
        "import pandas as pd\n",
        "import matplotlib.pyplot as plt\n",
        "import seaborn as sns\n",
        "from sklearn.metrics import accuracy_score, confusion_matrix, roc_auc_score, roc_curve\n",
        "from sklearn.model_selection import train_test_split\n",
        "from sklearn.ensemble import RandomForestClassifier\n",
        "import warnings\n",
        "warnings.filterwarnings(\"ignore\")\n",
        "import os\n",
        "\n",
        "# Specify the directory path\n",
        "directory_path = '//Users/mirthedankloff/Documents/XAI_Bias_Error/COMPAS'\n",
        "\n",
        "# Traverse the directory and print the names of all files\n",
        "for dirname, _, filenames in os.walk(directory_path):\n",
        "    for filename in filenames:\n",
        "        print(os.path.join(dirname, filename))\n"
      ]
    },
    {
      "cell_type": "code",
      "source": [
        "compas_2 = pd.read_csv('/content/compas-scores-two-years.csv')"
      ],
      "metadata": {
        "id": "1KAy1AWK_Jhw"
      },
      "execution_count": 3,
      "outputs": []
    }
  ]
}