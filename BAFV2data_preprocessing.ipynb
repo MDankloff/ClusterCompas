{
  "nbformat": 4,
  "nbformat_minor": 0,
  "metadata": {
    "colab": {
      "provenance": [],
      "authorship_tag": "ABX9TyMeK4t879NJ2bFth0e738I4",
      "include_colab_link": true
    },
    "kernelspec": {
      "name": "python3",
      "display_name": "Python 3"
    },
    "language_info": {
      "name": "python"
    }
  },
  "cells": [
    {
      "cell_type": "markdown",
      "metadata": {
        "id": "view-in-github",
        "colab_type": "text"
      },
      "source": [
        "<a href=\"https://colab.research.google.com/github/MDankloff/ClusterCompas/blob/main/BAFV2data_preprocessing.ipynb\" target=\"_parent\"><img src=\"https://colab.research.google.com/assets/colab-badge.svg\" alt=\"Open In Colab\"/></a>"
      ]
    },
    {
      "cell_type": "markdown",
      "source": [
        "# Libraries"
      ],
      "metadata": {
        "id": "7-kBpl4bJH9b"
      }
    },
    {
      "cell_type": "code",
      "execution_count": 127,
      "metadata": {
        "id": "d17HlBJaIX6e"
      },
      "outputs": [],
      "source": [
        "import pickle\n",
        "import lightgbm as lgbm\n",
        "import pandas as pd\n",
        "import numpy as np\n",
        "import matplotlib.pyplot as plt\n",
        "import seaborn as sns\n",
        "import yaml\n",
        "import glob\n",
        "import random\n",
        "import os\n",
        "import joblib\n",
        "from sklearn.preprocessing import StandardScaler, LabelEncoder\n",
        "from sklearn.model_selection import train_test_split\n",
        "from sklearn.ensemble import RandomForestClassifier\n",
        "from sklearn.metrics import accuracy_score, precision_recall_fscore_support, confusion_matrix, roc_auc_score\n",
        "from sklearn.utils import resample"
      ]
    },
    {
      "cell_type": "code",
      "source": [
        "!pip install dask[dataframe]"
      ],
      "metadata": {
        "colab": {
          "base_uri": "https://localhost:8080/"
        },
        "id": "Cr6GvrPBJrHd",
        "outputId": "3efe4723-0471-4c84-fc49-856a2bade570"
      },
      "execution_count": 128,
      "outputs": [
        {
          "output_type": "stream",
          "name": "stdout",
          "text": [
            "Requirement already satisfied: dask[dataframe] in /usr/local/lib/python3.10/dist-packages (2024.10.0)\n",
            "Requirement already satisfied: click>=8.1 in /usr/local/lib/python3.10/dist-packages (from dask[dataframe]) (8.1.8)\n",
            "Requirement already satisfied: cloudpickle>=3.0.0 in /usr/local/lib/python3.10/dist-packages (from dask[dataframe]) (3.1.0)\n",
            "Requirement already satisfied: fsspec>=2021.09.0 in /usr/local/lib/python3.10/dist-packages (from dask[dataframe]) (2024.10.0)\n",
            "Requirement already satisfied: packaging>=20.0 in /usr/local/lib/python3.10/dist-packages (from dask[dataframe]) (24.2)\n",
            "Requirement already satisfied: partd>=1.4.0 in /usr/local/lib/python3.10/dist-packages (from dask[dataframe]) (1.4.2)\n",
            "Requirement already satisfied: pyyaml>=5.3.1 in /usr/local/lib/python3.10/dist-packages (from dask[dataframe]) (6.0.2)\n",
            "Requirement already satisfied: toolz>=0.10.0 in /usr/local/lib/python3.10/dist-packages (from dask[dataframe]) (0.12.1)\n",
            "Requirement already satisfied: importlib-metadata>=4.13.0 in /usr/local/lib/python3.10/dist-packages (from dask[dataframe]) (8.5.0)\n",
            "Requirement already satisfied: pandas>=2.0 in /usr/local/lib/python3.10/dist-packages (from dask[dataframe]) (2.2.2)\n",
            "Requirement already satisfied: dask-expr<1.2,>=1.1 in /usr/local/lib/python3.10/dist-packages (from dask[dataframe]) (1.1.16)\n",
            "Requirement already satisfied: pyarrow>=14.0.1 in /usr/local/lib/python3.10/dist-packages (from dask-expr<1.2,>=1.1->dask[dataframe]) (17.0.0)\n",
            "Requirement already satisfied: zipp>=3.20 in /usr/local/lib/python3.10/dist-packages (from importlib-metadata>=4.13.0->dask[dataframe]) (3.21.0)\n",
            "Requirement already satisfied: numpy>=1.22.4 in /usr/local/lib/python3.10/dist-packages (from pandas>=2.0->dask[dataframe]) (1.26.4)\n",
            "Requirement already satisfied: python-dateutil>=2.8.2 in /usr/local/lib/python3.10/dist-packages (from pandas>=2.0->dask[dataframe]) (2.8.2)\n",
            "Requirement already satisfied: pytz>=2020.1 in /usr/local/lib/python3.10/dist-packages (from pandas>=2.0->dask[dataframe]) (2024.2)\n",
            "Requirement already satisfied: tzdata>=2022.7 in /usr/local/lib/python3.10/dist-packages (from pandas>=2.0->dask[dataframe]) (2024.2)\n",
            "Requirement already satisfied: locket in /usr/local/lib/python3.10/dist-packages (from partd>=1.4.0->dask[dataframe]) (1.0.0)\n",
            "Requirement already satisfied: six>=1.5 in /usr/local/lib/python3.10/dist-packages (from python-dateutil>=2.8.2->pandas>=2.0->dask[dataframe]) (1.17.0)\n"
          ]
        }
      ]
    },
    {
      "cell_type": "code",
      "source": [
        "from google.colab import drive\n",
        "drive.mount('/content/drive')\n",
        "! cd '/content/drive/MyDrive/Mirthe_Supervision /Paper#3/BAF'\n"
      ],
      "metadata": {
        "colab": {
          "base_uri": "https://localhost:8080/"
        },
        "id": "L4pLQWb0JbOa",
        "outputId": "a1e6db6d-9cb6-482f-91c6-1409de3fff28"
      },
      "execution_count": 129,
      "outputs": [
        {
          "output_type": "stream",
          "name": "stdout",
          "text": [
            "Drive already mounted at /content/drive; to attempt to forcibly remount, call drive.mount(\"/content/drive\", force_remount=True).\n"
          ]
        }
      ]
    },
    {
      "cell_type": "markdown",
      "source": [
        "# LOAD DATA & MODEL"
      ],
      "metadata": {
        "id": "XJMqPwdAKX1j"
      }
    },
    {
      "cell_type": "code",
      "source": [
        "base_path = '/content/drive/MyDrive/Mirthe_Supervision /Paper#3/BAF/parquet data'\n",
        "\n",
        "extension = \"parquet\" #for smaller \"parquet\" depending on the downloaded file\n",
        "data_paths = glob.glob(f\"{base_path}/*.{extension}\")\n",
        "\n",
        "def read_dataset(path, ext = extension):\n",
        "    if ext == \"csv\":\n",
        "      return pd.read_csv(path)\n",
        "    elif ext == \"parquet\":\n",
        "      return pd.read_parquet(path)\n",
        "    else:\n",
        "      raise ValueError(f\"Unsupported file extension: {ext}\")\n",
        "\n",
        "# Extract variant name from the file path (without the extension)\n",
        "def get_variant(path):\n",
        "    return os.path.basename(path).split(\".\")[0]\n",
        "\n",
        "# Dictionary comprehension to read all CSV files into a dictionary of DataFrames\n",
        "dataframes = {\n",
        "    get_variant(path): read_dataset(path) for path in data_paths\n",
        "}\n",
        "print(f\"Loaded datasets: {list(dataframes.keys())}\")\n",
        "\n",
        "datasets_paths = {\n",
        "    \"Base\": base_path + \"/Base.parquet\", # sampled to best represent original dataset\n",
        "    \"Variant I\": base_path + \"/Variant I.parquet\", # higher group size disparity than base - reducing the size of the minority group from approx 20 - 10% of the dataset\n",
        "    \"Variant II\": base_path + \"/Variant II.parquet\", # higher prevalence disparity than base - one group has 5 x the fraud detection rate of the other while group sizes are equal\n",
        "    \"Variant III\": base_path + \"/Variant III.parquet\", # better separability for one of the groups -\n",
        "    \"Variant IV\": base_path + \"/Variant IV.parquet\", # higher prevalence disparity in train\n",
        "    \"Variant V\": base_path + \"/Variant V.parquet\", # better separability in train for one of the groups\n",
        "}\n"
      ],
      "metadata": {
        "colab": {
          "base_uri": "https://localhost:8080/"
        },
        "id": "neIazZ_YKW4U",
        "outputId": "2396a59a-fa61-4644-c7c3-09d93fac5d2f"
      },
      "execution_count": 130,
      "outputs": [
        {
          "output_type": "stream",
          "name": "stdout",
          "text": [
            "Loaded datasets: ['Base', 'Variant I', 'Variant II', 'Variant III', 'Variant IV', 'Variant V']\n"
          ]
        }
      ]
    },
    {
      "cell_type": "markdown",
      "source": [
        "load best light gbm model from variant 2"
      ],
      "metadata": {
        "id": "X1FRyv0BMCa5"
      }
    },
    {
      "cell_type": "code",
      "source": [
        "# directory containing the model files\n",
        "model_dir = '/content/drive/MyDrive/Mirthe_Supervision /Paper#3/BAF/Best Model per Variant/Accuracy'\n",
        "\n",
        "# Get list of all model files in the directory\n",
        "model_files = glob.glob(os.path.join(model_dir, '*.pkl'))\n",
        "\n",
        "# Dictionary to store loaded models\n",
        "models = {}\n",
        "\n",
        "# Load all models from the directory and save them to the dictionary\n",
        "for model_file in model_files:\n",
        "    # Load the model\n",
        "    with open(model_file, 'rb') as f:\n",
        "        model = joblib.load(f)\n",
        "\n",
        "    # Extract the model name from the file path (without extension)\n",
        "    model_name = os.path.basename(model_file).split('.')[0]\n",
        "\n",
        "    # Add the model to the dictionary\n",
        "    models[model_name] = model\n",
        "\n",
        "    # Optional: Save the model back (though it seems redundant here)\n",
        "    save_path = os.path.join(model_dir, f'{model_name}.pkl')\n",
        "    joblib.dump(model, save_path)\n",
        "\n",
        "    print(f\"Model '{model_name}' loaded and saved to: {save_path}\")\n",
        "\n",
        "# Accessing the best model for variant 2\n",
        "modelv2 = models.get(\"model_Variant II_top_4\")\n",
        "\n",
        "print(modelv2)"
      ],
      "metadata": {
        "colab": {
          "base_uri": "https://localhost:8080/"
        },
        "id": "7TPNV8ABKsLt",
        "outputId": "e0a7bfa4-de34-471a-fe2c-3758d4b6481a"
      },
      "execution_count": 131,
      "outputs": [
        {
          "output_type": "stream",
          "name": "stdout",
          "text": [
            "Model 'model_Variant II_top_4' loaded and saved to: /content/drive/MyDrive/Mirthe_Supervision /Paper#3/BAF/Best Model per Variant/Accuracy/model_Variant II_top_4.pkl\n",
            "Model 'model_Variant I_top_4' loaded and saved to: /content/drive/MyDrive/Mirthe_Supervision /Paper#3/BAF/Best Model per Variant/Accuracy/model_Variant I_top_4.pkl\n",
            "Model 'model_Variant V_top_0' loaded and saved to: /content/drive/MyDrive/Mirthe_Supervision /Paper#3/BAF/Best Model per Variant/Accuracy/model_Variant V_top_0.pkl\n",
            "Model 'model_Variant III_top_0' loaded and saved to: /content/drive/MyDrive/Mirthe_Supervision /Paper#3/BAF/Best Model per Variant/Accuracy/model_Variant III_top_0.pkl\n",
            "Model 'model_Base_top_4' loaded and saved to: /content/drive/MyDrive/Mirthe_Supervision /Paper#3/BAF/Best Model per Variant/Accuracy/model_Base_top_4.pkl\n",
            "Model 'model_Variant IV_top_6' loaded and saved to: /content/drive/MyDrive/Mirthe_Supervision /Paper#3/BAF/Best Model per Variant/Accuracy/model_Variant IV_top_6.pkl\n",
            "LGBMClassifier(boosting_type='goss', enable_bundle=True,\n",
            "               learning_rate=0.06070433398329268, max_bin=496, max_depth=30,\n",
            "               min_data_in_leaf=48, n_estimators=227, n_jobs=10, num_leaves=43)\n"
          ]
        }
      ]
    },
    {
      "cell_type": "markdown",
      "source": [
        "# Explore data"
      ],
      "metadata": {
        "id": "WX2IA38aMY6l"
      }
    },
    {
      "cell_type": "code",
      "source": [
        "#rename dataset variant 2 and create a copy\n",
        "v2 = dataframes[\"Variant II\"]\n",
        "v2_old = v2.copy()"
      ],
      "metadata": {
        "id": "_bSoNyKtMd1-"
      },
      "execution_count": 132,
      "outputs": []
    },
    {
      "cell_type": "code",
      "source": [
        "pd.set_option('display.max_columns', 50) # Increase the maximum number of columns displayed in Pandas to 50\n",
        "pd.set_option('display.max_rows', 50)\n",
        "v2.info()"
      ],
      "metadata": {
        "colab": {
          "base_uri": "https://localhost:8080/"
        },
        "id": "wUpuRlBjMebe",
        "outputId": "e6561df6-7b13-4ff6-a1c8-261330060ee7"
      },
      "execution_count": 133,
      "outputs": [
        {
          "output_type": "stream",
          "name": "stdout",
          "text": [
            "<class 'pandas.core.frame.DataFrame'>\n",
            "RangeIndex: 1000000 entries, 0 to 999999\n",
            "Data columns (total 32 columns):\n",
            " #   Column                            Non-Null Count    Dtype  \n",
            "---  ------                            --------------    -----  \n",
            " 0   fraud_bool                        1000000 non-null  int64  \n",
            " 1   income                            1000000 non-null  float64\n",
            " 2   name_email_similarity             1000000 non-null  float64\n",
            " 3   prev_address_months_count         1000000 non-null  int64  \n",
            " 4   current_address_months_count      1000000 non-null  int64  \n",
            " 5   customer_age                      1000000 non-null  int64  \n",
            " 6   days_since_request                1000000 non-null  float64\n",
            " 7   intended_balcon_amount            1000000 non-null  float64\n",
            " 8   payment_type                      1000000 non-null  object \n",
            " 9   zip_count_4w                      1000000 non-null  int64  \n",
            " 10  velocity_6h                       1000000 non-null  float64\n",
            " 11  velocity_24h                      1000000 non-null  float64\n",
            " 12  velocity_4w                       1000000 non-null  float64\n",
            " 13  bank_branch_count_8w              1000000 non-null  int64  \n",
            " 14  date_of_birth_distinct_emails_4w  1000000 non-null  int64  \n",
            " 15  employment_status                 1000000 non-null  object \n",
            " 16  credit_risk_score                 1000000 non-null  int64  \n",
            " 17  email_is_free                     1000000 non-null  int64  \n",
            " 18  housing_status                    1000000 non-null  object \n",
            " 19  phone_home_valid                  1000000 non-null  int64  \n",
            " 20  phone_mobile_valid                1000000 non-null  int64  \n",
            " 21  bank_months_count                 1000000 non-null  int64  \n",
            " 22  has_other_cards                   1000000 non-null  int64  \n",
            " 23  proposed_credit_limit             1000000 non-null  float64\n",
            " 24  foreign_request                   1000000 non-null  int64  \n",
            " 25  source                            1000000 non-null  object \n",
            " 26  session_length_in_minutes         1000000 non-null  float64\n",
            " 27  device_os                         1000000 non-null  object \n",
            " 28  keep_alive_session                1000000 non-null  int64  \n",
            " 29  device_distinct_emails_8w         1000000 non-null  int64  \n",
            " 30  device_fraud_count                1000000 non-null  int64  \n",
            " 31  month                             1000000 non-null  int64  \n",
            "dtypes: float64(9), int64(18), object(5)\n",
            "memory usage: 244.1+ MB\n"
          ]
        }
      ]
    },
    {
      "cell_type": "code",
      "source": [
        "v2['payment_type'].unique() #remove because anonymized\n",
        "v2['days_since_request'].unique() #remove because unclear values"
      ],
      "metadata": {
        "colab": {
          "base_uri": "https://localhost:8080/"
        },
        "id": "vsqk1Jm3Qly0",
        "outputId": "ff0d7ef0-1dec-46b3-9c3d-f5d3681595a1"
      },
      "execution_count": 134,
      "outputs": [
        {
          "output_type": "execute_result",
          "data": {
            "text/plain": [
              "array([0.01673985, 0.01900183, 0.04706417, ..., 0.03555377, 0.02066269,\n",
              "       0.0074784 ])"
            ]
          },
          "metadata": {},
          "execution_count": 134
        }
      ]
    },
    {
      "cell_type": "code",
      "source": [
        "print(v2['days_since_request'])"
      ],
      "metadata": {
        "colab": {
          "base_uri": "https://localhost:8080/"
        },
        "id": "jsTgORz1RPpN",
        "outputId": "4aa9238e-3725-4078-d9fb-fba6add0fecd"
      },
      "execution_count": 135,
      "outputs": [
        {
          "output_type": "stream",
          "name": "stdout",
          "text": [
            "0         0.016740\n",
            "1         0.019002\n",
            "2         0.047064\n",
            "3         0.008007\n",
            "4         2.513544\n",
            "            ...   \n",
            "999995    0.001835\n",
            "999996    0.023952\n",
            "999997    0.035554\n",
            "999998    0.020663\n",
            "999999    0.007478\n",
            "Name: days_since_request, Length: 1000000, dtype: float64\n"
          ]
        }
      ]
    },
    {
      "cell_type": "code",
      "source": [
        "v2_old['source'].unique()\n",
        "v2_old['device_os'].unique()\n",
        "v2_old['keep_alive_session'].unique()\n",
        "#v2_old['device_fraud_count'].unique()"
      ],
      "metadata": {
        "colab": {
          "base_uri": "https://localhost:8080/"
        },
        "id": "vlhNYX2fRyMQ",
        "outputId": "af877353-95db-402a-d621-d7c19e900e23"
      },
      "execution_count": 136,
      "outputs": [
        {
          "output_type": "execute_result",
          "data": {
            "text/plain": [
              "array([0, 1])"
            ]
          },
          "metadata": {},
          "execution_count": 136
        }
      ]
    },
    {
      "cell_type": "code",
      "source": [
        "1 in v2_old['device_fraud_count'].unique()"
      ],
      "metadata": {
        "colab": {
          "base_uri": "https://localhost:8080/"
        },
        "id": "TMJk5viqdtGL",
        "outputId": "40cdf326-6ab0-4438-9b20-22b1b28dc7f4"
      },
      "execution_count": 137,
      "outputs": [
        {
          "output_type": "execute_result",
          "data": {
            "text/plain": [
              "False"
            ]
          },
          "metadata": {},
          "execution_count": 137
        }
      ]
    },
    {
      "cell_type": "code",
      "source": [
        "v2_old['device_os'].unique()"
      ],
      "metadata": {
        "colab": {
          "base_uri": "https://localhost:8080/"
        },
        "id": "L4WkRQ-HNf_B",
        "outputId": "7c0e5e26-de65-4996-de19-f450a676abdf"
      },
      "execution_count": 138,
      "outputs": [
        {
          "output_type": "execute_result",
          "data": {
            "text/plain": [
              "array(['other', 'macintosh', 'linux', 'windows', 'x11'], dtype=object)"
            ]
          },
          "metadata": {},
          "execution_count": 138
        }
      ]
    },
    {
      "cell_type": "markdown",
      "source": [
        "Master dataset"
      ],
      "metadata": {
        "id": "3FWW5CM7Mba0"
      }
    },
    {
      "cell_type": "code",
      "source": [
        "#FEATURES\n",
        "META = ['clusters', 'new_clusters']\n",
        "ERROR = ['errors', 'TP', 'TN', 'FN', 'FP']\n",
        "REG = ['bank_branch_count_8w',\n",
        "       #'credit_risk_score',\n",
        "       'device_os','month', 'session_length_in_minutes', 'email_is_free',\n",
        "       #'proposed_credit_limit',\n",
        "       #'name_email_similarity',\n",
        "      'zip_count_4w', 'date_of_birth_distinct_emails_4w', 'phone_mobile_valid', 'has_other_cards', 'foreign_request']\n",
        "SEN = ['customer_age', 'income'] #protected attributes in BAF paper\n",
        "DUMMY = ['source_INTERNET', 'Source_TELEAPP', 'device_os_other', 'device_os_macintosh','device_os_linux','device_os_windows', 'device_os_x11']\n",
        "\n",
        "#FEATURES SCALED\n",
        "ERROR_scaled = ['errors_scaled']\n",
        "REG_scaled = ['bank_branch_count_8w_scaled',\n",
        "              #'credit_risk_score_scaled',\n",
        "              'device_os_scaled','month_scaled', 'session_length_in_minutes_scaled',\n",
        "              'email_is_free_scaled',\n",
        "              #'proposed_credit_limit_scaled',\n",
        "              #'name_email_similarity_scaled',\n",
        "              'zip_count_4w_scaled',\n",
        "              'date_of_birth_distinct_emails_4w_scaled', 'phone_home_valid_scaled','has_other_cards_scaled', 'foreign_request_scaled']\n",
        "SEN_scaled = ['customer_age_scaled', 'income_scaled']\n",
        "DUMMY_scaled = ['source_INTERNET_scaled', 'Source_TELEAPP_scaled', 'device_os_other_scaled', 'device_os_macintosh_scaled', 'device_os_linux_scaled', 'device_os_windows_scaled', 'device_os_x11_scaled']\n",
        "\n",
        "\n",
        "#SHAP FEATURES\n",
        "SHAP_REG = ['bank_branch_count_8w_shap',\n",
        "            #'credit_risk_score_shap',\n",
        "            'device_os_shap', 'month_shap', 'session_length_in_minutes_shap', 'email_is_free_shap', 'proposed_credit_limit_shap', 'name_email_similarity_shap',\n",
        " 'zip_count_4w_shap', 'date_of_birth_distinct_emails_4w_shap', 'phone_mobile_valid_shap', 'has_other_cards_shap', 'foreign_request_shap']\n",
        "SHAP_SEN = ['customer_age_shap', 'income_shap']\n",
        "SHAP_DUMMY = ['source_INTERNET_shap', 'Source_TELEAPP_shap', 'device_os_other_shap', 'device_os_macintosh_shap','device_os_linux_shap','device_os_windows_shap', 'device_os_x11_shap']\n",
        "\n",
        "#SHAP FEATURES SCALED\n",
        "SHAP_REG_scaled = ['bank_branch_count_8w_shap_scaled',\n",
        "                   #'credit_risk_score_shap_scaled',\n",
        "                   'device_os_shap_scaled', 'month_shap_scaled', 'session_length_in_minutes_shap_scaled',\n",
        " 'email_is_free_shap_scaled', 'proposed_credit_limit_shap_scaled', 'name_email_similarity_shap_scaled', 'zip_count_4w_shap_scaled',\n",
        " 'date_of_birth_distinct_emails_4w_shap_scaled', 'phone_mobile_valid_shap_scaled', 'has_other_cards_shap_scaled', 'foreign_request_shap_scaled']\n",
        "SHAP_SEN_scaled = ['customer_age_shap_scaled', 'income_shap_scaled']\n",
        "SHAP_DUMMY_scaled = ['source_INTERNET_shap_scaled', 'Source_TELEAPP_shap_scaled', 'device_os_other_shap_scaled', 'device_os_macintosh_shap_scaled',\n",
        " 'device_os_linux_shap_scaled', 'device_os_windows_shap_scaled', 'device_os_x11_shap_scaled']\n",
        "\n",
        "'''removed features = 'device_fraud_count', 'intended_balcon_amount', 'payment_type', 'days_since_request',\n",
        "'velocity_6h', 'velocity_24h', 'velocity_4w', 'keep_alive_session', 'prev_address_months_count', 'current_address_months_count', 'phone_home_valid', 'bank_months_count', 'device_distinct_emails_8w', 'housing_status', 'employment_status' '''"
      ],
      "metadata": {
        "colab": {
          "base_uri": "https://localhost:8080/",
          "height": 55
        },
        "id": "VMmJHJ07MqTu",
        "outputId": "c3ff7c98-f0d9-4e20-cba9-6ac97246d8c7"
      },
      "execution_count": 139,
      "outputs": [
        {
          "output_type": "execute_result",
          "data": {
            "text/plain": [
              "\"removed features = 'device_fraud_count', 'intended_balcon_amount', 'payment_type', 'days_since_request', \\n'velocity_6h', 'velocity_24h', 'velocity_4w', 'keep_alive_session', 'prev_address_months_count', 'current_address_months_count', 'phone_home_valid', 'bank_months_count', 'device_distinct_emails_8w', 'housing_status', 'employment_status' \""
            ],
            "application/vnd.google.colaboratory.intrinsic+json": {
              "type": "string"
            }
          },
          "metadata": {},
          "execution_count": 139
        }
      ]
    },
    {
      "cell_type": "code",
      "source": [
        "#v2_old['housing_status'].unique()\n",
        "#v2_old['employment_status'].unique()\n",
        "#v2_old['source'].unique()\n",
        "v2_old['device_os'].unique()"
      ],
      "metadata": {
        "colab": {
          "base_uri": "https://localhost:8080/"
        },
        "id": "JrFheRIP3X8l",
        "outputId": "4597d88d-9631-4a19-fc67-0a16593e70f5"
      },
      "execution_count": 140,
      "outputs": [
        {
          "output_type": "execute_result",
          "data": {
            "text/plain": [
              "array(['other', 'macintosh', 'linux', 'windows', 'x11'], dtype=object)"
            ]
          },
          "metadata": {},
          "execution_count": 140
        }
      ]
    },
    {
      "cell_type": "markdown",
      "source": [
        "Remove features"
      ],
      "metadata": {
        "id": "MnrVb8tyMKQl"
      }
    },
    {
      "cell_type": "code",
      "source": [
        "features_to_remove = ['credit_risk_score', 'device_fraud_count', 'intended_balcon_amount', 'payment_type', 'days_since_request',\n",
        "'velocity_6h', 'velocity_24h', 'velocity_4w', 'keep_alive_session', 'prev_address_months_count', 'current_address_months_count',\n",
        "                      'phone_home_valid', 'bank_months_count', 'device_distinct_emails_8w', 'housing_status', 'employment_status', 'proposed_credit_limit', 'name_email_similarity']\n",
        "\n",
        "v2 = v2.drop(columns = features_to_remove)"
      ],
      "metadata": {
        "id": "4jbrTmtZVva0"
      },
      "execution_count": 141,
      "outputs": []
    },
    {
      "cell_type": "code",
      "source": [
        "v2.info()"
      ],
      "metadata": {
        "colab": {
          "base_uri": "https://localhost:8080/"
        },
        "id": "OpjxnptjWT6Q",
        "outputId": "3fae4b2c-f773-4150-cc2f-3b60f50e1e78"
      },
      "execution_count": 142,
      "outputs": [
        {
          "output_type": "stream",
          "name": "stdout",
          "text": [
            "<class 'pandas.core.frame.DataFrame'>\n",
            "RangeIndex: 1000000 entries, 0 to 999999\n",
            "Data columns (total 14 columns):\n",
            " #   Column                            Non-Null Count    Dtype  \n",
            "---  ------                            --------------    -----  \n",
            " 0   fraud_bool                        1000000 non-null  int64  \n",
            " 1   income                            1000000 non-null  float64\n",
            " 2   customer_age                      1000000 non-null  int64  \n",
            " 3   zip_count_4w                      1000000 non-null  int64  \n",
            " 4   bank_branch_count_8w              1000000 non-null  int64  \n",
            " 5   date_of_birth_distinct_emails_4w  1000000 non-null  int64  \n",
            " 6   email_is_free                     1000000 non-null  int64  \n",
            " 7   phone_mobile_valid                1000000 non-null  int64  \n",
            " 8   has_other_cards                   1000000 non-null  int64  \n",
            " 9   foreign_request                   1000000 non-null  int64  \n",
            " 10  source                            1000000 non-null  object \n",
            " 11  session_length_in_minutes         1000000 non-null  float64\n",
            " 12  device_os                         1000000 non-null  object \n",
            " 13  month                             1000000 non-null  int64  \n",
            "dtypes: float64(2), int64(10), object(2)\n",
            "memory usage: 106.8+ MB\n"
          ]
        }
      ]
    },
    {
      "cell_type": "code",
      "source": [
        "#get a smaller sample approx like compas\n",
        "v2_sample = v2.sample(n= 8000, random_state = 42)"
      ],
      "metadata": {
        "id": "RC5wJD3ggjWH"
      },
      "execution_count": 143,
      "outputs": []
    },
    {
      "cell_type": "code",
      "source": [
        "v2_sample.info()"
      ],
      "metadata": {
        "colab": {
          "base_uri": "https://localhost:8080/"
        },
        "id": "2ENg1TLLgy-C",
        "outputId": "14c3fe60-d32a-45f4-ef9d-c87f32cb7b2e"
      },
      "execution_count": 144,
      "outputs": [
        {
          "output_type": "stream",
          "name": "stdout",
          "text": [
            "<class 'pandas.core.frame.DataFrame'>\n",
            "Index: 8000 entries, 987231 to 534950\n",
            "Data columns (total 14 columns):\n",
            " #   Column                            Non-Null Count  Dtype  \n",
            "---  ------                            --------------  -----  \n",
            " 0   fraud_bool                        8000 non-null   int64  \n",
            " 1   income                            8000 non-null   float64\n",
            " 2   customer_age                      8000 non-null   int64  \n",
            " 3   zip_count_4w                      8000 non-null   int64  \n",
            " 4   bank_branch_count_8w              8000 non-null   int64  \n",
            " 5   date_of_birth_distinct_emails_4w  8000 non-null   int64  \n",
            " 6   email_is_free                     8000 non-null   int64  \n",
            " 7   phone_mobile_valid                8000 non-null   int64  \n",
            " 8   has_other_cards                   8000 non-null   int64  \n",
            " 9   foreign_request                   8000 non-null   int64  \n",
            " 10  source                            8000 non-null   object \n",
            " 11  session_length_in_minutes         8000 non-null   float64\n",
            " 12  device_os                         8000 non-null   object \n",
            " 13  month                             8000 non-null   int64  \n",
            "dtypes: float64(2), int64(10), object(2)\n",
            "memory usage: 937.5+ KB\n"
          ]
        }
      ]
    },
    {
      "cell_type": "code",
      "source": [
        "'''missing_values = v2_sample.isna()\n",
        "print(missing_values)'''"
      ],
      "metadata": {
        "colab": {
          "base_uri": "https://localhost:8080/",
          "height": 36
        },
        "id": "MeQj0gG90WmU",
        "outputId": "7840daf6-3d4d-4ea8-a6de-291dbf5a12b6"
      },
      "execution_count": 145,
      "outputs": [
        {
          "output_type": "execute_result",
          "data": {
            "text/plain": [
              "'missing_values = v2_sample.isna()\\nprint(missing_values)'"
            ],
            "application/vnd.google.colaboratory.intrinsic+json": {
              "type": "string"
            }
          },
          "metadata": {},
          "execution_count": 145
        }
      ]
    },
    {
      "cell_type": "code",
      "source": [
        "#print(v2_sample.loc[534950])"
      ],
      "metadata": {
        "id": "8EhvJvf_04fk"
      },
      "execution_count": 146,
      "outputs": []
    },
    {
      "cell_type": "markdown",
      "source": [
        "Get dummies for objects"
      ],
      "metadata": {
        "id": "QNpgB08vMfUN"
      }
    },
    {
      "cell_type": "code",
      "source": [
        "dummy_cols = ['source', 'device_os']\n",
        "v2_sample = pd.get_dummies(v2_sample, columns = dummy_cols)\n",
        "v2_sample.info()"
      ],
      "metadata": {
        "colab": {
          "base_uri": "https://localhost:8080/"
        },
        "id": "8CDVUOW2MeZJ",
        "outputId": "80c7abcc-406b-4f9a-efd3-3db5a9ef8b3f"
      },
      "execution_count": 147,
      "outputs": [
        {
          "output_type": "stream",
          "name": "stdout",
          "text": [
            "<class 'pandas.core.frame.DataFrame'>\n",
            "Index: 8000 entries, 987231 to 534950\n",
            "Data columns (total 19 columns):\n",
            " #   Column                            Non-Null Count  Dtype  \n",
            "---  ------                            --------------  -----  \n",
            " 0   fraud_bool                        8000 non-null   int64  \n",
            " 1   income                            8000 non-null   float64\n",
            " 2   customer_age                      8000 non-null   int64  \n",
            " 3   zip_count_4w                      8000 non-null   int64  \n",
            " 4   bank_branch_count_8w              8000 non-null   int64  \n",
            " 5   date_of_birth_distinct_emails_4w  8000 non-null   int64  \n",
            " 6   email_is_free                     8000 non-null   int64  \n",
            " 7   phone_mobile_valid                8000 non-null   int64  \n",
            " 8   has_other_cards                   8000 non-null   int64  \n",
            " 9   foreign_request                   8000 non-null   int64  \n",
            " 10  session_length_in_minutes         8000 non-null   float64\n",
            " 11  month                             8000 non-null   int64  \n",
            " 12  source_INTERNET                   8000 non-null   bool   \n",
            " 13  source_TELEAPP                    8000 non-null   bool   \n",
            " 14  device_os_linux                   8000 non-null   bool   \n",
            " 15  device_os_macintosh               8000 non-null   bool   \n",
            " 16  device_os_other                   8000 non-null   bool   \n",
            " 17  device_os_windows                 8000 non-null   bool   \n",
            " 18  device_os_x11                     8000 non-null   bool   \n",
            "dtypes: bool(7), float64(2), int64(10)\n",
            "memory usage: 867.2 KB\n"
          ]
        }
      ]
    },
    {
      "cell_type": "markdown",
      "source": [
        "# Train RF"
      ],
      "metadata": {
        "id": "kdXyVF9hM5Du"
      }
    },
    {
      "cell_type": "code",
      "source": [
        "#separate features and target\n",
        "X = v2_sample.drop(columns = ['fraud_bool'], axis = 1)\n",
        "Y = v2_sample['fraud_bool']\n",
        "Y.value_counts()"
      ],
      "metadata": {
        "colab": {
          "base_uri": "https://localhost:8080/",
          "height": 178
        },
        "id": "_wMqv5NeM7N_",
        "outputId": "4ffba519-d242-429a-fc68-9943c283a620"
      },
      "execution_count": 148,
      "outputs": [
        {
          "output_type": "execute_result",
          "data": {
            "text/plain": [
              "fraud_bool\n",
              "0    7918\n",
              "1      82\n",
              "Name: count, dtype: int64"
            ],
            "text/html": [
              "<div>\n",
              "<style scoped>\n",
              "    .dataframe tbody tr th:only-of-type {\n",
              "        vertical-align: middle;\n",
              "    }\n",
              "\n",
              "    .dataframe tbody tr th {\n",
              "        vertical-align: top;\n",
              "    }\n",
              "\n",
              "    .dataframe thead th {\n",
              "        text-align: right;\n",
              "    }\n",
              "</style>\n",
              "<table border=\"1\" class=\"dataframe\">\n",
              "  <thead>\n",
              "    <tr style=\"text-align: right;\">\n",
              "      <th></th>\n",
              "      <th>count</th>\n",
              "    </tr>\n",
              "    <tr>\n",
              "      <th>fraud_bool</th>\n",
              "      <th></th>\n",
              "    </tr>\n",
              "  </thead>\n",
              "  <tbody>\n",
              "    <tr>\n",
              "      <th>0</th>\n",
              "      <td>7918</td>\n",
              "    </tr>\n",
              "    <tr>\n",
              "      <th>1</th>\n",
              "      <td>82</td>\n",
              "    </tr>\n",
              "  </tbody>\n",
              "</table>\n",
              "</div><br><label><b>dtype:</b> int64</label>"
            ]
          },
          "metadata": {},
          "execution_count": 148
        }
      ]
    },
    {
      "cell_type": "code",
      "source": [
        "#Change booleans to numeric for SHAP compatability\n",
        "X = X.astype(int)\n",
        "Y = Y.astype(int)\n",
        "X.iloc[7]"
      ],
      "metadata": {
        "colab": {
          "base_uri": "https://localhost:8080/",
          "height": 649
        },
        "id": "ZLhjFKW7RH18",
        "outputId": "697c5561-9293-41ec-d187-f3006c6c0c64"
      },
      "execution_count": 149,
      "outputs": [
        {
          "output_type": "execute_result",
          "data": {
            "text/plain": [
              "income                                0\n",
              "customer_age                         20\n",
              "zip_count_4w                        990\n",
              "bank_branch_count_8w                  9\n",
              "date_of_birth_distinct_emails_4w      6\n",
              "email_is_free                         1\n",
              "phone_mobile_valid                    1\n",
              "has_other_cards                       1\n",
              "foreign_request                       0\n",
              "session_length_in_minutes             2\n",
              "month                                 5\n",
              "source_INTERNET                       1\n",
              "source_TELEAPP                        0\n",
              "device_os_linux                       0\n",
              "device_os_macintosh                   0\n",
              "device_os_other                       1\n",
              "device_os_windows                     0\n",
              "device_os_x11                         0\n",
              "Name: 732057, dtype: int64"
            ],
            "text/html": [
              "<div>\n",
              "<style scoped>\n",
              "    .dataframe tbody tr th:only-of-type {\n",
              "        vertical-align: middle;\n",
              "    }\n",
              "\n",
              "    .dataframe tbody tr th {\n",
              "        vertical-align: top;\n",
              "    }\n",
              "\n",
              "    .dataframe thead th {\n",
              "        text-align: right;\n",
              "    }\n",
              "</style>\n",
              "<table border=\"1\" class=\"dataframe\">\n",
              "  <thead>\n",
              "    <tr style=\"text-align: right;\">\n",
              "      <th></th>\n",
              "      <th>732057</th>\n",
              "    </tr>\n",
              "  </thead>\n",
              "  <tbody>\n",
              "    <tr>\n",
              "      <th>income</th>\n",
              "      <td>0</td>\n",
              "    </tr>\n",
              "    <tr>\n",
              "      <th>customer_age</th>\n",
              "      <td>20</td>\n",
              "    </tr>\n",
              "    <tr>\n",
              "      <th>zip_count_4w</th>\n",
              "      <td>990</td>\n",
              "    </tr>\n",
              "    <tr>\n",
              "      <th>bank_branch_count_8w</th>\n",
              "      <td>9</td>\n",
              "    </tr>\n",
              "    <tr>\n",
              "      <th>date_of_birth_distinct_emails_4w</th>\n",
              "      <td>6</td>\n",
              "    </tr>\n",
              "    <tr>\n",
              "      <th>email_is_free</th>\n",
              "      <td>1</td>\n",
              "    </tr>\n",
              "    <tr>\n",
              "      <th>phone_mobile_valid</th>\n",
              "      <td>1</td>\n",
              "    </tr>\n",
              "    <tr>\n",
              "      <th>has_other_cards</th>\n",
              "      <td>1</td>\n",
              "    </tr>\n",
              "    <tr>\n",
              "      <th>foreign_request</th>\n",
              "      <td>0</td>\n",
              "    </tr>\n",
              "    <tr>\n",
              "      <th>session_length_in_minutes</th>\n",
              "      <td>2</td>\n",
              "    </tr>\n",
              "    <tr>\n",
              "      <th>month</th>\n",
              "      <td>5</td>\n",
              "    </tr>\n",
              "    <tr>\n",
              "      <th>source_INTERNET</th>\n",
              "      <td>1</td>\n",
              "    </tr>\n",
              "    <tr>\n",
              "      <th>source_TELEAPP</th>\n",
              "      <td>0</td>\n",
              "    </tr>\n",
              "    <tr>\n",
              "      <th>device_os_linux</th>\n",
              "      <td>0</td>\n",
              "    </tr>\n",
              "    <tr>\n",
              "      <th>device_os_macintosh</th>\n",
              "      <td>0</td>\n",
              "    </tr>\n",
              "    <tr>\n",
              "      <th>device_os_other</th>\n",
              "      <td>1</td>\n",
              "    </tr>\n",
              "    <tr>\n",
              "      <th>device_os_windows</th>\n",
              "      <td>0</td>\n",
              "    </tr>\n",
              "    <tr>\n",
              "      <th>device_os_x11</th>\n",
              "      <td>0</td>\n",
              "    </tr>\n",
              "  </tbody>\n",
              "</table>\n",
              "</div><br><label><b>dtype:</b> int64</label>"
            ]
          },
          "metadata": {},
          "execution_count": 149
        }
      ]
    },
    {
      "cell_type": "markdown",
      "source": [
        "Upsample for more frauds"
      ],
      "metadata": {
        "id": "bJkECGTsP08X"
      }
    },
    {
      "cell_type": "code",
      "source": [
        "# Separate majority and minority classes\n",
        "df_majority = v2_sample[v2_sample['fraud_bool'] == 0]\n",
        "df_minority = v2_sample[v2_sample['fraud_bool'] == 1]\n",
        "\n",
        "# Define the desired ratio\n",
        "minority_ratio = 0.5  # Aim for equal classes\n",
        "n_samples = int(minority_ratio * len(df_majority) / (1 - minority_ratio))\n",
        "\n",
        "# Perform upsampling\n",
        "df_minority_upsampled = resample(df_minority, replace=True, n_samples=n_samples, random_state=42)\n",
        "\n",
        "# Combine the datasets\n",
        "df_upsampled = pd.concat([df_majority, df_minority_upsampled])\n",
        "\n",
        "# Check new class distribution\n",
        "print(\"New class distribution:\")\n",
        "print(df_upsampled['fraud_bool'].value_counts())"
      ],
      "metadata": {
        "colab": {
          "base_uri": "https://localhost:8080/"
        },
        "id": "akPPT0KUPb-C",
        "outputId": "eb08fb8b-866d-4f49-aaf5-d48c4e365742"
      },
      "execution_count": 158,
      "outputs": [
        {
          "output_type": "stream",
          "name": "stdout",
          "text": [
            "New class distribution:\n",
            "fraud_bool\n",
            "0    7918\n",
            "1    7918\n",
            "Name: count, dtype: int64\n"
          ]
        }
      ]
    },
    {
      "cell_type": "code",
      "source": [
        "#prepare upsampled train-test split\n",
        "X_upsampled = df_upsampled.drop(columns=['fraud_bool'])\n",
        "Y_upsampled = df_upsampled['fraud_bool']"
      ],
      "metadata": {
        "id": "MdrUG2AXRhMq"
      },
      "execution_count": 151,
      "outputs": []
    },
    {
      "cell_type": "code",
      "source": [
        "# Create train and test sets based on 'month'\n",
        "X_train = X_upsampled[X_upsampled['month'] < 6]\n",
        "Y_train = Y_upsampled[X_upsampled['month'] < 6]\n",
        "X_test = X_upsampled[X_upsampled['month'] >= 6]\n",
        "Y_test = Y_upsampled[X_upsampled['month'] >= 6]\n",
        "\n",
        "print(\"Class distribution in Y_train after upsampling:\")\n",
        "print(Y_train.value_counts())"
      ],
      "metadata": {
        "colab": {
          "base_uri": "https://localhost:8080/"
        },
        "id": "NN9KK3_tk5tc",
        "outputId": "8bc0f2a9-c278-411e-a3de-a03ab376b114"
      },
      "execution_count": 161,
      "outputs": [
        {
          "output_type": "stream",
          "name": "stdout",
          "text": [
            "Class distribution in Y_train after upsampling:\n",
            "fraud_bool\n",
            "0    6276\n",
            "1    6074\n",
            "Name: count, dtype: int64\n"
          ]
        }
      ]
    },
    {
      "cell_type": "markdown",
      "source": [
        "Create scaled versions of the features"
      ],
      "metadata": {
        "id": "UrYxzsJWRWIn"
      }
    },
    {
      "cell_type": "code",
      "source": [
        "scaler = StandardScaler()\n",
        "X_scaled_train = scaler.fit_transform(X_train)\n",
        "X_scaled_test = scaler.transform(X_test)"
      ],
      "metadata": {
        "id": "Ru8Ez_ffRat7"
      },
      "execution_count": 162,
      "outputs": []
    },
    {
      "cell_type": "markdown",
      "source": [
        "Train on scaled X (unnecessary for RF but good for SHAP later on)"
      ],
      "metadata": {
        "id": "4odDKvjsS_J0"
      }
    },
    {
      "cell_type": "code",
      "source": [
        "model = RandomForestClassifier(\n",
        "    n_estimators=100,\n",
        "    max_depth=10,\n",
        "    class_weight={0: 1, 1: 5},  # Penalize fraud misclassification more\n",
        "    random_state=42\n",
        ")\n",
        "model.fit(X_scaled_train, Y_train)\n",
        "\n",
        "#model = modelv2\n",
        "\n",
        "#predictions\n",
        "Yhat = model.predict(X_scaled_test)\n",
        "len(Yhat)"
      ],
      "metadata": {
        "colab": {
          "base_uri": "https://localhost:8080/"
        },
        "id": "A4fmY1qZStJ9",
        "outputId": "d1d72d34-ec20-4a62-902e-1d6521a2ac48"
      },
      "execution_count": 163,
      "outputs": [
        {
          "output_type": "execute_result",
          "data": {
            "text/plain": [
              "3486"
            ]
          },
          "metadata": {},
          "execution_count": 163
        }
      ]
    },
    {
      "cell_type": "markdown",
      "source": [
        "# Add Errors"
      ],
      "metadata": {
        "id": "KjDRRh5Ablwr"
      }
    },
    {
      "cell_type": "code",
      "source": [
        "#Create df for predicted and true classes - converting y_hat np to df\n",
        "predictions = pd.DataFrame()\n",
        "predictions['predicted_class'] = Yhat.tolist()\n",
        "predictions = predictions.set_index(X_test.index)\n",
        "predictions['true_class'] = Y_test.values\n",
        "\n",
        "#Calculating the errors with the absolute value\n",
        "predictions['errors'] = abs(predictions['predicted_class'] - predictions['true_class'])\n",
        "\n",
        "#adding predictions to test data\n",
        "V2_error = X_test.merge(predictions, how= 'outer', left_index = True, right_index = True)\n",
        "\n",
        "errors = V2_error['errors']\n",
        "df_out = V2_error.drop(['predicted_class', 'true_class', 'errors'], axis=1)\n",
        "V2_error[V2_error['errors']==1]\n",
        "\n",
        "#accuracy & confusion matrix\n",
        "accuracy = accuracy_score(predictions['true_class'], predictions['predicted_class'])\n",
        "print(f\"Accuracy: {accuracy:.4f}\")\n",
        "cm = confusion_matrix(predictions['true_class'], predictions['predicted_class'])\n",
        "print(cm)"
      ],
      "metadata": {
        "colab": {
          "base_uri": "https://localhost:8080/"
        },
        "id": "kihE8JNobor3",
        "outputId": "08ea2507-d3d2-4555-d54d-d97c4e21ea86"
      },
      "execution_count": 169,
      "outputs": [
        {
          "output_type": "stream",
          "name": "stdout",
          "text": [
            "Accuracy: 0.5677\n",
            "[[1483  159]\n",
            " [1348  496]]\n"
          ]
        }
      ]
    }
  ]
}