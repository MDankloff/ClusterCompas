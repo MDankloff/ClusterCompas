{
  "nbformat": 4,
  "nbformat_minor": 0,
  "metadata": {
    "colab": {
      "provenance": [],
      "collapsed_sections": [
        "7-kBpl4bJH9b",
        "XJMqPwdAKX1j"
      ],
      "authorship_tag": "ABX9TyN85rRrygYYRwEu5ftP+yp5",
      "include_colab_link": true
    },
    "kernelspec": {
      "name": "python3",
      "display_name": "Python 3"
    },
    "language_info": {
      "name": "python"
    }
  },
  "cells": [
    {
      "cell_type": "markdown",
      "metadata": {
        "id": "view-in-github",
        "colab_type": "text"
      },
      "source": [
        "<a href=\"https://colab.research.google.com/github/MDankloff/ClusterCompas/blob/main/BAFV2data_preprocessing.ipynb\" target=\"_parent\"><img src=\"https://colab.research.google.com/assets/colab-badge.svg\" alt=\"Open In Colab\"/></a>"
      ]
    },
    {
      "cell_type": "markdown",
      "source": [
        "# Libraries"
      ],
      "metadata": {
        "id": "7-kBpl4bJH9b"
      }
    },
    {
      "cell_type": "code",
      "execution_count": 74,
      "metadata": {
        "id": "d17HlBJaIX6e"
      },
      "outputs": [],
      "source": [
        "import pickle\n",
        "import lightgbm as lgbm\n",
        "import pandas as pd\n",
        "import numpy as np\n",
        "import matplotlib.pyplot as plt\n",
        "import seaborn as sns\n",
        "import yaml\n",
        "import glob\n",
        "import random\n",
        "import os\n",
        "import joblib\n",
        "from sklearn.preprocessing import StandardScaler, LabelEncoder\n",
        "from sklearn.model_selection import train_test_split\n",
        "from sklearn.ensemble import RandomForestClassifier\n",
        "from sklearn.metrics import accuracy_score, precision_recall_fscore_support, confusion_matrix, roc_auc_score\n",
        "from sklearn.utils import resample"
      ]
    },
    {
      "cell_type": "code",
      "source": [
        "!pip install dask[dataframe]"
      ],
      "metadata": {
        "colab": {
          "base_uri": "https://localhost:8080/"
        },
        "id": "Cr6GvrPBJrHd",
        "outputId": "b53bd09e-98e4-4b95-a159-33172c80ac44"
      },
      "execution_count": 75,
      "outputs": [
        {
          "output_type": "stream",
          "name": "stdout",
          "text": [
            "Requirement already satisfied: dask[dataframe] in /usr/local/lib/python3.10/dist-packages (2024.10.0)\n",
            "Requirement already satisfied: click>=8.1 in /usr/local/lib/python3.10/dist-packages (from dask[dataframe]) (8.1.7)\n",
            "Requirement already satisfied: cloudpickle>=3.0.0 in /usr/local/lib/python3.10/dist-packages (from dask[dataframe]) (3.1.0)\n",
            "Requirement already satisfied: fsspec>=2021.09.0 in /usr/local/lib/python3.10/dist-packages (from dask[dataframe]) (2024.10.0)\n",
            "Requirement already satisfied: packaging>=20.0 in /usr/local/lib/python3.10/dist-packages (from dask[dataframe]) (24.2)\n",
            "Requirement already satisfied: partd>=1.4.0 in /usr/local/lib/python3.10/dist-packages (from dask[dataframe]) (1.4.2)\n",
            "Requirement already satisfied: pyyaml>=5.3.1 in /usr/local/lib/python3.10/dist-packages (from dask[dataframe]) (6.0.2)\n",
            "Requirement already satisfied: toolz>=0.10.0 in /usr/local/lib/python3.10/dist-packages (from dask[dataframe]) (0.12.1)\n",
            "Requirement already satisfied: importlib-metadata>=4.13.0 in /usr/local/lib/python3.10/dist-packages (from dask[dataframe]) (8.5.0)\n",
            "Requirement already satisfied: pandas>=2.0 in /usr/local/lib/python3.10/dist-packages (from dask[dataframe]) (2.2.2)\n",
            "Requirement already satisfied: dask-expr<1.2,>=1.1 in /usr/local/lib/python3.10/dist-packages (from dask[dataframe]) (1.1.16)\n",
            "Requirement already satisfied: pyarrow>=14.0.1 in /usr/local/lib/python3.10/dist-packages (from dask-expr<1.2,>=1.1->dask[dataframe]) (17.0.0)\n",
            "Requirement already satisfied: zipp>=3.20 in /usr/local/lib/python3.10/dist-packages (from importlib-metadata>=4.13.0->dask[dataframe]) (3.21.0)\n",
            "Requirement already satisfied: numpy>=1.22.4 in /usr/local/lib/python3.10/dist-packages (from pandas>=2.0->dask[dataframe]) (1.26.4)\n",
            "Requirement already satisfied: python-dateutil>=2.8.2 in /usr/local/lib/python3.10/dist-packages (from pandas>=2.0->dask[dataframe]) (2.8.2)\n",
            "Requirement already satisfied: pytz>=2020.1 in /usr/local/lib/python3.10/dist-packages (from pandas>=2.0->dask[dataframe]) (2024.2)\n",
            "Requirement already satisfied: tzdata>=2022.7 in /usr/local/lib/python3.10/dist-packages (from pandas>=2.0->dask[dataframe]) (2024.2)\n",
            "Requirement already satisfied: locket in /usr/local/lib/python3.10/dist-packages (from partd>=1.4.0->dask[dataframe]) (1.0.0)\n",
            "Requirement already satisfied: six>=1.5 in /usr/local/lib/python3.10/dist-packages (from python-dateutil>=2.8.2->pandas>=2.0->dask[dataframe]) (1.17.0)\n"
          ]
        }
      ]
    },
    {
      "cell_type": "code",
      "source": [
        "from google.colab import drive\n",
        "drive.mount('/content/drive')\n",
        "! cd '/content/drive/MyDrive/Mirthe_Supervision /Paper#3/BAF'\n"
      ],
      "metadata": {
        "colab": {
          "base_uri": "https://localhost:8080/"
        },
        "id": "L4pLQWb0JbOa",
        "outputId": "a19df50e-751e-475f-dbaf-99cc230eb412"
      },
      "execution_count": 76,
      "outputs": [
        {
          "output_type": "stream",
          "name": "stdout",
          "text": [
            "Drive already mounted at /content/drive; to attempt to forcibly remount, call drive.mount(\"/content/drive\", force_remount=True).\n"
          ]
        }
      ]
    },
    {
      "cell_type": "markdown",
      "source": [
        "# LOAD DATA & MODEL"
      ],
      "metadata": {
        "id": "XJMqPwdAKX1j"
      }
    },
    {
      "cell_type": "code",
      "source": [
        "base_path = '/content/drive/MyDrive/Mirthe_Supervision /Paper#3/BAF/parquet data'\n",
        "\n",
        "extension = \"parquet\" #for smaller \"parquet\" depending on the downloaded file\n",
        "data_paths = glob.glob(f\"{base_path}/*.{extension}\")\n",
        "\n",
        "def read_dataset(path, ext = extension):\n",
        "    if ext == \"csv\":\n",
        "      return pd.read_csv(path)\n",
        "    elif ext == \"parquet\":\n",
        "      return pd.read_parquet(path)\n",
        "    else:\n",
        "      raise ValueError(f\"Unsupported file extension: {ext}\")\n",
        "\n",
        "# Extract variant name from the file path (without the extension)\n",
        "def get_variant(path):\n",
        "    return os.path.basename(path).split(\".\")[0]\n",
        "\n",
        "# Dictionary comprehension to read all CSV files into a dictionary of DataFrames\n",
        "dataframes = {\n",
        "    get_variant(path): read_dataset(path) for path in data_paths\n",
        "}\n",
        "print(f\"Loaded datasets: {list(dataframes.keys())}\")\n",
        "\n",
        "datasets_paths = {\n",
        "    \"Base\": base_path + \"/Base.parquet\", # sampled to best represent original dataset\n",
        "    \"Variant I\": base_path + \"/Variant I.parquet\", # higher group size disparity than base - reducing the size of the minority group from approx 20 - 10% of the dataset\n",
        "    \"Variant II\": base_path + \"/Variant II.parquet\", # higher prevalence disparity than base - one group has 5 x the fraud detection rate of the other while group sizes are equal\n",
        "    \"Variant III\": base_path + \"/Variant III.parquet\", # better separability for one of the groups -\n",
        "    \"Variant IV\": base_path + \"/Variant IV.parquet\", # higher prevalence disparity in train\n",
        "    \"Variant V\": base_path + \"/Variant V.parquet\", # better separability in train for one of the groups\n",
        "}\n"
      ],
      "metadata": {
        "colab": {
          "base_uri": "https://localhost:8080/"
        },
        "id": "neIazZ_YKW4U",
        "outputId": "b38f8d31-698d-4578-fb14-ad04100d601e"
      },
      "execution_count": 77,
      "outputs": [
        {
          "output_type": "stream",
          "name": "stdout",
          "text": [
            "Loaded datasets: ['Base', 'Variant I', 'Variant II', 'Variant III', 'Variant IV', 'Variant V']\n"
          ]
        }
      ]
    },
    {
      "cell_type": "markdown",
      "source": [
        "load best light gbm model from variant 2"
      ],
      "metadata": {
        "id": "X1FRyv0BMCa5"
      }
    },
    {
      "cell_type": "code",
      "source": [
        "'''# directory containing the model files\n",
        "model_dir = '/content/drive/MyDrive/Mirthe_Supervision /Paper#3/BAF/Best Model per Variant/Accuracy'\n",
        "\n",
        "# Get list of all model files in the directory\n",
        "model_files = glob.glob(os.path.join(model_dir, '*.pkl'))\n",
        "\n",
        "# Dictionary to store loaded models\n",
        "models = {}\n",
        "\n",
        "# Load all models from the directory and save them to the dictionary\n",
        "for model_file in model_files:\n",
        "    # Load the model\n",
        "    with open(model_file, 'rb') as f:\n",
        "        model = joblib.load(f)\n",
        "\n",
        "    # Extract the model name from the file path (without extension)\n",
        "    model_name = os.path.basename(model_file).split('.')[0]\n",
        "\n",
        "    # Add the model to the dictionary\n",
        "    models[model_name] = model\n",
        "\n",
        "    # Optional: Save the model back (though it seems redundant here)\n",
        "    save_path = os.path.join(model_dir, f'{model_name}.pkl')\n",
        "    joblib.dump(model, save_path)\n",
        "\n",
        "    print(f\"Model '{model_name}' loaded and saved to: {save_path}\")\n",
        "\n",
        "# Accessing the best model for variant 2\n",
        "modelv2 = models.get(\"model_Variant II_top_4\")\n",
        "\n",
        "print(modelv2)'''"
      ],
      "metadata": {
        "colab": {
          "base_uri": "https://localhost:8080/",
          "height": 1000
        },
        "id": "7TPNV8ABKsLt",
        "outputId": "38ad0bcc-a087-4b2f-c48d-5b25ff5c20b7"
      },
      "execution_count": 78,
      "outputs": [
        {
          "output_type": "execute_result",
          "data": {
            "text/plain": [
              "'# directory containing the model files\\nmodel_dir = \\'/content/drive/MyDrive/Mirthe_Supervision /Paper#3/BAF/Best Model per Variant/Accuracy\\'\\n\\n# Get list of all model files in the directory\\nmodel_files = glob.glob(os.path.join(model_dir, \\'*.pkl\\'))\\n\\n# Dictionary to store loaded models\\nmodels = {}\\n\\n# Load all models from the directory and save them to the dictionary\\nfor model_file in model_files:\\n    # Load the model\\n    with open(model_file, \\'rb\\') as f:\\n        model = joblib.load(f)\\n\\n    # Extract the model name from the file path (without extension)\\n    model_name = os.path.basename(model_file).split(\\'.\\')[0]\\n\\n    # Add the model to the dictionary\\n    models[model_name] = model\\n\\n    # Optional: Save the model back (though it seems redundant here)\\n    save_path = os.path.join(model_dir, f\\'{model_name}.pkl\\')\\n    joblib.dump(model, save_path)\\n\\n    print(f\"Model \\'{model_name}\\' loaded and saved to: {save_path}\")\\n\\n# Accessing the best model for variant 2\\nmodelv2 = models.get(\"model_Variant II_top_4\")\\n\\nprint(modelv2)'"
            ],
            "application/vnd.google.colaboratory.intrinsic+json": {
              "type": "string"
            }
          },
          "metadata": {},
          "execution_count": 78
        }
      ]
    },
    {
      "cell_type": "markdown",
      "source": [
        "# Explore data"
      ],
      "metadata": {
        "id": "WX2IA38aMY6l"
      }
    },
    {
      "cell_type": "code",
      "source": [
        "#rename dataset variant 2 and create a copy\n",
        "v2 = dataframes[\"Variant II\"]\n",
        "v2_old = v2.copy()"
      ],
      "metadata": {
        "id": "_bSoNyKtMd1-"
      },
      "execution_count": 79,
      "outputs": []
    },
    {
      "cell_type": "code",
      "source": [
        "pd.set_option('display.max_columns', 50) # Increase the maximum number of columns displayed in Pandas to 50\n",
        "pd.set_option('display.max_rows', 50)\n",
        "v2.info()"
      ],
      "metadata": {
        "colab": {
          "base_uri": "https://localhost:8080/"
        },
        "id": "wUpuRlBjMebe",
        "outputId": "49a4ba16-7161-49f3-b55d-14d9c21a1564"
      },
      "execution_count": 80,
      "outputs": [
        {
          "output_type": "stream",
          "name": "stdout",
          "text": [
            "<class 'pandas.core.frame.DataFrame'>\n",
            "RangeIndex: 1000000 entries, 0 to 999999\n",
            "Data columns (total 32 columns):\n",
            " #   Column                            Non-Null Count    Dtype  \n",
            "---  ------                            --------------    -----  \n",
            " 0   fraud_bool                        1000000 non-null  int64  \n",
            " 1   income                            1000000 non-null  float64\n",
            " 2   name_email_similarity             1000000 non-null  float64\n",
            " 3   prev_address_months_count         1000000 non-null  int64  \n",
            " 4   current_address_months_count      1000000 non-null  int64  \n",
            " 5   customer_age                      1000000 non-null  int64  \n",
            " 6   days_since_request                1000000 non-null  float64\n",
            " 7   intended_balcon_amount            1000000 non-null  float64\n",
            " 8   payment_type                      1000000 non-null  object \n",
            " 9   zip_count_4w                      1000000 non-null  int64  \n",
            " 10  velocity_6h                       1000000 non-null  float64\n",
            " 11  velocity_24h                      1000000 non-null  float64\n",
            " 12  velocity_4w                       1000000 non-null  float64\n",
            " 13  bank_branch_count_8w              1000000 non-null  int64  \n",
            " 14  date_of_birth_distinct_emails_4w  1000000 non-null  int64  \n",
            " 15  employment_status                 1000000 non-null  object \n",
            " 16  credit_risk_score                 1000000 non-null  int64  \n",
            " 17  email_is_free                     1000000 non-null  int64  \n",
            " 18  housing_status                    1000000 non-null  object \n",
            " 19  phone_home_valid                  1000000 non-null  int64  \n",
            " 20  phone_mobile_valid                1000000 non-null  int64  \n",
            " 21  bank_months_count                 1000000 non-null  int64  \n",
            " 22  has_other_cards                   1000000 non-null  int64  \n",
            " 23  proposed_credit_limit             1000000 non-null  float64\n",
            " 24  foreign_request                   1000000 non-null  int64  \n",
            " 25  source                            1000000 non-null  object \n",
            " 26  session_length_in_minutes         1000000 non-null  float64\n",
            " 27  device_os                         1000000 non-null  object \n",
            " 28  keep_alive_session                1000000 non-null  int64  \n",
            " 29  device_distinct_emails_8w         1000000 non-null  int64  \n",
            " 30  device_fraud_count                1000000 non-null  int64  \n",
            " 31  month                             1000000 non-null  int64  \n",
            "dtypes: float64(9), int64(18), object(5)\n",
            "memory usage: 244.1+ MB\n"
          ]
        }
      ]
    },
    {
      "cell_type": "code",
      "source": [
        "v2['payment_type'].unique() #remove because anonymized\n",
        "v2['days_since_request'].unique() #remove because unclear values"
      ],
      "metadata": {
        "colab": {
          "base_uri": "https://localhost:8080/"
        },
        "id": "vsqk1Jm3Qly0",
        "outputId": "60d65a8d-97ca-4d1d-ddb6-7e962b2d87ae"
      },
      "execution_count": 81,
      "outputs": [
        {
          "output_type": "execute_result",
          "data": {
            "text/plain": [
              "array([0.01673985, 0.01900183, 0.04706417, ..., 0.03555377, 0.02066269,\n",
              "       0.0074784 ])"
            ]
          },
          "metadata": {},
          "execution_count": 81
        }
      ]
    },
    {
      "cell_type": "code",
      "source": [
        "print(v2['days_since_request'])"
      ],
      "metadata": {
        "colab": {
          "base_uri": "https://localhost:8080/"
        },
        "id": "jsTgORz1RPpN",
        "outputId": "76c19a26-344c-4e2e-b125-0a5da4a1cc1a"
      },
      "execution_count": 82,
      "outputs": [
        {
          "output_type": "stream",
          "name": "stdout",
          "text": [
            "0         0.016740\n",
            "1         0.019002\n",
            "2         0.047064\n",
            "3         0.008007\n",
            "4         2.513544\n",
            "            ...   \n",
            "999995    0.001835\n",
            "999996    0.023952\n",
            "999997    0.035554\n",
            "999998    0.020663\n",
            "999999    0.007478\n",
            "Name: days_since_request, Length: 1000000, dtype: float64\n"
          ]
        }
      ]
    },
    {
      "cell_type": "code",
      "source": [
        "v2_old['source'].unique()\n",
        "v2_old['device_os'].unique()\n",
        "v2_old['keep_alive_session'].unique()\n",
        "#v2_old['device_fraud_count'].unique()"
      ],
      "metadata": {
        "colab": {
          "base_uri": "https://localhost:8080/"
        },
        "id": "vlhNYX2fRyMQ",
        "outputId": "a2873c76-4e0a-4087-ebd1-c2d0b7251a8c"
      },
      "execution_count": 83,
      "outputs": [
        {
          "output_type": "execute_result",
          "data": {
            "text/plain": [
              "array([0, 1])"
            ]
          },
          "metadata": {},
          "execution_count": 83
        }
      ]
    },
    {
      "cell_type": "code",
      "source": [
        "1 in v2_old['device_fraud_count'].unique()"
      ],
      "metadata": {
        "colab": {
          "base_uri": "https://localhost:8080/"
        },
        "id": "TMJk5viqdtGL",
        "outputId": "7f238b64-f8f5-4b24-dadb-3de9f628e582"
      },
      "execution_count": 84,
      "outputs": [
        {
          "output_type": "execute_result",
          "data": {
            "text/plain": [
              "False"
            ]
          },
          "metadata": {},
          "execution_count": 84
        }
      ]
    },
    {
      "cell_type": "markdown",
      "source": [
        "how to deal with missing values"
      ],
      "metadata": {
        "id": "Sgmpuc-jUXkL"
      }
    },
    {
      "cell_type": "markdown",
      "source": [
        "Master dataset"
      ],
      "metadata": {
        "id": "3FWW5CM7Mba0"
      }
    },
    {
      "cell_type": "code",
      "source": [
        "#FEATURES\n",
        "META = ['clusters', 'new_clusters']\n",
        "ERROR = ['errors', 'TP', 'TN', 'FN', 'FP']\n",
        "REG = ['bank_branch_count_8w', 'credit_risk_score', 'source', 'device_os','month', 'session_length_in_minutes', 'email_is_free', 'proposed_credit_limit', 'name_email_similarity',\n",
        "      'zip_count_4w', 'date_of_birth_distinct_emails_4w', 'phone_mobile_valid', 'has_other_cards', 'foreign_request']\n",
        "SEN = ['customer_age', 'income'] #protected attributes in BAF paper\n",
        "DUMMY = ['']\n",
        "\n",
        "#FEATURES SCALED\n",
        "ERROR_scaled = ['errors_scaled']\n",
        "REG_scaled = ['bank_branch_count_8w_scaled', 'credit_risk_score_scaled', 'source_scaled', 'device_os_scaled','month_scaled', 'session_length_in_minutes_scaled',\n",
        "              'email_is_free_scaled', 'proposed_credit_limit_scaled', 'name_email_similarity_scaled', 'zip_count_4w_scaled',\n",
        "              'date_of_birth_distinct_emails_4w_scaled', 'phone_home_valid_scaled',\n",
        "              'has_other_cards_scaled', 'foreign_request_scaled']\n",
        "SEN_scaled = ['customer_age_scaled', 'income_scaled']\n",
        "DUMMY_scaled = ['']\n",
        "\n",
        "#SHAP FEATURES\n",
        "SHAP_REG = ['']\n",
        "SHAP_SEN = ['']\n",
        "SHAP_DUMMY = ['']\n",
        "\n",
        "#SHAP FEATURES SCALED\n",
        "SHAP_REG_scaled = ['']\n",
        "SHAP_DUMMY_scaled = ['']\n",
        "\n",
        "'''removed features = 'device_fraud_count', 'intended_balcon_amount', 'payment_type', 'days_since_request',\n",
        "'velocity_6h', 'velocity_24h', 'velocity_4w', 'keep_alive_session', 'prev_address_months_count', 'current_address_months_count', 'phone_home_valid', 'bank_months_count', 'device_distinct_emails_8w', 'housing_status', 'employment_status' '''"
      ],
      "metadata": {
        "colab": {
          "base_uri": "https://localhost:8080/",
          "height": 55
        },
        "id": "VMmJHJ07MqTu",
        "outputId": "d9370ce4-95b9-469f-b387-fe5e54dcab02"
      },
      "execution_count": 85,
      "outputs": [
        {
          "output_type": "execute_result",
          "data": {
            "text/plain": [
              "\"removed features = 'device_fraud_count', 'intended_balcon_amount', 'payment_type', 'days_since_request', \\n'velocity_6h', 'velocity_24h', 'velocity_4w', 'keep_alive_session', 'prev_address_months_count', 'current_address_months_count', 'phone_home_valid', 'bank_months_count', 'device_distinct_emails_8w', 'housing_status', 'employment_status' \""
            ],
            "application/vnd.google.colaboratory.intrinsic+json": {
              "type": "string"
            }
          },
          "metadata": {},
          "execution_count": 85
        }
      ]
    },
    {
      "cell_type": "code",
      "source": [
        "v2_old['housing_status'].unique()"
      ],
      "metadata": {
        "colab": {
          "base_uri": "https://localhost:8080/"
        },
        "id": "JrFheRIP3X8l",
        "outputId": "de6fab27-4016-4f6c-d219-73596399233b"
      },
      "execution_count": 86,
      "outputs": [
        {
          "output_type": "execute_result",
          "data": {
            "text/plain": [
              "array(['BC', 'BA', 'BE', 'BB', 'BD', 'BF', 'BG'], dtype=object)"
            ]
          },
          "metadata": {},
          "execution_count": 86
        }
      ]
    },
    {
      "cell_type": "code",
      "source": [
        "v2_old['employment_status'].unique()"
      ],
      "metadata": {
        "colab": {
          "base_uri": "https://localhost:8080/"
        },
        "id": "nST4zNjB3NuU",
        "outputId": "26b99857-51ba-4238-bf62-571c57c9fa4e"
      },
      "execution_count": 87,
      "outputs": [
        {
          "output_type": "execute_result",
          "data": {
            "text/plain": [
              "array(['CB', 'CA', 'CE', 'CD', 'CC', 'CF', 'CG'], dtype=object)"
            ]
          },
          "metadata": {},
          "execution_count": 87
        }
      ]
    },
    {
      "cell_type": "code",
      "source": [
        "v2_old['source'].unique()"
      ],
      "metadata": {
        "colab": {
          "base_uri": "https://localhost:8080/"
        },
        "id": "e07KliEp3mKn",
        "outputId": "5dceeef4-5d6b-41fa-cf50-d32ec2696335"
      },
      "execution_count": 88,
      "outputs": [
        {
          "output_type": "execute_result",
          "data": {
            "text/plain": [
              "array(['INTERNET', 'TELEAPP'], dtype=object)"
            ]
          },
          "metadata": {},
          "execution_count": 88
        }
      ]
    },
    {
      "cell_type": "code",
      "source": [
        "v2_old['device_os'].unique()"
      ],
      "metadata": {
        "colab": {
          "base_uri": "https://localhost:8080/"
        },
        "id": "n_ZNnpfjMX7j",
        "outputId": "de84a651-b499-45ec-9d38-2dfcb2b988be"
      },
      "execution_count": 95,
      "outputs": [
        {
          "output_type": "execute_result",
          "data": {
            "text/plain": [
              "array(['other', 'macintosh', 'linux', 'windows', 'x11'], dtype=object)"
            ]
          },
          "metadata": {},
          "execution_count": 95
        }
      ]
    },
    {
      "cell_type": "markdown",
      "source": [
        "Remove features"
      ],
      "metadata": {
        "id": "MnrVb8tyMKQl"
      }
    },
    {
      "cell_type": "code",
      "source": [
        "features_to_remove = ['device_fraud_count', 'intended_balcon_amount', 'payment_type', 'days_since_request',\n",
        "'velocity_6h', 'velocity_24h', 'velocity_4w', 'keep_alive_session', 'prev_address_months_count', 'current_address_months_count', 'phone_home_valid', 'bank_months_count', 'device_distinct_emails_8w', 'housing_status', 'employment_status' ]\n",
        "\n",
        "v2 = v2.drop(columns = features_to_remove)"
      ],
      "metadata": {
        "id": "4jbrTmtZVva0"
      },
      "execution_count": 89,
      "outputs": []
    },
    {
      "cell_type": "code",
      "source": [
        "v2.info()"
      ],
      "metadata": {
        "colab": {
          "base_uri": "https://localhost:8080/"
        },
        "id": "OpjxnptjWT6Q",
        "outputId": "41bbc807-abc0-4276-c38a-8e606e7abeb6"
      },
      "execution_count": 90,
      "outputs": [
        {
          "output_type": "stream",
          "name": "stdout",
          "text": [
            "<class 'pandas.core.frame.DataFrame'>\n",
            "RangeIndex: 1000000 entries, 0 to 999999\n",
            "Data columns (total 17 columns):\n",
            " #   Column                            Non-Null Count    Dtype  \n",
            "---  ------                            --------------    -----  \n",
            " 0   fraud_bool                        1000000 non-null  int64  \n",
            " 1   income                            1000000 non-null  float64\n",
            " 2   name_email_similarity             1000000 non-null  float64\n",
            " 3   customer_age                      1000000 non-null  int64  \n",
            " 4   zip_count_4w                      1000000 non-null  int64  \n",
            " 5   bank_branch_count_8w              1000000 non-null  int64  \n",
            " 6   date_of_birth_distinct_emails_4w  1000000 non-null  int64  \n",
            " 7   credit_risk_score                 1000000 non-null  int64  \n",
            " 8   email_is_free                     1000000 non-null  int64  \n",
            " 9   phone_mobile_valid                1000000 non-null  int64  \n",
            " 10  has_other_cards                   1000000 non-null  int64  \n",
            " 11  proposed_credit_limit             1000000 non-null  float64\n",
            " 12  foreign_request                   1000000 non-null  int64  \n",
            " 13  source                            1000000 non-null  object \n",
            " 14  session_length_in_minutes         1000000 non-null  float64\n",
            " 15  device_os                         1000000 non-null  object \n",
            " 16  month                             1000000 non-null  int64  \n",
            "dtypes: float64(4), int64(11), object(2)\n",
            "memory usage: 129.7+ MB\n"
          ]
        }
      ]
    },
    {
      "cell_type": "code",
      "source": [
        "#get a smaller sample\n",
        "v2_sample = v2.sample(n= 8000, random_state = 42)"
      ],
      "metadata": {
        "id": "RC5wJD3ggjWH"
      },
      "execution_count": 91,
      "outputs": []
    },
    {
      "cell_type": "code",
      "source": [
        "v2_sample.info()"
      ],
      "metadata": {
        "colab": {
          "base_uri": "https://localhost:8080/"
        },
        "id": "2ENg1TLLgy-C",
        "outputId": "fd73ce93-f854-453b-ffe0-953af91040a4"
      },
      "execution_count": 92,
      "outputs": [
        {
          "output_type": "stream",
          "name": "stdout",
          "text": [
            "<class 'pandas.core.frame.DataFrame'>\n",
            "Index: 8000 entries, 987231 to 534950\n",
            "Data columns (total 17 columns):\n",
            " #   Column                            Non-Null Count  Dtype  \n",
            "---  ------                            --------------  -----  \n",
            " 0   fraud_bool                        8000 non-null   int64  \n",
            " 1   income                            8000 non-null   float64\n",
            " 2   name_email_similarity             8000 non-null   float64\n",
            " 3   customer_age                      8000 non-null   int64  \n",
            " 4   zip_count_4w                      8000 non-null   int64  \n",
            " 5   bank_branch_count_8w              8000 non-null   int64  \n",
            " 6   date_of_birth_distinct_emails_4w  8000 non-null   int64  \n",
            " 7   credit_risk_score                 8000 non-null   int64  \n",
            " 8   email_is_free                     8000 non-null   int64  \n",
            " 9   phone_mobile_valid                8000 non-null   int64  \n",
            " 10  has_other_cards                   8000 non-null   int64  \n",
            " 11  proposed_credit_limit             8000 non-null   float64\n",
            " 12  foreign_request                   8000 non-null   int64  \n",
            " 13  source                            8000 non-null   object \n",
            " 14  session_length_in_minutes         8000 non-null   float64\n",
            " 15  device_os                         8000 non-null   object \n",
            " 16  month                             8000 non-null   int64  \n",
            "dtypes: float64(4), int64(11), object(2)\n",
            "memory usage: 1.1+ MB\n"
          ]
        }
      ]
    },
    {
      "cell_type": "code",
      "source": [
        "'''missing_values = v2_sample.isna()\n",
        "print(missing_values)'''"
      ],
      "metadata": {
        "colab": {
          "base_uri": "https://localhost:8080/",
          "height": 36
        },
        "id": "MeQj0gG90WmU",
        "outputId": "7d299b17-5223-4ee5-d620-5592d5772a8e"
      },
      "execution_count": 93,
      "outputs": [
        {
          "output_type": "execute_result",
          "data": {
            "text/plain": [
              "'missing_values = v2_sample.isna()\\nprint(missing_values)'"
            ],
            "application/vnd.google.colaboratory.intrinsic+json": {
              "type": "string"
            }
          },
          "metadata": {},
          "execution_count": 93
        }
      ]
    },
    {
      "cell_type": "code",
      "source": [
        "print(v2_sample.loc[534950])"
      ],
      "metadata": {
        "colab": {
          "base_uri": "https://localhost:8080/"
        },
        "id": "8EhvJvf_04fk",
        "outputId": "344e62c5-dc3f-462b-d611-760131911b2e"
      },
      "execution_count": 94,
      "outputs": [
        {
          "output_type": "stream",
          "name": "stdout",
          "text": [
            "fraud_bool                                  0\n",
            "income                                    0.6\n",
            "name_email_similarity                0.885378\n",
            "customer_age                               40\n",
            "zip_count_4w                             1870\n",
            "bank_branch_count_8w                        6\n",
            "date_of_birth_distinct_emails_4w           11\n",
            "credit_risk_score                          99\n",
            "email_is_free                               1\n",
            "phone_mobile_valid                          1\n",
            "has_other_cards                             1\n",
            "proposed_credit_limit                   200.0\n",
            "foreign_request                             0\n",
            "source                               INTERNET\n",
            "session_length_in_minutes           13.034532\n",
            "device_os                               linux\n",
            "month                                       3\n",
            "Name: 534950, dtype: object\n"
          ]
        }
      ]
    },
    {
      "cell_type": "markdown",
      "source": [
        "Get dummies for objects"
      ],
      "metadata": {
        "id": "QNpgB08vMfUN"
      }
    },
    {
      "cell_type": "code",
      "source": [
        "dummy_cols = ['source', 'device_os']\n",
        "v2_sample = pd.get_dummies(v2_sample, columns = dummy_cols)\n",
        "v2_sample.info()"
      ],
      "metadata": {
        "colab": {
          "base_uri": "https://localhost:8080/"
        },
        "id": "8CDVUOW2MeZJ",
        "outputId": "1d24710d-ed3b-481b-eb7e-7d3ecc34a490"
      },
      "execution_count": 96,
      "outputs": [
        {
          "output_type": "stream",
          "name": "stdout",
          "text": [
            "<class 'pandas.core.frame.DataFrame'>\n",
            "Index: 8000 entries, 987231 to 534950\n",
            "Data columns (total 22 columns):\n",
            " #   Column                            Non-Null Count  Dtype  \n",
            "---  ------                            --------------  -----  \n",
            " 0   fraud_bool                        8000 non-null   int64  \n",
            " 1   income                            8000 non-null   float64\n",
            " 2   name_email_similarity             8000 non-null   float64\n",
            " 3   customer_age                      8000 non-null   int64  \n",
            " 4   zip_count_4w                      8000 non-null   int64  \n",
            " 5   bank_branch_count_8w              8000 non-null   int64  \n",
            " 6   date_of_birth_distinct_emails_4w  8000 non-null   int64  \n",
            " 7   credit_risk_score                 8000 non-null   int64  \n",
            " 8   email_is_free                     8000 non-null   int64  \n",
            " 9   phone_mobile_valid                8000 non-null   int64  \n",
            " 10  has_other_cards                   8000 non-null   int64  \n",
            " 11  proposed_credit_limit             8000 non-null   float64\n",
            " 12  foreign_request                   8000 non-null   int64  \n",
            " 13  session_length_in_minutes         8000 non-null   float64\n",
            " 14  month                             8000 non-null   int64  \n",
            " 15  source_INTERNET                   8000 non-null   bool   \n",
            " 16  source_TELEAPP                    8000 non-null   bool   \n",
            " 17  device_os_linux                   8000 non-null   bool   \n",
            " 18  device_os_macintosh               8000 non-null   bool   \n",
            " 19  device_os_other                   8000 non-null   bool   \n",
            " 20  device_os_windows                 8000 non-null   bool   \n",
            " 21  device_os_x11                     8000 non-null   bool   \n",
            "dtypes: bool(7), float64(4), int64(11)\n",
            "memory usage: 1.3 MB\n"
          ]
        }
      ]
    },
    {
      "cell_type": "markdown",
      "source": [
        "# Train RF"
      ],
      "metadata": {
        "id": "kdXyVF9hM5Du"
      }
    },
    {
      "cell_type": "code",
      "source": [],
      "metadata": {
        "id": "_wMqv5NeM7N_"
      },
      "execution_count": null,
      "outputs": []
    }
  ]
}