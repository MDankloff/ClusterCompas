{
  "nbformat": 4,
  "nbformat_minor": 0,
  "metadata": {
    "colab": {
      "provenance": [],
      "toc_visible": true,
      "include_colab_link": true
    },
    "kernelspec": {
      "name": "python3",
      "display_name": "Python 3"
    },
    "language_info": {
      "name": "python"
    }
  },
  "cells": [
    {
      "cell_type": "markdown",
      "metadata": {
        "id": "view-in-github",
        "colab_type": "text"
      },
      "source": [
        "<a href=\"https://colab.research.google.com/github/MDankloff/ClusterCompasCredit/blob/main/Pre-processing/German_credit_exploratory.ipynb\" target=\"_parent\"><img src=\"https://colab.research.google.com/assets/colab-badge.svg\" alt=\"Open In Colab\"/></a>"
      ]
    },
    {
      "cell_type": "markdown",
      "source": [
        "# Libraries"
      ],
      "metadata": {
        "id": "ywcbDsH-7wjC"
      }
    },
    {
      "cell_type": "code",
      "execution_count": 47,
      "metadata": {
        "id": "fZwkhUhXh-q4",
        "colab": {
          "base_uri": "https://localhost:8080/"
        },
        "outputId": "f5cc9fe9-7bf1-4148-edad-0fe52fc11329"
      },
      "outputs": [
        {
          "output_type": "stream",
          "name": "stdout",
          "text": [
            "Drive already mounted at /content/drive; to attempt to forcibly remount, call drive.mount(\"/content/drive\", force_remount=True).\n"
          ]
        }
      ],
      "source": [
        "import pandas as pd\n",
        "import numpy as np\n",
        "import matplotlib.pyplot as plt\n",
        "import seaborn as sns\n",
        "import random\n",
        "from sklearn.metrics import accuracy_score, confusion_matrix, roc_auc_score, roc_curve\n",
        "from sklearn.decomposition import PCA\n",
        "from sklearn.preprocessing import StandardScaler\n",
        "from sklearn.model_selection import train_test_split\n",
        "from sklearn.ensemble import RandomForestClassifier\n",
        "from sklearn import preprocessing\n",
        "from google.colab import drive\n",
        "drive.mount('/content/drive')\n",
        "! cd '/content/drive/MyDrive/Mirthe_Supervision /Paper#2/Colab Notebooks'"
      ]
    },
    {
      "cell_type": "markdown",
      "source": [
        "# Explore data"
      ],
      "metadata": {
        "id": "nz9HoHBiMi7x"
      }
    },
    {
      "cell_type": "code",
      "source": [
        "credit = pd.read_csv('/content/drive/MyDrive/Mirthe_Supervision /Paper#2/Colab Notebooks/german_processed.csv')\n",
        "credit.info()\n",
        "credit.head()"
      ],
      "metadata": {
        "colab": {
          "base_uri": "https://localhost:8080/",
          "height": 935
        },
        "id": "oQytJhW3i7PT",
        "outputId": "d20e47aa-d9d0-43ac-8ab3-0ebf03cc6e70"
      },
      "execution_count": 48,
      "outputs": [
        {
          "output_type": "stream",
          "name": "stdout",
          "text": [
            "<class 'pandas.core.frame.DataFrame'>\n",
            "RangeIndex: 1000 entries, 0 to 999\n",
            "Data columns (total 30 columns):\n",
            " #   Column                           Non-Null Count  Dtype \n",
            "---  ------                           --------------  ----- \n",
            " 0   GoodCustomer                     1000 non-null   int64 \n",
            " 1   Gender                           1000 non-null   object\n",
            " 2   ForeignWorker                    1000 non-null   int64 \n",
            " 3   Single                           1000 non-null   int64 \n",
            " 4   Age                              1000 non-null   int64 \n",
            " 5   LoanDuration                     1000 non-null   int64 \n",
            " 6   PurposeOfLoan                    1000 non-null   object\n",
            " 7   LoanAmount                       1000 non-null   int64 \n",
            " 8   LoanRateAsPercentOfIncome        1000 non-null   int64 \n",
            " 9   YearsAtCurrentHome               1000 non-null   int64 \n",
            " 10  NumberOfOtherLoansAtBank         1000 non-null   int64 \n",
            " 11  NumberOfLiableIndividuals        1000 non-null   int64 \n",
            " 12  HasTelephone                     1000 non-null   int64 \n",
            " 13  CheckingAccountBalance_geq_0     1000 non-null   int64 \n",
            " 14  CheckingAccountBalance_geq_200   1000 non-null   int64 \n",
            " 15  SavingsAccountBalance_geq_100    1000 non-null   int64 \n",
            " 16  SavingsAccountBalance_geq_500    1000 non-null   int64 \n",
            " 17  MissedPayments                   1000 non-null   int64 \n",
            " 18  NoCurrentLoan                    1000 non-null   int64 \n",
            " 19  CriticalAccountOrLoansElsewhere  1000 non-null   int64 \n",
            " 20  OtherLoansAtBank                 1000 non-null   int64 \n",
            " 21  OtherLoansAtStore                1000 non-null   int64 \n",
            " 22  HasCoapplicant                   1000 non-null   int64 \n",
            " 23  HasGuarantor                     1000 non-null   int64 \n",
            " 24  OwnsHouse                        1000 non-null   int64 \n",
            " 25  RentsHouse                       1000 non-null   int64 \n",
            " 26  Unemployed                       1000 non-null   int64 \n",
            " 27  YearsAtCurrentJob_lt_1           1000 non-null   int64 \n",
            " 28  YearsAtCurrentJob_geq_4          1000 non-null   int64 \n",
            " 29  JobClassIsSkilled                1000 non-null   int64 \n",
            "dtypes: int64(28), object(2)\n",
            "memory usage: 234.5+ KB\n"
          ]
        },
        {
          "output_type": "execute_result",
          "data": {
            "text/plain": [
              "   GoodCustomer  Gender  ForeignWorker  Single  Age  LoanDuration  \\\n",
              "0             1    Male              0       1   67             6   \n",
              "1            -1  Female              0       0   22            48   \n",
              "2             1    Male              0       1   49            12   \n",
              "3             1    Male              0       1   45            42   \n",
              "4            -1    Male              0       1   53            24   \n",
              "\n",
              "  PurposeOfLoan  LoanAmount  LoanRateAsPercentOfIncome  YearsAtCurrentHome  \\\n",
              "0   Electronics        1169                          4                   4   \n",
              "1   Electronics        5951                          2                   2   \n",
              "2     Education        2096                          2                   3   \n",
              "3     Furniture        7882                          2                   4   \n",
              "4        NewCar        4870                          3                   4   \n",
              "\n",
              "   ...  OtherLoansAtBank  OtherLoansAtStore  HasCoapplicant  HasGuarantor  \\\n",
              "0  ...                 0                  0               0             0   \n",
              "1  ...                 0                  0               0             0   \n",
              "2  ...                 0                  0               0             0   \n",
              "3  ...                 0                  0               0             1   \n",
              "4  ...                 0                  0               0             0   \n",
              "\n",
              "   OwnsHouse  RentsHouse  Unemployed  YearsAtCurrentJob_lt_1  \\\n",
              "0          1           0           0                       0   \n",
              "1          1           0           0                       0   \n",
              "2          1           0           0                       0   \n",
              "3          0           0           0                       0   \n",
              "4          0           0           0                       0   \n",
              "\n",
              "   YearsAtCurrentJob_geq_4  JobClassIsSkilled  \n",
              "0                        1                  1  \n",
              "1                        0                  1  \n",
              "2                        1                  0  \n",
              "3                        1                  1  \n",
              "4                        0                  1  \n",
              "\n",
              "[5 rows x 30 columns]"
            ],
            "text/html": [
              "\n",
              "  <div id=\"df-6115f64f-c8aa-4241-979e-de740e057d7e\" class=\"colab-df-container\">\n",
              "    <div>\n",
              "<style scoped>\n",
              "    .dataframe tbody tr th:only-of-type {\n",
              "        vertical-align: middle;\n",
              "    }\n",
              "\n",
              "    .dataframe tbody tr th {\n",
              "        vertical-align: top;\n",
              "    }\n",
              "\n",
              "    .dataframe thead th {\n",
              "        text-align: right;\n",
              "    }\n",
              "</style>\n",
              "<table border=\"1\" class=\"dataframe\">\n",
              "  <thead>\n",
              "    <tr style=\"text-align: right;\">\n",
              "      <th></th>\n",
              "      <th>GoodCustomer</th>\n",
              "      <th>Gender</th>\n",
              "      <th>ForeignWorker</th>\n",
              "      <th>Single</th>\n",
              "      <th>Age</th>\n",
              "      <th>LoanDuration</th>\n",
              "      <th>PurposeOfLoan</th>\n",
              "      <th>LoanAmount</th>\n",
              "      <th>LoanRateAsPercentOfIncome</th>\n",
              "      <th>YearsAtCurrentHome</th>\n",
              "      <th>...</th>\n",
              "      <th>OtherLoansAtBank</th>\n",
              "      <th>OtherLoansAtStore</th>\n",
              "      <th>HasCoapplicant</th>\n",
              "      <th>HasGuarantor</th>\n",
              "      <th>OwnsHouse</th>\n",
              "      <th>RentsHouse</th>\n",
              "      <th>Unemployed</th>\n",
              "      <th>YearsAtCurrentJob_lt_1</th>\n",
              "      <th>YearsAtCurrentJob_geq_4</th>\n",
              "      <th>JobClassIsSkilled</th>\n",
              "    </tr>\n",
              "  </thead>\n",
              "  <tbody>\n",
              "    <tr>\n",
              "      <th>0</th>\n",
              "      <td>1</td>\n",
              "      <td>Male</td>\n",
              "      <td>0</td>\n",
              "      <td>1</td>\n",
              "      <td>67</td>\n",
              "      <td>6</td>\n",
              "      <td>Electronics</td>\n",
              "      <td>1169</td>\n",
              "      <td>4</td>\n",
              "      <td>4</td>\n",
              "      <td>...</td>\n",
              "      <td>0</td>\n",
              "      <td>0</td>\n",
              "      <td>0</td>\n",
              "      <td>0</td>\n",
              "      <td>1</td>\n",
              "      <td>0</td>\n",
              "      <td>0</td>\n",
              "      <td>0</td>\n",
              "      <td>1</td>\n",
              "      <td>1</td>\n",
              "    </tr>\n",
              "    <tr>\n",
              "      <th>1</th>\n",
              "      <td>-1</td>\n",
              "      <td>Female</td>\n",
              "      <td>0</td>\n",
              "      <td>0</td>\n",
              "      <td>22</td>\n",
              "      <td>48</td>\n",
              "      <td>Electronics</td>\n",
              "      <td>5951</td>\n",
              "      <td>2</td>\n",
              "      <td>2</td>\n",
              "      <td>...</td>\n",
              "      <td>0</td>\n",
              "      <td>0</td>\n",
              "      <td>0</td>\n",
              "      <td>0</td>\n",
              "      <td>1</td>\n",
              "      <td>0</td>\n",
              "      <td>0</td>\n",
              "      <td>0</td>\n",
              "      <td>0</td>\n",
              "      <td>1</td>\n",
              "    </tr>\n",
              "    <tr>\n",
              "      <th>2</th>\n",
              "      <td>1</td>\n",
              "      <td>Male</td>\n",
              "      <td>0</td>\n",
              "      <td>1</td>\n",
              "      <td>49</td>\n",
              "      <td>12</td>\n",
              "      <td>Education</td>\n",
              "      <td>2096</td>\n",
              "      <td>2</td>\n",
              "      <td>3</td>\n",
              "      <td>...</td>\n",
              "      <td>0</td>\n",
              "      <td>0</td>\n",
              "      <td>0</td>\n",
              "      <td>0</td>\n",
              "      <td>1</td>\n",
              "      <td>0</td>\n",
              "      <td>0</td>\n",
              "      <td>0</td>\n",
              "      <td>1</td>\n",
              "      <td>0</td>\n",
              "    </tr>\n",
              "    <tr>\n",
              "      <th>3</th>\n",
              "      <td>1</td>\n",
              "      <td>Male</td>\n",
              "      <td>0</td>\n",
              "      <td>1</td>\n",
              "      <td>45</td>\n",
              "      <td>42</td>\n",
              "      <td>Furniture</td>\n",
              "      <td>7882</td>\n",
              "      <td>2</td>\n",
              "      <td>4</td>\n",
              "      <td>...</td>\n",
              "      <td>0</td>\n",
              "      <td>0</td>\n",
              "      <td>0</td>\n",
              "      <td>1</td>\n",
              "      <td>0</td>\n",
              "      <td>0</td>\n",
              "      <td>0</td>\n",
              "      <td>0</td>\n",
              "      <td>1</td>\n",
              "      <td>1</td>\n",
              "    </tr>\n",
              "    <tr>\n",
              "      <th>4</th>\n",
              "      <td>-1</td>\n",
              "      <td>Male</td>\n",
              "      <td>0</td>\n",
              "      <td>1</td>\n",
              "      <td>53</td>\n",
              "      <td>24</td>\n",
              "      <td>NewCar</td>\n",
              "      <td>4870</td>\n",
              "      <td>3</td>\n",
              "      <td>4</td>\n",
              "      <td>...</td>\n",
              "      <td>0</td>\n",
              "      <td>0</td>\n",
              "      <td>0</td>\n",
              "      <td>0</td>\n",
              "      <td>0</td>\n",
              "      <td>0</td>\n",
              "      <td>0</td>\n",
              "      <td>0</td>\n",
              "      <td>0</td>\n",
              "      <td>1</td>\n",
              "    </tr>\n",
              "  </tbody>\n",
              "</table>\n",
              "<p>5 rows × 30 columns</p>\n",
              "</div>\n",
              "    <div class=\"colab-df-buttons\">\n",
              "\n",
              "  <div class=\"colab-df-container\">\n",
              "    <button class=\"colab-df-convert\" onclick=\"convertToInteractive('df-6115f64f-c8aa-4241-979e-de740e057d7e')\"\n",
              "            title=\"Convert this dataframe to an interactive table.\"\n",
              "            style=\"display:none;\">\n",
              "\n",
              "  <svg xmlns=\"http://www.w3.org/2000/svg\" height=\"24px\" viewBox=\"0 -960 960 960\">\n",
              "    <path d=\"M120-120v-720h720v720H120Zm60-500h600v-160H180v160Zm220 220h160v-160H400v160Zm0 220h160v-160H400v160ZM180-400h160v-160H180v160Zm440 0h160v-160H620v160ZM180-180h160v-160H180v160Zm440 0h160v-160H620v160Z\"/>\n",
              "  </svg>\n",
              "    </button>\n",
              "\n",
              "  <style>\n",
              "    .colab-df-container {\n",
              "      display:flex;\n",
              "      gap: 12px;\n",
              "    }\n",
              "\n",
              "    .colab-df-convert {\n",
              "      background-color: #E8F0FE;\n",
              "      border: none;\n",
              "      border-radius: 50%;\n",
              "      cursor: pointer;\n",
              "      display: none;\n",
              "      fill: #1967D2;\n",
              "      height: 32px;\n",
              "      padding: 0 0 0 0;\n",
              "      width: 32px;\n",
              "    }\n",
              "\n",
              "    .colab-df-convert:hover {\n",
              "      background-color: #E2EBFA;\n",
              "      box-shadow: 0px 1px 2px rgba(60, 64, 67, 0.3), 0px 1px 3px 1px rgba(60, 64, 67, 0.15);\n",
              "      fill: #174EA6;\n",
              "    }\n",
              "\n",
              "    .colab-df-buttons div {\n",
              "      margin-bottom: 4px;\n",
              "    }\n",
              "\n",
              "    [theme=dark] .colab-df-convert {\n",
              "      background-color: #3B4455;\n",
              "      fill: #D2E3FC;\n",
              "    }\n",
              "\n",
              "    [theme=dark] .colab-df-convert:hover {\n",
              "      background-color: #434B5C;\n",
              "      box-shadow: 0px 1px 3px 1px rgba(0, 0, 0, 0.15);\n",
              "      filter: drop-shadow(0px 1px 2px rgba(0, 0, 0, 0.3));\n",
              "      fill: #FFFFFF;\n",
              "    }\n",
              "  </style>\n",
              "\n",
              "    <script>\n",
              "      const buttonEl =\n",
              "        document.querySelector('#df-6115f64f-c8aa-4241-979e-de740e057d7e button.colab-df-convert');\n",
              "      buttonEl.style.display =\n",
              "        google.colab.kernel.accessAllowed ? 'block' : 'none';\n",
              "\n",
              "      async function convertToInteractive(key) {\n",
              "        const element = document.querySelector('#df-6115f64f-c8aa-4241-979e-de740e057d7e');\n",
              "        const dataTable =\n",
              "          await google.colab.kernel.invokeFunction('convertToInteractive',\n",
              "                                                    [key], {});\n",
              "        if (!dataTable) return;\n",
              "\n",
              "        const docLinkHtml = 'Like what you see? Visit the ' +\n",
              "          '<a target=\"_blank\" href=https://colab.research.google.com/notebooks/data_table.ipynb>data table notebook</a>'\n",
              "          + ' to learn more about interactive tables.';\n",
              "        element.innerHTML = '';\n",
              "        dataTable['output_type'] = 'display_data';\n",
              "        await google.colab.output.renderOutput(dataTable, element);\n",
              "        const docLink = document.createElement('div');\n",
              "        docLink.innerHTML = docLinkHtml;\n",
              "        element.appendChild(docLink);\n",
              "      }\n",
              "    </script>\n",
              "  </div>\n",
              "\n",
              "\n",
              "<div id=\"df-26440dd2-d79c-46e9-bdb4-d5cd0c786096\">\n",
              "  <button class=\"colab-df-quickchart\" onclick=\"quickchart('df-26440dd2-d79c-46e9-bdb4-d5cd0c786096')\"\n",
              "            title=\"Suggest charts\"\n",
              "            style=\"display:none;\">\n",
              "\n",
              "<svg xmlns=\"http://www.w3.org/2000/svg\" height=\"24px\"viewBox=\"0 0 24 24\"\n",
              "     width=\"24px\">\n",
              "    <g>\n",
              "        <path d=\"M19 3H5c-1.1 0-2 .9-2 2v14c0 1.1.9 2 2 2h14c1.1 0 2-.9 2-2V5c0-1.1-.9-2-2-2zM9 17H7v-7h2v7zm4 0h-2V7h2v10zm4 0h-2v-4h2v4z\"/>\n",
              "    </g>\n",
              "</svg>\n",
              "  </button>\n",
              "\n",
              "<style>\n",
              "  .colab-df-quickchart {\n",
              "      --bg-color: #E8F0FE;\n",
              "      --fill-color: #1967D2;\n",
              "      --hover-bg-color: #E2EBFA;\n",
              "      --hover-fill-color: #174EA6;\n",
              "      --disabled-fill-color: #AAA;\n",
              "      --disabled-bg-color: #DDD;\n",
              "  }\n",
              "\n",
              "  [theme=dark] .colab-df-quickchart {\n",
              "      --bg-color: #3B4455;\n",
              "      --fill-color: #D2E3FC;\n",
              "      --hover-bg-color: #434B5C;\n",
              "      --hover-fill-color: #FFFFFF;\n",
              "      --disabled-bg-color: #3B4455;\n",
              "      --disabled-fill-color: #666;\n",
              "  }\n",
              "\n",
              "  .colab-df-quickchart {\n",
              "    background-color: var(--bg-color);\n",
              "    border: none;\n",
              "    border-radius: 50%;\n",
              "    cursor: pointer;\n",
              "    display: none;\n",
              "    fill: var(--fill-color);\n",
              "    height: 32px;\n",
              "    padding: 0;\n",
              "    width: 32px;\n",
              "  }\n",
              "\n",
              "  .colab-df-quickchart:hover {\n",
              "    background-color: var(--hover-bg-color);\n",
              "    box-shadow: 0 1px 2px rgba(60, 64, 67, 0.3), 0 1px 3px 1px rgba(60, 64, 67, 0.15);\n",
              "    fill: var(--button-hover-fill-color);\n",
              "  }\n",
              "\n",
              "  .colab-df-quickchart-complete:disabled,\n",
              "  .colab-df-quickchart-complete:disabled:hover {\n",
              "    background-color: var(--disabled-bg-color);\n",
              "    fill: var(--disabled-fill-color);\n",
              "    box-shadow: none;\n",
              "  }\n",
              "\n",
              "  .colab-df-spinner {\n",
              "    border: 2px solid var(--fill-color);\n",
              "    border-color: transparent;\n",
              "    border-bottom-color: var(--fill-color);\n",
              "    animation:\n",
              "      spin 1s steps(1) infinite;\n",
              "  }\n",
              "\n",
              "  @keyframes spin {\n",
              "    0% {\n",
              "      border-color: transparent;\n",
              "      border-bottom-color: var(--fill-color);\n",
              "      border-left-color: var(--fill-color);\n",
              "    }\n",
              "    20% {\n",
              "      border-color: transparent;\n",
              "      border-left-color: var(--fill-color);\n",
              "      border-top-color: var(--fill-color);\n",
              "    }\n",
              "    30% {\n",
              "      border-color: transparent;\n",
              "      border-left-color: var(--fill-color);\n",
              "      border-top-color: var(--fill-color);\n",
              "      border-right-color: var(--fill-color);\n",
              "    }\n",
              "    40% {\n",
              "      border-color: transparent;\n",
              "      border-right-color: var(--fill-color);\n",
              "      border-top-color: var(--fill-color);\n",
              "    }\n",
              "    60% {\n",
              "      border-color: transparent;\n",
              "      border-right-color: var(--fill-color);\n",
              "    }\n",
              "    80% {\n",
              "      border-color: transparent;\n",
              "      border-right-color: var(--fill-color);\n",
              "      border-bottom-color: var(--fill-color);\n",
              "    }\n",
              "    90% {\n",
              "      border-color: transparent;\n",
              "      border-bottom-color: var(--fill-color);\n",
              "    }\n",
              "  }\n",
              "</style>\n",
              "\n",
              "  <script>\n",
              "    async function quickchart(key) {\n",
              "      const quickchartButtonEl =\n",
              "        document.querySelector('#' + key + ' button');\n",
              "      quickchartButtonEl.disabled = true;  // To prevent multiple clicks.\n",
              "      quickchartButtonEl.classList.add('colab-df-spinner');\n",
              "      try {\n",
              "        const charts = await google.colab.kernel.invokeFunction(\n",
              "            'suggestCharts', [key], {});\n",
              "      } catch (error) {\n",
              "        console.error('Error during call to suggestCharts:', error);\n",
              "      }\n",
              "      quickchartButtonEl.classList.remove('colab-df-spinner');\n",
              "      quickchartButtonEl.classList.add('colab-df-quickchart-complete');\n",
              "    }\n",
              "    (() => {\n",
              "      let quickchartButtonEl =\n",
              "        document.querySelector('#df-26440dd2-d79c-46e9-bdb4-d5cd0c786096 button');\n",
              "      quickchartButtonEl.style.display =\n",
              "        google.colab.kernel.accessAllowed ? 'block' : 'none';\n",
              "    })();\n",
              "  </script>\n",
              "</div>\n",
              "\n",
              "    </div>\n",
              "  </div>\n"
            ],
            "application/vnd.google.colaboratory.intrinsic+json": {
              "type": "dataframe",
              "variable_name": "credit"
            }
          },
          "metadata": {},
          "execution_count": 48
        }
      ]
    },
    {
      "cell_type": "code",
      "source": [
        "credit['GoodCustomer'] = credit['GoodCustomer'].replace(-1,0)\n",
        "credit['GoodCustomer'].value_counts()"
      ],
      "metadata": {
        "id": "xwu9DbbY2OB3",
        "outputId": "3d60a781-5ad1-4570-bf7e-0d4fa0df548e",
        "colab": {
          "base_uri": "https://localhost:8080/",
          "height": 216
        }
      },
      "execution_count": 49,
      "outputs": [
        {
          "output_type": "execute_result",
          "data": {
            "text/plain": [
              "GoodCustomer\n",
              "1    700\n",
              "0    300\n",
              "Name: count, dtype: int64"
            ],
            "text/html": [
              "<div>\n",
              "<style scoped>\n",
              "    .dataframe tbody tr th:only-of-type {\n",
              "        vertical-align: middle;\n",
              "    }\n",
              "\n",
              "    .dataframe tbody tr th {\n",
              "        vertical-align: top;\n",
              "    }\n",
              "\n",
              "    .dataframe thead th {\n",
              "        text-align: right;\n",
              "    }\n",
              "</style>\n",
              "<table border=\"1\" class=\"dataframe\">\n",
              "  <thead>\n",
              "    <tr style=\"text-align: right;\">\n",
              "      <th></th>\n",
              "      <th>count</th>\n",
              "    </tr>\n",
              "    <tr>\n",
              "      <th>GoodCustomer</th>\n",
              "      <th></th>\n",
              "    </tr>\n",
              "  </thead>\n",
              "  <tbody>\n",
              "    <tr>\n",
              "      <th>1</th>\n",
              "      <td>700</td>\n",
              "    </tr>\n",
              "    <tr>\n",
              "      <th>0</th>\n",
              "      <td>300</td>\n",
              "    </tr>\n",
              "  </tbody>\n",
              "</table>\n",
              "</div><br><label><b>dtype:</b> int64</label>"
            ]
          },
          "metadata": {},
          "execution_count": 49
        }
      ]
    },
    {
      "cell_type": "code",
      "source": [
        "credit['PurposeOfLoan'].unique()\n",
        "credit['CheckingAccountBalance_geq_0'].unique()\n",
        "credit['ForeignWorker'].unique()\n",
        "credit['LoanDuration'].nunique()"
      ],
      "metadata": {
        "colab": {
          "base_uri": "https://localhost:8080/"
        },
        "id": "G1Z4O7s59LjU",
        "outputId": "12fc9496-2ad3-41cc-9b24-e0d9718a1e00"
      },
      "execution_count": 50,
      "outputs": [
        {
          "output_type": "execute_result",
          "data": {
            "text/plain": [
              "33"
            ]
          },
          "metadata": {},
          "execution_count": 50
        }
      ]
    },
    {
      "cell_type": "code",
      "source": [
        "risk_per_foreign_worker = credit.groupby('ForeignWorker')['GoodCustomer'].mean()\n",
        "risk_per_foreign_worker.plot(kind='bar', stacked=True)\n",
        "plt.title('Risk per Foreign worker')\n",
        "\n",
        "plt.xlabel('ForeignWorker')\n",
        "plt.ylabel('Risk')\n",
        "plt.legend(title='Risk')\n",
        "plt.show()"
      ],
      "metadata": {
        "colab": {
          "base_uri": "https://localhost:8080/",
          "height": 54
        },
        "id": "jSreEHSd-S_V",
        "outputId": "ed678533-4732-4993-fed2-6e089fc3b1cc"
      },
      "execution_count": 51,
      "outputs": [
        {
          "output_type": "display_data",
          "data": {
            "text/plain": [
              "<Figure size 640x480 with 1 Axes>"
            ],
            "image/png": "[encoded data removed]"
          },
          "metadata": {}
        }
      ]
    },
    {
      "cell_type": "code",
      "source": [
        "risk_per_gender = credit.groupby('Gender')['GoodCustomer'].mean()\n",
        "risk_per_gender.plot(kind='bar', stacked=True)\n",
        "plt.title('Risk per Gender')\n",
        "\n",
        "plt.xlabel('Gender')\n",
        "plt.ylabel('Risk')\n",
        "plt.legend(title='Risk')\n",
        "plt.show()"
      ],
      "metadata": {
        "colab": {
          "base_uri": "https://localhost:8080/",
          "height": 54
        },
        "id": "EmINiDqCfDEF",
        "outputId": "0c5ac111-e379-4de4-8e38-edabcc0aa473"
      },
      "execution_count": 52,
      "outputs": [
        {
          "output_type": "display_data",
          "data": {
            "text/plain": [
              "<Figure size 640x480 with 1 Axes>"
            ],
            "image/png": "[encoded data removed]"
          },
          "metadata": {}
        }
      ]
    },
    {
      "cell_type": "code",
      "source": [
        "risk_per_houseowner = credit.groupby('OwnsHouse')['GoodCustomer'].mean()\n",
        "risk_per_houseowner.plot(kind='bar', stacked=True)\n",
        "plt.title('Risk per Houseowner')\n",
        "\n",
        "plt.xlabel('OwnsHouse')\n",
        "plt.ylabel('Risk')"
      ],
      "metadata": {
        "colab": {
          "base_uri": "https://localhost:8080/",
          "height": 109
        },
        "id": "EMIfGe1-g42E",
        "outputId": "395094af-be6e-4708-9495-4548dd0b80c9"
      },
      "execution_count": 53,
      "outputs": [
        {
          "output_type": "execute_result",
          "data": {
            "text/plain": [
              "Text(0, 0.5, 'Risk')"
            ]
          },
          "metadata": {},
          "execution_count": 53
        },
        {
          "output_type": "display_data",
          "data": {
            "text/plain": [
              "<Figure size 640x480 with 1 Axes>"
            ],
            "image/png": "[encoded data removed]"
          },
          "metadata": {}
        }
      ]
    },
    {
      "cell_type": "code",
      "source": [
        "# Plot the distribution of 'Age' using a histogram with Seaborn\n",
        "sns.histplot(credit['Age'], kde=True)  # kde=True adds a kernel density estimate\n",
        "plt.title('Distribution of Age')\n",
        "plt.xlabel('Age')\n",
        "plt.ylabel('Frequency')\n",
        "plt.show()"
      ],
      "metadata": {
        "colab": {
          "base_uri": "https://localhost:8080/",
          "height": 54
        },
        "id": "gz_cU1pY3e5a",
        "outputId": "a192eb8a-2955-4e16-cb1e-9b89faa77a71"
      },
      "execution_count": 54,
      "outputs": [
        {
          "output_type": "display_data",
          "data": {
            "text/plain": [
              "<Figure size 640x480 with 1 Axes>"
            ],
            "image/png": "[encoded data removed]"
          },
          "metadata": {}
        }
      ]
    },
    {
      "cell_type": "markdown",
      "source": [
        "# Master dataset"
      ],
      "metadata": {
        "id": "EilzTmR6Mpml"
      }
    },
    {
      "cell_type": "code",
      "source": [
        "#Master Dataset\n",
        "#FEATURES\n",
        "META = ['clusters', 'new_clusters', 'Error_Type']\n",
        "ERROR = ['errors', 'TP', 'TN', 'FN', 'FP']\n",
        "REG = ['Age', 'Single', 'Unemployed', 'LoanAmount']\n",
        "#SEN = ['Gender_F', 'OwnsHouse'] #protected attributes\n",
        "DUMMY = ['Gender_F', 'OwnsHouse', 'ForeignWorker']\n",
        "\n",
        "#FEATURES SCALED\n",
        "ERROR_scaled = ['errors_scaled']\n",
        "REG_scaled = ['Age_scaled','Single_scaled', 'Unemployed_scaled',\n",
        "               'LoanAmount_scaled']\n",
        "#SEN_scaled = ['Gender_F_scaled', 'OwnsHouse_scaled']\n",
        "DUMMY_scaled = ['Gender_F_scaled', 'OwnsHouse_scaled','ForeignWorker_scaled']\n",
        "\n",
        "#SHAP FEATURES\n",
        "SHAP_REG = ['Shap_Age','Shap_Single','Shap_Unemployed', 'Shap_LoanAmount']\n",
        "#SHAP_SEN = ['Shap_Gender_F', 'Shap_OwnsHouse']\n",
        "SHAP_DUMMY = ['Shap_Gender_F', 'Shap_OwnsHouse','Shap_ForeignWorker']\n",
        "\n",
        "#SHAP FEATURES SCALED\n",
        "SHAP_REG_scaled = ['Shap_Age_scaled', 'Shap_Single_scaled', 'Shap_Unemployed_scaled',\n",
        "                   'Shap_LoanAmount_scaled']\n",
        "#SHAP_SEN_scaled = ['Shap_Gender_F_scaled', 'Shap_OwnsHouse_scaled']\n",
        "SHAP_DUMMY_scaled = ['Shap_Gender_F_scaled', 'Shap_OwnsHouse_scaled', 'Shap_ForeignWorker_scaled']\n",
        "\n",
        "\n",
        "'''removed_features = 'LoanDuration','PurposeOfLoan','LoanRateAsPercentOfIncome', 'YearsAtCurrentHome',\n",
        "'NumberOfOtherLoansAtBank', 'NumberOfLiableIndividuals', 'HasTelephone', 'CheckingAccountBalance_geq_0',\n",
        "'CheckingAccountBalance_geq_200', 'SavingsAccountBalance_geq_100', 'SavingsAccountBalance_geq_500', 'MissedPayments',\n",
        "'NoCurrentLoan', 'CriticalAccountOrLoansElsewhere', 'OtherLoansAtBank', 'OtherLoansAtStore', 'HasCoapplicant',\n",
        "'HasGuarantor', 'RentsHouse', 'YearsAtCurrentJob_lt_1', 'YearsAtCurrentJob_geq_4', 'JobClassIsSkilled' '''"
      ],
      "metadata": {
        "colab": {
          "base_uri": "https://localhost:8080/",
          "height": 1000
        },
        "id": "QPJxi9Z2MpeP",
        "outputId": "17f2de74-2522-4f41-a33b-c6ad25756928"
      },
      "execution_count": 55,
      "outputs": [
        {
          "output_type": "execute_result",
          "data": {
            "text/plain": [
              "\"removed_features = 'LoanDuration','PurposeOfLoan','LoanRateAsPercentOfIncome', 'YearsAtCurrentHome',\\n'NumberOfOtherLoansAtBank', 'NumberOfLiableIndividuals', 'HasTelephone', 'CheckingAccountBalance_geq_0',\\n'CheckingAccountBalance_geq_200', 'SavingsAccountBalance_geq_100', 'SavingsAccountBalance_geq_500', 'MissedPayments',\\n'NoCurrentLoan', 'CriticalAccountOrLoansElsewhere', 'OtherLoansAtBank', 'OtherLoansAtStore', 'HasCoapplicant',\\n'HasGuarantor', 'RentsHouse', 'YearsAtCurrentJob_lt_1', 'YearsAtCurrentJob_geq_4', 'JobClassIsSkilled' \""
            ],
            "application/vnd.google.colaboratory.intrinsic+json": {
              "type": "string"
            }
          },
          "metadata": {},
          "execution_count": 55
        }
      ]
    },
    {
      "cell_type": "code",
      "source": [
        "removed_features = ['LoanDuration','PurposeOfLoan','LoanRateAsPercentOfIncome', 'YearsAtCurrentHome',\n",
        "'NumberOfOtherLoansAtBank', 'NumberOfLiableIndividuals', 'HasTelephone', 'CheckingAccountBalance_geq_0',\n",
        "'CheckingAccountBalance_geq_200', 'SavingsAccountBalance_geq_100', 'SavingsAccountBalance_geq_500', 'MissedPayments',\n",
        "'NoCurrentLoan', 'CriticalAccountOrLoansElsewhere', 'OtherLoansAtBank', 'OtherLoansAtStore', 'HasCoapplicant',\n",
        "'HasGuarantor', 'RentsHouse', 'YearsAtCurrentJob_lt_1', 'YearsAtCurrentJob_geq_4', 'JobClassIsSkilled']\n",
        "\n",
        "credit = credit.drop(removed_features, axis =1)\n",
        "credit.info()"
      ],
      "metadata": {
        "colab": {
          "base_uri": "https://localhost:8080/"
        },
        "id": "NEvagUVJSS8H",
        "outputId": "9bd19f92-0e9a-4797-9fb3-ea6ce0e9ee22"
      },
      "execution_count": 56,
      "outputs": [
        {
          "output_type": "stream",
          "name": "stdout",
          "text": [
            "<class 'pandas.core.frame.DataFrame'>\n",
            "RangeIndex: 1000 entries, 0 to 999\n",
            "Data columns (total 8 columns):\n",
            " #   Column         Non-Null Count  Dtype \n",
            "---  ------         --------------  ----- \n",
            " 0   GoodCustomer   1000 non-null   int64 \n",
            " 1   Gender         1000 non-null   object\n",
            " 2   ForeignWorker  1000 non-null   int64 \n",
            " 3   Single         1000 non-null   int64 \n",
            " 4   Age            1000 non-null   int64 \n",
            " 5   LoanAmount     1000 non-null   int64 \n",
            " 6   OwnsHouse      1000 non-null   int64 \n",
            " 7   Unemployed     1000 non-null   int64 \n",
            "dtypes: int64(7), object(1)\n",
            "memory usage: 62.6+ KB\n"
          ]
        }
      ]
    },
    {
      "cell_type": "markdown",
      "source": [
        "Get dummies for gender"
      ],
      "metadata": {
        "id": "wDPBjpTQetf1"
      }
    },
    {
      "cell_type": "code",
      "source": [
        "credit['Gender_F'] = (credit['Gender'] == 'Female').astype(int)\n",
        "credit['Gender_M'] = (credit['Gender'] == 'Male').astype(int)\n",
        "credit = credit.drop('Gender', axis = 1)\n",
        "credit.iloc[3]"
      ],
      "metadata": {
        "colab": {
          "base_uri": "https://localhost:8080/",
          "height": 404
        },
        "id": "QI6vzuTKes6n",
        "outputId": "9c0f5e9a-60ee-4788-ed0a-a894a130f739"
      },
      "execution_count": 57,
      "outputs": [
        {
          "output_type": "execute_result",
          "data": {
            "text/plain": [
              "GoodCustomer        1\n",
              "ForeignWorker       0\n",
              "Single              1\n",
              "Age                45\n",
              "LoanAmount       7882\n",
              "OwnsHouse           0\n",
              "Unemployed          0\n",
              "Gender_F            0\n",
              "Gender_M            1\n",
              "Name: 3, dtype: int64"
            ],
            "text/html": [
              "<div>\n",
              "<style scoped>\n",
              "    .dataframe tbody tr th:only-of-type {\n",
              "        vertical-align: middle;\n",
              "    }\n",
              "\n",
              "    .dataframe tbody tr th {\n",
              "        vertical-align: top;\n",
              "    }\n",
              "\n",
              "    .dataframe thead th {\n",
              "        text-align: right;\n",
              "    }\n",
              "</style>\n",
              "<table border=\"1\" class=\"dataframe\">\n",
              "  <thead>\n",
              "    <tr style=\"text-align: right;\">\n",
              "      <th></th>\n",
              "      <th>3</th>\n",
              "    </tr>\n",
              "  </thead>\n",
              "  <tbody>\n",
              "    <tr>\n",
              "      <th>GoodCustomer</th>\n",
              "      <td>1</td>\n",
              "    </tr>\n",
              "    <tr>\n",
              "      <th>ForeignWorker</th>\n",
              "      <td>0</td>\n",
              "    </tr>\n",
              "    <tr>\n",
              "      <th>Single</th>\n",
              "      <td>1</td>\n",
              "    </tr>\n",
              "    <tr>\n",
              "      <th>Age</th>\n",
              "      <td>45</td>\n",
              "    </tr>\n",
              "    <tr>\n",
              "      <th>LoanAmount</th>\n",
              "      <td>7882</td>\n",
              "    </tr>\n",
              "    <tr>\n",
              "      <th>OwnsHouse</th>\n",
              "      <td>0</td>\n",
              "    </tr>\n",
              "    <tr>\n",
              "      <th>Unemployed</th>\n",
              "      <td>0</td>\n",
              "    </tr>\n",
              "    <tr>\n",
              "      <th>Gender_F</th>\n",
              "      <td>0</td>\n",
              "    </tr>\n",
              "    <tr>\n",
              "      <th>Gender_M</th>\n",
              "      <td>1</td>\n",
              "    </tr>\n",
              "  </tbody>\n",
              "</table>\n",
              "</div><br><label><b>dtype:</b> int64</label>"
            ]
          },
          "metadata": {},
          "execution_count": 57
        }
      ]
    },
    {
      "cell_type": "code",
      "source": [
        "credit['GoodCustomer'].unique()"
      ],
      "metadata": {
        "colab": {
          "base_uri": "https://localhost:8080/"
        },
        "id": "CrSWPkT24W24",
        "outputId": "7ce1f329-f702-4149-9cd1-7cfaf23a304c"
      },
      "execution_count": 58,
      "outputs": [
        {
          "output_type": "execute_result",
          "data": {
            "text/plain": [
              "array([1, 0])"
            ]
          },
          "metadata": {},
          "execution_count": 58
        }
      ]
    },
    {
      "cell_type": "code",
      "source": [
        "# Calculate correlation matrix for selected columns\n",
        "correlation_matrix = credit.corr()\n",
        "\n",
        "# Visualize correlation matrix\n",
        "plt.figure(figsize=(12, 10))  # Adjust figure size if needed\n",
        "sns.heatmap(correlation_matrix, annot=True, cmap='coolwarm', fmt=\".2f\")\n",
        "plt.title('Correlation Matrix of Features')\n",
        "plt.show()"
      ],
      "metadata": {
        "colab": {
          "base_uri": "https://localhost:8080/",
          "height": 54
        },
        "id": "5EPrYJ418--F",
        "outputId": "a3daf38d-b1f3-4aea-e73e-a58f238c9ca8"
      },
      "execution_count": 59,
      "outputs": [
        {
          "output_type": "display_data",
          "data": {
            "text/plain": [
              "<Figure size 1200x1000 with 2 Axes>"
            ],
            "image/png": "[encoded data removed]"
          },
          "metadata": {}
        }
      ]
    },
    {
      "cell_type": "code",
      "source": [
        "#credit = credit.drop('Gender_M', axis = 1)"
      ],
      "metadata": {
        "id": "lhAbNaFZi-Xr"
      },
      "execution_count": 60,
      "outputs": []
    },
    {
      "cell_type": "markdown",
      "source": [
        "# Train RF"
      ],
      "metadata": {
        "id": "KFY9sQ2shVrF"
      }
    },
    {
      "cell_type": "code",
      "source": [
        "seed_value = 42\n",
        "np.random.seed(seed_value)\n",
        "random.seed(seed_value)"
      ],
      "metadata": {
        "id": "693OQYxVyIoI"
      },
      "execution_count": 61,
      "outputs": []
    },
    {
      "cell_type": "code",
      "source": [
        "X = credit.drop(columns = ['GoodCustomer'], axis = 1)\n",
        "Y = credit['GoodCustomer']\n",
        "Y.value_counts()"
      ],
      "metadata": {
        "colab": {
          "base_uri": "https://localhost:8080/",
          "height": 178
        },
        "id": "6OzI_Fs3hYPM",
        "outputId": "70e7fa9d-ec70-43d1-f0c9-1d4613dd4e3d"
      },
      "execution_count": 62,
      "outputs": [
        {
          "output_type": "execute_result",
          "data": {
            "text/plain": [
              "GoodCustomer\n",
              "1    700\n",
              "0    300\n",
              "Name: count, dtype: int64"
            ],
            "text/html": [
              "<div>\n",
              "<style scoped>\n",
              "    .dataframe tbody tr th:only-of-type {\n",
              "        vertical-align: middle;\n",
              "    }\n",
              "\n",
              "    .dataframe tbody tr th {\n",
              "        vertical-align: top;\n",
              "    }\n",
              "\n",
              "    .dataframe thead th {\n",
              "        text-align: right;\n",
              "    }\n",
              "</style>\n",
              "<table border=\"1\" class=\"dataframe\">\n",
              "  <thead>\n",
              "    <tr style=\"text-align: right;\">\n",
              "      <th></th>\n",
              "      <th>count</th>\n",
              "    </tr>\n",
              "    <tr>\n",
              "      <th>GoodCustomer</th>\n",
              "      <th></th>\n",
              "    </tr>\n",
              "  </thead>\n",
              "  <tbody>\n",
              "    <tr>\n",
              "      <th>1</th>\n",
              "      <td>700</td>\n",
              "    </tr>\n",
              "    <tr>\n",
              "      <th>0</th>\n",
              "      <td>300</td>\n",
              "    </tr>\n",
              "  </tbody>\n",
              "</table>\n",
              "</div><br><label><b>dtype:</b> int64</label>"
            ]
          },
          "metadata": {},
          "execution_count": 62
        }
      ]
    },
    {
      "cell_type": "code",
      "source": [
        "X_train, X_test, Y_train, Y_test = train_test_split(X, Y, test_size = 0.7, shuffle = True, stratify = Y, random_state=seed_value)\n",
        "\n",
        "print(\"Class distribution in Y_train after upsampling:\")\n",
        "print(Y_train.value_counts())"
      ],
      "metadata": {
        "colab": {
          "base_uri": "https://localhost:8080/"
        },
        "id": "xmXdk-MehuHb",
        "outputId": "6460b5b8-a475-4a92-97c8-99f52ef68e76"
      },
      "execution_count": 63,
      "outputs": [
        {
          "output_type": "stream",
          "name": "stdout",
          "text": [
            "Class distribution in Y_train after upsampling:\n",
            "GoodCustomer\n",
            "1    210\n",
            "0     90\n",
            "Name: count, dtype: int64\n"
          ]
        }
      ]
    },
    {
      "cell_type": "markdown",
      "source": [
        "scale before predicting for shap later"
      ],
      "metadata": {
        "id": "J3Vx95O4iRwv"
      }
    },
    {
      "cell_type": "code",
      "source": [
        "scaler = StandardScaler()\n",
        "X_scaled_train = scaler.fit_transform(X_train)\n",
        "X_scaled_test = scaler.transform(X_test)\n",
        "credit_scaled = pd.concat([pd.DataFrame(X_scaled_train, columns=[col + '_scaled' for col in X.columns]),\n",
        "                         pd.DataFrame(X_scaled_test, columns=[col + '_scaled' for col in X.columns])])\n",
        "\n",
        "\n",
        "\n",
        "#merge scaled and unscaled data\n",
        "credit_sc = pd.merge(credit, credit_scaled, left_index=True, right_index=True)\n",
        "credit_sc.info()\n",
        "credit_sc.iloc[3]"
      ],
      "metadata": {
        "colab": {
          "base_uri": "https://localhost:8080/",
          "height": 1000
        },
        "id": "GbNIWLW6iJjP",
        "outputId": "ee264861-494d-49c1-ee29-64bed8d8ac20"
      },
      "execution_count": 64,
      "outputs": [
        {
          "output_type": "stream",
          "name": "stdout",
          "text": [
            "<class 'pandas.core.frame.DataFrame'>\n",
            "Index: 1000 entries, 0 to 699\n",
            "Data columns (total 17 columns):\n",
            " #   Column                Non-Null Count  Dtype  \n",
            "---  ------                --------------  -----  \n",
            " 0   GoodCustomer          1000 non-null   int64  \n",
            " 1   ForeignWorker         1000 non-null   int64  \n",
            " 2   Single                1000 non-null   int64  \n",
            " 3   Age                   1000 non-null   int64  \n",
            " 4   LoanAmount            1000 non-null   int64  \n",
            " 5   OwnsHouse             1000 non-null   int64  \n",
            " 6   Unemployed            1000 non-null   int64  \n",
            " 7   Gender_F              1000 non-null   int64  \n",
            " 8   Gender_M              1000 non-null   int64  \n",
            " 9   ForeignWorker_scaled  1000 non-null   float64\n",
            " 10  Single_scaled         1000 non-null   float64\n",
            " 11  Age_scaled            1000 non-null   float64\n",
            " 12  LoanAmount_scaled     1000 non-null   float64\n",
            " 13  OwnsHouse_scaled      1000 non-null   float64\n",
            " 14  Unemployed_scaled     1000 non-null   float64\n",
            " 15  Gender_F_scaled       1000 non-null   float64\n",
            " 16  Gender_M_scaled       1000 non-null   float64\n",
            "dtypes: float64(8), int64(9)\n",
            "memory usage: 140.6 KB\n"
          ]
        },
        {
          "output_type": "execute_result",
          "data": {
            "text/plain": [
              "GoodCustomer               0.000000\n",
              "ForeignWorker              0.000000\n",
              "Single                     0.000000\n",
              "Age                       22.000000\n",
              "LoanAmount              5951.000000\n",
              "OwnsHouse                  1.000000\n",
              "Unemployed                 0.000000\n",
              "Gender_F                   1.000000\n",
              "Gender_M                   0.000000\n",
              "ForeignWorker_scaled      -0.175863\n",
              "Single_scaled              0.967204\n",
              "Age_scaled                -0.042087\n",
              "LoanAmount_scaled          1.140352\n",
              "OwnsHouse_scaled          -1.552125\n",
              "Unemployed_scaled         -0.245093\n",
              "Gender_F_scaled           -0.691254\n",
              "Gender_M_scaled            0.691254\n",
              "Name: 1, dtype: float64"
            ],
            "text/html": [
              "<div>\n",
              "<style scoped>\n",
              "    .dataframe tbody tr th:only-of-type {\n",
              "        vertical-align: middle;\n",
              "    }\n",
              "\n",
              "    .dataframe tbody tr th {\n",
              "        vertical-align: top;\n",
              "    }\n",
              "\n",
              "    .dataframe thead th {\n",
              "        text-align: right;\n",
              "    }\n",
              "</style>\n",
              "<table border=\"1\" class=\"dataframe\">\n",
              "  <thead>\n",
              "    <tr style=\"text-align: right;\">\n",
              "      <th></th>\n",
              "      <th>1</th>\n",
              "    </tr>\n",
              "  </thead>\n",
              "  <tbody>\n",
              "    <tr>\n",
              "      <th>GoodCustomer</th>\n",
              "      <td>0.000000</td>\n",
              "    </tr>\n",
              "    <tr>\n",
              "      <th>ForeignWorker</th>\n",
              "      <td>0.000000</td>\n",
              "    </tr>\n",
              "    <tr>\n",
              "      <th>Single</th>\n",
              "      <td>0.000000</td>\n",
              "    </tr>\n",
              "    <tr>\n",
              "      <th>Age</th>\n",
              "      <td>22.000000</td>\n",
              "    </tr>\n",
              "    <tr>\n",
              "      <th>LoanAmount</th>\n",
              "      <td>5951.000000</td>\n",
              "    </tr>\n",
              "    <tr>\n",
              "      <th>OwnsHouse</th>\n",
              "      <td>1.000000</td>\n",
              "    </tr>\n",
              "    <tr>\n",
              "      <th>Unemployed</th>\n",
              "      <td>0.000000</td>\n",
              "    </tr>\n",
              "    <tr>\n",
              "      <th>Gender_F</th>\n",
              "      <td>1.000000</td>\n",
              "    </tr>\n",
              "    <tr>\n",
              "      <th>Gender_M</th>\n",
              "      <td>0.000000</td>\n",
              "    </tr>\n",
              "    <tr>\n",
              "      <th>ForeignWorker_scaled</th>\n",
              "      <td>-0.175863</td>\n",
              "    </tr>\n",
              "    <tr>\n",
              "      <th>Single_scaled</th>\n",
              "      <td>0.967204</td>\n",
              "    </tr>\n",
              "    <tr>\n",
              "      <th>Age_scaled</th>\n",
              "      <td>-0.042087</td>\n",
              "    </tr>\n",
              "    <tr>\n",
              "      <th>LoanAmount_scaled</th>\n",
              "      <td>1.140352</td>\n",
              "    </tr>\n",
              "    <tr>\n",
              "      <th>OwnsHouse_scaled</th>\n",
              "      <td>-1.552125</td>\n",
              "    </tr>\n",
              "    <tr>\n",
              "      <th>Unemployed_scaled</th>\n",
              "      <td>-0.245093</td>\n",
              "    </tr>\n",
              "    <tr>\n",
              "      <th>Gender_F_scaled</th>\n",
              "      <td>-0.691254</td>\n",
              "    </tr>\n",
              "    <tr>\n",
              "      <th>Gender_M_scaled</th>\n",
              "      <td>0.691254</td>\n",
              "    </tr>\n",
              "  </tbody>\n",
              "</table>\n",
              "</div><br><label><b>dtype:</b> float64</label>"
            ]
          },
          "metadata": {},
          "execution_count": 64
        }
      ]
    },
    {
      "cell_type": "code",
      "source": [
        "model = RandomForestClassifier(random_state=seed_value)\n",
        "model.fit(X_scaled_train, Y_train)\n",
        "\n",
        "#predictions\n",
        "Yhat = model.predict(X_scaled_test)\n",
        "len(Yhat)"
      ],
      "metadata": {
        "colab": {
          "base_uri": "https://localhost:8080/"
        },
        "id": "tGXHWSwPjHo7",
        "outputId": "77567cb6-dd87-4c58-dfe5-6f7d55b9ce30"
      },
      "execution_count": 65,
      "outputs": [
        {
          "output_type": "execute_result",
          "data": {
            "text/plain": [
              "700"
            ]
          },
          "metadata": {},
          "execution_count": 65
        }
      ]
    },
    {
      "cell_type": "code",
      "source": [
        "#Create df to contain the predicted and true classes - converting y_hat np to df\n",
        "predictions = pd.DataFrame()\n",
        "predictions['predicted_class'] = Yhat.tolist()\n",
        "predictions = predictions.set_index(X_test.index)\n",
        "predictions['true_class'] = Y_test\n",
        "\n",
        "#Calculating the errors with the absolute value\n",
        "predictions['errors'] = abs(predictions['predicted_class'] - predictions['true_class'])\n",
        "\n",
        "#adding predictions to test data\n",
        "X_scaled_test_df = pd.DataFrame(X_scaled_test, columns=[col + '_scaled' for col in X_test.columns], index=X_test.index)\n",
        "credit_error = pd.concat([X_test, X_scaled_test_df, predictions], axis=1)\n",
        "\n",
        "errors = credit_error['errors']\n",
        "df_out = credit_error.drop(['predicted_class', 'true_class', 'errors'], axis=1)\n",
        "credit_error[credit_error['errors']==1]\n",
        "\n",
        "#accuracy & confusion matrix\n",
        "accuracy = accuracy_score(predictions['true_class'], predictions['predicted_class'])\n",
        "print(f\"Accuracy: {accuracy:.4f}\")\n",
        "cm = confusion_matrix(predictions['true_class'], predictions['predicted_class'])\n",
        "print(cm)"
      ],
      "metadata": {
        "colab": {
          "base_uri": "https://localhost:8080/"
        },
        "id": "i_wICgNxjeR7",
        "outputId": "7a6cc075-b671-4786-8e84-c48890d1b299"
      },
      "execution_count": 66,
      "outputs": [
        {
          "output_type": "stream",
          "name": "stdout",
          "text": [
            "Accuracy: 0.6557\n",
            "[[ 44 166]\n",
            " [ 75 415]]\n"
          ]
        }
      ]
    },
    {
      "cell_type": "code",
      "source": [
        "credit_error.iloc[3]"
      ],
      "metadata": {
        "colab": {
          "base_uri": "https://localhost:8080/",
          "height": 680
        },
        "id": "9Fu-gaAWlu5i",
        "outputId": "9bd552fe-ca55-4f00-96c6-cc5caf557c21"
      },
      "execution_count": 67,
      "outputs": [
        {
          "output_type": "execute_result",
          "data": {
            "text/plain": [
              "ForeignWorker              0.000000\n",
              "Single                     1.000000\n",
              "Age                       35.000000\n",
              "LoanAmount              2576.000000\n",
              "OwnsHouse                  1.000000\n",
              "Unemployed                 0.000000\n",
              "Gender_F                   0.000000\n",
              "Gender_M                   1.000000\n",
              "ForeignWorker_scaled      -0.175863\n",
              "Single_scaled              0.967204\n",
              "Age_scaled                -0.042087\n",
              "LoanAmount_scaled         -0.329108\n",
              "OwnsHouse_scaled           0.644278\n",
              "Unemployed_scaled         -0.245093\n",
              "Gender_F_scaled           -0.691254\n",
              "Gender_M_scaled            0.691254\n",
              "predicted_class            1.000000\n",
              "true_class                 1.000000\n",
              "errors                     0.000000\n",
              "Name: 447, dtype: float64"
            ],
            "text/html": [
              "<div>\n",
              "<style scoped>\n",
              "    .dataframe tbody tr th:only-of-type {\n",
              "        vertical-align: middle;\n",
              "    }\n",
              "\n",
              "    .dataframe tbody tr th {\n",
              "        vertical-align: top;\n",
              "    }\n",
              "\n",
              "    .dataframe thead th {\n",
              "        text-align: right;\n",
              "    }\n",
              "</style>\n",
              "<table border=\"1\" class=\"dataframe\">\n",
              "  <thead>\n",
              "    <tr style=\"text-align: right;\">\n",
              "      <th></th>\n",
              "      <th>447</th>\n",
              "    </tr>\n",
              "  </thead>\n",
              "  <tbody>\n",
              "    <tr>\n",
              "      <th>ForeignWorker</th>\n",
              "      <td>0.000000</td>\n",
              "    </tr>\n",
              "    <tr>\n",
              "      <th>Single</th>\n",
              "      <td>1.000000</td>\n",
              "    </tr>\n",
              "    <tr>\n",
              "      <th>Age</th>\n",
              "      <td>35.000000</td>\n",
              "    </tr>\n",
              "    <tr>\n",
              "      <th>LoanAmount</th>\n",
              "      <td>2576.000000</td>\n",
              "    </tr>\n",
              "    <tr>\n",
              "      <th>OwnsHouse</th>\n",
              "      <td>1.000000</td>\n",
              "    </tr>\n",
              "    <tr>\n",
              "      <th>Unemployed</th>\n",
              "      <td>0.000000</td>\n",
              "    </tr>\n",
              "    <tr>\n",
              "      <th>Gender_F</th>\n",
              "      <td>0.000000</td>\n",
              "    </tr>\n",
              "    <tr>\n",
              "      <th>Gender_M</th>\n",
              "      <td>1.000000</td>\n",
              "    </tr>\n",
              "    <tr>\n",
              "      <th>ForeignWorker_scaled</th>\n",
              "      <td>-0.175863</td>\n",
              "    </tr>\n",
              "    <tr>\n",
              "      <th>Single_scaled</th>\n",
              "      <td>0.967204</td>\n",
              "    </tr>\n",
              "    <tr>\n",
              "      <th>Age_scaled</th>\n",
              "      <td>-0.042087</td>\n",
              "    </tr>\n",
              "    <tr>\n",
              "      <th>LoanAmount_scaled</th>\n",
              "      <td>-0.329108</td>\n",
              "    </tr>\n",
              "    <tr>\n",
              "      <th>OwnsHouse_scaled</th>\n",
              "      <td>0.644278</td>\n",
              "    </tr>\n",
              "    <tr>\n",
              "      <th>Unemployed_scaled</th>\n",
              "      <td>-0.245093</td>\n",
              "    </tr>\n",
              "    <tr>\n",
              "      <th>Gender_F_scaled</th>\n",
              "      <td>-0.691254</td>\n",
              "    </tr>\n",
              "    <tr>\n",
              "      <th>Gender_M_scaled</th>\n",
              "      <td>0.691254</td>\n",
              "    </tr>\n",
              "    <tr>\n",
              "      <th>predicted_class</th>\n",
              "      <td>1.000000</td>\n",
              "    </tr>\n",
              "    <tr>\n",
              "      <th>true_class</th>\n",
              "      <td>1.000000</td>\n",
              "    </tr>\n",
              "    <tr>\n",
              "      <th>errors</th>\n",
              "      <td>0.000000</td>\n",
              "    </tr>\n",
              "  </tbody>\n",
              "</table>\n",
              "</div><br><label><b>dtype:</b> float64</label>"
            ]
          },
          "metadata": {},
          "execution_count": 67
        }
      ]
    },
    {
      "cell_type": "markdown",
      "source": [
        "# Add Error to Data"
      ],
      "metadata": {
        "id": "kpw9gOgSmK-N"
      }
    },
    {
      "cell_type": "code",
      "source": [
        "#selecting the 4 error labels\n",
        "def get_error_type(row):\n",
        "    true_class = row['true_class']\n",
        "    predicted_class = row['predicted_class']\n",
        "\n",
        "    if true_class == predicted_class and true_class == 1:\n",
        "        row['TP'] = 1\n",
        "        row['TN'] = 0\n",
        "        row['FN'] = 0\n",
        "        row['FP'] = 0\n",
        "    elif true_class == predicted_class and true_class == 0:\n",
        "        row['TP'] = 0\n",
        "        row['TN'] = 1\n",
        "        row['FN'] = 0\n",
        "        row['FP'] = 0\n",
        "    elif true_class != predicted_class and true_class == 1:\n",
        "        row['TP'] = 0\n",
        "        row['TN'] = 0\n",
        "        row['FN'] = 1\n",
        "        row['FP'] = 0\n",
        "    elif true_class != predicted_class and true_class == 0:\n",
        "        row['TP'] = 0\n",
        "        row['TN'] = 0\n",
        "        row['FN'] = 0\n",
        "        row['FP'] = 1\n",
        "\n",
        "    return row\n",
        "\n",
        "#apply function to rows in data\n",
        "credit_err = credit_error.apply(get_error_type, axis=1)\n",
        "\n",
        "#v2_err.info()\n",
        "credit_err.iloc[3]"
      ],
      "metadata": {
        "colab": {
          "base_uri": "https://localhost:8080/",
          "height": 806
        },
        "id": "xRT3ej-VmSgo",
        "outputId": "c76cd81a-7d89-4929-94b1-f21851eb9c19"
      },
      "execution_count": 68,
      "outputs": [
        {
          "output_type": "execute_result",
          "data": {
            "text/plain": [
              "ForeignWorker              0.000000\n",
              "Single                     1.000000\n",
              "Age                       35.000000\n",
              "LoanAmount              2576.000000\n",
              "OwnsHouse                  1.000000\n",
              "Unemployed                 0.000000\n",
              "Gender_F                   0.000000\n",
              "Gender_M                   1.000000\n",
              "ForeignWorker_scaled      -0.175863\n",
              "Single_scaled              0.967204\n",
              "Age_scaled                -0.042087\n",
              "LoanAmount_scaled         -0.329108\n",
              "OwnsHouse_scaled           0.644278\n",
              "Unemployed_scaled         -0.245093\n",
              "Gender_F_scaled           -0.691254\n",
              "Gender_M_scaled            0.691254\n",
              "predicted_class            1.000000\n",
              "true_class                 1.000000\n",
              "errors                     0.000000\n",
              "TP                         1.000000\n",
              "TN                         0.000000\n",
              "FN                         0.000000\n",
              "FP                         0.000000\n",
              "Name: 447, dtype: float64"
            ],
            "text/html": [
              "<div>\n",
              "<style scoped>\n",
              "    .dataframe tbody tr th:only-of-type {\n",
              "        vertical-align: middle;\n",
              "    }\n",
              "\n",
              "    .dataframe tbody tr th {\n",
              "        vertical-align: top;\n",
              "    }\n",
              "\n",
              "    .dataframe thead th {\n",
              "        text-align: right;\n",
              "    }\n",
              "</style>\n",
              "<table border=\"1\" class=\"dataframe\">\n",
              "  <thead>\n",
              "    <tr style=\"text-align: right;\">\n",
              "      <th></th>\n",
              "      <th>447</th>\n",
              "    </tr>\n",
              "  </thead>\n",
              "  <tbody>\n",
              "    <tr>\n",
              "      <th>ForeignWorker</th>\n",
              "      <td>0.000000</td>\n",
              "    </tr>\n",
              "    <tr>\n",
              "      <th>Single</th>\n",
              "      <td>1.000000</td>\n",
              "    </tr>\n",
              "    <tr>\n",
              "      <th>Age</th>\n",
              "      <td>35.000000</td>\n",
              "    </tr>\n",
              "    <tr>\n",
              "      <th>LoanAmount</th>\n",
              "      <td>2576.000000</td>\n",
              "    </tr>\n",
              "    <tr>\n",
              "      <th>OwnsHouse</th>\n",
              "      <td>1.000000</td>\n",
              "    </tr>\n",
              "    <tr>\n",
              "      <th>Unemployed</th>\n",
              "      <td>0.000000</td>\n",
              "    </tr>\n",
              "    <tr>\n",
              "      <th>Gender_F</th>\n",
              "      <td>0.000000</td>\n",
              "    </tr>\n",
              "    <tr>\n",
              "      <th>Gender_M</th>\n",
              "      <td>1.000000</td>\n",
              "    </tr>\n",
              "    <tr>\n",
              "      <th>ForeignWorker_scaled</th>\n",
              "      <td>-0.175863</td>\n",
              "    </tr>\n",
              "    <tr>\n",
              "      <th>Single_scaled</th>\n",
              "      <td>0.967204</td>\n",
              "    </tr>\n",
              "    <tr>\n",
              "      <th>Age_scaled</th>\n",
              "      <td>-0.042087</td>\n",
              "    </tr>\n",
              "    <tr>\n",
              "      <th>LoanAmount_scaled</th>\n",
              "      <td>-0.329108</td>\n",
              "    </tr>\n",
              "    <tr>\n",
              "      <th>OwnsHouse_scaled</th>\n",
              "      <td>0.644278</td>\n",
              "    </tr>\n",
              "    <tr>\n",
              "      <th>Unemployed_scaled</th>\n",
              "      <td>-0.245093</td>\n",
              "    </tr>\n",
              "    <tr>\n",
              "      <th>Gender_F_scaled</th>\n",
              "      <td>-0.691254</td>\n",
              "    </tr>\n",
              "    <tr>\n",
              "      <th>Gender_M_scaled</th>\n",
              "      <td>0.691254</td>\n",
              "    </tr>\n",
              "    <tr>\n",
              "      <th>predicted_class</th>\n",
              "      <td>1.000000</td>\n",
              "    </tr>\n",
              "    <tr>\n",
              "      <th>true_class</th>\n",
              "      <td>1.000000</td>\n",
              "    </tr>\n",
              "    <tr>\n",
              "      <th>errors</th>\n",
              "      <td>0.000000</td>\n",
              "    </tr>\n",
              "    <tr>\n",
              "      <th>TP</th>\n",
              "      <td>1.000000</td>\n",
              "    </tr>\n",
              "    <tr>\n",
              "      <th>TN</th>\n",
              "      <td>0.000000</td>\n",
              "    </tr>\n",
              "    <tr>\n",
              "      <th>FN</th>\n",
              "      <td>0.000000</td>\n",
              "    </tr>\n",
              "    <tr>\n",
              "      <th>FP</th>\n",
              "      <td>0.000000</td>\n",
              "    </tr>\n",
              "  </tbody>\n",
              "</table>\n",
              "</div><br><label><b>dtype:</b> float64</label>"
            ]
          },
          "metadata": {},
          "execution_count": 68
        }
      ]
    },
    {
      "cell_type": "code",
      "source": [
        "#check if there are any fp/fn at all\n",
        "if (credit_err['FP'] ==1).any():\n",
        "  print(\"there is at least one FP\")\n",
        "else: print(\"there is no FP\")"
      ],
      "metadata": {
        "colab": {
          "base_uri": "https://localhost:8080/"
        },
        "id": "y5YlFPRsmiL6",
        "outputId": "682e338d-6885-4644-8942-2e84dd78f539"
      },
      "execution_count": 69,
      "outputs": [
        {
          "output_type": "stream",
          "name": "stdout",
          "text": [
            "there is at least one FP\n"
          ]
        }
      ]
    },
    {
      "cell_type": "code",
      "source": [
        "fn_count = credit_err['FN'].sum()\n",
        "fp_count = credit_err['FP'].sum()\n",
        "\n",
        "# Create a bar chart\n",
        "plt.bar(['FN', 'FP'], [fn_count, fp_count])\n",
        "plt.title('Distribution of False Negatives and False Positives')\n",
        "plt.xlabel('Error Type')\n",
        "plt.ylabel('Count')\n",
        "plt.show()"
      ],
      "metadata": {
        "colab": {
          "base_uri": "https://localhost:8080/",
          "height": 472
        },
        "id": "pAgehiw_m7Mc",
        "outputId": "530682ce-6af8-4547-9b6d-e2d2927bfa6c"
      },
      "execution_count": 70,
      "outputs": [
        {
          "output_type": "display_data",
          "data": {
            "text/plain": [
              "<Figure size 640x480 with 1 Axes>"
            ],
            "image/png": "[encoded data removed]"
          },
          "metadata": {}
        }
      ]
    },
    {
      "cell_type": "code",
      "source": [
        "#add scaled errors as well\n",
        "errors_col = ['errors', 'TP', 'TN', 'FN', 'FP', 'predicted_class', 'true_class']\n",
        "df_errors = credit_err[errors_col]\n",
        "#df_errors.info()\n",
        "\n",
        "errors_scaled = scaler.fit_transform(df_errors)\n",
        "errors_scaled_df = pd.DataFrame(errors_scaled, columns=[col + '_scaled' for col in df_errors.columns])\n",
        "#errors_scaled_df.info()\n",
        "\n",
        "credit_err_sc = pd.merge(credit_err, errors_scaled_df, left_index=True, right_index=True)\n",
        "credit_err_sc.info()"
      ],
      "metadata": {
        "colab": {
          "base_uri": "https://localhost:8080/"
        },
        "id": "GeZWXdR3oDuv",
        "outputId": "99770add-8920-43ba-e0d9-3d9745c1390e"
      },
      "execution_count": 71,
      "outputs": [
        {
          "output_type": "stream",
          "name": "stdout",
          "text": [
            "<class 'pandas.core.frame.DataFrame'>\n",
            "Index: 484 entries, 690 to 386\n",
            "Data columns (total 30 columns):\n",
            " #   Column                  Non-Null Count  Dtype  \n",
            "---  ------                  --------------  -----  \n",
            " 0   ForeignWorker           484 non-null    float64\n",
            " 1   Single                  484 non-null    float64\n",
            " 2   Age                     484 non-null    float64\n",
            " 3   LoanAmount              484 non-null    float64\n",
            " 4   OwnsHouse               484 non-null    float64\n",
            " 5   Unemployed              484 non-null    float64\n",
            " 6   Gender_F                484 non-null    float64\n",
            " 7   Gender_M                484 non-null    float64\n",
            " 8   ForeignWorker_scaled    484 non-null    float64\n",
            " 9   Single_scaled           484 non-null    float64\n",
            " 10  Age_scaled              484 non-null    float64\n",
            " 11  LoanAmount_scaled       484 non-null    float64\n",
            " 12  OwnsHouse_scaled        484 non-null    float64\n",
            " 13  Unemployed_scaled       484 non-null    float64\n",
            " 14  Gender_F_scaled         484 non-null    float64\n",
            " 15  Gender_M_scaled         484 non-null    float64\n",
            " 16  predicted_class         484 non-null    float64\n",
            " 17  true_class              484 non-null    float64\n",
            " 18  errors                  484 non-null    float64\n",
            " 19  TP                      484 non-null    float64\n",
            " 20  TN                      484 non-null    float64\n",
            " 21  FN                      484 non-null    float64\n",
            " 22  FP                      484 non-null    float64\n",
            " 23  errors_scaled           484 non-null    float64\n",
            " 24  TP_scaled               484 non-null    float64\n",
            " 25  TN_scaled               484 non-null    float64\n",
            " 26  FN_scaled               484 non-null    float64\n",
            " 27  FP_scaled               484 non-null    float64\n",
            " 28  predicted_class_scaled  484 non-null    float64\n",
            " 29  true_class_scaled       484 non-null    float64\n",
            "dtypes: float64(30)\n",
            "memory usage: 117.2 KB\n"
          ]
        }
      ]
    },
    {
      "cell_type": "markdown",
      "source": [
        "# Add SHAP values"
      ],
      "metadata": {
        "id": "rFgUxtjVo7SK"
      }
    },
    {
      "cell_type": "code",
      "source": [
        "!pip install shap\n",
        "import shap"
      ],
      "metadata": {
        "collapsed": true,
        "id": "1WHvxDGhpHkw",
        "outputId": "82c1d357-e094-4a4b-88b2-af8520ee22c8",
        "colab": {
          "base_uri": "https://localhost:8080/"
        }
      },
      "execution_count": 72,
      "outputs": [
        {
          "output_type": "stream",
          "name": "stdout",
          "text": [
            "Requirement already satisfied: shap in /usr/local/lib/python3.11/dist-packages (0.46.0)\n",
            "Requirement already satisfied: numpy in /usr/local/lib/python3.11/dist-packages (from shap) (1.26.4)\n",
            "Requirement already satisfied: scipy in /usr/local/lib/python3.11/dist-packages (from shap) (1.13.1)\n",
            "Requirement already satisfied: scikit-learn in /usr/local/lib/python3.11/dist-packages (from shap) (1.6.1)\n",
            "Requirement already satisfied: pandas in /usr/local/lib/python3.11/dist-packages (from shap) (2.2.2)\n",
            "Requirement already satisfied: tqdm>=4.27.0 in /usr/local/lib/python3.11/dist-packages (from shap) (4.67.1)\n",
            "Requirement already satisfied: packaging>20.9 in /usr/local/lib/python3.11/dist-packages (from shap) (24.2)\n",
            "Requirement already satisfied: slicer==0.0.8 in /usr/local/lib/python3.11/dist-packages (from shap) (0.0.8)\n",
            "Requirement already satisfied: numba in /usr/local/lib/python3.11/dist-packages (from shap) (0.61.0)\n",
            "Requirement already satisfied: cloudpickle in /usr/local/lib/python3.11/dist-packages (from shap) (3.1.1)\n",
            "Requirement already satisfied: llvmlite<0.45,>=0.44.0dev0 in /usr/local/lib/python3.11/dist-packages (from numba->shap) (0.44.0)\n",
            "Requirement already satisfied: python-dateutil>=2.8.2 in /usr/local/lib/python3.11/dist-packages (from pandas->shap) (2.8.2)\n",
            "Requirement already satisfied: pytz>=2020.1 in /usr/local/lib/python3.11/dist-packages (from pandas->shap) (2025.1)\n",
            "Requirement already satisfied: tzdata>=2022.7 in /usr/local/lib/python3.11/dist-packages (from pandas->shap) (2025.1)\n",
            "Requirement already satisfied: joblib>=1.2.0 in /usr/local/lib/python3.11/dist-packages (from scikit-learn->shap) (1.4.2)\n",
            "Requirement already satisfied: threadpoolctl>=3.1.0 in /usr/local/lib/python3.11/dist-packages (from scikit-learn->shap) (3.5.0)\n",
            "Requirement already satisfied: six>=1.5 in /usr/local/lib/python3.11/dist-packages (from python-dateutil>=2.8.2->pandas->shap) (1.17.0)\n"
          ]
        }
      ]
    },
    {
      "cell_type": "code",
      "source": [
        "tree_explainer = shap.TreeExplainer(model)\n",
        "shap_values = tree_explainer.shap_values(X_test, check_additivity=False)\n",
        "\n",
        "shap_values_class1 = shap_values[:, :, 1] #all samples, all features, class = 1\n",
        "shap_values_class0 = shap_values[:, :, 0]\n",
        "\n"
      ],
      "metadata": {
        "id": "PFyyudk2pLj3"
      },
      "execution_count": 73,
      "outputs": []
    },
    {
      "cell_type": "code",
      "source": [
        "df_shap_values = pd.DataFrame(shap_values_class1, columns=[f'Shap_{col}' for col in X_test.columns])\n",
        "df_shap_values.info()\n",
        "df_shap_values.iloc[3]"
      ],
      "metadata": {
        "id": "74u0NsEcpO11",
        "outputId": "ef7ba33c-2c9a-4d21-a217-fa505b6e3b45",
        "colab": {
          "base_uri": "https://localhost:8080/",
          "height": 611
        }
      },
      "execution_count": 74,
      "outputs": [
        {
          "output_type": "stream",
          "name": "stdout",
          "text": [
            "<class 'pandas.core.frame.DataFrame'>\n",
            "RangeIndex: 700 entries, 0 to 699\n",
            "Data columns (total 8 columns):\n",
            " #   Column              Non-Null Count  Dtype  \n",
            "---  ------              --------------  -----  \n",
            " 0   Shap_ForeignWorker  700 non-null    float64\n",
            " 1   Shap_Single         700 non-null    float64\n",
            " 2   Shap_Age            700 non-null    float64\n",
            " 3   Shap_LoanAmount     700 non-null    float64\n",
            " 4   Shap_OwnsHouse      700 non-null    float64\n",
            " 5   Shap_Unemployed     700 non-null    float64\n",
            " 6   Shap_Gender_F       700 non-null    float64\n",
            " 7   Shap_Gender_M       700 non-null    float64\n",
            "dtypes: float64(8)\n",
            "memory usage: 43.9 KB\n"
          ]
        },
        {
          "output_type": "execute_result",
          "data": {
            "text/plain": [
              "Shap_ForeignWorker   -0.003653\n",
              "Shap_Single          -0.010304\n",
              "Shap_Age             -0.052262\n",
              "Shap_LoanAmount      -0.234329\n",
              "Shap_OwnsHouse        0.036059\n",
              "Shap_Unemployed      -0.020290\n",
              "Shap_Gender_F        -0.014497\n",
              "Shap_Gender_M        -0.008958\n",
              "Name: 3, dtype: float64"
            ],
            "text/html": [
              "<div>\n",
              "<style scoped>\n",
              "    .dataframe tbody tr th:only-of-type {\n",
              "        vertical-align: middle;\n",
              "    }\n",
              "\n",
              "    .dataframe tbody tr th {\n",
              "        vertical-align: top;\n",
              "    }\n",
              "\n",
              "    .dataframe thead th {\n",
              "        text-align: right;\n",
              "    }\n",
              "</style>\n",
              "<table border=\"1\" class=\"dataframe\">\n",
              "  <thead>\n",
              "    <tr style=\"text-align: right;\">\n",
              "      <th></th>\n",
              "      <th>3</th>\n",
              "    </tr>\n",
              "  </thead>\n",
              "  <tbody>\n",
              "    <tr>\n",
              "      <th>Shap_ForeignWorker</th>\n",
              "      <td>-0.003653</td>\n",
              "    </tr>\n",
              "    <tr>\n",
              "      <th>Shap_Single</th>\n",
              "      <td>-0.010304</td>\n",
              "    </tr>\n",
              "    <tr>\n",
              "      <th>Shap_Age</th>\n",
              "      <td>-0.052262</td>\n",
              "    </tr>\n",
              "    <tr>\n",
              "      <th>Shap_LoanAmount</th>\n",
              "      <td>-0.234329</td>\n",
              "    </tr>\n",
              "    <tr>\n",
              "      <th>Shap_OwnsHouse</th>\n",
              "      <td>0.036059</td>\n",
              "    </tr>\n",
              "    <tr>\n",
              "      <th>Shap_Unemployed</th>\n",
              "      <td>-0.020290</td>\n",
              "    </tr>\n",
              "    <tr>\n",
              "      <th>Shap_Gender_F</th>\n",
              "      <td>-0.014497</td>\n",
              "    </tr>\n",
              "    <tr>\n",
              "      <th>Shap_Gender_M</th>\n",
              "      <td>-0.008958</td>\n",
              "    </tr>\n",
              "  </tbody>\n",
              "</table>\n",
              "</div><br><label><b>dtype:</b> float64</label>"
            ]
          },
          "metadata": {},
          "execution_count": 74
        }
      ]
    },
    {
      "cell_type": "markdown",
      "source": [
        "scale shap values"
      ],
      "metadata": {
        "id": "lku-QrT0p2qe"
      }
    },
    {
      "cell_type": "code",
      "source": [
        "df_shap_scaled = scaler.fit_transform(df_shap_values)\n",
        "df_all_shap = pd.merge(df_shap_values, pd.DataFrame(df_shap_scaled, columns=[col + '_scaled' for col in df_shap_values.columns]), left_index=True, right_index=True)\n",
        "df_all_shap.info()"
      ],
      "metadata": {
        "id": "L4rW6oWSpqko",
        "outputId": "fd5162e9-0f7a-474f-907d-78c3e6fc08a9",
        "colab": {
          "base_uri": "https://localhost:8080/"
        }
      },
      "execution_count": 75,
      "outputs": [
        {
          "output_type": "stream",
          "name": "stdout",
          "text": [
            "<class 'pandas.core.frame.DataFrame'>\n",
            "RangeIndex: 700 entries, 0 to 699\n",
            "Data columns (total 16 columns):\n",
            " #   Column                     Non-Null Count  Dtype  \n",
            "---  ------                     --------------  -----  \n",
            " 0   Shap_ForeignWorker         700 non-null    float64\n",
            " 1   Shap_Single                700 non-null    float64\n",
            " 2   Shap_Age                   700 non-null    float64\n",
            " 3   Shap_LoanAmount            700 non-null    float64\n",
            " 4   Shap_OwnsHouse             700 non-null    float64\n",
            " 5   Shap_Unemployed            700 non-null    float64\n",
            " 6   Shap_Gender_F              700 non-null    float64\n",
            " 7   Shap_Gender_M              700 non-null    float64\n",
            " 8   Shap_ForeignWorker_scaled  700 non-null    float64\n",
            " 9   Shap_Single_scaled         700 non-null    float64\n",
            " 10  Shap_Age_scaled            700 non-null    float64\n",
            " 11  Shap_LoanAmount_scaled     700 non-null    float64\n",
            " 12  Shap_OwnsHouse_scaled      700 non-null    float64\n",
            " 13  Shap_Unemployed_scaled     700 non-null    float64\n",
            " 14  Shap_Gender_F_scaled       700 non-null    float64\n",
            " 15  Shap_Gender_M_scaled       700 non-null    float64\n",
            "dtypes: float64(16)\n",
            "memory usage: 87.6 KB\n"
          ]
        }
      ]
    },
    {
      "cell_type": "markdown",
      "source": [
        "# Make master dataset"
      ],
      "metadata": {
        "id": "nRAm5n5yp4mm"
      }
    },
    {
      "cell_type": "code",
      "source": [
        "credit_all = pd.merge(credit_err_sc, df_all_shap, left_index=True,right_index=True)\n",
        "credit_all = credit_all.drop(['predicted_class', 'true_class', 'predicted_class_scaled', 'true_class_scaled'], axis=1)\n",
        "credit_all.iloc[3]\n",
        "credit_all.info()"
      ],
      "metadata": {
        "id": "gyM1c5stqJun",
        "outputId": "f8802c38-71fd-4a52-d773-1c29ca804f33",
        "colab": {
          "base_uri": "https://localhost:8080/"
        }
      },
      "execution_count": 76,
      "outputs": [
        {
          "output_type": "stream",
          "name": "stdout",
          "text": [
            "<class 'pandas.core.frame.DataFrame'>\n",
            "Index: 484 entries, 690 to 386\n",
            "Data columns (total 42 columns):\n",
            " #   Column                     Non-Null Count  Dtype  \n",
            "---  ------                     --------------  -----  \n",
            " 0   ForeignWorker              484 non-null    float64\n",
            " 1   Single                     484 non-null    float64\n",
            " 2   Age                        484 non-null    float64\n",
            " 3   LoanAmount                 484 non-null    float64\n",
            " 4   OwnsHouse                  484 non-null    float64\n",
            " 5   Unemployed                 484 non-null    float64\n",
            " 6   Gender_F                   484 non-null    float64\n",
            " 7   Gender_M                   484 non-null    float64\n",
            " 8   ForeignWorker_scaled       484 non-null    float64\n",
            " 9   Single_scaled              484 non-null    float64\n",
            " 10  Age_scaled                 484 non-null    float64\n",
            " 11  LoanAmount_scaled          484 non-null    float64\n",
            " 12  OwnsHouse_scaled           484 non-null    float64\n",
            " 13  Unemployed_scaled          484 non-null    float64\n",
            " 14  Gender_F_scaled            484 non-null    float64\n",
            " 15  Gender_M_scaled            484 non-null    float64\n",
            " 16  errors                     484 non-null    float64\n",
            " 17  TP                         484 non-null    float64\n",
            " 18  TN                         484 non-null    float64\n",
            " 19  FN                         484 non-null    float64\n",
            " 20  FP                         484 non-null    float64\n",
            " 21  errors_scaled              484 non-null    float64\n",
            " 22  TP_scaled                  484 non-null    float64\n",
            " 23  TN_scaled                  484 non-null    float64\n",
            " 24  FN_scaled                  484 non-null    float64\n",
            " 25  FP_scaled                  484 non-null    float64\n",
            " 26  Shap_ForeignWorker         484 non-null    float64\n",
            " 27  Shap_Single                484 non-null    float64\n",
            " 28  Shap_Age                   484 non-null    float64\n",
            " 29  Shap_LoanAmount            484 non-null    float64\n",
            " 30  Shap_OwnsHouse             484 non-null    float64\n",
            " 31  Shap_Unemployed            484 non-null    float64\n",
            " 32  Shap_Gender_F              484 non-null    float64\n",
            " 33  Shap_Gender_M              484 non-null    float64\n",
            " 34  Shap_ForeignWorker_scaled  484 non-null    float64\n",
            " 35  Shap_Single_scaled         484 non-null    float64\n",
            " 36  Shap_Age_scaled            484 non-null    float64\n",
            " 37  Shap_LoanAmount_scaled     484 non-null    float64\n",
            " 38  Shap_OwnsHouse_scaled      484 non-null    float64\n",
            " 39  Shap_Unemployed_scaled     484 non-null    float64\n",
            " 40  Shap_Gender_F_scaled       484 non-null    float64\n",
            " 41  Shap_Gender_M_scaled       484 non-null    float64\n",
            "dtypes: float64(42)\n",
            "memory usage: 162.6 KB\n"
          ]
        }
      ]
    },
    {
      "cell_type": "code",
      "source": [
        "# Extract dummy variables for error labels\n",
        "error_type = credit_all[['TP', 'FP', 'FN', 'TN']]\n",
        "\n",
        "# Convert 'Error_type' column to categorical\n",
        "credit_all['Error_Type'] = error_type.idxmax(axis=1).astype('category')\n",
        "credit_all.iloc[3]"
      ],
      "metadata": {
        "id": "dCtfRkSvtycj",
        "colab": {
          "base_uri": "https://localhost:8080/",
          "height": 1000
        },
        "outputId": "ccbd19d9-d6a8-4d1b-fae2-3fb3a9ccc508"
      },
      "execution_count": 77,
      "outputs": [
        {
          "output_type": "execute_result",
          "data": {
            "text/plain": [
              "ForeignWorker                     0.0\n",
              "Single                            1.0\n",
              "Age                              35.0\n",
              "LoanAmount                     2576.0\n",
              "OwnsHouse                         1.0\n",
              "Unemployed                        0.0\n",
              "Gender_F                          0.0\n",
              "Gender_M                          1.0\n",
              "ForeignWorker_scaled        -0.175863\n",
              "Single_scaled                0.967204\n",
              "Age_scaled                  -0.042087\n",
              "LoanAmount_scaled           -0.329108\n",
              "OwnsHouse_scaled             0.644278\n",
              "Unemployed_scaled           -0.245093\n",
              "Gender_F_scaled             -0.691254\n",
              "Gender_M_scaled              0.691254\n",
              "errors                            0.0\n",
              "TP                                1.0\n",
              "TN                                0.0\n",
              "FN                                0.0\n",
              "FP                                0.0\n",
              "errors_scaled                 1.38006\n",
              "TP_scaled                   -1.206706\n",
              "TN_scaled                   -0.258985\n",
              "FN_scaled                    -0.34641\n",
              "FP_scaled                    1.793563\n",
              "Shap_ForeignWorker          -0.003175\n",
              "Shap_Single                 -0.013204\n",
              "Shap_Age                    -0.032802\n",
              "Shap_LoanAmount              -0.23037\n",
              "Shap_OwnsHouse               0.045059\n",
              "Shap_Unemployed             -0.015782\n",
              "Shap_Gender_F                0.030998\n",
              "Shap_Gender_M               -0.008958\n",
              "Shap_ForeignWorker_scaled     1.51208\n",
              "Shap_Single_scaled           -1.51208\n",
              "Shap_Age_scaled               1.51208\n",
              "Shap_LoanAmount_scaled        1.51208\n",
              "Shap_OwnsHouse_scaled         1.51208\n",
              "Shap_Unemployed_scaled        1.51208\n",
              "Shap_Gender_F_scaled          1.51208\n",
              "Shap_Gender_M_scaled              0.0\n",
              "Error_Type                         TP\n",
              "Name: 447, dtype: object"
            ],
            "text/html": [
              "<div>\n",
              "<style scoped>\n",
              "    .dataframe tbody tr th:only-of-type {\n",
              "        vertical-align: middle;\n",
              "    }\n",
              "\n",
              "    .dataframe tbody tr th {\n",
              "        vertical-align: top;\n",
              "    }\n",
              "\n",
              "    .dataframe thead th {\n",
              "        text-align: right;\n",
              "    }\n",
              "</style>\n",
              "<table border=\"1\" class=\"dataframe\">\n",
              "  <thead>\n",
              "    <tr style=\"text-align: right;\">\n",
              "      <th></th>\n",
              "      <th>447</th>\n",
              "    </tr>\n",
              "  </thead>\n",
              "  <tbody>\n",
              "    <tr>\n",
              "      <th>ForeignWorker</th>\n",
              "      <td>0.0</td>\n",
              "    </tr>\n",
              "    <tr>\n",
              "      <th>Single</th>\n",
              "      <td>1.0</td>\n",
              "    </tr>\n",
              "    <tr>\n",
              "      <th>Age</th>\n",
              "      <td>35.0</td>\n",
              "    </tr>\n",
              "    <tr>\n",
              "      <th>LoanAmount</th>\n",
              "      <td>2576.0</td>\n",
              "    </tr>\n",
              "    <tr>\n",
              "      <th>OwnsHouse</th>\n",
              "      <td>1.0</td>\n",
              "    </tr>\n",
              "    <tr>\n",
              "      <th>Unemployed</th>\n",
              "      <td>0.0</td>\n",
              "    </tr>\n",
              "    <tr>\n",
              "      <th>Gender_F</th>\n",
              "      <td>0.0</td>\n",
              "    </tr>\n",
              "    <tr>\n",
              "      <th>Gender_M</th>\n",
              "      <td>1.0</td>\n",
              "    </tr>\n",
              "    <tr>\n",
              "      <th>ForeignWorker_scaled</th>\n",
              "      <td>-0.175863</td>\n",
              "    </tr>\n",
              "    <tr>\n",
              "      <th>Single_scaled</th>\n",
              "      <td>0.967204</td>\n",
              "    </tr>\n",
              "    <tr>\n",
              "      <th>Age_scaled</th>\n",
              "      <td>-0.042087</td>\n",
              "    </tr>\n",
              "    <tr>\n",
              "      <th>LoanAmount_scaled</th>\n",
              "      <td>-0.329108</td>\n",
              "    </tr>\n",
              "    <tr>\n",
              "      <th>OwnsHouse_scaled</th>\n",
              "      <td>0.644278</td>\n",
              "    </tr>\n",
              "    <tr>\n",
              "      <th>Unemployed_scaled</th>\n",
              "      <td>-0.245093</td>\n",
              "    </tr>\n",
              "    <tr>\n",
              "      <th>Gender_F_scaled</th>\n",
              "      <td>-0.691254</td>\n",
              "    </tr>\n",
              "    <tr>\n",
              "      <th>Gender_M_scaled</th>\n",
              "      <td>0.691254</td>\n",
              "    </tr>\n",
              "    <tr>\n",
              "      <th>errors</th>\n",
              "      <td>0.0</td>\n",
              "    </tr>\n",
              "    <tr>\n",
              "      <th>TP</th>\n",
              "      <td>1.0</td>\n",
              "    </tr>\n",
              "    <tr>\n",
              "      <th>TN</th>\n",
              "      <td>0.0</td>\n",
              "    </tr>\n",
              "    <tr>\n",
              "      <th>FN</th>\n",
              "      <td>0.0</td>\n",
              "    </tr>\n",
              "    <tr>\n",
              "      <th>FP</th>\n",
              "      <td>0.0</td>\n",
              "    </tr>\n",
              "    <tr>\n",
              "      <th>errors_scaled</th>\n",
              "      <td>1.38006</td>\n",
              "    </tr>\n",
              "    <tr>\n",
              "      <th>TP_scaled</th>\n",
              "      <td>-1.206706</td>\n",
              "    </tr>\n",
              "    <tr>\n",
              "      <th>TN_scaled</th>\n",
              "      <td>-0.258985</td>\n",
              "    </tr>\n",
              "    <tr>\n",
              "      <th>FN_scaled</th>\n",
              "      <td>-0.34641</td>\n",
              "    </tr>\n",
              "    <tr>\n",
              "      <th>FP_scaled</th>\n",
              "      <td>1.793563</td>\n",
              "    </tr>\n",
              "    <tr>\n",
              "      <th>Shap_ForeignWorker</th>\n",
              "      <td>-0.003175</td>\n",
              "    </tr>\n",
              "    <tr>\n",
              "      <th>Shap_Single</th>\n",
              "      <td>-0.013204</td>\n",
              "    </tr>\n",
              "    <tr>\n",
              "      <th>Shap_Age</th>\n",
              "      <td>-0.032802</td>\n",
              "    </tr>\n",
              "    <tr>\n",
              "      <th>Shap_LoanAmount</th>\n",
              "      <td>-0.23037</td>\n",
              "    </tr>\n",
              "    <tr>\n",
              "      <th>Shap_OwnsHouse</th>\n",
              "      <td>0.045059</td>\n",
              "    </tr>\n",
              "    <tr>\n",
              "      <th>Shap_Unemployed</th>\n",
              "      <td>-0.015782</td>\n",
              "    </tr>\n",
              "    <tr>\n",
              "      <th>Shap_Gender_F</th>\n",
              "      <td>0.030998</td>\n",
              "    </tr>\n",
              "    <tr>\n",
              "      <th>Shap_Gender_M</th>\n",
              "      <td>-0.008958</td>\n",
              "    </tr>\n",
              "    <tr>\n",
              "      <th>Shap_ForeignWorker_scaled</th>\n",
              "      <td>1.51208</td>\n",
              "    </tr>\n",
              "    <tr>\n",
              "      <th>Shap_Single_scaled</th>\n",
              "      <td>-1.51208</td>\n",
              "    </tr>\n",
              "    <tr>\n",
              "      <th>Shap_Age_scaled</th>\n",
              "      <td>1.51208</td>\n",
              "    </tr>\n",
              "    <tr>\n",
              "      <th>Shap_LoanAmount_scaled</th>\n",
              "      <td>1.51208</td>\n",
              "    </tr>\n",
              "    <tr>\n",
              "      <th>Shap_OwnsHouse_scaled</th>\n",
              "      <td>1.51208</td>\n",
              "    </tr>\n",
              "    <tr>\n",
              "      <th>Shap_Unemployed_scaled</th>\n",
              "      <td>1.51208</td>\n",
              "    </tr>\n",
              "    <tr>\n",
              "      <th>Shap_Gender_F_scaled</th>\n",
              "      <td>1.51208</td>\n",
              "    </tr>\n",
              "    <tr>\n",
              "      <th>Shap_Gender_M_scaled</th>\n",
              "      <td>0.0</td>\n",
              "    </tr>\n",
              "    <tr>\n",
              "      <th>Error_Type</th>\n",
              "      <td>TP</td>\n",
              "    </tr>\n",
              "  </tbody>\n",
              "</table>\n",
              "</div><br><label><b>dtype:</b> object</label>"
            ]
          },
          "metadata": {},
          "execution_count": 77
        }
      ]
    },
    {
      "cell_type": "markdown",
      "source": [
        "save to csv"
      ],
      "metadata": {
        "id": "C7FDqdvcrDb7"
      }
    },
    {
      "cell_type": "code",
      "source": [
        "credit_all.to_csv('/content/drive/MyDrive/Mirthe_Supervision /Paper#2/Colab Notebooks/credit_all.csv', index=False)"
      ],
      "metadata": {
        "id": "LPwS7cW5rFJv"
      },
      "execution_count": 78,
      "outputs": []
    },
    {
      "cell_type": "markdown",
      "source": [
        "# tsne"
      ],
      "metadata": {
        "id": "YIv7o0KIsb7Z"
      }
    },
    {
      "cell_type": "code",
      "source": [
        "from sklearn.manifold import TSNE\n",
        "\n",
        "def tsne_plot(data, title, perplexity, learning_rate, n_iter, alpha, tsne_columns, other_columns = None):\n",
        "    # Ensure tsne_columns is a list and contains valid columns\n",
        "    if not isinstance(tsne_columns, list):\n",
        "        raise ValueError(\"tsne_columns should be a list of column names.\")\n",
        "\n",
        "    # Check if the selected columns are in the dataframe\n",
        "    for col in tsne_columns:\n",
        "        if col not in data.columns:\n",
        "            raise ValueError(f\"Column '{col}' is not in the dataframe.\")\n",
        "\n",
        "    # Initialize other_columns to empty list if not provided\n",
        "    if other_columns is None:\n",
        "        other_columns = []\n",
        "\n",
        "    # Ensure other_columns is a list and contains valid columns\n",
        "    if not isinstance(other_columns, list):\n",
        "        raise ValueError(\"other_columns should be a list of column names.\")\n",
        "\n",
        "    # Exclude tsne_columns from other_columns\n",
        "    exclude_columns = tsne_columns\n",
        "    other_columns = [col for col in data.columns if col not in exclude_columns]\n",
        "\n",
        "    # Extract features for t-SNE and drop Meta_columns\n",
        "    tsne_features = data[tsne_columns]\n",
        "    other_features = data[other_columns]\n",
        "\n",
        "    tsne = TSNE(n_components=2, perplexity= 30, learning_rate= 200, n_iter= 1000)\n",
        "    tsne_result = tsne.fit_transform(tsne_features)\n",
        "    tsne_df = pd.DataFrame(tsne_result, index = tsne_features.index, columns=['t-SNE Component 1', 't-SNE Component 2'])\n",
        "\n",
        "    temp_dataset = tsne_df.join(other_features, how='left')\n",
        "\n",
        "    # Create scatterplot using seaborn\n",
        "    scatterplot = sns.scatterplot(data=temp_dataset, x='t-SNE Component 1', y='t-SNE Component 2', alpha=alpha, hue=\"Error_Type\", palette='tab10', style='Error_Type')\n",
        "    scatterplot.set_title(title)\n",
        "    scatterplot.legend(loc='center left', bbox_to_anchor=(1.0, 0.5), ncol=1)\n",
        "\n",
        "    plt.show()"
      ],
      "metadata": {
        "id": "jMa88HygsevZ"
      },
      "execution_count": 79,
      "outputs": []
    },
    {
      "cell_type": "code",
      "source": [
        "tsne_plot(credit_all, 'tsne plot all', 30, 200, 1000, 0.6, tsne_columns=REG_scaled + DUMMY_scaled + ERROR_scaled+ SHAP_REG_scaled + SHAP_DUMMY_scaled, other_columns= None)\n",
        "plt.show()"
      ],
      "metadata": {
        "id": "d3Oqyx56sttb",
        "outputId": "13fe130b-8256-4247-f3b4-f4643025d27f",
        "colab": {
          "base_uri": "https://localhost:8080/",
          "height": 509
        }
      },
      "execution_count": 80,
      "outputs": [
        {
          "output_type": "stream",
          "name": "stderr",
          "text": [
            "/usr/local/lib/python3.11/dist-packages/sklearn/manifold/_t_sne.py:1164: FutureWarning: 'n_iter' was renamed to 'max_iter' in version 1.5 and will be removed in 1.7.\n",
            "  warnings.warn(\n"
          ]
        },
        {
          "output_type": "display_data",
          "data": {
            "text/plain": [
              "<Figure size 640x480 with 1 Axes>"
            ],
            "image/png": "[encoded data removed]"
          },
          "metadata": {}
        }
      ]
    },
    {
      "cell_type": "code",
      "source": [
        "tsne_plot(credit_all, 'tsne plot WITHOUT shap', 30, 200, 1000, 0.6, tsne_columns=REG_scaled + DUMMY_scaled + ERROR_scaled, other_columns= None)\n",
        "plt.show()"
      ],
      "metadata": {
        "id": "Lh3WTJabuZlZ",
        "outputId": "fc04f37a-8267-40ad-fcc7-faa082775ff6",
        "colab": {
          "base_uri": "https://localhost:8080/",
          "height": 509
        }
      },
      "execution_count": 81,
      "outputs": [
        {
          "output_type": "stream",
          "name": "stderr",
          "text": [
            "/usr/local/lib/python3.11/dist-packages/sklearn/manifold/_t_sne.py:1164: FutureWarning: 'n_iter' was renamed to 'max_iter' in version 1.5 and will be removed in 1.7.\n",
            "  warnings.warn(\n"
          ]
        },
        {
          "output_type": "display_data",
          "data": {
            "text/plain": [
              "<Figure size 640x480 with 1 Axes>"
            ],
            "image/png": "[encoded data removed]"
          },
          "metadata": {}
        }
      ]
    }
  ]
}