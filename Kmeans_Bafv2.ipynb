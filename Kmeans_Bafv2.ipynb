{
  "nbformat": 4,
  "nbformat_minor": 0,
  "metadata": {
    "colab": {
      "provenance": [],
      "collapsed_sections": [
        "_NypSKY8OM_O",
        "T4DB7lr6Op6n",
        "ot8OI3PtOvXV"
      ],
      "authorship_tag": "ABX9TyOh0Apu4m5uSzqebplIN4jc",
      "include_colab_link": true
    },
    "kernelspec": {
      "name": "python3",
      "display_name": "Python 3"
    },
    "language_info": {
      "name": "python"
    }
  },
  "cells": [
    {
      "cell_type": "markdown",
      "metadata": {
        "id": "view-in-github",
        "colab_type": "text"
      },
      "source": [
        "<a href=\"https://colab.research.google.com/github/MDankloff/ClusterCompas/blob/main/Kmeans_Bafv2.ipynb\" target=\"_parent\"><img src=\"https://colab.research.google.com/assets/colab-badge.svg\" alt=\"Open In Colab\"/></a>"
      ]
    },
    {
      "cell_type": "markdown",
      "source": [
        "## Libraries"
      ],
      "metadata": {
        "id": "1PdnCtzI9weo"
      }
    },
    {
      "cell_type": "code",
      "execution_count": 92,
      "metadata": {
        "colab": {
          "base_uri": "https://localhost:8080/"
        },
        "id": "Um3esJVD9GFd",
        "outputId": "23760f3d-81d8-4306-e324-b2613d88c183"
      },
      "outputs": [
        {
          "output_type": "stream",
          "name": "stdout",
          "text": [
            "Drive already mounted at /content/drive; to attempt to forcibly remount, call drive.mount(\"/content/drive\", force_remount=True).\n"
          ]
        }
      ],
      "source": [
        "from google.colab import drive\n",
        "drive.mount('/content/drive')\n",
        "! cd '/content/drive/MyDrive/Mirthe_Supervision /Paper#2/Colab Notebooks'"
      ]
    },
    {
      "cell_type": "code",
      "source": [
        "import numpy as np\n",
        "import matplotlib.pyplot as plt\n",
        "import pandas as pd\n",
        "import seaborn as sns\n",
        "import random\n",
        "import os\n",
        "import math\n",
        "import scipy.stats as stats\n",
        "from scipy.stats import chi2_contingency\n",
        "from sklearn.cluster import KMeans, DBSCAN\n",
        "from sklearn.neighbors import NearestNeighbors\n",
        "from sklearn.cluster import MeanShift, estimate_bandwidth\n",
        "from sklearn.preprocessing import StandardScaler, MinMaxScaler\n",
        "from sklearn.decomposition import PCA\n",
        "from sklearn.manifold import TSNE\n",
        "from sklearn.metrics import silhouette_samples, silhouette_score\n",
        "from scipy import stats\n",
        "from scipy.stats import ttest_ind\n",
        "from scipy.stats import f_oneway\n",
        "from google.colab import files\n",
        "import re\n",
        "\n",
        "import warnings\n",
        "warnings.filterwarnings('ignore')"
      ],
      "metadata": {
        "id": "9Z4rfAWL90G_"
      },
      "execution_count": 93,
      "outputs": []
    },
    {
      "cell_type": "markdown",
      "source": [
        "# UTILS"
      ],
      "metadata": {
        "id": "tTn_RgT8-DRw"
      }
    },
    {
      "cell_type": "markdown",
      "source": [
        "Set of Features (aka data columns)"
      ],
      "metadata": {
        "id": "dahEhY_--FiI"
      }
    },
    {
      "cell_type": "code",
      "source": [
        "#Master dataset\n",
        "#FEATURES\n",
        "META = ['clusters', 'new_clusters']\n",
        "ERROR = ['errors', 'TP', 'TN', 'FN', 'FP']\n",
        "REG = ['bank_branch_count_8w',\n",
        "       #'credit_risk_score',\n",
        "       'device_os','month', 'session_length_in_minutes', 'email_is_free',\n",
        "       'proposed_credit_limit',\n",
        "       'name_email_similarity',\n",
        "      'zip_count_4w', 'date_of_birth_distinct_emails_4w', 'phone_mobile_valid', 'has_other_cards', 'foreign_request']\n",
        "SEN = ['customer_age', 'income'] #protected attributes in BAF paper also employment_status\n",
        "DUMMY = ['source_INTERNET', 'source_TELEAPP', 'device_os_other', 'device_os_macintosh','device_os_linux','device_os_windows', 'device_os_x11']\n",
        "\n",
        "#FEATURES SCALED\n",
        "ERROR_scaled = ['errors_scaled']\n",
        "REG_scaled = ['bank_branch_count_8w_scaled',\n",
        "              #'credit_risk_score_scaled',\n",
        "              #'device_os_scaled', dummied\n",
        "              'month_scaled', 'session_length_in_minutes_scaled',\n",
        "              'email_is_free_scaled',\n",
        "              'proposed_credit_limit_scaled',\n",
        "              'name_email_similarity_scaled',\n",
        "              'zip_count_4w_scaled',\n",
        "              'date_of_birth_distinct_emails_4w_scaled','has_other_cards_scaled', 'foreign_request_scaled']\n",
        "SEN_scaled = ['customer_age_scaled', 'income_scaled']\n",
        "DUMMY_scaled = ['source_INTERNET_scaled', 'source_TELEAPP_scaled', 'device_os_other_scaled', 'device_os_macintosh_scaled', 'device_os_linux_scaled', 'device_os_windows_scaled', 'device_os_x11_scaled']\n",
        "\n",
        "\n",
        "#SHAP FEATURES\n",
        "SHAP_REG = [\n",
        "    'Shap_bank_branch_count_8w',\n",
        "    #'Shap_credit_risk_score',\n",
        "    #'Shap_device_os',\n",
        "    'Shap_month',\n",
        "    'Shap_session_length_in_minutes', 'Shap_email_is_free',\n",
        "    'Shap_proposed_credit_limit', 'Shap_name_email_similarity',\n",
        "    'Shap_zip_count_4w', 'Shap_date_of_birth_distinct_emails_4w',\n",
        "    'Shap_phone_mobile_valid', 'Shap_has_other_cards', 'Shap_foreign_request'\n",
        "]\n",
        "\n",
        "SHAP_SEN = ['Shap_customer_age', 'Shap_income']\n",
        "\n",
        "SHAP_DUMMY = [\n",
        "    'Shap_source_INTERNET', 'Shap_source_TELEAPP',\n",
        "    'Shap_device_os_other', 'Shap_device_os_macintosh',\n",
        "    'Shap_device_os_linux', 'Shap_device_os_windows', 'Shap_device_os_x11'\n",
        "]\n",
        "\n",
        "#SHAP FEATURES SCALED\n",
        "SHAP_REG_scaled = [\n",
        "    'Shap_bank_branch_count_8w_scaled',\n",
        "    #'Shap_credit_risk_score_scaled',\n",
        "    #'Shap_device_os_scaled',\n",
        "    'Shap_month_scaled', 'Shap_session_length_in_minutes_scaled',\n",
        "    'Shap_email_is_free_scaled', 'Shap_proposed_credit_limit_scaled',\n",
        "    'Shap_name_email_similarity_scaled', 'Shap_zip_count_4w_scaled',\n",
        "    'Shap_date_of_birth_distinct_emails_4w_scaled',\n",
        "    'Shap_phone_mobile_valid_scaled', 'Shap_has_other_cards_scaled',\n",
        "    'Shap_foreign_request_scaled'\n",
        "]\n",
        "\n",
        "SHAP_SEN_scaled = ['Shap_customer_age_scaled', 'Shap_income_scaled']\n",
        "\n",
        "SHAP_DUMMY_scaled = [\n",
        "    'Shap_source_INTERNET_scaled', 'Shap_source_TELEAPP_scaled',\n",
        "    'Shap_device_os_other_scaled', 'Shap_device_os_macintosh_scaled',\n",
        "    'Shap_device_os_linux_scaled', 'Shap_device_os_windows_scaled',\n",
        "    'Shap_device_os_x11_scaled'\n",
        "]\n",
        "\n",
        "'''removed features = 'device_fraud_count', 'intended_balcon_amount', 'payment_type', 'days_since_request',\n",
        "'velocity_6h', 'velocity_24h', 'velocity_4w', 'keep_alive_session', 'prev_address_months_count', 'current_address_months_count', 'phone_home_valid',\n",
        "'bank_months_count', 'device_distinct_emails_8w', 'housing_status', 'employment_status' '''"
      ],
      "metadata": {
        "colab": {
          "base_uri": "https://localhost:8080/",
          "height": 73
        },
        "id": "bBZBBmk8-JQ2",
        "outputId": "155909cc-4c13-41c2-c68c-2c08e374d648"
      },
      "execution_count": 94,
      "outputs": [
        {
          "output_type": "execute_result",
          "data": {
            "text/plain": [
              "\"removed features = 'device_fraud_count', 'intended_balcon_amount', 'payment_type', 'days_since_request',\\n'velocity_6h', 'velocity_24h', 'velocity_4w', 'keep_alive_session', 'prev_address_months_count', 'current_address_months_count', 'phone_home_valid',\\n'bank_months_count', 'device_distinct_emails_8w', 'housing_status', 'employment_status' \""
            ],
            "application/vnd.google.colaboratory.intrinsic+json": {
              "type": "string"
            }
          },
          "metadata": {},
          "execution_count": 94
        }
      ]
    },
    {
      "cell_type": "markdown",
      "source": [
        "# Utils for Data prep"
      ],
      "metadata": {
        "id": "MrCFVWz4CMiz"
      }
    },
    {
      "cell_type": "code",
      "source": [
        "#Seperate TPFN & TNFP dataset\n",
        "'''Drop rows where both TP and FN are 0 '''\n",
        "def subset_TP_FN(data):\n",
        "    return data.loc[(data['TP'] == 1) | (data['FN'] == 1)]\n",
        "\n",
        "'''Drop rows where both TN and FP are 0'''\n",
        "def subset_TN_FP(data):\n",
        "    return data.loc[(data['TN'] == 1) | (data['FP'] == 1)]\n",
        "\n",
        "'''undo Dummy for DUMMY_source or DUMMY_device'''\n",
        "def undo_dummy(data, with_Dummy, col_label, numeric_values=True, short_label=None):\n",
        "  data[col_label] = ''\n",
        "  for i, c in enumerate(with_Dummy):\n",
        "    values = np.sort(data[c].unique())\n",
        "    if numeric_values:\n",
        "      data.loc[data[c] == values[1], col_label] = i\n",
        "    else:\n",
        "      if short_label is None:\n",
        "        raise ValueError(\"short label must be provided if numeric_values is False\")\n",
        "        data.loc[data[c] == values[1], col_label] = short_label[i]\n",
        "    data = data.drop(c, axis=1)\n",
        "  return(data)\n",
        "\n",
        "#data = undo_dummy(data, DUMMY_RACE, col_label='race', numeric_values=False, short_label=SHORT_LABEL_RACE)\n",
        "#data = undo_dummy(data, DUMMY_GENDER, col_label='gender', numeric_values=False, short_label=SHORT_LABEL_GENDER)\n"
      ],
      "metadata": {
        "id": "duYEXRK8COmm"
      },
      "execution_count": 95,
      "outputs": []
    },
    {
      "cell_type": "markdown",
      "source": [
        "# Utils for Clustering"
      ],
      "metadata": {
        "id": "FTFOkvQ1Cp8k"
      }
    },
    {
      "cell_type": "code",
      "source": [
        "# Calculate average (unscaled) Error rate by counting the amount of max values (1) and dividing them by the total nr of rows\n",
        "# Does not work on scaled (binary) error features\n",
        "def get_error_rate(data, column='errors'):\n",
        "  if len(data) == 0:\n",
        "    print ('calculating error rate on an empty set')\n",
        "    return\n",
        "  max_value = data[column].max()\n",
        "  count_max_value = (data[column] == max_value).sum()\n",
        "  average_error_rate = count_max_value / len(data)\n",
        "  return average_error_rate\n",
        "\n",
        "\n",
        "def get_next_cluster(data, cluster_col, min_size, all_cluster_ids, banned_clusters):\n",
        "  if(len(banned_clusters) != 0):\n",
        "    filter_tf = np.isin(all_cluster_ids, banned_clusters, invert=True)\n",
        "    all_cluster_ids = all_cluster_ids[filter_tf]\n",
        "\n",
        "  for candidate_cluster_id in all_cluster_ids:\n",
        "    if candidate_cluster_id == -1:\n",
        "      continue\n",
        "\n",
        "    #print ('This is the next cluster:', candidate_cluster_id)\n",
        "\n",
        "    candidate_cluster = data.loc[data[cluster_col] == candidate_cluster_id]\n",
        "\n",
        "    if len(candidate_cluster) < min_size:\n",
        "      #print('...it is too small:', len(candidate_cluster))\n",
        "      continue\n",
        "    else:\n",
        "      return(candidate_cluster_id)\n",
        "\n",
        "  #print('No suitable clusters were found!')\n",
        "  return(-1)\n"
      ],
      "metadata": {
        "id": "yx91KNqYCnXD"
      },
      "execution_count": 96,
      "outputs": []
    },
    {
      "cell_type": "markdown",
      "source": [
        "# Utils for Results"
      ],
      "metadata": {
        "id": "1Q4IY7w8DXMe"
      }
    },
    {
      "cell_type": "code",
      "source": [
        "print(v2_all['customer_age'])"
      ],
      "metadata": {
        "colab": {
          "base_uri": "https://localhost:8080/"
        },
        "id": "LmnSgQcNHEqa",
        "outputId": "0b162d4e-63be-4eb4-ab83-c7ec75e69ca7"
      },
      "execution_count": 97,
      "outputs": [
        {
          "output_type": "stream",
          "name": "stdout",
          "text": [
            "0       0.261503\n",
            "1       1.761534\n",
            "2       1.011519\n",
            "3       1.761534\n",
            "4      -0.488512\n",
            "          ...   \n",
            "3481   -1.238527\n",
            "3482    1.761534\n",
            "3483    0.261503\n",
            "3484    1.761534\n",
            "3485    1.011519\n",
            "Name: customer_age, Length: 3486, dtype: float64\n"
          ]
        }
      ]
    },
    {
      "cell_type": "code",
      "source": [
        "print(v2_all['customer_age_scaled'])"
      ],
      "metadata": {
        "colab": {
          "base_uri": "https://localhost:8080/"
        },
        "id": "JussnW-0HqmW",
        "outputId": "ad518a85-a064-401d-9e76-f42bdbd96d0c"
      },
      "execution_count": 98,
      "outputs": [
        {
          "output_type": "stream",
          "name": "stdout",
          "text": [
            "0       0.261503\n",
            "1       1.761534\n",
            "2       1.011519\n",
            "3       1.761534\n",
            "4      -0.488512\n",
            "          ...   \n",
            "3481   -1.238527\n",
            "3482    1.761534\n",
            "3483    0.261503\n",
            "3484    1.761534\n",
            "3485    1.011519\n",
            "Name: customer_age_scaled, Length: 3486, dtype: float64\n"
          ]
        }
      ]
    },
    {
      "cell_type": "code",
      "source": [
        "v2_all['income'].unique()"
      ],
      "metadata": {
        "colab": {
          "base_uri": "https://localhost:8080/"
        },
        "id": "cLp1yrnCHQI6",
        "outputId": "d06d02f6-86eb-4bb0-a631-9a7a5edc0310"
      },
      "execution_count": 99,
      "outputs": [
        {
          "output_type": "execute_result",
          "data": {
            "text/plain": [
              "array([ 1.00953952,  0.6715943 , -0.34224137,  0.33364908, -1.69402226,\n",
              "       -0.00429615, -1.01813182, -0.68018659, -1.35607704])"
            ]
          },
          "metadata": {},
          "execution_count": 99
        }
      ]
    },
    {
      "cell_type": "markdown",
      "source": [
        "make recap"
      ],
      "metadata": {
        "id": "_CnlAGCQDb16"
      }
    },
    {
      "cell_type": "code",
      "source": [
        "def make_recap(data_result, feature_set):\n",
        "    # Make recap of cluster info with error rates\n",
        "    res = data_result[['clusters', 'errors']]\n",
        "\n",
        "    # Cluster size\n",
        "    temp = data_result[['clusters']]\n",
        "    temp['count'] = 1\n",
        "    recap = temp.groupby(['clusters'], as_index=False).sum()\n",
        "\n",
        "    # Number of errors\n",
        "    recap['n_error'] = res.groupby(['clusters']).sum().astype(int)\n",
        "\n",
        "    # Error rate calculation\n",
        "    recap['error_rate'] = res.groupby(['clusters']).mean()\n",
        "\n",
        "    # Quality metrics preparation\n",
        "    diff_vs_rest = []\n",
        "    diff_p = []\n",
        "\n",
        "    age_prop = []\n",
        "    age_diff = []\n",
        "    age_p = []\n",
        "\n",
        "    income_prop = []\n",
        "    income_diff = []\n",
        "    income_p = []\n",
        "\n",
        "    silhouette = []\n",
        "\n",
        "    # Calculate silhouette scores\n",
        "    clusters = data_result['clusters']\n",
        "    if len(recap['clusters'].unique()) > 1:\n",
        "        silhouette_val = silhouette_samples(data_result[feature_set], clusters)\n",
        "\n",
        "    for c in recap['clusters']:\n",
        "        # In-cluster data\n",
        "        c_data = data_result.loc[data_result['clusters'] == c]\n",
        "        c_count = recap['count'][c]\n",
        "\n",
        "        # Out-of-cluster data\n",
        "        rest_data = data_result.loc[data_result['clusters'] != c]\n",
        "        if len(rest_data) == 0:\n",
        "            diff_vs_rest.extend([np.nan] * 2)\n",
        "            age_prop.extend([np.nan] * 3)\n",
        "            income_prop.extend([np.nan] * 3)\n",
        "            silhouette.append(np.nan)\n",
        "            continue\n",
        "\n",
        "        # Add silhouette score\n",
        "        silhouette.append(silhouette_val[clusters == c].mean())\n",
        "\n",
        "        rest_recap = recap.loc[recap['clusters'] != c]\n",
        "        rest_count = rest_recap['count'].sum()\n",
        "\n",
        "        # Error rate difference\n",
        "        rest_n_error = rest_recap['n_error'].sum()\n",
        "        rest_rate = rest_n_error / rest_count\n",
        "        diff_vs_rest.append(recap['error_rate'][c] - rest_rate)\n",
        "\n",
        "        # Poisson stat test for errors\n",
        "        if any(x < 1 for x in [recap['n_error'][c], recap['count'][c], rest_n_error, rest_count]):\n",
        "            res = stats.poisson_means_test(recap['count'][c] - recap['n_error'][c], recap['count'][c],\n",
        "                                           rest_count - rest_n_error, rest_count)\n",
        "        else:\n",
        "            res = stats.poisson_means_test(recap['n_error'][c], recap['count'][c], rest_n_error, rest_count)\n",
        "        diff_p.append(round(res.pvalue, 3))\n",
        "\n",
        "        #### Sensitive features (age, income)\n",
        "        # Age feature (customer_age)\n",
        "        rest_n_age = rest_data['customer_age'].sum()\n",
        "        rest_prop_age = rest_n_age / rest_count\n",
        "        c_n_age = c_data['customer_age'].sum()\n",
        "        c_prop_age = c_n_age / c_count\n",
        "\n",
        "        age_prop.append(c_prop_age)\n",
        "        age_diff.append(c_prop_age - rest_prop_age)\n",
        "\n",
        "        '''original code (float): if any(x < 1 for x in [c_n_age, c_count, rest_n_age, rest_count]):\n",
        "            res = stats.poisson_means_test(c_count - c_n_age, c_count, rest_count - rest_n_age, rest_count)\n",
        "        else:\n",
        "            res = stats.poisson_means_test(c_n_age, c_count, rest_n_age, rest_count)\n",
        "        age_p.append(round(res.pvalue, 3))'''\n",
        "\n",
        "        # Ensure integer values are passed to poisson_means_test\n",
        "        if any(x < 1 for x in [c_n_age, c_count, rest_n_age, rest_count]):\n",
        "            res = stats.poisson_means_test(int(c_count - c_n_age), int(c_count), int(rest_count - rest_n_age), int(rest_count)) # Convert to integers here\n",
        "        else:\n",
        "            res = stats.poisson_means_test(int(c_n_age), int(c_count), int(rest_n_age), int(rest_count)) # Convert to integers here\n",
        "        age_p.append(round(res.pvalue, 3))\n",
        "\n",
        "\n",
        "        # Income feature (income)\n",
        "        rest_n_income = rest_data['income'].sum()\n",
        "        rest_prop_income = rest_n_income / rest_count\n",
        "        c_n_income = c_data['income'].sum()\n",
        "        c_prop_income = c_n_income / c_count\n",
        "\n",
        "        income_prop.append(c_prop_income)\n",
        "        income_diff.append(c_prop_income - rest_prop_income)\n",
        "\n",
        "        '''original code (float): if any(x < 1 for x in [c_n_income, c_count, rest_n_income, rest_count]):\n",
        "            res = stats.poisson_means_test(c_count - c_n_income, c_count, rest_count - rest_n_income, rest_count)\n",
        "        else:\n",
        "            res = stats.poisson_means_test(c_n_income, c_count, rest_n_income, rest_count)\n",
        "        income_p.append(round(res.pvalue, 3))'''\n",
        "\n",
        "        if any(x < 1 for x in [c_n_income, c_count, rest_n_income, rest_count]):\n",
        "            res = stats.poisson_means_test(int(c_count - c_n_income), int(c_count), int(rest_count - rest_n_income), int(rest_count)) # Convert to integers here\n",
        "        else:\n",
        "            res = stats.poisson_means_test(int(c_n_income), int(c_count), int(rest_n_income), int(rest_count)) # Convert to integers here\n",
        "        income_p.append(round(res.pvalue, 3))\n",
        "\n",
        "\n",
        "    # Populate recap DataFrame with results\n",
        "    recap['diff_vs_rest'] = np.around(diff_vs_rest, 3)\n",
        "    recap['diff_p'] = diff_p\n",
        "    recap['age_prop'] = np.around(age_prop, 3)\n",
        "    recap['age_diff'] = np.around(age_diff, 3)\n",
        "    recap['age_p'] = age_p\n",
        "    recap['income_prop'] = np.around(income_prop, 3)\n",
        "    recap['income_diff'] = np.around(income_diff, 3)\n",
        "    recap['income_p'] = income_p\n",
        "    recap['silhouette'] = silhouette\n",
        "    recap['error_rate'] = np.around(recap['error_rate'], 3)\n",
        "\n",
        "    # Rename columns for clarity\n",
        "    recap.rename(columns={'clusters': 'c'}, inplace=True)\n",
        "\n",
        "    return recap\n"
      ],
      "metadata": {
        "id": "fUzX1WJpDZx-"
      },
      "execution_count": 100,
      "outputs": []
    },
    {
      "cell_type": "markdown",
      "source": [
        "## Chi-Square Tests"
      ],
      "metadata": {
        "id": "E8eom7jtHfqo"
      }
    },
    {
      "cell_type": "code",
      "source": [
        "def make_chi_tests(results):\n",
        "  chi_res = {'cond_descr': [],\n",
        "            'cond_name': [],\n",
        "            'error': [],\n",
        "            'age': [],\n",
        "            'income': []}\n",
        "\n",
        "  for i in range(0, len(results['cond_name'])):\n",
        "    chi_res['cond_descr'].append(results['cond_descr'][i])\n",
        "    chi_res['cond_name'].append(results['cond_name'][i])\n",
        "    data = results['cond_res'][i]\n",
        "    recap = results['cond_recap'][i]\n",
        "\n",
        "    if(len(recap['diff_p']) == 1):\n",
        "      chi_res['error'].append(np.nan)\n",
        "      chi_res['age'].append(np.nan)\n",
        "      chi_res['income'].append(np.nan)\n",
        "      continue\n",
        "\n",
        "    # Test error differences\n",
        "    test_data = recap[['count', 'n_error']].copy(deep=True)\n",
        "\n",
        "    test_data['count'] = test_data['count'] - test_data['n_error']\n",
        "    test_data = test_data.rename(columns={\"count\": \"n_correct\"})\n",
        "\n",
        "    test_data = test_data.transpose()\n",
        "    test_res = chi2_contingency(test_data)\n",
        "    chi_res['error'].append(round(test_res.pvalue, 6))\n",
        "\n",
        "    #print(test_data)\n",
        "    # print(round(test_res.pvalue, 6))\n",
        "\n",
        "    # Test income differences\n",
        "    test_data = recap[['count', 'income_prop']].copy(deep=True)\n",
        "\n",
        "    test_data['income_prop'] = round(test_data['count'] * test_data['income_prop'])\n",
        "    test_data = test_data.rename(columns={\"income_prop\": \"income_n\"}).astype(int)\n",
        "\n",
        "    test_data['count'] = test_data['count'] - test_data['income_n']\n",
        "    test_data = test_data.rename(columns={\"count\": \"income_n\"})\n",
        "\n",
        "    test_data = test_data.transpose()\n",
        "    test_res = chi2_contingency(test_data)\n",
        "    chi_res['income'].append(round(test_res.pvalue, 6))\n",
        "\n",
        "    # print(test_data)\n",
        "    # print(round(test_res.pvalue, 6))\n",
        "\n",
        "    # Test age differences\n",
        "    test_data = recap[['count', 'age_prop']].copy(deep=True)\n",
        "\n",
        "    test_data['age_prop'] = round(test_data['count'] * test_data['age_prop'])\n",
        "    test_data = test_data.rename(columns={\"age_prop\": \"age_n\"}).astype(int)\n",
        "\n",
        "    test_data['count'] = test_data['count'] - test_data['age_n']\n",
        "    test_data = test_data.rename(columns={\"count\": \"age_n\"})\n",
        "\n",
        "    test_data = test_data.transpose()\n",
        "    test_res = chi2_contingency(test_data)\n",
        "    chi_res['age'].append(round(test_res.pvalue, 6))\n",
        "\n",
        "  return(pd.DataFrame(chi_res))\n"
      ],
      "metadata": {
        "id": "sTsR15R6HQfJ"
      },
      "execution_count": 101,
      "outputs": []
    },
    {
      "cell_type": "markdown",
      "source": [
        "## All Quality Metrics"
      ],
      "metadata": {
        "id": "_NypSKY8OM_O"
      }
    },
    {
      "cell_type": "code",
      "source": [
        "def recap_quali_metrics(chi_res, results, exp_condition):\n",
        "  all_quali = {'cond_descr': chi_res['cond_descr'],\n",
        "            'cond_name': chi_res['cond_name'],\n",
        "            'error': chi_res['error'],\n",
        "            'age': chi_res['age'],\n",
        "            'income': chi_res['income'],\n",
        "            'silhouette': []}\n",
        "\n",
        "  for i in range(0, len(chi_res['cond_name'])):\n",
        "    data = results['cond_res'][i]\n",
        "    feature_set = exp_condition['feature_set'][i]\n",
        "    clusters = data['clusters']\n",
        "    recap = results['cond_recap'][i]\n",
        "    if(len(recap['diff_p']) == 1):\n",
        "      all_quali['silhouette'].append(np.nan)\n",
        "      continue\n",
        "    silhouette_indiv = silhouette_samples(data[feature_set], clusters)\n",
        "    silhouette_avg = silhouette_indiv.mean()\n",
        "    all_quali['silhouette'].append(silhouette_avg)\n",
        "\n",
        "  return(pd.DataFrame(all_quali))"
      ],
      "metadata": {
        "id": "IQefKTk3OQEV"
      },
      "execution_count": 102,
      "outputs": []
    },
    {
      "cell_type": "markdown",
      "source": [
        "## Utils for VIZ"
      ],
      "metadata": {
        "id": "T4DB7lr6Op6n"
      }
    },
    {
      "cell_type": "code",
      "source": [
        "def tsne_plot_wClusters(data, title, perplexity, learning_rate, n_iter, alpha, size, tsne_columns, fig_prefix):\n",
        "  # Extract features for t-SNE and drop other_columns\n",
        "  tsne_features = data[tsne_columns]\n",
        "  other_columns = [col for col in data.columns if col not in tsne_features]\n",
        "  other_features = data[other_columns]\n",
        "\n",
        "  tsne = TSNE(n_components=2, perplexity=perplexity, learning_rate=learning_rate, n_iter=n_iter)\n",
        "  tsne_result = tsne.fit_transform(tsne_features)\n",
        "  tsne_df = pd.DataFrame(tsne_result, index = tsne_features.index, columns=['t-SNE Component 1', 't-SNE Component 2'])\n",
        "\n",
        "  temp_dataset = tsne_df.join(other_features, how='left')\n",
        "\n",
        "  # Create scatterplot using seaborn\n",
        "  scatterplot = sns.scatterplot(data=temp_dataset, x='t-SNE Component 1', y='t-SNE Component 2', alpha=alpha, s=size,\n",
        "                                hue=\"clusters\", palette='tab10', style='Error_Type')\n",
        "  scatterplot.set_title(title)\n",
        "  scatterplot.legend(loc='center left', bbox_to_anchor=(1.0, 0.5), ncol=1)\n",
        "\n",
        "  plt.savefig(fig_prefix+re.sub(' +', '', title)+'.png', bbox_inches='tight', pad_inches=0)\n",
        "  plt.show()"
      ],
      "metadata": {
        "id": "XsHEidlPOsWg"
      },
      "execution_count": 103,
      "outputs": []
    },
    {
      "cell_type": "markdown",
      "source": [
        "# K-Means Clustering"
      ],
      "metadata": {
        "id": "ot8OI3PtOvXV"
      }
    },
    {
      "cell_type": "code",
      "source": [
        "def hbac_kmeans(data, columns_to_use=[], error='errors',\n",
        "                min_splittable_cluster_prop = 0.05,\n",
        "                min_acceptable_cluster_prop = 0.03,\n",
        "                min_acceptable_error_diff = 0.01,\n",
        "                max_iter=300,\n",
        "                random_state=None):\n",
        "    clus_model_kwargs = {\n",
        "        \"n_clusters\": 2,  # Number of clusters to form\n",
        "        \"init\": \"k-means++\",  # Centroids initialization method\n",
        "        \"n_init\": 10,  # Number of initializations\n",
        "        \"max_iter\": max_iter,  # Maximum iterations for a single run\n",
        "    }\n",
        "\n",
        "    min_splittable_cluster_size = round(min_splittable_cluster_prop * len(data))  # Minimum size of cluster to be split\n",
        "    min_acceptable_cluster_size = round(min_acceptable_cluster_prop * len(data))  # Minimum acceptable size of cluster after split\n",
        "\n",
        "    # Initialize loop's variables\n",
        "    data['clusters'] = 0\n",
        "    banned_clusters = []\n",
        "\n",
        "    #### CLUSTERING LOOP\n",
        "    for i in range(1, max_iter):\n",
        "      # Init temporary cluster\n",
        "      data['new_clusters'] = None\n",
        "\n",
        "      ### Select the cluster to split in 2\n",
        "      x = get_next_cluster(data, 'clusters', min_splittable_cluster_size, data['clusters'].unique(), banned_clusters)\n",
        "      if(x == -1):\n",
        "        break\n",
        "\n",
        "      candidate_cluster = data.copy(deep=True)\n",
        "      candidate_cluster = candidate_cluster.loc[candidate_cluster['clusters'] == x]\n",
        "\n",
        "      #### SPLIT IN 2 SUB-CLUSTERS\n",
        "      kmeans = KMeans(**clus_model_kwargs).fit(candidate_cluster[columns_to_use])\n",
        "      candidate_cluster['new_clusters'] = kmeans.labels_\n",
        "\n",
        "      # KEEP CLUSTER OR NOT\n",
        "      # ...are cluster size large enough?\n",
        "      l0 = len(candidate_cluster.loc[candidate_cluster['new_clusters'] == 0])\n",
        "      l1 = len(candidate_cluster.loc[candidate_cluster['new_clusters'] == 1])\n",
        "\n",
        "      if((l0 < min_acceptable_cluster_size) | (l1 < min_acceptable_cluster_size)):\n",
        "        #print('Bad split: too small')\n",
        "        banned_clusters.append(x)\n",
        "        continue\n",
        "\n",
        "      # ...is error rate difference large enough?\n",
        "      e0 = get_error_rate(candidate_cluster.loc[candidate_cluster['new_clusters'] == 0])\n",
        "      e1 = get_error_rate(candidate_cluster.loc[candidate_cluster['new_clusters'] == 1])\n",
        "\n",
        "      if(abs(e0 - e1) < min_acceptable_error_diff):\n",
        "        #print('Bad split: same error')\n",
        "        banned_clusters.append(x)\n",
        "        continue\n",
        "\n",
        "      ### Re-integrate to main data\n",
        "      data['new_clusters'] = candidate_cluster['new_clusters'].combine_first(data['new_clusters'])\n",
        "\n",
        "      # Make new Cluster IDs\n",
        "      new_id = data['clusters'].unique().max() + 1\n",
        "      data.loc[((data.clusters == x) & (data.new_clusters == 1)), 'clusters'] = new_id\n",
        "\n",
        "    #print('Max iterations reached:', i)\n",
        "    return data"
      ],
      "metadata": {
        "id": "tMIkBd8VOurn"
      },
      "execution_count": 104,
      "outputs": []
    },
    {
      "cell_type": "markdown",
      "source": [
        "# SETUP EXPERIMENTS"
      ],
      "metadata": {
        "id": "_MXFx6AUP4Wy"
      }
    },
    {
      "cell_type": "markdown",
      "source": [
        "### Prepare Data"
      ],
      "metadata": {
        "id": "CaUgZzHeP9ic"
      }
    },
    {
      "cell_type": "code",
      "source": [
        "v2_all = pd.read_csv('/content/drive/MyDrive/Mirthe_Supervision /Paper#2/Colab Notebooks/v2_all_pre-processed.csv')\n",
        "\n",
        "#split into TP/FN and TN/FP\n",
        "TPFN_data = subset_TP_FN(v2_all)\n",
        "TNFP_data = subset_TN_FP(v2_all)\n",
        "\n",
        "# Drop NA's\n",
        "TPFN_data = TPFN_data.dropna()\n",
        "TNFP_data = TNFP_data.dropna()"
      ],
      "metadata": {
        "id": "PxI5az1TP8Ka"
      },
      "execution_count": 105,
      "outputs": []
    },
    {
      "cell_type": "markdown",
      "source": [
        "### Set experimental conditions"
      ],
      "metadata": {
        "id": "ghRId9HGQjne"
      }
    },
    {
      "cell_type": "code",
      "source": [
        "##### HBAC parameters\n",
        "min_splittable_cluster_prop = 0.05\n",
        "min_acceptable_cluster_prop = 0.05\n",
        "min_acceptable_error_diff = 0.005\n",
        "\n",
        "##### Make and name the sets of features to experiment with\n",
        "feature_set_name = []\n",
        "feature_set_descr = []\n",
        "feature_set = []\n",
        "\n",
        "######### BASELINE HBAC\n",
        "### Does adding SHAP help the clustering?\n",
        "# Baseline (Mitzal-Radheka)\n",
        "feature_set_name.append(f'+REG +SEN  -err     -shap')\n",
        "feature_set_descr.append('Baseline')\n",
        "feature_set.append(REG_scaled + DUMMY_scaled + SEN_scaled)\n",
        "\n",
        "# Baseline with Error (Selma)\n",
        "feature_set_name.append('+REG +SEN +ERR  -shap')\n",
        "feature_set_descr.append('Baseline with Error')\n",
        "feature_set.append(REG_scaled + DUMMY_scaled + SEN_scaled + ERROR_scaled)\n",
        "\n",
        "# Adding SHAP values to Baseline (Mirthe;)\n",
        "feature_set_name.append('+REG +SEN  -err    +SHAP')\n",
        "feature_set_descr.append('Baseline with SHAP')\n",
        "feature_set.append(REG_scaled + DUMMY_scaled + SEN_scaled + SHAP_REG_scaled + SHAP_DUMMY_scaled + SHAP_SEN_scaled)\n",
        "\n",
        "feature_set_name.append('+REG +SEN +ERR  +SHAP')\n",
        "feature_set_descr.append('Baseline with SHAP & Error')\n",
        "feature_set.append(REG_scaled + DUMMY_scaled + SEN_scaled + ERROR_scaled + SHAP_REG_scaled + SHAP_DUMMY_scaled + SHAP_SEN_scaled)\n",
        "\n",
        "\n",
        "############ SHAP-ONLY HBAC\n",
        "### Does SHAP alone allow to identify clusters?\n",
        "# Using only SHAP values\n",
        "feature_set_name.append('-reg    -sen    -err     +SHAP')\n",
        "feature_set_descr.append('SHAP only')\n",
        "feature_set.append(SHAP_REG_scaled + SHAP_DUMMY_scaled)\n",
        "\n",
        "feature_set_name.append('-reg    -sen    +ERR  +SHAP')\n",
        "feature_set_descr.append('SHAP only with Error')\n",
        "feature_set.append(SHAP_REG_scaled + SHAP_DUMMY_scaled + ERROR_scaled)\n",
        "\n",
        "\n",
        "############ ONLY SENSITIVE FEATURES\n",
        "### Do sensitive features alone allow to identify clusters?\n",
        "# Using only Sensitive features\n",
        "feature_set_name.append('-reg    +SEN  -err     -shap')\n",
        "feature_set_descr.append('Sensitive features only')\n",
        "feature_set.append(SEN_scaled)\n",
        "\n",
        "feature_set_name.append('-reg    +SEN +ERR   -shap')\n",
        "feature_set_descr.append('Sensitive features with Error')\n",
        "feature_set.append(SEN_scaled + ERROR_scaled)\n",
        "\n",
        "### Does adding SHAP help the clustering based on sensitive features?\n",
        "# Using Sensitive features with SHAP values\n",
        "feature_set_name.append('-reg    +SEN  -err     +SHAP_S')\n",
        "feature_set_descr.append('Sensitive features with SHAP')\n",
        "feature_set.append(SEN_scaled + SHAP_SEN_scaled)\n",
        "\n",
        "feature_set_name.append('-reg    +SEN +ERR  +SHAP_S')\n",
        "feature_set_descr.append('Sensitive features with SHAP & Error')\n",
        "feature_set.append(SEN_scaled + SHAP_SEN_scaled + ERROR_scaled)\n",
        "\n",
        "# Using only SHAP of Sensitive features\n",
        "feature_set_name.append('-reg    -sen    -err     +SHAP_S')\n",
        "feature_set_descr.append('Only SHAP of Sensitive features')\n",
        "feature_set.append(SHAP_SEN_scaled)\n",
        "\n",
        "feature_set_name.append('-reg    -sen    +ERR  +SHAP_S')\n",
        "feature_set_descr.append('Only SHAP of Sensitive features')\n",
        "feature_set.append(SHAP_SEN_scaled + ERROR_scaled)\n",
        "\n",
        "\n",
        "############ ONLY REGULAR FEATURES\n",
        "#conditons without sensitive to check how much it explains the results\n",
        "feature_set_name.append('+REG -sen    -err     -shap')\n",
        "feature_set_descr.append('REG Only')\n",
        "feature_set.append(REG_scaled + DUMMY_scaled)\n",
        "\n",
        "feature_set_name.append('+REG -sen    +ERR  -shap')\n",
        "feature_set_descr.append('REG & ERROR')\n",
        "feature_set.append(REG_scaled + DUMMY_scaled + ERROR_scaled)\n",
        "\n",
        "feature_set_name.append('+REG -sen    -err     +SHAP_R')\n",
        "feature_set_descr.append('REG & SHAP')\n",
        "feature_set.append(REG_scaled + DUMMY_scaled + SHAP_REG_scaled) # ERROR FIXED\n",
        "\n",
        "feature_set_name.append('+REG -sen    +ERR  +SHAP_R')\n",
        "feature_set_descr.append('REG, ERROR & SHAP')\n",
        "feature_set.append(REG_scaled + DUMMY_scaled + ERROR_scaled + SHAP_REG_scaled) # ERROR FIXED\n",
        "\n",
        "# Using only SHAP of Regular features\n",
        "feature_set_name.append('-reg    -sen    -err     +SHAP_R')\n",
        "feature_set_descr.append('Only SHAP of Regular features')\n",
        "feature_set.append(SHAP_REG_scaled)\n",
        "\n",
        "feature_set_name.append('-reg    -sen    +ERR  +SHAP_R')\n",
        "feature_set_descr.append('Only SHAP of Regular features + Error')\n",
        "feature_set.append(SHAP_REG_scaled + ERROR_scaled)\n",
        "\n",
        "exp_condition = pd.DataFrame({'feature_set_descr': feature_set_descr,\n",
        "                              'feature_set_name': feature_set_name,\n",
        "                              'feature_set': feature_set})\n",
        "exp_condition\n"
      ],
      "metadata": {
        "colab": {
          "base_uri": "https://localhost:8080/",
          "height": 614
        },
        "id": "xG1RKfVsQmP7",
        "outputId": "50513b58-7440-4d42-d6ca-256f8d8e66a5"
      },
      "execution_count": 106,
      "outputs": [
        {
          "output_type": "execute_result",
          "data": {
            "text/plain": [
              "                        feature_set_descr                  feature_set_name  \\\n",
              "0                                Baseline         +REG +SEN  -err     -shap   \n",
              "1                     Baseline with Error             +REG +SEN +ERR  -shap   \n",
              "2                      Baseline with SHAP          +REG +SEN  -err    +SHAP   \n",
              "3              Baseline with SHAP & Error             +REG +SEN +ERR  +SHAP   \n",
              "4                               SHAP only    -reg    -sen    -err     +SHAP   \n",
              "5                    SHAP only with Error       -reg    -sen    +ERR  +SHAP   \n",
              "6                 Sensitive features only      -reg    +SEN  -err     -shap   \n",
              "7           Sensitive features with Error         -reg    +SEN +ERR   -shap   \n",
              "8            Sensitive features with SHAP    -reg    +SEN  -err     +SHAP_S   \n",
              "9    Sensitive features with SHAP & Error        -reg    +SEN +ERR  +SHAP_S   \n",
              "10        Only SHAP of Sensitive features  -reg    -sen    -err     +SHAP_S   \n",
              "11        Only SHAP of Sensitive features     -reg    -sen    +ERR  +SHAP_S   \n",
              "12                               REG Only       +REG -sen    -err     -shap   \n",
              "13                            REG & ERROR          +REG -sen    +ERR  -shap   \n",
              "14                             REG & SHAP     +REG -sen    -err     +SHAP_R   \n",
              "15                      REG, ERROR & SHAP        +REG -sen    +ERR  +SHAP_R   \n",
              "16          Only SHAP of Regular features  -reg    -sen    -err     +SHAP_R   \n",
              "17  Only SHAP of Regular features + Error     -reg    -sen    +ERR  +SHAP_R   \n",
              "\n",
              "                                          feature_set  \n",
              "0   [bank_branch_count_8w_scaled, month_scaled, se...  \n",
              "1   [bank_branch_count_8w_scaled, month_scaled, se...  \n",
              "2   [bank_branch_count_8w_scaled, month_scaled, se...  \n",
              "3   [bank_branch_count_8w_scaled, month_scaled, se...  \n",
              "4   [Shap_bank_branch_count_8w_scaled, Shap_month_...  \n",
              "5   [Shap_bank_branch_count_8w_scaled, Shap_month_...  \n",
              "6                [customer_age_scaled, income_scaled]  \n",
              "7   [customer_age_scaled, income_scaled, errors_sc...  \n",
              "8   [customer_age_scaled, income_scaled, Shap_cust...  \n",
              "9   [customer_age_scaled, income_scaled, Shap_cust...  \n",
              "10     [Shap_customer_age_scaled, Shap_income_scaled]  \n",
              "11  [Shap_customer_age_scaled, Shap_income_scaled,...  \n",
              "12  [bank_branch_count_8w_scaled, month_scaled, se...  \n",
              "13  [bank_branch_count_8w_scaled, month_scaled, se...  \n",
              "14  [bank_branch_count_8w_scaled, month_scaled, se...  \n",
              "15  [bank_branch_count_8w_scaled, month_scaled, se...  \n",
              "16  [Shap_bank_branch_count_8w_scaled, Shap_month_...  \n",
              "17  [Shap_bank_branch_count_8w_scaled, Shap_month_...  "
            ],
            "text/html": [
              "\n",
              "  <div id=\"df-d099fc33-5cb0-49a0-b8d4-967fa1571801\" class=\"colab-df-container\">\n",
              "    <div>\n",
              "<style scoped>\n",
              "    .dataframe tbody tr th:only-of-type {\n",
              "        vertical-align: middle;\n",
              "    }\n",
              "\n",
              "    .dataframe tbody tr th {\n",
              "        vertical-align: top;\n",
              "    }\n",
              "\n",
              "    .dataframe thead th {\n",
              "        text-align: right;\n",
              "    }\n",
              "</style>\n",
              "<table border=\"1\" class=\"dataframe\">\n",
              "  <thead>\n",
              "    <tr style=\"text-align: right;\">\n",
              "      <th></th>\n",
              "      <th>feature_set_descr</th>\n",
              "      <th>feature_set_name</th>\n",
              "      <th>feature_set</th>\n",
              "    </tr>\n",
              "  </thead>\n",
              "  <tbody>\n",
              "    <tr>\n",
              "      <th>0</th>\n",
              "      <td>Baseline</td>\n",
              "      <td>+REG +SEN  -err     -shap</td>\n",
              "      <td>[bank_branch_count_8w_scaled, month_scaled, se...</td>\n",
              "    </tr>\n",
              "    <tr>\n",
              "      <th>1</th>\n",
              "      <td>Baseline with Error</td>\n",
              "      <td>+REG +SEN +ERR  -shap</td>\n",
              "      <td>[bank_branch_count_8w_scaled, month_scaled, se...</td>\n",
              "    </tr>\n",
              "    <tr>\n",
              "      <th>2</th>\n",
              "      <td>Baseline with SHAP</td>\n",
              "      <td>+REG +SEN  -err    +SHAP</td>\n",
              "      <td>[bank_branch_count_8w_scaled, month_scaled, se...</td>\n",
              "    </tr>\n",
              "    <tr>\n",
              "      <th>3</th>\n",
              "      <td>Baseline with SHAP &amp; Error</td>\n",
              "      <td>+REG +SEN +ERR  +SHAP</td>\n",
              "      <td>[bank_branch_count_8w_scaled, month_scaled, se...</td>\n",
              "    </tr>\n",
              "    <tr>\n",
              "      <th>4</th>\n",
              "      <td>SHAP only</td>\n",
              "      <td>-reg    -sen    -err     +SHAP</td>\n",
              "      <td>[Shap_bank_branch_count_8w_scaled, Shap_month_...</td>\n",
              "    </tr>\n",
              "    <tr>\n",
              "      <th>5</th>\n",
              "      <td>SHAP only with Error</td>\n",
              "      <td>-reg    -sen    +ERR  +SHAP</td>\n",
              "      <td>[Shap_bank_branch_count_8w_scaled, Shap_month_...</td>\n",
              "    </tr>\n",
              "    <tr>\n",
              "      <th>6</th>\n",
              "      <td>Sensitive features only</td>\n",
              "      <td>-reg    +SEN  -err     -shap</td>\n",
              "      <td>[customer_age_scaled, income_scaled]</td>\n",
              "    </tr>\n",
              "    <tr>\n",
              "      <th>7</th>\n",
              "      <td>Sensitive features with Error</td>\n",
              "      <td>-reg    +SEN +ERR   -shap</td>\n",
              "      <td>[customer_age_scaled, income_scaled, errors_sc...</td>\n",
              "    </tr>\n",
              "    <tr>\n",
              "      <th>8</th>\n",
              "      <td>Sensitive features with SHAP</td>\n",
              "      <td>-reg    +SEN  -err     +SHAP_S</td>\n",
              "      <td>[customer_age_scaled, income_scaled, Shap_cust...</td>\n",
              "    </tr>\n",
              "    <tr>\n",
              "      <th>9</th>\n",
              "      <td>Sensitive features with SHAP &amp; Error</td>\n",
              "      <td>-reg    +SEN +ERR  +SHAP_S</td>\n",
              "      <td>[customer_age_scaled, income_scaled, Shap_cust...</td>\n",
              "    </tr>\n",
              "    <tr>\n",
              "      <th>10</th>\n",
              "      <td>Only SHAP of Sensitive features</td>\n",
              "      <td>-reg    -sen    -err     +SHAP_S</td>\n",
              "      <td>[Shap_customer_age_scaled, Shap_income_scaled]</td>\n",
              "    </tr>\n",
              "    <tr>\n",
              "      <th>11</th>\n",
              "      <td>Only SHAP of Sensitive features</td>\n",
              "      <td>-reg    -sen    +ERR  +SHAP_S</td>\n",
              "      <td>[Shap_customer_age_scaled, Shap_income_scaled,...</td>\n",
              "    </tr>\n",
              "    <tr>\n",
              "      <th>12</th>\n",
              "      <td>REG Only</td>\n",
              "      <td>+REG -sen    -err     -shap</td>\n",
              "      <td>[bank_branch_count_8w_scaled, month_scaled, se...</td>\n",
              "    </tr>\n",
              "    <tr>\n",
              "      <th>13</th>\n",
              "      <td>REG &amp; ERROR</td>\n",
              "      <td>+REG -sen    +ERR  -shap</td>\n",
              "      <td>[bank_branch_count_8w_scaled, month_scaled, se...</td>\n",
              "    </tr>\n",
              "    <tr>\n",
              "      <th>14</th>\n",
              "      <td>REG &amp; SHAP</td>\n",
              "      <td>+REG -sen    -err     +SHAP_R</td>\n",
              "      <td>[bank_branch_count_8w_scaled, month_scaled, se...</td>\n",
              "    </tr>\n",
              "    <tr>\n",
              "      <th>15</th>\n",
              "      <td>REG, ERROR &amp; SHAP</td>\n",
              "      <td>+REG -sen    +ERR  +SHAP_R</td>\n",
              "      <td>[bank_branch_count_8w_scaled, month_scaled, se...</td>\n",
              "    </tr>\n",
              "    <tr>\n",
              "      <th>16</th>\n",
              "      <td>Only SHAP of Regular features</td>\n",
              "      <td>-reg    -sen    -err     +SHAP_R</td>\n",
              "      <td>[Shap_bank_branch_count_8w_scaled, Shap_month_...</td>\n",
              "    </tr>\n",
              "    <tr>\n",
              "      <th>17</th>\n",
              "      <td>Only SHAP of Regular features + Error</td>\n",
              "      <td>-reg    -sen    +ERR  +SHAP_R</td>\n",
              "      <td>[Shap_bank_branch_count_8w_scaled, Shap_month_...</td>\n",
              "    </tr>\n",
              "  </tbody>\n",
              "</table>\n",
              "</div>\n",
              "    <div class=\"colab-df-buttons\">\n",
              "\n",
              "  <div class=\"colab-df-container\">\n",
              "    <button class=\"colab-df-convert\" onclick=\"convertToInteractive('df-d099fc33-5cb0-49a0-b8d4-967fa1571801')\"\n",
              "            title=\"Convert this dataframe to an interactive table.\"\n",
              "            style=\"display:none;\">\n",
              "\n",
              "  <svg xmlns=\"http://www.w3.org/2000/svg\" height=\"24px\" viewBox=\"0 -960 960 960\">\n",
              "    <path d=\"M120-120v-720h720v720H120Zm60-500h600v-160H180v160Zm220 220h160v-160H400v160Zm0 220h160v-160H400v160ZM180-400h160v-160H180v160Zm440 0h160v-160H620v160ZM180-180h160v-160H180v160Zm440 0h160v-160H620v160Z\"/>\n",
              "  </svg>\n",
              "    </button>\n",
              "\n",
              "  <style>\n",
              "    .colab-df-container {\n",
              "      display:flex;\n",
              "      gap: 12px;\n",
              "    }\n",
              "\n",
              "    .colab-df-convert {\n",
              "      background-color: #E8F0FE;\n",
              "      border: none;\n",
              "      border-radius: 50%;\n",
              "      cursor: pointer;\n",
              "      display: none;\n",
              "      fill: #1967D2;\n",
              "      height: 32px;\n",
              "      padding: 0 0 0 0;\n",
              "      width: 32px;\n",
              "    }\n",
              "\n",
              "    .colab-df-convert:hover {\n",
              "      background-color: #E2EBFA;\n",
              "      box-shadow: 0px 1px 2px rgba(60, 64, 67, 0.3), 0px 1px 3px 1px rgba(60, 64, 67, 0.15);\n",
              "      fill: #174EA6;\n",
              "    }\n",
              "\n",
              "    .colab-df-buttons div {\n",
              "      margin-bottom: 4px;\n",
              "    }\n",
              "\n",
              "    [theme=dark] .colab-df-convert {\n",
              "      background-color: #3B4455;\n",
              "      fill: #D2E3FC;\n",
              "    }\n",
              "\n",
              "    [theme=dark] .colab-df-convert:hover {\n",
              "      background-color: #434B5C;\n",
              "      box-shadow: 0px 1px 3px 1px rgba(0, 0, 0, 0.15);\n",
              "      filter: drop-shadow(0px 1px 2px rgba(0, 0, 0, 0.3));\n",
              "      fill: #FFFFFF;\n",
              "    }\n",
              "  </style>\n",
              "\n",
              "    <script>\n",
              "      const buttonEl =\n",
              "        document.querySelector('#df-d099fc33-5cb0-49a0-b8d4-967fa1571801 button.colab-df-convert');\n",
              "      buttonEl.style.display =\n",
              "        google.colab.kernel.accessAllowed ? 'block' : 'none';\n",
              "\n",
              "      async function convertToInteractive(key) {\n",
              "        const element = document.querySelector('#df-d099fc33-5cb0-49a0-b8d4-967fa1571801');\n",
              "        const dataTable =\n",
              "          await google.colab.kernel.invokeFunction('convertToInteractive',\n",
              "                                                    [key], {});\n",
              "        if (!dataTable) return;\n",
              "\n",
              "        const docLinkHtml = 'Like what you see? Visit the ' +\n",
              "          '<a target=\"_blank\" href=https://colab.research.google.com/notebooks/data_table.ipynb>data table notebook</a>'\n",
              "          + ' to learn more about interactive tables.';\n",
              "        element.innerHTML = '';\n",
              "        dataTable['output_type'] = 'display_data';\n",
              "        await google.colab.output.renderOutput(dataTable, element);\n",
              "        const docLink = document.createElement('div');\n",
              "        docLink.innerHTML = docLinkHtml;\n",
              "        element.appendChild(docLink);\n",
              "      }\n",
              "    </script>\n",
              "  </div>\n",
              "\n",
              "\n",
              "<div id=\"df-dedd065f-27e4-43bf-a82e-009bcdfb2312\">\n",
              "  <button class=\"colab-df-quickchart\" onclick=\"quickchart('df-dedd065f-27e4-43bf-a82e-009bcdfb2312')\"\n",
              "            title=\"Suggest charts\"\n",
              "            style=\"display:none;\">\n",
              "\n",
              "<svg xmlns=\"http://www.w3.org/2000/svg\" height=\"24px\"viewBox=\"0 0 24 24\"\n",
              "     width=\"24px\">\n",
              "    <g>\n",
              "        <path d=\"M19 3H5c-1.1 0-2 .9-2 2v14c0 1.1.9 2 2 2h14c1.1 0 2-.9 2-2V5c0-1.1-.9-2-2-2zM9 17H7v-7h2v7zm4 0h-2V7h2v10zm4 0h-2v-4h2v4z\"/>\n",
              "    </g>\n",
              "</svg>\n",
              "  </button>\n",
              "\n",
              "<style>\n",
              "  .colab-df-quickchart {\n",
              "      --bg-color: #E8F0FE;\n",
              "      --fill-color: #1967D2;\n",
              "      --hover-bg-color: #E2EBFA;\n",
              "      --hover-fill-color: #174EA6;\n",
              "      --disabled-fill-color: #AAA;\n",
              "      --disabled-bg-color: #DDD;\n",
              "  }\n",
              "\n",
              "  [theme=dark] .colab-df-quickchart {\n",
              "      --bg-color: #3B4455;\n",
              "      --fill-color: #D2E3FC;\n",
              "      --hover-bg-color: #434B5C;\n",
              "      --hover-fill-color: #FFFFFF;\n",
              "      --disabled-bg-color: #3B4455;\n",
              "      --disabled-fill-color: #666;\n",
              "  }\n",
              "\n",
              "  .colab-df-quickchart {\n",
              "    background-color: var(--bg-color);\n",
              "    border: none;\n",
              "    border-radius: 50%;\n",
              "    cursor: pointer;\n",
              "    display: none;\n",
              "    fill: var(--fill-color);\n",
              "    height: 32px;\n",
              "    padding: 0;\n",
              "    width: 32px;\n",
              "  }\n",
              "\n",
              "  .colab-df-quickchart:hover {\n",
              "    background-color: var(--hover-bg-color);\n",
              "    box-shadow: 0 1px 2px rgba(60, 64, 67, 0.3), 0 1px 3px 1px rgba(60, 64, 67, 0.15);\n",
              "    fill: var(--button-hover-fill-color);\n",
              "  }\n",
              "\n",
              "  .colab-df-quickchart-complete:disabled,\n",
              "  .colab-df-quickchart-complete:disabled:hover {\n",
              "    background-color: var(--disabled-bg-color);\n",
              "    fill: var(--disabled-fill-color);\n",
              "    box-shadow: none;\n",
              "  }\n",
              "\n",
              "  .colab-df-spinner {\n",
              "    border: 2px solid var(--fill-color);\n",
              "    border-color: transparent;\n",
              "    border-bottom-color: var(--fill-color);\n",
              "    animation:\n",
              "      spin 1s steps(1) infinite;\n",
              "  }\n",
              "\n",
              "  @keyframes spin {\n",
              "    0% {\n",
              "      border-color: transparent;\n",
              "      border-bottom-color: var(--fill-color);\n",
              "      border-left-color: var(--fill-color);\n",
              "    }\n",
              "    20% {\n",
              "      border-color: transparent;\n",
              "      border-left-color: var(--fill-color);\n",
              "      border-top-color: var(--fill-color);\n",
              "    }\n",
              "    30% {\n",
              "      border-color: transparent;\n",
              "      border-left-color: var(--fill-color);\n",
              "      border-top-color: var(--fill-color);\n",
              "      border-right-color: var(--fill-color);\n",
              "    }\n",
              "    40% {\n",
              "      border-color: transparent;\n",
              "      border-right-color: var(--fill-color);\n",
              "      border-top-color: var(--fill-color);\n",
              "    }\n",
              "    60% {\n",
              "      border-color: transparent;\n",
              "      border-right-color: var(--fill-color);\n",
              "    }\n",
              "    80% {\n",
              "      border-color: transparent;\n",
              "      border-right-color: var(--fill-color);\n",
              "      border-bottom-color: var(--fill-color);\n",
              "    }\n",
              "    90% {\n",
              "      border-color: transparent;\n",
              "      border-bottom-color: var(--fill-color);\n",
              "    }\n",
              "  }\n",
              "</style>\n",
              "\n",
              "  <script>\n",
              "    async function quickchart(key) {\n",
              "      const quickchartButtonEl =\n",
              "        document.querySelector('#' + key + ' button');\n",
              "      quickchartButtonEl.disabled = true;  // To prevent multiple clicks.\n",
              "      quickchartButtonEl.classList.add('colab-df-spinner');\n",
              "      try {\n",
              "        const charts = await google.colab.kernel.invokeFunction(\n",
              "            'suggestCharts', [key], {});\n",
              "      } catch (error) {\n",
              "        console.error('Error during call to suggestCharts:', error);\n",
              "      }\n",
              "      quickchartButtonEl.classList.remove('colab-df-spinner');\n",
              "      quickchartButtonEl.classList.add('colab-df-quickchart-complete');\n",
              "    }\n",
              "    (() => {\n",
              "      let quickchartButtonEl =\n",
              "        document.querySelector('#df-dedd065f-27e4-43bf-a82e-009bcdfb2312 button');\n",
              "      quickchartButtonEl.style.display =\n",
              "        google.colab.kernel.accessAllowed ? 'block' : 'none';\n",
              "    })();\n",
              "  </script>\n",
              "</div>\n",
              "\n",
              "  <div id=\"id_b8503b69-7eb1-424a-b47e-63cfd8b42b4f\">\n",
              "    <style>\n",
              "      .colab-df-generate {\n",
              "        background-color: #E8F0FE;\n",
              "        border: none;\n",
              "        border-radius: 50%;\n",
              "        cursor: pointer;\n",
              "        display: none;\n",
              "        fill: #1967D2;\n",
              "        height: 32px;\n",
              "        padding: 0 0 0 0;\n",
              "        width: 32px;\n",
              "      }\n",
              "\n",
              "      .colab-df-generate:hover {\n",
              "        background-color: #E2EBFA;\n",
              "        box-shadow: 0px 1px 2px rgba(60, 64, 67, 0.3), 0px 1px 3px 1px rgba(60, 64, 67, 0.15);\n",
              "        fill: #174EA6;\n",
              "      }\n",
              "\n",
              "      [theme=dark] .colab-df-generate {\n",
              "        background-color: #3B4455;\n",
              "        fill: #D2E3FC;\n",
              "      }\n",
              "\n",
              "      [theme=dark] .colab-df-generate:hover {\n",
              "        background-color: #434B5C;\n",
              "        box-shadow: 0px 1px 3px 1px rgba(0, 0, 0, 0.15);\n",
              "        filter: drop-shadow(0px 1px 2px rgba(0, 0, 0, 0.3));\n",
              "        fill: #FFFFFF;\n",
              "      }\n",
              "    </style>\n",
              "    <button class=\"colab-df-generate\" onclick=\"generateWithVariable('exp_condition')\"\n",
              "            title=\"Generate code using this dataframe.\"\n",
              "            style=\"display:none;\">\n",
              "\n",
              "  <svg xmlns=\"http://www.w3.org/2000/svg\" height=\"24px\"viewBox=\"0 0 24 24\"\n",
              "       width=\"24px\">\n",
              "    <path d=\"M7,19H8.4L18.45,9,17,7.55,7,17.6ZM5,21V16.75L18.45,3.32a2,2,0,0,1,2.83,0l1.4,1.43a1.91,1.91,0,0,1,.58,1.4,1.91,1.91,0,0,1-.58,1.4L9.25,21ZM18.45,9,17,7.55Zm-12,3A5.31,5.31,0,0,0,4.9,8.1,5.31,5.31,0,0,0,1,6.5,5.31,5.31,0,0,0,4.9,4.9,5.31,5.31,0,0,0,6.5,1,5.31,5.31,0,0,0,8.1,4.9,5.31,5.31,0,0,0,12,6.5,5.46,5.46,0,0,0,6.5,12Z\"/>\n",
              "  </svg>\n",
              "    </button>\n",
              "    <script>\n",
              "      (() => {\n",
              "      const buttonEl =\n",
              "        document.querySelector('#id_b8503b69-7eb1-424a-b47e-63cfd8b42b4f button.colab-df-generate');\n",
              "      buttonEl.style.display =\n",
              "        google.colab.kernel.accessAllowed ? 'block' : 'none';\n",
              "\n",
              "      buttonEl.onclick = () => {\n",
              "        google.colab.notebook.generateWithVariable('exp_condition');\n",
              "      }\n",
              "      })();\n",
              "    </script>\n",
              "  </div>\n",
              "\n",
              "    </div>\n",
              "  </div>\n"
            ],
            "application/vnd.google.colaboratory.intrinsic+json": {
              "type": "dataframe",
              "variable_name": "exp_condition",
              "summary": "{\n  \"name\": \"exp_condition\",\n  \"rows\": 18,\n  \"fields\": [\n    {\n      \"column\": \"feature_set_descr\",\n      \"properties\": {\n        \"dtype\": \"string\",\n        \"num_unique_values\": 17,\n        \"samples\": [\n          \"Baseline\",\n          \"Baseline with Error\",\n          \"SHAP only with Error\"\n        ],\n        \"semantic_type\": \"\",\n        \"description\": \"\"\n      }\n    },\n    {\n      \"column\": \"feature_set_name\",\n      \"properties\": {\n        \"dtype\": \"string\",\n        \"num_unique_values\": 18,\n        \"samples\": [\n          \"+REG +SEN  -err     -shap\",\n          \"+REG +SEN +ERR  -shap\",\n          \"-reg    +SEN  -err     +SHAP_S\"\n        ],\n        \"semantic_type\": \"\",\n        \"description\": \"\"\n      }\n    },\n    {\n      \"column\": \"feature_set\",\n      \"properties\": {\n        \"dtype\": \"object\",\n        \"semantic_type\": \"\",\n        \"description\": \"\"\n      }\n    }\n  ]\n}"
            }
          },
          "metadata": {},
          "execution_count": 106
        }
      ]
    },
    {
      "cell_type": "markdown",
      "source": [
        "#TPFN RESULTS"
      ],
      "metadata": {
        "id": "GSeOiRdSTuRm"
      }
    },
    {
      "cell_type": "code",
      "source": [
        "TPFN_data.info()"
      ],
      "metadata": {
        "colab": {
          "base_uri": "https://localhost:8080/"
        },
        "id": "WUfrSlGWMOen",
        "outputId": "de4bdfd2-ce3f-4566-9461-afbe27d9cef4"
      },
      "execution_count": 109,
      "outputs": [
        {
          "output_type": "stream",
          "name": "stdout",
          "text": [
            "<class 'pandas.core.frame.DataFrame'>\n",
            "Index: 1844 entries, 1642 to 3485\n",
            "Data columns (total 90 columns):\n",
            " #   Column                                        Non-Null Count  Dtype  \n",
            "---  ------                                        --------------  -----  \n",
            " 0   income                                        1844 non-null   float64\n",
            " 1   name_email_similarity                         1844 non-null   float64\n",
            " 2   customer_age                                  1844 non-null   float64\n",
            " 3   zip_count_4w                                  1844 non-null   float64\n",
            " 4   bank_branch_count_8w                          1844 non-null   float64\n",
            " 5   date_of_birth_distinct_emails_4w              1844 non-null   float64\n",
            " 6   email_is_free                                 1844 non-null   float64\n",
            " 7   phone_mobile_valid                            1844 non-null   float64\n",
            " 8   has_other_cards                               1844 non-null   float64\n",
            " 9   proposed_credit_limit                         1844 non-null   float64\n",
            " 10  foreign_request                               1844 non-null   float64\n",
            " 11  session_length_in_minutes                     1844 non-null   float64\n",
            " 12  month                                         1844 non-null   float64\n",
            " 13  source_INTERNET                               1844 non-null   float64\n",
            " 14  source_TELEAPP                                1844 non-null   float64\n",
            " 15  device_os_linux                               1844 non-null   float64\n",
            " 16  device_os_macintosh                           1844 non-null   float64\n",
            " 17  device_os_other                               1844 non-null   float64\n",
            " 18  device_os_windows                             1844 non-null   float64\n",
            " 19  device_os_x11                                 1844 non-null   float64\n",
            " 20  errors                                        1844 non-null   float64\n",
            " 21  TP                                            1844 non-null   float64\n",
            " 22  TN                                            1844 non-null   float64\n",
            " 23  FN                                            1844 non-null   float64\n",
            " 24  FP                                            1844 non-null   float64\n",
            " 25  income_scaled                                 1844 non-null   float64\n",
            " 26  name_email_similarity_scaled                  1844 non-null   float64\n",
            " 27  customer_age_scaled                           1844 non-null   float64\n",
            " 28  zip_count_4w_scaled                           1844 non-null   float64\n",
            " 29  bank_branch_count_8w_scaled                   1844 non-null   float64\n",
            " 30  date_of_birth_distinct_emails_4w_scaled       1844 non-null   float64\n",
            " 31  email_is_free_scaled                          1844 non-null   float64\n",
            " 32  phone_mobile_valid_scaled                     1844 non-null   float64\n",
            " 33  has_other_cards_scaled                        1844 non-null   float64\n",
            " 34  proposed_credit_limit_scaled                  1844 non-null   float64\n",
            " 35  foreign_request_scaled                        1844 non-null   float64\n",
            " 36  session_length_in_minutes_scaled              1844 non-null   float64\n",
            " 37  month_scaled                                  1844 non-null   float64\n",
            " 38  source_INTERNET_scaled                        1844 non-null   float64\n",
            " 39  source_TELEAPP_scaled                         1844 non-null   float64\n",
            " 40  device_os_linux_scaled                        1844 non-null   float64\n",
            " 41  device_os_macintosh_scaled                    1844 non-null   float64\n",
            " 42  device_os_other_scaled                        1844 non-null   float64\n",
            " 43  device_os_windows_scaled                      1844 non-null   float64\n",
            " 44  device_os_x11_scaled                          1844 non-null   float64\n",
            " 45  errors_scaled                                 1844 non-null   float64\n",
            " 46  TP_scaled                                     1844 non-null   float64\n",
            " 47  TN_scaled                                     1844 non-null   float64\n",
            " 48  FN_scaled                                     1844 non-null   float64\n",
            " 49  FP_scaled                                     1844 non-null   float64\n",
            " 50  Shap_income                                   1844 non-null   float64\n",
            " 51  Shap_name_email_similarity                    1844 non-null   float64\n",
            " 52  Shap_customer_age                             1844 non-null   float64\n",
            " 53  Shap_zip_count_4w                             1844 non-null   float64\n",
            " 54  Shap_bank_branch_count_8w                     1844 non-null   float64\n",
            " 55  Shap_date_of_birth_distinct_emails_4w         1844 non-null   float64\n",
            " 56  Shap_email_is_free                            1844 non-null   float64\n",
            " 57  Shap_phone_mobile_valid                       1844 non-null   float64\n",
            " 58  Shap_has_other_cards                          1844 non-null   float64\n",
            " 59  Shap_proposed_credit_limit                    1844 non-null   float64\n",
            " 60  Shap_foreign_request                          1844 non-null   float64\n",
            " 61  Shap_session_length_in_minutes                1844 non-null   float64\n",
            " 62  Shap_month                                    1844 non-null   float64\n",
            " 63  Shap_source_INTERNET                          1844 non-null   float64\n",
            " 64  Shap_source_TELEAPP                           1844 non-null   float64\n",
            " 65  Shap_device_os_linux                          1844 non-null   float64\n",
            " 66  Shap_device_os_macintosh                      1844 non-null   float64\n",
            " 67  Shap_device_os_other                          1844 non-null   float64\n",
            " 68  Shap_device_os_windows                        1844 non-null   float64\n",
            " 69  Shap_device_os_x11                            1844 non-null   float64\n",
            " 70  Shap_income_scaled                            1844 non-null   float64\n",
            " 71  Shap_name_email_similarity_scaled             1844 non-null   float64\n",
            " 72  Shap_customer_age_scaled                      1844 non-null   float64\n",
            " 73  Shap_zip_count_4w_scaled                      1844 non-null   float64\n",
            " 74  Shap_bank_branch_count_8w_scaled              1844 non-null   float64\n",
            " 75  Shap_date_of_birth_distinct_emails_4w_scaled  1844 non-null   float64\n",
            " 76  Shap_email_is_free_scaled                     1844 non-null   float64\n",
            " 77  Shap_phone_mobile_valid_scaled                1844 non-null   float64\n",
            " 78  Shap_has_other_cards_scaled                   1844 non-null   float64\n",
            " 79  Shap_proposed_credit_limit_scaled             1844 non-null   float64\n",
            " 80  Shap_foreign_request_scaled                   1844 non-null   float64\n",
            " 81  Shap_session_length_in_minutes_scaled         1844 non-null   float64\n",
            " 82  Shap_month_scaled                             1844 non-null   float64\n",
            " 83  Shap_source_INTERNET_scaled                   1844 non-null   float64\n",
            " 84  Shap_source_TELEAPP_scaled                    1844 non-null   float64\n",
            " 85  Shap_device_os_linux_scaled                   1844 non-null   float64\n",
            " 86  Shap_device_os_macintosh_scaled               1844 non-null   float64\n",
            " 87  Shap_device_os_other_scaled                   1844 non-null   float64\n",
            " 88  Shap_device_os_windows_scaled                 1844 non-null   float64\n",
            " 89  Shap_device_os_x11_scaled                     1844 non-null   float64\n",
            "dtypes: float64(90)\n",
            "memory usage: 1.3 MB\n"
          ]
        }
      ]
    },
    {
      "cell_type": "markdown",
      "source": [
        "## Execute experiments"
      ],
      "metadata": {
        "id": "DPFyVTgsPtc_"
      }
    },
    {
      "cell_type": "code",
      "source": [
        "# Set global seed\n",
        "seed_value = 42\n",
        "np.random.seed(seed_value)\n",
        "random.seed(seed_value)\n",
        "\n",
        "results = {'cond_name': [],\n",
        "           'cond_descr': [],\n",
        "           'cond_res': [],\n",
        "           'cond_recap': []}\n",
        "\n",
        "for i in range(0, len(exp_condition)):\n",
        "    # Pass seed to ensure reproducibility\n",
        "    res = hbac_kmeans(TNFP_data.copy(deep=True),\n",
        "                      columns_to_use=exp_condition['feature_set'][i],\n",
        "                      error='errors',\n",
        "                      min_splittable_cluster_prop=min_splittable_cluster_prop,\n",
        "                      min_acceptable_cluster_prop=min_acceptable_cluster_prop,\n",
        "                      min_acceptable_error_diff=min_acceptable_error_diff,\n",
        "                      max_iter=100,\n",
        "                      random_state=seed_value)  # Assuming hbac_kmeans accepts random_state\n",
        "\n",
        "    recap = make_recap(res, exp_condition['feature_set'][i])\n",
        "\n",
        "    results['cond_name'].append(exp_condition['feature_set_name'][i])\n",
        "    results['cond_descr'].append(exp_condition['feature_set_descr'][i])\n",
        "    results['cond_res'].append(res)\n",
        "    results['cond_recap'].append(recap)\n"
      ],
      "metadata": {
        "colab": {
          "base_uri": "https://localhost:8080/",
          "height": 373
        },
        "id": "UjgafyONPtI9",
        "outputId": "0b08202f-165e-413f-c11f-6ba1fd715632"
      },
      "execution_count": 108,
      "outputs": [
        {
          "output_type": "error",
          "ename": "ValueError",
          "evalue": "`k1` and `k2` must be greater than or equal to 0.",
          "traceback": [
            "\u001b[0;31m---------------------------------------------------------------------------\u001b[0m",
            "\u001b[0;31mValueError\u001b[0m                                Traceback (most recent call last)",
            "\u001b[0;32m<ipython-input-108-0342b9818404>\u001b[0m in \u001b[0;36m<cell line: 11>\u001b[0;34m()\u001b[0m\n\u001b[1;32m     20\u001b[0m                       random_state=seed_value)  # Assuming hbac_kmeans accepts random_state\n\u001b[1;32m     21\u001b[0m \u001b[0;34m\u001b[0m\u001b[0m\n\u001b[0;32m---> 22\u001b[0;31m     \u001b[0mrecap\u001b[0m \u001b[0;34m=\u001b[0m \u001b[0mmake_recap\u001b[0m\u001b[0;34m(\u001b[0m\u001b[0mres\u001b[0m\u001b[0;34m,\u001b[0m \u001b[0mexp_condition\u001b[0m\u001b[0;34m[\u001b[0m\u001b[0;34m'feature_set'\u001b[0m\u001b[0;34m]\u001b[0m\u001b[0;34m[\u001b[0m\u001b[0mi\u001b[0m\u001b[0;34m]\u001b[0m\u001b[0;34m)\u001b[0m\u001b[0;34m\u001b[0m\u001b[0;34m\u001b[0m\u001b[0m\n\u001b[0m\u001b[1;32m     23\u001b[0m \u001b[0;34m\u001b[0m\u001b[0m\n\u001b[1;32m     24\u001b[0m     \u001b[0mresults\u001b[0m\u001b[0;34m[\u001b[0m\u001b[0;34m'cond_name'\u001b[0m\u001b[0;34m]\u001b[0m\u001b[0;34m.\u001b[0m\u001b[0mappend\u001b[0m\u001b[0;34m(\u001b[0m\u001b[0mexp_condition\u001b[0m\u001b[0;34m[\u001b[0m\u001b[0;34m'feature_set_name'\u001b[0m\u001b[0;34m]\u001b[0m\u001b[0;34m[\u001b[0m\u001b[0mi\u001b[0m\u001b[0;34m]\u001b[0m\u001b[0;34m)\u001b[0m\u001b[0;34m\u001b[0m\u001b[0;34m\u001b[0m\u001b[0m\n",
            "\u001b[0;32m<ipython-input-100-bffc6c3f1bc3>\u001b[0m in \u001b[0;36mmake_recap\u001b[0;34m(data_result, feature_set)\u001b[0m\n\u001b[1;32m    106\u001b[0m \u001b[0;34m\u001b[0m\u001b[0m\n\u001b[1;32m    107\u001b[0m         \u001b[0;32mif\u001b[0m \u001b[0many\u001b[0m\u001b[0;34m(\u001b[0m\u001b[0mx\u001b[0m \u001b[0;34m<\u001b[0m \u001b[0;36m1\u001b[0m \u001b[0;32mfor\u001b[0m \u001b[0mx\u001b[0m \u001b[0;32min\u001b[0m \u001b[0;34m[\u001b[0m\u001b[0mc_n_income\u001b[0m\u001b[0;34m,\u001b[0m \u001b[0mc_count\u001b[0m\u001b[0;34m,\u001b[0m \u001b[0mrest_n_income\u001b[0m\u001b[0;34m,\u001b[0m \u001b[0mrest_count\u001b[0m\u001b[0;34m]\u001b[0m\u001b[0;34m)\u001b[0m\u001b[0;34m:\u001b[0m\u001b[0;34m\u001b[0m\u001b[0;34m\u001b[0m\u001b[0m\n\u001b[0;32m--> 108\u001b[0;31m             \u001b[0mres\u001b[0m \u001b[0;34m=\u001b[0m \u001b[0mstats\u001b[0m\u001b[0;34m.\u001b[0m\u001b[0mpoisson_means_test\u001b[0m\u001b[0;34m(\u001b[0m\u001b[0mint\u001b[0m\u001b[0;34m(\u001b[0m\u001b[0mc_count\u001b[0m \u001b[0;34m-\u001b[0m \u001b[0mc_n_income\u001b[0m\u001b[0;34m)\u001b[0m\u001b[0;34m,\u001b[0m \u001b[0mint\u001b[0m\u001b[0;34m(\u001b[0m\u001b[0mc_count\u001b[0m\u001b[0;34m)\u001b[0m\u001b[0;34m,\u001b[0m \u001b[0mint\u001b[0m\u001b[0;34m(\u001b[0m\u001b[0mrest_count\u001b[0m \u001b[0;34m-\u001b[0m \u001b[0mrest_n_income\u001b[0m\u001b[0;34m)\u001b[0m\u001b[0;34m,\u001b[0m \u001b[0mint\u001b[0m\u001b[0;34m(\u001b[0m\u001b[0mrest_count\u001b[0m\u001b[0;34m)\u001b[0m\u001b[0;34m)\u001b[0m \u001b[0;31m# Convert to integers here\u001b[0m\u001b[0;34m\u001b[0m\u001b[0;34m\u001b[0m\u001b[0m\n\u001b[0m\u001b[1;32m    109\u001b[0m         \u001b[0;32melse\u001b[0m\u001b[0;34m:\u001b[0m\u001b[0;34m\u001b[0m\u001b[0;34m\u001b[0m\u001b[0m\n\u001b[1;32m    110\u001b[0m             \u001b[0mres\u001b[0m \u001b[0;34m=\u001b[0m \u001b[0mstats\u001b[0m\u001b[0;34m.\u001b[0m\u001b[0mpoisson_means_test\u001b[0m\u001b[0;34m(\u001b[0m\u001b[0mint\u001b[0m\u001b[0;34m(\u001b[0m\u001b[0mc_n_income\u001b[0m\u001b[0;34m)\u001b[0m\u001b[0;34m,\u001b[0m \u001b[0mint\u001b[0m\u001b[0;34m(\u001b[0m\u001b[0mc_count\u001b[0m\u001b[0;34m)\u001b[0m\u001b[0;34m,\u001b[0m \u001b[0mint\u001b[0m\u001b[0;34m(\u001b[0m\u001b[0mrest_n_income\u001b[0m\u001b[0;34m)\u001b[0m\u001b[0;34m,\u001b[0m \u001b[0mint\u001b[0m\u001b[0;34m(\u001b[0m\u001b[0mrest_count\u001b[0m\u001b[0;34m)\u001b[0m\u001b[0;34m)\u001b[0m \u001b[0;31m# Convert to integers here\u001b[0m\u001b[0;34m\u001b[0m\u001b[0;34m\u001b[0m\u001b[0m\n",
            "\u001b[0;32m/usr/local/lib/python3.10/dist-packages/scipy/stats/_hypotests.py\u001b[0m in \u001b[0;36mpoisson_means_test\u001b[0;34m(k1, n1, k2, n2, diff, alternative)\u001b[0m\n\u001b[1;32m    254\u001b[0m     \"\"\"\n\u001b[1;32m    255\u001b[0m \u001b[0;34m\u001b[0m\u001b[0m\n\u001b[0;32m--> 256\u001b[0;31m     \u001b[0m_poisson_means_test_iv\u001b[0m\u001b[0;34m(\u001b[0m\u001b[0mk1\u001b[0m\u001b[0;34m,\u001b[0m \u001b[0mn1\u001b[0m\u001b[0;34m,\u001b[0m \u001b[0mk2\u001b[0m\u001b[0;34m,\u001b[0m \u001b[0mn2\u001b[0m\u001b[0;34m,\u001b[0m \u001b[0mdiff\u001b[0m\u001b[0;34m,\u001b[0m \u001b[0malternative\u001b[0m\u001b[0;34m)\u001b[0m\u001b[0;34m\u001b[0m\u001b[0;34m\u001b[0m\u001b[0m\n\u001b[0m\u001b[1;32m    257\u001b[0m \u001b[0;34m\u001b[0m\u001b[0m\n\u001b[1;32m    258\u001b[0m     \u001b[0;31m# \"for a given k_1 and k_2, an estimate of \\lambda_2 is given by\" [1] (3.4)\u001b[0m\u001b[0;34m\u001b[0m\u001b[0;34m\u001b[0m\u001b[0m\n",
            "\u001b[0;32m/usr/local/lib/python3.10/dist-packages/scipy/stats/_hypotests.py\u001b[0m in \u001b[0;36m_poisson_means_test_iv\u001b[0;34m(k1, n1, k2, n2, diff, alternative)\u001b[0m\n\u001b[1;32m    339\u001b[0m     \u001b[0mcount_err\u001b[0m \u001b[0;34m=\u001b[0m \u001b[0;34m'`k1` and `k2` must be greater than or equal to 0.'\u001b[0m\u001b[0;34m\u001b[0m\u001b[0;34m\u001b[0m\u001b[0m\n\u001b[1;32m    340\u001b[0m     \u001b[0;32mif\u001b[0m \u001b[0mk1\u001b[0m \u001b[0;34m<\u001b[0m \u001b[0;36m0\u001b[0m \u001b[0;32mor\u001b[0m \u001b[0mk2\u001b[0m \u001b[0;34m<\u001b[0m \u001b[0;36m0\u001b[0m\u001b[0;34m:\u001b[0m\u001b[0;34m\u001b[0m\u001b[0;34m\u001b[0m\u001b[0m\n\u001b[0;32m--> 341\u001b[0;31m         \u001b[0;32mraise\u001b[0m \u001b[0mValueError\u001b[0m\u001b[0;34m(\u001b[0m\u001b[0mcount_err\u001b[0m\u001b[0;34m)\u001b[0m\u001b[0;34m\u001b[0m\u001b[0;34m\u001b[0m\u001b[0m\n\u001b[0m\u001b[1;32m    342\u001b[0m \u001b[0;34m\u001b[0m\u001b[0m\n\u001b[1;32m    343\u001b[0m     \u001b[0;32mif\u001b[0m \u001b[0mn1\u001b[0m \u001b[0;34m<=\u001b[0m \u001b[0;36m0\u001b[0m \u001b[0;32mor\u001b[0m \u001b[0mn2\u001b[0m \u001b[0;34m<=\u001b[0m \u001b[0;36m0\u001b[0m\u001b[0;34m:\u001b[0m\u001b[0;34m\u001b[0m\u001b[0;34m\u001b[0m\u001b[0m\n",
            "\u001b[0;31mValueError\u001b[0m: `k1` and `k2` must be greater than or equal to 0."
          ]
        }
      ]
    },
    {
      "cell_type": "code",
      "source": [
        "# Count the number of missing values in each column\n",
        "missing_counts = TNFP_data.isnull().sum(axis=0)\n",
        "\n",
        "# Print the result\n",
        "print(missing_counts)"
      ],
      "metadata": {
        "colab": {
          "base_uri": "https://localhost:8080/"
        },
        "id": "RgAS3ptFWf64",
        "outputId": "5299bfa8-7bae-4979-eaa1-4ec5879a1046"
      },
      "execution_count": 114,
      "outputs": [
        {
          "output_type": "stream",
          "name": "stdout",
          "text": [
            "income                             0\n",
            "name_email_similarity              0\n",
            "customer_age                       0\n",
            "zip_count_4w                       0\n",
            "bank_branch_count_8w               0\n",
            "                                  ..\n",
            "Shap_device_os_linux_scaled        0\n",
            "Shap_device_os_macintosh_scaled    0\n",
            "Shap_device_os_other_scaled        0\n",
            "Shap_device_os_windows_scaled      0\n",
            "Shap_device_os_x11_scaled          0\n",
            "Length: 90, dtype: int64\n"
          ]
        }
      ]
    },
    {
      "cell_type": "code",
      "source": [
        "print(TNFP_data.columns)"
      ],
      "metadata": {
        "id": "8t2OOEkoYiWw"
      },
      "execution_count": null,
      "outputs": []
    },
    {
      "cell_type": "code",
      "source": [
        "print(DUMMY_scaled)"
      ],
      "metadata": {
        "id": "KPMqt02KXQG8"
      },
      "execution_count": null,
      "outputs": []
    },
    {
      "cell_type": "markdown",
      "source": [
        "### CHI-Square Tests TNFP data"
      ],
      "metadata": {
        "id": "iW8gJmKLT6CM"
      }
    },
    {
      "cell_type": "code",
      "source": [
        "chi_res = make_chi_tests(results)\n",
        "chi_res_viz = chi_res.set_index('cond_name').drop('cond_descr', axis=1)\n",
        "chi_res_viz = round(chi_res_viz, 6)\n",
        "chi_res_viz"
      ],
      "metadata": {
        "id": "XsYyy1jnT5dP"
      },
      "execution_count": null,
      "outputs": []
    },
    {
      "cell_type": "code",
      "source": [
        "plt.figure(figsize=(10,6))\n",
        "ax = sns.heatmap(chi_res_viz, annot=True, center=0,\n",
        "                cmap=sns.color_palette(\"vlag\", as_cmap=True), robust=False)\n",
        "ax.xaxis.tick_top()\n",
        "plt.yticks(rotation='horizontal')\n",
        "plt.show()"
      ],
      "metadata": {
        "id": "flLG1XfjUAz1"
      },
      "execution_count": null,
      "outputs": []
    },
    {
      "cell_type": "markdown",
      "source": [
        "### ALL quality metrics TNFP data"
      ],
      "metadata": {
        "id": "rP8_6QDHUHgt"
      }
    },
    {
      "cell_type": "code",
      "source": [
        "all_quali = recap_quali_metrics(chi_res, results, exp_condition)\n",
        "all_quali_viz = all_quali.set_index('cond_name').drop('cond_descr', axis=1)\n",
        "all_quali_viz = round(all_quali_viz, 6)\n",
        "# all_quali_viz"
      ],
      "metadata": {
        "id": "efxep25xUDZM"
      },
      "execution_count": null,
      "outputs": []
    },
    {
      "cell_type": "code",
      "source": [
        "plt.figure(figsize=(4,4))\n",
        "ax = sns.heatmap(all_quali_viz, annot=True, center=0, cbar=False,\n",
        "                cmap=sns.color_palette(\"vlag\", as_cmap=True), robust=True)\n",
        "ax.set(xlabel=\"\", ylabel=\"\")\n",
        "ax.xaxis.tick_top()\n",
        "ax.tick_params(axis='x', which='major', length=0)\n",
        "ax.tick_params(axis='y', which='major', pad=150, length=0)\n",
        "plt.yticks(ha='left')\n",
        "plt.savefig('TNFP_Kmeans.png', bbox_inches='tight', pad_inches=0)\n",
        "files.download('TNFP_Kmeans.png')\n",
        "plt.show()\n"
      ],
      "metadata": {
        "id": "0ul4KVDEUFDt"
      },
      "execution_count": null,
      "outputs": []
    },
    {
      "cell_type": "markdown",
      "source": [
        "# Detailed TNFP results"
      ],
      "metadata": {
        "id": "Em40SmMGUO-n"
      }
    },
    {
      "cell_type": "markdown",
      "source": [
        "### One-vs-All cluster comparison TNFP data"
      ],
      "metadata": {
        "id": "c5PT0mM7UV5G"
      }
    },
    {
      "cell_type": "code",
      "source": [
        "for i in range(0, len(exp_condition)):\n",
        "  print(i)\n",
        "  recap = results['cond_recap'][i].sort_values(by=['diff_vs_rest'], ascending=False)\n",
        "  recap['count'] = recap['count']/recap['count'].sum()\n",
        "  recap = recap.rename(columns={\"count\": \"size_prop\"})\n",
        "  recap = recap.drop(['n_error','c'], axis=1)\n",
        "\n",
        "  plt.figure(figsize=(10,4))\n",
        "  ax = sns.heatmap(recap, annot=True, center=0, cbar=False,\n",
        "                   cmap=sns.color_palette(\"vlag\", as_cmap=True), robust=True)\n",
        "  ax.set_title(re.sub(' +', ' ', results['cond_name'][i]))\n",
        "  ax.xaxis.tick_top()\n",
        "  ax.set(xlabel=\"\", ylabel=\"\")\n",
        "  ax.tick_params(axis='x', which='major', length=0)\n",
        "  ax.tick_params(axis='y', which='major', length=0)\n",
        "  ax.set_xticklabels(ax.get_xticklabels(), rotation=45, ha='left', rotation_mode='anchor')\n",
        "  plt.yticks(rotation='horizontal')\n",
        "  plt.savefig('TNFP_Kmeans_'+re.sub(' +', '', results['cond_name'][i])+'.png', bbox_inches='tight', pad_inches=0)\n",
        "  plt.show()"
      ],
      "metadata": {
        "id": "LMexenbIURp-"
      },
      "execution_count": null,
      "outputs": []
    },
    {
      "cell_type": "markdown",
      "source": [
        "t-SNE TNFP data"
      ],
      "metadata": {
        "id": "BlX-YOScUdpg"
      }
    },
    {
      "cell_type": "code",
      "source": [
        "for i in range(0, len(exp_condition)):\n",
        "  plt.figure(figsize=(10,7))\n",
        "  tsne_plot_wClusters(results['cond_res'][i], title = re.sub(' +', ' ', results['cond_name'][i]),\n",
        "                      alpha = 0.7, size = 50,\n",
        "          tsne_columns = REG_scaled + DUMMY_scaled + SHAP_REG_scaled + SHAP_DUMMY_scaled,\n",
        "          perplexity = 30, learning_rate = 200, n_iter = 250, fig_prefix='TNFP_Kmeans_tSNE_')"
      ],
      "metadata": {
        "id": "LPsn3n-zUf5f"
      },
      "execution_count": null,
      "outputs": []
    },
    {
      "cell_type": "markdown",
      "source": [
        "TPFN RESULTS"
      ],
      "metadata": {
        "id": "e1hRSai_Utwn"
      }
    }
  ]
}